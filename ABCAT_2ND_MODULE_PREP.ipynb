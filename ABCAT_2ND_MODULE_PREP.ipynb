{
  "nbformat": 4,
  "nbformat_minor": 0,
  "metadata": {
    "colab": {
      "provenance": [],
      "authorship_tag": "ABX9TyMV6fhw66ppg4Svg/a/cVXE",
      "include_colab_link": true
    },
    "kernelspec": {
      "name": "python3",
      "display_name": "Python 3"
    },
    "language_info": {
      "name": "python"
    }
  },
  "cells": [
    {
      "cell_type": "markdown",
      "metadata": {
        "id": "view-in-github",
        "colab_type": "text"
      },
      "source": [
        "<a href=\"https://colab.research.google.com/github/Tilak46-R/CODING-PRACTICE/blob/main/ABCAT_2ND_MODULE_PREP.ipynb\" target=\"_parent\"><img src=\"https://colab.research.google.com/assets/colab-badge.svg\" alt=\"Open In Colab\"/></a>"
      ]
    },
    {
      "cell_type": "markdown",
      "source": [
        "### **Write a program to find the factorial of a number using recursion.**"
      ],
      "metadata": {
        "id": "f1X8JoamJzOP"
      }
    },
    {
      "cell_type": "code",
      "execution_count": null,
      "metadata": {
        "id": "Et_wnHa5gsYi"
      },
      "outputs": [],
      "source": [
        "def factorial(n):\n",
        "  if n==0:\n",
        "    return 1\n",
        "  else:\n",
        "    return n * factorial(n-1)"
      ]
    },
    {
      "cell_type": "code",
      "source": [
        "factorial(5)"
      ],
      "metadata": {
        "colab": {
          "base_uri": "https://localhost:8080/"
        },
        "id": "k6-QC6t1YmDM",
        "outputId": "9f288604-d054-4c8a-c605-0ef9460a7e2f"
      },
      "execution_count": null,
      "outputs": [
        {
          "output_type": "execute_result",
          "data": {
            "text/plain": [
              "120"
            ]
          },
          "metadata": {},
          "execution_count": 2
        }
      ]
    },
    {
      "cell_type": "markdown",
      "source": [
        "### **Write a program to find the fibonacci of a number using recursion.**"
      ],
      "metadata": {
        "id": "a_O04uUJbWz9"
      }
    },
    {
      "cell_type": "code",
      "source": [
        "def fibonacci(n):\n",
        "  if n<=1:\n",
        "    return n\n",
        "  else:\n",
        "    return fibonacci(n-1) + fibonacci(n-2)\n",
        "\n",
        "num = int(input(\"Enter the number\"))\n",
        "\n",
        "if num<=0:\n",
        "  print(\"Enter a positive number\")\n",
        "else:\n",
        "  print(\"Fibonacci series\")\n",
        "  for i in range(num):\n",
        "    print(fibonacci(i))"
      ],
      "metadata": {
        "colab": {
          "base_uri": "https://localhost:8080/"
        },
        "id": "YEoHYnM1Ynvm",
        "outputId": "c4f18fc7-d0f3-4499-b008-b8d7a7414e60"
      },
      "execution_count": null,
      "outputs": [
        {
          "output_type": "stream",
          "name": "stdout",
          "text": [
            "Enter the number30\n",
            "Fibonacci series\n",
            "0\n",
            "1\n",
            "1\n",
            "2\n",
            "3\n",
            "5\n",
            "8\n",
            "13\n",
            "21\n",
            "34\n",
            "55\n",
            "89\n",
            "144\n",
            "233\n",
            "377\n",
            "610\n",
            "987\n",
            "1597\n",
            "2584\n",
            "4181\n",
            "6765\n",
            "10946\n",
            "17711\n",
            "28657\n",
            "46368\n",
            "75025\n",
            "121393\n",
            "196418\n",
            "317811\n",
            "514229\n"
          ]
        }
      ]
    },
    {
      "cell_type": "code",
      "source": [
        "fibonacci(1)\n",
        "\n"
      ],
      "metadata": {
        "colab": {
          "base_uri": "https://localhost:8080/"
        },
        "id": "F_-sAdDLZDdk",
        "outputId": "0e8d6f55-c959-4fe4-a106-a814ec065e3e"
      },
      "execution_count": null,
      "outputs": [
        {
          "output_type": "execute_result",
          "data": {
            "text/plain": [
              "1"
            ]
          },
          "metadata": {},
          "execution_count": 10
        }
      ]
    },
    {
      "cell_type": "code",
      "source": [
        "fibonacci(7)\n"
      ],
      "metadata": {
        "colab": {
          "base_uri": "https://localhost:8080/"
        },
        "id": "79psFW-LZLtA",
        "outputId": "f5d679bc-b25f-446e-a3bb-53c15d970a62"
      },
      "execution_count": null,
      "outputs": [
        {
          "output_type": "execute_result",
          "data": {
            "text/plain": [
              "13"
            ]
          },
          "metadata": {},
          "execution_count": 12
        }
      ]
    },
    {
      "cell_type": "markdown",
      "source": [
        "### **Write a program to find the sum of natural numbers up to n using recursion.**"
      ],
      "metadata": {
        "id": "jd9si-4wK9-J"
      }
    },
    {
      "cell_type": "code",
      "source": [
        "def sum_natural_number(n):\n",
        "  if n==1:\n",
        "    return 1\n",
        "  else:\n",
        "    return n + sum_natural_number(n-1)\n",
        "\n",
        "num = int(input(\"Enter a number: \"))\n",
        "\n",
        "if num<=0:\n",
        "  print(\"Enter a positive number\")\n",
        "else:\n",
        "  print(\"The number is\", num, \"and its sum is:\", sum_natural_number(num))"
      ],
      "metadata": {
        "colab": {
          "base_uri": "https://localhost:8080/"
        },
        "id": "mJZawzkfZN89",
        "outputId": "46a761ff-c26d-490d-c50b-5faeab1a1848"
      },
      "execution_count": null,
      "outputs": [
        {
          "output_type": "stream",
          "name": "stdout",
          "text": [
            "Enter a number: 33\n",
            "The number is 33 and its sum is: 561\n"
          ]
        }
      ]
    },
    {
      "cell_type": "code",
      "source": [
        "sum_natural_number(33)"
      ],
      "metadata": {
        "colab": {
          "base_uri": "https://localhost:8080/"
        },
        "id": "Z_NhKXUOaUda",
        "outputId": "033a1222-0578-4955-9284-f543366dd58a"
      },
      "execution_count": null,
      "outputs": [
        {
          "output_type": "execute_result",
          "data": {
            "text/plain": [
              "561"
            ]
          },
          "metadata": {},
          "execution_count": 16
        }
      ]
    },
    {
      "cell_type": "markdown",
      "source": [
        "### **Write a program to find all possible permutations of a given string using recursion.**"
      ],
      "metadata": {
        "id": "MAYL6JQpLtrY"
      }
    },
    {
      "cell_type": "code",
      "source": [
        "def permutations(string,left,right):\n",
        "  if left == right:\n",
        "    print(\"\".join(string))\n",
        "  else:\n",
        "    for i in range(left,right+1):\n",
        "      string[left],string[i]=string[i],string[left]\n",
        "      permutations(string,left+1,right)\n",
        "      string[left],string[i]=string[i],string[left]\n",
        "\n",
        "str = input(\"enter the string\")\n",
        "\n",
        "permutations(list(str), 0, len(str)-1)"
      ],
      "metadata": {
        "colab": {
          "base_uri": "https://localhost:8080/"
        },
        "id": "4Hy14CPZcP4y",
        "outputId": "42a8f711-6069-447a-af9a-c8a7f50ccf49"
      },
      "execution_count": null,
      "outputs": [
        {
          "output_type": "stream",
          "name": "stdout",
          "text": [
            "enter the stringaba\n",
            "aba\n",
            "aab\n",
            "baa\n",
            "baa\n",
            "aba\n",
            "aab\n"
          ]
        }
      ]
    },
    {
      "cell_type": "markdown",
      "source": [
        "### **Write a program to find the nth term in the Tribonacci sequence using recursion.**"
      ],
      "metadata": {
        "id": "oPbc7_6uMBgO"
      }
    },
    {
      "cell_type": "code",
      "source": [
        "def tribonacci(n):\n",
        "  if n ==0 or n==1:\n",
        "    return 0\n",
        "  elif n==2:\n",
        "    return 1\n",
        "  else:\n",
        "    return tribonacci(n-1) + tribonacci(n-2) + tribonacci(n-3)"
      ],
      "metadata": {
        "id": "wEUFUHHhehWw"
      },
      "execution_count": null,
      "outputs": []
    },
    {
      "cell_type": "code",
      "source": [
        "tribonacci(7)"
      ],
      "metadata": {
        "colab": {
          "base_uri": "https://localhost:8080/"
        },
        "id": "FOPjo1RoewDE",
        "outputId": "1685a429-7645-4cec-f5d6-c57399ff4bda"
      },
      "execution_count": null,
      "outputs": [
        {
          "output_type": "execute_result",
          "data": {
            "text/plain": [
              "13"
            ]
          },
          "metadata": {},
          "execution_count": 33
        }
      ]
    },
    {
      "cell_type": "code",
      "source": [
        "import random\n",
        "\n",
        "dice = random.randint(1,6)\n",
        "print(dice)"
      ],
      "metadata": {
        "id": "ZaWiwOXEexmZ",
        "colab": {
          "base_uri": "https://localhost:8080/"
        },
        "outputId": "ec918532-bda9-461e-8c71-383be862a0cb"
      },
      "execution_count": null,
      "outputs": [
        {
          "output_type": "stream",
          "name": "stdout",
          "text": [
            "1\n"
          ]
        }
      ]
    },
    {
      "cell_type": "markdown",
      "source": [
        "Write a Python program that checks whether every even index contains an even number and every odd index contains an odd number of a given list."
      ],
      "metadata": {
        "id": "2V5hJN8hqnHq"
      }
    },
    {
      "cell_type": "code",
      "source": [
        "def odd_even_position(nums):\n",
        "    return all(nums[i]%2==i%2 for i in range(len(nums)))\n",
        "\n",
        "nums = eval(input())\n",
        "print(odd_even_position(nums))"
      ],
      "metadata": {
        "colab": {
          "base_uri": "https://localhost:8080/"
        },
        "id": "B0QFc8tmoV2g",
        "outputId": "8b188df7-647f-4b50-9c3c-1d241eae2dd0"
      },
      "execution_count": null,
      "outputs": [
        {
          "output_type": "stream",
          "name": "stdout",
          "text": [
            "[2, 1, 4, 3, 6, 7, 6, 3]\n",
            "True\n"
          ]
        }
      ]
    },
    {
      "cell_type": "markdown",
      "source": [
        "Write a Python program to compute the cumulative sum of numbers in a given list. Note: Cumulative sum = sum of itself + all previous numbers in the said list.\n",
        "\n",
        "Example 1:"
      ],
      "metadata": {
        "id": "12lwSp85sHI3"
      }
    },
    {
      "cell_type": "code",
      "source": [
        "lst = eval(input())\n",
        "\n",
        "sum=0\n",
        "\n",
        "for i in range(len(lst)):\n",
        "   sum = sum + lst[i]\n",
        "print(sum)"
      ],
      "metadata": {
        "colab": {
          "base_uri": "https://localhost:8080/"
        },
        "id": "nCo4TCwZsHr9",
        "outputId": "54c591b8-6e1c-4323-9b18-3af77e759ea1"
      },
      "execution_count": null,
      "outputs": [
        {
          "output_type": "stream",
          "name": "stdout",
          "text": [
            "[10, 20, 30, 40, 50, 60, 7]\n",
            "217\n"
          ]
        }
      ]
    },
    {
      "cell_type": "code",
      "source": [
        "def sum(lst):\n",
        "  return [sum(lst[:i+1]) for i in range(len(lst))]"
      ],
      "metadata": {
        "id": "P02_ocBvYrx1"
      },
      "execution_count": null,
      "outputs": []
    },
    {
      "cell_type": "markdown",
      "source": [
        "Difference between 2 lists\n",
        "Hard\n",
        "Write a Python program to calculate the difference between the two lists."
      ],
      "metadata": {
        "id": "wihRs0P8wojF"
      }
    },
    {
      "cell_type": "code",
      "source": [
        "list1 = eval(input())\n",
        "list2= eval(input())\n",
        "\n",
        "list3 = list(set(list1) - set(list2))\n",
        "list4=list(set(list2) - set(list1))\n",
        "\n",
        "list5 = list3 + list4\n",
        "print(list5)"
      ],
      "metadata": {
        "colab": {
          "base_uri": "https://localhost:8080/"
        },
        "id": "ByBF7TypvLh9",
        "outputId": "bea8b0e1-5707-44f0-80b3-3b92b6887a2a"
      },
      "execution_count": null,
      "outputs": [
        {
          "output_type": "stream",
          "name": "stdout",
          "text": [
            "[1, 3, 5, 7, 9]\n",
            "[1, 2, 4, 6, 7, 8]\n",
            "[9, 3, 5, 8, 2, 4, 6]\n"
          ]
        }
      ]
    },
    {
      "cell_type": "markdown",
      "source": [
        "In a maths competition, the Armstrong award would be presented to the one who would first tell the Armstrong number among all given numbers. Thus, write a program for Sam in Python to help him won the award.\n",
        "\n",
        "What is Armstrong Number?\n",
        "\n",
        "It is a number which is equal to the sum of cube of its digits. For eg: 153, 370 etc.\n",
        "\n",
        "Let's take 153 for an example\n",
        "\n",
        "First calculate the cube of its each digits\n",
        "\n",
        "1^3 = (1 * 1 * 1) = 1\n",
        "\n",
        "5^3 = (5 * 5 * 5) = 125\n",
        "\n",
        "3^3= (3 * 3 * 3) = 27\n",
        "\n",
        "Now add the cube\n",
        "\n",
        "1+125+27 = 153\n",
        "\n",
        "It means 153 is an Armstrong Number."
      ],
      "metadata": {
        "id": "nWOokrY_SJDK"
      }
    },
    {
      "cell_type": "code",
      "source": [
        "arm = int(input())\n",
        "\n",
        "num1 = int(input())\n",
        "num2 = int(input())\n",
        "num3= int(input())\n",
        "\n",
        "cube = (num1)**3 + (num2)**3 +(num3)**3\n",
        "print(cube)\n",
        "\n",
        "if cube ==arm:\n",
        "    print(\"Number is Armstrong \")\n",
        "else:\n",
        "    print(\"Number is not an Armstrong\")"
      ],
      "metadata": {
        "colab": {
          "base_uri": "https://localhost:8080/"
        },
        "id": "Yujs19CRSFY6",
        "outputId": "1a3d429a-6036-44f4-976b-5ed5af91ccfb"
      },
      "execution_count": null,
      "outputs": [
        {
          "output_type": "stream",
          "name": "stdout",
          "text": [
            "370\n",
            "3\n",
            "7\n",
            "0\n",
            "370\n",
            "Number is Armstrong \n"
          ]
        }
      ]
    },
    {
      "cell_type": "code",
      "source": [
        "numbers = eval(input())\n",
        "\n",
        "for num in numbers:\n",
        "    if num == 237:\n",
        "        print(num)\n",
        "        break;\n",
        "    elif num%2==0:\n",
        "        print(num)\n"
      ],
      "metadata": {
        "colab": {
          "base_uri": "https://localhost:8080/"
        },
        "id": "H2kXsfSPTZ1f",
        "outputId": "a38da2b5-0af0-4baf-b89d-29bedb3b3e7d"
      },
      "execution_count": null,
      "outputs": [
        {
          "output_type": "stream",
          "name": "stdout",
          "text": [
            "[386, 462, 47, 418, 907, 344, 236, 375, 823, 566, 597, 978, 328, 615, 953, 345, 399, 162, 758, 219, 918, 237, 412, 566, 826, 248, 866, 950, 626, 949, 687, 217, 815, 67, 104, 58, 512, 24, 892, 894, 767, 553, 81, 379, 843, 831, 445, 742, 717, 958,743, 527]\n",
            "386\n",
            "462\n",
            "418\n",
            "344\n",
            "236\n",
            "566\n",
            "978\n",
            "328\n",
            "162\n",
            "758\n",
            "918\n",
            "237\n"
          ]
        }
      ]
    },
    {
      "cell_type": "code",
      "source": [
        "lst = eval(input())\n",
        "count = 0\n",
        "\n",
        "for num in lst:\n",
        "    if num == 4:\n",
        "        count = count + 1"
      ],
      "metadata": {
        "colab": {
          "base_uri": "https://localhost:8080/"
        },
        "id": "rYQEc9xxW1FU",
        "outputId": "d1c05973-5606-46d3-bcf4-a0b6a8d2e8a3"
      },
      "execution_count": null,
      "outputs": [
        {
          "name": "stdout",
          "output_type": "stream",
          "text": [
            "[1, 4, 6, 7, 4]\n"
          ]
        }
      ]
    },
    {
      "cell_type": "markdown",
      "source": [
        "Write a Python program that checks whether every even index contains an even number and every odd index contains an odd number of a given list."
      ],
      "metadata": {
        "id": "z88xM9nFXJPt"
      }
    },
    {
      "cell_type": "code",
      "source": [
        "lst = [2, 1, 4, 3, 6, 7, 6, 3]\n",
        "\n",
        "for i in range(len(lst)):\n",
        "  if lst[i]%2== i%2:\n",
        "    print(\"True\")\n",
        "  else:\n",
        "    print(\"False\")\n",
        "\n",
        "\n"
      ],
      "metadata": {
        "colab": {
          "base_uri": "https://localhost:8080/"
        },
        "id": "jO6GcNUmW1ES",
        "outputId": "1a4f22d7-e13a-410a-8734-be3d2d71c7bd"
      },
      "execution_count": null,
      "outputs": [
        {
          "output_type": "stream",
          "name": "stdout",
          "text": [
            "True\n",
            "True\n",
            "True\n",
            "True\n",
            "True\n",
            "True\n",
            "True\n",
            "True\n"
          ]
        }
      ]
    },
    {
      "cell_type": "code",
      "source": [
        "def odd_even_position(num):\n",
        "  return all(num[i]%2==i%2 for i in range(len(lst)))"
      ],
      "metadata": {
        "id": "sfDJDCwyXqxD"
      },
      "execution_count": null,
      "outputs": []
    },
    {
      "cell_type": "code",
      "source": [
        "lst = [2, 1, 4, 3, 6, 7, 6, 3]\n",
        "odd_even_position(lst)"
      ],
      "metadata": {
        "colab": {
          "base_uri": "https://localhost:8080/"
        },
        "id": "Q7ioMwSJXqwR",
        "outputId": "b569a3cd-cd3d-4cf0-dbb7-ad61295a0b54"
      },
      "execution_count": null,
      "outputs": [
        {
          "output_type": "execute_result",
          "data": {
            "text/plain": [
              "True"
            ]
          },
          "metadata": {},
          "execution_count": 15
        }
      ]
    },
    {
      "cell_type": "code",
      "source": [
        "lst = [1, 1, 4, 3, 6, 7, 6, 3]\n",
        "odd_even_position(lst)"
      ],
      "metadata": {
        "colab": {
          "base_uri": "https://localhost:8080/"
        },
        "id": "5eKKF5b2YXC7",
        "outputId": "7701d2a0-55aa-46c7-e305-312197c59c8a"
      },
      "execution_count": null,
      "outputs": [
        {
          "output_type": "execute_result",
          "data": {
            "text/plain": [
              "False"
            ]
          },
          "metadata": {},
          "execution_count": 16
        }
      ]
    },
    {
      "cell_type": "markdown",
      "source": [
        "Sum of two equals k\n",
        "Hard\n",
        "Given a list of numbers and a number k, write a Python program to check whether the sum of any two numbers from the list is equal to k or not. For example, given [1, 5, 11, 5] and k = 16, return true since 11 + 5 is 16."
      ],
      "metadata": {
        "id": "4LlKiTrfcpqb"
      }
    },
    {
      "cell_type": "code",
      "source": [
        "def check_sum(nums, k):\n",
        "    for i in range(len(nums)):\n",
        "        for j in range(i+1, len(nums)):\n",
        "            if nums[i] + nums[j] == k:\n",
        "                return True\n",
        "    return False\n",
        "\n",
        "lst = eval(input())\n",
        "n = int(input())\n",
        "print(check_sum(lst, n))"
      ],
      "metadata": {
        "colab": {
          "base_uri": "https://localhost:8080/"
        },
        "id": "eYqQgkrIcqw4",
        "outputId": "128d1b0f-6f69-4f92-d6ff-d53f20fb1606"
      },
      "execution_count": null,
      "outputs": [
        {
          "output_type": "stream",
          "name": "stdout",
          "text": [
            "[12, 5, 0, 5]\n",
            "10\n",
            "True\n"
          ]
        }
      ]
    },
    {
      "cell_type": "code",
      "source": [
        "lst = eval(input())\n",
        "\n",
        "lst = str(lst)\n",
        "\n",
        "new_list = lst.split(\",\")\n",
        "\n",
        "new_list = list(new_list)\n",
        "\n",
        "new_lst = sum(new_list)\n",
        "\n",
        "print(new_lst)"
      ],
      "metadata": {
        "colab": {
          "base_uri": "https://localhost:8080/",
          "height": 356
        },
        "id": "W3Rz1VXveRnc",
        "outputId": "f60dfd3f-ddcc-41a6-be0f-cd11aa18e0de"
      },
      "execution_count": null,
      "outputs": [
        {
          "name": "stdout",
          "output_type": "stream",
          "text": [
            "[1, 5, 12, 2]\n"
          ]
        },
        {
          "output_type": "error",
          "ename": "RecursionError",
          "evalue": "maximum recursion depth exceeded",
          "traceback": [
            "\u001b[0;31m---------------------------------------------------------------------------\u001b[0m",
            "\u001b[0;31mRecursionError\u001b[0m                            Traceback (most recent call last)",
            "\u001b[0;32m<ipython-input-25-890bdf3fc932>\u001b[0m in \u001b[0;36m<cell line: 9>\u001b[0;34m()\u001b[0m\n\u001b[1;32m      7\u001b[0m \u001b[0mnew_list\u001b[0m \u001b[0;34m=\u001b[0m \u001b[0mlist\u001b[0m\u001b[0;34m(\u001b[0m\u001b[0mnew_list\u001b[0m\u001b[0;34m)\u001b[0m\u001b[0;34m\u001b[0m\u001b[0;34m\u001b[0m\u001b[0m\n\u001b[1;32m      8\u001b[0m \u001b[0;34m\u001b[0m\u001b[0m\n\u001b[0;32m----> 9\u001b[0;31m \u001b[0mnew_lst\u001b[0m \u001b[0;34m=\u001b[0m \u001b[0msum\u001b[0m\u001b[0;34m(\u001b[0m\u001b[0mnew_list\u001b[0m\u001b[0;34m)\u001b[0m\u001b[0;34m\u001b[0m\u001b[0;34m\u001b[0m\u001b[0m\n\u001b[0m\u001b[1;32m     10\u001b[0m \u001b[0;34m\u001b[0m\u001b[0m\n\u001b[1;32m     11\u001b[0m \u001b[0mprint\u001b[0m\u001b[0;34m(\u001b[0m\u001b[0mnew_lst\u001b[0m\u001b[0;34m)\u001b[0m\u001b[0;34m\u001b[0m\u001b[0;34m\u001b[0m\u001b[0m\n",
            "\u001b[0;32m<ipython-input-19-34cf36f7ae9f>\u001b[0m in \u001b[0;36msum\u001b[0;34m(lst)\u001b[0m\n\u001b[1;32m      1\u001b[0m \u001b[0;32mdef\u001b[0m \u001b[0msum\u001b[0m\u001b[0;34m(\u001b[0m\u001b[0mlst\u001b[0m\u001b[0;34m)\u001b[0m\u001b[0;34m:\u001b[0m\u001b[0;34m\u001b[0m\u001b[0;34m\u001b[0m\u001b[0m\n\u001b[0;32m----> 2\u001b[0;31m   \u001b[0;32mreturn\u001b[0m \u001b[0;34m[\u001b[0m\u001b[0msum\u001b[0m\u001b[0;34m(\u001b[0m\u001b[0mlst\u001b[0m\u001b[0;34m[\u001b[0m\u001b[0;34m:\u001b[0m\u001b[0mi\u001b[0m\u001b[0;34m+\u001b[0m\u001b[0;36m1\u001b[0m\u001b[0;34m]\u001b[0m\u001b[0;34m)\u001b[0m \u001b[0;32mfor\u001b[0m \u001b[0mi\u001b[0m \u001b[0;32min\u001b[0m \u001b[0mrange\u001b[0m\u001b[0;34m(\u001b[0m\u001b[0mlen\u001b[0m\u001b[0;34m(\u001b[0m\u001b[0mlst\u001b[0m\u001b[0;34m)\u001b[0m\u001b[0;34m)\u001b[0m\u001b[0;34m]\u001b[0m\u001b[0;34m\u001b[0m\u001b[0;34m\u001b[0m\u001b[0m\n\u001b[0m",
            "\u001b[0;32m<ipython-input-19-34cf36f7ae9f>\u001b[0m in \u001b[0;36m<listcomp>\u001b[0;34m(.0)\u001b[0m\n\u001b[1;32m      1\u001b[0m \u001b[0;32mdef\u001b[0m \u001b[0msum\u001b[0m\u001b[0;34m(\u001b[0m\u001b[0mlst\u001b[0m\u001b[0;34m)\u001b[0m\u001b[0;34m:\u001b[0m\u001b[0;34m\u001b[0m\u001b[0;34m\u001b[0m\u001b[0m\n\u001b[0;32m----> 2\u001b[0;31m   \u001b[0;32mreturn\u001b[0m \u001b[0;34m[\u001b[0m\u001b[0msum\u001b[0m\u001b[0;34m(\u001b[0m\u001b[0mlst\u001b[0m\u001b[0;34m[\u001b[0m\u001b[0;34m:\u001b[0m\u001b[0mi\u001b[0m\u001b[0;34m+\u001b[0m\u001b[0;36m1\u001b[0m\u001b[0;34m]\u001b[0m\u001b[0;34m)\u001b[0m \u001b[0;32mfor\u001b[0m \u001b[0mi\u001b[0m \u001b[0;32min\u001b[0m \u001b[0mrange\u001b[0m\u001b[0;34m(\u001b[0m\u001b[0mlen\u001b[0m\u001b[0;34m(\u001b[0m\u001b[0mlst\u001b[0m\u001b[0;34m)\u001b[0m\u001b[0;34m)\u001b[0m\u001b[0;34m]\u001b[0m\u001b[0;34m\u001b[0m\u001b[0;34m\u001b[0m\u001b[0m\n\u001b[0m",
            "... last 2 frames repeated, from the frame below ...\n",
            "\u001b[0;32m<ipython-input-19-34cf36f7ae9f>\u001b[0m in \u001b[0;36msum\u001b[0;34m(lst)\u001b[0m\n\u001b[1;32m      1\u001b[0m \u001b[0;32mdef\u001b[0m \u001b[0msum\u001b[0m\u001b[0;34m(\u001b[0m\u001b[0mlst\u001b[0m\u001b[0;34m)\u001b[0m\u001b[0;34m:\u001b[0m\u001b[0;34m\u001b[0m\u001b[0;34m\u001b[0m\u001b[0m\n\u001b[0;32m----> 2\u001b[0;31m   \u001b[0;32mreturn\u001b[0m \u001b[0;34m[\u001b[0m\u001b[0msum\u001b[0m\u001b[0;34m(\u001b[0m\u001b[0mlst\u001b[0m\u001b[0;34m[\u001b[0m\u001b[0;34m:\u001b[0m\u001b[0mi\u001b[0m\u001b[0;34m+\u001b[0m\u001b[0;36m1\u001b[0m\u001b[0;34m]\u001b[0m\u001b[0;34m)\u001b[0m \u001b[0;32mfor\u001b[0m \u001b[0mi\u001b[0m \u001b[0;32min\u001b[0m \u001b[0mrange\u001b[0m\u001b[0;34m(\u001b[0m\u001b[0mlen\u001b[0m\u001b[0;34m(\u001b[0m\u001b[0mlst\u001b[0m\u001b[0;34m)\u001b[0m\u001b[0;34m)\u001b[0m\u001b[0;34m]\u001b[0m\u001b[0;34m\u001b[0m\u001b[0;34m\u001b[0m\u001b[0m\n\u001b[0m",
            "\u001b[0;31mRecursionError\u001b[0m: maximum recursion depth exceeded"
          ]
        }
      ]
    },
    {
      "cell_type": "code",
      "source": [
        "lst = eval(input())\n",
        "result = \"\"\n",
        "\n",
        "for num in lst:\n",
        "  result += str(num)\n",
        "print(result)"
      ],
      "metadata": {
        "colab": {
          "base_uri": "https://localhost:8080/"
        },
        "id": "QI01VK1hfydc",
        "outputId": "8ede8eb7-d8be-4f8a-a100-b7bcd2e7ba21"
      },
      "execution_count": null,
      "outputs": [
        {
          "output_type": "stream",
          "name": "stdout",
          "text": [
            "[1, 5, 12, 2]\n",
            "15122\n"
          ]
        }
      ]
    },
    {
      "cell_type": "markdown",
      "source": [
        "Write a Python program to get numbers divisible by fifteen from a list using an anonymous function."
      ],
      "metadata": {
        "id": "3_0vn_4PkAwV"
      }
    },
    {
      "cell_type": "code",
      "source": [
        "lst = eval(input())\n",
        "new_list = []\n",
        "for num in lst:\n",
        "  if num%15==0:\n",
        "    new_list.append(num)\n",
        "print(new_list)\n"
      ],
      "metadata": {
        "colab": {
          "base_uri": "https://localhost:8080/"
        },
        "id": "PPngQsZmiLxs",
        "outputId": "4ee4a4dc-112b-4608-ac5c-6b7e0180b4db"
      },
      "execution_count": null,
      "outputs": [
        {
          "output_type": "stream",
          "name": "stdout",
          "text": [
            "[45, 55, 60, 37, 100, 105, 220]\n",
            "[45, 60, 105]\n"
          ]
        }
      ]
    },
    {
      "cell_type": "code",
      "source": [
        "num_list = eval(input())\n",
        "result = list(filter(lambda x : (x%15==0), num_list))\n",
        "result"
      ],
      "metadata": {
        "colab": {
          "base_uri": "https://localhost:8080/"
        },
        "id": "_pruJbPeipxe",
        "outputId": "d3beb383-60c0-49f0-9785-85f64a335a49"
      },
      "execution_count": null,
      "outputs": [
        {
          "name": "stdout",
          "output_type": "stream",
          "text": [
            "[45, 55, 60, 37, 100, 105, 220]\n"
          ]
        },
        {
          "output_type": "execute_result",
          "data": {
            "text/plain": [
              "[45, 60, 105]"
            ]
          },
          "metadata": {},
          "execution_count": 39
        }
      ]
    },
    {
      "cell_type": "markdown",
      "source": [
        "Write a Python program to compute the product of a list of integers (without using a for loop)."
      ],
      "metadata": {
        "id": "UrxEP2i7kCtM"
      }
    },
    {
      "cell_type": "code",
      "source": [
        "nums = eval(input())\n",
        "\n",
        "prod = nums[0]*nums[1]*nums[2]\n",
        "print(prod)"
      ],
      "metadata": {
        "colab": {
          "base_uri": "https://localhost:8080/"
        },
        "id": "V8687ZYMjx1t",
        "outputId": "29ce79e6-7af7-4f41-c860-cc20a2bc1fa9"
      },
      "execution_count": null,
      "outputs": [
        {
          "output_type": "stream",
          "name": "stdout",
          "text": [
            "[10, 20, 30]\n",
            "6000\n"
          ]
        }
      ]
    },
    {
      "cell_type": "code",
      "source": [
        "from functools import reduce\n",
        "nums = eval(input())\n",
        "result = reduce((lambda x,y : x*y), nums)\n",
        "result"
      ],
      "metadata": {
        "colab": {
          "base_uri": "https://localhost:8080/"
        },
        "id": "w9Sj-xH8kFlI",
        "outputId": "82255c8a-a2a3-4e1e-94af-e4ee217c77b3"
      },
      "execution_count": null,
      "outputs": [
        {
          "name": "stdout",
          "output_type": "stream",
          "text": [
            "[10, 20, 30]\n"
          ]
        },
        {
          "output_type": "execute_result",
          "data": {
            "text/plain": [
              "6000"
            ]
          },
          "metadata": {},
          "execution_count": 42
        }
      ]
    },
    {
      "cell_type": "markdown",
      "source": [
        "Write a Python program to convert GPAs to letter grades according to the following table:\n",
        "\n",
        "GPAs Grades 4.0: A+ 3.7: A 3.4: A- 3.0: B+ 2.7: B 2.4: B- 2.0: C+ 1.7: C 1.4: C- below: F"
      ],
      "metadata": {
        "id": "lzyGTlussaDn"
      }
    },
    {
      "cell_type": "code",
      "source": [
        "def grades(grade):\n",
        "    if grade >= 4.0:\n",
        "        return 'A+'\n",
        "    elif grade >= 3.7:\n",
        "        return 'A'\n",
        "    elif grade >= 3.4:\n",
        "        return 'A-'\n",
        "    elif grade >= 3.0:\n",
        "        return 'B+'\n",
        "    elif grade >= 2.7:\n",
        "        return 'B'\n",
        "    elif grade >= 2.4:\n",
        "        return 'B-'\n",
        "    elif grade >= 2.0:\n",
        "        return 'C+'\n",
        "    elif grade >= 1.7:\n",
        "        return 'C'\n",
        "    elif grade >= 1.4:\n",
        "        return 'C-'\n",
        "    else:\n",
        "        return \"Fail\"\n",
        "\n",
        "\n",
        "nums = float(input())\n",
        "print(grades(nums))"
      ],
      "metadata": {
        "colab": {
          "base_uri": "https://localhost:8080/"
        },
        "id": "cm0N6dVNrjeN",
        "outputId": "e7c04e28-ef2c-4528-b801-6b2dcc148406"
      },
      "execution_count": null,
      "outputs": [
        {
          "output_type": "stream",
          "name": "stdout",
          "text": [
            "1.5\n",
            "C-\n"
          ]
        }
      ]
    },
    {
      "cell_type": "markdown",
      "source": [
        "Write a Python program that reads two integers representing a month and day and prints the season for that month and day."
      ],
      "metadata": {
        "id": "y3lrNfBQsdNH"
      }
    },
    {
      "cell_type": "code",
      "source": [
        "month = input()\n",
        "\n",
        "if month in ('December','January', 'February'):\n",
        "  print(\"Season is Winter\")\n",
        "elif month in ('March','April', 'May'):\n",
        "  print(\"Season is Spring\")\n",
        "elif month in ('June','July', 'August'):\n",
        "  print(\"Season is Summer\")\n",
        "elif month in ('September', 'October', 'November'):\n",
        "  print(\"Season is Autumn\")\n",
        "else:\n",
        "  print('Invalid month!')"
      ],
      "metadata": {
        "colab": {
          "base_uri": "https://localhost:8080/"
        },
        "id": "s-8qQaUmsdqA",
        "outputId": "325093db-3369-461d-e47b-8c4ca9d0f72d"
      },
      "execution_count": null,
      "outputs": [
        {
          "output_type": "stream",
          "name": "stdout",
          "text": [
            "April\n",
            "Season is Spring\n"
          ]
        }
      ]
    },
    {
      "cell_type": "markdown",
      "source": [
        "Write a Python program to convert a list of characters into a string."
      ],
      "metadata": {
        "id": "hk9XM_i2slc-"
      }
    },
    {
      "cell_type": "code",
      "source": [
        "s = eval(input())\n",
        "res = \"\"\n",
        "\n",
        "for char in s:\n",
        "    res+=char\n",
        "print(res)\n"
      ],
      "metadata": {
        "colab": {
          "base_uri": "https://localhost:8080/"
        },
        "id": "DccZoQFVsfsG",
        "outputId": "1d67a377-f46a-48bf-8ba2-f63fad26e355"
      },
      "execution_count": null,
      "outputs": [
        {
          "output_type": "stream",
          "name": "stdout",
          "text": [
            "['p','y','t','h','o','n']\n",
            "python\n"
          ]
        }
      ]
    },
    {
      "cell_type": "markdown",
      "source": [
        "Write a Python program to calculate the median from a list of numbers."
      ],
      "metadata": {
        "id": "1unf2PgOszuM"
      }
    },
    {
      "cell_type": "code",
      "source": [
        "def cal_median(nums):\n",
        "    nums.sort()\n",
        "    n=len(nums)\n",
        "    m=n//2\n",
        "    if n%2==0:\n",
        "        return(nums[m-1] + nums[m])/2\n",
        "    else:\n",
        "        return nums[m]\n",
        "\n",
        "lst = eval(input())\n",
        "print(cal_median(lst))"
      ],
      "metadata": {
        "colab": {
          "base_uri": "https://localhost:8080/"
        },
        "id": "7-rm3b9DsoR7",
        "outputId": "7cb84db8-aa8c-40e4-fc40-7b5d8cfeefc6"
      },
      "execution_count": null,
      "outputs": [
        {
          "output_type": "stream",
          "name": "stdout",
          "text": [
            "[1,2,3,4,5]\n",
            "3\n"
          ]
        }
      ]
    },
    {
      "cell_type": "markdown",
      "source": [
        "LINEAR SEARCH"
      ],
      "metadata": {
        "id": "Q6atYldKHmFb"
      }
    },
    {
      "cell_type": "code",
      "source": [
        "def linear_search(arr,target):\n",
        "  for i in range(len(arr)):\n",
        "    if arr[i] == target:\n",
        "      return i\n",
        "\n",
        "  return -1\n",
        "\n",
        "\n",
        "arr = [1,2,3,4,5,6,7]\n",
        "target = 7\n",
        "\n",
        "result = linear_search(arr,target)\n",
        "\n",
        "if result != -1:\n",
        "  print(f\"The target element {target} is found as {result} index\")\n",
        "else:\n",
        "  print(\"Target not in array\")"
      ],
      "metadata": {
        "id": "7P4nPQ3ds0tV",
        "colab": {
          "base_uri": "https://localhost:8080/"
        },
        "outputId": "46ae8594-8755-4989-e984-61f9ae0681f2"
      },
      "execution_count": null,
      "outputs": [
        {
          "output_type": "stream",
          "name": "stdout",
          "text": [
            "The target element 7 is found as 6 index\n"
          ]
        }
      ]
    },
    {
      "cell_type": "code",
      "source": [
        "def recursive_linear_search(arr,target,start_index=0):\n",
        "  if start_index >= len(arr):\n",
        "    return -1\n",
        "\n",
        "  elif arr[start_index] == target:\n",
        "    return start_index\n",
        "\n",
        "  return recursive_linear_search(arr,target,start_index+1)\n",
        "\n",
        "# Example usage:\n",
        "arr = [4, 2, 7, 1, 9, 5]\n",
        "target_element = 7\n",
        "\n",
        "result = recursive_linear_search(arr,target_element)\n",
        "\n",
        "if result != -1:\n",
        "  print(f\"The target element {target_element} is found at {result} index\")\n",
        "else:\n",
        "  print(\"Target not found\")"
      ],
      "metadata": {
        "colab": {
          "base_uri": "https://localhost:8080/"
        },
        "id": "jiUwyMB8I3Ev",
        "outputId": "f9883dd3-3843-499f-d0eb-d8db4f4a187f"
      },
      "execution_count": null,
      "outputs": [
        {
          "output_type": "stream",
          "name": "stdout",
          "text": [
            "The target element 7 is found at 2 index\n"
          ]
        }
      ]
    },
    {
      "cell_type": "code",
      "source": [
        "def count_paths(row,col,m,n):\n",
        "  if row == m-1 and col == n-1:\n",
        "    return 1\n",
        "\n",
        "  if row>=m or col >=n:\n",
        "    return 0\n",
        "\n",
        "  right_path_count = count_paths(row, col + 1, m, n)\n",
        "  down_path_count = count_paths(row + 1, col, m, n)\n",
        "\n",
        "  return right_path_count + down_path_count\n",
        "\n",
        "\n",
        "# Example usage:\n",
        "\n",
        "m, n = 3, 3  # Dimensions of the grid\n",
        "total_paths = count_paths(0, 0, m, n)\n",
        "\n",
        "print(f\"The total number of paths in a {m}x{n} grid is: {total_paths}\")\n",
        "\n"
      ],
      "metadata": {
        "colab": {
          "base_uri": "https://localhost:8080/"
        },
        "id": "ACN88lCBKMS2",
        "outputId": "66b515ba-d535-4598-c39a-95ca77fcff8d"
      },
      "execution_count": null,
      "outputs": [
        {
          "output_type": "stream",
          "name": "stdout",
          "text": [
            "The total number of paths in a 3x3 grid is: 6\n"
          ]
        }
      ]
    },
    {
      "cell_type": "code",
      "source": [
        "def factorial(n):\n",
        "    if n== 0:\n",
        "        return 1\n",
        "    else:\n",
        "        return n * factorial(n-1)\n",
        "\n",
        "# Example usage:\n",
        "result = factorial(5)\n",
        "print(result)"
      ],
      "metadata": {
        "colab": {
          "base_uri": "https://localhost:8080/"
        },
        "id": "kcyXV_sBMSzZ",
        "outputId": "66f914ce-2481-4c37-ab90-c55639f94f35"
      },
      "execution_count": null,
      "outputs": [
        {
          "output_type": "stream",
          "name": "stdout",
          "text": [
            "120\n"
          ]
        }
      ]
    },
    {
      "cell_type": "markdown",
      "source": [
        "Subsequences:\n",
        "\n",
        "In computer science, a subsequence is a sequence that can be derived from the original sequence by deleting some or none of the elements without changing the order of the remaining elements. For example, if we have a sequence [1, 2, 3], some of its subsequences are [1, 2], [2, 3], [1, 3], [1, 2, 3], [] (the empty sequence), and so on.\n",
        "\n",
        "In the given problem, we are asked to find the sum of all possible subsequences of a given sequence. The total number of possible subsequences of a sequence is 2^n, where n is the length of the sequence. Therefore, finding the sum of all possible subsequences of a sequence can be a challenging problem, and the recursive algorithm described above is one way to solve it using recursion."
      ],
      "metadata": {
        "id": "_e7rWSBGNFc0"
      }
    },
    {
      "cell_type": "code",
      "source": [
        "def subsequence_sum(seq):\n",
        "    if not seq:\n",
        "        return 0\n",
        "    else:\n",
        "        return subsequence_sum(seq[1:]) + seq[0] + subsequence_sum(seq[1:])"
      ],
      "metadata": {
        "id": "lXWkUXA8NGHM"
      },
      "execution_count": null,
      "outputs": []
    },
    {
      "cell_type": "code",
      "source": [
        "subsequence_sum([1,2])"
      ],
      "metadata": {
        "colab": {
          "base_uri": "https://localhost:8080/"
        },
        "id": "GXG11ZTENK3s",
        "outputId": "1d0f7768-bfea-4378-b937-5054b56646a7"
      },
      "execution_count": null,
      "outputs": [
        {
          "output_type": "execute_result",
          "data": {
            "text/plain": [
              "5"
            ]
          },
          "metadata": {},
          "execution_count": 16
        }
      ]
    },
    {
      "cell_type": "code",
      "source": [
        "subsequence_sum([1,2,3])"
      ],
      "metadata": {
        "colab": {
          "base_uri": "https://localhost:8080/"
        },
        "id": "AIoYr2-TNM-b",
        "outputId": "d278b89b-9c82-475e-cdff-a36c279b0b95"
      },
      "execution_count": null,
      "outputs": [
        {
          "output_type": "execute_result",
          "data": {
            "text/plain": [
              "17"
            ]
          },
          "metadata": {},
          "execution_count": 12
        }
      ]
    },
    {
      "cell_type": "code",
      "source": [
        "def interleavings(s1, s2):\n",
        "    if not s1:\n",
        "        yield s2\n",
        "    elif not s2:\n",
        "        yield s1\n",
        "    else:\n",
        "        for i in range(len(s1)):\n",
        "            for j in range(len(s2)):\n",
        "                yield s1[:i] + s2[j] + s1[i:] if i > 0 else s2[j] + s1\n",
        "                for res in interleavings(s1[i:], s2[j+1:]):\n",
        "                    yield s1[:i] + s2[j] + res if i > 0 else s2[j] + res\n",
        "\n",
        "# example usage\n",
        "s1 = 'bc'\n",
        "s2 = 'ef'\n",
        "print(list(interleavings(s1, s2)))"
      ],
      "metadata": {
        "colab": {
          "base_uri": "https://localhost:8080/"
        },
        "id": "ogIoZVmbOhHT",
        "outputId": "ccfaa37b-54d2-47fe-b5ec-57ffb72757d4"
      },
      "execution_count": null,
      "outputs": [
        {
          "output_type": "stream",
          "name": "stdout",
          "text": [
            "['ebc', 'efbc', 'efbc', 'ebfc', 'ebfc', 'fbc', 'fbc', 'bec', 'befc', 'befc', 'bfc', 'bfc']\n"
          ]
        }
      ]
    },
    {
      "cell_type": "markdown",
      "source": [
        "### **Determine whether a string is a palindrome or not**"
      ],
      "metadata": {
        "id": "pyXzO5n4cB1O"
      }
    },
    {
      "cell_type": "code",
      "source": [
        "def is_palindrome(s):\n",
        "\n",
        "  s = s.lower()\n",
        "  s = ''.join(c for c in s if c.isalnum())\n",
        "  return s == s[::-1]\n",
        "\n",
        "s1 = \"MALAYALAM\"\n",
        "print(is_palindrome(s1))\n",
        "s2 = \"CIVIC\"\n",
        "print(is_palindrome(s2))\n"
      ],
      "metadata": {
        "colab": {
          "base_uri": "https://localhost:8080/"
        },
        "id": "mlvrnMNrPa7X",
        "outputId": "324cf25c-f2d4-4c4e-d497-55dd78591127"
      },
      "execution_count": null,
      "outputs": [
        {
          "output_type": "stream",
          "name": "stdout",
          "text": [
            "True\n",
            "True\n"
          ]
        }
      ]
    },
    {
      "cell_type": "code",
      "source": [
        "def triplet(arr,target):\n",
        "  n = len(arr)\n",
        "  arr.sort()\n",
        "\n",
        "  for i in range(n-2):\n",
        "    left = i + 1\n",
        "    right = n-1\n",
        "    while left <right:\n",
        "      curr_sum = arr[i] + arr[left] + arr[right]\n",
        "      if curr_sum == target:\n",
        "        return (arr[i],arr[left],arr[right])\n",
        "\n",
        "      elif curr_sum<target:\n",
        "        left += 1\n",
        "\n",
        "      else:\n",
        "        right+=1\n",
        "\n",
        "  return None\n"
      ],
      "metadata": {
        "id": "SYRofhMxS_ph"
      },
      "execution_count": null,
      "outputs": []
    },
    {
      "cell_type": "code",
      "source": [
        "arr = [1,2,3,5,6,4]\n",
        "target = 10\n",
        "print(triplet(arr,target))"
      ],
      "metadata": {
        "colab": {
          "base_uri": "https://localhost:8080/"
        },
        "id": "hkT_25A4T91m",
        "outputId": "09349cc4-6971-499b-c42e-e790d3161f1f"
      },
      "execution_count": null,
      "outputs": [
        {
          "output_type": "stream",
          "name": "stdout",
          "text": [
            "(1, 3, 6)\n"
          ]
        }
      ]
    },
    {
      "cell_type": "markdown",
      "source": [
        "### **Remove adjacent duplicate characters from a string Using Recursion**"
      ],
      "metadata": {
        "id": "BeKOd9hgcN07"
      }
    },
    {
      "cell_type": "code",
      "source": [
        "def remove_adjacent_duplicates(s):\n",
        "\n",
        "\n",
        "  result = []\n",
        "\n",
        "  for c in s:\n",
        "    if not result or c!= result[-1]:\n",
        "      result.append(c)\n",
        "  return \"\".join(result)\n",
        "\n",
        "# example usage\n",
        "s = \"abbaca\"\n",
        "print(remove_adjacent_duplicates(s))"
      ],
      "metadata": {
        "colab": {
          "base_uri": "https://localhost:8080/"
        },
        "id": "7epPxtC2EoSO",
        "outputId": "8e411489-a9c0-4e79-8272-c18cbecd9a0a"
      },
      "execution_count": 2,
      "outputs": [
        {
          "output_type": "stream",
          "name": "stdout",
          "text": [
            "abaca\n"
          ]
        }
      ]
    },
    {
      "cell_type": "markdown",
      "source": [
        "### **Find all strings of a given length containing balanced parentheses**"
      ],
      "metadata": {
        "id": "D6BHf5-3hfha"
      }
    },
    {
      "cell_type": "code",
      "source": [
        "def balanced_parentheses(n):\n",
        "\n",
        "  if n==0:\n",
        "    return['']\n",
        "\n",
        "  result = []\n",
        "  for i in range(n):\n",
        "    for left in balanced_parentheses(i):\n",
        "            for right in balanced_parentheses(n-i-1):\n",
        "                result.append('({}){}'.format(left, right))\n",
        "  return result\n",
        ""
      ],
      "metadata": {
        "id": "DUF9gqd9GX92"
      },
      "execution_count": 4,
      "outputs": []
    },
    {
      "cell_type": "code",
      "source": [
        "n = 3\n",
        "print(balanced_parentheses(n))"
      ],
      "metadata": {
        "colab": {
          "base_uri": "https://localhost:8080/"
        },
        "id": "a5_Rhw49HT8o",
        "outputId": "705207dd-c995-406a-aed9-f628269fbdbf"
      },
      "execution_count": 5,
      "outputs": [
        {
          "output_type": "stream",
          "name": "stdout",
          "text": [
            "['()()()', '()(())', '(())()', '(()())', '((()))']\n"
          ]
        }
      ]
    }
  ]
}