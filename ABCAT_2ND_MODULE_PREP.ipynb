{
  "nbformat": 4,
  "nbformat_minor": 0,
  "metadata": {
    "colab": {
      "provenance": [],
      "authorship_tag": "ABX9TyMBHoh7jBpzVD4o4OFqr3Rf",
      "include_colab_link": true
    },
    "kernelspec": {
      "name": "python3",
      "display_name": "Python 3"
    },
    "language_info": {
      "name": "python"
    }
  },
  "cells": [
    {
      "cell_type": "markdown",
      "metadata": {
        "id": "view-in-github",
        "colab_type": "text"
      },
      "source": [
        "<a href=\"https://colab.research.google.com/github/Tilak46-R/CODING-PRACTICE/blob/main/ABCAT_2ND_MODULE_PREP.ipynb\" target=\"_parent\"><img src=\"https://colab.research.google.com/assets/colab-badge.svg\" alt=\"Open In Colab\"/></a>"
      ]
    },
    {
      "cell_type": "markdown",
      "source": [
        "### **Write a program to find the factorial of a number using recursion.**"
      ],
      "metadata": {
        "id": "f1X8JoamJzOP"
      }
    },
    {
      "cell_type": "code",
      "execution_count": null,
      "metadata": {
        "id": "Et_wnHa5gsYi"
      },
      "outputs": [],
      "source": [
        "def factorial(n):\n",
        "  if n==0:\n",
        "    return 1\n",
        "  else:\n",
        "    return n * factorial(n-1)"
      ]
    },
    {
      "cell_type": "code",
      "source": [
        "factorial(5)"
      ],
      "metadata": {
        "colab": {
          "base_uri": "https://localhost:8080/"
        },
        "id": "k6-QC6t1YmDM",
        "outputId": "9f288604-d054-4c8a-c605-0ef9460a7e2f"
      },
      "execution_count": null,
      "outputs": [
        {
          "output_type": "execute_result",
          "data": {
            "text/plain": [
              "120"
            ]
          },
          "metadata": {},
          "execution_count": 2
        }
      ]
    },
    {
      "cell_type": "markdown",
      "source": [
        "### **Write a program to find the fibonacci of a number using recursion.**"
      ],
      "metadata": {
        "id": "a_O04uUJbWz9"
      }
    },
    {
      "cell_type": "code",
      "source": [
        "def fibonacci(n):\n",
        "  if n<=1:\n",
        "    return n\n",
        "  else:\n",
        "    return fibonacci(n-1) + fibonacci(n-2)\n",
        "\n",
        "num = int(input(\"Enter the number\"))\n",
        "\n",
        "if num<=0:\n",
        "  print(\"Enter a positive number\")\n",
        "else:\n",
        "  print(\"Fibonacci series\")\n",
        "  for i in range(num):\n",
        "    print(fibonacci(i))"
      ],
      "metadata": {
        "colab": {
          "base_uri": "https://localhost:8080/"
        },
        "id": "YEoHYnM1Ynvm",
        "outputId": "c4f18fc7-d0f3-4499-b008-b8d7a7414e60"
      },
      "execution_count": null,
      "outputs": [
        {
          "output_type": "stream",
          "name": "stdout",
          "text": [
            "Enter the number30\n",
            "Fibonacci series\n",
            "0\n",
            "1\n",
            "1\n",
            "2\n",
            "3\n",
            "5\n",
            "8\n",
            "13\n",
            "21\n",
            "34\n",
            "55\n",
            "89\n",
            "144\n",
            "233\n",
            "377\n",
            "610\n",
            "987\n",
            "1597\n",
            "2584\n",
            "4181\n",
            "6765\n",
            "10946\n",
            "17711\n",
            "28657\n",
            "46368\n",
            "75025\n",
            "121393\n",
            "196418\n",
            "317811\n",
            "514229\n"
          ]
        }
      ]
    },
    {
      "cell_type": "code",
      "source": [
        "fibonacci(1)\n",
        "\n"
      ],
      "metadata": {
        "colab": {
          "base_uri": "https://localhost:8080/"
        },
        "id": "F_-sAdDLZDdk",
        "outputId": "0e8d6f55-c959-4fe4-a106-a814ec065e3e"
      },
      "execution_count": null,
      "outputs": [
        {
          "output_type": "execute_result",
          "data": {
            "text/plain": [
              "1"
            ]
          },
          "metadata": {},
          "execution_count": 10
        }
      ]
    },
    {
      "cell_type": "code",
      "source": [
        "fibonacci(7)\n"
      ],
      "metadata": {
        "colab": {
          "base_uri": "https://localhost:8080/"
        },
        "id": "79psFW-LZLtA",
        "outputId": "f5d679bc-b25f-446e-a3bb-53c15d970a62"
      },
      "execution_count": null,
      "outputs": [
        {
          "output_type": "execute_result",
          "data": {
            "text/plain": [
              "13"
            ]
          },
          "metadata": {},
          "execution_count": 12
        }
      ]
    },
    {
      "cell_type": "markdown",
      "source": [
        "### **Write a program to find the sum of natural numbers up to n using recursion.**"
      ],
      "metadata": {
        "id": "jd9si-4wK9-J"
      }
    },
    {
      "cell_type": "code",
      "source": [
        "def sum_natural_number(n):\n",
        "  if n==1:\n",
        "    return 1\n",
        "  else:\n",
        "    return n + sum_natural_number(n-1)\n",
        "\n",
        "num = int(input(\"Enter a number: \"))\n",
        "\n",
        "if num<=0:\n",
        "  print(\"Enter a positive number\")\n",
        "else:\n",
        "  print(\"The number is\", num, \"and its sum is:\", sum_natural_number(num))"
      ],
      "metadata": {
        "colab": {
          "base_uri": "https://localhost:8080/"
        },
        "id": "mJZawzkfZN89",
        "outputId": "46a761ff-c26d-490d-c50b-5faeab1a1848"
      },
      "execution_count": null,
      "outputs": [
        {
          "output_type": "stream",
          "name": "stdout",
          "text": [
            "Enter a number: 33\n",
            "The number is 33 and its sum is: 561\n"
          ]
        }
      ]
    },
    {
      "cell_type": "code",
      "source": [
        "sum_natural_number(33)"
      ],
      "metadata": {
        "colab": {
          "base_uri": "https://localhost:8080/"
        },
        "id": "Z_NhKXUOaUda",
        "outputId": "033a1222-0578-4955-9284-f543366dd58a"
      },
      "execution_count": null,
      "outputs": [
        {
          "output_type": "execute_result",
          "data": {
            "text/plain": [
              "561"
            ]
          },
          "metadata": {},
          "execution_count": 16
        }
      ]
    },
    {
      "cell_type": "markdown",
      "source": [
        "### **Write a program to find all possible permutations of a given string using recursion.**"
      ],
      "metadata": {
        "id": "MAYL6JQpLtrY"
      }
    },
    {
      "cell_type": "code",
      "source": [
        "def permutations(string,left,right):\n",
        "  if left == right:\n",
        "    print(\"\".join(string))\n",
        "  else:\n",
        "    for i in range(left,right+1):\n",
        "      string[left],string[i]=string[i],string[left]\n",
        "      permutations(string,left+1,right)\n",
        "      string[left],string[i]=string[i],string[left]\n",
        "\n",
        "str = input(\"enter the string\")\n",
        "\n",
        "permutations(list(str), 0, len(str)-1)"
      ],
      "metadata": {
        "colab": {
          "base_uri": "https://localhost:8080/"
        },
        "id": "4Hy14CPZcP4y",
        "outputId": "42a8f711-6069-447a-af9a-c8a7f50ccf49"
      },
      "execution_count": null,
      "outputs": [
        {
          "output_type": "stream",
          "name": "stdout",
          "text": [
            "enter the stringaba\n",
            "aba\n",
            "aab\n",
            "baa\n",
            "baa\n",
            "aba\n",
            "aab\n"
          ]
        }
      ]
    },
    {
      "cell_type": "markdown",
      "source": [
        "### **Write a program to find the nth term in the Tribonacci sequence using recursion.**"
      ],
      "metadata": {
        "id": "oPbc7_6uMBgO"
      }
    },
    {
      "cell_type": "code",
      "source": [
        "def tribonacci(n):\n",
        "  if n ==0 or n==1:\n",
        "    return 0\n",
        "  elif n==2:\n",
        "    return 1\n",
        "  else:\n",
        "    return tribonacci(n-1) + tribonacci(n-2) + tribonacci(n-3)"
      ],
      "metadata": {
        "id": "wEUFUHHhehWw"
      },
      "execution_count": null,
      "outputs": []
    },
    {
      "cell_type": "code",
      "source": [
        "tribonacci(7)"
      ],
      "metadata": {
        "colab": {
          "base_uri": "https://localhost:8080/"
        },
        "id": "FOPjo1RoewDE",
        "outputId": "1685a429-7645-4cec-f5d6-c57399ff4bda"
      },
      "execution_count": null,
      "outputs": [
        {
          "output_type": "execute_result",
          "data": {
            "text/plain": [
              "13"
            ]
          },
          "metadata": {},
          "execution_count": 33
        }
      ]
    },
    {
      "cell_type": "code",
      "source": [
        "import random\n",
        "\n",
        "dice = random.randint(1,6)\n",
        "print(dice)"
      ],
      "metadata": {
        "id": "ZaWiwOXEexmZ",
        "colab": {
          "base_uri": "https://localhost:8080/"
        },
        "outputId": "ec918532-bda9-461e-8c71-383be862a0cb"
      },
      "execution_count": 18,
      "outputs": [
        {
          "output_type": "stream",
          "name": "stdout",
          "text": [
            "1\n"
          ]
        }
      ]
    },
    {
      "cell_type": "markdown",
      "source": [
        "Write a Python program that checks whether every even index contains an even number and every odd index contains an odd number of a given list."
      ],
      "metadata": {
        "id": "2V5hJN8hqnHq"
      }
    },
    {
      "cell_type": "code",
      "source": [
        "def odd_even_position(nums):\n",
        "    return all(nums[i]%2==i%2 for i in range(len(nums)))\n",
        "\n",
        "nums = eval(input())\n",
        "print(odd_even_position(nums))"
      ],
      "metadata": {
        "colab": {
          "base_uri": "https://localhost:8080/"
        },
        "id": "B0QFc8tmoV2g",
        "outputId": "8b188df7-647f-4b50-9c3c-1d241eae2dd0"
      },
      "execution_count": 19,
      "outputs": [
        {
          "output_type": "stream",
          "name": "stdout",
          "text": [
            "[2, 1, 4, 3, 6, 7, 6, 3]\n",
            "True\n"
          ]
        }
      ]
    },
    {
      "cell_type": "markdown",
      "source": [
        "Write a Python program to compute the cumulative sum of numbers in a given list. Note: Cumulative sum = sum of itself + all previous numbers in the said list.\n",
        "\n",
        "Example 1:"
      ],
      "metadata": {
        "id": "12lwSp85sHI3"
      }
    },
    {
      "cell_type": "code",
      "source": [
        "lst = eval(input())\n",
        "\n",
        "sum=0\n",
        "\n",
        "for i in range(len(lst)):\n",
        "   sum = sum + lst[i]\n",
        "print(sum)"
      ],
      "metadata": {
        "colab": {
          "base_uri": "https://localhost:8080/"
        },
        "id": "nCo4TCwZsHr9",
        "outputId": "54c591b8-6e1c-4323-9b18-3af77e759ea1"
      },
      "execution_count": 20,
      "outputs": [
        {
          "output_type": "stream",
          "name": "stdout",
          "text": [
            "[10, 20, 30, 40, 50, 60, 7]\n",
            "217\n"
          ]
        }
      ]
    },
    {
      "cell_type": "markdown",
      "source": [
        "Difference between 2 lists\n",
        "Hard\n",
        "Write a Python program to calculate the difference between the two lists."
      ],
      "metadata": {
        "id": "wihRs0P8wojF"
      }
    },
    {
      "cell_type": "code",
      "source": [
        "list1 = eval(input())\n",
        "list2= eval(input())\n",
        "\n",
        "list3 = list(set(list1) - set(list2))\n",
        "list4=list(set(list2) - set(list1))\n",
        "\n",
        "list5 = list3 + list4\n",
        "print(list5)"
      ],
      "metadata": {
        "colab": {
          "base_uri": "https://localhost:8080/"
        },
        "id": "ByBF7TypvLh9",
        "outputId": "bea8b0e1-5707-44f0-80b3-3b92b6887a2a"
      },
      "execution_count": 29,
      "outputs": [
        {
          "output_type": "stream",
          "name": "stdout",
          "text": [
            "[1, 3, 5, 7, 9]\n",
            "[1, 2, 4, 6, 7, 8]\n",
            "[9, 3, 5, 8, 2, 4, 6]\n"
          ]
        }
      ]
    }
  ]
}