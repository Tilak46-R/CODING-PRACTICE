{
  "nbformat": 4,
  "nbformat_minor": 0,
  "metadata": {
    "colab": {
      "provenance": [],
      "authorship_tag": "ABX9TyPZLkMrAsC3YWczvjvfn3BQ",
      "include_colab_link": true
    },
    "kernelspec": {
      "name": "python3",
      "display_name": "Python 3"
    },
    "language_info": {
      "name": "python"
    }
  },
  "cells": [
    {
      "cell_type": "markdown",
      "metadata": {
        "id": "view-in-github",
        "colab_type": "text"
      },
      "source": [
        "<a href=\"https://colab.research.google.com/github/Tilak46-R/CODING-PRACTICE/blob/main/Leetcode_questions.ipynb\" target=\"_parent\"><img src=\"https://colab.research.google.com/assets/colab-badge.svg\" alt=\"Open In Colab\"/></a>"
      ]
    },
    {
      "cell_type": "markdown",
      "source": [
        "## **ImportantQuestions**"
      ],
      "metadata": {
        "id": "w1-Ip7DJrGTe"
      }
    },
    {
      "cell_type": "markdown",
      "source": [
        "345. Reverse Vowels of a String\n",
        "Solved\n",
        "Easy\n",
        "Topics\n",
        "Companies\n",
        "Given a string s, reverse only all the vowels in the string and return it.\n",
        "\n",
        "The vowels are 'a', 'e', 'i', 'o', and 'u', and they can appear in both lower and upper cases, more than once.\n",
        "\n",
        "\n",
        "\n",
        "Example 1:\n",
        "\n",
        "Input: s = \"hello\"\n",
        "Output: \"holle\"\n",
        "Example 2:\n",
        "\n",
        "Input: s = \"leetcode\"\n",
        "Output: \"leotcede\""
      ],
      "metadata": {
        "id": "tuaYzLGQoCIt"
      }
    },
    {
      "cell_type": "code",
      "execution_count": 2,
      "metadata": {
        "colab": {
          "base_uri": "https://localhost:8080/",
          "height": 53
        },
        "id": "GaCkRWDBoBRe",
        "outputId": "7aeba2ff-1abe-4bb2-931c-6ea5a8d4dcc0"
      },
      "outputs": [
        {
          "name": "stdout",
          "output_type": "stream",
          "text": [
            "hello\n"
          ]
        },
        {
          "output_type": "execute_result",
          "data": {
            "text/plain": [
              "'holle'"
            ],
            "application/vnd.google.colaboratory.intrinsic+json": {
              "type": "string"
            }
          },
          "metadata": {},
          "execution_count": 2
        }
      ],
      "source": [
        "def reversevowels(s):\n",
        "  vowel = 'aeiouAEIOU'\n",
        "  vowel_list = [char for char in s if char in vowel]\n",
        "  result = []\n",
        "\n",
        "  for char in s:\n",
        "    if char in vowel:\n",
        "      result.append(vowel_list.pop())\n",
        "    else:\n",
        "      result.append(char)\n",
        "  return ''.join(result)\n",
        "\n",
        "s = input()\n",
        "reversevowels(s)"
      ]
    },
    {
      "cell_type": "markdown",
      "source": [
        "Given an input string s, reverse the order of the words.\n",
        "\n",
        "A word is defined as a sequence of non-space characters. The words in s will be separated by at least one space.\n",
        "\n",
        "Return a string of the words in reverse order concatenated by a single space.\n",
        "\n",
        "Note that s may contain leading or trailing spaces or multiple spaces between two words. The returned string should only have a single space separating the words. Do not include any extra spaces.\n",
        "\n",
        "\n",
        "\n",
        "Example 1:\n",
        "\n",
        "Input: s = \"the sky is blue\"\n",
        "Output: \"blue is sky the\""
      ],
      "metadata": {
        "id": "iFi_hrNNqj73"
      }
    },
    {
      "cell_type": "code",
      "source": [
        "def reverse_word(s):\n",
        "  words = s.split()\n",
        "  words.reverse()\n",
        "  return ' '.join(words)\n",
        "\n",
        "s = input()\n",
        "reverse_word(s)"
      ],
      "metadata": {
        "colab": {
          "base_uri": "https://localhost:8080/",
          "height": 53
        },
        "id": "78ej_6ljqlgZ",
        "outputId": "93fa15c7-fcd8-4959-f532-4b1671f8995a"
      },
      "execution_count": 5,
      "outputs": [
        {
          "name": "stdout",
          "output_type": "stream",
          "text": [
            "sky is blue\n"
          ]
        },
        {
          "output_type": "execute_result",
          "data": {
            "text/plain": [
              "'blue is sky'"
            ],
            "application/vnd.google.colaboratory.intrinsic+json": {
              "type": "string"
            }
          },
          "metadata": {},
          "execution_count": 5
        }
      ]
    }
  ]
}