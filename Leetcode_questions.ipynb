{
  "nbformat": 4,
  "nbformat_minor": 0,
  "metadata": {
    "colab": {
      "provenance": [],
      "authorship_tag": "ABX9TyNA7FMq0gKGy1J2c9wOQxzv",
      "include_colab_link": true
    },
    "kernelspec": {
      "name": "python3",
      "display_name": "Python 3"
    },
    "language_info": {
      "name": "python"
    }
  },
  "cells": [
    {
      "cell_type": "markdown",
      "metadata": {
        "id": "view-in-github",
        "colab_type": "text"
      },
      "source": [
        "<a href=\"https://colab.research.google.com/github/Tilak46-R/CODING-PRACTICE/blob/main/Leetcode_questions.ipynb\" target=\"_parent\"><img src=\"https://colab.research.google.com/assets/colab-badge.svg\" alt=\"Open In Colab\"/></a>"
      ]
    },
    {
      "cell_type": "markdown",
      "source": [
        "## **ImportantQuestions**"
      ],
      "metadata": {
        "id": "w1-Ip7DJrGTe"
      }
    },
    {
      "cell_type": "markdown",
      "source": [
        "345. Reverse Vowels of a String\n",
        "Solved\n",
        "Easy\n",
        "Topics\n",
        "Companies\n",
        "Given a string s, reverse only all the vowels in the string and return it.\n",
        "\n",
        "The vowels are 'a', 'e', 'i', 'o', and 'u', and they can appear in both lower and upper cases, more than once.\n",
        "\n",
        "\n",
        "\n",
        "Example 1:\n",
        "\n",
        "Input: s = \"hello\"\n",
        "Output: \"holle\"\n",
        "Example 2:\n",
        "\n",
        "Input: s = \"leetcode\"\n",
        "Output: \"leotcede\""
      ],
      "metadata": {
        "id": "tuaYzLGQoCIt"
      }
    },
    {
      "cell_type": "code",
      "execution_count": null,
      "metadata": {
        "colab": {
          "base_uri": "https://localhost:8080/",
          "height": 54
        },
        "id": "GaCkRWDBoBRe",
        "outputId": "7aeba2ff-1abe-4bb2-931c-6ea5a8d4dcc0"
      },
      "outputs": [
        {
          "name": "stdout",
          "output_type": "stream",
          "text": [
            "hello\n"
          ]
        },
        {
          "output_type": "execute_result",
          "data": {
            "text/plain": [
              "'holle'"
            ],
            "application/vnd.google.colaboratory.intrinsic+json": {
              "type": "string"
            }
          },
          "metadata": {},
          "execution_count": 2
        }
      ],
      "source": [
        "def reversevowels(s):\n",
        "  vowel = 'aeiouAEIOU'\n",
        "  vowel_list = [char for char in s if char in vowel]\n",
        "  result = []\n",
        "\n",
        "  for char in s:\n",
        "    if char in vowel:\n",
        "      result.append(vowel_list.pop())\n",
        "    else:\n",
        "      result.append(char)\n",
        "  return ''.join(result)\n",
        "\n",
        "s = input()\n",
        "reversevowels(s)"
      ]
    },
    {
      "cell_type": "code",
      "source": [
        "def reversevowels(s):\n",
        "  vowel = 'aeiouAEIOU'\n",
        "  vowel_list = [char for char in s if char in vowel]\n",
        "  result = []\n",
        "\n",
        "  for char in s:\n",
        "    if char in vowel:\n",
        "      result.append(vowel_list.pop())\n",
        "    else:\n",
        "      result.append(char)\n",
        "  return ''.join(result)\n",
        "\n",
        "s = input()\n",
        "reversevowels(s)"
      ],
      "metadata": {
        "colab": {
          "base_uri": "https://localhost:8080/",
          "height": 54
        },
        "id": "0uZ0XKhMoAFO",
        "outputId": "fdc380b3-75d5-454f-d491-cb36409fac97"
      },
      "execution_count": 2,
      "outputs": [
        {
          "name": "stdout",
          "output_type": "stream",
          "text": [
            "hello\n"
          ]
        },
        {
          "output_type": "execute_result",
          "data": {
            "text/plain": [
              "'holle'"
            ],
            "application/vnd.google.colaboratory.intrinsic+json": {
              "type": "string"
            }
          },
          "metadata": {},
          "execution_count": 2
        }
      ]
    },
    {
      "cell_type": "markdown",
      "source": [
        "Given an input string s, reverse the order of the words.\n",
        "\n",
        "A word is defined as a sequence of non-space characters. The words in s will be separated by at least one space.\n",
        "\n",
        "Return a string of the words in reverse order concatenated by a single space.\n",
        "\n",
        "Note that s may contain leading or trailing spaces or multiple spaces between two words. The returned string should only have a single space separating the words. Do not include any extra spaces.\n",
        "\n",
        "\n",
        "\n",
        "Example 1:\n",
        "\n",
        "Input: s = \"the sky is blue\"\n",
        "Output: \"blue is sky the\""
      ],
      "metadata": {
        "id": "iFi_hrNNqj73"
      }
    },
    {
      "cell_type": "code",
      "source": [
        "def reverse(s):\n",
        "  words = s.split()\n",
        "  words.reverse()\n",
        "  return ' '.join(words)\n",
        "\n",
        "s = input()\n",
        "reverse(s)"
      ],
      "metadata": {
        "colab": {
          "base_uri": "https://localhost:8080/",
          "height": 54
        },
        "id": "f71UdqYIop2x",
        "outputId": "64f8d5cd-274e-4c3b-dce8-aaf0f9dae355"
      },
      "execution_count": 4,
      "outputs": [
        {
          "name": "stdout",
          "output_type": "stream",
          "text": [
            "sky  is blue\n"
          ]
        },
        {
          "output_type": "execute_result",
          "data": {
            "text/plain": [
              "'blue is sky'"
            ],
            "application/vnd.google.colaboratory.intrinsic+json": {
              "type": "string"
            }
          },
          "metadata": {},
          "execution_count": 4
        }
      ]
    },
    {
      "cell_type": "code",
      "source": [
        "def reverse_word(s):\n",
        "  words = s.split()\n",
        "  words.reverse()\n",
        "  return ' '.join(words)\n",
        "\n",
        "s = input()\n",
        "reverse_word(s)"
      ],
      "metadata": {
        "colab": {
          "base_uri": "https://localhost:8080/",
          "height": 54
        },
        "id": "78ej_6ljqlgZ",
        "outputId": "93fa15c7-fcd8-4959-f532-4b1671f8995a"
      },
      "execution_count": null,
      "outputs": [
        {
          "name": "stdout",
          "output_type": "stream",
          "text": [
            "sky is blue\n"
          ]
        },
        {
          "output_type": "execute_result",
          "data": {
            "text/plain": [
              "'blue is sky'"
            ],
            "application/vnd.google.colaboratory.intrinsic+json": {
              "type": "string"
            }
          },
          "metadata": {},
          "execution_count": 5
        }
      ]
    },
    {
      "cell_type": "markdown",
      "source": [
        "You are given two strings word1 and word2. Merge the strings by adding letters in alternating order, starting with word1. If a string is longer than the other, append the additional letters onto the end of the merged string."
      ],
      "metadata": {
        "id": "FH10ENMZsld5"
      }
    },
    {
      "cell_type": "code",
      "source": [
        "def merge_string(word1,word2):\n",
        "  merged = []\n",
        "\n",
        "  i,j =0,0\n",
        "\n",
        "  while i < len(word1) or j < len(word2):\n",
        "    if i <len(word1):\n",
        "      merged.append(word1[i])\n",
        "      i+=1\n",
        "    if j < len(word2):\n",
        "      merged.append(word2[j])\n",
        "      j+=1\n",
        "\n",
        "  return ''.join(merged)\n",
        "\n",
        "\n",
        "word1 = 'abc'\n",
        "word2 = 'pqr'\n",
        "merge_string(word1,word2)"
      ],
      "metadata": {
        "colab": {
          "base_uri": "https://localhost:8080/",
          "height": 36
        },
        "id": "Z7-83svCsmTM",
        "outputId": "fedd6d62-9bdc-4d00-9228-8966d5f8f980"
      },
      "execution_count": null,
      "outputs": [
        {
          "output_type": "execute_result",
          "data": {
            "text/plain": [
              "'apbqcr'"
            ],
            "application/vnd.google.colaboratory.intrinsic+json": {
              "type": "string"
            }
          },
          "metadata": {},
          "execution_count": 7
        }
      ]
    },
    {
      "cell_type": "markdown",
      "source": [
        "Given a binary array nums, return the maximum number of consecutive 1's in the array.\n",
        "\n",
        "Example 1: Input: nums = [1,1,0,1,1,1] Output: 3 Explanation: The first two digits or the last three digits are consecutive 1s. The maximum number of consecutive 1s is 3.\n",
        "\n",
        "Example 2: Input: nums = [1,0,1,1,0,1] Output: 2\n",
        "\n",
        "Constraints: 1 <= nums.length <= 10000 nums[i] is either 0 or 1."
      ],
      "metadata": {
        "id": "YWKKRjBHwzfs"
      }
    },
    {
      "cell_type": "code",
      "source": [
        "def most_ones(nums):\n",
        "  count = 0\n",
        "  max_count = 0\n",
        "  for num in nums:\n",
        "    if num == 1:\n",
        "      count+=1\n",
        "    else:\n",
        "      count = 0\n",
        "    max_count = max(count,max_count)\n",
        "\n",
        "  return max_count\n",
        "\n",
        "nums = [1,1,1,0,1,0,1]\n",
        "most_ones(nums)"
      ],
      "metadata": {
        "colab": {
          "base_uri": "https://localhost:8080/"
        },
        "id": "GUX7RMoXw0ul",
        "outputId": "da16dd59-e341-4bcf-8c48-32f994cf3cc9"
      },
      "execution_count": null,
      "outputs": [
        {
          "output_type": "execute_result",
          "data": {
            "text/plain": [
              "3"
            ]
          },
          "metadata": {},
          "execution_count": 8
        }
      ]
    },
    {
      "cell_type": "markdown",
      "source": [
        "You are given a string s representing an attendance record for a student where each character signifies whether the student was absent, late, or present on that day. The record only contains the following three characters:\n",
        "\n",
        "'A': Absent. 'L': Late. 'P': Present. The student is eligible for an attendance award if they meet both of the following criteria:\n",
        "\n",
        "The student was absent ('A') for strictly fewer than 2 days total. The student was never late ('L') for 3 or more consecutive days. Return true if the student is eligible for an attendance award, or false otherwise.\n",
        "\n",
        "Example 1: Input: s = \"PPALLP\" Output: true Explanation: The student has fewer than 2 absences and was never late 3 or more consecutive days.\n",
        "\n",
        "Example 2: Input: s = \"PPALLL\" Output: false Explanation: The student was late 3 consecutive days in the last 3 days, so is not eligible for the award.\n",
        "\n",
        "Constraints:\n",
        "\n",
        "1 <= s.length <= 1000 s[i] is either 'A', 'L', or 'P'."
      ],
      "metadata": {
        "id": "SkCc-Kj8xYO0"
      }
    },
    {
      "cell_type": "code",
      "source": [
        "def attendance(s):\n",
        "\n",
        "  if s.count('A')>2:\n",
        "    return False\n",
        "  elif 'LLL' in s:\n",
        "    return False\n",
        "  return True\n",
        "\n",
        "s = input()\n",
        "attendance(s)"
      ],
      "metadata": {
        "colab": {
          "base_uri": "https://localhost:8080/"
        },
        "id": "ABUmZuN0xNoq",
        "outputId": "cd76ff09-3687-4fe9-cc49-d72628f88342"
      },
      "execution_count": null,
      "outputs": [
        {
          "name": "stdout",
          "output_type": "stream",
          "text": [
            "LLLAPP\n"
          ]
        },
        {
          "output_type": "execute_result",
          "data": {
            "text/plain": [
              "False"
            ]
          },
          "metadata": {},
          "execution_count": 9
        }
      ]
    },
    {
      "cell_type": "markdown",
      "source": [
        "Next Greater Element I Solved Easy Topics Companies The next greater element of some element x in an array is the first greater element that is to the right of x in the same array.\n",
        "You are given two distinct 0-indexed integer arrays nums1 and nums2, where nums1 is a subset of nums2.\n",
        "\n",
        "For each 0 <= i < nums1.length, find the index j such that nums1[i] == nums2[j] and determine the next greater element of nums2[j] in nums2. If there is no next greater element, then the answer for this query is -1.\n",
        "\n",
        "Return an array ans of length nums1.length such that ans[i] is the next greater element as described above.\n",
        "\n",
        "Example 1:\n",
        "\n",
        "Input: nums1 = [4,1,2], nums2 = [1,3,4,2] Output: [-1,3,-1] Explanation: The next greater element for each value of nums1 is as follows:\n",
        "\n",
        "4 is underlined in nums2 = [1,3,4,2]. There is no next greater element, so the answer is -1.\n",
        "1 is underlined in nums2 = [1,3,4,2]. The next greater element is 3.\n",
        "2 is underlined in nums2 = [1,3,4,2]. There is no next greater element, so the answer is -1. Example 2:\n",
        "Input: nums1 = [2,4], nums2 = [1,2,3,4] Output: [3,-1] Explanation: The next greater element for each value of nums1 is as follows:\n",
        "\n",
        "2 is underlined in nums2 = [1,2,3,4]. The next greater element is 3.\n",
        "4 is underlined in nums2 = [1,2,3,4]. There is no next greater element, so the answer is -1.\n",
        "Constraints:\n",
        "\n",
        "1 <= nums1.length <= nums2.length <= 1000 0 <= nums1[i], nums2[i] <= 104 All integers in nums1 and nums2 are unique. All the integers of nums1 also appear in nums2."
      ],
      "metadata": {
        "id": "K23Eu8_ex54K"
      }
    },
    {
      "cell_type": "markdown",
      "source": [
        "def nextGreaterElement(nums1,nums2):\n",
        "        result = []\n",
        "        for num in nums1:\n",
        "            # Find the index of num in nums2\n",
        "            index = nums2.index(num)\n",
        "            # Initialize next greater element as -1\n",
        "            next_greater = -1\n",
        "            # Search for the next greater element to the right in nums2\n",
        "            for j in range(index + 1, len(nums2)):\n",
        "                if nums2[j] > num:\n",
        "                    next_greater = nums2[j]\n",
        "                    break\n",
        "            # Append the next greater element to the result list\n",
        "            result.append(next_greater)\n",
        "        return result"
      ],
      "metadata": {
        "id": "AbcE4wWFyDmG"
      }
    },
    {
      "cell_type": "code",
      "source": [
        "nums1 = eval(input())\n",
        "nums2 = eval(input())\n",
        "nextGreaterElement(nums1,nums2)"
      ],
      "metadata": {
        "id": "nXJJmtdOxneP"
      },
      "execution_count": null,
      "outputs": []
    }
  ]
}