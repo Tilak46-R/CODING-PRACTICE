{
  "nbformat": 4,
  "nbformat_minor": 0,
  "metadata": {
    "colab": {
      "provenance": [],
      "authorship_tag": "ABX9TyNfG6qSZRV+4EyxvSkYRECX",
      "include_colab_link": true
    },
    "kernelspec": {
      "name": "python3",
      "display_name": "Python 3"
    },
    "language_info": {
      "name": "python"
    }
  },
  "cells": [
    {
      "cell_type": "markdown",
      "metadata": {
        "id": "view-in-github",
        "colab_type": "text"
      },
      "source": [
        "<a href=\"https://colab.research.google.com/github/Tilak46-R/CODING-PRACTICE/blob/main/PRACTICE_QUESTIONS123.ipynb\" target=\"_parent\"><img src=\"https://colab.research.google.com/assets/colab-badge.svg\" alt=\"Open In Colab\"/></a>"
      ]
    },
    {
      "cell_type": "code",
      "execution_count": null,
      "metadata": {
        "colab": {
          "base_uri": "https://localhost:8080/"
        },
        "id": "_TuPHQobt2bY",
        "outputId": "c59ec220-2876-4152-e77f-8153cd25556f"
      },
      "outputs": [
        {
          "output_type": "stream",
          "name": "stdout",
          "text": [
            "7\n",
            "13\n"
          ]
        }
      ],
      "source": [
        "#Fibonacci series\n",
        "\n",
        "def fibonacci(n):\n",
        "  if n==0:\n",
        "    return 0\n",
        "  elif n==1:\n",
        "    return 1\n",
        "  else:\n",
        "    return fibonacci(n-1) + fibonacci(n-2)\n",
        "\n",
        "nums = int(input())\n",
        "print(fibonacci(nums))"
      ]
    },
    {
      "cell_type": "code",
      "source": [
        "#Factorial\n",
        "\n",
        "def Factorial(n):\n",
        "  if n<=1:\n",
        "    return 1\n",
        "  else:\n",
        "    return n * Factorial(n-1)\n",
        "\n",
        "num = int(input())\n",
        "Factorial(num)"
      ],
      "metadata": {
        "colab": {
          "base_uri": "https://localhost:8080/"
        },
        "id": "b8jYViPjuO81",
        "outputId": "7f078990-94ba-491a-c6c9-d5fc4db3752c"
      },
      "execution_count": null,
      "outputs": [
        {
          "name": "stdout",
          "output_type": "stream",
          "text": [
            "5\n"
          ]
        },
        {
          "output_type": "execute_result",
          "data": {
            "text/plain": [
              "120"
            ]
          },
          "metadata": {},
          "execution_count": 2
        }
      ]
    },
    {
      "cell_type": "code",
      "source": [
        "#Remove vowel from string\n",
        "\n",
        "def remove_vowel(strings):\n",
        "  vowel = 'aeiouAEIOU'\n",
        "\n",
        "  for ch in strings:\n",
        "    if ch in vowel:\n",
        "      strings = strings.replace(ch, '')\n",
        "  return strings\n",
        "\n",
        "strings = input()\n",
        "remove_vowel(strings)\n"
      ],
      "metadata": {
        "colab": {
          "base_uri": "https://localhost:8080/",
          "height": 53
        },
        "id": "FeoTnR50u1pe",
        "outputId": "0f691505-4c62-4cae-f9a3-c0a9a8d77680"
      },
      "execution_count": null,
      "outputs": [
        {
          "name": "stdout",
          "output_type": "stream",
          "text": [
            "customfunctions\n"
          ]
        },
        {
          "output_type": "execute_result",
          "data": {
            "text/plain": [
              "'cstmfnctns'"
            ],
            "application/vnd.google.colaboratory.intrinsic+json": {
              "type": "string"
            }
          },
          "metadata": {},
          "execution_count": 4
        }
      ]
    },
    {
      "cell_type": "code",
      "source": [
        "#find consonant\n",
        "def find_consonant(strs):\n",
        "  consonant = ''\n",
        "  for ch in strs:\n",
        "    if ch not in  'aeiouAEIOU':\n",
        "      consonant += ch\n",
        "  return consonant\n",
        "\n",
        "strs = input()\n",
        "remove_vowel(strs)"
      ],
      "metadata": {
        "colab": {
          "base_uri": "https://localhost:8080/",
          "height": 53
        },
        "id": "Z2yXc8mTvXFx",
        "outputId": "1908ba0d-1c2e-48ee-e92c-5f34662636bf"
      },
      "execution_count": null,
      "outputs": [
        {
          "name": "stdout",
          "output_type": "stream",
          "text": [
            "customfunctions\n"
          ]
        },
        {
          "output_type": "execute_result",
          "data": {
            "text/plain": [
              "'cstmfnctns'"
            ],
            "application/vnd.google.colaboratory.intrinsic+json": {
              "type": "string"
            }
          },
          "metadata": {},
          "execution_count": 5
        }
      ]
    },
    {
      "cell_type": "code",
      "source": [
        "#bubble sort\n",
        "\n",
        "def bubble_sort(arr):\n",
        "  n = len(arr)\n",
        "  for i in range(n):\n",
        "    for j in range(n-i-1):\n",
        "      if arr[j]>arr[j+1]:\n",
        "        arr[j],arr[j+1] = arr[j+1],arr[j]\n",
        "\n",
        "arr = eval(input())\n",
        "bubble_sort(arr)\n",
        "for i in range(len(arr)):\n",
        "  print(arr[i],'',end=\"\")\n"
      ],
      "metadata": {
        "colab": {
          "base_uri": "https://localhost:8080/"
        },
        "id": "z_YVd3BRvzKS",
        "outputId": "6d26a15b-2c42-4dee-99a6-8b9410726410"
      },
      "execution_count": null,
      "outputs": [
        {
          "output_type": "stream",
          "name": "stdout",
          "text": [
            "[89,25,52,12,98,98]\n",
            "12 25 52 89 98 98 "
          ]
        }
      ]
    },
    {
      "cell_type": "code",
      "source": [
        "#Merge two lists and sort two lists and remove duplicates\n",
        "\n",
        "list1 = [1,2,3,4,5,6]\n",
        "list2 = [2,4,5,6,8,9]\n",
        "merged_list = list1 + list2\n",
        "print(list(set(merged_list)))"
      ],
      "metadata": {
        "colab": {
          "base_uri": "https://localhost:8080/"
        },
        "id": "dMTCpw9Pwd3g",
        "outputId": "da2f4652-7d6b-49fe-ab00-b7eeb84df728"
      },
      "execution_count": null,
      "outputs": [
        {
          "output_type": "stream",
          "name": "stdout",
          "text": [
            "[1, 2, 3, 4, 5, 6, 8, 9]\n"
          ]
        }
      ]
    },
    {
      "cell_type": "code",
      "source": [
        "#Frequency of char\n",
        "\n",
        "def frequency(word):\n",
        "  frequency_char = {}\n",
        "\n",
        "  for char in word:\n",
        "    if char in frequency_char:\n",
        "      frequency_char[char]+=1\n",
        "    else:\n",
        "      frequency_char[char]=1\n",
        "  return frequency_char\n",
        "\n",
        "word = input()\n",
        "frequency(word)"
      ],
      "metadata": {
        "id": "SNIuCSSSzKqd",
        "colab": {
          "base_uri": "https://localhost:8080/"
        },
        "outputId": "256b568b-3c49-4d06-bc05-738df7a13e21"
      },
      "execution_count": 1,
      "outputs": [
        {
          "name": "stdout",
          "output_type": "stream",
          "text": [
            "Almabetter\n"
          ]
        },
        {
          "output_type": "execute_result",
          "data": {
            "text/plain": [
              "{'A': 1, 'l': 1, 'm': 1, 'a': 1, 'b': 1, 'e': 2, 't': 2, 'r': 1}"
            ]
          },
          "metadata": {},
          "execution_count": 1
        }
      ]
    },
    {
      "cell_type": "code",
      "source": [
        "def frequency(word):\n",
        "  frequency_char = {}\n",
        "  for char in word:\n",
        "    if char.isalpha():\n",
        "      char=char.lower()\n",
        "      frequency_char[char] = frequency_char.get(char,0)+1\n",
        "    else:\n",
        "      continue\n",
        "  return frequency_char\n",
        "\n",
        "word = input()\n",
        "frequency(word)\n",
        "\n"
      ],
      "metadata": {
        "colab": {
          "base_uri": "https://localhost:8080/"
        },
        "id": "7w-y_e24kd6X",
        "outputId": "2d60bbc5-e20c-4e27-c79c-6868dfeb16d1"
      },
      "execution_count": 4,
      "outputs": [
        {
          "name": "stdout",
          "output_type": "stream",
          "text": [
            "Almabetter Data Science\n"
          ]
        },
        {
          "output_type": "execute_result",
          "data": {
            "text/plain": [
              "{'a': 4,\n",
              " 'l': 1,\n",
              " 'm': 1,\n",
              " 'b': 1,\n",
              " 'e': 4,\n",
              " 't': 3,\n",
              " 'r': 1,\n",
              " 'd': 1,\n",
              " 's': 1,\n",
              " 'c': 2,\n",
              " 'i': 1,\n",
              " 'n': 1}"
            ]
          },
          "metadata": {},
          "execution_count": 4
        }
      ]
    },
    {
      "cell_type": "code",
      "source": [
        "#Searching Algorithm\n",
        "def linear_search(data,target):\n",
        "  for i in range(len(data)):\n",
        "    if data[i]==target:\n",
        "      return i\n",
        "  return -1\n",
        "\n",
        "data = [25,13,56,78,2]\n",
        "target = 25\n",
        "index = linear_search(data,target)\n",
        "\n",
        "if index!=-1:\n",
        "  print(f\"Target is {target} found at index {index}\")\n",
        "else:\n",
        "  print(f\"Target not found\")"
      ],
      "metadata": {
        "id": "PONjLOz2k21F"
      },
      "execution_count": null,
      "outputs": []
    },
    {
      "cell_type": "code",
      "source": [
        "#unique_list\n",
        "list1 = [1,2,3,5,5,6,7,2,9]\n",
        "unique_list = []\n",
        "for i in list1:\n",
        "  if i not in unique_list:\n",
        "    unique_list.append(i)\n",
        "print(unique_list)"
      ],
      "metadata": {
        "colab": {
          "base_uri": "https://localhost:8080/"
        },
        "id": "FAKjmlxel9Xx",
        "outputId": "e5b2ffda-b58c-4cfc-a7f0-60c5e2d40cf8"
      },
      "execution_count": 5,
      "outputs": [
        {
          "output_type": "stream",
          "name": "stdout",
          "text": [
            "[1, 2, 3, 5, 6, 7, 9]\n"
          ]
        }
      ]
    },
    {
      "cell_type": "code",
      "source": [
        "#GCD using loops\n",
        "\n",
        "def ComputeGCD(x,y):\n",
        "  if x>y:\n",
        "    small = y\n",
        "  else:\n",
        "    small = x\n",
        "\n",
        "  for i in range(1,small+1):\n",
        "    if ((x%i==0) and (y%i==0)):\n",
        "      gcd = i\n",
        "  return gcd\n",
        "\n",
        "x = int(input())\n",
        "y = int(input())\n",
        "ComputeGCD(x,y)"
      ],
      "metadata": {
        "colab": {
          "base_uri": "https://localhost:8080/"
        },
        "id": "lmpVINwomYKo",
        "outputId": "6eab4f3b-341c-4512-ddf2-176a591431c8"
      },
      "execution_count": 10,
      "outputs": [
        {
          "name": "stdout",
          "output_type": "stream",
          "text": [
            "12\n",
            "24\n"
          ]
        },
        {
          "output_type": "execute_result",
          "data": {
            "text/plain": [
              "12"
            ]
          },
          "metadata": {},
          "execution_count": 10
        }
      ]
    },
    {
      "cell_type": "code",
      "source": [
        "#using Recursion\n",
        "def hcfnaive(a,b):\n",
        "  if b==0:\n",
        "    return abs(a)\n",
        "  else:\n",
        "    return hcfnaive(b,a%b)\n",
        "\n",
        "a = int(input())\n",
        "b = int(input())\n",
        "hcfnaive(a,b)"
      ],
      "metadata": {
        "colab": {
          "base_uri": "https://localhost:8080/"
        },
        "id": "CRdbxea6nOUk",
        "outputId": "d5b4f946-3b76-40ef-f7f7-82b46d23ef89"
      },
      "execution_count": 11,
      "outputs": [
        {
          "name": "stdout",
          "output_type": "stream",
          "text": [
            "12\n",
            "24\n"
          ]
        },
        {
          "output_type": "execute_result",
          "data": {
            "text/plain": [
              "12"
            ]
          },
          "metadata": {},
          "execution_count": 11
        }
      ]
    },
    {
      "cell_type": "code",
      "source": [
        "#prime numbers\n",
        "\n",
        "def is_prime(n):\n",
        "  if n<2:\n",
        "    return False\n",
        "  for i in range(2,n):\n",
        "    if n%i==0:\n",
        "      return False\n",
        "  return True\n",
        "\n",
        "n = int(input())\n",
        "is_prime(n)"
      ],
      "metadata": {
        "colab": {
          "base_uri": "https://localhost:8080/"
        },
        "id": "879U5OvKogG1",
        "outputId": "c05ab423-1412-4c87-ce25-cb6639ff9952"
      },
      "execution_count": 13,
      "outputs": [
        {
          "name": "stdout",
          "output_type": "stream",
          "text": [
            "5\n"
          ]
        },
        {
          "output_type": "execute_result",
          "data": {
            "text/plain": [
              "True"
            ]
          },
          "metadata": {},
          "execution_count": 13
        }
      ]
    },
    {
      "cell_type": "code",
      "source": [
        "def isprime(n):\n",
        "  if n<2:\n",
        "    return False\n",
        "  for i in range(2,n):\n",
        "    if n%i ==0:\n",
        "      return False\n",
        "  return True\n",
        "\n",
        "n = int(input())\n",
        "isprime(n)"
      ],
      "metadata": {
        "colab": {
          "base_uri": "https://localhost:8080/"
        },
        "id": "q9CiKq96rrua",
        "outputId": "01643bc4-9e42-42d4-b67f-e6614f69d677"
      },
      "execution_count": 28,
      "outputs": [
        {
          "name": "stdout",
          "output_type": "stream",
          "text": [
            "4\n"
          ]
        },
        {
          "output_type": "execute_result",
          "data": {
            "text/plain": [
              "False"
            ]
          },
          "metadata": {},
          "execution_count": 28
        }
      ]
    },
    {
      "cell_type": "code",
      "source": [
        "#Number Palindrome\n",
        "\n",
        "def isPalindrome(number):\n",
        "    # Check if number is negative\n",
        "    # write your code here\n",
        "    if number<0:\n",
        "        return False\n",
        "\n",
        "    # Initialize variables\n",
        "    reversed_num = 0\n",
        "    temp = number\n",
        "\n",
        "    # Reverse the number\n",
        "    # write your code here\n",
        "    while temp!=0:\n",
        "        digit = temp%10\n",
        "        reversed_num = reversed_num*10 + digit\n",
        "        temp//=10\n",
        "\n",
        "    #Check if the number is a palindrome\n",
        "    # write your code here\n",
        "    if  reversed_num == number:\n",
        "        return True\n",
        "    else:\n",
        "        return False\n",
        "\n",
        "# Prompt for user input\n",
        "number = int(input())\n",
        "# Display the result\n",
        "result = isPalindrome(number)\n",
        "print(result)"
      ],
      "metadata": {
        "colab": {
          "base_uri": "https://localhost:8080/"
        },
        "id": "HD3_HJk-op2z",
        "outputId": "54a628de-4578-45ff-bfbf-fef37e5432a1"
      },
      "execution_count": 14,
      "outputs": [
        {
          "output_type": "stream",
          "name": "stdout",
          "text": [
            "121\n",
            "True\n"
          ]
        }
      ]
    },
    {
      "cell_type": "code",
      "source": [
        "#using Slicing\n",
        "def Numerical_palindrome(num):\n",
        "  num_list = list(str(num))\n",
        "  reversed_list = int(''.join(num_list[::-1]))\n",
        "  return reversed_list\n",
        "\n",
        "num = 121\n",
        "print(palindrome(num))"
      ],
      "metadata": {
        "colab": {
          "base_uri": "https://localhost:8080/"
        },
        "id": "2VSa-Oc1piQD",
        "outputId": "4080975c-fe6a-43a1-a0f6-2cd692985cf6"
      },
      "execution_count": 17,
      "outputs": [
        {
          "output_type": "stream",
          "name": "stdout",
          "text": [
            "121\n"
          ]
        }
      ]
    },
    {
      "cell_type": "code",
      "source": [
        "#Alphabetical Palindrome\n",
        "\n",
        "def Palindrome(word):\n",
        "  for ch in word:\n",
        "      if word == word[::-1]:\n",
        "        return True\n",
        "      else:\n",
        "        return False\n",
        "\n",
        "\n",
        "word = input()\n",
        "print(Palindrome(word))"
      ],
      "metadata": {
        "colab": {
          "base_uri": "https://localhost:8080/"
        },
        "id": "Lav3KRuyp6Fv",
        "outputId": "b6c9dd28-4a83-4cda-c223-1a9b0654c051"
      },
      "execution_count": 26,
      "outputs": [
        {
          "output_type": "stream",
          "name": "stdout",
          "text": [
            "civic\n",
            "True\n"
          ]
        }
      ]
    }
  ]
}