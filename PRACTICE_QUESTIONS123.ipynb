{
  "nbformat": 4,
  "nbformat_minor": 0,
  "metadata": {
    "colab": {
      "provenance": [],
      "authorship_tag": "ABX9TyMUUWoaIJltM+SBK7y9plcK",
      "include_colab_link": true
    },
    "kernelspec": {
      "name": "python3",
      "display_name": "Python 3"
    },
    "language_info": {
      "name": "python"
    }
  },
  "cells": [
    {
      "cell_type": "markdown",
      "metadata": {
        "id": "view-in-github",
        "colab_type": "text"
      },
      "source": [
        "<a href=\"https://colab.research.google.com/github/Tilak46-R/CODING-PRACTICE/blob/main/PRACTICE_QUESTIONS123.ipynb\" target=\"_parent\"><img src=\"https://colab.research.google.com/assets/colab-badge.svg\" alt=\"Open In Colab\"/></a>"
      ]
    },
    {
      "cell_type": "code",
      "execution_count": 1,
      "metadata": {
        "colab": {
          "base_uri": "https://localhost:8080/"
        },
        "id": "_TuPHQobt2bY",
        "outputId": "c59ec220-2876-4152-e77f-8153cd25556f"
      },
      "outputs": [
        {
          "output_type": "stream",
          "name": "stdout",
          "text": [
            "7\n",
            "13\n"
          ]
        }
      ],
      "source": [
        "#Fibonacci series\n",
        "\n",
        "def fibonacci(n):\n",
        "  if n==0:\n",
        "    return 0\n",
        "  elif n==1:\n",
        "    return 1\n",
        "  else:\n",
        "    return fibonacci(n-1) + fibonacci(n-2)\n",
        "\n",
        "nums = int(input())\n",
        "print(fibonacci(nums))"
      ]
    },
    {
      "cell_type": "code",
      "source": [
        "#Factorial\n",
        "\n",
        "def Factorial(n):\n",
        "  if n<=1:\n",
        "    return 1\n",
        "  else:\n",
        "    return n * Factorial(n-1)\n",
        "\n",
        "num = int(input())\n",
        "Factorial(num)"
      ],
      "metadata": {
        "colab": {
          "base_uri": "https://localhost:8080/"
        },
        "id": "b8jYViPjuO81",
        "outputId": "7f078990-94ba-491a-c6c9-d5fc4db3752c"
      },
      "execution_count": 2,
      "outputs": [
        {
          "name": "stdout",
          "output_type": "stream",
          "text": [
            "5\n"
          ]
        },
        {
          "output_type": "execute_result",
          "data": {
            "text/plain": [
              "120"
            ]
          },
          "metadata": {},
          "execution_count": 2
        }
      ]
    },
    {
      "cell_type": "code",
      "source": [
        "#Remove vowel from string\n",
        "\n",
        "def remove_vowel(strings):\n",
        "  vowel = 'aeiouAEIOU'\n",
        "\n",
        "  for ch in strings:\n",
        "    if ch in vowel:\n",
        "      strings = strings.replace(ch, '')\n",
        "  return strings\n",
        "\n",
        "strings = input()\n",
        "remove_vowel(strings)\n"
      ],
      "metadata": {
        "colab": {
          "base_uri": "https://localhost:8080/",
          "height": 53
        },
        "id": "FeoTnR50u1pe",
        "outputId": "0f691505-4c62-4cae-f9a3-c0a9a8d77680"
      },
      "execution_count": 4,
      "outputs": [
        {
          "name": "stdout",
          "output_type": "stream",
          "text": [
            "customfunctions\n"
          ]
        },
        {
          "output_type": "execute_result",
          "data": {
            "text/plain": [
              "'cstmfnctns'"
            ],
            "application/vnd.google.colaboratory.intrinsic+json": {
              "type": "string"
            }
          },
          "metadata": {},
          "execution_count": 4
        }
      ]
    },
    {
      "cell_type": "code",
      "source": [
        "#find consonant\n",
        "def find_consonant(strs):\n",
        "  consonant = ''\n",
        "  for ch in strs:\n",
        "    if ch not in  'aeiouAEIOU':\n",
        "      consonant += ch\n",
        "  return consonant\n",
        "\n",
        "strs = input()\n",
        "remove_vowel(strs)"
      ],
      "metadata": {
        "colab": {
          "base_uri": "https://localhost:8080/",
          "height": 53
        },
        "id": "Z2yXc8mTvXFx",
        "outputId": "1908ba0d-1c2e-48ee-e92c-5f34662636bf"
      },
      "execution_count": 5,
      "outputs": [
        {
          "name": "stdout",
          "output_type": "stream",
          "text": [
            "customfunctions\n"
          ]
        },
        {
          "output_type": "execute_result",
          "data": {
            "text/plain": [
              "'cstmfnctns'"
            ],
            "application/vnd.google.colaboratory.intrinsic+json": {
              "type": "string"
            }
          },
          "metadata": {},
          "execution_count": 5
        }
      ]
    },
    {
      "cell_type": "code",
      "source": [
        "#bubble sort\n",
        "\n",
        "def bubble_sort(arr):\n",
        "  n = len(arr)\n",
        "  for i in range(n):\n",
        "    for j in range(n-i-1):\n",
        "      if arr[j]>arr[j+1]:\n",
        "        arr[j],arr[j+1] = arr[j+1],arr[j]\n",
        "\n",
        "arr = eval(input())\n",
        "bubble_sort(arr)\n",
        "for i in range(len(arr)):\n",
        "  print(arr[i],'',end=\"\")\n"
      ],
      "metadata": {
        "colab": {
          "base_uri": "https://localhost:8080/"
        },
        "id": "z_YVd3BRvzKS",
        "outputId": "6d26a15b-2c42-4dee-99a6-8b9410726410"
      },
      "execution_count": 25,
      "outputs": [
        {
          "output_type": "stream",
          "name": "stdout",
          "text": [
            "[89,25,52,12,98,98]\n",
            "12 25 52 89 98 98 "
          ]
        }
      ]
    },
    {
      "cell_type": "code",
      "source": [],
      "metadata": {
        "id": "dMTCpw9Pwd3g"
      },
      "execution_count": null,
      "outputs": []
    }
  ]
}