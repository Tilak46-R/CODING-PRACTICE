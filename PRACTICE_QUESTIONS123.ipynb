{
  "nbformat": 4,
  "nbformat_minor": 0,
  "metadata": {
    "colab": {
      "provenance": [],
      "authorship_tag": "ABX9TyNGVaXyX3UBrTj5VS5WAaWo",
      "include_colab_link": true
    },
    "kernelspec": {
      "name": "python3",
      "display_name": "Python 3"
    },
    "language_info": {
      "name": "python"
    }
  },
  "cells": [
    {
      "cell_type": "markdown",
      "metadata": {
        "id": "view-in-github",
        "colab_type": "text"
      },
      "source": [
        "<a href=\"https://colab.research.google.com/github/Tilak46-R/CODING-PRACTICE/blob/main/PRACTICE_QUESTIONS123.ipynb\" target=\"_parent\"><img src=\"https://colab.research.google.com/assets/colab-badge.svg\" alt=\"Open In Colab\"/></a>"
      ]
    },
    {
      "cell_type": "code",
      "execution_count": null,
      "metadata": {
        "colab": {
          "base_uri": "https://localhost:8080/"
        },
        "id": "_TuPHQobt2bY",
        "outputId": "c59ec220-2876-4152-e77f-8153cd25556f"
      },
      "outputs": [
        {
          "output_type": "stream",
          "name": "stdout",
          "text": [
            "7\n",
            "13\n"
          ]
        }
      ],
      "source": [
        "#Fibonacci series\n",
        "\n",
        "def fibonacci(n):\n",
        "  if n==0:\n",
        "    return 0\n",
        "  elif n==1:\n",
        "    return 1\n",
        "  else:\n",
        "    return fibonacci(n-1) + fibonacci(n-2)\n",
        "\n",
        "nums = int(input())\n",
        "print(fibonacci(nums))"
      ]
    },
    {
      "cell_type": "code",
      "source": [
        "def fibonacci(n):\n",
        "  if n==0:\n",
        "    return 0\n",
        "  elif n==1:\n",
        "    return 1\n",
        "  else:\n",
        "    return fibonacci(n-1) + fibonacci(n-2)\n",
        "\n",
        "n = int(input())\n",
        "fibonacci(n)"
      ],
      "metadata": {
        "colab": {
          "base_uri": "https://localhost:8080/"
        },
        "id": "hX9S0H7sYJwA",
        "outputId": "30665404-2713-45bd-8353-ab5e329a8f3a"
      },
      "execution_count": null,
      "outputs": [
        {
          "name": "stdout",
          "output_type": "stream",
          "text": [
            "7\n"
          ]
        },
        {
          "output_type": "execute_result",
          "data": {
            "text/plain": [
              "13"
            ]
          },
          "metadata": {},
          "execution_count": 2
        }
      ]
    },
    {
      "cell_type": "code",
      "source": [
        "def Fibonacci(n):\n",
        " if n==0:"
      ],
      "metadata": {
        "id": "P5kjofbV7OIB"
      },
      "execution_count": null,
      "outputs": []
    },
    {
      "cell_type": "code",
      "source": [
        "def fibonacci(n):\n",
        "  if n==0:\n",
        "    return 0\n",
        "  elif n==1:\n",
        "    return 1\n",
        "  else:\n",
        "    return fibonacci(n-1) + fibonacci(n-2)\n",
        "\n",
        "n = int(input())\n",
        "\n",
        "for i in range(n):\n",
        "  print(fibonacci(i),end = \"\")"
      ],
      "metadata": {
        "colab": {
          "base_uri": "https://localhost:8080/"
        },
        "id": "5rDiScvt8vdM",
        "outputId": "003b8cb0-ee9c-491e-bbbd-6515d9a22367"
      },
      "execution_count": null,
      "outputs": [
        {
          "output_type": "stream",
          "name": "stdout",
          "text": [
            "5\n",
            "01123"
          ]
        }
      ]
    },
    {
      "cell_type": "code",
      "source": [
        "def fibonacci(n):\n",
        "  if n == 0:\n",
        "    return 0\n",
        "  elif n == 1:\n",
        "    return 1\n",
        "  else:\n",
        "    return fibonacci(n-1) + fibonacci(n-2)\n",
        "\n",
        "n = int(input())\n",
        "\n",
        "for i in range(n):\n",
        "  print(fibonacci(i),end = \"\")"
      ],
      "metadata": {
        "colab": {
          "base_uri": "https://localhost:8080/"
        },
        "id": "uGCBg5ipgsRE",
        "outputId": "6a1e6341-7995-4b0c-d4be-42eac81daf05"
      },
      "execution_count": null,
      "outputs": [
        {
          "output_type": "stream",
          "name": "stdout",
          "text": [
            "6\n",
            "011235"
          ]
        }
      ]
    },
    {
      "cell_type": "code",
      "source": [
        "def fibonaci(num):\n",
        "  if num == 0:\n",
        "    return 0\n",
        "  elif num ==1:\n",
        "    return 1\n",
        "  else:\n",
        "    return fibonaci(num-1) + fibonaci(num-2)\n",
        "\n",
        "num = int(input())\n",
        "fibonaci(num)"
      ],
      "metadata": {
        "colab": {
          "base_uri": "https://localhost:8080/"
        },
        "id": "FYe6PUE3opLL",
        "outputId": "3c6bd3c4-14ca-481c-c905-1a3f0932847f"
      },
      "execution_count": null,
      "outputs": [
        {
          "name": "stdout",
          "output_type": "stream",
          "text": [
            "5\n"
          ]
        },
        {
          "output_type": "execute_result",
          "data": {
            "text/plain": [
              "5"
            ]
          },
          "metadata": {},
          "execution_count": 2
        }
      ]
    },
    {
      "cell_type": "code",
      "source": [
        "def fibonacci(n):\n",
        "  if n==0:\n",
        "    return 0\n",
        "  elif n==1:\n",
        "    return 1\n",
        "  else:\n",
        "    return fibonacci(n-1) + fibonacci(n-2)\n",
        "\n",
        "for i in range(6):\n",
        "  print(fibonacci(i),end=\" \")"
      ],
      "metadata": {
        "colab": {
          "base_uri": "https://localhost:8080/"
        },
        "id": "r-VSC7Fbqj5r",
        "outputId": "0a599d1b-01fe-44be-9298-24479ae277e3"
      },
      "execution_count": null,
      "outputs": [
        {
          "output_type": "stream",
          "name": "stdout",
          "text": [
            "0 1 1 2 3 5 "
          ]
        }
      ]
    },
    {
      "cell_type": "code",
      "source": [
        "def fibonacci(n):\n",
        "  if n==0:\n",
        "    return 0\n",
        "  elif n==1:\n",
        "    return 1\n",
        "  else:\n",
        "    return fibonacci(n-1) + fibonacci(n-2)\n",
        "\n",
        "\n",
        "for i in range(0,7):\n",
        "  print(f\"For number {i} its fibonacci is {fibonacci(i)}\")"
      ],
      "metadata": {
        "colab": {
          "base_uri": "https://localhost:8080/"
        },
        "id": "Wz4bvjQ_lCpF",
        "outputId": "95c5b8ca-d083-4066-eab7-457c2055fe15"
      },
      "execution_count": null,
      "outputs": [
        {
          "output_type": "stream",
          "name": "stdout",
          "text": [
            "For number 0 its fibonacci is 0\n",
            "For number 1 its fibonacci is 1\n",
            "For number 2 its fibonacci is 1\n",
            "For number 3 its fibonacci is 2\n",
            "For number 4 its fibonacci is 3\n",
            "For number 5 its fibonacci is 5\n",
            "For number 6 its fibonacci is 8\n"
          ]
        }
      ]
    },
    {
      "cell_type": "code",
      "source": [
        "def fibonacci(n):\n",
        "  if n==0:\n",
        "    return 0\n",
        "  elif n==1:\n",
        "    return 1\n",
        "  else:\n",
        "    return fibonacci(n-1) + fibonacci(n-2)\n",
        "\n",
        "\n",
        "for i in range(0,7):\n",
        "  print(fibonacci(i),end=\" \")"
      ],
      "metadata": {
        "colab": {
          "base_uri": "https://localhost:8080/"
        },
        "id": "hZ0i-Ms2ogK2",
        "outputId": "779ef2e1-2a97-4f6e-9dce-6eea68a7872a"
      },
      "execution_count": null,
      "outputs": [
        {
          "output_type": "stream",
          "name": "stdout",
          "text": [
            "0 1 1 2 3 5 8 "
          ]
        }
      ]
    },
    {
      "cell_type": "code",
      "source": [
        "#Factorial\n",
        "\n",
        "def Factorial(n):\n",
        "  if n<=1:\n",
        "    return 1\n",
        "  else:\n",
        "    return n * Factorial(n-1)\n",
        "\n",
        "num = int(input())\n",
        "Factorial(num)"
      ],
      "metadata": {
        "colab": {
          "base_uri": "https://localhost:8080/"
        },
        "id": "b8jYViPjuO81",
        "outputId": "7f078990-94ba-491a-c6c9-d5fc4db3752c"
      },
      "execution_count": null,
      "outputs": [
        {
          "name": "stdout",
          "output_type": "stream",
          "text": [
            "5\n"
          ]
        },
        {
          "output_type": "execute_result",
          "data": {
            "text/plain": [
              "120"
            ]
          },
          "metadata": {},
          "execution_count": 2
        }
      ]
    },
    {
      "cell_type": "code",
      "source": [
        "def factorial(n):\n",
        "  if n==0 or n==1:\n",
        "    return 1\n",
        "  else:\n",
        "    return n * factorial(n-1)\n",
        "\n",
        "num = int(input())\n",
        "factorial(num)"
      ],
      "metadata": {
        "colab": {
          "base_uri": "https://localhost:8080/"
        },
        "id": "eVXkOaQJcz2-",
        "outputId": "118bc229-49d7-48e5-be10-edd45fe8c448"
      },
      "execution_count": null,
      "outputs": [
        {
          "name": "stdout",
          "output_type": "stream",
          "text": [
            "5\n"
          ]
        },
        {
          "output_type": "execute_result",
          "data": {
            "text/plain": [
              "120"
            ]
          },
          "metadata": {},
          "execution_count": 4
        }
      ]
    },
    {
      "cell_type": "code",
      "source": [
        "def factorial(n):\n",
        "  if n == 0 or n == 1:\n",
        "    return 1\n",
        "  else:\n",
        "    return n * factorial(n-1)\n",
        "\n",
        "n = int(input())\n",
        "\n",
        "for i in range(n+1):\n",
        "  print(factorial(i),end= \" \")"
      ],
      "metadata": {
        "colab": {
          "base_uri": "https://localhost:8080/"
        },
        "id": "4xssTy479Ini",
        "outputId": "aece8e41-1a91-4d19-eefb-ba07d98a1ce4"
      },
      "execution_count": null,
      "outputs": [
        {
          "output_type": "stream",
          "name": "stdout",
          "text": [
            "5\n",
            "1 1 2 6 24 120 "
          ]
        }
      ]
    },
    {
      "cell_type": "code",
      "source": [
        "def factorial(n):\n",
        "  if n == 0 or n==1:\n",
        "    return 1\n",
        "  else:\n",
        "    return n * factorial(n-1)\n",
        "\n",
        "n = int(input())\n",
        "\n",
        "for i in range(n):\n",
        "  print(factorial(i),end = \" \")"
      ],
      "metadata": {
        "colab": {
          "base_uri": "https://localhost:8080/"
        },
        "id": "zIrNySBmpRNy",
        "outputId": "93047d4b-b8f1-4c6b-cdf9-8702c2652d0d"
      },
      "execution_count": null,
      "outputs": [
        {
          "output_type": "stream",
          "name": "stdout",
          "text": [
            "6\n",
            "1 1 2 6 24 120 "
          ]
        }
      ]
    },
    {
      "cell_type": "code",
      "source": [
        "def factorial(n):\n",
        "  if n == 0 or n==1:\n",
        "    return 1\n",
        "  else:\n",
        "    return n * factorial(n-1)\n",
        "\n",
        "n = int(input())\n",
        "\n",
        "for  i in range(n):\n",
        "  print(factorial(i),end=\",\")"
      ],
      "metadata": {
        "colab": {
          "base_uri": "https://localhost:8080/"
        },
        "id": "0bDytH5vhiFD",
        "outputId": "05d0a4bf-095b-4ea0-c12c-0cc0af5a6371"
      },
      "execution_count": null,
      "outputs": [
        {
          "output_type": "stream",
          "name": "stdout",
          "text": [
            "5\n",
            "1,1,2,6,24,"
          ]
        }
      ]
    },
    {
      "cell_type": "code",
      "source": [
        "#Factorial num like series\n",
        "def factorial(n):\n",
        "    if n == 0 or n == 1:\n",
        "        return 1\n",
        "    else:\n",
        "        return n * factorial(n - 1)\n",
        "\n",
        "for i in range(1, 6):\n",
        "    print(factorial(i),end =\" \") # use end and give spacing to have spaces between  numbers"
      ],
      "metadata": {
        "colab": {
          "base_uri": "https://localhost:8080/"
        },
        "id": "6lQCNThWpBr7",
        "outputId": "1d4071e4-eadb-4113-de22-7a1696381612"
      },
      "execution_count": null,
      "outputs": [
        {
          "output_type": "stream",
          "name": "stdout",
          "text": [
            "1 2 6 24 120 "
          ]
        }
      ]
    },
    {
      "cell_type": "code",
      "source": [
        "def factorial(n):\n",
        "  if n<=0:\n",
        "    return 1\n",
        "  else:\n",
        "    return n * factorial(n-1)\n",
        "\n",
        "n = int(input())\n",
        "for i in range(1,n):\n",
        "  print(factorial(i),end = \" \")\n",
        "\n"
      ],
      "metadata": {
        "colab": {
          "base_uri": "https://localhost:8080/"
        },
        "id": "MWRkUr0HrD5s",
        "outputId": "7925fdf8-a04a-4541-c971-20654d70f38d"
      },
      "execution_count": null,
      "outputs": [
        {
          "output_type": "stream",
          "name": "stdout",
          "text": [
            "6\n",
            "1 2 6 24 120 "
          ]
        }
      ]
    },
    {
      "cell_type": "code",
      "source": [
        "def factorial(n):\n",
        "    if n == 0 or n == 1:\n",
        "        return 1\n",
        "    else:\n",
        "        return n * factorial(n - 1)\n",
        "\n",
        "for i in range(1, 6):\n",
        "    print(f\"Factorial of {i}: {factorial(i)}\")"
      ],
      "metadata": {
        "id": "S0SUgiH6A61v",
        "outputId": "aa1f56ed-f827-4bb2-e3eb-b5b38a53b82b",
        "colab": {
          "base_uri": "https://localhost:8080/"
        }
      },
      "execution_count": null,
      "outputs": [
        {
          "output_type": "stream",
          "name": "stdout",
          "text": [
            "Factorial of 1: 1\n",
            "Factorial of 2: 2\n",
            "Factorial of 3: 6\n",
            "Factorial of 4: 24\n",
            "Factorial of 5: 120\n"
          ]
        }
      ]
    },
    {
      "cell_type": "code",
      "source": [
        "#Remove vowel from string\n",
        "\n",
        "def remove_vowel(strings):\n",
        "  vowel = 'aeiouAEIOU'\n",
        "\n",
        "  for ch in strings:\n",
        "    if ch in vowel:\n",
        "      strings = strings.replace(ch, '')\n",
        "  return strings\n",
        "\n",
        "strings = input()\n",
        "remove_vowel(strings)\n"
      ],
      "metadata": {
        "colab": {
          "base_uri": "https://localhost:8080/",
          "height": 53
        },
        "id": "FeoTnR50u1pe",
        "outputId": "0f691505-4c62-4cae-f9a3-c0a9a8d77680"
      },
      "execution_count": null,
      "outputs": [
        {
          "name": "stdout",
          "output_type": "stream",
          "text": [
            "customfunctions\n"
          ]
        },
        {
          "output_type": "execute_result",
          "data": {
            "text/plain": [
              "'cstmfnctns'"
            ],
            "application/vnd.google.colaboratory.intrinsic+json": {
              "type": "string"
            }
          },
          "metadata": {},
          "execution_count": 4
        }
      ]
    },
    {
      "cell_type": "code",
      "source": [
        "def consonants(string):\n",
        "  vowel = 'aeiouAEIOU'\n",
        "  consonant = \"\"\n",
        "\n",
        "  for ch in string:\n",
        "    if ch not in vowel:\n",
        "      consonant+=ch\n",
        "  return consonant\n",
        "\n",
        "strings = input()\n",
        "consonants(strings)"
      ],
      "metadata": {
        "colab": {
          "base_uri": "https://localhost:8080/",
          "height": 53
        },
        "id": "rOV3PmraeubV",
        "outputId": "8b2e9818-eaea-4e21-da4d-219cb639abe7"
      },
      "execution_count": null,
      "outputs": [
        {
          "name": "stdout",
          "output_type": "stream",
          "text": [
            "consonants\n"
          ]
        },
        {
          "output_type": "execute_result",
          "data": {
            "text/plain": [
              "'cnsnnts'"
            ],
            "application/vnd.google.colaboratory.intrinsic+json": {
              "type": "string"
            }
          },
          "metadata": {},
          "execution_count": 7
        }
      ]
    },
    {
      "cell_type": "code",
      "source": [
        "def consonants(string):\n",
        "  vowel = 'aeiouAEIOU'\n",
        "  consonant = ''\n",
        "\n",
        "  for ch in string:\n",
        "    if ch not in vowel:\n",
        "      consonant+=ch\n",
        "  return consonant\n",
        "\n",
        "string = input()\n",
        "consonants(string)\n"
      ],
      "metadata": {
        "colab": {
          "base_uri": "https://localhost:8080/",
          "height": 53
        },
        "id": "xR_y1keyp7g1",
        "outputId": "722bd91e-2ff3-45ee-9170-0dc49c540dd1"
      },
      "execution_count": null,
      "outputs": [
        {
          "name": "stdout",
          "output_type": "stream",
          "text": [
            "custom\n"
          ]
        },
        {
          "output_type": "execute_result",
          "data": {
            "text/plain": [
              "'cstm'"
            ],
            "application/vnd.google.colaboratory.intrinsic+json": {
              "type": "string"
            }
          },
          "metadata": {},
          "execution_count": 12
        }
      ]
    },
    {
      "cell_type": "code",
      "source": [
        "def consonants(string):\n",
        "  vowel = 'aeiouAEIOU'\n",
        "  consonant = ''\n",
        "\n",
        "  for ch in string:\n",
        "    if ch not in vowel:\n",
        "      consonant+=ch\n",
        "  return consonant\n",
        "\n",
        "string = input()\n",
        "consonants(string)\n"
      ],
      "metadata": {
        "colab": {
          "base_uri": "https://localhost:8080/",
          "height": 53
        },
        "id": "FIZfXiLLh2RP",
        "outputId": "e4d2f958-1c41-42bf-9e3f-9bda0d144ae9"
      },
      "execution_count": null,
      "outputs": [
        {
          "name": "stdout",
          "output_type": "stream",
          "text": [
            "custom functions\n"
          ]
        },
        {
          "output_type": "execute_result",
          "data": {
            "text/plain": [
              "'cstm fnctns'"
            ],
            "application/vnd.google.colaboratory.intrinsic+json": {
              "type": "string"
            }
          },
          "metadata": {},
          "execution_count": 10
        }
      ]
    },
    {
      "cell_type": "code",
      "source": [
        "def vowel_remove(strings):\n",
        "  vowel = 'aeiouAEIOU'\n",
        "\n",
        "  for ch in strings:\n",
        "    if ch in vowel:\n",
        "      strings = strings.replace(ch, \"\")\n",
        "  return strings\n",
        "\n",
        "strings = input()\n",
        "vowel_remove(strings)"
      ],
      "metadata": {
        "colab": {
          "base_uri": "https://localhost:8080/",
          "height": 53
        },
        "id": "-R0H_sqjrmc0",
        "outputId": "027ebf67-6e1c-4eb1-d374-9fcee6d55242"
      },
      "execution_count": null,
      "outputs": [
        {
          "name": "stdout",
          "output_type": "stream",
          "text": [
            "customfunctions\n"
          ]
        },
        {
          "output_type": "execute_result",
          "data": {
            "text/plain": [
              "'cstmfnctns'"
            ],
            "application/vnd.google.colaboratory.intrinsic+json": {
              "type": "string"
            }
          },
          "metadata": {},
          "execution_count": 6
        }
      ]
    },
    {
      "cell_type": "code",
      "source": [
        "def remove_vowels(words):\n",
        "  vowels = 'AEIOUaeiou'\n",
        "  consonant = ''\n",
        "\n",
        "  for word in words:\n",
        "    if word not in vowels:\n",
        "      consonant+=word\n",
        "  return consonant\n",
        "\n",
        "words = input()\n",
        "remove_vowels(words)"
      ],
      "metadata": {
        "colab": {
          "base_uri": "https://localhost:8080/",
          "height": 53
        },
        "id": "iDYoJ9zj-gNO",
        "outputId": "ef03c8e1-0d66-4b80-9eb6-13bd11b66520"
      },
      "execution_count": null,
      "outputs": [
        {
          "name": "stdout",
          "output_type": "stream",
          "text": [
            "Almabetter\n"
          ]
        },
        {
          "output_type": "execute_result",
          "data": {
            "text/plain": [
              "'lmbttr'"
            ],
            "application/vnd.google.colaboratory.intrinsic+json": {
              "type": "string"
            }
          },
          "metadata": {},
          "execution_count": 19
        }
      ]
    },
    {
      "cell_type": "code",
      "source": [
        "def remove_vowels(words):\n",
        "  vowels = 'AEIOUaeiou'\n",
        "\n",
        "  for word in words:\n",
        "    if word in vowels:\n",
        "      words = words.replace(word,'')\n",
        "  return words\n",
        "\n",
        "words = input()\n",
        "remove_vowels(words)"
      ],
      "metadata": {
        "colab": {
          "base_uri": "https://localhost:8080/",
          "height": 53
        },
        "id": "l-Jpu6FU_BZN",
        "outputId": "0d1a51d6-f0b4-4984-ddf9-868790055894"
      },
      "execution_count": null,
      "outputs": [
        {
          "name": "stdout",
          "output_type": "stream",
          "text": [
            "Almabetter\n"
          ]
        },
        {
          "output_type": "execute_result",
          "data": {
            "text/plain": [
              "'lmbttr'"
            ],
            "application/vnd.google.colaboratory.intrinsic+json": {
              "type": "string"
            }
          },
          "metadata": {},
          "execution_count": 21
        }
      ]
    },
    {
      "cell_type": "code",
      "source": [
        "def remove_vowels(words):\n",
        "  vowels = 'AEIOUaeiou'\n",
        "\n",
        "  for word in words:\n",
        "    if word in vowels:\n",
        "      words = words.replace(word,'')\n",
        "  return words\n",
        "\n",
        "words = input()\n",
        "remove_vowels(words)\n"
      ],
      "metadata": {
        "colab": {
          "base_uri": "https://localhost:8080/",
          "height": 53
        },
        "id": "MIhLkqonqiQ0",
        "outputId": "05efc465-dc80-4b6f-dbdc-fa6f2505b4c8"
      },
      "execution_count": null,
      "outputs": [
        {
          "name": "stdout",
          "output_type": "stream",
          "text": [
            "Almabetter\n"
          ]
        },
        {
          "output_type": "execute_result",
          "data": {
            "text/plain": [
              "'lmbttr'"
            ],
            "application/vnd.google.colaboratory.intrinsic+json": {
              "type": "string"
            }
          },
          "metadata": {},
          "execution_count": 13
        }
      ]
    },
    {
      "cell_type": "code",
      "source": [
        "#find consonant\n",
        "def find_consonant(strs):\n",
        "  consonant = ''\n",
        "  for ch in strs:\n",
        "    if ch not in  'aeiouAEIOU':\n",
        "      consonant += ch\n",
        "  return consonant\n",
        "\n",
        "strs = input()\n",
        "remove_vowel(strs)"
      ],
      "metadata": {
        "colab": {
          "base_uri": "https://localhost:8080/",
          "height": 53
        },
        "id": "Z2yXc8mTvXFx",
        "outputId": "1908ba0d-1c2e-48ee-e92c-5f34662636bf"
      },
      "execution_count": null,
      "outputs": [
        {
          "name": "stdout",
          "output_type": "stream",
          "text": [
            "customfunctions\n"
          ]
        },
        {
          "output_type": "execute_result",
          "data": {
            "text/plain": [
              "'cstmfnctns'"
            ],
            "application/vnd.google.colaboratory.intrinsic+json": {
              "type": "string"
            }
          },
          "metadata": {},
          "execution_count": 5
        }
      ]
    },
    {
      "cell_type": "code",
      "source": [
        "#bubble sort\n",
        "\n",
        "def bubble_sort(arr):\n",
        "  n = len(arr)\n",
        "  for i in range(n):\n",
        "    for j in range(n-i-1):\n",
        "      if arr[j]>arr[j+1]:\n",
        "        arr[j],arr[j+1] = arr[j+1],arr[j]\n",
        "\n",
        "arr = eval(input())\n",
        "bubble_sort(arr)\n",
        "for i in range(len(arr)):\n",
        "  print(arr[i],'',end=\"\")\n"
      ],
      "metadata": {
        "colab": {
          "base_uri": "https://localhost:8080/"
        },
        "id": "z_YVd3BRvzKS",
        "outputId": "6d26a15b-2c42-4dee-99a6-8b9410726410"
      },
      "execution_count": null,
      "outputs": [
        {
          "output_type": "stream",
          "name": "stdout",
          "text": [
            "[89,25,52,12,98,98]\n",
            "12 25 52 89 98 98 "
          ]
        }
      ]
    },
    {
      "cell_type": "code",
      "source": [
        "def bubble_sort(arr):\n",
        "  n = len(arr)\n",
        "\n",
        "  for i in range(n):\n",
        "    for j in range(n-i-1):\n",
        "      if arr[j]>arr[j+1]:\n",
        "        arr[j],arr[j+1]=arr[j+1],arr[j]\n",
        "\n",
        "arr = eval(input())\n",
        "bubble_sort(arr)\n",
        "\n",
        "for i in range(len(arr)):\n",
        "  print(arr[i],end = \",\")"
      ],
      "metadata": {
        "colab": {
          "base_uri": "https://localhost:8080/"
        },
        "id": "gzbm9ZPkq0AU",
        "outputId": "425d3ded-cc03-4302-ac83-991097043773"
      },
      "execution_count": null,
      "outputs": [
        {
          "output_type": "stream",
          "name": "stdout",
          "text": [
            "[89,25,52,12,98,98]\n",
            "12,25,52,89,98,98,"
          ]
        }
      ]
    },
    {
      "cell_type": "code",
      "source": [
        "def bubble_sort(arr):\n",
        "  n = len(arr)\n",
        "\n",
        "  for i in range(n):\n",
        "    for j in range(n-i-1):\n",
        "      if arr[j]>arr[j+1]:\n",
        "        arr[j],arr[j+1]=arr[j+1],arr[j]\n",
        "\n",
        "arr = eval(input())\n",
        "bubble_sort(arr)\n",
        "\n",
        "for i in range(len(arr)):\n",
        "  print(arr[i],end = \",\")"
      ],
      "metadata": {
        "colab": {
          "base_uri": "https://localhost:8080/"
        },
        "id": "PaIynzRHh3SL",
        "outputId": "b98775ef-d0f0-4007-81d3-b95b88b14d7d"
      },
      "execution_count": null,
      "outputs": [
        {
          "output_type": "stream",
          "name": "stdout",
          "text": [
            "[89,25,52,12,98,98]\n",
            "12,25,52,89,98,98,"
          ]
        }
      ]
    },
    {
      "cell_type": "code",
      "source": [
        "def bubble_sort(arr):\n",
        "  n = len(arr)\n",
        "  for i in range(n):\n",
        "    for j in range(n-i-1):\n",
        "      if arr[j]>arr[j+1]:\n",
        "        arr[j],arr[j+1]= arr[j+1],arr[j]\n",
        "\n",
        "arr = eval(input())\n",
        "bubble_sort(arr)\n",
        "\n",
        "for i in range(n):\n",
        "  print(arr[i], end=\" \")"
      ],
      "metadata": {
        "colab": {
          "base_uri": "https://localhost:8080/"
        },
        "id": "5klvqXplsRlc",
        "outputId": "ced6abd0-94c8-4227-ffbd-3b62b19e411c"
      },
      "execution_count": null,
      "outputs": [
        {
          "output_type": "stream",
          "name": "stdout",
          "text": [
            "[89,25,52,12,98,98]\n",
            "12 25 52 89 98 98 "
          ]
        }
      ]
    },
    {
      "cell_type": "code",
      "source": [
        "def bubble_sort(arr):\n",
        "  n = len(arr)\n",
        "  for i in range(n):\n",
        "    for j in range(n-i-1):\n",
        "      if arr[j]>arr[j+1]:\n",
        "        arr[j],arr[j+1]=arr[j+1],arr[j]\n",
        "\n",
        "arr = eval(input())\n",
        "bubble_sort(arr)\n",
        "for i in range(len(arr)):\n",
        "  print(arr[i],end=\" \")"
      ],
      "metadata": {
        "colab": {
          "base_uri": "https://localhost:8080/"
        },
        "id": "1pRT6sOH_q-7",
        "outputId": "f5dd72cc-7e94-4368-c119-e35717c9e55f"
      },
      "execution_count": null,
      "outputs": [
        {
          "output_type": "stream",
          "name": "stdout",
          "text": [
            "[89,25,52,12,98,98]\n",
            "12 25 52 89 98 98 "
          ]
        }
      ]
    },
    {
      "cell_type": "code",
      "source": [
        "#Merge two lists and sort two lists and remove duplicates\n",
        "\n",
        "list1 = [1,2,3,4,5,6]\n",
        "list2 = [2,4,5,6,8,9]\n",
        "merged_list = list1 + list2\n",
        "print(list(set(merged_list)))"
      ],
      "metadata": {
        "colab": {
          "base_uri": "https://localhost:8080/"
        },
        "id": "dMTCpw9Pwd3g",
        "outputId": "da2f4652-7d6b-49fe-ab00-b7eeb84df728"
      },
      "execution_count": null,
      "outputs": [
        {
          "output_type": "stream",
          "name": "stdout",
          "text": [
            "[1, 2, 3, 4, 5, 6, 8, 9]\n"
          ]
        }
      ]
    },
    {
      "cell_type": "code",
      "source": [
        "list1 = [1,2,3,4,5,6]\n",
        "list2 = [2,4,5,6,8,9]\n",
        "list3 = list1 + list2\n",
        "print(list(set(list3)))"
      ],
      "metadata": {
        "colab": {
          "base_uri": "https://localhost:8080/"
        },
        "id": "qt0NpQW1r3ab",
        "outputId": "7d9a332f-b166-4d93-c86f-73572dce1cad"
      },
      "execution_count": null,
      "outputs": [
        {
          "output_type": "stream",
          "name": "stdout",
          "text": [
            "[1, 2, 3, 4, 5, 6, 8, 9]\n"
          ]
        }
      ]
    },
    {
      "cell_type": "code",
      "source": [
        "#remove duplicates Approach 1\n",
        "\n",
        "list1 = [1,2,1,4,1,5,1,6,1,3]\n",
        "unique_list = set(list1)\n",
        "print(list(unique_list))"
      ],
      "metadata": {
        "colab": {
          "base_uri": "https://localhost:8080/"
        },
        "id": "CfICbHacA6WG",
        "outputId": "37755289-d5cf-4a7f-ff27-45cd24dfcf03"
      },
      "execution_count": null,
      "outputs": [
        {
          "output_type": "stream",
          "name": "stdout",
          "text": [
            "[1, 2, 3, 4, 5, 6]\n"
          ]
        }
      ]
    },
    {
      "cell_type": "code",
      "source": [
        "list1 = [1,2,1,4,1,5,1,6,1,3]\n",
        "unique_list = set(list1)\n",
        "print(list(unique_list))"
      ],
      "metadata": {
        "colab": {
          "base_uri": "https://localhost:8080/"
        },
        "id": "6LA24Ab9syaV",
        "outputId": "42070459-b5ec-475b-8cd2-0bb0e4bfdf6d"
      },
      "execution_count": null,
      "outputs": [
        {
          "output_type": "stream",
          "name": "stdout",
          "text": [
            "[1, 2, 3, 4, 5, 6]\n"
          ]
        }
      ]
    },
    {
      "cell_type": "code",
      "source": [
        "#appproach 2\n",
        "\n",
        "def remove_duplicates(nums):\n",
        "  unique_list = []\n",
        "\n",
        "  for num in nums:\n",
        "    if num not in unique_list:\n",
        "      unique_list.append(num)\n",
        "  return unique_list\n",
        "\n",
        "num = eval(input())\n",
        "remove_duplicates(num)"
      ],
      "metadata": {
        "colab": {
          "base_uri": "https://localhost:8080/"
        },
        "id": "Cqd_Iv8wBN2N",
        "outputId": "9b9f90dd-4210-4a98-edbd-47dabd746b12"
      },
      "execution_count": null,
      "outputs": [
        {
          "name": "stdout",
          "output_type": "stream",
          "text": [
            "[1,2,1,4,1,5,1,6,1,3]\n"
          ]
        },
        {
          "output_type": "execute_result",
          "data": {
            "text/plain": [
              "[1, 2, 4, 5, 6, 3]"
            ]
          },
          "metadata": {},
          "execution_count": 29
        }
      ]
    },
    {
      "cell_type": "code",
      "source": [
        "def remove_duplicates(nums):\n",
        "  unique = []\n",
        "\n",
        "  for num in nums:\n",
        "    if num not in unique:\n",
        "      unique.append(num)\n",
        "  return unique\n",
        "\n",
        "nums = eval(input())\n",
        "remove_duplicates(nums)"
      ],
      "metadata": {
        "colab": {
          "base_uri": "https://localhost:8080/"
        },
        "id": "UNrQ2xQKr_Er",
        "outputId": "62e73090-6a48-44cc-a678-3d21071e0058"
      },
      "execution_count": null,
      "outputs": [
        {
          "name": "stdout",
          "output_type": "stream",
          "text": [
            "[1,2,1,4,1,5,1,6,1,3]\n"
          ]
        },
        {
          "output_type": "execute_result",
          "data": {
            "text/plain": [
              "[1, 2, 4, 5, 6, 3]"
            ]
          },
          "metadata": {},
          "execution_count": 19
        }
      ]
    },
    {
      "cell_type": "code",
      "source": [
        "def remove_duplicates(lst):\n",
        "  unique_list = []\n",
        "\n",
        "  for num in lst:\n",
        "    if num not in unique_list:\n",
        "      unique_list.append(num)\n",
        "  return unique_list\n",
        "nums = eval(input())\n",
        "remove_duplicates(nums)\n"
      ],
      "metadata": {
        "colab": {
          "base_uri": "https://localhost:8080/"
        },
        "id": "P6xfMD7IjL1s",
        "outputId": "0a1544fc-a13a-4ac0-eef0-2196016d15e0"
      },
      "execution_count": null,
      "outputs": [
        {
          "name": "stdout",
          "output_type": "stream",
          "text": [
            "[1,2,1,4,1,5,1,6,1,3]\n"
          ]
        },
        {
          "output_type": "execute_result",
          "data": {
            "text/plain": [
              "[1, 2, 4, 5, 6, 3]"
            ]
          },
          "metadata": {},
          "execution_count": 11
        }
      ]
    },
    {
      "cell_type": "code",
      "source": [
        "def remove_duplicates(lst):\n",
        "  unique_list = []\n",
        "\n",
        "  for num in lst:\n",
        "    if num not in unique_list:\n",
        "      unique_list.append(num)\n",
        "  return unique_list\n",
        "\n",
        "lst = eval(input())\n",
        "remove_duplicates(lst)\n"
      ],
      "metadata": {
        "colab": {
          "base_uri": "https://localhost:8080/"
        },
        "id": "U5lCPDSBtGXN",
        "outputId": "494e9d04-f2cc-491a-d6f6-7c9bd123d585"
      },
      "execution_count": null,
      "outputs": [
        {
          "name": "stdout",
          "output_type": "stream",
          "text": [
            "[1,2,1,4,1,5,1,6,1,3]\n"
          ]
        },
        {
          "output_type": "execute_result",
          "data": {
            "text/plain": [
              "[1, 2, 4, 5, 6, 3]"
            ]
          },
          "metadata": {},
          "execution_count": 9
        }
      ]
    },
    {
      "cell_type": "code",
      "source": [
        "#Frequency of char #Appproach 1\n",
        "\n",
        "def frequency(word):\n",
        "  frequency_char = {}\n",
        "\n",
        "  for char in word:\n",
        "    if char in frequency_char:\n",
        "      frequency_char[char]+=1\n",
        "    else:\n",
        "      frequency_char[char]=1\n",
        "  return frequency_char\n",
        "\n",
        "word = input()\n",
        "frequency(word)"
      ],
      "metadata": {
        "id": "SNIuCSSSzKqd",
        "colab": {
          "base_uri": "https://localhost:8080/"
        },
        "outputId": "256b568b-3c49-4d06-bc05-738df7a13e21"
      },
      "execution_count": null,
      "outputs": [
        {
          "name": "stdout",
          "output_type": "stream",
          "text": [
            "Almabetter\n"
          ]
        },
        {
          "output_type": "execute_result",
          "data": {
            "text/plain": [
              "{'A': 1, 'l': 1, 'm': 1, 'a': 1, 'b': 1, 'e': 2, 't': 2, 'r': 1}"
            ]
          },
          "metadata": {},
          "execution_count": 1
        }
      ]
    },
    {
      "cell_type": "code",
      "source": [
        "def frequency(word):\n",
        "  frequency_char = {}\n",
        "\n",
        "  for ch in word:\n",
        "    if ch in frequency_char:\n",
        "      frequency_char[ch]+=1\n",
        "    else:\n",
        "      frequency_char[ch]=1\n",
        "  return frequency_char\n",
        "\n",
        "word = input()\n",
        "frequency(word)"
      ],
      "metadata": {
        "colab": {
          "base_uri": "https://localhost:8080/"
        },
        "id": "wvLtgkzGsidr",
        "outputId": "1ef090f1-e1a8-4786-aada-43e46b5ff2e0"
      },
      "execution_count": null,
      "outputs": [
        {
          "name": "stdout",
          "output_type": "stream",
          "text": [
            "Almabetter\n"
          ]
        },
        {
          "output_type": "execute_result",
          "data": {
            "text/plain": [
              "{'A': 1, 'l': 1, 'm': 1, 'a': 1, 'b': 1, 'e': 2, 't': 2, 'r': 1}"
            ]
          },
          "metadata": {},
          "execution_count": 20
        }
      ]
    },
    {
      "cell_type": "code",
      "source": [
        "# removing spaces\n",
        "def frequency(word):\n",
        "  frequency_char = {}\n",
        "\n",
        "  for char in word:\n",
        "   if char.isalpha():\n",
        "    if char in frequency_char:\n",
        "      frequency_char[char]+=1\n",
        "    else:\n",
        "      frequency_char[char]=1\n",
        "   else:\n",
        "      continue\n",
        "  return frequency_char\n",
        "\n",
        "word = input()\n",
        "frequency(word)"
      ],
      "metadata": {
        "colab": {
          "base_uri": "https://localhost:8080/"
        },
        "id": "76zjBhJ2CSfG",
        "outputId": "6d19a67b-4741-4643-d46d-33eb006a298b"
      },
      "execution_count": null,
      "outputs": [
        {
          "name": "stdout",
          "output_type": "stream",
          "text": [
            "almabetter data science\n"
          ]
        },
        {
          "output_type": "execute_result",
          "data": {
            "text/plain": [
              "{'a': 4,\n",
              " 'l': 1,\n",
              " 'm': 1,\n",
              " 'b': 1,\n",
              " 'e': 4,\n",
              " 't': 3,\n",
              " 'r': 1,\n",
              " 'd': 1,\n",
              " 's': 1,\n",
              " 'c': 2,\n",
              " 'i': 1,\n",
              " 'n': 1}"
            ]
          },
          "metadata": {},
          "execution_count": 2
        }
      ]
    },
    {
      "cell_type": "code",
      "source": [
        "#Appproach 2\n",
        "\n",
        "def frequency(word):\n",
        "  frequency_char = {}\n",
        "  for char in word:\n",
        "    if char.isalpha():\n",
        "      char=char.lower()\n",
        "      frequency_char[char] = frequency_char.get(char,0)+1\n",
        "    else:\n",
        "      continue\n",
        "  return frequency_char\n",
        "\n",
        "word = input()\n",
        "frequency(word)\n",
        "\n"
      ],
      "metadata": {
        "colab": {
          "base_uri": "https://localhost:8080/"
        },
        "id": "7w-y_e24kd6X",
        "outputId": "078d9087-fb1c-4dfa-d51a-2a95f3140e1f"
      },
      "execution_count": null,
      "outputs": [
        {
          "name": "stdout",
          "output_type": "stream",
          "text": [
            "almabetter\n"
          ]
        },
        {
          "output_type": "execute_result",
          "data": {
            "text/plain": [
              "{'a': 2, 'l': 1, 'm': 1, 'b': 1, 'e': 2, 't': 2, 'r': 1}"
            ]
          },
          "metadata": {},
          "execution_count": 3
        }
      ]
    },
    {
      "cell_type": "code",
      "source": [
        "#Searching Algorithm\n",
        "def linear_search(data,target):\n",
        "  for i in range(len(data)):\n",
        "    if data[i]==target:\n",
        "      return i\n",
        "  return -1\n",
        "\n",
        "data = [25,13,56,78,2]\n",
        "target = 25\n",
        "index = linear_search(data,target)\n",
        "\n",
        "if index!=-1:\n",
        "  print(f\"Target is {target} found at index {index}\")\n",
        "else:\n",
        "  print(f\"Target not found\")"
      ],
      "metadata": {
        "id": "PONjLOz2k21F"
      },
      "execution_count": null,
      "outputs": []
    },
    {
      "cell_type": "code",
      "source": [
        "def search(arr,target):\n",
        "  for i in range(len(arr)):\n",
        "    if arr[i]==target:\n",
        "      return i\n",
        "  return -1\n",
        "\n",
        "data = eval(input())\n",
        "target = int(input())\n",
        "index = search(data,target)\n",
        "\n",
        "if index != -1:\n",
        "  print(f\"The \")"
      ],
      "metadata": {
        "id": "VOkhOpxKt0hm"
      },
      "execution_count": null,
      "outputs": []
    },
    {
      "cell_type": "code",
      "source": [
        "#unique_list\n",
        "list1 = [1,2,3,5,5,6,7,2,9]\n",
        "unique_list = []\n",
        "for i in list1:\n",
        "  if i not in unique_list:\n",
        "    unique_list.append(i)\n",
        "print(unique_list)"
      ],
      "metadata": {
        "colab": {
          "base_uri": "https://localhost:8080/"
        },
        "id": "FAKjmlxel9Xx",
        "outputId": "e5b2ffda-b58c-4cfc-a7f0-60c5e2d40cf8"
      },
      "execution_count": null,
      "outputs": [
        {
          "output_type": "stream",
          "name": "stdout",
          "text": [
            "[1, 2, 3, 5, 6, 7, 9]\n"
          ]
        }
      ]
    },
    {
      "cell_type": "code",
      "source": [
        "#GCD using loops Approach 1\n",
        "\n",
        "def ComputeGCD(x,y):\n",
        "  if x>y:\n",
        "    small = y\n",
        "  else:\n",
        "    small = x\n",
        "\n",
        "  for i in range(1,small+1):\n",
        "    if ((x%i==0) and (y%i==0)):\n",
        "      gcd = i\n",
        "  return gcd\n",
        "\n",
        "x = int(input())\n",
        "y = int(input())\n",
        "ComputeGCD(x,y)"
      ],
      "metadata": {
        "colab": {
          "base_uri": "https://localhost:8080/"
        },
        "id": "lmpVINwomYKo",
        "outputId": "6eab4f3b-341c-4512-ddf2-176a591431c8"
      },
      "execution_count": null,
      "outputs": [
        {
          "name": "stdout",
          "output_type": "stream",
          "text": [
            "12\n",
            "24\n"
          ]
        },
        {
          "output_type": "execute_result",
          "data": {
            "text/plain": [
              "12"
            ]
          },
          "metadata": {},
          "execution_count": 10
        }
      ]
    },
    {
      "cell_type": "code",
      "source": [
        "def hcf(x,y):\n",
        "  if x>y:\n",
        "    small = y\n",
        "  else:\n",
        "    small = x\n",
        "\n",
        "  for i in range(1,small+1):\n",
        "    if ((x%i==0) and (y%i==0)):\n",
        "      hcf = i\n",
        "  return hcf\n",
        "\n",
        "x = int(input())\n",
        "y = int(input())\n",
        "hcf(x,y)"
      ],
      "metadata": {
        "colab": {
          "base_uri": "https://localhost:8080/"
        },
        "id": "jXkoeYWZs-Uh",
        "outputId": "22bd2010-452f-423f-a573-b4ebbf7f10da"
      },
      "execution_count": null,
      "outputs": [
        {
          "name": "stdout",
          "output_type": "stream",
          "text": [
            "12\n",
            "60\n"
          ]
        },
        {
          "output_type": "execute_result",
          "data": {
            "text/plain": [
              "12"
            ]
          },
          "metadata": {},
          "execution_count": 21
        }
      ]
    },
    {
      "cell_type": "code",
      "source": [
        "def computegcd(x,y):\n",
        "  if x>y:\n",
        "    small = y\n",
        "  else:\n",
        "    small = x\n",
        "  for i in range(1,small+1):\n",
        "    if ((x%i==0) and (y%i==0)):\n",
        "      gcd = i\n",
        "  return gcd\n",
        "\n",
        "x = int(input())\n",
        "y = int(input())\n",
        "computegcd(x,y)"
      ],
      "metadata": {
        "colab": {
          "base_uri": "https://localhost:8080/"
        },
        "id": "ebi0YlqoEJ9O",
        "outputId": "88e9af5a-3e17-4995-f21f-b99a9ae8bb8e"
      },
      "execution_count": null,
      "outputs": [
        {
          "name": "stdout",
          "output_type": "stream",
          "text": [
            "24\n",
            "96\n"
          ]
        },
        {
          "output_type": "execute_result",
          "data": {
            "text/plain": [
              "24"
            ]
          },
          "metadata": {},
          "execution_count": 4
        }
      ]
    },
    {
      "cell_type": "code",
      "source": [
        "#using Recursion Approach 2\n",
        "def hcfnaive(a,b):\n",
        "  if b==0:\n",
        "    return abs(a)\n",
        "  else:\n",
        "    return hcfnaive(b,a%b)\n",
        "\n",
        "a = int(input())\n",
        "b = int(input())\n",
        "hcfnaive(a,b)"
      ],
      "metadata": {
        "colab": {
          "base_uri": "https://localhost:8080/"
        },
        "id": "CRdbxea6nOUk",
        "outputId": "d5b4f946-3b76-40ef-f7f7-82b46d23ef89"
      },
      "execution_count": null,
      "outputs": [
        {
          "name": "stdout",
          "output_type": "stream",
          "text": [
            "12\n",
            "24\n"
          ]
        },
        {
          "output_type": "execute_result",
          "data": {
            "text/plain": [
              "12"
            ]
          },
          "metadata": {},
          "execution_count": 11
        }
      ]
    },
    {
      "cell_type": "code",
      "source": [
        "#prime numbers\n",
        "\n",
        "def is_prime(n):\n",
        "  if n<2:\n",
        "    return False\n",
        "  for i in range(2,n):\n",
        "    if n%i==0:\n",
        "      return False\n",
        "  return True\n",
        "\n",
        "n = int(input())\n",
        "is_prime(n)"
      ],
      "metadata": {
        "colab": {
          "base_uri": "https://localhost:8080/"
        },
        "id": "879U5OvKogG1",
        "outputId": "c05ab423-1412-4c87-ce25-cb6639ff9952"
      },
      "execution_count": null,
      "outputs": [
        {
          "name": "stdout",
          "output_type": "stream",
          "text": [
            "5\n"
          ]
        },
        {
          "output_type": "execute_result",
          "data": {
            "text/plain": [
              "True"
            ]
          },
          "metadata": {},
          "execution_count": 13
        }
      ]
    },
    {
      "cell_type": "code",
      "source": [
        "def is_prime(n):\n",
        "  if n<2:\n",
        "    return False\n",
        "  for i in range(2,n):\n",
        "    if n%i==0:\n",
        "      return False\n",
        "  return True\n",
        "\n",
        "n = int(input())\n",
        "print(f\"Is the number {n} is a prime number: {is_prime(n)}\")"
      ],
      "metadata": {
        "colab": {
          "base_uri": "https://localhost:8080/"
        },
        "id": "rKyWGW7ZEvmO",
        "outputId": "c9667558-c055-4bee-951b-28a52dcfe0f1"
      },
      "execution_count": null,
      "outputs": [
        {
          "output_type": "stream",
          "name": "stdout",
          "text": [
            "5\n",
            "Is the number 5 is a prime number: True\n"
          ]
        }
      ]
    },
    {
      "cell_type": "code",
      "source": [
        "def isprime(n):\n",
        "  if n<2:\n",
        "    return False\n",
        "  for i in range(2,n):\n",
        "    if n%i==0:\n",
        "      return False\n",
        "  return True\n",
        "n = int(input())\n",
        "print(f\"Is the number {n} is a prime number: {isprime(n)}\")\n"
      ],
      "metadata": {
        "colab": {
          "base_uri": "https://localhost:8080/"
        },
        "id": "eW61pnog-Tcc",
        "outputId": "205f82cf-4701-44b1-a100-3c025119ab70"
      },
      "execution_count": null,
      "outputs": [
        {
          "output_type": "stream",
          "name": "stdout",
          "text": [
            "5\n",
            "Is the number 5 is a prime number: True\n"
          ]
        }
      ]
    },
    {
      "cell_type": "code",
      "source": [
        "def isprime(n):\n",
        "  if n<2:\n",
        "    return False\n",
        "  for i in range(2,n):\n",
        "    if n%i ==0:\n",
        "      return False\n",
        "  return True\n",
        "\n",
        "n = int(input())\n",
        "isprime(n)"
      ],
      "metadata": {
        "colab": {
          "base_uri": "https://localhost:8080/"
        },
        "id": "q9CiKq96rrua",
        "outputId": "01643bc4-9e42-42d4-b67f-e6614f69d677"
      },
      "execution_count": null,
      "outputs": [
        {
          "name": "stdout",
          "output_type": "stream",
          "text": [
            "4\n"
          ]
        },
        {
          "output_type": "execute_result",
          "data": {
            "text/plain": [
              "False"
            ]
          },
          "metadata": {},
          "execution_count": 28
        }
      ]
    },
    {
      "cell_type": "code",
      "source": [
        "#Number Palindrome\n",
        "\n",
        "def isPalindrome(number):\n",
        "    # Check if number is negative\n",
        "    # write your code here\n",
        "    if number<0:\n",
        "        return False\n",
        "\n",
        "    # Initialize variables\n",
        "    reversed_num = 0\n",
        "    temp = number\n",
        "\n",
        "    # Reverse the number\n",
        "    # write your code here\n",
        "    while temp!=0:\n",
        "        digit = temp%10\n",
        "        reversed_num = reversed_num*10 + digit\n",
        "        temp//=10\n",
        "\n",
        "    #Check if the number is a palindrome\n",
        "    # write your code here\n",
        "    if  reversed_num == number:\n",
        "        return True\n",
        "    else:\n",
        "        return False\n",
        "\n",
        "# Prompt for user input\n",
        "number = int(input())\n",
        "# Display the result\n",
        "result = isPalindrome(number)\n",
        "print(result)"
      ],
      "metadata": {
        "colab": {
          "base_uri": "https://localhost:8080/"
        },
        "id": "HD3_HJk-op2z",
        "outputId": "54a628de-4578-45ff-bfbf-fef37e5432a1"
      },
      "execution_count": null,
      "outputs": [
        {
          "output_type": "stream",
          "name": "stdout",
          "text": [
            "121\n",
            "True\n"
          ]
        }
      ]
    },
    {
      "cell_type": "code",
      "source": [
        "#using Slicing\n",
        "def Numerical_palindrome(num):\n",
        "  num_list = list(str(num))\n",
        "  reversed_list = int(''.join(num_list[::-1]))\n",
        "  return reversed_list\n",
        "\n",
        "num = 121\n",
        "print(palindrome(num))"
      ],
      "metadata": {
        "colab": {
          "base_uri": "https://localhost:8080/"
        },
        "id": "2VSa-Oc1piQD",
        "outputId": "4080975c-fe6a-43a1-a0f6-2cd692985cf6"
      },
      "execution_count": null,
      "outputs": [
        {
          "output_type": "stream",
          "name": "stdout",
          "text": [
            "121\n"
          ]
        }
      ]
    },
    {
      "cell_type": "code",
      "source": [
        "#Alphabetical Palindrome\n",
        "\n",
        "def Palindrome(word):\n",
        "  for ch in word:\n",
        "      if word == word[::-1]:\n",
        "        return True\n",
        "      else:\n",
        "        return False\n",
        "\n",
        "\n",
        "word = input()\n",
        "print(Palindrome(word))"
      ],
      "metadata": {
        "colab": {
          "base_uri": "https://localhost:8080/"
        },
        "id": "Lav3KRuyp6Fv",
        "outputId": "b6c9dd28-4a83-4cda-c223-1a9b0654c051"
      },
      "execution_count": null,
      "outputs": [
        {
          "output_type": "stream",
          "name": "stdout",
          "text": [
            "civic\n",
            "True\n"
          ]
        }
      ]
    },
    {
      "cell_type": "code",
      "source": [
        "#Leap Year\n",
        "\n",
        "def leap_year(year):\n",
        "  return (year%4==0 and year%100!=0 or year%400==0)\n",
        "\n",
        "year = int(input())\n",
        "if leap_year(year):\n",
        "  print(f\"The year {year} is a Leap year:\")\n",
        "else:\n",
        "  print(f\"The year {year} is not a Leap year:\")\n"
      ],
      "metadata": {
        "colab": {
          "base_uri": "https://localhost:8080/"
        },
        "id": "2vQsNQC9tUqH",
        "outputId": "06de0f3a-d660-43c6-d78b-bd524e65bdf0"
      },
      "execution_count": null,
      "outputs": [
        {
          "output_type": "stream",
          "name": "stdout",
          "text": [
            "2021\n",
            "The year 2021 is not a Leap year:\n"
          ]
        }
      ]
    },
    {
      "cell_type": "code",
      "source": [
        "#Harmonic sum\n",
        "\n",
        "def harmonic_sum(n):\n",
        "  if n<=2:\n",
        "    return 1\n",
        "  else:\n",
        "    return 1 / n + harmonic_sum(n-1)\n",
        "\n",
        "n = int(input())\n",
        "harmonic_sum(n)\n",
        "\n",
        "\n"
      ],
      "metadata": {
        "colab": {
          "base_uri": "https://localhost:8080/"
        },
        "id": "tVHBaOyLuAHo",
        "outputId": "08e9023a-82b8-4ac8-c0ee-2ea1d1b292a6"
      },
      "execution_count": null,
      "outputs": [
        {
          "name": "stdout",
          "output_type": "stream",
          "text": [
            "7\n"
          ]
        },
        {
          "output_type": "execute_result",
          "data": {
            "text/plain": [
              "2.092857142857143"
            ]
          },
          "metadata": {},
          "execution_count": 37
        }
      ]
    },
    {
      "cell_type": "code",
      "source": [
        "def harmonic_sum(n):\n",
        "  if n<=2:\n",
        "    return 1\n",
        "  else:\n",
        "    return 1 / n + harmonic_sum(n-1)\n",
        "\n",
        "n = int(input())\n",
        "harmonic_sum(n)"
      ],
      "metadata": {
        "colab": {
          "base_uri": "https://localhost:8080/"
        },
        "id": "zTS-TSgJ-3ik",
        "outputId": "f8091fc6-7162-4075-e748-4df1f3f36e17"
      },
      "execution_count": null,
      "outputs": [
        {
          "name": "stdout",
          "output_type": "stream",
          "text": [
            "6\n"
          ]
        },
        {
          "output_type": "execute_result",
          "data": {
            "text/plain": [
              "1.95"
            ]
          },
          "metadata": {},
          "execution_count": 7
        }
      ]
    },
    {
      "cell_type": "code",
      "source": [
        "#Perfect Numbers a number is said to be perfect if its sum of divisors == input number\n",
        "def checkIsPerfectNumber(number):\n",
        "    divisors = sum([i for i in range(1, number) if number % i == 0])\n",
        "    return number == divisors\n",
        "\n",
        "input_Number_is = 6\n",
        "\n",
        "if checkIsPerfectNumber(input_Number_is):\n",
        "    print(\"Number is a Perfect Number.\")\n",
        "else:\n",
        "    print(\"Number is not a Perfect Number.\")"
      ],
      "metadata": {
        "colab": {
          "base_uri": "https://localhost:8080/"
        },
        "id": "r5IZ64Isvuc7",
        "outputId": "cdf0a8ee-1ecc-4dac-a41f-367bac1c2f45"
      },
      "execution_count": null,
      "outputs": [
        {
          "output_type": "stream",
          "name": "stdout",
          "text": [
            "Number is a Perfect Number.\n"
          ]
        }
      ]
    },
    {
      "cell_type": "code",
      "source": [
        "def perfect_number(number):\n",
        "  divisor = sum([i for i in range(1,number) if number%i==0])\n",
        "  return number == divisor\n",
        "\n",
        "number = int(input())\n",
        "if perfect_number(number):\n",
        "  print(f\"{number} is a perfect number\")\n",
        "else:\n",
        "  print(f\"{number} is not a perfect number\")"
      ],
      "metadata": {
        "colab": {
          "base_uri": "https://localhost:8080/"
        },
        "id": "DhOqK9V7wuT0",
        "outputId": "d2611e77-b41f-4edd-c65d-5a10a9d5a0dd"
      },
      "execution_count": null,
      "outputs": [
        {
          "output_type": "stream",
          "name": "stdout",
          "text": [
            "6\n",
            "6 is a perfect number\n"
          ]
        }
      ]
    },
    {
      "cell_type": "markdown",
      "source": [],
      "metadata": {
        "id": "gNbZOb4Bw7Ch"
      }
    },
    {
      "cell_type": "code",
      "source": [
        "#Missing number\n",
        "\n",
        "def get_missing_number(arr,n):\n",
        "  total_sum = (n+1)*(n+2)//2\n",
        "  actual_sum = sum(arr)\n",
        "  return total_sum - actual_sum\n",
        "\n",
        "arr = eval(input())\n",
        "n=len(arr)\n",
        "get_missing_number(arr,n)"
      ],
      "metadata": {
        "colab": {
          "base_uri": "https://localhost:8080/"
        },
        "id": "pHPuZ4l-yHMj",
        "outputId": "4cceba7a-0de4-41e3-9fc8-9baf84ff432b"
      },
      "execution_count": null,
      "outputs": [
        {
          "name": "stdout",
          "output_type": "stream",
          "text": [
            "1,2,4,5,6\n"
          ]
        },
        {
          "output_type": "execute_result",
          "data": {
            "text/plain": [
              "3"
            ]
          },
          "metadata": {},
          "execution_count": 47
        }
      ]
    },
    {
      "cell_type": "code",
      "source": [
        "def char_string(string):\n",
        "  new_string = {}\n",
        "\n",
        "  for char in string:\n",
        "    if char in new_string:\n",
        "      new_string[char]+= 1\n",
        "    else:\n",
        "      new_string[char]=1\n",
        "  return new_string\n",
        "\n",
        "string = input()\n",
        "result = char_string(string)\n",
        "print(result)\n",
        "\n",
        "string = ''\n",
        "for char in result:\n",
        "  if char.isalnum():\n",
        "    string+=char\n",
        "print(string)"
      ],
      "metadata": {
        "colab": {
          "base_uri": "https://localhost:8080/"
        },
        "id": "X7Q3hiFEaJ6O",
        "outputId": "1df6804b-2e8f-4cc9-de0e-92e9d8ad6440"
      },
      "execution_count": null,
      "outputs": [
        {
          "output_type": "stream",
          "name": "stdout",
          "text": [
            "aabcccccaaa\n",
            "{'a': 5, 'b': 1, 'c': 5}\n",
            "abc\n"
          ]
        }
      ]
    },
    {
      "cell_type": "code",
      "source": [
        "def compress_string(s):\n",
        "    # Initialize an empty result string\n",
        "    result = []\n",
        "\n",
        "    # Initialize the first character and its count\n",
        "    current_char = s[0]\n",
        "    count = 1\n",
        "\n",
        "    # Traverse the string starting from the second character\n",
        "    for i in range(1, len(s)):\n",
        "        if s[i] == current_char:\n",
        "            count += 1\n",
        "        else:\n",
        "            result.append(f\"{current_char}{count}\")\n",
        "            current_char = s[i]\n",
        "            count = 1\n",
        "\n",
        "    # Append the final character and its count\n",
        "    result.append(f\"{current_char}{count}\")\n",
        "\n",
        "    # Join the result list into a single string\n",
        "    return ''.join(result)\n",
        "\n",
        "# Test the function\n",
        "input_string = \"aabcccccaaa\"\n",
        "output_string = compress_string(input_string)\n",
        "print(output_string)  # Expected output: \"a2b1c5a3\"\n"
      ],
      "metadata": {
        "colab": {
          "base_uri": "https://localhost:8080/"
        },
        "id": "LMyHBd4vbK6l",
        "outputId": "636bca8d-01b6-4f75-cc29-6c77b744988e"
      },
      "execution_count": null,
      "outputs": [
        {
          "output_type": "stream",
          "name": "stdout",
          "text": [
            "a2b1c5a3\n"
          ]
        }
      ]
    },
    {
      "cell_type": "code",
      "source": [
        "arr = [2,2,1,1,1,2,2]\n",
        "result = [num for num in arr if num !=1]\n",
        "print(result)"
      ],
      "metadata": {
        "colab": {
          "base_uri": "https://localhost:8080/"
        },
        "id": "ow9_dUpQe1Q1",
        "outputId": "b8233844-55c3-4edc-c28c-b6cf58085623"
      },
      "execution_count": null,
      "outputs": [
        {
          "output_type": "stream",
          "name": "stdout",
          "text": [
            "[2, 2, 2, 2]\n"
          ]
        }
      ]
    },
    {
      "cell_type": "code",
      "source": [
        "def count_highest_occured(arr):\n",
        " count = 0\n",
        " for i in range(len(arr)):\n",
        "  if arr[i]==2:\n",
        "    count+=1\n",
        "  else:\n",
        "    continue\n",
        " return count\n",
        "\n",
        "arr= eval(input())\n",
        "print(count_highest_occured(arr))"
      ],
      "metadata": {
        "colab": {
          "base_uri": "https://localhost:8080/"
        },
        "id": "WKGprR9RfApR",
        "outputId": "98398512-8002-4325-e016-6965214aad3c"
      },
      "execution_count": null,
      "outputs": [
        {
          "output_type": "stream",
          "name": "stdout",
          "text": [
            "[2,2,1,1,1,2,2]\n",
            "4\n"
          ]
        }
      ]
    },
    {
      "cell_type": "code",
      "source": [
        "def is_Armstrong(num):\n",
        "  num_str = len(str(num))\n",
        "  sum = 0\n",
        "  temp = num\n",
        "  while temp>0:\n",
        "    digit = temp%10 # extracts the last digit\n",
        "    sum += digit**num_str #performs the desired operation\n",
        "    temp//=10 # removes the last digits\n",
        "  if sum == num:\n",
        "    return True\n",
        "  else:\n",
        "    return False\n",
        "\n",
        "num = int(input())\n",
        "if is_Armstrong(num):\n",
        "  print(f\"{num} is an Armstrong number\")\n",
        "else:\n",
        "  print(f\"{num} is not an Armstrong number\")"
      ],
      "metadata": {
        "colab": {
          "base_uri": "https://localhost:8080/"
        },
        "id": "Hd69DBF3gMak",
        "outputId": "0405fcb0-d936-407b-93f3-6b404a8de981"
      },
      "execution_count": null,
      "outputs": [
        {
          "output_type": "stream",
          "name": "stdout",
          "text": [
            "153\n",
            "153 is an Armstrong number\n"
          ]
        }
      ]
    },
    {
      "cell_type": "code",
      "source": [
        "def is_armstrong(num):\n",
        "  num_str = len(str(num))\n",
        "  sum = 0\n",
        "  temp = number\n",
        "\n",
        "  while temp!=0:\n",
        "    digit = temp%10\n",
        "    sum += digit**num_str\n",
        "    temp//=10\n",
        "\n",
        "  if sum == number:\n",
        "    return True\n",
        "  else:\n",
        "    return False\n",
        "\n",
        "num = int(input())\n",
        "if is_Armstrong(num):\n",
        "  print(f\"The num is a Armstrong number\")\n",
        "else:\n",
        "  print(f\"The num is not an Armstrong number\")\n"
      ],
      "metadata": {
        "colab": {
          "base_uri": "https://localhost:8080/"
        },
        "id": "XcaW9-nznSvn",
        "outputId": "55d85b4e-797a-469b-c21b-1d2a2321266b"
      },
      "execution_count": null,
      "outputs": [
        {
          "output_type": "stream",
          "name": "stdout",
          "text": [
            "153\n",
            "The num is a Armstrong number\n"
          ]
        }
      ]
    },
    {
      "cell_type": "code",
      "source": [
        "def remove_vowels(word):\n",
        "  vowel = 'aeiouAEIOU'\n",
        "  consonant = ''\n",
        "\n",
        "  for ch in word:\n",
        "    if ch not in vowel:\n",
        "      consonant += ch\n",
        "  return consonant\n",
        "\n",
        "word = input()\n",
        "remove_vowels(word)"
      ],
      "metadata": {
        "colab": {
          "base_uri": "https://localhost:8080/",
          "height": 53
        },
        "id": "V6jfOlDu8Vvf",
        "outputId": "883281a0-4684-4b56-8adf-9422da01085c"
      },
      "execution_count": null,
      "outputs": [
        {
          "name": "stdout",
          "output_type": "stream",
          "text": [
            "Hello, World!\n"
          ]
        },
        {
          "output_type": "execute_result",
          "data": {
            "text/plain": [
              "'Hll, Wrld!'"
            ],
            "application/vnd.google.colaboratory.intrinsic+json": {
              "type": "string"
            }
          },
          "metadata": {},
          "execution_count": 1
        }
      ]
    },
    {
      "cell_type": "code",
      "source": [
        "def romanToInt(s):\n",
        "    # Mapping of Roman numerals to integers\n",
        "    # write your code here\n",
        "    m = {1 : 'I',5:'V',10:'X',50:'L',100:'C',500:'D',1000:'M'}\n",
        "\n",
        "    # Convert the Roman numeral to an integer\n",
        "    ans = 0\n",
        "    # write your code here\n",
        "    for num in s:\n",
        "      if s[num]<s[num+1]:\n",
        "        ans-=1\n",
        "      else:\n",
        "        ans+=1\n",
        "    # Return the integer value\n",
        "    return ans\n",
        "\n",
        "s = input()\n",
        "romanToInt(s)"
      ],
      "metadata": {
        "colab": {
          "base_uri": "https://localhost:8080/",
          "height": 322
        },
        "id": "7f58xv7hGZkR",
        "outputId": "bdc26ed4-4d11-4f4f-bd06-52b3fd42528e"
      },
      "execution_count": null,
      "outputs": [
        {
          "name": "stdout",
          "output_type": "stream",
          "text": [
            "III\n"
          ]
        },
        {
          "output_type": "error",
          "ename": "TypeError",
          "evalue": "string indices must be integers",
          "traceback": [
            "\u001b[0;31m---------------------------------------------------------------------------\u001b[0m",
            "\u001b[0;31mTypeError\u001b[0m                                 Traceback (most recent call last)",
            "\u001b[0;32m<ipython-input-3-aa719cb75fc4>\u001b[0m in \u001b[0;36m<cell line: 18>\u001b[0;34m()\u001b[0m\n\u001b[1;32m     16\u001b[0m \u001b[0;34m\u001b[0m\u001b[0m\n\u001b[1;32m     17\u001b[0m \u001b[0ms\u001b[0m \u001b[0;34m=\u001b[0m \u001b[0minput\u001b[0m\u001b[0;34m(\u001b[0m\u001b[0;34m)\u001b[0m\u001b[0;34m\u001b[0m\u001b[0;34m\u001b[0m\u001b[0m\n\u001b[0;32m---> 18\u001b[0;31m \u001b[0mromanToInt\u001b[0m\u001b[0;34m(\u001b[0m\u001b[0ms\u001b[0m\u001b[0;34m)\u001b[0m\u001b[0;34m\u001b[0m\u001b[0;34m\u001b[0m\u001b[0m\n\u001b[0m",
            "\u001b[0;32m<ipython-input-3-aa719cb75fc4>\u001b[0m in \u001b[0;36mromanToInt\u001b[0;34m(s)\u001b[0m\n\u001b[1;32m      8\u001b[0m     \u001b[0;31m# write your code here\u001b[0m\u001b[0;34m\u001b[0m\u001b[0;34m\u001b[0m\u001b[0m\n\u001b[1;32m      9\u001b[0m     \u001b[0;32mfor\u001b[0m \u001b[0mnum\u001b[0m \u001b[0;32min\u001b[0m \u001b[0ms\u001b[0m\u001b[0;34m:\u001b[0m\u001b[0;34m\u001b[0m\u001b[0;34m\u001b[0m\u001b[0m\n\u001b[0;32m---> 10\u001b[0;31m       \u001b[0;32mif\u001b[0m \u001b[0ms\u001b[0m\u001b[0;34m[\u001b[0m\u001b[0mnum\u001b[0m\u001b[0;34m]\u001b[0m\u001b[0;34m<\u001b[0m\u001b[0ms\u001b[0m\u001b[0;34m[\u001b[0m\u001b[0mnum\u001b[0m\u001b[0;34m+\u001b[0m\u001b[0;36m1\u001b[0m\u001b[0;34m]\u001b[0m\u001b[0;34m:\u001b[0m\u001b[0;34m\u001b[0m\u001b[0;34m\u001b[0m\u001b[0m\n\u001b[0m\u001b[1;32m     11\u001b[0m         \u001b[0mans\u001b[0m\u001b[0;34m-=\u001b[0m\u001b[0;36m1\u001b[0m\u001b[0;34m\u001b[0m\u001b[0;34m\u001b[0m\u001b[0m\n\u001b[1;32m     12\u001b[0m       \u001b[0;32melse\u001b[0m\u001b[0;34m:\u001b[0m\u001b[0;34m\u001b[0m\u001b[0;34m\u001b[0m\u001b[0m\n",
            "\u001b[0;31mTypeError\u001b[0m: string indices must be integers"
          ]
        }
      ]
    },
    {
      "cell_type": "code",
      "source": [
        "Finding the Maximum Words in Sentences\n",
        "Easy\n",
        "A sentence is a list of words that are separated by a single space with no leading or trailing spaces.\n",
        "\n",
        "You are given an array of strings sentences, where each sentences[i] represents a single sentence.\n",
        "\n",
        "Return the maximum number of words that appear in a single sentence.\n",
        "\n",
        "Example 1:\n",
        "Input:\n",
        "[\"alice and bob love leetcode\", \"i think so too\", \"this is great thanks very much\"]\n",
        "\n",
        "Output:\n",
        "6\n",
        "\n",
        "Explanation:\n",
        "The first sentence, \"alice and bob love leetcode\", has 5 words in total.\n",
        "The second sentence, \"i think so too\", has 4 words in total.\n",
        "The third sentence, \"this is great thanks very much\", has 6 words in total.\n",
        "Thus, the maximum number of words in a single sentence comes from the third sentence, which has 6 words."
      ],
      "metadata": {
        "id": "C3n9iWS6M1C5"
      },
      "execution_count": null,
      "outputs": []
    },
    {
      "cell_type": "code",
      "source": [
        "def mostWordsFound(sentences):\n",
        "    # Find the sentence with the maximum number of words\n",
        "    # write your code here\n",
        "      max_count = [len(sentence.split(\" \")) for sentence in sentences]\n",
        "      max_word_count = max(max_count)\n",
        "      return max_word_count\n",
        "\n",
        "# Prompt for user input\n",
        "sent = eval(input())\n",
        "\n",
        "# Display the maximum number of words found in any sentence\n",
        "print(mostWordsFound(sent))\n"
      ],
      "metadata": {
        "colab": {
          "base_uri": "https://localhost:8080/"
        },
        "id": "ZExiW2vnM2gn",
        "outputId": "60916abe-a045-494b-fe8b-adf1ba3d73b4"
      },
      "execution_count": null,
      "outputs": [
        {
          "output_type": "stream",
          "name": "stdout",
          "text": [
            "[\"alice and bob love leetcode\", \"i think so too\", \"this is great thanks very much\"]\n",
            "6\n"
          ]
        }
      ]
    },
    {
      "cell_type": "code",
      "source": [
        "sentences = [\"alice and bob love leetcode\", \"i think so too\", \"this is great thanks very much\"]"
      ],
      "metadata": {
        "id": "9f8VlHXeX7AI"
      },
      "execution_count": null,
      "outputs": []
    },
    {
      "cell_type": "code",
      "source": [
        "max_count = [len(sentence.split(\" \")) for sentence in sentences]\n",
        "max_count"
      ],
      "metadata": {
        "colab": {
          "base_uri": "https://localhost:8080/"
        },
        "id": "21CNRkFNX9NY",
        "outputId": "7267a077-523e-46e7-d95c-21e191f44606"
      },
      "execution_count": null,
      "outputs": [
        {
          "output_type": "execute_result",
          "data": {
            "text/plain": [
              "[5, 4, 6]"
            ]
          },
          "metadata": {},
          "execution_count": 8
        }
      ]
    },
    {
      "cell_type": "code",
      "source": [
        "def leftRightDifference(nums):\n",
        "    # Calculate the difference between left and right sums for each element\n",
        "    len_nums = len(nums)\n",
        "    answer = []\n",
        "\n",
        "    # write your code here\n",
        "    for i in range(len_nums):\n",
        "      left_sum = sum(nums[:i])\n",
        "      right_sum = sum(nums[i+1:])\n",
        "      abs_diff = abs(left_sum - right_sum)\n",
        "      answer.append(abs_diff)\n",
        "\n",
        "    # Return the list of differences\n",
        "    return answer\n",
        "\n",
        "# Prompt for user input\n",
        "lst = eval(input())\n",
        "\n",
        "# Display the list of differences\n",
        "print(leftRightDifference(lst))"
      ],
      "metadata": {
        "colab": {
          "base_uri": "https://localhost:8080/"
        },
        "id": "OupLevwqbMO6",
        "outputId": "33c06409-e4f9-4eab-e827-9a346b3ce7eb"
      },
      "execution_count": null,
      "outputs": [
        {
          "output_type": "stream",
          "name": "stdout",
          "text": [
            "10,4,8,3\n",
            "[15, 1, 11, 22]\n"
          ]
        }
      ]
    },
    {
      "cell_type": "code",
      "source": [
        "1. Initialize Empty Array:\n",
        "* Create an empty list arr. This will be the target array where numbers are inserted.\n",
        "2. Insert Elements:\n",
        "* Loop through the elements of nums and their corresponding indices from index simultaneously using zip(nums, index):\n",
        "* For each number n and its corresponding index i, insert n into arr at the position i.\n",
        "* Use list slicing arr[i:i] = [n] for the insertion.\n",
        "3. Return Result:\n",
        "* After processing all elements, return the target array arr.\n",
        "4. User Input and Output:\n",
        "* Prompt the user to input a list of numbers lst.\n",
        "* Prompt the user to input a list of indices ind.\n",
        "* Call createTargetArray with lst and ind, and print the resulting target array."
      ],
      "metadata": {
        "id": "buX_aiqScR-z"
      },
      "execution_count": null,
      "outputs": []
    },
    {
      "cell_type": "code",
      "source": [
        "def createTargetArray(nums, index):\n",
        "    # Create the target array based on nums and index\n",
        "    arr = []\n",
        "    # write your code here\n",
        "    for n,i in zip(nums,index):\n",
        "      arr[i:i]= [n]\n",
        "\n",
        "    # Return the target array\n",
        "    return arr\n",
        "\n",
        "# Prompt for user input\n",
        "lst = eval(input())\n",
        "ind = eval(input())\n",
        "\n",
        "# Display the target array\n",
        "print(createTargetArray(lst, ind))"
      ],
      "metadata": {
        "colab": {
          "base_uri": "https://localhost:8080/"
        },
        "id": "cG7siQ-Jfd7J",
        "outputId": "6847e80f-9e84-4204-9ded-d75610db4397"
      },
      "execution_count": null,
      "outputs": [
        {
          "output_type": "stream",
          "name": "stdout",
          "text": [
            "[0,1,2,3,4]\n",
            "[0,1,2,3,4]\n",
            "[0, 1, 2, 3, 4]\n"
          ]
        }
      ]
    },
    {
      "cell_type": "code",
      "source": [
        "def truncateSentence(s, k):\n",
        "    # Split the sentence and truncate to the first k words\n",
        "    # write your code here\n",
        "    for word in s:\n",
        "      res = s.split()\n",
        "    return\n",
        "\n",
        "\n",
        "\n",
        "\n",
        "\n"
      ],
      "metadata": {
        "id": "J6s5biV9kIRA"
      },
      "execution_count": null,
      "outputs": []
    },
    {
      "cell_type": "code",
      "source": [
        "lst = \"Hello how are you Contestant\"\n",
        "k = 4\n",
        "new = lst.split(' ')\n",
        "res = new[:k]\n",
        "res"
      ],
      "metadata": {
        "colab": {
          "base_uri": "https://localhost:8080/"
        },
        "id": "FxIrI_6BkcbL",
        "outputId": "d88e524c-3a05-40b7-8835-2a3645465802"
      },
      "execution_count": null,
      "outputs": [
        {
          "output_type": "execute_result",
          "data": {
            "text/plain": [
              "['Hello', 'how', 'are', 'you']"
            ]
          },
          "metadata": {},
          "execution_count": 19
        }
      ]
    },
    {
      "cell_type": "code",
      "source": [
        "n = int(input())\n",
        "\n",
        "for i in range(1,n+1):\n",
        "  for j in range(1,i+1):\n",
        "    print(i+1,end=\"\")\n",
        "  print()"
      ],
      "metadata": {
        "id": "rSHsu2lBkiVx",
        "colab": {
          "base_uri": "https://localhost:8080/"
        },
        "outputId": "043cdf36-e47a-47f6-8f6d-aa43b5849fa3"
      },
      "execution_count": null,
      "outputs": [
        {
          "output_type": "stream",
          "name": "stdout",
          "text": [
            "6\n",
            "2\n",
            "23\n",
            "234\n",
            "2345\n",
            "23456\n",
            "234567\n"
          ]
        }
      ]
    },
    {
      "cell_type": "code",
      "source": [
        "n = 5\n",
        "for i in range(1,n+1):\n",
        "  for j in range(1,i+1):\n",
        "    print(\"*\",end=\"\")\n",
        "  print()"
      ],
      "metadata": {
        "colab": {
          "base_uri": "https://localhost:8080/"
        },
        "id": "rKBy0YpmZzzf",
        "outputId": "dfe1b39b-3767-40b6-fba0-4a99c1be1902"
      },
      "execution_count": null,
      "outputs": [
        {
          "output_type": "stream",
          "name": "stdout",
          "text": [
            "*\n",
            "**\n",
            "***\n",
            "****\n",
            "*****\n"
          ]
        }
      ]
    },
    {
      "cell_type": "code",
      "source": [
        "n = 5\n",
        "for i in range(1,n+1):\n",
        "  for j in range(1,i+1):\n",
        "    print(\"*\",end=\"\")\n",
        "  print()"
      ],
      "metadata": {
        "colab": {
          "base_uri": "https://localhost:8080/"
        },
        "id": "q9XupKDW_NMU",
        "outputId": "d0a7ee0e-c12d-40cf-c298-ae2c5e1b6224"
      },
      "execution_count": null,
      "outputs": [
        {
          "output_type": "stream",
          "name": "stdout",
          "text": [
            "*\n",
            "**\n",
            "***\n",
            "****\n",
            "*****\n"
          ]
        }
      ]
    },
    {
      "cell_type": "code",
      "source": [
        "n = 6\n",
        "for i in range(n):\n",
        "  for j in range(n-i-1):\n",
        "    print(\"*\",end=\"\")\n",
        "  print()"
      ],
      "metadata": {
        "colab": {
          "base_uri": "https://localhost:8080/"
        },
        "id": "q5VY3eGD_XQL",
        "outputId": "a219024b-1c08-4ac5-94e4-f6c08c6ba4c8"
      },
      "execution_count": null,
      "outputs": [
        {
          "output_type": "stream",
          "name": "stdout",
          "text": [
            "*****\n",
            "****\n",
            "***\n",
            "**\n",
            "*\n",
            "\n"
          ]
        }
      ]
    },
    {
      "cell_type": "code",
      "source": [
        "n = int(input())\n",
        "\n",
        "for i in range(n):\n",
        "  for j in range(n-i-1):\n",
        "    print(\"*\",end=\"\")\n",
        "  print()"
      ],
      "metadata": {
        "colab": {
          "base_uri": "https://localhost:8080/"
        },
        "id": "gw1imarFZgkM",
        "outputId": "1f94d20f-0fca-48fc-f234-a66ade001e62"
      },
      "execution_count": null,
      "outputs": [
        {
          "output_type": "stream",
          "name": "stdout",
          "text": [
            "5\n",
            "****\n",
            "***\n",
            "**\n",
            "*\n",
            "\n"
          ]
        }
      ]
    },
    {
      "cell_type": "code",
      "source": [
        "size = 6\n",
        "for i in range(1,size+1):\n",
        "  print(\" \"*(size-i) + \"*\"*i)"
      ],
      "metadata": {
        "colab": {
          "base_uri": "https://localhost:8080/"
        },
        "id": "I4VPZCxMkPeB",
        "outputId": "b0003321-da0b-4bce-c215-c370626f546e"
      },
      "execution_count": null,
      "outputs": [
        {
          "output_type": "stream",
          "name": "stdout",
          "text": [
            "     *\n",
            "    **\n",
            "   ***\n",
            "  ****\n",
            " *****\n",
            "******\n"
          ]
        }
      ]
    },
    {
      "cell_type": "code",
      "source": [
        "n = 6\n",
        "for i in range(1,n+1):\n",
        "  print(\" \"*(n-i)+ \"*\"*i)"
      ],
      "metadata": {
        "colab": {
          "base_uri": "https://localhost:8080/"
        },
        "id": "cf3vH2TJ_j6E",
        "outputId": "af11611b-09a1-404d-b2e9-cfef519a4bdd"
      },
      "execution_count": null,
      "outputs": [
        {
          "output_type": "stream",
          "name": "stdout",
          "text": [
            "     *\n",
            "    **\n",
            "   ***\n",
            "  ****\n",
            " *****\n",
            "******\n"
          ]
        }
      ]
    },
    {
      "cell_type": "code",
      "source": [
        "n = 5\n",
        "for i in range(1,n+1):\n",
        "  print(\" \"*(n-i) + \"*\"*i)"
      ],
      "metadata": {
        "colab": {
          "base_uri": "https://localhost:8080/"
        },
        "id": "jlpFsLwoaC0N",
        "outputId": "60825e91-20c4-4cee-b206-183255a64c9a"
      },
      "execution_count": null,
      "outputs": [
        {
          "output_type": "stream",
          "name": "stdout",
          "text": [
            "    *\n",
            "   **\n",
            "  ***\n",
            " ****\n",
            "*****\n"
          ]
        }
      ]
    },
    {
      "cell_type": "code",
      "source": [
        "size = 6\n",
        "\n",
        "for i in range(n):\n",
        "  for j in range(n-i):\n",
        "    print('*',end=\"\")\n",
        "  print()"
      ],
      "metadata": {
        "colab": {
          "base_uri": "https://localhost:8080/"
        },
        "id": "EPyd-LlzkymV",
        "outputId": "fcd68379-4cd8-4c3e-9ba2-a49fbf5081d5"
      },
      "execution_count": null,
      "outputs": [
        {
          "output_type": "stream",
          "name": "stdout",
          "text": [
            "*****\n",
            "****\n",
            "***\n",
            "**\n",
            "*\n"
          ]
        }
      ]
    },
    {
      "cell_type": "code",
      "source": [
        "n=6\n",
        "for i in range(n):\n",
        "  for j in range(n-i):\n",
        "    print(\"*\",end=\"\")\n",
        "  print()"
      ],
      "metadata": {
        "colab": {
          "base_uri": "https://localhost:8080/"
        },
        "id": "XopUKRbfapZ8",
        "outputId": "6cf6daad-a43a-44c8-c11a-d8e0ef74bc55"
      },
      "execution_count": null,
      "outputs": [
        {
          "output_type": "stream",
          "name": "stdout",
          "text": [
            "******\n",
            "*****\n",
            "****\n",
            "***\n",
            "**\n",
            "*\n"
          ]
        }
      ]
    },
    {
      "cell_type": "code",
      "source": [
        "size = int(input())\n",
        "#upper half\n",
        "for i in range(1,size+1):\n",
        "  print(\" \"*(size-i) + \"*\" *i)\n",
        "#lower half\n",
        "for i in range(n):\n",
        "  for j in range(n-i):\n",
        "    print(\"*\",end=\"\")\n",
        "  print()"
      ],
      "metadata": {
        "colab": {
          "base_uri": "https://localhost:8080/"
        },
        "id": "nHZZIRDxlE9t",
        "outputId": "8af06e97-422c-49ac-a06d-5ecbcaf424f0"
      },
      "execution_count": null,
      "outputs": [
        {
          "output_type": "stream",
          "name": "stdout",
          "text": [
            "6\n",
            "     *\n",
            "    **\n",
            "   ***\n",
            "  ****\n",
            " *****\n",
            "******\n",
            "*****\n",
            "****\n",
            "***\n",
            "**\n",
            "*\n"
          ]
        }
      ]
    },
    {
      "cell_type": "code",
      "source": [
        "n = 6\n",
        "\n",
        "for i in range(1,n+1):\n",
        "  print(\" \"*(n-i) + \"*\"*i)\n",
        "\n",
        "for i in range(n):\n",
        "  for j in range(n-i):\n",
        "    print(\"*\",end=\"\")\n",
        "  print()"
      ],
      "metadata": {
        "colab": {
          "base_uri": "https://localhost:8080/"
        },
        "id": "f6n6FQy-aRYQ",
        "outputId": "059272c7-4e83-4893-921f-68d608581aed"
      },
      "execution_count": null,
      "outputs": [
        {
          "output_type": "stream",
          "name": "stdout",
          "text": [
            "     *\n",
            "    **\n",
            "   ***\n",
            "  ****\n",
            " *****\n",
            "******\n",
            "******\n",
            "*****\n",
            "****\n",
            "***\n",
            "**\n",
            "*\n"
          ]
        }
      ]
    },
    {
      "cell_type": "code",
      "source": [
        "n = int(input())\n",
        "for i in range(n):\n",
        "  for j in range(n):\n",
        "    print(\"*\",end = \" \")\n",
        "  print()"
      ],
      "metadata": {
        "colab": {
          "base_uri": "https://localhost:8080/"
        },
        "id": "w0J5-nub6cth",
        "outputId": "7ae5a324-19a6-4b7f-bd5f-2447287b0cad"
      },
      "execution_count": null,
      "outputs": [
        {
          "output_type": "stream",
          "name": "stdout",
          "text": [
            "5\n",
            "* * * * * \n",
            "* * * * * \n",
            "* * * * * \n",
            "* * * * * \n",
            "* * * * * \n"
          ]
        }
      ]
    },
    {
      "cell_type": "code",
      "source": [
        "for i in range(1,n+1):\n",
        "  for j in range(n-i-1):\n",
        "    print(\"*\",end=\"\")\n",
        "  print()"
      ],
      "metadata": {
        "colab": {
          "base_uri": "https://localhost:8080/"
        },
        "id": "uszXW4dk8uQB",
        "outputId": "16c847fa-30a6-46ec-af98-2a6cec46d0fa"
      },
      "execution_count": null,
      "outputs": [
        {
          "output_type": "stream",
          "name": "stdout",
          "text": [
            "****\n",
            "***\n",
            "**\n",
            "*\n",
            "\n",
            "\n"
          ]
        }
      ]
    },
    {
      "cell_type": "markdown",
      "source": [
        "Pyramid pattern"
      ],
      "metadata": {
        "id": "1X8Uqppg9yYa"
      }
    },
    {
      "cell_type": "code",
      "source": [
        "n = int(input())\n",
        "for i in range(n):\n",
        "  for j in range(n-i-1):\n",
        "    print(\" \",end=\"\")\n",
        "  for j in range(2*i+1):\n",
        "    print(\"*\",end=\"\")\n",
        "  print()"
      ],
      "metadata": {
        "colab": {
          "base_uri": "https://localhost:8080/"
        },
        "id": "WdkFNrJo6sd_",
        "outputId": "22043b20-0194-4b1f-d294-0e1298d4af82"
      },
      "execution_count": null,
      "outputs": [
        {
          "output_type": "stream",
          "name": "stdout",
          "text": [
            "6\n",
            "     *\n",
            "    ***\n",
            "   *****\n",
            "  *******\n",
            " *********\n",
            "***********\n"
          ]
        }
      ]
    },
    {
      "cell_type": "code",
      "source": [
        "for i in range(n):\n",
        "  for j in range(n-i-1):\n",
        "    print(\" \",end=\"\")\n",
        "  for j in range(2*i+1):\n",
        "    print(\"*\",end=\"\")\n",
        "  print()"
      ],
      "metadata": {
        "colab": {
          "base_uri": "https://localhost:8080/"
        },
        "id": "eejgy0GD_3IX",
        "outputId": "87433baa-88fd-4653-81b8-a2901e87f2e5"
      },
      "execution_count": null,
      "outputs": [
        {
          "output_type": "stream",
          "name": "stdout",
          "text": [
            "     *\n",
            "    ***\n",
            "   *****\n",
            "  *******\n",
            " *********\n",
            "***********\n"
          ]
        }
      ]
    },
    {
      "cell_type": "code",
      "source": [],
      "metadata": {
        "id": "zOQL50lSAJv9"
      },
      "execution_count": null,
      "outputs": []
    },
    {
      "cell_type": "code",
      "source": [
        "for i in range(n):\n",
        "  for j in range(n-i-1):\n",
        "    print(\" \",end=\"\")\n",
        "  for j in range(2*i+1):\n",
        "    print(\"*\",end=\"\")\n",
        "  print()"
      ],
      "metadata": {
        "colab": {
          "base_uri": "https://localhost:8080/"
        },
        "id": "twtCLx2aazpt",
        "outputId": "ba048341-319d-4550-9dbc-12f5bce316d1"
      },
      "execution_count": null,
      "outputs": [
        {
          "output_type": "stream",
          "name": "stdout",
          "text": [
            "     *\n",
            "    ***\n",
            "   *****\n",
            "  *******\n",
            " *********\n",
            "***********\n"
          ]
        }
      ]
    },
    {
      "cell_type": "code",
      "source": [
        "for i in range(n):\n",
        "  for j in range(n-i-1):\n",
        "    print(\" \",end=\"\")\n",
        "  for j in range(2*i+1):\n",
        "    print(\"*\",end=\"\")\n",
        "  print()"
      ],
      "metadata": {
        "colab": {
          "base_uri": "https://localhost:8080/"
        },
        "id": "thLD0T3E91mV",
        "outputId": "34f75148-ffff-46e2-a5e2-26f4f746aedb"
      },
      "execution_count": null,
      "outputs": [
        {
          "output_type": "stream",
          "name": "stdout",
          "text": [
            "     *\n",
            "    ***\n",
            "   *****\n",
            "  *******\n",
            " *********\n",
            "***********\n"
          ]
        }
      ]
    },
    {
      "cell_type": "code",
      "source": [
        "n = int(input())\n",
        "for i in range(n):\n",
        "  for j in range(n-i-1):\n",
        "    print(\" \",end=\"\")\n",
        "  for j in range(2*i+1):\n",
        "    print(\"*\",end=\"\")\n",
        "  print()"
      ],
      "metadata": {
        "colab": {
          "base_uri": "https://localhost:8080/"
        },
        "id": "_slzFTGQ7pdw",
        "outputId": "5085157e-99f7-4d9c-8aab-172cc09312f1"
      },
      "execution_count": null,
      "outputs": [
        {
          "output_type": "stream",
          "name": "stdout",
          "text": [
            "6\n",
            "     *\n",
            "    ***\n",
            "   *****\n",
            "  *******\n",
            " *********\n",
            "***********\n"
          ]
        }
      ]
    },
    {
      "cell_type": "markdown",
      "source": [
        "Diamond Pattern"
      ],
      "metadata": {
        "id": "QEtiEC7u9vZh"
      }
    },
    {
      "cell_type": "code",
      "source": [
        "n = int(input())\n",
        "for i in range(n):\n",
        "   print(\" \"*(n-i-1) + \"*\" * (2*i+1))\n",
        "for i in range(n-2,-1,-1):\n",
        "   print(\" \"*(n-i-1) + \"*\" * (2*i+1))\n"
      ],
      "metadata": {
        "colab": {
          "base_uri": "https://localhost:8080/"
        },
        "id": "D1AHGMbsANDs",
        "outputId": "22d28e49-e7bf-49af-fd4b-a9e52082f5ff"
      },
      "execution_count": null,
      "outputs": [
        {
          "output_type": "stream",
          "name": "stdout",
          "text": [
            "5\n",
            "    *\n",
            "   ***\n",
            "  *****\n",
            " *******\n",
            "*********\n",
            " *******\n",
            "  *****\n",
            "   ***\n",
            "    *\n"
          ]
        }
      ]
    },
    {
      "cell_type": "code",
      "source": [
        "n = int(input())\n",
        "for i in range(n):\n",
        "  print(\" \"*(n-i-1) + \"*\" * (2*i+1))\n",
        "for i in range(n-2,-1,-1):\n",
        "  print(\" \"*(n-i-1) + \"*\" * (2*i+1))"
      ],
      "metadata": {
        "colab": {
          "base_uri": "https://localhost:8080/"
        },
        "id": "JQklZzdn76Jj",
        "outputId": "a3fe7398-e2fb-4472-ff80-ce043df03963"
      },
      "execution_count": null,
      "outputs": [
        {
          "output_type": "stream",
          "name": "stdout",
          "text": [
            "6\n",
            "     *\n",
            "    ***\n",
            "   *****\n",
            "  *******\n",
            " *********\n",
            "***********\n",
            " *********\n",
            "  *******\n",
            "   *****\n",
            "    ***\n",
            "     *\n"
          ]
        }
      ]
    },
    {
      "cell_type": "code",
      "source": [
        "n = 6\n",
        "for i in range(n):\n",
        "  print(\" \"*(n-i-1)+ (2*i+1)*\"*\")\n",
        "for i in range(n-2,-1,-1):\n",
        "  print(\" \"*(n-i-1)+(2*i+1)*\"*\")"
      ],
      "metadata": {
        "colab": {
          "base_uri": "https://localhost:8080/"
        },
        "id": "komCe_GMbMo9",
        "outputId": "73030e2d-768a-4fe1-e6b0-ee3d1e0fa3c6"
      },
      "execution_count": null,
      "outputs": [
        {
          "output_type": "stream",
          "name": "stdout",
          "text": [
            "     *\n",
            "    ***\n",
            "   *****\n",
            "  *******\n",
            " *********\n",
            "***********\n",
            " *********\n",
            "  *******\n",
            "   *****\n",
            "    ***\n",
            "     *\n"
          ]
        }
      ]
    },
    {
      "cell_type": "code",
      "source": [
        "for i in range(n):\n",
        "  print(\" \"*(n-i-1) + \"*\"*(2*i+1))\n",
        "for i in range(n-2,-1,-1):\n",
        "  print(\" \"*(n-i-1)+\"*\"*(2*i+1))"
      ],
      "metadata": {
        "colab": {
          "base_uri": "https://localhost:8080/"
        },
        "id": "24t2dRV4-bOC",
        "outputId": "7f667617-a1ea-4ebe-fdfb-cb55394c8f07"
      },
      "execution_count": null,
      "outputs": [
        {
          "output_type": "stream",
          "name": "stdout",
          "text": [
            "     *\n",
            "    ***\n",
            "   *****\n",
            "  *******\n",
            " *********\n",
            "***********\n",
            " *********\n",
            "  *******\n",
            "   *****\n",
            "    ***\n",
            "     *\n"
          ]
        }
      ]
    },
    {
      "cell_type": "markdown",
      "source": [
        "Numeric Patterns"
      ],
      "metadata": {
        "id": "SGLaa5r39nWq"
      }
    },
    {
      "cell_type": "code",
      "source": [
        "for i in range(n):  # Rows\n",
        "    num = 1\n",
        "    for j in range(n - i - 1):  # Spaces\n",
        "        print(\" \", end=\"\")\n",
        "    for j in range(i + 1):  # Numbers\n",
        "        print(num, end=\" \")\n",
        "        num += 1\n",
        "    print()"
      ],
      "metadata": {
        "colab": {
          "base_uri": "https://localhost:8080/"
        },
        "id": "nNq5W08g9Vl5",
        "outputId": "bd4c6efc-8484-477f-9448-1d3909ef140c"
      },
      "execution_count": null,
      "outputs": [
        {
          "output_type": "stream",
          "name": "stdout",
          "text": [
            "     1 \n",
            "    1 2 \n",
            "   1 2 3 \n",
            "  1 2 3 4 \n",
            " 1 2 3 4 5 \n",
            "1 2 3 4 5 6 \n"
          ]
        }
      ]
    },
    {
      "cell_type": "code",
      "source": [
        "for i in range(n):\n",
        "    print(chr(65 + i) * (i + 1))"
      ],
      "metadata": {
        "id": "ej7gD4E7-19q",
        "outputId": "0d072d58-2efe-4c8c-c6a0-36e1d3e1a2ae",
        "colab": {
          "base_uri": "https://localhost:8080/"
        }
      },
      "execution_count": null,
      "outputs": [
        {
          "output_type": "stream",
          "name": "stdout",
          "text": [
            "A\n",
            "BB\n",
            "CCC\n",
            "DDDD\n",
            "EEEEE\n",
            "FFFFFF\n"
          ]
        }
      ]
    },
    {
      "cell_type": "code",
      "source": [
        "# Input: Number of days\n",
        "numDays = int(input())\n",
        "\n",
        "# Input: List of sales values\n",
        "sales = list(map(int, input().split()))\n",
        "\n",
        "# Initialize the count of profitable days\n",
        "profitable_days = 0\n",
        "\n",
        "# Loop through the sales list and count the positive values\n",
        "for sale in sales:\n",
        "    if sale > 0:\n",
        "        profitable_days += 1\n",
        "\n",
        "# Output the count of profitable days\n",
        "print(profitable_days)\n"
      ],
      "metadata": {
        "colab": {
          "base_uri": "https://localhost:8080/"
        },
        "id": "62yCjGEinRgG",
        "outputId": "71623567-bde5-48b9-c83f-10a5b6f9ed7b"
      },
      "execution_count": null,
      "outputs": [
        {
          "output_type": "stream",
          "name": "stdout",
          "text": [
            "5\n",
            "23 -7 13 -34 56\n",
            "3\n"
          ]
        }
      ]
    },
    {
      "cell_type": "code",
      "source": [
        "# Input: The first string\n",
        "a = input()\n",
        "\n",
        "# Input: The second string\n",
        "b = input()\n",
        "\n",
        "# Concatenate the two strings with a space in between\n",
        "result = a + \" \" + b\n",
        "\n",
        "# Output the concatenated string\n",
        "print(result)\n"
      ],
      "metadata": {
        "colab": {
          "base_uri": "https://localhost:8080/"
        },
        "id": "XxWIW2IEnVHa",
        "outputId": "865aabc1-2b55-473f-b905-33194fb2420d"
      },
      "execution_count": null,
      "outputs": [
        {
          "output_type": "stream",
          "name": "stdout",
          "text": [
            "do\n",
            "select\n",
            "do select\n"
          ]
        }
      ]
    },
    {
      "cell_type": "code",
      "source": [
        "def min_changes_to_remove_palindromic_substrings(s):\n",
        "    n = len(s)\n",
        "    if n <= 1:\n",
        "        return 0\n",
        "    if s == s[::-1]:\n",
        "        return 1\n",
        "    return 0\n",
        "\n",
        "# Input: The string s\n",
        "s = input().strip()\n",
        "\n",
        "# Output: Minimum number of changes\n",
        "print(min_changes_to_remove_palindromic_substrings(s))\n"
      ],
      "metadata": {
        "colab": {
          "base_uri": "https://localhost:8080/"
        },
        "id": "Jrt1eo4enZ08",
        "outputId": "8f239127-d86d-46f4-a23f-1b0f5cd798d9"
      },
      "execution_count": null,
      "outputs": [
        {
          "output_type": "stream",
          "name": "stdout",
          "text": [
            "abba\n",
            "1\n"
          ]
        }
      ]
    },
    {
      "cell_type": "code",
      "source": [
        "def conacte_ss(a,b):\n",
        "  result =  a + \" \" + b\n",
        "  return result\n",
        "\n",
        "a = input()\n",
        "b = input()\n",
        "conacte_ss(a,b)\n"
      ],
      "metadata": {
        "colab": {
          "base_uri": "https://localhost:8080/",
          "height": 71
        },
        "id": "rMF7KuvtogKn",
        "outputId": "a88324b1-b216-490b-e7d5-6848c926f006"
      },
      "execution_count": null,
      "outputs": [
        {
          "name": "stdout",
          "output_type": "stream",
          "text": [
            "do\n",
            "select\n"
          ]
        },
        {
          "output_type": "execute_result",
          "data": {
            "text/plain": [
              "'do select'"
            ],
            "application/vnd.google.colaboratory.intrinsic+json": {
              "type": "string"
            }
          },
          "metadata": {},
          "execution_count": 5
        }
      ]
    }
  ]
}