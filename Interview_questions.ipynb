{
  "nbformat": 4,
  "nbformat_minor": 0,
  "metadata": {
    "colab": {
      "provenance": [],
      "authorship_tag": "ABX9TyObSGDljFpBgfE7bsUlySX8",
      "include_colab_link": true
    },
    "kernelspec": {
      "name": "python3",
      "display_name": "Python 3"
    },
    "language_info": {
      "name": "python"
    }
  },
  "cells": [
    {
      "cell_type": "markdown",
      "metadata": {
        "id": "view-in-github",
        "colab_type": "text"
      },
      "source": [
        "<a href=\"https://colab.research.google.com/github/Tilak46-R/CODING-PRACTICE/blob/main/Interview_questions.ipynb\" target=\"_parent\"><img src=\"https://colab.research.google.com/assets/colab-badge.svg\" alt=\"Open In Colab\"/></a>"
      ]
    },
    {
      "cell_type": "markdown",
      "source": [
        "# **ARMSTRONG NUMBER**\n",
        "\n",
        "\n",
        "\n"
      ],
      "metadata": {
        "id": "O2GIGl4Ke0f9"
      }
    },
    {
      "cell_type": "code",
      "execution_count": null,
      "metadata": {
        "colab": {
          "base_uri": "https://localhost:8080/"
        },
        "id": "Y-UO_fXTBq-P",
        "outputId": "9b9c08c9-e1c8-4dec-98ea-b9355d9f4f45"
      },
      "outputs": [
        {
          "output_type": "stream",
          "name": "stdout",
          "text": [
            "153\n",
            "Armstrong\n"
          ]
        }
      ],
      "source": [
        "i=0\n",
        "result=0\n",
        "n=int(input())\n",
        "number1=n\n",
        "temp=n\n",
        "while n!=0:\n",
        "  n = (n//10)\n",
        "  i = i+1\n",
        "while number1!=0:\n",
        "  n = (number1%10)\n",
        "  result = result + pow(n,i)\n",
        "  number1 = (number1//10)\n",
        "if temp == result:\n",
        "  print(\"Armstrong\")\n",
        "else:\n",
        "  print(\"Not an Armstrong\")"
      ]
    },
    {
      "cell_type": "code",
      "source": [
        "i = 0\n",
        "result = 0\n",
        "n = int(input())\n",
        "number1 = n\n",
        "temp = n\n",
        "while n!=0:\n",
        "  n = n//10\n",
        "  i=i+1\n",
        "while number1!=0:\n",
        "  n=number1%10\n",
        "  result = result + pow(n,i)\n",
        "  number1 = number1//10\n",
        "if result==temp:\n",
        "  print(\"A\")\n",
        "else:\n",
        "  print(\"B\")"
      ],
      "metadata": {
        "colab": {
          "base_uri": "https://localhost:8080/"
        },
        "id": "BNY2jVGtjBdS",
        "outputId": "4025fc9c-3f1b-46b6-d1fd-baaf4f1c4a4f"
      },
      "execution_count": null,
      "outputs": [
        {
          "output_type": "stream",
          "name": "stdout",
          "text": [
            "156\n",
            "B\n"
          ]
        }
      ]
    },
    {
      "cell_type": "code",
      "source": [
        "a = (1%10)\n",
        "a\n"
      ],
      "metadata": {
        "colab": {
          "base_uri": "https://localhost:8080/"
        },
        "id": "7OgX6cI5isbC",
        "outputId": "659fa777-f335-4a0e-85da-ecff46c977f2"
      },
      "execution_count": null,
      "outputs": [
        {
          "output_type": "execute_result",
          "data": {
            "text/plain": [
              "1"
            ]
          },
          "metadata": {},
          "execution_count": 19
        }
      ]
    },
    {
      "cell_type": "code",
      "source": [
        "\n",
        "\n",
        "# Python program to check if the number is an Armstrong number or not\n",
        "num = int(input(\"Enter a number: \"))  # Take input from the user\n",
        "\n",
        "# Initialize the sum\n",
        "sum = 0\n",
        "\n",
        "# Find the sum of the cube of each digit\n",
        "temp = num\n",
        "while temp > 0:\n",
        "    digit = temp % 10\n",
        "    sum += digit ** 3\n",
        "    temp //= 10\n",
        "\n",
        "# Display the result\n",
        "if num == sum:\n",
        "    print(f\"{num} is an Armstrong number\")\n",
        "else:\n",
        "    print(f\"{num} is not an Armstrong number\")\n"
      ],
      "metadata": {
        "colab": {
          "base_uri": "https://localhost:8080/"
        },
        "id": "fX6ITwT_huVg",
        "outputId": "64f74a92-e6b4-4a48-ff18-035c424644af"
      },
      "execution_count": null,
      "outputs": [
        {
          "output_type": "stream",
          "name": "stdout",
          "text": [
            "Enter a number: 153\n",
            "153 is an Armstrong number\n"
          ]
        }
      ]
    },
    {
      "cell_type": "code",
      "source": [
        "A= pow(0,1)\n",
        "A"
      ],
      "metadata": {
        "colab": {
          "base_uri": "https://localhost:8080/"
        },
        "id": "0wvsNZP-fejd",
        "outputId": "1267ad97-791c-43af-8330-23e7360e2e58"
      },
      "execution_count": null,
      "outputs": [
        {
          "output_type": "execute_result",
          "data": {
            "text/plain": [
              "0"
            ]
          },
          "metadata": {},
          "execution_count": 5
        }
      ]
    },
    {
      "cell_type": "code",
      "source": [
        "i=0\n",
        "result=0\n",
        "n =int(input())\n",
        "number1=n\n",
        "temp=n\n",
        "while n!=0:\n",
        "  n = (n//10)\n",
        "  i = i + 1\n",
        "while number1 !=0:\n",
        "  n=(number1%10)\n",
        "  result = result + pow(n,i)\n",
        "  number1 = number1//10\n",
        "if temp == result:\n",
        "  print(\"Num is Armstrong\")\n",
        "else:\n",
        "  print(\"Num is not Armstrong\")"
      ],
      "metadata": {
        "id": "gH4X4yWRKeJ1",
        "colab": {
          "base_uri": "https://localhost:8080/"
        },
        "outputId": "8ce32ca9-45a1-47de-8acb-28c7d772a713"
      },
      "execution_count": null,
      "outputs": [
        {
          "output_type": "stream",
          "name": "stdout",
          "text": [
            "153\n",
            "Num is Armstrong\n"
          ]
        }
      ]
    },
    {
      "cell_type": "markdown",
      "source": [
        "Pattern"
      ],
      "metadata": {
        "id": "d0MNMoBEjCvD"
      }
    },
    {
      "cell_type": "code",
      "source": [
        "n = int(input())\n",
        "\n",
        "for i in range(1,n+1):\n",
        "  for j in range(1,i+1):\n",
        "    print(\"*\", end = \"\")\n",
        "  print()"
      ],
      "metadata": {
        "colab": {
          "base_uri": "https://localhost:8080/"
        },
        "id": "y23vm82wjCVL",
        "outputId": "c1d6b3a4-feff-4b35-eec0-6d85cd8eada4"
      },
      "execution_count": null,
      "outputs": [
        {
          "output_type": "stream",
          "name": "stdout",
          "text": [
            "5\n",
            "*\n",
            "**\n",
            "***\n",
            "****\n",
            "*****\n"
          ]
        }
      ]
    },
    {
      "cell_type": "code",
      "source": [
        "size = 5\n",
        "for i in range(size):\n",
        "  for j in range(1,size-i):\n",
        "    print(\" \", end = \"\")\n",
        "  for k in range(0, i+1):\n",
        "    print(\"*\", end = \"\")\n",
        "  print()"
      ],
      "metadata": {
        "colab": {
          "base_uri": "https://localhost:8080/"
        },
        "id": "AjQshw0-jeQJ",
        "outputId": "810a08bb-5a66-44ed-9723-db6423ea8b0f"
      },
      "execution_count": null,
      "outputs": [
        {
          "output_type": "stream",
          "name": "stdout",
          "text": [
            "    *\n",
            "   **\n",
            "  ***\n",
            " ****\n",
            "*****\n"
          ]
        }
      ]
    },
    {
      "cell_type": "code",
      "source": [
        "size = 5\n",
        "for i in range(size):\n",
        "  for j in range(size):\n",
        "    if i==j or i+j==size-1:\n",
        "      print(\"*\", end = \"\")\n",
        "    else:\n",
        "      print(\" \", end = \"\")\n",
        "  print()"
      ],
      "metadata": {
        "colab": {
          "base_uri": "https://localhost:8080/"
        },
        "id": "fEk0DHy4mCbr",
        "outputId": "b8289709-9005-4ebb-b7bd-85619d312c51"
      },
      "execution_count": null,
      "outputs": [
        {
          "output_type": "stream",
          "name": "stdout",
          "text": [
            "*   *\n",
            " * * \n",
            "  *  \n",
            " * * \n",
            "*   *\n"
          ]
        }
      ]
    },
    {
      "cell_type": "code",
      "source": [
        "size = 5\n",
        "for i in range(size):\n",
        "  for j in range(size):\n",
        "    if i==j or i+j==size-1:\n",
        "      print(\"*\",end=\"\")\n",
        "    else:\n",
        "      print(\" \",end=\"\")\n",
        "  print()"
      ],
      "metadata": {
        "colab": {
          "base_uri": "https://localhost:8080/"
        },
        "id": "v15WIksdmU_U",
        "outputId": "78b0fd6c-b1cd-4dce-ee01-189fc5c1146e"
      },
      "execution_count": null,
      "outputs": [
        {
          "output_type": "stream",
          "name": "stdout",
          "text": [
            "*   *\n",
            " * * \n",
            "  *  \n",
            " * * \n",
            "*   *\n"
          ]
        }
      ]
    },
    {
      "cell_type": "code",
      "source": [
        "size = 5\n",
        "for i in range(size):\n",
        "  for j in range(size-i):\n",
        "    print(\"*\", end = \"\")\n",
        "  print()"
      ],
      "metadata": {
        "colab": {
          "base_uri": "https://localhost:8080/"
        },
        "id": "Y2egs4FHmCan",
        "outputId": "8d91ecd9-b2ed-43ef-8953-331946ed1d2d"
      },
      "execution_count": null,
      "outputs": [
        {
          "output_type": "stream",
          "name": "stdout",
          "text": [
            "*****\n",
            "****\n",
            "***\n",
            "**\n",
            "*\n"
          ]
        }
      ]
    },
    {
      "cell_type": "code",
      "source": [
        "size = 5\n",
        "for i in range(size):\n",
        "  for j in range(i):\n",
        "    print(\" \", end = \"\")\n",
        "  for j in range(size,i,-1):\n",
        "    print(\"*\", end = \"\")\n",
        "  print()"
      ],
      "metadata": {
        "colab": {
          "base_uri": "https://localhost:8080/"
        },
        "id": "0YE3JK5Tml7L",
        "outputId": "49b05a43-e1ba-498c-9205-8fe94850dae6"
      },
      "execution_count": null,
      "outputs": [
        {
          "output_type": "stream",
          "name": "stdout",
          "text": [
            "*****\n",
            " ****\n",
            "  ***\n",
            "   **\n",
            "    *\n"
          ]
        }
      ]
    },
    {
      "cell_type": "markdown",
      "source": [
        "# **BUBBLE SORT**"
      ],
      "metadata": {
        "id": "GyCmoksGkyvd"
      }
    },
    {
      "cell_type": "code",
      "source": [
        "def bubble_sort(arr):\n",
        "  n=len(arr)\n",
        "\n",
        "  for i in range(n):\n",
        "    for j in range(0,n-i-1):\n",
        "      if arr[j]>arr[j+1]:\n",
        "        arr[j],arr[j+1]=arr[j+1],arr[j]\n",
        "\n",
        "arr = [5,2,7,3,1,8,6,4]\n",
        "bubble_sort(arr)\n",
        "print(\"Sorted array is:\")\n",
        "for i in range(len(arr)):\n",
        "  print(\"%d\" %arr[i])"
      ],
      "metadata": {
        "colab": {
          "base_uri": "https://localhost:8080/"
        },
        "id": "53oVb3z-k2HN",
        "outputId": "538b35a5-0ca0-44f2-8fd3-2b25c3bf8c27"
      },
      "execution_count": null,
      "outputs": [
        {
          "output_type": "stream",
          "name": "stdout",
          "text": [
            "Sorted array is:\n",
            "1\n",
            "2\n",
            "3\n",
            "4\n",
            "5\n",
            "6\n",
            "7\n",
            "8\n"
          ]
        }
      ]
    },
    {
      "cell_type": "markdown",
      "source": [
        "# **LINEAR SEARCH**"
      ],
      "metadata": {
        "id": "D-1GjoO87zLQ"
      }
    },
    {
      "cell_type": "code",
      "source": [
        "def linear_search(data,target):\n",
        "  for i in range(len(data)):\n",
        "    if data[i]==target:\n",
        "      return i\n",
        "  return -1\n",
        "\n",
        "\n",
        "data = eval(input(\"enter the values separated by space\"))\n",
        "target = int(input((\"enter the target value\")))\n",
        "\n",
        "index = linear_search(data,target)\n",
        "\n",
        "if index!=-1:\n",
        "  print(f\"Target {target} found at index {index}\")\n",
        "else:\n",
        "  print(f\"Target {target} not found\")"
      ],
      "metadata": {
        "colab": {
          "base_uri": "https://localhost:8080/"
        },
        "id": "K55PwUXd68iC",
        "outputId": "f77ebbaa-36dc-49c8-da5e-2742359fcb97"
      },
      "execution_count": null,
      "outputs": [
        {
          "output_type": "stream",
          "name": "stdout",
          "text": [
            "enter the values separated by space[1,2,3,4,5]\n",
            "enter the target value2\n",
            "Target 2 found at index 1\n"
          ]
        }
      ]
    },
    {
      "cell_type": "code",
      "source": [
        "def recursion_linear_search(arr,target,start_idx=0):\n",
        "  if start_idx>len(arr):\n",
        "    return -1\n",
        "  if arr[start_idx] == target:\n",
        "    return start_idx\n",
        "  return recursion_linear_search(arr,target,start_idx+1)\n",
        "\n",
        "arr = eval(input(\"enter the elements\"))\n",
        "target = int(input(\"enter the elements\"))\n",
        "result = recursion_linear_search(arr,target)\n",
        "\n",
        "if result != -1:\n",
        "  print(f\"Target element {target} found at index {result}\")\n",
        "else:\n",
        "  print(\"not found\")"
      ],
      "metadata": {
        "colab": {
          "base_uri": "https://localhost:8080/"
        },
        "id": "uFlkLMU8-Vq5",
        "outputId": "31e16b3d-f625-4134-b445-bb97cb3e1eed"
      },
      "execution_count": null,
      "outputs": [
        {
          "output_type": "stream",
          "name": "stdout",
          "text": [
            "enter the elements[1,2,3,4,5]\n",
            "enter the elements2\n",
            "Target element 2 found at index 1\n"
          ]
        }
      ]
    },
    {
      "cell_type": "markdown",
      "source": [
        "## **Binary search**"
      ],
      "metadata": {
        "id": "A3Wvz-_Fewq2"
      }
    },
    {
      "cell_type": "code",
      "source": [
        "def binary_search(data,target):\n",
        "  left = 0\n",
        "  right = len(data)-1\n",
        "  while left<=right:\n",
        "    mid = (left+right)//2\n",
        "    if data[mid]==target:\n",
        "      return mid\n",
        "    elif data[mid]<target:\n",
        "      left = mid + 1\n",
        "    else:\n",
        "      right = mid - 1\n",
        "  return -1\n",
        "\n",
        "data = eval(input(\"enter the values\"))\n",
        "target = int(input(\"enter the value\"))\n",
        "result = binary_search(data,target)\n",
        "\n",
        "if result!=-1:\n",
        "  print(f\"Target element {target} found at index no {result}\")\n",
        "else:\n",
        "  print(f\"Target value not found\")"
      ],
      "metadata": {
        "colab": {
          "base_uri": "https://localhost:8080/"
        },
        "id": "Ps9rj6n9dl9G",
        "outputId": "8116ef7d-11f1-44cf-e581-b79c179ee1fd"
      },
      "execution_count": null,
      "outputs": [
        {
          "output_type": "stream",
          "name": "stdout",
          "text": [
            "enter the values[1,2,3,4,5]\n",
            "enter the value5\n",
            "Target element 5 found at index no 4\n"
          ]
        }
      ]
    },
    {
      "cell_type": "markdown",
      "source": [
        "Leap year"
      ],
      "metadata": {
        "id": "upj61K9Kno_9"
      }
    },
    {
      "cell_type": "code",
      "source": [
        "def is_leap_year(year):\n",
        "  return (year%4==0 and year %100 !=0) or (year % 400 ==0)\n",
        "\n",
        "year_to_check = int(input())\n",
        "result= is_leap_year(year_to_check)\n",
        "print(f\"The year {year_to_check} is a leap year : {result}\")"
      ],
      "metadata": {
        "colab": {
          "base_uri": "https://localhost:8080/"
        },
        "id": "28M4KSmtnqjV",
        "outputId": "b12c3510-90e6-4839-cf45-14f45872d5fe"
      },
      "execution_count": null,
      "outputs": [
        {
          "output_type": "stream",
          "name": "stdout",
          "text": [
            "2024\n",
            "The year 2024 is a leap year : True\n"
          ]
        }
      ]
    },
    {
      "cell_type": "markdown",
      "source": [
        "# **Reverse a number**"
      ],
      "metadata": {
        "id": "jUwJbtzPp45F"
      }
    },
    {
      "cell_type": "code",
      "source": [
        "def reverse_number(number):\n",
        "  original_number = number\n",
        "  reverse = 0\n",
        "\n",
        "  for num in str(number):\n",
        "    digit = number%10\n",
        "    reverse = reverse*10 + digit\n",
        "    number//=10\n",
        "  print(f\"Original number: {original_number}\")\n",
        "  print(f\"Reverse: {reverse}\")\n",
        "\n",
        "reverse = 7894\n",
        "reverse_number(reverse)"
      ],
      "metadata": {
        "colab": {
          "base_uri": "https://localhost:8080/"
        },
        "id": "WsvQ7DiWp4dr",
        "outputId": "871fe4ff-4318-4374-b38a-5ba146ff07c1"
      },
      "execution_count": null,
      "outputs": [
        {
          "output_type": "stream",
          "name": "stdout",
          "text": [
            "Original number: 7894\n",
            "Reverse: 4987\n"
          ]
        }
      ]
    },
    {
      "cell_type": "markdown",
      "source": [
        "## **USING SLICING**"
      ],
      "metadata": {
        "id": "Y_cRRzpprr9Z"
      }
    },
    {
      "cell_type": "code",
      "source": [
        "def reverse_number(number):\n",
        "  num_list = list(str(number))\n",
        "  reversed_num = int(''.join(num_list[::-1]))\n",
        "  return reversed_num\n",
        "\n",
        "original_num = 1234\n",
        "reverse_number(original_num)"
      ],
      "metadata": {
        "colab": {
          "base_uri": "https://localhost:8080/"
        },
        "id": "F5AHeVn3p4cm",
        "outputId": "52065b81-9b73-4c66-8219-a785b0bf1ddd"
      },
      "execution_count": null,
      "outputs": [
        {
          "output_type": "execute_result",
          "data": {
            "text/plain": [
              "4321"
            ]
          },
          "metadata": {},
          "execution_count": 35
        }
      ]
    },
    {
      "cell_type": "markdown",
      "source": [
        "## **GCD**"
      ],
      "metadata": {
        "id": "iEIB0u9ktWLE"
      }
    },
    {
      "cell_type": "code",
      "source": [
        "def computeGcd(x,y):\n",
        "  if x>y:\n",
        "    small = y\n",
        "  else:\n",
        "    small = x\n",
        "  for i in range(1,small+1):\n",
        "    if ((x%i==0)and(y%i==0)):\n",
        "      gcd= i\n",
        "  return gcd\n"
      ],
      "metadata": {
        "id": "rbctRkGUtXJ8"
      },
      "execution_count": null,
      "outputs": []
    },
    {
      "cell_type": "code",
      "source": [
        "x=60\n",
        "y=48\n",
        "computeGcd(x,y)"
      ],
      "metadata": {
        "colab": {
          "base_uri": "https://localhost:8080/"
        },
        "id": "Rp_TSvYit0qV",
        "outputId": "93525074-48a1-4e49-880b-20bb32924ff3"
      },
      "execution_count": null,
      "outputs": [
        {
          "output_type": "execute_result",
          "data": {
            "text/plain": [
              "12"
            ]
          },
          "metadata": {},
          "execution_count": 37
        }
      ]
    },
    {
      "cell_type": "code",
      "source": [
        "def hcfnaive(a,b):\n",
        "  if (b==0):\n",
        "    return abs(a)\n",
        "  else:\n",
        "    return hcfnaive(b,a%b)"
      ],
      "metadata": {
        "id": "5YIGfEjit7LB"
      },
      "execution_count": null,
      "outputs": []
    },
    {
      "cell_type": "code",
      "source": [
        "hcfnaive(60,120)"
      ],
      "metadata": {
        "id": "uK2Z4zn7uMS2",
        "outputId": "d4ab23e1-030f-4ed2-b797-840a24e138c9",
        "colab": {
          "base_uri": "https://localhost:8080/"
        }
      },
      "execution_count": null,
      "outputs": [
        {
          "output_type": "execute_result",
          "data": {
            "text/plain": [
              "60"
            ]
          },
          "metadata": {},
          "execution_count": 39
        }
      ]
    },
    {
      "cell_type": "markdown",
      "source": [
        "## **NON REPEATING CHARCTERS**"
      ],
      "metadata": {
        "id": "oNQf1o3p3CSv"
      }
    },
    {
      "cell_type": "code",
      "source": [
        "string = input(\"enter the strig\")\n",
        "char_count = {}\n",
        "\n",
        "for char in string:\n",
        "  if char in char_count:\n",
        "    char_count[char]+=1\n",
        "  else:\n",
        "    char_count[char]=1\n",
        "\n",
        "non_repeating = \"\"\n",
        "for char in string:\n",
        "  if char_count[char]==1:\n",
        "    non_repeating+=char\n",
        "print(\"Non repeating characters\",non_repeating)"
      ],
      "metadata": {
        "id": "zdCVjtUSuPU7",
        "colab": {
          "base_uri": "https://localhost:8080/"
        },
        "outputId": "31be2535-1951-4083-d2c6-240c20c6416b"
      },
      "execution_count": null,
      "outputs": [
        {
          "output_type": "stream",
          "name": "stdout",
          "text": [
            "enter the strigprogramming\n",
            "Non repeating characters poain\n"
          ]
        }
      ]
    },
    {
      "cell_type": "markdown",
      "source": [
        "# **HARMONIC SUM**"
      ],
      "metadata": {
        "id": "4x6UFhd33Brw"
      }
    },
    {
      "cell_type": "code",
      "source": [
        "def harmonic_sum(n):\n",
        "  if n<2:\n",
        "    return 1\n",
        "  else:\n",
        "    return 1 / n + harmonic_sum(n-1)"
      ],
      "metadata": {
        "id": "AWNzl1MU3LS3"
      },
      "execution_count": null,
      "outputs": []
    },
    {
      "cell_type": "code",
      "source": [
        "harmonic_sum(7)"
      ],
      "metadata": {
        "colab": {
          "base_uri": "https://localhost:8080/"
        },
        "id": "iny9tiCJ3Xc-",
        "outputId": "3daee308-2159-436c-af1c-269f11bd718b"
      },
      "execution_count": null,
      "outputs": [
        {
          "output_type": "execute_result",
          "data": {
            "text/plain": [
              "2.5928571428571425"
            ]
          },
          "metadata": {},
          "execution_count": 3
        }
      ]
    },
    {
      "cell_type": "code",
      "source": [
        "num = eval(input())\n",
        "tar=int(input())\n",
        "new=''\n",
        "for i in range(len(num)):\n",
        "  if num[i]<=tar:\n",
        "    new.append(i)\n",
        "    print(new)"
      ],
      "metadata": {
        "id": "E3oqEWho3Zq-",
        "colab": {
          "base_uri": "https://localhost:8080/",
          "height": 228
        },
        "outputId": "73b9490b-aa77-49ec-e189-978a5ca697c2"
      },
      "execution_count": null,
      "outputs": [
        {
          "name": "stdout",
          "output_type": "stream",
          "text": [
            "[0, 12, 45, 3, 4923, 322, 105, 29, 15, 39, 55]\n",
            "100\n"
          ]
        },
        {
          "output_type": "error",
          "ename": "AttributeError",
          "evalue": "'str' object has no attribute 'append'",
          "traceback": [
            "\u001b[0;31m---------------------------------------------------------------------------\u001b[0m",
            "\u001b[0;31mAttributeError\u001b[0m                            Traceback (most recent call last)",
            "\u001b[0;32m<ipython-input-6-2a310413dd4d>\u001b[0m in \u001b[0;36m<cell line: 4>\u001b[0;34m()\u001b[0m\n\u001b[1;32m      4\u001b[0m \u001b[0;32mfor\u001b[0m \u001b[0mi\u001b[0m \u001b[0;32min\u001b[0m \u001b[0mrange\u001b[0m\u001b[0;34m(\u001b[0m\u001b[0mlen\u001b[0m\u001b[0;34m(\u001b[0m\u001b[0mnum\u001b[0m\u001b[0;34m)\u001b[0m\u001b[0;34m)\u001b[0m\u001b[0;34m:\u001b[0m\u001b[0;34m\u001b[0m\u001b[0;34m\u001b[0m\u001b[0m\n\u001b[1;32m      5\u001b[0m   \u001b[0;32mif\u001b[0m \u001b[0mnum\u001b[0m\u001b[0;34m[\u001b[0m\u001b[0mi\u001b[0m\u001b[0;34m]\u001b[0m\u001b[0;34m<=\u001b[0m\u001b[0mtar\u001b[0m\u001b[0;34m:\u001b[0m\u001b[0;34m\u001b[0m\u001b[0;34m\u001b[0m\u001b[0m\n\u001b[0;32m----> 6\u001b[0;31m     \u001b[0mnew\u001b[0m\u001b[0;34m.\u001b[0m\u001b[0mappend\u001b[0m\u001b[0;34m(\u001b[0m\u001b[0mi\u001b[0m\u001b[0;34m)\u001b[0m\u001b[0;34m\u001b[0m\u001b[0;34m\u001b[0m\u001b[0m\n\u001b[0m\u001b[1;32m      7\u001b[0m     \u001b[0mprint\u001b[0m\u001b[0;34m(\u001b[0m\u001b[0mi\u001b[0m\u001b[0;34m)\u001b[0m\u001b[0;34m\u001b[0m\u001b[0;34m\u001b[0m\u001b[0m\n",
            "\u001b[0;31mAttributeError\u001b[0m: 'str' object has no attribute 'append'"
          ]
        }
      ]
    },
    {
      "cell_type": "markdown",
      "source": [
        "Write a Python program to get the smallest number from a list."
      ],
      "metadata": {
        "id": "29xnmPSytu6_"
      }
    },
    {
      "cell_type": "code",
      "source": [
        "lst = eval(input())\n",
        "print(min(lst))"
      ],
      "metadata": {
        "colab": {
          "base_uri": "https://localhost:8080/"
        },
        "id": "Wke60k9zttCh",
        "outputId": "3c63cb58-55fe-4448-da6d-25fbbd9c3f58"
      },
      "execution_count": 1,
      "outputs": [
        {
          "output_type": "stream",
          "name": "stdout",
          "text": [
            "[1,2,0,-8]\n",
            "-8\n"
          ]
        }
      ]
    },
    {
      "cell_type": "code",
      "source": [
        "#Write a Python program to print a specified list after removing the 0th, 4th and 5th elements\n",
        "\n",
        "lst = eval(input())\n",
        "new_list = lst[1:4]\n",
        "print(new_list)"
      ],
      "metadata": {
        "colab": {
          "base_uri": "https://localhost:8080/"
        },
        "id": "MuY7m5uItzlA",
        "outputId": "d77db060-df21-4c9c-f536-5969b2b660f0"
      },
      "execution_count": 4,
      "outputs": [
        {
          "output_type": "stream",
          "name": "stdout",
          "text": [
            "['Red', 'Green', 'White', 'Black', 'Pink', 'Yellow']\n",
            "['Green', 'White', 'Black']\n"
          ]
        }
      ]
    },
    {
      "cell_type": "code",
      "source": [
        "lst = eval(input())\n",
        "lst = [x for (i,x) in enumerate(lst) if i  not in (0,4,5)]\n",
        "print(lst)"
      ],
      "metadata": {
        "colab": {
          "base_uri": "https://localhost:8080/"
        },
        "id": "xO-bh7W9uJ3E",
        "outputId": "51530057-9358-4ee2-aa9e-bc8cc10f2c6d"
      },
      "execution_count": 5,
      "outputs": [
        {
          "output_type": "stream",
          "name": "stdout",
          "text": [
            "['Red', 'Green', 'White', 'Black', 'Pink', 'Yellow']\n",
            "['Green', 'White', 'Black']\n"
          ]
        }
      ]
    },
    {
      "cell_type": "markdown",
      "source": [
        "Write a Python program to append a list to the second list."
      ],
      "metadata": {
        "id": "tmDKES7svBGG"
      }
    },
    {
      "cell_type": "code",
      "source": [
        "lst1 = eval(input())\n",
        "lst2 = eval(input())\n",
        "lst3 = lst1+lst2\n",
        "print(lst3)"
      ],
      "metadata": {
        "colab": {
          "base_uri": "https://localhost:8080/"
        },
        "id": "j1QThTTCu8xy",
        "outputId": "5667f040-c1b8-47e2-e95d-157e68133190"
      },
      "execution_count": 6,
      "outputs": [
        {
          "output_type": "stream",
          "name": "stdout",
          "text": [
            "[1, 2, 3, 0]\n",
            "['Red', 'Green', 'Black']\n",
            "[1, 2, 3, 0, 'Red', 'Green', 'Black']\n"
          ]
        }
      ]
    },
    {
      "cell_type": "markdown",
      "source": [
        "Write a Python program to test whether all numbers of a list is greater than a certain number."
      ],
      "metadata": {
        "id": "rxTJ05zhvSkv"
      }
    },
    {
      "cell_type": "code",
      "source": [
        "lst = eval(input())\n",
        "target = int(input())\n",
        "new_lst = []\n",
        "\n",
        "for num in lst:\n",
        "  if num>target:\n",
        "    new_lst.append(num)\n",
        "print(new_lst)\n"
      ],
      "metadata": {
        "colab": {
          "base_uri": "https://localhost:8080/"
        },
        "id": "wQZcVtDNvKXP",
        "outputId": "f30274e1-1cb0-4d6e-af81-773450de9252"
      },
      "execution_count": 14,
      "outputs": [
        {
          "output_type": "stream",
          "name": "stdout",
          "text": [
            "[2, 3, 4, 5]\n",
            "1\n",
            "[2, 3, 4, 5]\n"
          ]
        }
      ]
    },
    {
      "cell_type": "code",
      "source": [
        "lst = eval(input())\n",
        "target = int(input())\n",
        "print(all(num>target for num in lst))"
      ],
      "metadata": {
        "colab": {
          "base_uri": "https://localhost:8080/"
        },
        "id": "XFmWib7Avl7Y",
        "outputId": "be3973c8-6631-476c-b583-f5d6ea05f1fc"
      },
      "execution_count": 16,
      "outputs": [
        {
          "output_type": "stream",
          "name": "stdout",
          "text": [
            "[2, 3, 4, 5]\n",
            "1\n",
            "True\n"
          ]
        }
      ]
    },
    {
      "cell_type": "markdown",
      "source": [
        "Type of triangle"
      ],
      "metadata": {
        "id": "fwQKHLDbxxG_"
      }
    },
    {
      "cell_type": "code",
      "source": [
        "side_a = int(input())\n",
        "side_b = int(input())\n",
        "side_c = int(input())\n",
        "\n",
        "if side_a == side_b == side_c:\n",
        "  print(\"equilateral triangle\")\n",
        "elif side_a == side_b or side_b == side_c or side_c == side_a:\n",
        "  print(\"Isoceles triangle\")\n",
        "else:\n",
        "  print(\"Scalene triangle\")"
      ],
      "metadata": {
        "colab": {
          "base_uri": "https://localhost:8080/"
        },
        "id": "kxCLoX2-xrmp",
        "outputId": "8ac80287-d7c8-4e2a-c50d-ac09fadca6de"
      },
      "execution_count": 19,
      "outputs": [
        {
          "output_type": "stream",
          "name": "stdout",
          "text": [
            "5\n",
            "5\n",
            "4\n",
            "Isoceles triangle\n"
          ]
        }
      ]
    },
    {
      "cell_type": "markdown",
      "source": [
        "Write a Python program to convert month name to a number of days. Print 'Wrong month name' for incorrect input. Note: February has 28/29 days."
      ],
      "metadata": {
        "id": "uauslIFwyWog"
      }
    },
    {
      "cell_type": "code",
      "source": [
        "month_name = input()\n",
        "\n",
        "if month_name in ('january','march','may','july','august','october','december'):\n",
        "  print(\"31 days\")\n",
        "elif month_name in ('april','june','september','november'):\n",
        "  print(\"30 days\")\n",
        "elif month_name in ('februrary'):\n",
        "  print(\"28/29 days\")\n",
        "else:\n",
        "  print(\"Invalid month\")\n"
      ],
      "metadata": {
        "colab": {
          "base_uri": "https://localhost:8080/"
        },
        "id": "E9LTjQZaxrli",
        "outputId": "5cf2cf6e-dd9f-4bdb-e96f-b763729d3e07"
      },
      "execution_count": 23,
      "outputs": [
        {
          "output_type": "stream",
          "name": "stdout",
          "text": [
            "sunday\n",
            "Invalid month\n"
          ]
        }
      ]
    },
    {
      "cell_type": "markdown",
      "source": [
        "Write a Python program to add two objects if both objects are an integer type."
      ],
      "metadata": {
        "id": "jmO8T-k8zvsi"
      }
    },
    {
      "cell_type": "code",
      "source": [
        "a = input()\n",
        "b = input()\n",
        "\n",
        "if type(a) and type(b) == int:\n",
        "  c= a + b\n",
        "  print(c)\n",
        "else:\n",
        "  print(\"Input must be integers\")"
      ],
      "metadata": {
        "colab": {
          "base_uri": "https://localhost:8080/"
        },
        "id": "7dS_N9e3znUY",
        "outputId": "f960de59-85ad-497c-c013-c69c9ae450be"
      },
      "execution_count": 31,
      "outputs": [
        {
          "output_type": "stream",
          "name": "stdout",
          "text": [
            "10\n",
            "12.5\n",
            "Input must be integers\n"
          ]
        }
      ]
    },
    {
      "cell_type": "code",
      "source": [
        "# your code goes here\n",
        "def add_numbers(a, b):\n",
        "   if not (isinstance(a, int) and isinstance(b, int)):\n",
        "       return \"Inputs must be integers!\"\n",
        "   return a + b\n",
        "\n",
        "n1 = eval(input())\n",
        "n2 = eval(input())\n",
        "print(add_numbers(n1, n2))"
      ],
      "metadata": {
        "colab": {
          "base_uri": "https://localhost:8080/"
        },
        "id": "dUq6Z8TLz8ss",
        "outputId": "c726ff95-5bec-4595-8713-434dab151b12"
      },
      "execution_count": 32,
      "outputs": [
        {
          "output_type": "stream",
          "name": "stdout",
          "text": [
            "10\n",
            "12.5\n",
            "Inputs must be integers!\n"
          ]
        }
      ]
    },
    {
      "cell_type": "markdown",
      "source": [
        "Write a Python program to calculate the length of a string."
      ],
      "metadata": {
        "id": "glBzMUi00yLz"
      }
    },
    {
      "cell_type": "code",
      "source": [
        "string = input()\n",
        "print(len(string))"
      ],
      "metadata": {
        "colab": {
          "base_uri": "https://localhost:8080/"
        },
        "id": "X9IaN9AY0zFz",
        "outputId": "ff79559e-8d76-418e-b8fd-e83228d91165"
      },
      "execution_count": 34,
      "outputs": [
        {
          "output_type": "stream",
          "name": "stdout",
          "text": [
            "datascience\n",
            "11\n"
          ]
        }
      ]
    },
    {
      "cell_type": "code",
      "source": [
        "def n_number(lst,n):\n",
        "  return lst[n-1::n]\n",
        "\n",
        "lst = [1, 2, 3, 4, 5, 6, 7, 8, 9, 10]\n",
        "n = int(input())\n",
        "\n",
        "print(n_number(lst,n))"
      ],
      "metadata": {
        "colab": {
          "base_uri": "https://localhost:8080/"
        },
        "id": "0_6_tOCV026L",
        "outputId": "025a9527-bb7a-4dce-c869-b1d7fd555cf1"
      },
      "execution_count": 35,
      "outputs": [
        {
          "output_type": "stream",
          "name": "stdout",
          "text": [
            "2\n",
            "[2, 4, 6, 8, 10]\n"
          ]
        }
      ]
    },
    {
      "cell_type": "markdown",
      "source": [
        "Write a Python program to check whether an alphabet is a vowel or consonant."
      ],
      "metadata": {
        "id": "S4exEBxj1hSx"
      }
    },
    {
      "cell_type": "code",
      "source": [
        "word = input()\n",
        "\n",
        "for word in word:\n",
        "  if word in 'aeiouAEIOU':\n",
        "    print(\"Vowel\")\n",
        "  else:\n",
        "    print(\"Consonant\")"
      ],
      "metadata": {
        "colab": {
          "base_uri": "https://localhost:8080/"
        },
        "id": "2YeZCNXc1hsp",
        "outputId": "518050d3-2df8-4ef6-cac3-a4e3e1bae254"
      },
      "execution_count": 36,
      "outputs": [
        {
          "output_type": "stream",
          "name": "stdout",
          "text": [
            "a\n",
            "Vowel\n"
          ]
        }
      ]
    },
    {
      "cell_type": "markdown",
      "source": [
        "Write a Python program to calculate a dog's age in dog's years. Note: For the first two years, a dog year is equal to 10.5 human years. After that, each dog year equals 4 human years."
      ],
      "metadata": {
        "id": "XDndgPOW11Br"
      }
    },
    {
      "cell_type": "code",
      "source": [
        "age = int(input())\n",
        "\n",
        "if age<= 2:\n",
        "  dog_age = age*10.5\n",
        "elif age>2:\n",
        "  dog_age = ((age-2)*4 +21)\n",
        "print(dog_age)"
      ],
      "metadata": {
        "colab": {
          "base_uri": "https://localhost:8080/"
        },
        "id": "JubxhcUc11hz",
        "outputId": "f8a1b6d8-c64c-46f4-e563-a11fb2b4d306"
      },
      "execution_count": 38,
      "outputs": [
        {
          "output_type": "stream",
          "name": "stdout",
          "text": [
            "12\n",
            "61\n"
          ]
        }
      ]
    },
    {
      "cell_type": "markdown",
      "source": [
        "Write a Python program to find the biggest even number between two numbers inclusive."
      ],
      "metadata": {
        "id": "AnoFC7_94cAy"
      }
    },
    {
      "cell_type": "code",
      "source": [
        "m = int(input())\n",
        "n = int(input())\n",
        "\n",
        "if m > n or (m==n and m %2==1):\n",
        "  print(\"-1\")\n",
        "elif n %2 == 0:\n",
        "  print(n)\n",
        "else:\n",
        "  print(n-1)"
      ],
      "metadata": {
        "colab": {
          "base_uri": "https://localhost:8080/"
        },
        "id": "SuAe06Av2hFu",
        "outputId": "cdc17d2f-2fbb-4af9-ea98-fd65fc992d0d"
      },
      "execution_count": 42,
      "outputs": [
        {
          "output_type": "stream",
          "name": "stdout",
          "text": [
            "12\n",
            "51\n",
            "50\n"
          ]
        }
      ]
    },
    {
      "cell_type": "markdown",
      "source": [
        "Write a Python program to remove None value from a given list. (Using list comprehension)"
      ],
      "metadata": {
        "id": "p9GhrTdr4fyk"
      }
    },
    {
      "cell_type": "code",
      "source": [
        "number = eval(input())\n",
        "number = [x for x in number if x is not None]\n",
        "print(number)"
      ],
      "metadata": {
        "colab": {
          "base_uri": "https://localhost:8080/"
        },
        "id": "XAtKhpMb3jck",
        "outputId": "a03c3bbb-6c65-47c2-9761-e68b9dcbd2d2"
      },
      "execution_count": 45,
      "outputs": [
        {
          "output_type": "stream",
          "name": "stdout",
          "text": [
            "[12, 0, None, 23, None, -55, 234, 89, None, 0, 6, -12]\n",
            "[12, 0, 23, -55, 234, 89, 0, 6, -12]\n"
          ]
        }
      ]
    },
    {
      "cell_type": "markdown",
      "source": [
        "Write a Python program to find the indexes of all None items in a given list."
      ],
      "metadata": {
        "id": "PcfRvVz-6W4V"
      }
    },
    {
      "cell_type": "code",
      "source": [
        "number = eval(input())\n",
        "result = [i for i in range(len(number)) if number[i] == None]\n",
        "print(result)"
      ],
      "metadata": {
        "colab": {
          "base_uri": "https://localhost:8080/"
        },
        "id": "px3WVSML4qKJ",
        "outputId": "edb344e9-6558-483b-8d53-f033a04f293b"
      },
      "execution_count": 51,
      "outputs": [
        {
          "output_type": "stream",
          "name": "stdout",
          "text": [
            "[1, None, 5, 4,None, 0, None, None]\n",
            "[1, 4, 6, 7]\n"
          ]
        }
      ]
    },
    {
      "cell_type": "code",
      "source": [
        "num = eval(input())\n",
        "\n",
        "for i  in range(len(num)):\n",
        "  if num[i]==None:\n",
        "    print(i)"
      ],
      "metadata": {
        "colab": {
          "base_uri": "https://localhost:8080/"
        },
        "id": "p9LKOxFb5iTQ",
        "outputId": "aab807d9-4b70-4329-e905-96206f20929e"
      },
      "execution_count": 48,
      "outputs": [
        {
          "output_type": "stream",
          "name": "stdout",
          "text": [
            "[1, None, 5, 4,None, 0, None, None]\n",
            "1\n",
            "4\n",
            "6\n",
            "7\n"
          ]
        }
      ]
    },
    {
      "cell_type": "markdown",
      "source": [
        "Write a Python program to remove specific words from a given list. (Using List comprehension)"
      ],
      "metadata": {
        "id": "DLYH9I_Q6grp"
      }
    },
    {
      "cell_type": "code",
      "source": [
        "obj = eval(input())\n",
        "removal = eval(input())\n",
        "\n",
        "for ob in obj:\n",
        "  if ob not in removal:\n",
        "    print(ob)"
      ],
      "metadata": {
        "colab": {
          "base_uri": "https://localhost:8080/"
        },
        "id": "itcLhjTg6hPJ",
        "outputId": "c7dbc5f2-7d7d-42e3-a225-694b05917ca5"
      },
      "execution_count": 54,
      "outputs": [
        {
          "output_type": "stream",
          "name": "stdout",
          "text": [
            "['red', 'green', 'blue', 'white', 'black', 'orange']\n",
            "['white', 'orange']\n",
            "red\n",
            "green\n",
            "blue\n",
            "black\n"
          ]
        }
      ]
    },
    {
      "cell_type": "code",
      "source": [
        "obj = eval(input())\n",
        "removal = eval(input())\n",
        "removed_lst = [word for word in obj if word not in removal]\n",
        "print(removed_lst)"
      ],
      "metadata": {
        "colab": {
          "base_uri": "https://localhost:8080/"
        },
        "id": "wuCY9IkT64gf",
        "outputId": "0f720027-3afd-4f0c-e332-5bff1bf3a190"
      },
      "execution_count": 56,
      "outputs": [
        {
          "output_type": "stream",
          "name": "stdout",
          "text": [
            "['red', 'green', 'blue', 'white', 'black', 'orange']\n",
            "['white', 'orange']\n",
            "['red', 'green', 'blue', 'black']\n"
          ]
        }
      ]
    },
    {
      "cell_type": "code",
      "source": [],
      "metadata": {
        "id": "qas7POjk7b5N"
      },
      "execution_count": null,
      "outputs": []
    }
  ]
}