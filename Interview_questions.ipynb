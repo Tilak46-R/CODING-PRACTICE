{
  "cells": [
    {
      "cell_type": "markdown",
      "metadata": {
        "id": "view-in-github",
        "colab_type": "text"
      },
      "source": [
        "<a href=\"https://colab.research.google.com/github/Tilak46-R/CODING-PRACTICE/blob/main/Interview_questions.ipynb\" target=\"_parent\"><img src=\"https://colab.research.google.com/assets/colab-badge.svg\" alt=\"Open In Colab\"/></a>"
      ]
    },
    {
      "cell_type": "markdown",
      "metadata": {
        "id": "O2GIGl4Ke0f9"
      },
      "source": [
        "# **ARMSTRONG NUMBER**\n",
        "\n",
        "\n",
        "\n"
      ]
    },
    {
      "cell_type": "code",
      "execution_count": null,
      "metadata": {
        "colab": {
          "base_uri": "https://localhost:8080/"
        },
        "id": "Y-UO_fXTBq-P",
        "outputId": "9b9c08c9-e1c8-4dec-98ea-b9355d9f4f45"
      },
      "outputs": [
        {
          "name": "stdout",
          "output_type": "stream",
          "text": [
            "153\n",
            "Armstrong\n"
          ]
        }
      ],
      "source": [
        "i=0\n",
        "result=0\n",
        "n=int(input())\n",
        "number1=n\n",
        "temp=n\n",
        "while n!=0:\n",
        "  n = (n//10)\n",
        "  i = i+1\n",
        "while number1!=0:\n",
        "  n = (number1%10)\n",
        "  result = result + pow(n,i)\n",
        "  number1 = (number1//10)\n",
        "if temp == result:\n",
        "  print(\"Armstrong\")\n",
        "else:\n",
        "  print(\"Not an Armstrong\")"
      ]
    },
    {
      "cell_type": "code",
      "source": [
        "def is_armstrong(number):\n",
        "  num_digits = len(str(number))\n",
        "  armstrong_sum=0\n",
        "  temp=number\n",
        "\n",
        "  while temp>0:\n",
        "    digit = temp%10\n",
        "    armstrong_sum+=digit**num_digits\n",
        "    temp//=10\n",
        "\n",
        "  if armstrong_sum == number:\n",
        "    return True\n",
        "  else:\n",
        "    return False\n",
        "\n",
        "T = int(input(\"enter the test cases\"))\n",
        "\n",
        "for t in range(T):\n",
        "  test_number =int(input())\n",
        "  if is_armstrong(test_number):\n",
        "    print(\"It is an Armstrong number\")\n",
        "  else:\n",
        "    print(\"It is not an Armstong number\")"
      ],
      "metadata": {
        "colab": {
          "base_uri": "https://localhost:8080/"
        },
        "id": "sVxqG7TpCjLy",
        "outputId": "1e0ee413-15f2-459d-a7fd-5656344543f0"
      },
      "execution_count": null,
      "outputs": [
        {
          "output_type": "stream",
          "name": "stdout",
          "text": [
            "enter the test cases3\n",
            "153\n",
            "It is an Armstrong number\n",
            "345\n",
            "It is not an Armstong number\n",
            "761\n",
            "It is not an Armstong number\n"
          ]
        }
      ]
    },
    {
      "cell_type": "code",
      "source": [
        "def is_armstrong(number):\n",
        "  num_dig = len(str(number))\n",
        "  sum = 0\n",
        "  temp = number\n",
        "\n",
        "  while temp>0:\n",
        "    digit = temp%10\n",
        "    sum+=digit**num_dig\n",
        "    temp//=10\n",
        "\n",
        "  if sum==number:\n",
        "    return True\n",
        "  else:\n",
        "    return False\n",
        "\n",
        "T =int(input())\n",
        "\n",
        "for t in range(T):\n",
        "  test_case = int(input())\n",
        "  if is_armstrong(test_case):\n",
        "    print(\"Armstrong\")\n",
        "  else:\n",
        "    print(\"Not an Armstrong\")\n"
      ],
      "metadata": {
        "colab": {
          "base_uri": "https://localhost:8080/"
        },
        "id": "GnOSFVNy-bhZ",
        "outputId": "73319c23-7084-4a83-8411-843cd4647f1b"
      },
      "execution_count": null,
      "outputs": [
        {
          "output_type": "stream",
          "name": "stdout",
          "text": [
            "3\n",
            "153\n",
            "Armstrong\n",
            "256\n",
            "Not an Armstrong\n",
            "789\n",
            "Not an Armstrong\n"
          ]
        }
      ]
    },
    {
      "cell_type": "code",
      "source": [
        "def is_Armstrong(number):\n",
        "  num_digits = len(str(number))\n",
        "  sum = 0\n",
        "  temp = number\n",
        "\n",
        "  while temp>0:\n",
        "    digit = temp%10\n",
        "    sum+=digit**num_digits\n",
        "    temp//10\n",
        "\n",
        "  if sum == number:\n",
        "    return True\n",
        "  else:\n",
        "    return False\n",
        "\n",
        "T = int(input())\n",
        "\n",
        "for t in range(T):\n",
        "  test_case = int(input())\n",
        "  if is_Armstrong(test_case):\n",
        "    print(\"Armstrong\")\n",
        "  else:\n",
        "    print(\"Not an Armstrong\")\n"
      ],
      "metadata": {
        "id": "zpF3qnMrB6RG"
      },
      "execution_count": null,
      "outputs": []
    },
    {
      "cell_type": "code",
      "source": [
        "def is_armstrong(number):\n",
        "  num_digits = len(str(number))\n",
        "  sum  = 0\n",
        "  temp = number\n",
        "\n",
        "  while temp>0:\n",
        "    digit = temp%10\n",
        "    sum += digit**num_digits\n",
        "    temp//=10\n",
        "\n",
        "  if sum==number:\n",
        "    return True\n",
        "  else:\n",
        "    return False\n",
        "\n",
        "T = int(input())\n",
        "\n",
        "for t in range(T):\n",
        "  test_num = int(input())\n",
        "  if is_armstrong(test_num):\n",
        "    print('Number is an Armstrong')\n",
        "  else:\n",
        "    print('It is not an Armstrong')"
      ],
      "metadata": {
        "colab": {
          "base_uri": "https://localhost:8080/"
        },
        "id": "_CmanAVY_wXg",
        "outputId": "34fc2d8b-b326-43a3-8bea-e29ef72e7165"
      },
      "execution_count": null,
      "outputs": [
        {
          "output_type": "stream",
          "name": "stdout",
          "text": [
            "3\n",
            "153\n",
            "Number is an Armstrong\n",
            "235\n",
            "It is not an Armstrong\n",
            "761\n",
            "It is not an Armstrong\n"
          ]
        }
      ]
    },
    {
      "cell_type": "code",
      "source": [
        "def arm_strong(number):\n",
        "  test_num = len(str(number))\n",
        "  sum = 0\n",
        "  temp = number\n",
        "\n",
        "  while temp>0:\n",
        "    digit = temp%10\n",
        "    sum+=digit**test_num\n",
        "    temp//=10\n",
        "\n",
        "  if number==sum:\n",
        "    return True\n",
        "  else:\n",
        "    return False\n",
        "\n",
        "T = int(input())\n",
        "\n",
        "for t in range(T):\n",
        "  test_case = int(input())\n",
        "  if arm_strong(test_case):\n",
        "    print(\"Armstrong\")\n",
        "  else:\n",
        "    print(\"Not a Armstrong\")"
      ],
      "metadata": {
        "colab": {
          "base_uri": "https://localhost:8080/"
        },
        "id": "Ng32Q7zBTPVJ",
        "outputId": "d2d3a61b-837f-40db-d3cd-410608af86e9"
      },
      "execution_count": null,
      "outputs": [
        {
          "output_type": "stream",
          "name": "stdout",
          "text": [
            "3\n",
            "153\n",
            "Armstrong\n",
            "145\n",
            "Not a Armstrong\n",
            "254\n",
            "Not a Armstrong\n"
          ]
        }
      ]
    },
    {
      "cell_type": "code",
      "source": [
        "def armstrong_sum(number):\n",
        "  num_digits = len(str(number))\n",
        "  sum = 0\n",
        "  temp = number\n",
        "  while temp>0:\n",
        "    digit = temp%10\n",
        "    sum+=digit**num_digits\n",
        "    temp//=10\n",
        "\n",
        "  if sum==number:\n",
        "    return True\n",
        "  else:\n",
        "    return False\n",
        "\n",
        "T = int(input())\n",
        "\n",
        "for t in range(T):\n",
        "  test_case = int(input())\n",
        "  if armstrong_sum(test_case):\n",
        "    print(\"It is an Armstrong number\")\n",
        "  else:\n",
        "    print(\"It is not an armstrong number\")\n",
        "\n"
      ],
      "metadata": {
        "colab": {
          "base_uri": "https://localhost:8080/"
        },
        "id": "dR1Zf9yZnn6v",
        "outputId": "8a50123a-7a3b-4a28-9f42-263959a77d2b"
      },
      "execution_count": 1,
      "outputs": [
        {
          "output_type": "stream",
          "name": "stdout",
          "text": [
            "3\n",
            "153\n",
            "It is an Armstrong number\n",
            "564\n",
            "It is not an armstrong number\n",
            "256\n",
            "It is not an armstrong number\n"
          ]
        }
      ]
    },
    {
      "cell_type": "code",
      "source": [
        "def is_armstrong(number):\n",
        "  num_digits = len(str(number))\n",
        "  sum = 0\n",
        "  temp = number\n",
        "\n",
        "  while temp>0:\n",
        "    digit = temp%10\n",
        "    sum += digit**num_digits\n",
        "    temp//=10\n",
        "\n",
        "  if sum==number:\n",
        "    return True\n",
        "  else:\n",
        "    return False\n",
        "\n",
        "T = int(input())\n",
        "\n",
        "for t in range(T):\n",
        "  test_sum = int(input())\n",
        "  if is_armstrong(test_sum):\n",
        "    print(\"It is an Armstrong number\")\n",
        "  else:\n",
        "    print(\"It is not an armstrong number\")"
      ],
      "metadata": {
        "colab": {
          "base_uri": "https://localhost:8080/"
        },
        "id": "vXTQUCNTvGBc",
        "outputId": "01088b16-7007-486e-e64f-6d4c88ff35f1"
      },
      "execution_count": null,
      "outputs": [
        {
          "output_type": "stream",
          "name": "stdout",
          "text": [
            "3\n",
            "153\n",
            "It is an Armstrong number\n",
            "225\n",
            "It is not an armstrong number\n",
            "235\n",
            "It is not an armstrong number\n"
          ]
        }
      ]
    },
    {
      "cell_type": "code",
      "source": [
        "def is_armstrong(number):\n",
        "  test_num = len(str(number))\n",
        "  sum = 0\n",
        "  temp = number\n",
        "\n",
        "  while temp>0:\n",
        "    digit = temp%10\n",
        "    sum += digit**test_num\n",
        "    temp//=10\n",
        "\n",
        "  if sum == number:\n",
        "    return True\n",
        "  else:\n",
        "    return False\n",
        "\n",
        "T =int(input())\n",
        "\n",
        "for t in range(T):\n",
        "  test_case = int(input())\n",
        "  if is_armstrong(test_case):\n",
        "    print(\"Armstrong\")\n",
        "  else:\n",
        "    print(\"Not an Armstrong\")"
      ],
      "metadata": {
        "colab": {
          "base_uri": "https://localhost:8080/"
        },
        "id": "VpSTmLd4xKLy",
        "outputId": "3d575168-dc1a-4434-faf7-676e8383785f"
      },
      "execution_count": null,
      "outputs": [
        {
          "output_type": "stream",
          "name": "stdout",
          "text": [
            "5\n",
            "153\n",
            "Armstrong\n",
            "456\n",
            "Not an Armstrong\n",
            "895\n",
            "Not an Armstrong\n",
            "125\n",
            "Not an Armstrong\n",
            "36\n",
            "Not an Armstrong\n"
          ]
        }
      ]
    },
    {
      "cell_type": "code",
      "source": [
        "def is_armstrong(number):\n",
        "  num_string = len(str(number))\n",
        "  sum = 0\n",
        "  temp = number\n",
        "\n",
        "  while temp>0:\n",
        "    digit = temp%10\n",
        "    sum += digit**num_string\n",
        "    temp//=10\n",
        "  if sum==number:\n",
        "    return True\n",
        "  else:\n",
        "    return False\n",
        "\n",
        "T= int(input(\"num of test cases\"))\n",
        "\n",
        "for t in range(T):\n",
        "  test_num = int(input())\n",
        "  if is_armstrong(test_num):\n",
        "    print(\"it is an armstrong number\")\n",
        "  else:\n",
        "    print(\"not an armstrong number\")"
      ],
      "metadata": {
        "colab": {
          "base_uri": "https://localhost:8080/"
        },
        "id": "1RXkfQGx5QwE",
        "outputId": "ec7d7f34-0d3b-4541-976b-9dcbf4354f3e"
      },
      "execution_count": null,
      "outputs": [
        {
          "output_type": "stream",
          "name": "stdout",
          "text": [
            "num of test cases3\n",
            "153\n",
            "it is an armstrong number\n",
            "156\n",
            "not an armstrong number\n",
            "256\n",
            "not an armstrong number\n"
          ]
        }
      ]
    },
    {
      "cell_type": "code",
      "source": [
        "def is_armstrong(number):\n",
        "  num_digits = len(str(number))\n",
        "  sum = 0\n",
        "  temp = number\n",
        "\n",
        "  while temp>0:\n",
        "    digit = temp%10\n",
        "    sum += digit**num_digits\n",
        "    temp//=10\n",
        "\n",
        "  if sum == number:\n",
        "    return True\n",
        "  else:\n",
        "    return False\n",
        "\n",
        "T = int(input())\n",
        "\n",
        "for t in range(T):\n",
        "  test_num = int(input())\n",
        "  if is_armstrong(test_num):\n",
        "    print(\"Armstrong\")\n",
        "  else:\n",
        "    print(\"Not an Armstrong\")"
      ],
      "metadata": {
        "colab": {
          "base_uri": "https://localhost:8080/"
        },
        "id": "kDNrvTL902Vy",
        "outputId": "d20261ae-7377-445d-bfc9-2e11a8c90e18"
      },
      "execution_count": null,
      "outputs": [
        {
          "output_type": "stream",
          "name": "stdout",
          "text": [
            "3\n",
            "153\n",
            "Armstrong\n",
            "523\n",
            "Not an Armstrong\n",
            "254\n",
            "Not an Armstrong\n"
          ]
        }
      ]
    },
    {
      "cell_type": "code",
      "source": [
        "def bubble_sort(arr):\n",
        "  n = len(arr)\n",
        "\n",
        "  for i in range(n):\n",
        "    for j in range(0,n-i-1):\n",
        "      if arr[j] > arr[j+1]:\n",
        "        arr[j],arr[j+1]=arr[j+1],arr[j]\n",
        "arr = list(eval(input()))\n",
        "bubble_sort(arr)\n",
        "\n",
        "for i in range(len(arr)):\n",
        "  print(\"sorted array is\",arr[i])"
      ],
      "metadata": {
        "colab": {
          "base_uri": "https://localhost:8080/"
        },
        "id": "4uG_2NbG1wpG",
        "outputId": "d16b97bb-5146-42a0-b5fe-da5620f94cae"
      },
      "execution_count": null,
      "outputs": [
        {
          "output_type": "stream",
          "name": "stdout",
          "text": [
            "[25,13,56,78,2]\n",
            "sorted array is 2\n",
            "sorted array is 13\n",
            "sorted array is 25\n",
            "sorted array is 56\n",
            "sorted array is 78\n"
          ]
        }
      ]
    },
    {
      "cell_type": "code",
      "source": [
        "def bubble_sort(arr):\n",
        "  n = len(arr)\n",
        "\n",
        "  for i in range(n):\n",
        "    for j in range(0,n-i-1):\n",
        "      if arr[j]>arr[j+1]:\n",
        "        arr[j],arr[j+1]=arr[j+1],arr[j]\n",
        "\n",
        "arr = list(eval(input()))\n",
        "bubble_sort(arr)\n",
        "\n",
        "for i in range(len(arr)):\n",
        "  print(\"sorted array is\", arr[i])"
      ],
      "metadata": {
        "colab": {
          "base_uri": "https://localhost:8080/"
        },
        "id": "wVTGqmr4qgAR",
        "outputId": "83e6355e-4141-49fb-ff0d-d9d3637a74bd"
      },
      "execution_count": 3,
      "outputs": [
        {
          "output_type": "stream",
          "name": "stdout",
          "text": [
            "[25,13,56,78,2]\n",
            "sorted array is 2\n",
            "sorted array is 13\n",
            "sorted array is 25\n",
            "sorted array is 56\n",
            "sorted array is 78\n"
          ]
        }
      ]
    },
    {
      "cell_type": "code",
      "source": [
        "def bubble_sort(arr):\n",
        "  n = len(arr)\n",
        "\n",
        "  for i in range(n):\n",
        "    for j in range(0,n-i-1):\n",
        "      if arr[j]>arr[j+1]:\n",
        "        arr[j],arr[j+1]=arr[j+1],arr[j]\n",
        "\n",
        "arr = eval(input())\n",
        "bubble_sort(arr)\n",
        "\n",
        "for i in range(len(arr)):\n",
        "  print(\"sorgted array\",arr[i])"
      ],
      "metadata": {
        "colab": {
          "base_uri": "https://localhost:8080/"
        },
        "id": "XsCzoFej_NbI",
        "outputId": "6158e9e5-fb04-4159-a32d-162209e98f34"
      },
      "execution_count": null,
      "outputs": [
        {
          "output_type": "stream",
          "name": "stdout",
          "text": [
            "[25,13,56,78,2]\n",
            "sorgted array 2\n",
            "sorgted array 13\n",
            "sorgted array 25\n",
            "sorgted array 56\n",
            "sorgted array 78\n"
          ]
        }
      ]
    },
    {
      "cell_type": "code",
      "source": [
        "def bubble_sort(arr):\n",
        "  n = len(arr)\n",
        "\n",
        "  for i in range(n):\n",
        "    for j in range(0,n-i-1):\n",
        "      if arr[j]>arr[j+1]:\n",
        "        arr[j],arr[j+1]=arr[j+1],arr[j]\n",
        "\n",
        "arr = eval(input())\n",
        "bubble_sort(arr)\n",
        "\n",
        "for i in range(len(arr)):\n",
        "  print(\"sorted array\",arr[i])"
      ],
      "metadata": {
        "colab": {
          "base_uri": "https://localhost:8080/"
        },
        "id": "aymZT_A5x5Bo",
        "outputId": "bd152a6f-a6cb-49ba-a2f1-bd5ee11a5e09"
      },
      "execution_count": null,
      "outputs": [
        {
          "output_type": "stream",
          "name": "stdout",
          "text": [
            "[25,13,56,78,2]\n",
            "None\n",
            "sorted array 2\n",
            "sorted array 13\n",
            "sorted array 25\n",
            "sorted array 56\n",
            "sorted array 78\n"
          ]
        }
      ]
    },
    {
      "cell_type": "code",
      "source": [
        "def bubble_sort(arr):\n",
        "  n = len(arr)\n",
        "\n",
        "  for i in range(n):\n",
        "    for j in range(0,n-i-1):\n",
        "      if arr[j]>arr[j+1]:\n",
        "        arr[j],arr[j+1]=arr[j+1],arr[j]\n",
        "\n",
        "arr= eval(input())\n",
        "bubble_sort(arr)\n",
        "\n",
        "for i in range(len(arr)):\n",
        "  print(\"sorted array is:\",arr[i])"
      ],
      "metadata": {
        "colab": {
          "base_uri": "https://localhost:8080/"
        },
        "id": "-8KQVNCgUT6N",
        "outputId": "5ad9388c-9341-42c9-e2c5-0c3d57974fc3"
      },
      "execution_count": null,
      "outputs": [
        {
          "output_type": "stream",
          "name": "stdout",
          "text": [
            "[25,13,56,78,2]\n",
            "sorted array is: 2\n",
            "sorted array is: 13\n",
            "sorted array is: 25\n",
            "sorted array is: 56\n",
            "sorted array is: 78\n"
          ]
        }
      ]
    },
    {
      "cell_type": "code",
      "source": [
        "def bubble_sort(arr):\n",
        "  n = len(arr)\n",
        "\n",
        "  for i in range(n):\n",
        "    for j in range(0,n-i-1):\n",
        "      if arr[j]>arr[j+1]:\n",
        "        arr[j],arr[j+1]=arr[j+1],arr[j]\n",
        "\n",
        "arr = eval(input())\n",
        "bubble_sort(arr)\n",
        "\n",
        "for i in range(len(arr)):\n",
        "  print(\"sorted array is\",arr[i])"
      ],
      "metadata": {
        "colab": {
          "base_uri": "https://localhost:8080/"
        },
        "id": "oDS7749LH8j5",
        "outputId": "5a925d1e-5028-4694-f274-79dcc50a4394"
      },
      "execution_count": null,
      "outputs": [
        {
          "output_type": "stream",
          "name": "stdout",
          "text": [
            "[25,13,56,78,2]\n",
            "sorted array is 2\n",
            "sorted array is 13\n",
            "sorted array is 25\n",
            "sorted array is 56\n",
            "sorted array is 78\n"
          ]
        }
      ]
    },
    {
      "cell_type": "code",
      "source": [
        "def merge_sort(arr):\n",
        "  if len(arr)<=1:\n",
        "    return arr\n",
        "\n",
        "  mid = len(arr)//2\n",
        "  left = arr[:mid]\n",
        "  right = arr[mid:]\n",
        "\n",
        "  left = merge_sort(left)\n",
        "  right = merge_sort(right)\n",
        "\n",
        "  i=j=0\n",
        "  merged_arr = []\n",
        "  while i < len(left) and j < len(right):\n",
        "    if left[i]<right[j]:\n",
        "      merged_arr.append(left[i])\n",
        "      i+=1\n",
        "    else:\n",
        "      merged_arr.append(right[j])\n",
        "      j+=1\n",
        "  merged_arr+=left[i:]\n",
        "  merged_arr+=right[j:]\n",
        "  return merged_arr\n",
        "\n",
        "arr = [25,13,56,78,2]\n",
        "merge_sort(arr)"
      ],
      "metadata": {
        "colab": {
          "base_uri": "https://localhost:8080/"
        },
        "id": "f1szMbAtU3ao",
        "outputId": "813f3106-e2a7-4026-bccb-35c710449026"
      },
      "execution_count": null,
      "outputs": [
        {
          "output_type": "execute_result",
          "data": {
            "text/plain": [
              "[2, 13, 25, 56, 78]"
            ]
          },
          "metadata": {},
          "execution_count": 5
        }
      ]
    },
    {
      "cell_type": "code",
      "source": [
        "def merge_sort(arr):\n",
        "  if len(arr)<=1:\n",
        "    return arr\n",
        "\n",
        "  mid = len(arr)//2\n",
        "  left = arr[:mid]\n",
        "  right = arr[mid:]\n",
        "\n",
        "  left = merge_sort(left)\n",
        "  right = merge_sort(right)\n",
        "\n",
        "  i=j=0\n",
        "  merged_arr=[]\n",
        "\n",
        "  while i <len(left) and j<len(right):\n",
        "    if left[i]<right[j]:\n",
        "      merged_arr.append(left[i])\n",
        "      i+=1\n",
        "    else:\n",
        "      merged_arr.append(right[j])\n",
        "      j+=1\n",
        "  merged_arr+=left[i:]\n",
        "  merged_arr+=right[j:]\n",
        "  return merged_arr\n",
        "\n",
        "arr = [25,13,56,78,2]\n",
        "merge_sort(arr)"
      ],
      "metadata": {
        "colab": {
          "base_uri": "https://localhost:8080/"
        },
        "id": "5WVvNPlYJTiR",
        "outputId": "720b6cee-0199-4e5b-a2f4-c45c40ad0b70"
      },
      "execution_count": null,
      "outputs": [
        {
          "output_type": "execute_result",
          "data": {
            "text/plain": [
              "[2, 13, 25, 56, 78]"
            ]
          },
          "metadata": {},
          "execution_count": 4
        }
      ]
    },
    {
      "cell_type": "code",
      "source": [
        "def merge_sort(arr):\n",
        "  if len(arr)<=1:\n",
        "    return arr\n",
        "\n",
        "  mid = len(arr)//2\n",
        "  left = arr[:mid]\n",
        "  right = arr[mid:]\n",
        "\n",
        "  left = merge_sort(left)\n",
        "  right = merge_sort(right)\n",
        "\n",
        "  i=j=0\n",
        "  merged_arr = []\n",
        "\n",
        "\n",
        "  while i<len(left) and j<len(right):\n",
        "    if left[i] <right[j]\n",
        "      merged_arr.append(left[i])\n",
        "      i+=1\n",
        "    else:\n",
        "      merged_arr.append(right[j])\n",
        "      j+=1\n",
        "\n",
        "  merged_arr+=left[i:]\n",
        "  merged_arr+=right[j:]\n",
        "  return merged_arr\n",
        "\n",
        "arr = [25,13,56,78,2]\n",
        "merge_sort(arr)"
      ],
      "metadata": {
        "id": "tpw0ZUc3ypa_"
      },
      "execution_count": null,
      "outputs": []
    },
    {
      "cell_type": "code",
      "source": [
        "def merge_sort(arr):\n",
        "  if len(arr)<=1:\n",
        "    return arr\n",
        "\n",
        "  mid = len(arr)//2\n",
        "  left = arr[:mid]\n",
        "  right = arr[mid:]\n",
        "\n",
        "  left =merge_sort(left)\n",
        "  right = merge_sort(right)\n",
        "\n",
        "  i=j=0\n",
        "  merged_arr = []\n",
        "\n",
        "  while i<len(left) and j<len(right):\n",
        "    if left[i]<right[j]:\n",
        "      merged_arr.append(left[i])\n",
        "      i+=1\n",
        "    else:\n",
        "      merged_arr.append(right[j])\n",
        "      j+=1\n",
        "  merged_arr+=left[i:]\n",
        "  merged_arr+=right[j:]\n",
        "  return merged_arr\n",
        "\n",
        "arr = [2,12,1,56,89]\n",
        "merge_sort(arr)"
      ],
      "metadata": {
        "colab": {
          "base_uri": "https://localhost:8080/"
        },
        "id": "gyhZHILd2Vkz",
        "outputId": "654bfc15-3a3b-432c-a151-8edf5276b2e0"
      },
      "execution_count": null,
      "outputs": [
        {
          "output_type": "execute_result",
          "data": {
            "text/plain": [
              "[1, 2, 12, 56, 89]"
            ]
          },
          "metadata": {},
          "execution_count": 20
        }
      ]
    },
    {
      "cell_type": "code",
      "source": [
        "def is_armstrong(number):\n",
        "  num = len(str(number))\n",
        "  sum = 0\n",
        "  temp = number\n",
        "  while temp>0:\n",
        "    digit = temp%10\n",
        "    sum += digit ** num\n",
        "    temp//=10\n",
        "\n",
        "  if sum==number:\n",
        "    return True\n",
        "  else:\n",
        "    return False\n",
        "\n",
        "T = int(input(\"enter the test cases\"))\n",
        "\n",
        "for t in range(T):\n",
        "  test_num = int(input())\n",
        "  if is_armstrong(test_num):\n",
        "    print(\"It is a Armstrong Number\")\n",
        "  else:\n",
        "    print(\"it is not an armstrong number\")"
      ],
      "metadata": {
        "colab": {
          "base_uri": "https://localhost:8080/"
        },
        "id": "QdI2Dz-yJCi2",
        "outputId": "67ee42e4-949d-4da9-a8b6-13e5e2491de6"
      },
      "execution_count": null,
      "outputs": [
        {
          "output_type": "stream",
          "name": "stdout",
          "text": [
            "enter the test cases3\n",
            "153\n",
            "It is a Armstrong Number\n",
            "756\n",
            "it is not an armstrong number\n",
            "225\n",
            "it is not an armstrong number\n"
          ]
        }
      ]
    },
    {
      "cell_type": "code",
      "source": [
        "def harmonic_sum(n):\n",
        "  if n<=2:\n",
        "    return 1\n",
        "  else:\n",
        "    return 1 / n + harmonic_sum(n-1)\n",
        "\n",
        "harmonic_sum(7)"
      ],
      "metadata": {
        "colab": {
          "base_uri": "https://localhost:8080/"
        },
        "id": "DCJpLnhMWKTa",
        "outputId": "49771c51-ff1d-4bc7-adf4-07121d1728a8"
      },
      "execution_count": null,
      "outputs": [
        {
          "output_type": "execute_result",
          "data": {
            "text/plain": [
              "2.092857142857143"
            ]
          },
          "metadata": {},
          "execution_count": 7
        }
      ]
    },
    {
      "cell_type": "code",
      "source": [
        "def harmonic_sum(n):\n",
        "  if n<=2:\n",
        "    return 1\n",
        "  else:\n",
        "    return 1 / n + harmonic_sum(n-1)\n",
        "\n",
        "harmonic_sum(7)"
      ],
      "metadata": {
        "colab": {
          "base_uri": "https://localhost:8080/"
        },
        "id": "x4hIqnDeALwt",
        "outputId": "b8cd3c51-07b1-4a03-d84f-0f7367985948"
      },
      "execution_count": null,
      "outputs": [
        {
          "output_type": "execute_result",
          "data": {
            "text/plain": [
              "2.092857142857143"
            ]
          },
          "metadata": {},
          "execution_count": 4
        }
      ]
    },
    {
      "cell_type": "code",
      "source": [
        "def linear_search(data,target):\n",
        "  for i in range(len(data)):\n",
        "    if data[i]==target:\n",
        "      return i\n",
        "  return -1\n",
        "\n",
        "data = [25,13,56,78,2]\n",
        "target = 25\n",
        "index = linear_search(data,target)\n",
        "\n",
        "if index!=-1:\n",
        "  print(f\"Target is {target} found at index {index}\")\n",
        "else:\n",
        "  print(f\"Target not found\")"
      ],
      "metadata": {
        "colab": {
          "base_uri": "https://localhost:8080/"
        },
        "id": "Fy1QYzC5K4CV",
        "outputId": "f533be13-bac3-449b-edf3-52ec57df68f4"
      },
      "execution_count": null,
      "outputs": [
        {
          "output_type": "stream",
          "name": "stdout",
          "text": [
            "Target is 25 found at index 0\n"
          ]
        }
      ]
    },
    {
      "cell_type": "code",
      "source": [
        "def linear_search(data,target):\n",
        "  for i in range(len(data)):\n",
        "    if data[i]==target:\n",
        "      return i\n",
        "  return -1\n",
        "\n",
        "data = [25,13,56,78,2]\n",
        "target = 25\n",
        "index = linear_search(data,target)\n",
        "\n",
        "if index!=-1:\n",
        "  print(f\"Target is {target} found at index {index}\")\n",
        "else:\n",
        "  print(\"target not found\")\n"
      ],
      "metadata": {
        "colab": {
          "base_uri": "https://localhost:8080/"
        },
        "id": "4F8rvezTAV_N",
        "outputId": "76525460-9ff0-43c3-ef73-96b43ebfe156"
      },
      "execution_count": null,
      "outputs": [
        {
          "output_type": "stream",
          "name": "stdout",
          "text": [
            "Target is 25 found at index 0\n"
          ]
        }
      ]
    },
    {
      "cell_type": "code",
      "source": [
        "def linear_search(data,target):\n",
        "  if len(data)<1:\n",
        "    return data\n",
        "  for i in range(len(data)):\n",
        "    if data[i]==target:\n",
        "      return i\n",
        "  return-1\n",
        "\n",
        "data = [12,66,23,78,6]\n",
        "target = 66\n",
        "index = linear_search(data,target)\n",
        "\n",
        "if index!=-1:\n",
        "  print(f\"Target {target} value found at index {index}\")\n",
        "else:\n",
        "  print(f\"Traget value not found\")"
      ],
      "metadata": {
        "colab": {
          "base_uri": "https://localhost:8080/"
        },
        "id": "RUAhz4KVTCGv",
        "outputId": "73d6fcfd-d2e1-4ee6-b07b-93296d87c6bb"
      },
      "execution_count": null,
      "outputs": [
        {
          "output_type": "stream",
          "name": "stdout",
          "text": [
            "Target 66 value found at index 1\n"
          ]
        }
      ]
    },
    {
      "cell_type": "code",
      "source": [
        "def linear_search(data,target):\n",
        "  if len(data)<1:\n",
        "    return data\n",
        "  elif data[i]==target:\n",
        "    return i\n",
        "  return -1\n",
        "\n",
        "data = [12,66,23,78,6]\n",
        "target = 12\n",
        "index = linear_search(data,target)\n",
        "\n",
        "if index!=-1:\n",
        "  print(f\"Target {target} value found at index {index}\")\n",
        "else:\n",
        "  print(f\"Traget value not found\")"
      ],
      "metadata": {
        "colab": {
          "base_uri": "https://localhost:8080/"
        },
        "id": "bYllqb93W7WP",
        "outputId": "e58877d8-191d-4f7a-ebb6-f019c1465500"
      },
      "execution_count": null,
      "outputs": [
        {
          "output_type": "stream",
          "name": "stdout",
          "text": [
            "Traget value not found\n"
          ]
        }
      ]
    },
    {
      "cell_type": "code",
      "source": [
        "def linear_search(data,target):\n",
        "  for i in range(len(data)):\n",
        "    if data[i]==target:\n",
        "      return i\n",
        "  return-1\n",
        "\n",
        "data = [12,66,23,78,6]\n",
        "target = 66\n",
        "index = linear_search(data,target)\n",
        "\n",
        "if index!=-1:\n",
        "  print(f\"Target {target} value found at index {index}\")\n",
        "else:\n",
        "  print(f\"Traget value not found\")\n"
      ],
      "metadata": {
        "colab": {
          "base_uri": "https://localhost:8080/"
        },
        "id": "_zWnF0dCYVKE",
        "outputId": "9093e6b6-54ec-43ec-bd6d-51e087a56e8e"
      },
      "execution_count": null,
      "outputs": [
        {
          "output_type": "stream",
          "name": "stdout",
          "text": [
            "Target 66 value found at index 1\n"
          ]
        }
      ]
    },
    {
      "cell_type": "code",
      "execution_count": null,
      "metadata": {
        "colab": {
          "base_uri": "https://localhost:8080/"
        },
        "id": "q8t0i9qONqvQ",
        "outputId": "dc4c0afd-8d93-43fb-d718-2a67b1132ded"
      },
      "outputs": [
        {
          "name": "stdout",
          "output_type": "stream",
          "text": [
            "153\n",
            "Arm\n"
          ]
        }
      ],
      "source": [
        "i = 0\n",
        "result=0\n",
        "n=int(input())\n",
        "number1 = n\n",
        "temp = n\n",
        "\n",
        "while n !=0:\n",
        "  n = (n//10)\n",
        "  i = i+1\n",
        "while number1!=0:\n",
        "  n = (number1%10)\n",
        "  result = result + pow(n,i)\n",
        "  number1 = number1//10\n",
        "\n",
        "if temp==result:\n",
        "  print(\"Arm\")\n",
        "else:\n",
        "  print(\"Not\")"
      ]
    },
    {
      "cell_type": "code",
      "execution_count": null,
      "metadata": {
        "colab": {
          "base_uri": "https://localhost:8080/"
        },
        "id": "BNY2jVGtjBdS",
        "outputId": "4025fc9c-3f1b-46b6-d1fd-baaf4f1c4a4f"
      },
      "outputs": [
        {
          "name": "stdout",
          "output_type": "stream",
          "text": [
            "156\n",
            "B\n"
          ]
        }
      ],
      "source": [
        "i = 0\n",
        "result = 0\n",
        "n = int(input())\n",
        "number1 = n\n",
        "temp = n\n",
        "while n!=0:\n",
        "  n = n//10\n",
        "  i=i+1\n",
        "while number1!=0:\n",
        "  n=number1%10\n",
        "  result = result + pow(n,i)\n",
        "  number1 = number1//10\n",
        "if result==temp:\n",
        "  print(\"A\")\n",
        "else:\n",
        "  print(\"B\")"
      ]
    },
    {
      "cell_type": "code",
      "execution_count": null,
      "metadata": {
        "colab": {
          "base_uri": "https://localhost:8080/"
        },
        "id": "7OgX6cI5isbC",
        "outputId": "659fa777-f335-4a0e-85da-ecff46c977f2"
      },
      "outputs": [
        {
          "data": {
            "text/plain": [
              "1"
            ]
          },
          "execution_count": 19,
          "metadata": {},
          "output_type": "execute_result"
        }
      ],
      "source": [
        "a = (1%10)\n",
        "a\n"
      ]
    },
    {
      "cell_type": "code",
      "execution_count": null,
      "metadata": {
        "colab": {
          "base_uri": "https://localhost:8080/"
        },
        "id": "fX6ITwT_huVg",
        "outputId": "64f74a92-e6b4-4a48-ff18-035c424644af"
      },
      "outputs": [
        {
          "name": "stdout",
          "output_type": "stream",
          "text": [
            "Enter a number: 153\n",
            "153 is an Armstrong number\n"
          ]
        }
      ],
      "source": [
        "\n",
        "\n",
        "# Python program to check if the number is an Armstrong number or not\n",
        "num = int(input(\"Enter a number: \"))  # Take input from the user\n",
        "\n",
        "# Initialize the sum\n",
        "sum = 0\n",
        "\n",
        "# Find the sum of the cube of each digit\n",
        "temp = num\n",
        "while temp > 0:\n",
        "    digit = temp % 10\n",
        "    sum += digit ** 3\n",
        "    temp //= 10\n",
        "\n",
        "# Display the result\n",
        "if num == sum:\n",
        "    print(f\"{num} is an Armstrong number\")\n",
        "else:\n",
        "    print(f\"{num} is not an Armstrong number\")\n"
      ]
    },
    {
      "cell_type": "code",
      "source": [
        "def count_letters(word):\n",
        "\n",
        "    letter_count = {}\n",
        "    for letter in word:\n",
        "        if letter.isalpha():\n",
        "            letter = letter.lower()\n",
        "            letter_count[letter] = letter_count.get(letter, 0) + 1\n",
        "    return letter_count\n",
        "\n",
        "# Try out here\n",
        "word = \"Custom Function\"\n",
        "result = count_letters(word)\n",
        "print(result)"
      ],
      "metadata": {
        "colab": {
          "base_uri": "https://localhost:8080/"
        },
        "id": "mIE80iBz1E38",
        "outputId": "9c653bc1-5020-4452-cb4f-e49a25fae534"
      },
      "execution_count": null,
      "outputs": [
        {
          "output_type": "stream",
          "name": "stdout",
          "text": [
            "{'c': 2, 'u': 2, 's': 1, 't': 2, 'o': 2, 'm': 1, 'f': 1, 'n': 2, 'i': 1}\n"
          ]
        }
      ]
    },
    {
      "cell_type": "code",
      "source": [
        "def count_letters(word):\n",
        "  letter_count = {}\n",
        "  for letter in word:\n",
        "    if letter.isalpha():\n",
        "      letter = letter.lower()\n",
        "      letter_count[letter] = letter_count.get(letter,0) + 1\n",
        "  return letter_count\n",
        "\n",
        "\n",
        "word = 'Programming Language'\n",
        "print(count_letters(word))"
      ],
      "metadata": {
        "colab": {
          "base_uri": "https://localhost:8080/"
        },
        "id": "iK0etqYBA-jD",
        "outputId": "a910f9cf-9669-4624-cee7-bce09dd15966"
      },
      "execution_count": null,
      "outputs": [
        {
          "output_type": "stream",
          "name": "stdout",
          "text": [
            "{'p': 1, 'r': 2, 'o': 1, 'g': 4, 'a': 3, 'm': 2, 'i': 1, 'n': 2, 'l': 1, 'u': 1, 'e': 1}\n"
          ]
        }
      ]
    },
    {
      "cell_type": "code",
      "source": [
        "def count_letters(word):\n",
        "  letter_count = {}\n",
        "  for letter in word:\n",
        "    if letter.isalpha():\n",
        "      letter = letter.lower()\n",
        "      letter_count[letter]=letter_count.get(letter,0)+1\n",
        "  return letter_count"
      ],
      "metadata": {
        "id": "6XofiJuwM39s"
      },
      "execution_count": null,
      "outputs": []
    },
    {
      "cell_type": "code",
      "source": [
        "def count_letters(word):\n",
        "  letter_count = {}\n",
        "  for letter in word:\n",
        "    if letter.isalpha():\n",
        "      letter = letter.lower()\n",
        "      letter_count[letter]=letter_count.get(letter,0)+1\n",
        "  return letter_count\n",
        "\n",
        "\n",
        "word = 'Custom Functions'\n",
        "result = count_letters(word)\n",
        "result"
      ],
      "metadata": {
        "colab": {
          "base_uri": "https://localhost:8080/"
        },
        "id": "JySYt60j6mBV",
        "outputId": "306be00d-311b-4ec1-f5ca-bc6f29d6220c"
      },
      "execution_count": null,
      "outputs": [
        {
          "output_type": "execute_result",
          "data": {
            "text/plain": [
              "{'c': 2, 'u': 2, 's': 2, 't': 2, 'o': 2, 'm': 1, 'f': 1, 'n': 2, 'i': 1}"
            ]
          },
          "metadata": {},
          "execution_count": 4
        }
      ]
    },
    {
      "cell_type": "code",
      "source": [
        "def count_letters(word):\n",
        "  letter_count = {}\n",
        "\n",
        "  for letter in word:\n",
        "    if letter.isalpha():\n",
        "      letter = letter.lower()\n",
        "      letter_count[letter] = letter_count.get(letter,0)+1\n",
        "  return letter_count\n",
        "\n",
        "\n",
        "word = 'Ramachari'\n",
        "result  = count_letters(word)\n",
        "result"
      ],
      "metadata": {
        "colab": {
          "base_uri": "https://localhost:8080/"
        },
        "id": "lICKENUZwXQU",
        "outputId": "4cf8018c-063c-419b-9a67-071d4446e05c"
      },
      "execution_count": null,
      "outputs": [
        {
          "output_type": "execute_result",
          "data": {
            "text/plain": [
              "{'r': 2, 'a': 3, 'm': 1, 'c': 1, 'h': 1, 'i': 1}"
            ]
          },
          "metadata": {},
          "execution_count": 6
        }
      ]
    },
    {
      "cell_type": "code",
      "source": [
        "word = input()\n",
        "letter_count = {}\n",
        "\n",
        "for letter in word:\n",
        "  if letter.isalpha():\n",
        "    letter = letter.lower()\n",
        "    letter_count[letter] = letter_count.get(letter,0)+1\n",
        "print(letter_count)\n",
        "\n",
        "\n",
        "\n",
        "\n"
      ],
      "metadata": {
        "colab": {
          "base_uri": "https://localhost:8080/"
        },
        "id": "kbyKNKz7RUXK",
        "outputId": "be6180be-d88c-4a0c-dc61-12a376524aa9"
      },
      "execution_count": null,
      "outputs": [
        {
          "output_type": "stream",
          "name": "stdout",
          "text": [
            "custom functions\n",
            "{'c': 2, 'u': 2, 's': 2, 't': 2, 'o': 2, 'm': 1, 'f': 1, 'n': 2, 'i': 1}\n"
          ]
        }
      ]
    },
    {
      "cell_type": "code",
      "source": [
        "string = input()\n",
        "\n",
        "char_count = {}\n",
        "\n",
        "for char in string:\n",
        "  if char in char_count:\n",
        "    char_count[char]+=1\n",
        "  else:\n",
        "    char_count[char]=1\n",
        "print(char_count)"
      ],
      "metadata": {
        "colab": {
          "base_uri": "https://localhost:8080/"
        },
        "id": "CyTpNrioSiDb",
        "outputId": "371808c1-419b-4466-94d0-359b4af3d28a"
      },
      "execution_count": null,
      "outputs": [
        {
          "output_type": "stream",
          "name": "stdout",
          "text": [
            "custom functions\n",
            "{'c': 2, 'u': 2, 's': 2, 't': 2, 'o': 2, 'm': 1, ' ': 1, 'f': 1, 'n': 2, 'i': 1}\n"
          ]
        }
      ]
    },
    {
      "cell_type": "code",
      "source": [
        "string = input()\n",
        "\n",
        "char_count = {}\n",
        "\n",
        "for char in string:\n",
        "  if char in char_count:\n",
        "    char_count[char]+=1\n",
        "  else:\n",
        "    char_count[char]==1\n",
        "print(char_count)"
      ],
      "metadata": {
        "id": "zkrCSz_Oz1j_"
      },
      "execution_count": null,
      "outputs": []
    },
    {
      "cell_type": "code",
      "source": [
        "names = ['Alice', 'Bob', 'Charlie']\n",
        "scores = [85, 92, 78]\n",
        "for name, score in zip(names, scores):\n",
        "    print(f\"{name}: {score}\")"
      ],
      "metadata": {
        "colab": {
          "base_uri": "https://localhost:8080/"
        },
        "id": "qzG7-8uv1E2H",
        "outputId": "00e72b78-6a33-42f8-e700-ae505e85d2ea"
      },
      "execution_count": null,
      "outputs": [
        {
          "output_type": "stream",
          "name": "stdout",
          "text": [
            "Alice: 85\n",
            "Bob: 92\n",
            "Charlie: 78\n"
          ]
        }
      ]
    },
    {
      "cell_type": "code",
      "execution_count": null,
      "metadata": {
        "colab": {
          "base_uri": "https://localhost:8080/"
        },
        "id": "0wvsNZP-fejd",
        "outputId": "1267ad97-791c-43af-8330-23e7360e2e58"
      },
      "outputs": [
        {
          "data": {
            "text/plain": [
              "0"
            ]
          },
          "execution_count": 5,
          "metadata": {},
          "output_type": "execute_result"
        }
      ],
      "source": [
        "A= pow(0,1)\n",
        "A"
      ]
    },
    {
      "cell_type": "code",
      "execution_count": null,
      "metadata": {
        "colab": {
          "base_uri": "https://localhost:8080/"
        },
        "id": "gH4X4yWRKeJ1",
        "outputId": "8ce32ca9-45a1-47de-8acb-28c7d772a713"
      },
      "outputs": [
        {
          "name": "stdout",
          "output_type": "stream",
          "text": [
            "153\n",
            "Num is Armstrong\n"
          ]
        }
      ],
      "source": [
        "i=0\n",
        "result=0\n",
        "n =int(input())\n",
        "number1=n\n",
        "temp=n\n",
        "while n!=0:\n",
        "  n = (n//10)\n",
        "  i = i + 1\n",
        "while number1 !=0:\n",
        "  n=(number1%10)\n",
        "  result = result + pow(n,i)\n",
        "  number1 = number1//10\n",
        "if temp == result:\n",
        "  print(\"Num is Armstrong\")\n",
        "else:\n",
        "  print(\"Num is not Armstrong\")"
      ]
    },
    {
      "cell_type": "markdown",
      "metadata": {
        "id": "d0MNMoBEjCvD"
      },
      "source": [
        "Pattern"
      ]
    },
    {
      "cell_type": "code",
      "execution_count": null,
      "metadata": {
        "colab": {
          "base_uri": "https://localhost:8080/"
        },
        "id": "y23vm82wjCVL",
        "outputId": "c1d6b3a4-feff-4b35-eec0-6d85cd8eada4"
      },
      "outputs": [
        {
          "name": "stdout",
          "output_type": "stream",
          "text": [
            "5\n",
            "*\n",
            "**\n",
            "***\n",
            "****\n",
            "*****\n"
          ]
        }
      ],
      "source": [
        "n = int(input())\n",
        "\n",
        "for i in range(1,n+1):\n",
        "  for j in range(1,i+1):\n",
        "    print(\"*\", end = \"\")\n",
        "  print()"
      ]
    },
    {
      "cell_type": "code",
      "source": [
        "n = int(input())\n",
        "\n",
        "for i in range(0,n+1):\n",
        "  for j in range(1,i+1):\n",
        "    print(\"*\",end=\"\")\n",
        "  print()"
      ],
      "metadata": {
        "colab": {
          "base_uri": "https://localhost:8080/"
        },
        "id": "lI8cpm0eB6DY",
        "outputId": "c84f7ca1-6253-4b0d-f2ed-26101a2be5c1"
      },
      "execution_count": null,
      "outputs": [
        {
          "output_type": "stream",
          "name": "stdout",
          "text": [
            "5\n",
            "\n",
            "*\n",
            "**\n",
            "***\n",
            "****\n",
            "*****\n"
          ]
        }
      ]
    },
    {
      "cell_type": "code",
      "source": [
        "n = int(input())\n",
        "\n",
        "for i in range(0,n+1):\n",
        "  for j in range(1,i+1):\n",
        "    print(\"*\",end=\"\")\n",
        "  print()"
      ],
      "metadata": {
        "colab": {
          "base_uri": "https://localhost:8080/"
        },
        "id": "y-S_RerD7Taf",
        "outputId": "523ff0f8-b075-4827-d9c3-acd09abc1f48"
      },
      "execution_count": null,
      "outputs": [
        {
          "output_type": "stream",
          "name": "stdout",
          "text": [
            "6\n",
            "\n",
            "*\n",
            "**\n",
            "***\n",
            "****\n",
            "*****\n",
            "******\n"
          ]
        }
      ]
    },
    {
      "cell_type": "code",
      "source": [
        "n = int(input())\n",
        "\n",
        "for i in range(0,n+1):\n",
        "  for j in range(1,i+1):\n",
        "    print(\"*\",end=\"\")\n",
        "  print()"
      ],
      "metadata": {
        "colab": {
          "base_uri": "https://localhost:8080/"
        },
        "id": "ciX6xbTrxWcM",
        "outputId": "c6e99382-ee0f-4aaf-e35d-0e364a0678c4"
      },
      "execution_count": null,
      "outputs": [
        {
          "output_type": "stream",
          "name": "stdout",
          "text": [
            "5\n",
            "\n",
            "*\n",
            "**\n",
            "***\n",
            "****\n",
            "*****\n"
          ]
        }
      ]
    },
    {
      "cell_type": "code",
      "source": [
        "n  = int(input())\n",
        "\n",
        "for i in range(1,n+1):\n",
        "  for j in range(1,i+1):\n",
        "    print(\"*\",end=\"\")\n",
        "  print()"
      ],
      "metadata": {
        "colab": {
          "base_uri": "https://localhost:8080/"
        },
        "id": "528YMQXdP2RP",
        "outputId": "28262885-10fd-4de6-d0da-17a81cfbb139"
      },
      "execution_count": null,
      "outputs": [
        {
          "output_type": "stream",
          "name": "stdout",
          "text": [
            "5\n",
            "*\n",
            "**\n",
            "***\n",
            "****\n",
            "*****\n"
          ]
        }
      ]
    },
    {
      "cell_type": "code",
      "execution_count": null,
      "metadata": {
        "colab": {
          "base_uri": "https://localhost:8080/"
        },
        "id": "mRWudCpLY8d0",
        "outputId": "4cede024-eeec-4885-f7ef-9ba720957ab7"
      },
      "outputs": [
        {
          "output_type": "stream",
          "name": "stdout",
          "text": [
            "5\n",
            "*\n",
            "**\n",
            "***\n",
            "****\n",
            "*****\n",
            "    *\n",
            "   **\n",
            "  ***\n",
            " ****\n",
            "*****\n"
          ]
        }
      ],
      "source": [
        "n = int(input())\n",
        "\n",
        "for i in range(1,n+1):\n",
        "  for j in range(1,i+1):\n",
        "    print(\"*\",end=\"\")\n",
        "  print()\n",
        "\n",
        "size = 5\n",
        "for i in range(size):\n",
        "  for j in range(1,size-i):\n",
        "    print(\" \",end=\"\")\n",
        "  for k in range(0,i+1):\n",
        "    print(\"*\",end=\"\")\n",
        "  print()"
      ]
    },
    {
      "cell_type": "code",
      "source": [
        "size = 5\n",
        "\n",
        "for i in range(size):\n",
        "  for j in range(1,size-i):\n",
        "    print(\" \",end=\"\")\n",
        "  for k in range(0,i+1):\n",
        "    print(\"*\",end=\"\")\n",
        "  print()"
      ],
      "metadata": {
        "colab": {
          "base_uri": "https://localhost:8080/"
        },
        "id": "co02oweyCbiH",
        "outputId": "70e5b22c-c626-4fbf-9c3a-d6a2a65c194a"
      },
      "execution_count": null,
      "outputs": [
        {
          "output_type": "stream",
          "name": "stdout",
          "text": [
            "    *\n",
            "   **\n",
            "  ***\n",
            " ****\n",
            "*****\n"
          ]
        }
      ]
    },
    {
      "cell_type": "code",
      "source": [
        "size = 5\n",
        "\n",
        "for i in range(size):\n",
        "  for j in range(1,size-i):\n",
        "    print(\" \",end=\"\")\n",
        "  for k in range(0,i+1):\n",
        "    print(\"*\",end=\"\")\n",
        "  print()"
      ],
      "metadata": {
        "colab": {
          "base_uri": "https://localhost:8080/"
        },
        "id": "gVTdq0Fu-zd6",
        "outputId": "6f0a027f-ae0d-4a6f-f341-e40f39c9f211"
      },
      "execution_count": null,
      "outputs": [
        {
          "output_type": "stream",
          "name": "stdout",
          "text": [
            "    *\n",
            "   **\n",
            "  ***\n",
            " ****\n",
            "*****\n"
          ]
        }
      ]
    },
    {
      "cell_type": "code",
      "source": [
        "size = 5\n",
        "\n",
        "for i in range(size):\n",
        "  for j in range(1,size-i):\n",
        "    print(\" \",end=\"\")\n",
        "  for k in range(0,i+1):\n",
        "    print(\"*\",end=\"\")\n",
        "  print()"
      ],
      "metadata": {
        "colab": {
          "base_uri": "https://localhost:8080/"
        },
        "id": "gChnUWLrxk-6",
        "outputId": "f5dfa951-fbe8-4c68-9746-acc6da4eaa28"
      },
      "execution_count": null,
      "outputs": [
        {
          "output_type": "stream",
          "name": "stdout",
          "text": [
            "    *\n",
            "   **\n",
            "  ***\n",
            " ****\n",
            "*****\n"
          ]
        }
      ]
    },
    {
      "cell_type": "code",
      "source": [
        "def pattern(n):\n",
        "  for i in range(1,n+1):\n",
        "    for j in range(1,i+1):\n",
        "      print(str(i)*2,end=\"\")\n",
        "    print()\n",
        "\n",
        "\n",
        "n = int(input())\n",
        "pattern(n)"
      ],
      "metadata": {
        "colab": {
          "base_uri": "https://localhost:8080/"
        },
        "id": "PTPnghiTQoAF",
        "outputId": "68b080b5-90af-4d37-999f-3ce1ddf25dcd"
      },
      "execution_count": null,
      "outputs": [
        {
          "output_type": "stream",
          "name": "stdout",
          "text": [
            "5\n",
            "11\n",
            "2222\n",
            "333333\n",
            "44444444\n",
            "5555555555\n"
          ]
        }
      ]
    },
    {
      "cell_type": "code",
      "source": [
        "size = 5\n",
        "\n",
        "for i in range(size):\n",
        "  for j in range(1,size-i):\n",
        "    print(\" \",end=\"\")\n",
        "  for k in range(0,i+1):\n",
        "    print(\"*\",end=\"\")\n",
        "  print()"
      ],
      "metadata": {
        "colab": {
          "base_uri": "https://localhost:8080/"
        },
        "id": "qjHTlDm87hB5",
        "outputId": "206d49b7-98c3-4356-ce19-bf80c6797982"
      },
      "execution_count": null,
      "outputs": [
        {
          "output_type": "stream",
          "name": "stdout",
          "text": [
            "    *\n",
            "   **\n",
            "  ***\n",
            " ****\n",
            "*****\n"
          ]
        }
      ]
    },
    {
      "cell_type": "code",
      "execution_count": null,
      "metadata": {
        "colab": {
          "base_uri": "https://localhost:8080/"
        },
        "id": "eCZAGEAoZKbL",
        "outputId": "9cad5288-37c1-4d4d-d942-471593bdadc2"
      },
      "outputs": [
        {
          "output_type": "stream",
          "name": "stdout",
          "text": [
            "    *\n",
            "   **\n",
            "  ***\n",
            " ****\n",
            "*****\n",
            "*****\n",
            "****\n",
            "***\n",
            "**\n",
            "*\n"
          ]
        }
      ],
      "source": [
        "size = 5\n",
        "#upward triangle\n",
        "for i in range(size):\n",
        "  for j in range(1,size-i):\n",
        "    print(\" \",end=\"\")\n",
        "  for k in range(0,i+1):\n",
        "    print(\"*\",end=\"\")\n",
        "  print()\n",
        "\n",
        "#downward triangle\n",
        "for i in range(size):\n",
        "  for j in range(size-i):\n",
        "    print(\"*\", end = \"\")\n",
        "  print()"
      ]
    },
    {
      "cell_type": "code",
      "source": [],
      "metadata": {
        "id": "_wA3vsvCA00K"
      },
      "execution_count": null,
      "outputs": []
    },
    {
      "cell_type": "code",
      "source": [
        "def extract_vowels(input_str):\n",
        "  vowels = 'aeiouAEIOU'\n",
        "  Extracted_vowels = ''\n",
        "\n",
        "  for ch in input_str:\n",
        "    if ch in vowels:\n",
        "      Extracted_vowels+=ch\n",
        "    return extract_vowels\n",
        "\n",
        "T = int(input())\n",
        "\n",
        "for t in range(T):\n",
        "  test_words = input()\n",
        "  result = extract_vowels(test_words)\n",
        "  print(result)"
      ],
      "metadata": {
        "colab": {
          "base_uri": "https://localhost:8080/",
          "height": 373
        },
        "id": "93u4WrW__oLD",
        "outputId": "69c4eecb-3b58-43bb-a017-bfc9456d71d1"
      },
      "execution_count": null,
      "outputs": [
        {
          "metadata": {
            "tags": null
          },
          "name": "stdout",
          "output_type": "stream",
          "text": [
            "<function extract_vowels at 0x7cd8fe0c5090>\n"
          ]
        },
        {
          "output_type": "error",
          "ename": "KeyboardInterrupt",
          "evalue": "Interrupted by user",
          "traceback": [
            "\u001b[0;31m---------------------------------------------------------------------------\u001b[0m",
            "\u001b[0;31mKeyboardInterrupt\u001b[0m                         Traceback (most recent call last)",
            "\u001b[0;32m<ipython-input-6-b4cde7f048de>\u001b[0m in \u001b[0;36m<cell line: 12>\u001b[0;34m()\u001b[0m\n\u001b[1;32m     11\u001b[0m \u001b[0;34m\u001b[0m\u001b[0m\n\u001b[1;32m     12\u001b[0m \u001b[0;32mfor\u001b[0m \u001b[0mt\u001b[0m \u001b[0;32min\u001b[0m \u001b[0mrange\u001b[0m\u001b[0;34m(\u001b[0m\u001b[0mT\u001b[0m\u001b[0;34m)\u001b[0m\u001b[0;34m:\u001b[0m\u001b[0;34m\u001b[0m\u001b[0;34m\u001b[0m\u001b[0m\n\u001b[0;32m---> 13\u001b[0;31m   \u001b[0mtest_words\u001b[0m \u001b[0;34m=\u001b[0m \u001b[0minput\u001b[0m\u001b[0;34m(\u001b[0m\u001b[0;34m)\u001b[0m\u001b[0;34m\u001b[0m\u001b[0;34m\u001b[0m\u001b[0m\n\u001b[0m\u001b[1;32m     14\u001b[0m   \u001b[0mresult\u001b[0m \u001b[0;34m=\u001b[0m \u001b[0mextract_vowels\u001b[0m\u001b[0;34m(\u001b[0m\u001b[0mtest_words\u001b[0m\u001b[0;34m)\u001b[0m\u001b[0;34m\u001b[0m\u001b[0;34m\u001b[0m\u001b[0m\n\u001b[1;32m     15\u001b[0m   \u001b[0mprint\u001b[0m\u001b[0;34m(\u001b[0m\u001b[0mresult\u001b[0m\u001b[0;34m)\u001b[0m\u001b[0;34m\u001b[0m\u001b[0;34m\u001b[0m\u001b[0m\n",
            "\u001b[0;32m/usr/local/lib/python3.10/dist-packages/ipykernel/kernelbase.py\u001b[0m in \u001b[0;36mraw_input\u001b[0;34m(self, prompt)\u001b[0m\n\u001b[1;32m    849\u001b[0m                 \u001b[0;34m\"raw_input was called, but this frontend does not support input requests.\"\u001b[0m\u001b[0;34m\u001b[0m\u001b[0;34m\u001b[0m\u001b[0m\n\u001b[1;32m    850\u001b[0m             )\n\u001b[0;32m--> 851\u001b[0;31m         return self._input_request(str(prompt),\n\u001b[0m\u001b[1;32m    852\u001b[0m             \u001b[0mself\u001b[0m\u001b[0;34m.\u001b[0m\u001b[0m_parent_ident\u001b[0m\u001b[0;34m,\u001b[0m\u001b[0;34m\u001b[0m\u001b[0;34m\u001b[0m\u001b[0m\n\u001b[1;32m    853\u001b[0m             \u001b[0mself\u001b[0m\u001b[0;34m.\u001b[0m\u001b[0m_parent_header\u001b[0m\u001b[0;34m,\u001b[0m\u001b[0;34m\u001b[0m\u001b[0;34m\u001b[0m\u001b[0m\n",
            "\u001b[0;32m/usr/local/lib/python3.10/dist-packages/ipykernel/kernelbase.py\u001b[0m in \u001b[0;36m_input_request\u001b[0;34m(self, prompt, ident, parent, password)\u001b[0m\n\u001b[1;32m    893\u001b[0m             \u001b[0;32mexcept\u001b[0m \u001b[0mKeyboardInterrupt\u001b[0m\u001b[0;34m:\u001b[0m\u001b[0;34m\u001b[0m\u001b[0;34m\u001b[0m\u001b[0m\n\u001b[1;32m    894\u001b[0m                 \u001b[0;31m# re-raise KeyboardInterrupt, to truncate traceback\u001b[0m\u001b[0;34m\u001b[0m\u001b[0;34m\u001b[0m\u001b[0m\n\u001b[0;32m--> 895\u001b[0;31m                 \u001b[0;32mraise\u001b[0m \u001b[0mKeyboardInterrupt\u001b[0m\u001b[0;34m(\u001b[0m\u001b[0;34m\"Interrupted by user\"\u001b[0m\u001b[0;34m)\u001b[0m \u001b[0;32mfrom\u001b[0m \u001b[0;32mNone\u001b[0m\u001b[0;34m\u001b[0m\u001b[0;34m\u001b[0m\u001b[0m\n\u001b[0m\u001b[1;32m    896\u001b[0m             \u001b[0;32mexcept\u001b[0m \u001b[0mException\u001b[0m \u001b[0;32mas\u001b[0m \u001b[0me\u001b[0m\u001b[0;34m:\u001b[0m\u001b[0;34m\u001b[0m\u001b[0;34m\u001b[0m\u001b[0m\n\u001b[1;32m    897\u001b[0m                 \u001b[0mself\u001b[0m\u001b[0;34m.\u001b[0m\u001b[0mlog\u001b[0m\u001b[0;34m.\u001b[0m\u001b[0mwarning\u001b[0m\u001b[0;34m(\u001b[0m\u001b[0;34m\"Invalid Message:\"\u001b[0m\u001b[0;34m,\u001b[0m \u001b[0mexc_info\u001b[0m\u001b[0;34m=\u001b[0m\u001b[0;32mTrue\u001b[0m\u001b[0;34m)\u001b[0m\u001b[0;34m\u001b[0m\u001b[0;34m\u001b[0m\u001b[0m\n",
            "\u001b[0;31mKeyboardInterrupt\u001b[0m: Interrupted by user"
          ]
        }
      ]
    },
    {
      "cell_type": "code",
      "source": [
        "def vowels(input_str):\n",
        "  Extracted_vowels = ''\n",
        "  for ch in input_str:\n",
        "    if ch in 'aeiouAEIOU':\n",
        "      Extracted_vowels+=ch\n",
        "  return Extracted_vowels\n",
        "\n",
        "T = int(input())\n",
        "\n",
        "for t in range(T):\n",
        "  test_word = input()\n",
        "  result = vowels(test_word)\n",
        "  print(result)"
      ],
      "metadata": {
        "colab": {
          "base_uri": "https://localhost:8080/"
        },
        "id": "L3eYQl_zBBRM",
        "outputId": "fe276e46-9b26-41ba-e9c1-b8fcb63b80e1"
      },
      "execution_count": null,
      "outputs": [
        {
          "output_type": "stream",
          "name": "stdout",
          "text": [
            "5\n",
            "Almabetter\n",
            "Aaee\n",
            "microsofft\n",
            "ioo\n",
            "kaggle\n",
            "ae\n",
            "scsler\n",
            "e\n",
            "adfer\n",
            "ae\n"
          ]
        }
      ]
    },
    {
      "cell_type": "code",
      "source": [
        "input_str = input()\n",
        "length = len(input_str)\n",
        "\n",
        "for i in range(length):\n",
        "  for j in range(1,length-i):\n",
        "    print(\"\"*(length-i-1)+input_str[:i+1])\n",
        "  for k in range(0,i+1):\n",
        "    print(\"*\",end=\"\")\n",
        "  print()\n",
        "for i in range(length):\n",
        "  for j in range(length-i):\n",
        "    print(\"\"*(length-i-1)+input_str[:i+1])\n",
        "  print()"
      ],
      "metadata": {
        "colab": {
          "base_uri": "https://localhost:8080/"
        },
        "id": "uYrfrEKv26SQ",
        "outputId": "b16b9370-24db-4d87-f98e-5f69b4a5c189"
      },
      "execution_count": null,
      "outputs": [
        {
          "output_type": "stream",
          "name": "stdout",
          "text": [
            "testing\n",
            "t\n",
            "t\n",
            "t\n",
            "t\n",
            "t\n",
            "t\n",
            "*\n",
            "te\n",
            "te\n",
            "te\n",
            "te\n",
            "te\n",
            "**\n",
            "tes\n",
            "tes\n",
            "tes\n",
            "tes\n",
            "***\n",
            "test\n",
            "test\n",
            "test\n",
            "****\n",
            "testi\n",
            "testi\n",
            "*****\n",
            "testin\n",
            "******\n",
            "*******\n",
            "t\n",
            "t\n",
            "t\n",
            "t\n",
            "t\n",
            "t\n",
            "t\n",
            "\n",
            "te\n",
            "te\n",
            "te\n",
            "te\n",
            "te\n",
            "te\n",
            "\n",
            "tes\n",
            "tes\n",
            "tes\n",
            "tes\n",
            "tes\n",
            "\n",
            "test\n",
            "test\n",
            "test\n",
            "test\n",
            "\n",
            "testi\n",
            "testi\n",
            "testi\n",
            "\n",
            "testin\n",
            "testin\n",
            "\n",
            "testing\n",
            "\n"
          ]
        }
      ]
    },
    {
      "cell_type": "code",
      "source": [
        "size = 5\n",
        "\n",
        "for i in range(size):\n",
        "  for j in range(1,size-i):\n",
        "    print(\" \",end=\"\")\n",
        "  for k in range(0,i+1):\n",
        "    print(\"*\",end=\"\")\n",
        "  print()"
      ],
      "metadata": {
        "colab": {
          "base_uri": "https://localhost:8080/"
        },
        "id": "Poz1dBtNQFoG",
        "outputId": "9318ed6f-f7a0-4825-91c7-ed86324b0696"
      },
      "execution_count": null,
      "outputs": [
        {
          "output_type": "stream",
          "name": "stdout",
          "text": [
            "    *\n",
            "   **\n",
            "  ***\n",
            " ****\n",
            "*****\n"
          ]
        }
      ]
    },
    {
      "cell_type": "code",
      "source": [
        "size = 5\n",
        "\n",
        "for i in range(size):\n",
        "  for j in range(size):\n",
        "    if i==j or i+j==size-1:\n",
        "      print(\"*\",end=\"\")\n",
        "    else:\n",
        "      print(\" \",end=\"\")\n",
        "  print()"
      ],
      "metadata": {
        "colab": {
          "base_uri": "https://localhost:8080/"
        },
        "id": "dMoLzFlQx3GQ",
        "outputId": "b4568ed9-bd14-45a3-9450-e5ea1b22b6d1"
      },
      "execution_count": null,
      "outputs": [
        {
          "output_type": "stream",
          "name": "stdout",
          "text": [
            "*   *\n",
            " * * \n",
            "  *  \n",
            " * * \n",
            "*   *\n"
          ]
        }
      ]
    },
    {
      "cell_type": "code",
      "source": [
        "size = 5\n",
        "\n",
        "for i in range(size):\n",
        "  for j in range(size):\n",
        "    if i==j or i+j == size-1:\n",
        "      print(\"*\",end=\"\")\n",
        "    else:\n",
        "      print(\" \",end=\"\")\n",
        "  print()"
      ],
      "metadata": {
        "colab": {
          "base_uri": "https://localhost:8080/"
        },
        "id": "4P3rlFLDCwJS",
        "outputId": "a919e8a7-923d-4d1a-b550-82b1a7e942a5"
      },
      "execution_count": null,
      "outputs": [
        {
          "output_type": "stream",
          "name": "stdout",
          "text": [
            "*   *\n",
            " * * \n",
            "  *  \n",
            " * * \n",
            "*   *\n"
          ]
        }
      ]
    },
    {
      "cell_type": "code",
      "execution_count": null,
      "metadata": {
        "colab": {
          "base_uri": "https://localhost:8080/"
        },
        "id": "Usls00UrQoPc",
        "outputId": "a11d74e2-a155-45a1-a79e-d2fbef0cfe56"
      },
      "outputs": [
        {
          "name": "stdout",
          "output_type": "stream",
          "text": [
            "5\n",
            "*\n",
            "**\n",
            "***\n",
            "****\n",
            "*****\n"
          ]
        }
      ],
      "source": [
        "n = int(input())\n",
        "\n",
        "for i in range(1,n+1):\n",
        "  for j in range(1,i+1):\n",
        "    print(\"*\", end=\"\")\n",
        "  print()"
      ]
    },
    {
      "cell_type": "code",
      "source": [
        "size = 5\n",
        "for i in range(size):\n",
        "  for j in range(size):\n",
        "    if i==j or i+j==size-1:\n",
        "      print(\"*\",end=\"\")\n",
        "    else:\n",
        "      print(\" \",end=\"\")\n",
        "  print()"
      ],
      "metadata": {
        "colab": {
          "base_uri": "https://localhost:8080/"
        },
        "id": "UDlmUWSP73mm",
        "outputId": "d2bb209b-bc42-435a-acd4-248f3211f421"
      },
      "execution_count": null,
      "outputs": [
        {
          "output_type": "stream",
          "name": "stdout",
          "text": [
            "*   *\n",
            " * * \n",
            "  *  \n",
            " * * \n",
            "*   *\n"
          ]
        }
      ]
    },
    {
      "cell_type": "code",
      "execution_count": null,
      "metadata": {
        "colab": {
          "base_uri": "https://localhost:8080/"
        },
        "id": "AjQshw0-jeQJ",
        "outputId": "810a08bb-5a66-44ed-9723-db6423ea8b0f"
      },
      "outputs": [
        {
          "name": "stdout",
          "output_type": "stream",
          "text": [
            "    *\n",
            "   **\n",
            "  ***\n",
            " ****\n",
            "*****\n"
          ]
        }
      ],
      "source": [
        "size = 5\n",
        "for i in range(size):\n",
        "  for j in range(1,size-i):\n",
        "    print(\" \", end = \"\")\n",
        "  for k in range(0, i+1):\n",
        "    print(\"*\", end = \"\")\n",
        "  print()"
      ]
    },
    {
      "cell_type": "code",
      "execution_count": null,
      "metadata": {
        "colab": {
          "base_uri": "https://localhost:8080/"
        },
        "id": "nJ39YcAMClVw",
        "outputId": "09b43a87-8d2b-4d65-a73a-9efe2da05c29"
      },
      "outputs": [
        {
          "name": "stdout",
          "output_type": "stream",
          "text": [
            "    *\n",
            "   **\n",
            "  ***\n",
            " ****\n",
            "*****\n"
          ]
        }
      ],
      "source": [
        "size = int(input())\n",
        "\n",
        "for i in range(size):\n",
        "  for j in range(1,size-i):\n",
        "    print(\" \",end=\"\")\n",
        "  for k in range(0,i+1):\n",
        "    print(\"*\",end=\"\")\n",
        "  print()"
      ]
    },
    {
      "cell_type": "code",
      "execution_count": null,
      "metadata": {
        "colab": {
          "base_uri": "https://localhost:8080/"
        },
        "id": "s7D6ou_hC9KH",
        "outputId": "ea2c3c5f-4042-4b1f-bea8-2fe20e2fd0dd"
      },
      "outputs": [
        {
          "name": "stdout",
          "output_type": "stream",
          "text": [
            "5\n",
            "*\n",
            "**\n",
            "***\n",
            "****\n",
            "*****\n"
          ]
        }
      ],
      "source": [
        "n = int(input())\n",
        "for i in range(1,n+1):\n",
        "  for k in range(1,i+1):\n",
        "    print(\"*\",end=\"\")\n",
        "  print()"
      ]
    },
    {
      "cell_type": "code",
      "execution_count": null,
      "metadata": {
        "colab": {
          "base_uri": "https://localhost:8080/"
        },
        "id": "V9mZ14gvRMUY",
        "outputId": "73301a71-da14-4db5-eeb0-08a24cc5539b"
      },
      "outputs": [
        {
          "name": "stdout",
          "output_type": "stream",
          "text": [
            "    *\n",
            "   **\n",
            "  ***\n",
            " ****\n",
            "*****\n"
          ]
        }
      ],
      "source": [
        "size=5\n",
        "for i in range(size):\n",
        "  for j in range(1,size-i):\n",
        "    print(\" \",end=\"\")\n",
        "  for k in range(0,i+1):\n",
        "    print(\"*\",end=\"\")\n",
        "  print()\n"
      ]
    },
    {
      "cell_type": "code",
      "execution_count": null,
      "metadata": {
        "colab": {
          "base_uri": "https://localhost:8080/"
        },
        "id": "fEk0DHy4mCbr",
        "outputId": "b8289709-9005-4ebb-b7bd-85619d312c51"
      },
      "outputs": [
        {
          "name": "stdout",
          "output_type": "stream",
          "text": [
            "*   *\n",
            " * * \n",
            "  *  \n",
            " * * \n",
            "*   *\n"
          ]
        }
      ],
      "source": [
        "size = 5\n",
        "for i in range(size):\n",
        "  for j in range(size):\n",
        "    if i==j or i+j==size-1:\n",
        "      print(\"*\", end = \"\")\n",
        "    else:\n",
        "      print(\" \", end = \"\")\n",
        "  print()"
      ]
    },
    {
      "cell_type": "code",
      "execution_count": null,
      "metadata": {
        "colab": {
          "base_uri": "https://localhost:8080/"
        },
        "id": "4wMTRsw-cV-o",
        "outputId": "58cd3a74-8819-497b-95b8-0225468193c6"
      },
      "outputs": [
        {
          "name": "stdout",
          "output_type": "stream",
          "text": [
            "*   *\n",
            " * * \n",
            "  *  \n",
            " * * \n",
            "*   *\n"
          ]
        }
      ],
      "source": [
        "size = 5\n",
        "for i in range(size):\n",
        "  for j in range(size):\n",
        "    if i==j or i+j == size-1:\n",
        "      print(\"*\",end=\"\")\n",
        "    else:\n",
        "      print(\" \",end=\"\")\n",
        "  print()"
      ]
    },
    {
      "cell_type": "code",
      "execution_count": null,
      "metadata": {
        "colab": {
          "base_uri": "https://localhost:8080/"
        },
        "id": "mb6lUQSPR1uB",
        "outputId": "8381b6a0-a1be-4e94-ba53-4e23f91a917b"
      },
      "outputs": [
        {
          "name": "stdout",
          "output_type": "stream",
          "text": [
            "*   *\n",
            " * * \n",
            "  *  \n",
            " * * \n",
            "*   *\n"
          ]
        }
      ],
      "source": [
        "size = 5\n",
        "for i in range(size):\n",
        "  for j in range(size):\n",
        "    if i==j or i+j==size-1:\n",
        "      print(\"*\",end=\"\")\n",
        "    else:\n",
        "      print(\" \",end=\"\")\n",
        "  print()"
      ]
    },
    {
      "cell_type": "code",
      "execution_count": null,
      "metadata": {
        "colab": {
          "base_uri": "https://localhost:8080/"
        },
        "id": "Y2egs4FHmCan",
        "outputId": "8d91ecd9-b2ed-43ef-8953-331946ed1d2d"
      },
      "outputs": [
        {
          "name": "stdout",
          "output_type": "stream",
          "text": [
            "*****\n",
            "****\n",
            "***\n",
            "**\n",
            "*\n"
          ]
        }
      ],
      "source": [
        "size = 5\n",
        "for i in range(size):\n",
        "  for j in range(size-i):\n",
        "    print(\"*\", end = \"\")\n",
        "  print()"
      ]
    },
    {
      "cell_type": "code",
      "execution_count": null,
      "metadata": {
        "colab": {
          "base_uri": "https://localhost:8080/"
        },
        "id": "0YE3JK5Tml7L",
        "outputId": "49b05a43-e1ba-498c-9205-8fe94850dae6"
      },
      "outputs": [
        {
          "name": "stdout",
          "output_type": "stream",
          "text": [
            "*****\n",
            " ****\n",
            "  ***\n",
            "   **\n",
            "    *\n"
          ]
        }
      ],
      "source": [
        "size = 5\n",
        "for i in range(size):\n",
        "  for j in range(i):\n",
        "    print(\" \", end = \"\")\n",
        "  for j in range(size,i,-1):\n",
        "    print(\"*\", end = \"\")\n",
        "  print()"
      ]
    },
    {
      "cell_type": "markdown",
      "metadata": {
        "id": "GyCmoksGkyvd"
      },
      "source": [
        "# **BUBBLE SORT**"
      ]
    },
    {
      "cell_type": "code",
      "execution_count": null,
      "metadata": {
        "colab": {
          "base_uri": "https://localhost:8080/"
        },
        "id": "53oVb3z-k2HN",
        "outputId": "538b35a5-0ca0-44f2-8fd3-2b25c3bf8c27"
      },
      "outputs": [
        {
          "name": "stdout",
          "output_type": "stream",
          "text": [
            "Sorted array is:\n",
            "1\n",
            "2\n",
            "3\n",
            "4\n",
            "5\n",
            "6\n",
            "7\n",
            "8\n"
          ]
        }
      ],
      "source": [
        "def bubble_sort(arr):\n",
        "  n=len(arr)\n",
        "\n",
        "  for i in range(n):\n",
        "    for j in range(0,n-i-1):\n",
        "      if arr[j]>arr[j+1]:\n",
        "        arr[j],arr[j+1]=arr[j+1],arr[j]\n",
        "\n",
        "arr = [5,2,7,3,1,8,6,4]\n",
        "bubble_sort(arr)\n",
        "print(\"Sorted array is:\")\n",
        "for i in range(len(arr)):\n",
        "  print(\"%d\" %arr[i])"
      ]
    },
    {
      "cell_type": "code",
      "source": [
        "def bubble_sort(arr):\n",
        "  n = len(arr)\n",
        "\n",
        "  for i in range(n):\n",
        "    for j in range(0,n-i-1):\n",
        "      if arr[j]>arr[j+1]:\n",
        "        arr[j],arr[j+1]=arr[j+1],arr[j]\n",
        "\n",
        "arr = [89,25,12,1,68]\n",
        "bubble_sort(arr)\n",
        "\n",
        "for i in range(len(arr)):\n",
        "  print(\"sorted array\",arr[i])"
      ],
      "metadata": {
        "colab": {
          "base_uri": "https://localhost:8080/"
        },
        "id": "dZG5b9VgDUBS",
        "outputId": "88feb90f-35d8-490e-eba2-b9e53c108dc3"
      },
      "execution_count": null,
      "outputs": [
        {
          "output_type": "stream",
          "name": "stdout",
          "text": [
            "sorted array 1\n",
            "sorted array 12\n",
            "sorted array 25\n",
            "sorted array 68\n",
            "sorted array 89\n"
          ]
        }
      ]
    },
    {
      "cell_type": "code",
      "source": [
        "def bubble_sort(arr):\n",
        "  n= len(arr)\n",
        "\n",
        "  for i in range(n):\n",
        "    for j in range(0,n-i-1):\n",
        "      if arr[j]>arr[j+1]:\n",
        "        arr[j],arr[j+1]=arr[j+1],arr[j]\n",
        "\n",
        "arr = [55,25,89,12,45]\n",
        "bubble_sort(arr)\n",
        "for i in range(len(arr)):\n",
        "  print(\"sorted array is\",arr[i])\n",
        "\n",
        "\n",
        "\n"
      ],
      "metadata": {
        "colab": {
          "base_uri": "https://localhost:8080/"
        },
        "id": "fz-2HPu78dhK",
        "outputId": "7719b551-f1e3-4436-e1f5-40f1cfe9ca4d"
      },
      "execution_count": null,
      "outputs": [
        {
          "output_type": "stream",
          "name": "stdout",
          "text": [
            "sorted array is 12\n",
            "sorted array is 25\n",
            "sorted array is 45\n",
            "sorted array is 55\n",
            "sorted array is 89\n"
          ]
        }
      ]
    },
    {
      "cell_type": "code",
      "source": [
        "def bubble_sort(arr):\n",
        "  n = len(arr)\n",
        "\n",
        "  for i in range(n):\n",
        "    for j in range(0,n-i-1):\n",
        "      if arr[j]>arr[j+1]:\n",
        "        arr[j],arr[j+1]=arr[j+1],arr[j]\n",
        "\n",
        "arr = [25,1,36,12,58,76]\n",
        "bubble_sort(arr)\n",
        "\n",
        "for i in range(len(arr)):\n",
        "  print(\"sorted array\",arr[i])"
      ],
      "metadata": {
        "id": "6CDsZkYS8dfT",
        "colab": {
          "base_uri": "https://localhost:8080/"
        },
        "outputId": "4761a85a-bb88-4e0a-cf6e-c1ac153ce78a"
      },
      "execution_count": null,
      "outputs": [
        {
          "output_type": "stream",
          "name": "stdout",
          "text": [
            "sorted array 1\n",
            "sorted array 12\n",
            "sorted array 25\n",
            "sorted array 36\n",
            "sorted array 58\n",
            "sorted array 76\n"
          ]
        }
      ]
    },
    {
      "cell_type": "code",
      "source": [
        "def bubble_sort(arr):\n",
        "  n = len(arr)\n",
        "\n",
        "  for i in range(n):\n",
        "    for j in range(0,n-i-1):\n",
        "      if arr[j]>arr[j+1]:\n",
        "        arr[j],arr[j+1]=arr[j+1],arr[j]\n",
        "\n",
        "\n",
        "arr = [80,15,20,30,60,78,12]\n",
        "bubble_sort(arr)\n",
        "for i in range(len(arr)):\n",
        "  print(arr[i])"
      ],
      "metadata": {
        "colab": {
          "base_uri": "https://localhost:8080/"
        },
        "id": "WpiYOARz5lss",
        "outputId": "9bf03dad-fbcb-48a1-b65f-af372eacb3fc"
      },
      "execution_count": null,
      "outputs": [
        {
          "output_type": "stream",
          "name": "stdout",
          "text": [
            "12\n",
            "15\n",
            "20\n",
            "30\n",
            "60\n",
            "78\n",
            "80\n"
          ]
        }
      ]
    },
    {
      "cell_type": "code",
      "execution_count": null,
      "metadata": {
        "colab": {
          "base_uri": "https://localhost:8080/"
        },
        "id": "fl15jK9oIbLo",
        "outputId": "48d9ff2b-e897-4562-f95f-43247c96e9c7"
      },
      "outputs": [
        {
          "name": "stdout",
          "output_type": "stream",
          "text": [
            "sorted array 12\n",
            "sorted array 15\n",
            "sorted array 20\n",
            "sorted array 30\n",
            "sorted array 60\n",
            "sorted array 78\n",
            "sorted array 80\n"
          ]
        }
      ],
      "source": [
        "def bubble_sort(arr):\n",
        "  n = len(arr)\n",
        "\n",
        "  for i in range(n):\n",
        "    for j in range(0,n-i-1):\n",
        "      if arr[j]>arr[j+1]:\n",
        "        arr[j],arr[j+1]=arr[j+1],arr[j]\n",
        "\n",
        "arr = [80,15,20,30,60,78,12]\n",
        "bubble_sort(arr)\n",
        "for i in range(len(arr)):\n",
        "  print(\"sorted array\",arr[i])"
      ]
    },
    {
      "cell_type": "markdown",
      "metadata": {
        "id": "63NPlzkQNWMC"
      },
      "source": [
        "# **MERGE SORT**"
      ]
    },
    {
      "cell_type": "code",
      "execution_count": null,
      "metadata": {
        "colab": {
          "base_uri": "https://localhost:8080/"
        },
        "id": "lg62gHcFNSA5",
        "outputId": "12fbcd8a-acc0-4428-a1dc-e401586ff863"
      },
      "outputs": [
        {
          "output_type": "stream",
          "name": "stdout",
          "text": [
            "Sorted array is: [11, 12, 22, 25, 64]\n"
          ]
        }
      ],
      "source": [
        "def merge_sort(arr):\n",
        "    # Check if the input array is only one element or empty, if so, return it\n",
        "    if len(arr) <= 1:\n",
        "        return arr\n",
        "\n",
        "    # Divide the array into two halves\n",
        "    mid = len(arr) // 2\n",
        "    left_half = arr[:mid]\n",
        "    right_half = arr[mid:]\n",
        "\n",
        "    # Recursively call merge_sort on each half\n",
        "    left_half = merge_sort(left_half)\n",
        "    right_half = merge_sort(right_half)\n",
        "\n",
        "    # Merge the two sorted halves\n",
        "    i = j = 0  # Initialize two counters for the left and right halves\n",
        "    merged_arr = []  # Create an empty list to store the merged array\n",
        "    while i < len(left_half) and j < len(right_half):\n",
        "        # Compare the first element of each half and add the smaller one to the merged array\n",
        "        if left_half[i] < right_half[j]:\n",
        "            merged_arr.append(left_half[i])\n",
        "            i += 1\n",
        "        else:\n",
        "            merged_arr.append(right_half[j])\n",
        "            j += 1\n",
        "\n",
        "    # Append any remaining elements from the left or right halves to the merged array\n",
        "    merged_arr += left_half[i:]\n",
        "    merged_arr += right_half[j:]\n",
        "\n",
        "    return merged_arr\n",
        "\n",
        "arr = [64, 25, 12, 22, 11]\n",
        "sorted_arr = merge_sort(arr)\n",
        "print(\"Sorted array is:\", sorted_arr)"
      ]
    },
    {
      "cell_type": "code",
      "source": [
        "def merge_sort(arr):\n",
        "  if len(arr)<=1:\n",
        "    return arr\n",
        "\n",
        "  mid = len(arr)//2\n",
        "  left = arr[:mid]\n",
        "  right = arr[mid:]\n",
        "\n",
        "  left = merge_sort(left)\n",
        "  right = merge_sort(right)\n",
        "\n",
        "  i=j=0\n",
        "  merged_arr = []\n",
        "\n",
        "  while i < len(left) and j < len(right):\n",
        "    if left[i]< right[j]:\n",
        "      merged_arr.append(left[i])\n",
        "      i+=1\n",
        "    else:\n",
        "      merged_arr.append(right[j])\n",
        "      j+=1\n",
        "\n",
        "  merged_arr+=left[i:]\n",
        "  merged_arr+=right[j:]\n",
        "  return merged_arr\n",
        "\n",
        "arr = [95,12,56,8,36,5]\n",
        "merge_sort(arr)"
      ],
      "metadata": {
        "colab": {
          "base_uri": "https://localhost:8080/"
        },
        "id": "kE1Gifn_D8LX",
        "outputId": "7b3aba4b-c2ef-4203-f452-f9eb0946f23a"
      },
      "execution_count": null,
      "outputs": [
        {
          "output_type": "execute_result",
          "data": {
            "text/plain": [
              "[5, 8, 12, 36, 56, 95]"
            ]
          },
          "metadata": {},
          "execution_count": 18
        }
      ]
    },
    {
      "cell_type": "code",
      "source": [
        "def merge_sort(arr):\n",
        "  if len(arr)<=1:\n",
        "    return arr\n",
        "\n",
        "  mid = len(arr)//2\n",
        "  left_half = arr[:mid]\n",
        "  right_half = arr[mid:]\n",
        "\n",
        "  left_half = merge_sort(left_half)\n",
        "  right_half = merge_sort(right_half)\n",
        "\n",
        "  i = j = 0\n",
        "  merged_arr=[]\n",
        "\n",
        "  while i < len(left_half) and j < len(right_half):\n",
        "    if left_half[i]<right_half[j]:\n",
        "      merged_arr.append(left_half[i])\n",
        "      i+=1\n",
        "    else:\n",
        "      merged_arr.append(right_half[j])\n",
        "      j+=1\n",
        "\n",
        "  merged_arr+=left_half[i:]\n",
        "  merged_arr+=right_half[j:]\n",
        "  return merged_arr\n",
        "\n",
        "arr = [25,12,56,5,89]\n",
        "merge_sort(arr)"
      ],
      "metadata": {
        "colab": {
          "base_uri": "https://localhost:8080/"
        },
        "id": "AnytdOKo-E62",
        "outputId": "04bba508-a7fd-4c48-fda2-90b3e8886eef"
      },
      "execution_count": null,
      "outputs": [
        {
          "output_type": "execute_result",
          "data": {
            "text/plain": [
              "[5, 12, 25, 56, 89]"
            ]
          },
          "metadata": {},
          "execution_count": 20
        }
      ]
    },
    {
      "cell_type": "code",
      "source": [
        "def merge_sort(arr):\n",
        "  if len(arr)<=1:\n",
        "    return arr\n",
        "\n",
        "  mid = len(arr)//2\n",
        "  left = arr[:mid]\n",
        "  right = arr[mid:]\n",
        "\n",
        "  left = merge_sort(left)\n",
        "  right = merge_sort(right)\n",
        "\n",
        "  i = j = 0\n",
        "\n",
        "  merged_arr = []\n",
        "\n",
        "  while i <len(left) and j < len(right):\n",
        "    if left[i]<right[j]:\n",
        "      merged_arr.append(left[i])\n",
        "      i+=1\n",
        "    else:\n",
        "      merged_arr.append(right[j])\n",
        "      j+=1\n",
        "\n",
        "  merged_arr += left[i:]\n",
        "  merged_arr += right[j:]\n",
        "  return merged_arr\n",
        "\n",
        "arr = [78,56,12,59,3,8]\n",
        "merge_sort(arr)"
      ],
      "metadata": {
        "colab": {
          "base_uri": "https://localhost:8080/"
        },
        "id": "gKi6YSqm0FKg",
        "outputId": "cd6db75f-0dbf-4e9b-c71d-0a4f6d2befeb"
      },
      "execution_count": null,
      "outputs": [
        {
          "output_type": "execute_result",
          "data": {
            "text/plain": [
              "[3, 8, 12, 56, 59, 78]"
            ]
          },
          "metadata": {},
          "execution_count": 21
        }
      ]
    },
    {
      "cell_type": "code",
      "source": [
        "def harmonic_sum(n):\n",
        "  if n<=2:\n",
        "    return 1\n",
        "  else:\n",
        "    return 1/n + harmonic_sum(n-1)\n",
        "\n",
        "n = int(input())\n",
        "harmonic_sum(n)"
      ],
      "metadata": {
        "colab": {
          "base_uri": "https://localhost:8080/"
        },
        "id": "uP3YN90wl547",
        "outputId": "7acac195-1a25-4c54-a25a-6eec8c938e2a"
      },
      "execution_count": null,
      "outputs": [
        {
          "name": "stdout",
          "output_type": "stream",
          "text": [
            "5\n"
          ]
        },
        {
          "output_type": "execute_result",
          "data": {
            "text/plain": [
              "1.7833333333333332"
            ]
          },
          "metadata": {},
          "execution_count": 7
        }
      ]
    },
    {
      "cell_type": "code",
      "source": [
        "def sum(n):\n",
        "  if n<=2:\n",
        "    return 1\n",
        "  else:\n",
        "    return 1 / n + sum(n-1)\n",
        "\n",
        "sum(7)"
      ],
      "metadata": {
        "colab": {
          "base_uri": "https://localhost:8080/"
        },
        "id": "ndYM2rBlFg5G",
        "outputId": "1c54ad86-e855-4951-b692-bcb6b899fa36"
      },
      "execution_count": null,
      "outputs": [
        {
          "output_type": "execute_result",
          "data": {
            "text/plain": [
              "2.092857142857143"
            ]
          },
          "metadata": {},
          "execution_count": 20
        }
      ]
    },
    {
      "cell_type": "code",
      "source": [
        "def harmonic_sum(n):\n",
        "  if n<=2:\n",
        "    return 1\n",
        "  else:\n",
        "    return 1 / n + harmonic_sum(n-1)\n",
        "\n",
        "harmonic_sum(7)"
      ],
      "metadata": {
        "colab": {
          "base_uri": "https://localhost:8080/"
        },
        "id": "OOB4EGWFzF5c",
        "outputId": "210ddf45-990c-4c81-dd56-04f7ec1999b7"
      },
      "execution_count": null,
      "outputs": [
        {
          "output_type": "execute_result",
          "data": {
            "text/plain": [
              "2.092857142857143"
            ]
          },
          "metadata": {},
          "execution_count": 17
        }
      ]
    },
    {
      "cell_type": "code",
      "source": [
        "def harmonic_sum(n):\n",
        "  if n<=2:\n",
        "    return 1\n",
        "  else:\n",
        "    return 1 / n + harmonic_sum(n-1)\n",
        "\n",
        "harmonic_sum(7)"
      ],
      "metadata": {
        "colab": {
          "base_uri": "https://localhost:8080/"
        },
        "id": "7pySo_FdTyFd",
        "outputId": "08ecbba0-936f-459d-e09f-6b0a8424f8a6"
      },
      "execution_count": null,
      "outputs": [
        {
          "output_type": "execute_result",
          "data": {
            "text/plain": [
              "2.092857142857143"
            ]
          },
          "metadata": {},
          "execution_count": 23
        }
      ]
    },
    {
      "cell_type": "code",
      "source": [
        "def harmonic_sum(n):\n",
        "  if n<=2:\n",
        "    return 1\n",
        "  else:\n",
        "    return 1 / n + harmonic_sum(n-1)\n",
        "harmonic_sum(5)"
      ],
      "metadata": {
        "colab": {
          "base_uri": "https://localhost:8080/"
        },
        "id": "u4N2OgCi_hG9",
        "outputId": "b8281c10-38cf-4099-f9d1-f00bff4621b5"
      },
      "execution_count": null,
      "outputs": [
        {
          "output_type": "execute_result",
          "data": {
            "text/plain": [
              "1.7833333333333332"
            ]
          },
          "metadata": {},
          "execution_count": 23
        }
      ]
    },
    {
      "cell_type": "markdown",
      "source": [],
      "metadata": {
        "id": "EFiJnosul5nM"
      }
    },
    {
      "cell_type": "code",
      "source": [
        "def merge_sort(arr):\n",
        "      if len(arr)<=1:\n",
        "        return arr\n",
        "\n",
        "      mid = len(arr)//2\n",
        "      left_half = arr[:mid]\n",
        "      right_half = arr[mid:]\n",
        "\n",
        "      left_half = merge_sort(left_half)\n",
        "      right_half = merge_sort(right_half)\n",
        "\n",
        "      i = j = 0\n",
        "      merged_arr = []\n",
        "\n",
        "      while i <len(left_half) and  j < len(right_half):\n",
        "        if left_half[i]<right_half[j]:\n",
        "          merged_arr.append(left_half[i])\n",
        "          i+=1\n",
        "        else:\n",
        "          merged_arr.append(right_half[j])\n",
        "          j+=1\n",
        "\n",
        "      merged_arr+=left_half[i:]\n",
        "      merged_arr+=right_half[j:]\n",
        "      return merged_arr\n",
        "\n",
        "arr = [64, 25, 12, 22, 11]\n",
        "sorted_arr = merge_sort(arr)\n",
        "print(\"sorted array is\", sorted_arr)"
      ],
      "metadata": {
        "colab": {
          "base_uri": "https://localhost:8080/"
        },
        "id": "KlwWdQZ46h_4",
        "outputId": "893bebcb-6720-4f2f-da0a-6fb6873cfb5f"
      },
      "execution_count": null,
      "outputs": [
        {
          "output_type": "stream",
          "name": "stdout",
          "text": [
            "sorted array is [11, 12, 22, 25, 64]\n"
          ]
        }
      ]
    },
    {
      "cell_type": "code",
      "execution_count": null,
      "metadata": {
        "colab": {
          "base_uri": "https://localhost:8080/"
        },
        "id": "EogkMa-7ihNs",
        "outputId": "2484df65-74c2-4c2a-b99f-150d081f5ad4"
      },
      "outputs": [
        {
          "name": "stdout",
          "output_type": "stream",
          "text": [
            "sorted array [11, 12, 22, 25, 64]\n"
          ]
        }
      ],
      "source": [
        "def merged_sort(arr):\n",
        "    if len(arr)<=1:\n",
        "      return arr\n",
        "\n",
        "    mid = len(arr)//2\n",
        "    left_half = arr[:mid]\n",
        "    right_half = arr[mid:]\n",
        "\n",
        "    left_half = merged_sort(left_half)\n",
        "    right_half = merged_sort(right_half)\n",
        "\n",
        "    i = j = 0\n",
        "    merged_arr = []\n",
        "\n",
        "    while i < len(left_half) and j < len(right_half):\n",
        "      if left_half[i]< right_half[j]:\n",
        "        merged_arr.append(left_half[i])\n",
        "        i+=1\n",
        "      else:\n",
        "        merged_arr.append(right_half[j])\n",
        "        j+=1\n",
        "\n",
        "    merged_arr+=left_half[i:]\n",
        "    merged_arr+=right_half[j:]\n",
        "    return merged_arr\n",
        "\n",
        "arr = [64, 25, 12, 22, 11]\n",
        "sorted_array = merged_sort(arr)\n",
        "print(\"sorted array\",sorted_array)"
      ]
    },
    {
      "cell_type": "markdown",
      "metadata": {
        "id": "QiZOO27liggH"
      },
      "source": []
    },
    {
      "cell_type": "code",
      "execution_count": null,
      "metadata": {
        "colab": {
          "base_uri": "https://localhost:8080/"
        },
        "id": "LJBnZiEmJ3r-",
        "outputId": "50793d32-b60e-4f24-f951-cbf37859ee9b"
      },
      "outputs": [
        {
          "name": "stdout",
          "output_type": "stream",
          "text": [
            "Sorted array is: [11, 12, 22, 25, 64]\n"
          ]
        }
      ],
      "source": [
        "def merged_sort(arr):\n",
        "  if len(arr)<=1:\n",
        "    return arr\n",
        "\n",
        "#divide the array into two parts\n",
        "  mid = len(arr)//2\n",
        "  left_half=arr[:mid]\n",
        "  right_half = arr[mid:]\n",
        "#recursively call them\n",
        "  left_half=merged_sort(left_half)\n",
        "  right_half = merged_sort(right_half)\n",
        "\n",
        "#initialise i and j as 0\n",
        "  i = j = 0\n",
        "#create a emplty list called merged_list\n",
        "  merged_arr = []\n",
        "#apply while condition\n",
        "  while i < len(left_half) and j<len(right_half):\n",
        "\n",
        "      if left_half[i]<right_half[j]:\n",
        "\n",
        "        merged_arr.append(left_half[i])\n",
        "        i+=1\n",
        "\n",
        "      else:\n",
        "\n",
        "        merged_arr.append(right_half[j])\n",
        "\n",
        "        j+=1\n",
        "\n",
        "#now append the remaining elements of i and j to merged_arr\n",
        "  merged_arr += left_half[i:]\n",
        "  merged_arr+=right_half[j:]\n",
        "\n",
        "  return merged_arr\n",
        "\n",
        "#call the function and check for its functionality\n",
        "arr = [64, 25, 12, 22, 11]\n",
        "sorted_arr = merged_sort(arr)\n",
        "print(\"Sorted array is:\", sorted_arr)"
      ]
    },
    {
      "cell_type": "code",
      "source": [
        "def merge_sort(arr):\n",
        "  if len(arr)<=1:\n",
        "    return arr\n",
        "\n",
        "  mid = len(arr)//2\n",
        "  left_half = arr[:mid]\n",
        "  right_half = arr[mid:]\n",
        "\n",
        "  left_half = merge_sort(left_half)\n",
        "  right_half = merge_sort(right_half)\n",
        "\n",
        "  i = j = 0\n",
        "  merged_arr = []\n",
        "\n",
        "  while i <len(left_half) and j<len(right_half):\n",
        "    if left_half[i]<right_half[j]:\n",
        "      merged_arr.append(left_half[i])\n",
        "      i+=1\n",
        "    else:\n",
        "      merged_arr.append(right_half[j])\n",
        "      j+=1\n",
        "\n",
        "  merged_arr += left_half[i:]\n",
        "  merged_arr += right_half[j:]\n",
        "  return merged_arr\n",
        "\n",
        "arr = [64, 25, 12, 22, 11]\n",
        "sorted_arr = merge_sort(arr)\n",
        "sorted_arr"
      ],
      "metadata": {
        "colab": {
          "base_uri": "https://localhost:8080/"
        },
        "id": "DKQ0l7SZVuio",
        "outputId": "4d76811d-6226-46ad-88cb-51d47b7998b7"
      },
      "execution_count": null,
      "outputs": [
        {
          "output_type": "execute_result",
          "data": {
            "text/plain": [
              "[11, 12, 22, 25, 64]"
            ]
          },
          "metadata": {},
          "execution_count": 21
        }
      ]
    },
    {
      "cell_type": "markdown",
      "metadata": {
        "id": "D-1GjoO87zLQ"
      },
      "source": [
        "# **LINEAR SEARCH**"
      ]
    },
    {
      "cell_type": "code",
      "source": [
        "def linear_search(data,target):\n",
        "  for i in range(len(data)):\n",
        "    if data[i]==target:\n",
        "      return i\n",
        "  return -1\n",
        "\n",
        "data = eval(input())\n",
        "target = int(input())\n",
        "index = linear_search(data,target)\n",
        "\n",
        "if index!= -1:\n",
        "  print(f\"Target value {target} is found at index {index}\")\n",
        "else:\n",
        "  print(\"TARGET VALUE NOT FOUND\")"
      ],
      "metadata": {
        "colab": {
          "base_uri": "https://localhost:8080/"
        },
        "id": "vnlhS8skT_-e",
        "outputId": "e8943ab8-6dcb-4f99-a0e2-6485e6b23f98"
      },
      "execution_count": null,
      "outputs": [
        {
          "output_type": "stream",
          "name": "stdout",
          "text": [
            "[12,22,32,42,52]\n",
            "22\n",
            "Target value 22 is found at index 1\n"
          ]
        }
      ]
    },
    {
      "cell_type": "code",
      "source": [
        "def linear_search(data,target):\n",
        "  for  i in range(len(data)):\n",
        "    if data[i]==target:\n",
        "      return i\n",
        "  return -1\n",
        "\n",
        "data = eval(input())\n",
        "target = int(input())\n",
        "index = linear_search(data,target)\n",
        "\n",
        "if index != -1:\n",
        "  print(f\"Target {target} value found at index {index}\")\n",
        "else:\n",
        "  print(f\"Target value not found\")"
      ],
      "metadata": {
        "colab": {
          "base_uri": "https://localhost:8080/"
        },
        "id": "wAfnmJk1YiUN",
        "outputId": "e5bd100e-c979-4d1b-e65b-f8b52d387bc8"
      },
      "execution_count": null,
      "outputs": [
        {
          "output_type": "stream",
          "name": "stdout",
          "text": [
            "[12,22,32,42,52]\n",
            "42\n",
            "Target 42 value found at index 3\n"
          ]
        }
      ]
    },
    {
      "cell_type": "code",
      "execution_count": null,
      "metadata": {
        "colab": {
          "base_uri": "https://localhost:8080/"
        },
        "id": "K55PwUXd68iC",
        "outputId": "f77ebbaa-36dc-49c8-da5e-2742359fcb97"
      },
      "outputs": [
        {
          "name": "stdout",
          "output_type": "stream",
          "text": [
            "enter the values separated by space[1,2,3,4,5]\n",
            "enter the target value2\n",
            "Target 2 found at index 1\n"
          ]
        }
      ],
      "source": [
        "def linear_search(data,target):\n",
        "  for i in range(len(data)):\n",
        "    if data[i]==target:\n",
        "      return i\n",
        "  return -1\n",
        "\n",
        "\n",
        "data = eval(input(\"enter the values separated by space\"))\n",
        "target = int(input((\"enter the target value\")))\n",
        "\n",
        "index = linear_search(data,target)\n",
        "\n",
        "if index!=-1:\n",
        "  print(f\"Target {target} found at index {index}\")\n",
        "else:\n",
        "  print(f\"Target {target} not found\")"
      ]
    },
    {
      "cell_type": "code",
      "source": [
        "def linear_search(data,target):\n",
        "  for i in range(len(data)):\n",
        "    if data[i]==target:\n",
        "      return i\n",
        "  return -1\n",
        "\n",
        "data = eval(input())\n",
        "target = int(input())\n",
        "index = linear_search(data,target)\n",
        "\n",
        "if index!=-1:\n",
        "  print(f\"Target {target} found at index {index}\")\n",
        "else:\n",
        "  print(f\"Target not found at index\")\n"
      ],
      "metadata": {
        "colab": {
          "base_uri": "https://localhost:8080/"
        },
        "id": "yvejvulYF58x",
        "outputId": "e311c3c9-d5fb-4152-c8c6-61a692aa8776"
      },
      "execution_count": null,
      "outputs": [
        {
          "output_type": "stream",
          "name": "stdout",
          "text": [
            "[1,2,3,4,5]\n",
            "3\n",
            "Target 3 found at index 2\n"
          ]
        }
      ]
    },
    {
      "cell_type": "code",
      "source": [
        "def linear_search(data,target):\n",
        "  for i in range(len(data)):\n",
        "    if data[i]==target:\n",
        "      return i\n",
        "  return -1\n",
        "\n",
        "data = eval(input())\n",
        "target = int(input())\n",
        "index = linear_search(data,target)\n",
        "\n",
        "if index!=-1:\n",
        "  print(f\"Target {target} found at index {index}\")\n",
        "else:\n",
        "  print(f\"Target not found at index\")"
      ],
      "metadata": {
        "colab": {
          "base_uri": "https://localhost:8080/"
        },
        "id": "BKB-mXRCVDr4",
        "outputId": "5b7d36b6-594c-489a-d5cf-7470a93e9d92"
      },
      "execution_count": null,
      "outputs": [
        {
          "output_type": "stream",
          "name": "stdout",
          "text": [
            "[1,2,3,4,5]\n",
            "5\n",
            "Target 5 found at index 4\n"
          ]
        }
      ]
    },
    {
      "cell_type": "code",
      "source": [
        "def linear_search(data,target):\n",
        "  for i in range(len(data)):\n",
        "    if data[i]==target:\n",
        "      return i\n",
        "  return -1\n",
        "\n",
        "data = eval(input(\"enter the values separated by space\"))\n",
        "target = int(input((\"enter the target value\")))\n",
        "\n",
        "index = linear_search(data,target)\n",
        "\n",
        "if index!=-1:\n",
        "  print(f\"Target {target} found at index {index}\")\n",
        "else:\n",
        "  print(f\"Target not found\")"
      ],
      "metadata": {
        "colab": {
          "base_uri": "https://localhost:8080/"
        },
        "id": "tL3Hk_jHBjZ1",
        "outputId": "00a8ad96-e68e-4a15-db33-be2a7b56bc3e"
      },
      "execution_count": null,
      "outputs": [
        {
          "output_type": "stream",
          "name": "stdout",
          "text": [
            "enter the values separated by space[1,2,3,4,5]\n",
            "enter the target value2\n",
            "Target 2 found at index 1\n"
          ]
        }
      ]
    },
    {
      "cell_type": "code",
      "execution_count": null,
      "metadata": {
        "colab": {
          "base_uri": "https://localhost:8080/"
        },
        "id": "zUq4xBFukMzo",
        "outputId": "847488d3-7ad7-46ad-aa7b-152bf2feca9b"
      },
      "outputs": [
        {
          "name": "stdout",
          "output_type": "stream",
          "text": [
            "[1,2,3,4,5]\n",
            "2\n",
            "Target 2 found at index 1\n"
          ]
        }
      ],
      "source": [
        "def linear_search(data,target):\n",
        "  for i in range(len(data)):\n",
        "    if data[i]==target:\n",
        "      return i\n",
        "  return -1\n",
        "\n",
        "data = eval(input())\n",
        "target = int(input())\n",
        "index = linear_search(data,target)\n",
        "\n",
        "if index != -1:\n",
        "  print(f\"Target {target} found at index {index}\")\n",
        "else:\n",
        "  print(\"no target found\")\n"
      ]
    },
    {
      "cell_type": "code",
      "source": [
        "def recursive_linear_function(data,target,start_idx = 0):\n",
        "  if start_idx>len(data):\n",
        "    return -1\n",
        "  if data[start_idx]==target:\n",
        "    return start_idx\n",
        "  return recursive_linear_function(data,target,start_idx+1)\n",
        "\n",
        "data = eval(input())\n",
        "target = int(input())\n",
        "index = recursive_linear_function(data,target)\n",
        "\n",
        "if index != -1:\n",
        "  print(f\"Target {target} found at index {index}\")\n",
        "else:\n",
        "  print(\"no target found\")"
      ],
      "metadata": {
        "colab": {
          "base_uri": "https://localhost:8080/"
        },
        "id": "b39HjmtvUnUv",
        "outputId": "1ba758d9-8b60-488c-e928-93d2a21d2055"
      },
      "execution_count": null,
      "outputs": [
        {
          "output_type": "stream",
          "name": "stdout",
          "text": [
            "[11,2,3,4,5,6]\n",
            "5\n",
            "Target 5 found at index 4\n"
          ]
        }
      ]
    },
    {
      "cell_type": "code",
      "execution_count": null,
      "metadata": {
        "colab": {
          "base_uri": "https://localhost:8080/"
        },
        "id": "uFlkLMU8-Vq5",
        "outputId": "31e16b3d-f625-4134-b445-bb97cb3e1eed"
      },
      "outputs": [
        {
          "name": "stdout",
          "output_type": "stream",
          "text": [
            "enter the elements[1,2,3,4,5]\n",
            "enter the elements2\n",
            "Target element 2 found at index 1\n"
          ]
        }
      ],
      "source": [
        "def recursion_linear_search(arr,target,start_idx=0):\n",
        "  if start_idx>len(arr):\n",
        "    return -1\n",
        "  if arr[start_idx] == target:\n",
        "    return start_idx\n",
        "  return recursion_linear_search(arr,target,start_idx+1)\n",
        "\n",
        "arr = eval(input(\"enter the elements\"))\n",
        "target = int(input(\"enter the elements\"))\n",
        "result = recursion_linear_search(arr,target)\n",
        "\n",
        "if result != -1:\n",
        "  print(f\"Target element {target} found at index {result}\")\n",
        "else:\n",
        "  print(\"not found\")"
      ]
    },
    {
      "cell_type": "code",
      "execution_count": null,
      "metadata": {
        "colab": {
          "base_uri": "https://localhost:8080/"
        },
        "id": "vZtwOQMxlOfx",
        "outputId": "7098efca-25bf-4f32-8429-d95f0d602993"
      },
      "outputs": [
        {
          "name": "stdout",
          "output_type": "stream",
          "text": [
            "[1,2,3,4,5]\n",
            "5\n",
            "target 5 found at index 4\n"
          ]
        }
      ],
      "source": [
        "def recursion(data,target,start_idx=0):\n",
        "  if start_idx>len(data):\n",
        "    return -1\n",
        "  if data[start_idx] == target:\n",
        "    return start_idx\n",
        "  return recursion(data,target,start_idx+1)\n",
        "\n",
        "data = eval(input())\n",
        "target = int(input())\n",
        "index = recursion(data,target)\n",
        "\n",
        "if index!=-1:\n",
        "  print(f\"target {target} found at index {index}\")\n",
        "else:\n",
        "  print(f\"target not found\")"
      ]
    },
    {
      "cell_type": "markdown",
      "metadata": {
        "id": "A3Wvz-_Fewq2"
      },
      "source": [
        "## **Binary search**"
      ]
    },
    {
      "cell_type": "code",
      "execution_count": null,
      "metadata": {
        "colab": {
          "base_uri": "https://localhost:8080/"
        },
        "id": "Ps9rj6n9dl9G",
        "outputId": "8116ef7d-11f1-44cf-e581-b79c179ee1fd"
      },
      "outputs": [
        {
          "name": "stdout",
          "output_type": "stream",
          "text": [
            "enter the values[1,2,3,4,5]\n",
            "enter the value5\n",
            "Target element 5 found at index no 4\n"
          ]
        }
      ],
      "source": [
        "def binary_search(data,target):\n",
        "  left = 0\n",
        "  right = len(data)-1\n",
        "  while left<=right:\n",
        "    mid = (left+right)//2\n",
        "    if data[mid]==target:\n",
        "      return mid\n",
        "    elif data[mid]<target:\n",
        "      left = mid + 1\n",
        "    else:\n",
        "      right = mid - 1\n",
        "  return -1\n",
        "\n",
        "data = eval(input(\"enter the values\"))\n",
        "target = int(input(\"enter the value\"))\n",
        "result = binary_search(data,target)\n",
        "\n",
        "if result!=-1:\n",
        "  print(f\"Target element {target} found at index no {result}\")\n",
        "else:\n",
        "  print(f\"Target value not found\")"
      ]
    },
    {
      "cell_type": "code",
      "source": [
        "def binary(data,target):\n",
        "  left =0\n",
        "  right=len(data)-1\n",
        "\n",
        "  while left<=right:\n",
        "    mid = (left+right)//2\n",
        "    if data[mid]==target:\n",
        "      return mid\n",
        "    elif data[mid]<target:\n",
        "      left = mid+1\n",
        "    else:\n",
        "      right = mid-1\n",
        "  return -1\n",
        "\n",
        "\n",
        "data = eval(input(\"enter the values\"))\n",
        "target = int(input(\"enter the value\"))\n",
        "result = binary(data,target)\n",
        "\n",
        "if result!=-1:\n",
        "  print(f\"target value {target} found at index {result}\")\n",
        "else:\n",
        "  print(f\"target value not found\")\n"
      ],
      "metadata": {
        "colab": {
          "base_uri": "https://localhost:8080/"
        },
        "id": "faccvNaUCqpz",
        "outputId": "fa169969-1e44-4306-988b-09e92a86455b"
      },
      "execution_count": null,
      "outputs": [
        {
          "output_type": "stream",
          "name": "stdout",
          "text": [
            "enter the values[1,2,3,4,5]\n",
            "enter the value2\n",
            "target value 2 found at index 1\n"
          ]
        }
      ]
    },
    {
      "cell_type": "markdown",
      "metadata": {
        "id": "upj61K9Kno_9"
      },
      "source": [
        "Leap year"
      ]
    },
    {
      "cell_type": "code",
      "execution_count": null,
      "metadata": {
        "colab": {
          "base_uri": "https://localhost:8080/"
        },
        "id": "28M4KSmtnqjV",
        "outputId": "b12c3510-90e6-4839-cf45-14f45872d5fe"
      },
      "outputs": [
        {
          "name": "stdout",
          "output_type": "stream",
          "text": [
            "2024\n",
            "The year 2024 is a leap year : True\n"
          ]
        }
      ],
      "source": [
        "def is_leap_year(year):\n",
        "  return (year%4==0 and year %100 !=0) or (year % 400 ==0)\n",
        "\n",
        "year_to_check = int(input())\n",
        "result= is_leap_year(year_to_check)\n",
        "print(f\"The year {year_to_check} is a leap year : {result}\")"
      ]
    },
    {
      "cell_type": "code",
      "source": [
        "def is_leap_year(year):\n",
        "  return (year%4==0 and year%100 !=0) or (year%400==0)\n",
        "\n",
        "year = int(input())\n",
        "is_leap_year(year)"
      ],
      "metadata": {
        "colab": {
          "base_uri": "https://localhost:8080/"
        },
        "id": "ue51amIeDwzo",
        "outputId": "57f18609-0dd0-4e05-fe7d-f821b3972538"
      },
      "execution_count": null,
      "outputs": [
        {
          "name": "stdout",
          "output_type": "stream",
          "text": [
            "2024\n"
          ]
        },
        {
          "output_type": "execute_result",
          "data": {
            "text/plain": [
              "True"
            ]
          },
          "metadata": {},
          "execution_count": 21
        }
      ]
    },
    {
      "cell_type": "code",
      "source": [
        "def is_leap_year(year):\n",
        "  return (year%4==0 and year%100!=0) or (year%400==0)\n",
        "\n",
        "is_leap_year(2025)"
      ],
      "metadata": {
        "colab": {
          "base_uri": "https://localhost:8080/"
        },
        "id": "bIO75-bpDuqW",
        "outputId": "80bedc5d-84b3-4b7d-a413-1a44ece89f73"
      },
      "execution_count": null,
      "outputs": [
        {
          "output_type": "execute_result",
          "data": {
            "text/plain": [
              "False"
            ]
          },
          "metadata": {},
          "execution_count": 1
        }
      ]
    },
    {
      "cell_type": "markdown",
      "metadata": {
        "id": "jUwJbtzPp45F"
      },
      "source": [
        "# **Reverse a number**"
      ]
    },
    {
      "cell_type": "code",
      "execution_count": null,
      "metadata": {
        "colab": {
          "base_uri": "https://localhost:8080/"
        },
        "id": "WsvQ7DiWp4dr",
        "outputId": "871fe4ff-4318-4374-b38a-5ba146ff07c1"
      },
      "outputs": [
        {
          "name": "stdout",
          "output_type": "stream",
          "text": [
            "Original number: 7894\n",
            "Reverse: 4987\n"
          ]
        }
      ],
      "source": [
        "def reverse_number(number):\n",
        "  original_number = number\n",
        "  reverse = 0\n",
        "\n",
        "  for num in str(number):\n",
        "    digit = number%10\n",
        "    reverse = reverse*10 + digit\n",
        "    number//=10\n",
        "  print(f\"Original number: {original_number}\")\n",
        "  print(f\"Reverse: {reverse}\")\n",
        "\n",
        "reverse = 7894\n",
        "reverse_number(reverse)"
      ]
    },
    {
      "cell_type": "code",
      "source": [
        "def reverse_num(number):\n",
        "  original_number = number\n",
        "  reverse = 0\n",
        "\n",
        "  for num in str(number):\n",
        "    digit = number%10\n",
        "    reverse = reverse*10 + digit\n",
        "    number//=10\n",
        "  print(f\"orginal number : {original_number}\")\n",
        "  print(f\"reverse number is : {reverse}\")\n",
        "\n",
        "reverse = 7894\n",
        "reverse_num(reverse)"
      ],
      "metadata": {
        "colab": {
          "base_uri": "https://localhost:8080/"
        },
        "id": "jCJsLj05D_nQ",
        "outputId": "78b63c3d-df1f-480f-8b13-29deefefde2c"
      },
      "execution_count": null,
      "outputs": [
        {
          "output_type": "stream",
          "name": "stdout",
          "text": [
            "orginal number : 7894\n",
            "reverse number is : 4987\n"
          ]
        }
      ]
    },
    {
      "cell_type": "code",
      "source": [
        "def reverse_number(number):\n",
        "  original_number = number\n",
        "  reverse = 0\n",
        "\n",
        "  for num in str(number):\n",
        "    digit = number%10\n",
        "    reverse = reverse * 10 + digit\n",
        "    number //=10\n",
        "  print(f\"Original number\",original_number)\n",
        "  print(f\"reverse number\",reverse)\n",
        "\n",
        "reverse = 7891\n",
        "reverse_number(reverse)"
      ],
      "metadata": {
        "colab": {
          "base_uri": "https://localhost:8080/"
        },
        "id": "kq2J49jbLTBm",
        "outputId": "53f9920a-e283-4f7d-d31a-acd4f2387f2f"
      },
      "execution_count": null,
      "outputs": [
        {
          "output_type": "stream",
          "name": "stdout",
          "text": [
            "Original number 7891\n",
            "reverse number 1987\n"
          ]
        }
      ]
    },
    {
      "cell_type": "code",
      "source": [],
      "metadata": {
        "id": "w_fy_qPNLS-z"
      },
      "execution_count": null,
      "outputs": []
    },
    {
      "cell_type": "code",
      "execution_count": null,
      "metadata": {
        "colab": {
          "base_uri": "https://localhost:8080/"
        },
        "id": "YUkC0fQ6P5yr",
        "outputId": "8a2aea73-1e2d-49a8-ad7b-e35809c1de70"
      },
      "outputs": [
        {
          "name": "stdout",
          "output_type": "stream",
          "text": [
            "original 1234\n",
            "reverse is 4321\n"
          ]
        }
      ],
      "source": [
        "def rverse_number(number):\n",
        "  original_number = number\n",
        "  reverse = 0\n",
        "\n",
        "  for num in str(number):\n",
        "    digit = number%10\n",
        "    reverse = reverse*10 + digit\n",
        "    number//=10\n",
        "  print(f\"original {original_number}\")\n",
        "  print(f\"reverse is {reverse}\")\n",
        "\n",
        "reverse = 1234\n",
        "rverse_number(reverse)"
      ]
    },
    {
      "cell_type": "code",
      "source": [
        "num = '1234'\n",
        "new_list = list(str(num))\n",
        "reverse_list =int(''.join(new_list[::-1]))\n",
        "reverse_list"
      ],
      "metadata": {
        "colab": {
          "base_uri": "https://localhost:8080/"
        },
        "id": "T2PmeSorZxBJ",
        "outputId": "74238aa1-d531-4758-b2f9-64f852867023"
      },
      "execution_count": null,
      "outputs": [
        {
          "output_type": "execute_result",
          "data": {
            "text/plain": [
              "4321"
            ]
          },
          "metadata": {},
          "execution_count": 26
        }
      ]
    },
    {
      "cell_type": "markdown",
      "metadata": {
        "id": "Y_cRRzpprr9Z"
      },
      "source": [
        "## **USING SLICING**"
      ]
    },
    {
      "cell_type": "code",
      "execution_count": null,
      "metadata": {
        "colab": {
          "base_uri": "https://localhost:8080/"
        },
        "id": "F5AHeVn3p4cm",
        "outputId": "52065b81-9b73-4c66-8219-a785b0bf1ddd"
      },
      "outputs": [
        {
          "data": {
            "text/plain": [
              "4321"
            ]
          },
          "execution_count": 35,
          "metadata": {},
          "output_type": "execute_result"
        }
      ],
      "source": [
        "def reverse_number(number):\n",
        "  num_list = list(str(number))\n",
        "  reversed_num = int(''.join(num_list[::-1]))\n",
        "  return reversed_num\n",
        "\n",
        "original_num = 1234\n",
        "reverse_number(original_num)"
      ]
    },
    {
      "cell_type": "code",
      "execution_count": null,
      "metadata": {
        "colab": {
          "base_uri": "https://localhost:8080/"
        },
        "id": "qCkOZr8YRa-7",
        "outputId": "dac37523-5bb7-438b-c953-272610ceb26d"
      },
      "outputs": [
        {
          "data": {
            "text/plain": [
              "4321"
            ]
          },
          "execution_count": 21,
          "metadata": {},
          "output_type": "execute_result"
        }
      ],
      "source": [
        "def reverse_number(number):\n",
        "  num_list = list(str(number))\n",
        "  rev_num = int(''.join(num_list[::-1]))\n",
        "  return rev_num\n",
        "\n",
        "original_number = 1234\n",
        "reverse_number(original_number)"
      ]
    },
    {
      "cell_type": "code",
      "execution_count": null,
      "metadata": {
        "colab": {
          "base_uri": "https://localhost:8080/"
        },
        "id": "Gk1SyBISR-Na",
        "outputId": "4baa8e59-20c3-4f42-a367-f0eb7b22f2f1"
      },
      "outputs": [
        {
          "data": {
            "text/plain": [
              "4321"
            ]
          },
          "execution_count": 24,
          "metadata": {},
          "output_type": "execute_result"
        }
      ],
      "source": [
        "num = 1234\n",
        "num_list = list(str(num))\n",
        "rev_num = int(''.join(num_list[::-1]))\n",
        "rev_num"
      ]
    },
    {
      "cell_type": "markdown",
      "metadata": {
        "id": "iEIB0u9ktWLE"
      },
      "source": [
        "## **GCD**"
      ]
    },
    {
      "cell_type": "code",
      "execution_count": null,
      "metadata": {
        "id": "rbctRkGUtXJ8"
      },
      "outputs": [],
      "source": [
        "def computeGcd(x,y):\n",
        "  if x>y:\n",
        "    small = y\n",
        "  else:\n",
        "    small = x\n",
        "  for i in range(1,small+1):\n",
        "    if ((x%i==0)and(y%i==0)):\n",
        "      gcd= i\n",
        "  return gcd\n"
      ]
    },
    {
      "cell_type": "code",
      "source": [
        "def computedGcd(x,y):\n",
        "  if x>y:\n",
        "    small = y\n",
        "  else:\n",
        "    small = x\n",
        "  for i in range(1,small+1):\n",
        "    if ((x%i==0) and (y%i==0)):\n",
        "      gcd = i\n",
        "  return gcd\n",
        "\n",
        "computedGcd(100,144)"
      ],
      "metadata": {
        "colab": {
          "base_uri": "https://localhost:8080/"
        },
        "id": "go7neHEsE1GO",
        "outputId": "0b103e07-af14-4eef-fdc7-cdbbb57261c0"
      },
      "execution_count": null,
      "outputs": [
        {
          "output_type": "execute_result",
          "data": {
            "text/plain": [
              "4"
            ]
          },
          "metadata": {},
          "execution_count": 10
        }
      ]
    },
    {
      "cell_type": "code",
      "execution_count": null,
      "metadata": {
        "colab": {
          "base_uri": "https://localhost:8080/"
        },
        "id": "Rp_TSvYit0qV",
        "outputId": "93525074-48a1-4e49-880b-20bb32924ff3"
      },
      "outputs": [
        {
          "data": {
            "text/plain": [
              "12"
            ]
          },
          "execution_count": 37,
          "metadata": {},
          "output_type": "execute_result"
        }
      ],
      "source": [
        "x=60\n",
        "y=48\n",
        "computeGcd(x,y)"
      ]
    },
    {
      "cell_type": "code",
      "execution_count": null,
      "metadata": {
        "id": "5YIGfEjit7LB"
      },
      "outputs": [],
      "source": [
        "def hcfnaive(a,b):\n",
        "  if (b==0):\n",
        "    return abs(a)\n",
        "  else:\n",
        "    return hcfnaive(b,a%b)"
      ]
    },
    {
      "cell_type": "code",
      "execution_count": null,
      "metadata": {
        "colab": {
          "base_uri": "https://localhost:8080/"
        },
        "id": "uK2Z4zn7uMS2",
        "outputId": "d4ab23e1-030f-4ed2-b797-840a24e138c9"
      },
      "outputs": [
        {
          "data": {
            "text/plain": [
              "60"
            ]
          },
          "execution_count": 39,
          "metadata": {},
          "output_type": "execute_result"
        }
      ],
      "source": [
        "hcfnaive(60,120)"
      ]
    },
    {
      "cell_type": "markdown",
      "metadata": {
        "id": "oNQf1o3p3CSv"
      },
      "source": [
        "## **NON REPEATING CHARCTERS**"
      ]
    },
    {
      "cell_type": "code",
      "execution_count": null,
      "metadata": {
        "colab": {
          "base_uri": "https://localhost:8080/"
        },
        "id": "zdCVjtUSuPU7",
        "outputId": "b0544d0c-c746-4927-bd28-13fef283d947"
      },
      "outputs": [
        {
          "output_type": "stream",
          "name": "stdout",
          "text": [
            "enter the strigprogramming\n",
            "Non repeating characters poain\n"
          ]
        }
      ],
      "source": [
        "string = input(\"enter the strig\")\n",
        "char_count = {}\n",
        "\n",
        "for char in string:\n",
        "  if char in char_count:\n",
        "    char_count[char]+=1\n",
        "  else:\n",
        "    char_count[char]=1\n",
        "\n",
        "non_repeating = \"\"\n",
        "for char in string:\n",
        "  if char_count[char]==1:\n",
        "    non_repeating+=char\n",
        "print(\"Non repeating characters\",non_repeating)"
      ]
    },
    {
      "cell_type": "code",
      "source": [
        "string = input()\n",
        "char_count = {}\n",
        "\n",
        "for char in string:\n",
        "  if char in char_count:\n",
        "    char_count[char]+=1\n",
        "  else:\n",
        "    char_count[char]=1\n",
        "print(char_count)"
      ],
      "metadata": {
        "colab": {
          "base_uri": "https://localhost:8080/"
        },
        "id": "EChcIEcvZklw",
        "outputId": "05510b58-be58-4994-972e-a362cf606e04"
      },
      "execution_count": null,
      "outputs": [
        {
          "output_type": "stream",
          "name": "stdout",
          "text": [
            "custom functions\n",
            "{'c': 2, 'u': 2, 's': 2, 't': 2, 'o': 2, 'm': 1, ' ': 1, 'f': 1, 'n': 2, 'i': 1}\n"
          ]
        }
      ]
    },
    {
      "cell_type": "code",
      "source": [
        "string = input()\n",
        "char_count = {}\n",
        "\n",
        "for char in string:\n",
        "  if char in char_count:\n",
        "    char_count[char]+=1\n",
        "  else:\n",
        "    char_count[char]=1\n",
        "\n",
        "non_repaeating = \"\"\n",
        "for char in string:\n",
        "  if char_count[char]==1:\n",
        "    non_repaeating+=char\n",
        "print(non_repaeating)"
      ],
      "metadata": {
        "colab": {
          "base_uri": "https://localhost:8080/"
        },
        "id": "1XYfcEkjaNt2",
        "outputId": "13c4d87e-ca24-4c7b-cebf-ddca6085e3dd"
      },
      "execution_count": null,
      "outputs": [
        {
          "output_type": "stream",
          "name": "stdout",
          "text": [
            "custom functions\n",
            "m fi\n"
          ]
        }
      ]
    },
    {
      "cell_type": "code",
      "source": [
        "string = input(\"enter the strig\")\n",
        "char_count = {}\n",
        "\n",
        "for char in string:\n",
        "  if char in char_count:\n",
        "    char_count[char]+=1\n",
        "  else:\n",
        "    char_count[char]=1\n",
        "print(char_count)\n",
        "\n",
        "non_repaeating = \"\"\n",
        "\n",
        "for char in string:\n",
        "  if char_count[char]==1:\n",
        "    non_repaeating += char\n",
        "print(non_repaeating)"
      ],
      "metadata": {
        "colab": {
          "base_uri": "https://localhost:8080/"
        },
        "id": "0rDhYmqYFyse",
        "outputId": "164de662-5f39-457e-f93c-b42b3235ea4c"
      },
      "execution_count": null,
      "outputs": [
        {
          "output_type": "stream",
          "name": "stdout",
          "text": [
            "enter the strigprogramming\n",
            "{'p': 1, 'r': 2, 'o': 1, 'g': 2, 'a': 1, 'm': 2, 'i': 1, 'n': 1}\n",
            "poain\n"
          ]
        }
      ]
    },
    {
      "cell_type": "code",
      "source": [],
      "metadata": {
        "id": "jomm6I6TFyqi"
      },
      "execution_count": null,
      "outputs": []
    },
    {
      "cell_type": "markdown",
      "metadata": {
        "id": "4x6UFhd33Brw"
      },
      "source": [
        "# **HARMONIC SUM**"
      ]
    },
    {
      "cell_type": "code",
      "execution_count": null,
      "metadata": {
        "id": "AWNzl1MU3LS3"
      },
      "outputs": [],
      "source": [
        "def harmonic_sum(n):\n",
        "  if n<2:\n",
        "    return 1\n",
        "  else:\n",
        "    return 1 / n + harmonic_sum(n-1)"
      ]
    },
    {
      "cell_type": "code",
      "execution_count": null,
      "metadata": {
        "colab": {
          "base_uri": "https://localhost:8080/"
        },
        "id": "iny9tiCJ3Xc-",
        "outputId": "3daee308-2159-436c-af1c-269f11bd718b"
      },
      "outputs": [
        {
          "data": {
            "text/plain": [
              "2.5928571428571425"
            ]
          },
          "execution_count": 3,
          "metadata": {},
          "output_type": "execute_result"
        }
      ],
      "source": [
        "harmonic_sum(7)"
      ]
    },
    {
      "cell_type": "code",
      "execution_count": null,
      "metadata": {
        "colab": {
          "base_uri": "https://localhost:8080/",
          "height": 228
        },
        "id": "E3oqEWho3Zq-",
        "outputId": "73b9490b-aa77-49ec-e189-978a5ca697c2"
      },
      "outputs": [
        {
          "name": "stdout",
          "output_type": "stream",
          "text": [
            "[0, 12, 45, 3, 4923, 322, 105, 29, 15, 39, 55]\n",
            "100\n"
          ]
        },
        {
          "ename": "AttributeError",
          "evalue": "'str' object has no attribute 'append'",
          "output_type": "error",
          "traceback": [
            "\u001b[0;31m---------------------------------------------------------------------------\u001b[0m",
            "\u001b[0;31mAttributeError\u001b[0m                            Traceback (most recent call last)",
            "\u001b[0;32m<ipython-input-6-2a310413dd4d>\u001b[0m in \u001b[0;36m<cell line: 4>\u001b[0;34m()\u001b[0m\n\u001b[1;32m      4\u001b[0m \u001b[0;32mfor\u001b[0m \u001b[0mi\u001b[0m \u001b[0;32min\u001b[0m \u001b[0mrange\u001b[0m\u001b[0;34m(\u001b[0m\u001b[0mlen\u001b[0m\u001b[0;34m(\u001b[0m\u001b[0mnum\u001b[0m\u001b[0;34m)\u001b[0m\u001b[0;34m)\u001b[0m\u001b[0;34m:\u001b[0m\u001b[0;34m\u001b[0m\u001b[0;34m\u001b[0m\u001b[0m\n\u001b[1;32m      5\u001b[0m   \u001b[0;32mif\u001b[0m \u001b[0mnum\u001b[0m\u001b[0;34m[\u001b[0m\u001b[0mi\u001b[0m\u001b[0;34m]\u001b[0m\u001b[0;34m<=\u001b[0m\u001b[0mtar\u001b[0m\u001b[0;34m:\u001b[0m\u001b[0;34m\u001b[0m\u001b[0;34m\u001b[0m\u001b[0m\n\u001b[0;32m----> 6\u001b[0;31m     \u001b[0mnew\u001b[0m\u001b[0;34m.\u001b[0m\u001b[0mappend\u001b[0m\u001b[0;34m(\u001b[0m\u001b[0mi\u001b[0m\u001b[0;34m)\u001b[0m\u001b[0;34m\u001b[0m\u001b[0;34m\u001b[0m\u001b[0m\n\u001b[0m\u001b[1;32m      7\u001b[0m     \u001b[0mprint\u001b[0m\u001b[0;34m(\u001b[0m\u001b[0mi\u001b[0m\u001b[0;34m)\u001b[0m\u001b[0;34m\u001b[0m\u001b[0;34m\u001b[0m\u001b[0m\n",
            "\u001b[0;31mAttributeError\u001b[0m: 'str' object has no attribute 'append'"
          ]
        }
      ],
      "source": [
        "num = eval(input())\n",
        "tar=int(input())\n",
        "new=''\n",
        "for i in range(len(num)):\n",
        "  if num[i]<=tar:\n",
        "    new.append(i)\n",
        "    print(new)"
      ]
    },
    {
      "cell_type": "markdown",
      "metadata": {
        "id": "29xnmPSytu6_"
      },
      "source": [
        "Write a Python program to get the smallest number from a list."
      ]
    },
    {
      "cell_type": "code",
      "execution_count": null,
      "metadata": {
        "colab": {
          "base_uri": "https://localhost:8080/"
        },
        "id": "Wke60k9zttCh",
        "outputId": "3c63cb58-55fe-4448-da6d-25fbbd9c3f58"
      },
      "outputs": [
        {
          "name": "stdout",
          "output_type": "stream",
          "text": [
            "[1,2,0,-8]\n",
            "-8\n"
          ]
        }
      ],
      "source": [
        "lst = eval(input())\n",
        "print(min(lst))"
      ]
    },
    {
      "cell_type": "code",
      "execution_count": null,
      "metadata": {
        "colab": {
          "base_uri": "https://localhost:8080/"
        },
        "id": "MuY7m5uItzlA",
        "outputId": "d77db060-df21-4c9c-f536-5969b2b660f0"
      },
      "outputs": [
        {
          "name": "stdout",
          "output_type": "stream",
          "text": [
            "['Red', 'Green', 'White', 'Black', 'Pink', 'Yellow']\n",
            "['Green', 'White', 'Black']\n"
          ]
        }
      ],
      "source": [
        "#Write a Python program to print a specified list after removing the 0th, 4th and 5thlst elements\n",
        "\n",
        "lst = eval(input())\n",
        "new_list = lst[1:4]\n",
        "print(new_list)"
      ]
    },
    {
      "cell_type": "code",
      "source": [
        "lst = eval(input())\n",
        "new_lst = lst[1:4]\n",
        "new_lst"
      ],
      "metadata": {
        "colab": {
          "base_uri": "https://localhost:8080/"
        },
        "id": "vLdOQYNsHb7r",
        "outputId": "484e9db5-3e2f-491f-fbfc-b9cd4fd91834"
      },
      "execution_count": null,
      "outputs": [
        {
          "name": "stdout",
          "output_type": "stream",
          "text": [
            "['Red', 'Green', 'White', 'Black', 'Pink', 'Yellow']\n"
          ]
        },
        {
          "output_type": "execute_result",
          "data": {
            "text/plain": [
              "['Green', 'White', 'Black']"
            ]
          },
          "metadata": {},
          "execution_count": 25
        }
      ]
    },
    {
      "cell_type": "code",
      "source": [
        "lst = eval(input())\n",
        "new_lst = [x for (i,x) in enumerate(lst) if i not in (0,4,5)]\n",
        "new_lst"
      ],
      "metadata": {
        "colab": {
          "base_uri": "https://localhost:8080/"
        },
        "id": "1eo-QJ-AHuG_",
        "outputId": "ba8964de-aa2d-4865-9685-df7874e44a65"
      },
      "execution_count": null,
      "outputs": [
        {
          "name": "stdout",
          "output_type": "stream",
          "text": [
            "['Red', 'Green', 'White', 'Black', 'Pink', 'Yellow']\n"
          ]
        },
        {
          "output_type": "execute_result",
          "data": {
            "text/plain": [
              "['Green', 'White', 'Black']"
            ]
          },
          "metadata": {},
          "execution_count": 27
        }
      ]
    },
    {
      "cell_type": "code",
      "execution_count": null,
      "metadata": {
        "id": "xO-bh7W9uJ3E"
      },
      "outputs": [],
      "source": [
        "lst = eval(input())\n",
        "lst = [x for (i,x) in enumerate(lst) if i  not in (0,4,5)]\n",
        "print(lst)"
      ]
    },
    {
      "cell_type": "markdown",
      "metadata": {
        "id": "tmDKES7svBGG"
      },
      "source": [
        "Write a Python program to append a list to the second list."
      ]
    },
    {
      "cell_type": "code",
      "execution_count": null,
      "metadata": {
        "colab": {
          "base_uri": "https://localhost:8080/"
        },
        "id": "j1QThTTCu8xy",
        "outputId": "5667f040-c1b8-47e2-e95d-157e68133190"
      },
      "outputs": [
        {
          "name": "stdout",
          "output_type": "stream",
          "text": [
            "[1, 2, 3, 0]\n",
            "['Red', 'Green', 'Black']\n",
            "[1, 2, 3, 0, 'Red', 'Green', 'Black']\n"
          ]
        }
      ],
      "source": [
        "lst1 = eval(input())\n",
        "lst2 = eval(input())\n",
        "lst3 = lst1+lst2\n",
        "print(lst3)"
      ]
    },
    {
      "cell_type": "markdown",
      "metadata": {
        "id": "rxTJ05zhvSkv"
      },
      "source": [
        "Write a Python program to test whether all numbers of a list is greater than a certain number."
      ]
    },
    {
      "cell_type": "code",
      "execution_count": null,
      "metadata": {
        "colab": {
          "base_uri": "https://localhost:8080/"
        },
        "id": "wQZcVtDNvKXP",
        "outputId": "f30274e1-1cb0-4d6e-af81-773450de9252"
      },
      "outputs": [
        {
          "name": "stdout",
          "output_type": "stream",
          "text": [
            "[2, 3, 4, 5]\n",
            "1\n",
            "[2, 3, 4, 5]\n"
          ]
        }
      ],
      "source": [
        "lst = eval(input())\n",
        "target = int(input())\n",
        "new_lst = []\n",
        "\n",
        "for num in lst:\n",
        "  if num>target:\n",
        "    new_lst.append(num)\n",
        "print(new_lst)\n"
      ]
    },
    {
      "cell_type": "code",
      "execution_count": null,
      "metadata": {
        "colab": {
          "base_uri": "https://localhost:8080/"
        },
        "id": "XFmWib7Avl7Y",
        "outputId": "be3973c8-6631-476c-b583-f5d6ea05f1fc"
      },
      "outputs": [
        {
          "name": "stdout",
          "output_type": "stream",
          "text": [
            "[2, 3, 4, 5]\n",
            "1\n",
            "True\n"
          ]
        }
      ],
      "source": [
        "lst = eval(input())\n",
        "target = int(input())\n",
        "print(all(num>target for num in lst))"
      ]
    },
    {
      "cell_type": "markdown",
      "metadata": {
        "id": "fwQKHLDbxxG_"
      },
      "source": [
        "Type of triangle"
      ]
    },
    {
      "cell_type": "code",
      "execution_count": null,
      "metadata": {
        "colab": {
          "base_uri": "https://localhost:8080/"
        },
        "id": "kxCLoX2-xrmp",
        "outputId": "8ac80287-d7c8-4e2a-c50d-ac09fadca6de"
      },
      "outputs": [
        {
          "name": "stdout",
          "output_type": "stream",
          "text": [
            "5\n",
            "5\n",
            "4\n",
            "Isoceles triangle\n"
          ]
        }
      ],
      "source": [
        "side_a = int(input())\n",
        "side_b = int(input())\n",
        "side_c = int(input())\n",
        "\n",
        "if side_a == side_b == side_c:\n",
        "  print(\"equilateral triangle\")\n",
        "elif side_a == side_b or side_b == side_c or side_c == side_a:\n",
        "  print(\"Isoceles triangle\")\n",
        "else:\n",
        "  print(\"Scalene triangle\")"
      ]
    },
    {
      "cell_type": "markdown",
      "metadata": {
        "id": "uauslIFwyWog"
      },
      "source": [
        "Write a Python program to convert month name to a number of days. Print 'Wrong month name' for incorrect input. Note: February has 28/29 days."
      ]
    },
    {
      "cell_type": "code",
      "execution_count": null,
      "metadata": {
        "colab": {
          "base_uri": "https://localhost:8080/"
        },
        "id": "E9LTjQZaxrli",
        "outputId": "5cf2cf6e-dd9f-4bdb-e96f-b763729d3e07"
      },
      "outputs": [
        {
          "name": "stdout",
          "output_type": "stream",
          "text": [
            "sunday\n",
            "Invalid month\n"
          ]
        }
      ],
      "source": [
        "month_name = input()\n",
        "\n",
        "if month_name in ('january','march','may','july','august','october','december'):\n",
        "  print(\"31 days\")\n",
        "elif month_name in ('april','june','september','november'):\n",
        "  print(\"30 days\")\n",
        "elif month_name in ('februrary'):\n",
        "  print(\"28/29 days\")\n",
        "else:\n",
        "  print(\"Invalid month\")\n"
      ]
    },
    {
      "cell_type": "markdown",
      "metadata": {
        "id": "jmO8T-k8zvsi"
      },
      "source": [
        "Write a Python program to add two objects if both objects are an integer type."
      ]
    },
    {
      "cell_type": "code",
      "execution_count": null,
      "metadata": {
        "colab": {
          "base_uri": "https://localhost:8080/"
        },
        "id": "7dS_N9e3znUY",
        "outputId": "f960de59-85ad-497c-c013-c69c9ae450be"
      },
      "outputs": [
        {
          "name": "stdout",
          "output_type": "stream",
          "text": [
            "10\n",
            "12.5\n",
            "Input must be integers\n"
          ]
        }
      ],
      "source": [
        "a = input()\n",
        "b = input()\n",
        "\n",
        "if type(a) and type(b) == int:\n",
        "  c= a + b\n",
        "  print(c)\n",
        "else:\n",
        "  print(\"Input must be integers\")"
      ]
    },
    {
      "cell_type": "code",
      "execution_count": null,
      "metadata": {
        "colab": {
          "base_uri": "https://localhost:8080/"
        },
        "id": "dUq6Z8TLz8ss",
        "outputId": "c726ff95-5bec-4595-8713-434dab151b12"
      },
      "outputs": [
        {
          "name": "stdout",
          "output_type": "stream",
          "text": [
            "10\n",
            "12.5\n",
            "Inputs must be integers!\n"
          ]
        }
      ],
      "source": [
        "# your code goes here\n",
        "def add_numbers(a, b):\n",
        "   if not (isinstance(a, int) and isinstance(b, int)):\n",
        "       return \"Inputs must be integers!\"\n",
        "   return a + b\n",
        "\n",
        "n1 = eval(input())\n",
        "n2 = eval(input())\n",
        "print(add_numbers(n1, n2))"
      ]
    },
    {
      "cell_type": "markdown",
      "metadata": {
        "id": "glBzMUi00yLz"
      },
      "source": [
        "Write a Python program to calculate the length of a string."
      ]
    },
    {
      "cell_type": "code",
      "execution_count": null,
      "metadata": {
        "colab": {
          "base_uri": "https://localhost:8080/"
        },
        "id": "X9IaN9AY0zFz",
        "outputId": "ff79559e-8d76-418e-b8fd-e83228d91165"
      },
      "outputs": [
        {
          "name": "stdout",
          "output_type": "stream",
          "text": [
            "datascience\n",
            "11\n"
          ]
        }
      ],
      "source": [
        "string = input()\n",
        "print(len(string))"
      ]
    },
    {
      "cell_type": "code",
      "execution_count": null,
      "metadata": {
        "colab": {
          "base_uri": "https://localhost:8080/"
        },
        "id": "0_6_tOCV026L",
        "outputId": "025a9527-bb7a-4dce-c869-b1d7fd555cf1"
      },
      "outputs": [
        {
          "name": "stdout",
          "output_type": "stream",
          "text": [
            "2\n",
            "[2, 4, 6, 8, 10]\n"
          ]
        }
      ],
      "source": [
        "def n_number(lst,n):\n",
        "  return lst[n-1::n]\n",
        "\n",
        "lst = [1, 2, 3, 4, 5, 6, 7, 8, 9, 10]\n",
        "n = int(input())\n",
        "\n",
        "print(n_number(lst,n))"
      ]
    },
    {
      "cell_type": "markdown",
      "metadata": {
        "id": "S4exEBxj1hSx"
      },
      "source": [
        "Write a Python program to check whether an alphabet is a vowel or consonant."
      ]
    },
    {
      "cell_type": "code",
      "execution_count": null,
      "metadata": {
        "colab": {
          "base_uri": "https://localhost:8080/"
        },
        "id": "2YeZCNXc1hsp",
        "outputId": "518050d3-2df8-4ef6-cac3-a4e3e1bae254"
      },
      "outputs": [
        {
          "name": "stdout",
          "output_type": "stream",
          "text": [
            "a\n",
            "Vowel\n"
          ]
        }
      ],
      "source": [
        "word = input()\n",
        "\n",
        "for word in word:\n",
        "  if word in 'aeiouAEIOU':\n",
        "    print(\"Vowel\")\n",
        "  else:\n",
        "    print(\"Consonant\")"
      ]
    },
    {
      "cell_type": "markdown",
      "metadata": {
        "id": "XDndgPOW11Br"
      },
      "source": [
        "Write a Python program to calculate a dog's age in dog's years. Note: For the first two years, a dog year is equal to 10.5 human years. After that, each dog year equals 4 human years."
      ]
    },
    {
      "cell_type": "code",
      "execution_count": null,
      "metadata": {
        "colab": {
          "base_uri": "https://localhost:8080/"
        },
        "id": "JubxhcUc11hz",
        "outputId": "f8a1b6d8-c64c-46f4-e563-a11fb2b4d306"
      },
      "outputs": [
        {
          "name": "stdout",
          "output_type": "stream",
          "text": [
            "12\n",
            "61\n"
          ]
        }
      ],
      "source": [
        "age = int(input())\n",
        "\n",
        "if age<= 2:\n",
        "  dog_age = age*10.5\n",
        "elif age>2:\n",
        "  dog_age = ((age-2)*4 +21)\n",
        "print(dog_age)"
      ]
    },
    {
      "cell_type": "markdown",
      "metadata": {
        "id": "AnoFC7_94cAy"
      },
      "source": [
        "Write a Python program to find the biggest even number between two numbers inclusive."
      ]
    },
    {
      "cell_type": "code",
      "execution_count": null,
      "metadata": {
        "colab": {
          "base_uri": "https://localhost:8080/"
        },
        "id": "SuAe06Av2hFu",
        "outputId": "cdc17d2f-2fbb-4af9-ea98-fd65fc992d0d"
      },
      "outputs": [
        {
          "name": "stdout",
          "output_type": "stream",
          "text": [
            "12\n",
            "51\n",
            "50\n"
          ]
        }
      ],
      "source": [
        "m = int(input())\n",
        "n = int(input())\n",
        "\n",
        "if m > n or (m==n and m %2==1):\n",
        "  print(\"-1\")\n",
        "elif n %2 == 0:\n",
        "  print(n)\n",
        "else:\n",
        "  print(n-1)"
      ]
    },
    {
      "cell_type": "markdown",
      "metadata": {
        "id": "p9GhrTdr4fyk"
      },
      "source": [
        "Write a Python program to remove None value from a given list. (Using list comprehension)"
      ]
    },
    {
      "cell_type": "code",
      "execution_count": null,
      "metadata": {
        "colab": {
          "base_uri": "https://localhost:8080/"
        },
        "id": "XAtKhpMb3jck",
        "outputId": "a03c3bbb-6c65-47c2-9761-e68b9dcbd2d2"
      },
      "outputs": [
        {
          "name": "stdout",
          "output_type": "stream",
          "text": [
            "[12, 0, None, 23, None, -55, 234, 89, None, 0, 6, -12]\n",
            "[12, 0, 23, -55, 234, 89, 0, 6, -12]\n"
          ]
        }
      ],
      "source": [
        "number = eval(input())\n",
        "number = [x for x in number if x is not None]\n",
        "print(number)"
      ]
    },
    {
      "cell_type": "markdown",
      "metadata": {
        "id": "PcfRvVz-6W4V"
      },
      "source": [
        "Write a Python program to find the indexes of all None items in a given list."
      ]
    },
    {
      "cell_type": "code",
      "execution_count": null,
      "metadata": {
        "colab": {
          "base_uri": "https://localhost:8080/"
        },
        "id": "px3WVSML4qKJ",
        "outputId": "edb344e9-6558-483b-8d53-f033a04f293b"
      },
      "outputs": [
        {
          "name": "stdout",
          "output_type": "stream",
          "text": [
            "[1, None, 5, 4,None, 0, None, None]\n",
            "[1, 4, 6, 7]\n"
          ]
        }
      ],
      "source": [
        "number = eval(input())\n",
        "result = [i for i in range(len(number)) if number[i] == None]\n",
        "print(result)"
      ]
    },
    {
      "cell_type": "code",
      "source": [
        "lst = eval(input())\n",
        "result = [[i] for (i,x) in enumerate(lst) if number[i]==None]\n",
        "result"
      ],
      "metadata": {
        "colab": {
          "base_uri": "https://localhost:8080/"
        },
        "id": "vDGZypx7bot4",
        "outputId": "0e8c8d9a-2807-4055-bee2-a4e943ed242c"
      },
      "execution_count": null,
      "outputs": [
        {
          "name": "stdout",
          "output_type": "stream",
          "text": [
            "[1, None, 5, 4,None, 0, None, None]\n"
          ]
        },
        {
          "output_type": "execute_result",
          "data": {
            "text/plain": [
              "[[1], [4], [6], [7]]"
            ]
          },
          "metadata": {},
          "execution_count": 34
        }
      ]
    },
    {
      "cell_type": "code",
      "execution_count": null,
      "metadata": {
        "colab": {
          "base_uri": "https://localhost:8080/"
        },
        "id": "p9LKOxFb5iTQ",
        "outputId": "aab807d9-4b70-4329-e905-96206f20929e"
      },
      "outputs": [
        {
          "name": "stdout",
          "output_type": "stream",
          "text": [
            "[1, None, 5, 4,None, 0, None, None]\n",
            "1\n",
            "4\n",
            "6\n",
            "7\n"
          ]
        }
      ],
      "source": [
        "num = eval(input())\n",
        "\n",
        "for i  in range(len(num)):\n",
        "  if num[i]==None:\n",
        "    print(i)"
      ]
    },
    {
      "cell_type": "markdown",
      "metadata": {
        "id": "DLYH9I_Q6grp"
      },
      "source": [
        "Write a Python program to remove specific words from a given list. (Using List comprehension)"
      ]
    },
    {
      "cell_type": "code",
      "execution_count": null,
      "metadata": {
        "colab": {
          "base_uri": "https://localhost:8080/"
        },
        "id": "itcLhjTg6hPJ",
        "outputId": "c7dbc5f2-7d7d-42e3-a225-694b05917ca5"
      },
      "outputs": [
        {
          "name": "stdout",
          "output_type": "stream",
          "text": [
            "['red', 'green', 'blue', 'white', 'black', 'orange']\n",
            "['white', 'orange']\n",
            "red\n",
            "green\n",
            "blue\n",
            "black\n"
          ]
        }
      ],
      "source": [
        "obj = eval(input())\n",
        "removal = eval(input())\n",
        "\n",
        "for ob in obj:\n",
        "  if ob not in removal:\n",
        "    print(ob)"
      ]
    },
    {
      "cell_type": "code",
      "execution_count": null,
      "metadata": {
        "colab": {
          "base_uri": "https://localhost:8080/"
        },
        "id": "wuCY9IkT64gf",
        "outputId": "0f720027-3afd-4f0c-e332-5bff1bf3a190"
      },
      "outputs": [
        {
          "name": "stdout",
          "output_type": "stream",
          "text": [
            "['red', 'green', 'blue', 'white', 'black', 'orange']\n",
            "['white', 'orange']\n",
            "['red', 'green', 'blue', 'black']\n"
          ]
        }
      ],
      "source": [
        "obj = eval(input())\n",
        "removal = eval(input())\n",
        "removed_lst = [word for word in obj if word not in removal]\n",
        "print(removed_lst)"
      ]
    },
    {
      "cell_type": "markdown",
      "metadata": {
        "id": "QNBsHOnw8sv-"
      },
      "source": [
        "Write a Python program to create a list taking alternate elements from a given list. (Using list comprehension)"
      ]
    },
    {
      "cell_type": "code",
      "execution_count": null,
      "metadata": {
        "colab": {
          "base_uri": "https://localhost:8080/"
        },
        "id": "qas7POjk7b5N",
        "outputId": "41c22e78-2559-4f39-adb5-b61962fdc832"
      },
      "outputs": [
        {
          "name": "stdout",
          "output_type": "stream",
          "text": [
            "[\"red\", \"black\", \"white\", \"green\", \"orange\"]\n",
            "['red', 'white', 'orange']\n"
          ]
        }
      ],
      "source": [
        "lst = eval(input())\n",
        "new_lst = lst[0::2]\n",
        "print(new_lst)"
      ]
    },
    {
      "cell_type": "code",
      "execution_count": null,
      "metadata": {
        "colab": {
          "base_uri": "https://localhost:8080/"
        },
        "id": "JGlWG7GN8QJT",
        "outputId": "7de2738a-0644-45dd-b1ac-068ea68f53d9"
      },
      "outputs": [
        {
          "name": "stdout",
          "output_type": "stream",
          "text": [
            "[\"red\", \"black\", \"white\", \"green\", \"orange\"]\n",
            "['red', 'white', 'orange']\n"
          ]
        }
      ],
      "source": [
        "lst = eval(input())\n",
        "new_lst = [item for item in lst[0::2]]\n",
        "print(new_lst)"
      ]
    },
    {
      "cell_type": "markdown",
      "metadata": {
        "id": "lyfRzAW_HdE3"
      },
      "source": [
        "Write a Python program to remove all elements from a given list present in another list. (Using list comprehension)"
      ]
    },
    {
      "cell_type": "code",
      "execution_count": null,
      "metadata": {
        "colab": {
          "base_uri": "https://localhost:8080/"
        },
        "id": "h_g51d3Z8YjO",
        "outputId": "9ba0579e-c6bf-4bc9-d1c5-faed1907b91f"
      },
      "outputs": [
        {
          "name": "stdout",
          "output_type": "stream",
          "text": [
            "[1,2,3,4,5,6,7,8,9,10]\n",
            "[2,4,6,8]\n"
          ]
        },
        {
          "data": {
            "text/plain": [
              "[1, 3, 5, 7, 9, 10]"
            ]
          },
          "execution_count": 60,
          "metadata": {},
          "output_type": "execute_result"
        }
      ],
      "source": [
        "lst1 = eval(input())\n",
        "lst2 = eval(input())\n",
        "\n",
        "result = [num for num in lst1 if num not in lst2]\n",
        "result"
      ]
    },
    {
      "cell_type": "markdown",
      "metadata": {
        "id": "jYlpCZvdHzo5"
      },
      "source": [
        "Write a Python program to calculate the length of a string."
      ]
    },
    {
      "cell_type": "code",
      "execution_count": null,
      "metadata": {
        "colab": {
          "base_uri": "https://localhost:8080/"
        },
        "id": "wGEKIx7hH0Ao",
        "outputId": "17505046-f278-4cac-bb2b-2132bcf4e4e6"
      },
      "outputs": [
        {
          "name": "stdout",
          "output_type": "stream",
          "text": [
            "data science\n",
            "12\n"
          ]
        }
      ],
      "source": [
        "string = input()\n",
        "print(len(string))"
      ]
    },
    {
      "cell_type": "markdown",
      "metadata": {
        "id": "RL9i0r7iICBg"
      },
      "source": [
        "Write a Python function that takes a list of words and return the longest word and the length of the longest one."
      ]
    },
    {
      "cell_type": "markdown",
      "metadata": {
        "id": "PYD76PY3ICAZ"
      },
      "source": []
    },
    {
      "cell_type": "code",
      "execution_count": null,
      "metadata": {
        "colab": {
          "base_uri": "https://localhost:8080/",
          "height": 211
        },
        "id": "LrhMB5YmH3sh",
        "outputId": "686fcffb-d276-405d-aa99-c57f4cab2f55"
      },
      "outputs": [
        {
          "name": "stdout",
          "output_type": "stream",
          "text": [
            "king queen knight\n"
          ]
        },
        {
          "ename": "ValueError",
          "evalue": "empty separator",
          "output_type": "error",
          "traceback": [
            "\u001b[0;31m---------------------------------------------------------------------------\u001b[0m",
            "\u001b[0;31mValueError\u001b[0m                                Traceback (most recent call last)",
            "\u001b[0;32m<ipython-input-64-9842ce4aefa4>\u001b[0m in \u001b[0;36m<cell line: 8>\u001b[0;34m()\u001b[0m\n\u001b[1;32m      6\u001b[0m   \u001b[0;32mreturn\u001b[0m \u001b[0mword_len\u001b[0m\u001b[0;34m[\u001b[0m\u001b[0;34m-\u001b[0m\u001b[0;36m1\u001b[0m\u001b[0;34m]\u001b[0m\u001b[0;34m[\u001b[0m\u001b[0;36m0\u001b[0m\u001b[0;34m]\u001b[0m\u001b[0;34m,\u001b[0m\u001b[0mword_len\u001b[0m\u001b[0;34m[\u001b[0m\u001b[0;34m-\u001b[0m\u001b[0;36m1\u001b[0m\u001b[0;34m]\u001b[0m\u001b[0;34m[\u001b[0m\u001b[0;36m1\u001b[0m\u001b[0;34m]\u001b[0m\u001b[0;34m\u001b[0m\u001b[0;34m\u001b[0m\u001b[0m\n\u001b[1;32m      7\u001b[0m \u001b[0;34m\u001b[0m\u001b[0m\n\u001b[0;32m----> 8\u001b[0;31m \u001b[0mlst\u001b[0m \u001b[0;34m=\u001b[0m \u001b[0mlist\u001b[0m\u001b[0;34m(\u001b[0m\u001b[0minput\u001b[0m\u001b[0;34m(\u001b[0m\u001b[0;34m)\u001b[0m\u001b[0;34m.\u001b[0m\u001b[0msplit\u001b[0m\u001b[0;34m(\u001b[0m\u001b[0;34m''\u001b[0m\u001b[0;34m)\u001b[0m\u001b[0;34m)\u001b[0m\u001b[0;34m\u001b[0m\u001b[0;34m\u001b[0m\u001b[0m\n\u001b[0m\u001b[1;32m      9\u001b[0m \u001b[0mprint\u001b[0m\u001b[0;34m(\u001b[0m\u001b[0mlongest_word\u001b[0m\u001b[0;34m(\u001b[0m\u001b[0mlst\u001b[0m\u001b[0;34m)\u001b[0m\u001b[0;34m)\u001b[0m\u001b[0;34m\u001b[0m\u001b[0;34m\u001b[0m\u001b[0m\n",
            "\u001b[0;31mValueError\u001b[0m: empty separator"
          ]
        }
      ],
      "source": [
        "def longest_word(lst):\n",
        "  word_len = []\n",
        "  for n in lst:\n",
        "    word_len.append((len(n),n))\n",
        "    word_len.sort()\n",
        "  return word_len[-1][0],word_len[-1][1]\n",
        "\n",
        "lst = list(input().split(''))\n",
        "print(longest_word(lst))"
      ]
    },
    {
      "cell_type": "code",
      "execution_count": null,
      "metadata": {
        "id": "NoAlcPmKIwDL"
      },
      "outputs": [],
      "source": [
        "#Write a Python program to remove the nth index character from a nonempty string."
      ]
    },
    {
      "cell_type": "code",
      "execution_count": null,
      "metadata": {
        "colab": {
          "base_uri": "https://localhost:8080/"
        },
        "id": "6MnrvC-dJ-Xx",
        "outputId": "29574b57-95de-49b6-eb34-66d468d0d614"
      },
      "outputs": [
        {
          "name": "stdout",
          "output_type": "stream",
          "text": [
            "python\n",
            "0\n",
            "ython\n"
          ]
        }
      ],
      "source": [
        "def char_removal(strn,n):\n",
        "  part_1 = strn[:n]\n",
        "  part_2 = strn[n+1::]\n",
        "  return part_1 + part_2\n",
        "\n",
        "strn =input()\n",
        "n=int(input())\n",
        "print(char_removal(strn,n))\n"
      ]
    },
    {
      "cell_type": "markdown",
      "metadata": {
        "id": "tzqouDamLPcp"
      },
      "source": [
        "Write a Python program to change a given string to a new string where the first and last chars have been exchanged."
      ]
    },
    {
      "cell_type": "code",
      "execution_count": null,
      "metadata": {
        "colab": {
          "base_uri": "https://localhost:8080/"
        },
        "id": "GpZTXcaRKzVG",
        "outputId": "22872901-c1f5-4f8e-a9d0-637e5ed8d585"
      },
      "outputs": [
        {
          "name": "stdout",
          "output_type": "stream",
          "text": [
            "python\n",
            "nythop\n"
          ]
        }
      ],
      "source": [
        "strn = input()\n",
        "result = strn[-1:] + strn[1:-1] + strn[:1]\n",
        "print(result)"
      ]
    },
    {
      "cell_type": "markdown",
      "metadata": {
        "id": "NClkpVQ2MPOh"
      },
      "source": [
        "Write a Python program to add 'ing' at the end of a given string (length should be at least 3). If the given string already ends with 'ing' then add 'ly' instead. If the string length of the given string is less than 3, leave it unchanged."
      ]
    },
    {
      "cell_type": "code",
      "execution_count": null,
      "metadata": {
        "colab": {
          "base_uri": "https://localhost:8080/"
        },
        "id": "s9j7WDzPLeaw",
        "outputId": "65a7a493-4564-4233-9cd5-1c5e72b81873"
      },
      "outputs": [
        {
          "name": "stdout",
          "output_type": "stream",
          "text": [
            "lying\n",
            "lyingly\n"
          ]
        }
      ],
      "source": [
        "def add_string(str1):\n",
        "  length = len(str1)\n",
        "  if length > 2:\n",
        "    if str1[-3:] == 'ing':\n",
        "      str1 += 'ly'\n",
        "    else: str1 += 'ing'\n",
        "\n",
        "  return str1\n",
        "\n",
        "str1 = input()\n",
        "print(add_string(str1))"
      ]
    },
    {
      "cell_type": "markdown",
      "metadata": {
        "id": "7EowkYzpM0Fs"
      },
      "source": [
        "Write a Python program to count the number of characters (character frequency) in a string.\n",
        "\n",
        "Example 1:"
      ]
    },
    {
      "cell_type": "code",
      "execution_count": null,
      "metadata": {
        "colab": {
          "base_uri": "https://localhost:8080/"
        },
        "id": "qLTYepZZM0kl",
        "outputId": "4eaca4b1-1769-4265-de5b-75784bcc0e76"
      },
      "outputs": [
        {
          "name": "stdout",
          "output_type": "stream",
          "text": [
            "enter the stringprogramming\n",
            "{'p': 1, 'r': 2, 'o': 1, 'g': 2, 'a': 1, 'm': 2, 'i': 1, 'n': 1}\n"
          ]
        }
      ],
      "source": [
        "string = input(\"enter the string\")\n",
        "char_count = {}\n",
        "\n",
        "for char in string:\n",
        "  if char in char_count:\n",
        "    char_count[char]+= 1\n",
        "  else:\n",
        "    char_count[char] = 1\n",
        "print(char_count)"
      ]
    },
    {
      "cell_type": "markdown",
      "metadata": {
        "id": "zsu4Ra2jM-3k"
      },
      "source": [
        "swap and merge two string"
      ]
    },
    {
      "cell_type": "code",
      "execution_count": null,
      "metadata": {
        "colab": {
          "base_uri": "https://localhost:8080/"
        },
        "id": "_Th_OGqHM0lz",
        "outputId": "db3d185f-2cbe-4ffc-c3f3-2ee14d9bcc95"
      },
      "outputs": [
        {
          "name": "stdout",
          "output_type": "stream",
          "text": [
            "code\n",
            "debug\n",
            "dede cobug\n"
          ]
        }
      ],
      "source": [
        "def chars_mix_up(a, b):\n",
        "  new_a = b[:2] + a[2:]\n",
        "  new_b = a[:2] + b[2:]\n",
        "\n",
        "  return new_a + ' ' + new_b\n",
        "\n",
        "a = input()\n",
        "b = input()\n",
        "print(chars_mix_up(a,b))"
      ]
    },
    {
      "cell_type": "markdown",
      "metadata": {
        "id": "RTMJf4MMNF7g"
      },
      "source": [
        "Write a Python program to get a string which is n (non-negative integer) copies of a given string."
      ]
    },
    {
      "cell_type": "code",
      "execution_count": null,
      "metadata": {
        "colab": {
          "base_uri": "https://localhost:8080/"
        },
        "id": "adhGg0brNEBB",
        "outputId": "e5154f2f-1674-41fb-fc0e-d01e51041341"
      },
      "outputs": [
        {
          "name": "stdout",
          "output_type": "stream",
          "text": [
            "abc\n",
            "2\n",
            "abcabc\n"
          ]
        }
      ],
      "source": [
        "word = input()\n",
        "n = int(input())\n",
        "new_word =  n * word\n",
        "print(new_word)"
      ]
    },
    {
      "cell_type": "markdown",
      "metadata": {
        "id": "RZCBXRyVme2o"
      },
      "source": [
        "Write a Python function to get a string made of 4 copies of the last two characters of a specified string (length must be at least 2)."
      ]
    },
    {
      "cell_type": "code",
      "execution_count": null,
      "metadata": {
        "colab": {
          "base_uri": "https://localhost:8080/"
        },
        "id": "nT3S-vRemZOx",
        "outputId": "afe0a233-6368-448e-eaae-66acc3c03fb7"
      },
      "outputs": [
        {
          "name": "stdout",
          "output_type": "stream",
          "text": [
            "code\n",
            "dededede\n"
          ]
        }
      ],
      "source": [
        "string = input()\n",
        "new_string = string[-2:]\n",
        "print(new_string*4)"
      ]
    },
    {
      "cell_type": "markdown",
      "metadata": {
        "id": "cMNsNpkMmzty"
      },
      "source": [
        "Write a Python program to count and display the vowels of a given text."
      ]
    },
    {
      "cell_type": "code",
      "execution_count": null,
      "metadata": {
        "colab": {
          "base_uri": "https://localhost:8080/"
        },
        "id": "EWjeiVCgnILI",
        "outputId": "35f9629b-34de-496d-9931-b674d7da7333"
      },
      "outputs": [
        {
          "name": "stdout",
          "output_type": "stream",
          "text": [
            "buzz words\n",
            "2\n",
            "['u', 'o']\n"
          ]
        }
      ],
      "source": [
        "def vowel(word):\n",
        "  vowels = 'aeiouAEIOU'\n",
        "\n",
        "  print(len([letter for letter in word if letter in vowels]))\n",
        "  print([letter for letter in word if letter in vowels])\n",
        "\n",
        "word = input()\n",
        "vowel(word)"
      ]
    },
    {
      "cell_type": "markdown",
      "metadata": {
        "id": "i98fuZneqsVn"
      },
      "source": [
        "Write a Python code to remove all characters except a specified character in a given string."
      ]
    },
    {
      "cell_type": "code",
      "execution_count": null,
      "metadata": {
        "colab": {
          "base_uri": "https://localhost:8080/"
        },
        "id": "VvQTMSUKnd-B",
        "outputId": "7e71f380-091e-4b7e-8c8d-6a8682d227c9"
      },
      "outputs": [
        {
          "name": "stdout",
          "output_type": "stream",
          "text": [
            "american express\n",
            "e\n",
            "eee\n"
          ]
        }
      ],
      "source": [
        "def main(str1,str2):\n",
        "  return ''.join([el for el in str1 if el==str2])\n",
        "\n",
        "str1 = input()\n",
        "str2 = input()\n",
        "print(main(str1,str2))"
      ]
    },
    {
      "cell_type": "markdown",
      "metadata": {
        "id": "qUS_Ut8ytQdN"
      },
      "source": [
        "\n",
        "Write a Python program to count Uppercase, Lowercase, special character and numeric values in a given string."
      ]
    },
    {
      "cell_type": "code",
      "execution_count": null,
      "metadata": {
        "colab": {
          "base_uri": "https://localhost:8080/"
        },
        "id": "OQuCyaBXtRDN",
        "outputId": "71a83f43-7b1e-451f-c42f-e4fab7c39065"
      },
      "outputs": [
        {
          "name": "stdout",
          "output_type": "stream",
          "text": [
            "AlmaBetter@datascience\n",
            "(2, 19, 0, 1)\n"
          ]
        }
      ],
      "source": [
        "def  count_chars(str1):\n",
        "  upper,lower,number,special=0,0,0,0\n",
        "  for i in range(len(str1)):\n",
        "    if str1[i]>='A' and str1[i]<='Z':\n",
        "      upper +=1\n",
        "    elif str1[i]>='a' and str1[i]<='z':\n",
        "      lower+=1\n",
        "    elif str1[i]>='0' and str1[i]<='9':\n",
        "      number+=1\n",
        "    else:\n",
        "      special+=1\n",
        "  return upper,lower,number,special\n",
        "\n",
        "str1 = input()\n",
        "print(count_chars(str1))"
      ]
    },
    {
      "cell_type": "code",
      "source": [
        "def count_letters(str1):\n",
        "  upper,lower,number,special=0,0,0,0\n",
        "  for i in range(len(str1)):\n",
        "    if str1[i]>='A' and str1[i]<='Z':\n",
        "      upper+=1\n",
        "    elif str1[i]>='a' and str1[i]<='z':\n",
        "      lower+=1\n",
        "    elif str1[i]>='0' and str1[i]<='9':\n",
        "      number+=1\n",
        "    else:\n",
        "      special+=1\n",
        "  return upper,lower,number,special\n",
        "\n",
        "str1 = input()\n",
        "print(count_letters(str1))"
      ],
      "metadata": {
        "colab": {
          "base_uri": "https://localhost:8080/"
        },
        "id": "uDx7i-JkMfKR",
        "outputId": "3c4356eb-0b4b-42a1-c490-36fd9949ec3f"
      },
      "execution_count": null,
      "outputs": [
        {
          "output_type": "stream",
          "name": "stdout",
          "text": [
            "AlmaBetter@datascience\n",
            "(2, 19, 0, 1)\n"
          ]
        }
      ]
    },
    {
      "cell_type": "markdown",
      "metadata": {
        "id": "F8-eFle1tQcH"
      },
      "source": [
        "Print unique words in sorted form"
      ]
    },
    {
      "cell_type": "code",
      "execution_count": null,
      "metadata": {
        "colab": {
          "base_uri": "https://localhost:8080/"
        },
        "id": "yheM9fYfvGVD",
        "outputId": "916fe56f-04dc-4ca8-f2cd-208de0d10590"
      },
      "outputs": [
        {
          "name": "stdout",
          "output_type": "stream",
          "text": [
            "data,analysis,model,decission\n",
            "analysis,data,decission,model\n"
          ]
        }
      ],
      "source": [
        "def unique_words(items):\n",
        "  words = [word for word in items.split(',')]\n",
        "  return ','.join(sorted(list(set(words))))\n",
        "\n",
        "words = input()\n",
        "print(unique_words(words))"
      ]
    },
    {
      "cell_type": "code",
      "source": [
        "def unique_words(items):\n",
        "  words = [word for word in items.split(',')]\n",
        "  return ','.join(sorted(list(set(words))))\n",
        "\n",
        "words = input()\n",
        "print(unique_words(words))"
      ],
      "metadata": {
        "colab": {
          "base_uri": "https://localhost:8080/"
        },
        "id": "_pKX3NJ1-Fvr",
        "outputId": "d4aab78a-cc23-41c4-aec0-17f1feedfa2d"
      },
      "execution_count": null,
      "outputs": [
        {
          "output_type": "stream",
          "name": "stdout",
          "text": [
            "data,analysis,model,decission\n",
            "analysis,data,decission,model\n"
          ]
        }
      ]
    },
    {
      "cell_type": "markdown",
      "metadata": {
        "id": "OMJll4k3gKjE"
      },
      "source": [
        "String swap cases\n",
        "\n",
        "Write a Python program to swap cases of a given string."
      ]
    },
    {
      "cell_type": "code",
      "execution_count": null,
      "metadata": {
        "colab": {
          "base_uri": "https://localhost:8080/"
        },
        "id": "Cn5zg04fvgxR",
        "outputId": "887510b6-4c10-4150-a2d0-e6ff89d1515e"
      },
      "outputs": [
        {
          "name": "stdout",
          "output_type": "stream",
          "text": [
            "Python Excercise\n",
            "pYTHON eXCERCISE\n"
          ]
        }
      ],
      "source": [
        "def swap_Case_string(str1):\n",
        "  result_str = \"\"\n",
        "  for item in str1:\n",
        "    if item.isupper():\n",
        "      result_str += item.lower()\n",
        "    else:\n",
        "      result_str +=item.upper()\n",
        "  return result_str\n",
        "\n",
        "str1 = input()\n",
        "print(swap_Case_string(str1))"
      ]
    },
    {
      "cell_type": "code",
      "source": [
        "def swap_excercise(str1):\n",
        "  result_str = \"\"\n",
        "\n",
        "  for item in str1:\n",
        "    if item.isupper():\n",
        "      result_str += item.lower()\n",
        "    else:\n",
        "      result_str+=item.upper()\n",
        "  return result_str\n",
        "\n",
        "str1 = input()\n",
        "print(swap_excercise(str1))"
      ],
      "metadata": {
        "colab": {
          "base_uri": "https://localhost:8080/"
        },
        "id": "LD_4hGd2OMLi",
        "outputId": "13e0a457-a58b-4fc2-f36e-c9526212dfe0"
      },
      "execution_count": null,
      "outputs": [
        {
          "output_type": "stream",
          "name": "stdout",
          "text": [
            "Python Excercise\n",
            "pYTHON eXCERCISE\n"
          ]
        }
      ]
    },
    {
      "cell_type": "markdown",
      "metadata": {
        "id": "4zR9y5QZoC3N"
      },
      "source": [
        "Write a Python program to remove item(s) from a given set."
      ]
    },
    {
      "cell_type": "code",
      "execution_count": null,
      "metadata": {
        "colab": {
          "base_uri": "https://localhost:8080/"
        },
        "id": "PfC4RvFfhfHh",
        "outputId": "d86a3399-edd3-4eef-94cc-1383bed48821"
      },
      "outputs": [
        {
          "data": {
            "text/plain": [
              "{20, 44, 83}"
            ]
          },
          "execution_count": 5,
          "metadata": {},
          "output_type": "execute_result"
        }
      ],
      "source": [
        "num = [44,83,20,72]\n",
        "num.pop(3)\n",
        "set(num)"
      ]
    },
    {
      "cell_type": "code",
      "source": [
        "num = [25,45,96,47]\n",
        "num.pop(3)\n",
        "set(num)"
      ],
      "metadata": {
        "colab": {
          "base_uri": "https://localhost:8080/"
        },
        "id": "amim-D0nO9KX",
        "outputId": "40090b20-952d-43d2-fc3e-e669a2a25e33"
      },
      "execution_count": null,
      "outputs": [
        {
          "output_type": "execute_result",
          "data": {
            "text/plain": [
              "{25, 45, 96}"
            ]
          },
          "metadata": {},
          "execution_count": 7
        }
      ]
    },
    {
      "cell_type": "code",
      "execution_count": null,
      "metadata": {
        "colab": {
          "base_uri": "https://localhost:8080/"
        },
        "id": "FMlj9u_6hohm",
        "outputId": "89837b63-1535-4d09-879b-2f68edc96c2d"
      },
      "outputs": [
        {
          "name": "stdout",
          "output_type": "stream",
          "text": [
            "44,83,20,72\n",
            "{83, 44, 20}\n"
          ]
        }
      ],
      "source": [
        "num = set(eval(input()))\n",
        "num.pop()\n",
        "print(num)"
      ]
    },
    {
      "cell_type": "code",
      "execution_count": null,
      "metadata": {
        "colab": {
          "base_uri": "https://localhost:8080/"
        },
        "id": "hb4qbIwIh67T",
        "outputId": "efbaa738-188e-4e11-f64b-641a48560c8a"
      },
      "outputs": [
        {
          "name": "stdout",
          "output_type": "stream",
          "text": [
            "[44,83,20,72]\n"
          ]
        },
        {
          "data": {
            "text/plain": [
              "{20, 44, 83}"
            ]
          },
          "execution_count": 15,
          "metadata": {},
          "output_type": "execute_result"
        }
      ],
      "source": [
        "num = eval(input())\n",
        "num.remove(72)\n",
        "set(num)"
      ]
    },
    {
      "cell_type": "code",
      "source": [
        "num = eval(input())\n",
        "num.remove(72)\n",
        "set(num)"
      ],
      "metadata": {
        "id": "tUDLTgkRPIWN",
        "outputId": "d67591ee-aa78-45ad-a673-c7c7557cba07",
        "colab": {
          "base_uri": "https://localhost:8080/"
        }
      },
      "execution_count": null,
      "outputs": [
        {
          "name": "stdout",
          "output_type": "stream",
          "text": [
            "[44,83,20,72]\n"
          ]
        },
        {
          "output_type": "execute_result",
          "data": {
            "text/plain": [
              "{20, 44, 83}"
            ]
          },
          "metadata": {},
          "execution_count": 8
        }
      ]
    },
    {
      "cell_type": "markdown",
      "metadata": {
        "id": "IFYvNZFSn_1g"
      },
      "source": [
        "Write a Python program to create an intersection of sets."
      ]
    },
    {
      "cell_type": "code",
      "execution_count": null,
      "metadata": {
        "colab": {
          "base_uri": "https://localhost:8080/"
        },
        "id": "cIAIynmOi5cq",
        "outputId": "8d802c45-270d-4fce-8fa2-cb978bd85c26"
      },
      "outputs": [
        {
          "name": "stdout",
          "output_type": "stream",
          "text": [
            "book paper draw dance\n",
            "hike tour dance work\n",
            "dance\n"
          ]
        }
      ],
      "source": [
        "str1 = set( input().split(' '))\n",
        "str2= set( input().split(' '))\n",
        "for word in str1:\n",
        "  if word in str2:\n",
        "    print(''.join(word))"
      ]
    },
    {
      "cell_type": "code",
      "execution_count": null,
      "metadata": {
        "colab": {
          "base_uri": "https://localhost:8080/"
        },
        "id": "wiGl6PCxkXZH",
        "outputId": "16e1763b-4e9b-4377-828d-b2f81c60f33a"
      },
      "outputs": [
        {
          "name": "stdout",
          "output_type": "stream",
          "text": [
            "book paper draw dance\n",
            "hike tour dance work\n",
            "{'dance'}\n"
          ]
        }
      ],
      "source": [
        "str1 = set( input().split(' '))\n",
        "str2= set( input().split(' '))\n",
        "\n",
        "set3 = str1 & str2\n",
        "print(set3)"
      ]
    },
    {
      "cell_type": "markdown",
      "metadata": {
        "id": "Sm4RcNEloP1f"
      },
      "source": [
        "Write a Python program to create a union of sets."
      ]
    },
    {
      "cell_type": "code",
      "execution_count": null,
      "metadata": {
        "colab": {
          "base_uri": "https://localhost:8080/"
        },
        "id": "Z3gPV5-Ikgug",
        "outputId": "6f483825-824d-4a56-8736-44798914a9cc"
      },
      "outputs": [
        {
          "name": "stdout",
          "output_type": "stream",
          "text": [
            "21 34 68\n",
            "83 21 90\n",
            "{'83', '34', '21', '68', '90'}\n"
          ]
        }
      ],
      "source": [
        "str1 = set( input().split(' '))\n",
        "str2= set( input().split(' '))\n",
        "\n",
        "set3 = str1  | str2\n",
        "print(set3)"
      ]
    },
    {
      "cell_type": "markdown",
      "metadata": {
        "id": "D2kqFIq-oVef"
      },
      "source": [
        "Find max and min number of a set"
      ]
    },
    {
      "cell_type": "code",
      "execution_count": null,
      "metadata": {
        "colab": {
          "base_uri": "https://localhost:8080/"
        },
        "id": "96DBdBdPoQjG",
        "outputId": "b332c32e-ee71-4a54-d054-e12887f8d578"
      },
      "outputs": [
        {
          "name": "stdout",
          "output_type": "stream",
          "text": [
            "41 74 89 90 53 66 73\n",
            "('90', '41')\n"
          ]
        }
      ],
      "source": [
        "def min_max(set1):\n",
        "  return max(set1),min(set1)\n",
        "\n",
        "set1 = set(input().split(' '))\n",
        "print(min_max(set1))"
      ]
    },
    {
      "cell_type": "markdown",
      "metadata": {
        "id": "lwFp3e4_pKN4"
      },
      "source": [
        "Write a Python program to find the length of a set."
      ]
    },
    {
      "cell_type": "code",
      "execution_count": null,
      "metadata": {
        "colab": {
          "base_uri": "https://localhost:8080/"
        },
        "id": "xPg8wjUvopoj",
        "outputId": "f39714d9-8857-471b-93d9-780a0a3f6c93"
      },
      "outputs": [
        {
          "name": "stdout",
          "output_type": "stream",
          "text": [
            "1 2 find look seek\n",
            "5\n"
          ]
        }
      ],
      "source": [
        "def find_length(set1):\n",
        "  return len(set1)\n",
        "\n",
        "set1 = set(input().split(' '))\n",
        "print(find_length(set1))"
      ]
    },
    {
      "cell_type": "code",
      "execution_count": null,
      "metadata": {
        "colab": {
          "base_uri": "https://localhost:8080/"
        },
        "id": "VnRtb3B3pGj7",
        "outputId": "35df7fca-cf57-4d70-c31e-575101945d0b"
      },
      "outputs": [
        {
          "name": "stdout",
          "output_type": "stream",
          "text": [
            "{'name': 'xyz', 'age': 27, 'salary': 50000}\n",
            "{'manager': 'abc'}\n",
            "{'name': 'xyz', 'age': 27, 'salary': 50000, 'manager': 'abc'}\n"
          ]
        }
      ],
      "source": [
        "def add_val(dct,val):\n",
        "  dct.update(val)\n",
        "  print(dct)\n",
        "\n",
        "dct =dict(eval(input()))\n",
        "val =dict(eval(input()))\n",
        "add_val(dct,val)"
      ]
    },
    {
      "cell_type": "markdown",
      "metadata": {
        "id": "3Fvr7LYB6qTW"
      },
      "source": [
        "Write a Python program to check whether a given key already exists in a dictionary."
      ]
    },
    {
      "cell_type": "code",
      "execution_count": null,
      "metadata": {
        "colab": {
          "base_uri": "https://localhost:8080/"
        },
        "id": "gpy0fr7Q6rtF",
        "outputId": "f354bfbc-3950-44a3-a5a1-6e316b0d81c5"
      },
      "outputs": [
        {
          "name": "stdout",
          "output_type": "stream",
          "text": [
            "{1: 10, 2: 20, 3: 30, 4: 40, 5: 50, 6: 60}\n",
            "9\n",
            "key absent\n"
          ]
        }
      ],
      "source": [
        "def is_key_present(dct,val):\n",
        "    if val in dct:\n",
        "      print(\"key present\")\n",
        "    else:\n",
        "      print(\"key absent\")\n",
        "\n",
        "dct = eval(input())\n",
        "val = int(input())\n",
        "is_key_present(dct,val)"
      ]
    },
    {
      "cell_type": "markdown",
      "metadata": {
        "id": "TXzuYiYQ7p6N"
      },
      "source": [
        "Write a Python program to iterate over dictionaries using for loops."
      ]
    },
    {
      "cell_type": "code",
      "execution_count": null,
      "metadata": {
        "colab": {
          "base_uri": "https://localhost:8080/"
        },
        "id": "_TtZIbnk7LKb",
        "outputId": "599804f9-1c88-4582-e90c-eea185ce9e53"
      },
      "outputs": [
        {
          "name": "stdout",
          "output_type": "stream",
          "text": [
            "{'john': 170, 'kem':172, 'sam': 168, 'milli': 158}\n",
            "john => 170\n",
            "kem => 172\n",
            "sam => 168\n",
            "milli => 158\n"
          ]
        }
      ],
      "source": [
        "def iterate_over(dictn):\n",
        "  for dict_key,dict_values in dictn.items():\n",
        "    print(dict_key,'=>',dict_values)\n",
        "\n",
        "dct = dict(eval(input()))\n",
        "iterate_over(dct)\n"
      ]
    },
    {
      "cell_type": "markdown",
      "metadata": {
        "id": "Fgu48piPBFzd"
      },
      "source": [
        "Write a Python script to generate and print a dictionary that contains a number (between 1 and n) in the form {x: x*x}"
      ]
    },
    {
      "cell_type": "code",
      "execution_count": null,
      "metadata": {
        "colab": {
          "base_uri": "https://localhost:8080/"
        },
        "id": "2eJch8TCBGOU",
        "outputId": "2041a3f4-6e51-4e13-a3f2-5f355ae1f435"
      },
      "outputs": [
        {
          "name": "stdout",
          "output_type": "stream",
          "text": [
            "4\n",
            "{1: 1, 2: 4, 3: 9, 4: 16}\n"
          ]
        }
      ],
      "source": [
        "def gen_num(num):\n",
        "  d = dict()\n",
        "\n",
        "  for i in range(1,n+1):\n",
        "    d[i] = i*i\n",
        "  print(d)\n",
        "\n",
        "n = int(input())\n",
        "gen_num(n)"
      ]
    },
    {
      "cell_type": "code",
      "execution_count": null,
      "metadata": {
        "colab": {
          "base_uri": "https://localhost:8080/"
        },
        "id": "qYiWbmHMe10Z",
        "outputId": "3253ce86-0623-46d0-b48d-f251186a10db"
      },
      "outputs": [
        {
          "name": "stdout",
          "output_type": "stream",
          "text": [
            "4\n",
            "{1: 1, 2: 4, 3: 9, 4: 16}\n"
          ]
        }
      ],
      "source": [
        "def gen_num(num):\n",
        "  d=dict()\n",
        "\n",
        "  for i in range(1,n+1):\n",
        "    d[i]=i*i\n",
        "  print(d)\n",
        "\n",
        "n = int(input())\n",
        "gen_num(n)"
      ]
    },
    {
      "cell_type": "markdown",
      "metadata": {
        "id": "sPeANWpWW7DN"
      },
      "source": [
        "Write a Python script to merge two Python dictionaries."
      ]
    },
    {
      "cell_type": "code",
      "execution_count": null,
      "metadata": {
        "colab": {
          "base_uri": "https://localhost:8080/"
        },
        "id": "mgW6-E27BSt1",
        "outputId": "e256277f-f094-4e6d-d9dc-83d021b211a5"
      },
      "outputs": [
        {
          "name": "stdout",
          "output_type": "stream",
          "text": [
            "{'a': 100, 'b': 200}\n",
            "{'x': 300, 'y': 200}\n",
            "{'a': 100, 'b': 200, 'x': 300, 'y': 200}\n"
          ]
        }
      ],
      "source": [
        "def merge_dict(d1,d2):\n",
        "  d = d1.copy()\n",
        "  d.update(d2)\n",
        "  print(d)\n",
        "\n",
        "d1 = dict(eval(input()))\n",
        "d2 = dict(eval(input()))\n",
        "merge_dict(d1,d2)\n"
      ]
    },
    {
      "cell_type": "code",
      "execution_count": null,
      "metadata": {
        "colab": {
          "base_uri": "https://localhost:8080/"
        },
        "id": "dZob60i7fWWU",
        "outputId": "55ec05a6-94df-4162-b25c-dbd06453c470"
      },
      "outputs": [
        {
          "name": "stdout",
          "output_type": "stream",
          "text": [
            "{'a': 100, 'b': 200}\n",
            "{'x': 300, 'y': 200}\n",
            "{'a': 100, 'b': 200, 'x': 300, 'y': 200}\n"
          ]
        }
      ],
      "source": [
        "def merge_dict(d1,d2):\n",
        "  d=d1.copy()\n",
        "  d.update(d2)\n",
        "  print(d)\n",
        "\n",
        "d1 = dict(eval(input()))\n",
        "d2 = dict(eval(input()))\n",
        "merge_dict(d1,d2)"
      ]
    },
    {
      "cell_type": "markdown",
      "metadata": {
        "id": "cZndPfJ_gemf"
      },
      "source": [
        "Write a Python program to sum all the items in a dictionary."
      ]
    },
    {
      "cell_type": "code",
      "execution_count": null,
      "metadata": {
        "colab": {
          "base_uri": "https://localhost:8080/"
        },
        "id": "eCoHrgk-f737",
        "outputId": "7252cdf8-1a70-407e-a336-5415e67a8736"
      },
      "outputs": [
        {
          "name": "stdout",
          "output_type": "stream",
          "text": [
            "{'data1':100,'data2':-54,'data3':247}\n"
          ]
        },
        {
          "data": {
            "text/plain": [
              "293"
            ]
          },
          "execution_count": 7,
          "metadata": {},
          "output_type": "execute_result"
        }
      ],
      "source": [
        "def sum_dict(d1):\n",
        "  return sum(d1.values())\n",
        "\n",
        "d1 = dict(eval(input()))\n",
        "sum_dict(d1)"
      ]
    },
    {
      "cell_type": "code",
      "execution_count": null,
      "metadata": {
        "colab": {
          "base_uri": "https://localhost:8080/"
        },
        "id": "tx8pI8qThdHe",
        "outputId": "13e206d4-95e7-46e5-9f8c-f5b69d457d47"
      },
      "outputs": [
        {
          "name": "stdout",
          "output_type": "stream",
          "text": [
            "1 2 3 4\n",
            "1 4 9 16\n"
          ]
        },
        {
          "data": {
            "text/plain": [
              "{'1': '1', '2': '4', '3': '9', '4': '16'}"
            ]
          },
          "execution_count": 11,
          "metadata": {},
          "output_type": "execute_result"
        }
      ],
      "source": [
        "def map_list(l1,l2):\n",
        "  dic = dict(zip(l1,l2))\n",
        "  return dic\n",
        "\n",
        "\n",
        "l1 = list(input().split(' '))\n",
        "l2 = list(input().split(' '))\n",
        "map_list(l1,l2)\n"
      ]
    },
    {
      "cell_type": "markdown",
      "metadata": {
        "id": "MnSaCb27kDEq"
      },
      "source": [
        "Write a Python program to remove duplicates from Dictionary"
      ]
    },
    {
      "cell_type": "code",
      "execution_count": null,
      "metadata": {
        "colab": {
          "base_uri": "https://localhost:8080/"
        },
        "id": "7lo26SF4h1B1",
        "outputId": "afa5a784-ef59-4df5-b98a-3af0abc92a75"
      },
      "outputs": [
        {
          "name": "stdout",
          "output_type": "stream",
          "text": [
            "{'name': 'xyz', 'age': 27, 'salary': 50000, 'manager': 'xyz'}\n"
          ]
        },
        {
          "data": {
            "text/plain": [
              "{'name': 'xyz', 'age': 27, 'salary': 50000}"
            ]
          },
          "execution_count": 12,
          "metadata": {},
          "output_type": "execute_result"
        }
      ],
      "source": [
        "def  duplicte_removal(dct1):\n",
        "  result = {}\n",
        "\n",
        "  for key,value in dct1.items():\n",
        "    if value not  in result.values():\n",
        "      result[key]=value\n",
        "  return result\n",
        "\n",
        "\n",
        "dct1 = dict(eval(input()))\n",
        "duplicte_removal(dct1)"
      ]
    },
    {
      "cell_type": "markdown",
      "metadata": {
        "id": "VM9eSOQnkz6w"
      },
      "source": [
        "Write a Python program to convert a tuple to a string."
      ]
    },
    {
      "cell_type": "code",
      "execution_count": null,
      "metadata": {
        "colab": {
          "base_uri": "https://localhost:8080/",
          "height": 52
        },
        "id": "EZhXtGMikYL2",
        "outputId": "af09652d-c52f-4396-9637-a7a003515ade"
      },
      "outputs": [
        {
          "name": "stdout",
          "output_type": "stream",
          "text": [
            "e,x,e,r,c,i,s,e\n"
          ]
        },
        {
          "data": {
            "application/vnd.google.colaboratory.intrinsic+json": {
              "type": "string"
            },
            "text/plain": [
              "'exercise'"
            ]
          },
          "execution_count": 14,
          "metadata": {},
          "output_type": "execute_result"
        }
      ],
      "source": [
        "def tup_to_string(tup):\n",
        "  string = ''.join(tup)\n",
        "  return string\n",
        "\n",
        "tup = tuple(input().split(','))\n",
        "tup_to_string(tup)"
      ]
    },
    {
      "cell_type": "markdown",
      "metadata": {
        "id": "rBvGDhBI3tZm"
      },
      "source": [
        "Write a Python program to find the frequency of a given item(string or int) in a tuple."
      ]
    },
    {
      "cell_type": "code",
      "execution_count": null,
      "metadata": {
        "colab": {
          "base_uri": "https://localhost:8080/"
        },
        "id": "6fpwybZrkrFp",
        "outputId": "b27a1f0e-73e6-4d28-b9fd-3686d7ed400d"
      },
      "outputs": [
        {
          "name": "stdout",
          "output_type": "stream",
          "text": [
            "(2, 4, 5, 6, 2, 3, 4, 4, 7)\n",
            "4\n",
            "0\n"
          ]
        }
      ],
      "source": [
        "def frequency(tup,n):\n",
        "  result =  tup.count(n)\n",
        "  return result\n",
        "\n",
        "tup = tuple(input().split(\",\"))\n",
        "n = input()\n",
        "print(frequency(tup,n))"
      ]
    },
    {
      "cell_type": "code",
      "execution_count": null,
      "metadata": {
        "id": "Ig6lPyoo5C3A"
      },
      "outputs": [],
      "source": [
        "def  frequency(tup,n):\n",
        "  count = tup.count(n)\n",
        "  return count\n",
        "\n",
        "tup = tuple(input().split(','))\n",
        "n = input()\n",
        "print(frequency(tup,n))\n"
      ]
    },
    {
      "cell_type": "markdown",
      "metadata": {
        "id": "4lVHTZzo66go"
      },
      "source": [
        "Write a Python program to check whether an element exists within a tuple."
      ]
    },
    {
      "cell_type": "code",
      "execution_count": null,
      "metadata": {
        "colab": {
          "base_uri": "https://localhost:8080/"
        },
        "id": "0ttQ4ZGC66VJ",
        "outputId": "1ae23de6-03c0-43c8-a63c-9bdd1957b3e2"
      },
      "outputs": [
        {
          "name": "stdout",
          "output_type": "stream",
          "text": [
            "w,3,r,e,c,o,u,r,c,e,s\n",
            "c\n",
            "True\n"
          ]
        }
      ],
      "source": [
        "def is_exist(tup,item):\n",
        "  print(item in tup)\n",
        "\n",
        "tup = tuple(input().split(','))\n",
        "item = input()\n",
        "is_exist(tup,item)\n"
      ]
    },
    {
      "cell_type": "code",
      "execution_count": null,
      "metadata": {
        "colab": {
          "base_uri": "https://localhost:8080/"
        },
        "id": "P6Ir6XLDCn-J",
        "outputId": "bf0f5b63-fa09-4e0d-a9fc-1b4b2cfef84e"
      },
      "outputs": [
        {
          "name": "stdout",
          "output_type": "stream",
          "text": [
            "a,b,c,d,e,f,g \n",
            "f\n"
          ]
        },
        {
          "data": {
            "text/plain": [
              "('a', 'b', 'c', 'd', 'e', 'g ')"
            ]
          },
          "execution_count": 4,
          "metadata": {},
          "output_type": "execute_result"
        }
      ],
      "source": [
        "def remove(tup,val):\n",
        "  listx = list(tup)\n",
        "  listx.remove(val)\n",
        "  tup = tuple(listx)\n",
        "  return tup\n",
        "\n",
        "tup = tuple(input().split(','))\n",
        "val = input()\n",
        "remove(tup,val)"
      ]
    },
    {
      "cell_type": "code",
      "execution_count": null,
      "metadata": {
        "colab": {
          "base_uri": "https://localhost:8080/"
        },
        "id": "knxjfALHDK22",
        "outputId": "79131f0c-4376-4158-a89a-5c117b3e6c4c"
      },
      "outputs": [
        {
          "name": "stdout",
          "output_type": "stream",
          "text": [
            "(1, 2), (2, 3), (3, 4)\n",
            "[1, 2]\n",
            "[2, 3]\n",
            "[3, 4]\n"
          ]
        }
      ],
      "source": [
        "tup = eval(input())\n",
        "\n",
        "for el in tup:\n",
        "  result = list(el)\n",
        "  print(result)\n"
      ]
    },
    {
      "cell_type": "code",
      "execution_count": null,
      "metadata": {
        "colab": {
          "base_uri": "https://localhost:8080/"
        },
        "id": "vwg_h97jEa2w",
        "outputId": "a129826f-2b89-4449-ae53-9e6b672a454e"
      },
      "outputs": [
        {
          "name": "stdout",
          "output_type": "stream",
          "text": [
            "(1, 2), (2, 3), (3, 4)\n",
            "[[1, 2], [2, 3], [3, 4]]\n"
          ]
        }
      ],
      "source": [
        "def convert(tup):\n",
        "  result = [list(el) for el in tup]\n",
        "  return result\n",
        "\n",
        "tup = eval(input())\n",
        "print(convert(tup))"
      ]
    },
    {
      "cell_type": "code",
      "execution_count": null,
      "metadata": {
        "id": "XY1ubeSrYMbv"
      },
      "outputs": [],
      "source": [
        "#Write a Python program to create the multiplication table (from 1 to 10) of a number."
      ]
    },
    {
      "cell_type": "code",
      "execution_count": null,
      "metadata": {
        "colab": {
          "base_uri": "https://localhost:8080/"
        },
        "id": "BMpBMA2VYNQ5",
        "outputId": "115c1a37-3e80-4dac-8e90-021b1236d8e1"
      },
      "outputs": [
        {
          "name": "stdout",
          "output_type": "stream",
          "text": [
            "7\n",
            "7 x 1 = 7\n",
            "7 x 2 = 14\n",
            "7 x 3 = 21\n",
            "7 x 4 = 28\n",
            "7 x 5 = 35\n",
            "7 x 6 = 42\n",
            "7 x 7 = 49\n",
            "7 x 8 = 56\n",
            "7 x 9 = 63\n",
            "7 x 10 = 70\n"
          ]
        }
      ],
      "source": [
        "def multiple(num):\n",
        "  for i in range(1,11):\n",
        "    print(num ,'x' ,i, '=', num*i)\n",
        "\n",
        "num = int(input())\n",
        "multiple(num)"
      ]
    },
    {
      "cell_type": "markdown",
      "metadata": {
        "id": "j6G0OP8Ig05c"
      },
      "source": [
        "Write a Python program to calculate the sum and average of n integer numbers (input from the user). Input 0 to finish."
      ]
    },
    {
      "cell_type": "code",
      "execution_count": null,
      "metadata": {
        "colab": {
          "base_uri": "https://localhost:8080/"
        },
        "id": "JFQqCNnHg1d7",
        "outputId": "84513edc-35fd-4167-916b-3c94e3723b65"
      },
      "outputs": [
        {
          "name": "stdout",
          "output_type": "stream",
          "text": [
            "15\n",
            "16\n",
            "12\n",
            "0\n",
            "Average and Sum of the above numbers are: 14.333333333333334 43.0\n"
          ]
        }
      ],
      "source": [
        "count = 0\n",
        "sum = 0.0\n",
        "number = 1\n",
        "\n",
        "while number != 0:\n",
        "        number = int(input(\"\"))\n",
        "        sum = sum + number\n",
        "        count += 1\n",
        "\n",
        "if count == 0:\n",
        "        print(\"Input some numbers\")\n",
        "else:\n",
        "        print(\"Average and Sum of the above numbers are:\", sum / (count-1), sum)"
      ]
    },
    {
      "cell_type": "code",
      "execution_count": null,
      "metadata": {
        "colab": {
          "base_uri": "https://localhost:8080/"
        },
        "id": "7GzagMHrhXS7",
        "outputId": "907495d3-f606-431d-c39c-cbd9956d12fd"
      },
      "outputs": [
        {
          "name": "stdout",
          "output_type": "stream",
          "text": [
            "15\n",
            "16\n",
            "12\n",
            "0\n",
            "Average and sum of numbers are 14.333333333333334 43.0\n"
          ]
        }
      ],
      "source": [
        "count = 0.0\n",
        "sum=0.0\n",
        "number=1.0\n",
        "\n",
        "while number!=0:\n",
        "  number = int(input())\n",
        "  sum = sum + number\n",
        "  count+=1\n",
        "\n",
        "if count==0:\n",
        "  print(\"Invalid numbers\")\n",
        "else:\n",
        "  print(\"Average and sum of numbers are\", sum/(count-1),sum)"
      ]
    },
    {
      "cell_type": "markdown",
      "source": [
        "Words of Prime Importance\n",
        "Easy\n",
        "In a test, students are supposed to write all the words in a passage whose length is a prime number. So, write a Python program to find all such words in a sentence/passage."
      ],
      "metadata": {
        "id": "JP9PSZPjFQjp"
      }
    },
    {
      "cell_type": "code",
      "execution_count": null,
      "metadata": {
        "id": "gaPPiwBliAnU",
        "colab": {
          "base_uri": "https://localhost:8080/"
        },
        "outputId": "6fb32ccf-4cf2-4fa1-db9b-ba840c17ce83"
      },
      "outputs": [
        {
          "output_type": "stream",
          "name": "stdout",
          "text": [
            "The quick brown fox jumps over the lazy dog.\n",
            "The quick brown fox jumps the\n"
          ]
        }
      ],
      "source": [
        "strs = input()\n",
        "new_str = strs.split(' ')\n",
        "result = [word for word in new_str if len(word) in (1,3,5,7)]\n",
        "print(' '.join(result))"
      ]
    },
    {
      "cell_type": "code",
      "source": [
        "def test(strs):\n",
        "    return \" \".join(strs for strs in strs.split() if is_prime(len(strs)))\n",
        "def is_prime(n):\n",
        "    return n > 1 and all(n % j for j in range(2, int(n ** 0.5) + 1))\n",
        "strs = input()\n",
        "print(test(strs))"
      ],
      "metadata": {
        "colab": {
          "base_uri": "https://localhost:8080/"
        },
        "id": "alAGHcaJFOxK",
        "outputId": "9acd28dd-b532-46d1-9226-6b5ed2194e2b"
      },
      "execution_count": null,
      "outputs": [
        {
          "output_type": "stream",
          "name": "stdout",
          "text": [
            "The quick brown fox jumps over the lazy dog.\n",
            "The quick brown fox jumps the\n"
          ]
        }
      ]
    },
    {
      "cell_type": "code",
      "source": [
        "strs = input()\n",
        "new_strs = strs.split(\"\")\n",
        "\n",
        "for i in range(new_strs):\n",
        "  if new_strs == new_strs[::-1]:\n",
        "    print(new_strs):\n",
        "  else:\n",
        "    new_strs[i],new_strs[:-1]"
      ],
      "metadata": {
        "id": "B9mI7KoiG44C"
      },
      "execution_count": null,
      "outputs": []
    },
    {
      "cell_type": "code",
      "source": [
        "def diamond(input_str):\n",
        "  length = len(input_str)\n",
        "\n",
        "  for i in range(length):\n",
        "    print(''*(length-i-1)+input_str[:i+1])\n",
        "  for i in range(length-2,-1,-1):\n",
        "    print(''*(length-i-1)+input_str[:i+1])\n",
        "  print()\n",
        "\n",
        "\n",
        "\n",
        "input_str = input()\n",
        "result = diamond(input_str)\n",
        "result\n",
        "\n"
      ],
      "metadata": {
        "colab": {
          "base_uri": "https://localhost:8080/"
        },
        "id": "yk9uFo7vz5SY",
        "outputId": "4c3dbb3c-d25d-4353-d574-0c761cae69b4"
      },
      "execution_count": null,
      "outputs": [
        {
          "output_type": "stream",
          "name": "stdout",
          "text": [
            "testing\n",
            "t\n",
            "te\n",
            "tes\n",
            "test\n",
            "testi\n",
            "testin\n",
            "testing\n",
            "testin\n",
            "testi\n",
            "test\n",
            "tes\n",
            "te\n",
            "t\n",
            "\n"
          ]
        }
      ]
    },
    {
      "cell_type": "code",
      "source": [],
      "metadata": {
        "id": "LoIFAc707KCz"
      },
      "execution_count": null,
      "outputs": []
    },
    {
      "cell_type": "code",
      "source": [],
      "metadata": {
        "id": "r9XumMKI7KFN"
      },
      "execution_count": null,
      "outputs": []
    },
    {
      "cell_type": "code",
      "source": [
        "def print_diamond(rows):\n",
        "  for i in range(1,rows+1):\n",
        "    print(\"\"*(rows-i)+\"*\"*i)\n",
        "  for i in range(rows-1,0,-1):\n",
        "    print(\"\"*(rows-i)+\"*\"*i)\n",
        "\n",
        "rows = 5\n",
        "print_diamond(rows)\n"
      ],
      "metadata": {
        "colab": {
          "base_uri": "https://localhost:8080/"
        },
        "id": "QVjou8uh05yb",
        "outputId": "56ad9685-1777-4f5b-8abd-eacff0c141ae"
      },
      "execution_count": null,
      "outputs": [
        {
          "output_type": "stream",
          "name": "stdout",
          "text": [
            "*\n",
            "**\n",
            "***\n",
            "****\n",
            "*****\n",
            "****\n",
            "***\n",
            "**\n",
            "*\n"
          ]
        }
      ]
    },
    {
      "cell_type": "code",
      "source": [
        "size = 5\n",
        "\n",
        "for i in range(size):\n",
        "  for j in range(1,size-i):\n",
        "    print(\" \",end=\"\")\n",
        "  for k in range(1,i+1):\n",
        "    print(\"*\",end=\"\")\n",
        "  print()\n",
        "for i in range(size):\n",
        "  for j in range(1,size-i):\n",
        "    print(\"*\",end=\"\")\n",
        "  print()"
      ],
      "metadata": {
        "id": "LkcwcfUh2jn2",
        "colab": {
          "base_uri": "https://localhost:8080/"
        },
        "outputId": "645adb6d-9231-4fa1-ba46-f1683d743dbb"
      },
      "execution_count": null,
      "outputs": [
        {
          "output_type": "stream",
          "name": "stdout",
          "text": [
            "    \n",
            "   *\n",
            "  **\n",
            " ***\n",
            "****\n",
            "****\n",
            "***\n",
            "**\n",
            "*\n",
            "\n"
          ]
        }
      ]
    },
    {
      "cell_type": "code",
      "source": [],
      "metadata": {
        "id": "GFGqiNP74_2u"
      },
      "execution_count": null,
      "outputs": []
    },
    {
      "cell_type": "code",
      "source": [
        "def print_diamond_pattern(input_string):\n",
        "    # Calculate the length of the input string\n",
        "    length = len(input_string)\n",
        "\n",
        "    # Print the upper half of the diamond\n",
        "    for i in range(length):\n",
        "        # Print spaces\n",
        "        print(\" \" * (length - i - 1), end=\"\")\n",
        "\n",
        "        # Print characters\n",
        "        for j in range(i + 1):\n",
        "            print(input_string[j], end=\"\")\n",
        "\n",
        "        # Print characters in reverse order except for the last one\n",
        "        for k in range(i - 1, -1, -1):\n",
        "            print(input_string[k], end=\"\")\n",
        "\n",
        "        # Move to the next line\n",
        "        print()\n",
        "\n",
        "    # Print the lower half of the diamond\n",
        "    for i in range(length - 2, -1, -1):\n",
        "        # Print spaces\n",
        "        print(\" \" * (length - i - 1), end=\"\")\n",
        "\n",
        "        # Print characters\n",
        "        for j in range(i + 1):\n",
        "            print(input_string[j], end=\"\")\n",
        "\n",
        "        # Print characters in reverse order except for the last one\n",
        "        for k in range(i - 1, -1, -1):\n",
        "            print(input_string[k], end=\"\")\n",
        "\n",
        "        # Move to the next line\n",
        "        print()\n",
        "\n",
        "# Test the function with 'testing' as input\n",
        "input_string = \"testing\"\n",
        "print_diamond_pattern(input_string)"
      ],
      "metadata": {
        "outputId": "7177e0ea-e415-47ea-8cb6-ff8d8b0e2de6",
        "colab": {
          "base_uri": "https://localhost:8080/"
        },
        "id": "WoilvT9j5AMA"
      },
      "execution_count": null,
      "outputs": [
        {
          "output_type": "stream",
          "name": "stdout",
          "text": [
            "      t\n",
            "     tet\n",
            "    teset\n",
            "   testset\n",
            "  testitset\n",
            " testinitset\n",
            "testingnitset\n",
            " testinitset\n",
            "  testitset\n",
            "   testset\n",
            "    teset\n",
            "     tet\n",
            "      t\n"
          ]
        }
      ]
    },
    {
      "cell_type": "code",
      "source": [
        "def linear_search(data,target):\n",
        "  if len(data)<=1:\n",
        "    return data\n",
        "  for i in range(len(data)):\n",
        "    if data[i]==target:\n",
        "      return i\n",
        "  return -1\n",
        "\n",
        "data = list(eval(input()))\n",
        "target = int(input())\n",
        "index= linear_search(data,target)\n",
        "\n",
        "if index!=-1:\n",
        "  print(f\"Target {target} found at index {index}\")\n",
        "else:\n",
        "  print(f\"target not found\")"
      ],
      "metadata": {
        "colab": {
          "base_uri": "https://localhost:8080/"
        },
        "id": "Cm2XhpNoTQtO",
        "outputId": "c65e61a0-abd6-4dac-9bc7-9d0d7d3698de"
      },
      "execution_count": null,
      "outputs": [
        {
          "output_type": "stream",
          "name": "stdout",
          "text": [
            "[98,25,45,36,2]\n",
            "2\n",
            "Target 2 found at index 4\n"
          ]
        }
      ]
    },
    {
      "cell_type": "code",
      "source": [
        "def bubble_sort(arr):\n",
        "  n = len(arr)\n",
        "\n",
        "  for i in range(n):\n",
        "    for j in range(0,n-i-1):\n",
        "      if arr[j]>arr[j+1]:\n",
        "        arr[j],arr[j+1]=arr[j+1],arr[j]\n",
        "\n",
        "arr = list(eval(input()))\n",
        "result = bubble_sort(arr)\n",
        "\n",
        "for i in range(len(arr)):\n",
        "  print(\"sorted array is :\",arr[i])"
      ],
      "metadata": {
        "colab": {
          "base_uri": "https://localhost:8080/"
        },
        "id": "p8H4f3gHUCDt",
        "outputId": "329ee7a9-8ee9-4e11-870b-67fa845769b4"
      },
      "execution_count": null,
      "outputs": [
        {
          "output_type": "stream",
          "name": "stdout",
          "text": [
            "[98,25,45,36,2]\n",
            "sorted array is : 2\n",
            "sorted array is : 25\n",
            "sorted array is : 36\n",
            "sorted array is : 45\n",
            "sorted array is : 98\n"
          ]
        }
      ]
    },
    {
      "cell_type": "code",
      "source": [
        "def vowels(input_str):\n",
        "  extracted_vowel = ''\n",
        "\n",
        "  for ch in input_str:\n",
        "    if ch in 'aeiouAEIOU':\n",
        "      extracted_vowel+=ch\n",
        "  return extracted_vowel\n",
        "\n",
        "\n",
        "T = int(input())\n",
        "\n",
        "for t in range(T):\n",
        "  test_word = input()\n",
        "  result = vowels(test_word)\n",
        "  print(result)"
      ],
      "metadata": {
        "colab": {
          "base_uri": "https://localhost:8080/"
        },
        "id": "tyfi0AgtU-7g",
        "outputId": "4bf3d92d-3f35-4936-bc75-105de1589c38"
      },
      "execution_count": null,
      "outputs": [
        {
          "output_type": "stream",
          "name": "stdout",
          "text": [
            "5\n",
            "almabetter\n",
            "aaee\n",
            "microsoft\n",
            "ioo\n",
            "accenture\n",
            "capegemini\n",
            "aeeii\n",
            "hello\n",
            "eo\n"
          ]
        }
      ]
    },
    {
      "cell_type": "code",
      "source": [
        "def multiply(A,B):\n",
        "  return int(A)* int(B)\n",
        "\n",
        "A = input()\n",
        "B= input()\n",
        "result = multiply(A,B)\n",
        "print(result)"
      ],
      "metadata": {
        "colab": {
          "base_uri": "https://localhost:8080/"
        },
        "id": "88Q9kZguU-5o",
        "outputId": "ef2b4c9f-b055-473e-b176-d0fd7b50222c"
      },
      "execution_count": null,
      "outputs": [
        {
          "output_type": "stream",
          "name": "stdout",
          "text": [
            "5\n",
            "5\n",
            "25\n"
          ]
        }
      ]
    },
    {
      "cell_type": "code",
      "source": [
        "def solution(A , K):\n",
        "     old = A\n",
        "     new = [0]*len(A)\n",
        "     for i in range(K):\n",
        "         new[0]=old[-1]\n",
        "         new[1:] = old[:-1]\n",
        "         old = new.copy() # This was the problematic line\n",
        "     return new\n",
        "\n",
        "solution('doselect', 2)\n",
        "\n",
        "\n"
      ],
      "metadata": {
        "id": "57075XKiWNQo",
        "colab": {
          "base_uri": "https://localhost:8080/"
        },
        "outputId": "1475ba99-a002-4088-d070-da8febb43b23"
      },
      "execution_count": null,
      "outputs": [
        {
          "output_type": "execute_result",
          "data": {
            "text/plain": [
              "['c', 't', 'd', 'o', 's', 'e', 'l', 'e']"
            ]
          },
          "metadata": {},
          "execution_count": 1
        }
      ]
    },
    {
      "cell_type": "code",
      "source": [
        "def string_motor(A,K):\n",
        "  return A[K:] + A[:K]\n",
        "\n",
        "A= input()\n",
        "K = int(input())\n",
        "\n",
        "result = string_motor(A,K)\n",
        "result"
      ],
      "metadata": {
        "colab": {
          "base_uri": "https://localhost:8080/",
          "height": 70
        },
        "id": "JvOFdXU4uh4p",
        "outputId": "3abe386f-c59d-41d2-9550-f994ab3c7b7f"
      },
      "execution_count": null,
      "outputs": [
        {
          "name": "stdout",
          "output_type": "stream",
          "text": [
            "doselect\n",
            "2\n"
          ]
        },
        {
          "output_type": "execute_result",
          "data": {
            "text/plain": [
              "'selectdo'"
            ],
            "application/vnd.google.colaboratory.intrinsic+json": {
              "type": "string"
            }
          },
          "metadata": {},
          "execution_count": 2
        }
      ]
    },
    {
      "cell_type": "code",
      "source": [
        "def rotate(A,K):\n",
        "  return  A[len(A)-K :] +  A[0:len(A)-K]\n",
        "\n",
        "A = input()\n",
        "K = int(input())\n",
        "res = rotate(A,K)\n",
        "res"
      ],
      "metadata": {
        "colab": {
          "base_uri": "https://localhost:8080/",
          "height": 70
        },
        "id": "vcMnwz1zu28H",
        "outputId": "219eafb7-3fe3-4aa3-9138-aee4f00ae893"
      },
      "execution_count": null,
      "outputs": [
        {
          "name": "stdout",
          "output_type": "stream",
          "text": [
            "doselect\n",
            "2\n"
          ]
        },
        {
          "output_type": "execute_result",
          "data": {
            "text/plain": [
              "'ctdosele'"
            ],
            "application/vnd.google.colaboratory.intrinsic+json": {
              "type": "string"
            }
          },
          "metadata": {},
          "execution_count": 4
        }
      ]
    },
    {
      "cell_type": "code",
      "source": [
        "# Function to rotate string left and right by d length\n",
        "\n",
        "def rotate(input,d):\n",
        "\n",
        "\t# slice string in two parts for left and right\n",
        "\tLfirst = input[0 : d]\n",
        "\tLsecond = input[d :]\n",
        "\tRfirst = input[0 : len(input)-d]\n",
        "\tRsecond = input[len(input)-d : ]\n",
        "\n",
        "\t# now concatenate two parts together\n",
        "\tprint (\"Left Rotation : \", (Lsecond + Lfirst) )\n",
        "\tprint (\"Right Rotation : \", (Rsecond + Rfirst))\n",
        "\n",
        "# Driver program\n",
        "if __name__ == \"__main__\":\n",
        "\tinput = 'GeeksforGeeks'\n",
        "\td=2\n",
        "\trotate(input,d)\n"
      ],
      "metadata": {
        "colab": {
          "base_uri": "https://localhost:8080/"
        },
        "id": "djbmCQRcwcP7",
        "outputId": "25474b25-aa6f-4840-f07b-9dd7234f4ee8"
      },
      "execution_count": null,
      "outputs": [
        {
          "output_type": "stream",
          "name": "stdout",
          "text": [
            "Left Rotation :  eksforGeeksGe\n",
            "Right Rotation :  ksGeeksforGee\n"
          ]
        }
      ]
    },
    {
      "cell_type": "code",
      "source": [
        "def print_diamond_pattern(input_string):\n",
        "    # Calculate the length of the input string\n",
        "    length = len(input_string)\n",
        "\n",
        "    # Print the upper half of the diamond\n",
        "    for i in range(length):\n",
        "        # Print spaces\n",
        "        print(\" \" * (length - i - 1), end=\"\")\n",
        "\n",
        "        # Print characters\n",
        "        for j in range(i + 1):\n",
        "            print(input_string[j], end=\"\")\n",
        "\n",
        "        # Print characters in reverse order except for the last one\n",
        "        for k in range(i - 1, -1, -1):\n",
        "            print(input_string[k], end=\"\")\n",
        "\n",
        "        # Move to the next line\n",
        "        print()\n",
        "\n",
        "    # Print the lower half of the diamond\n",
        "    for i in range(length - 2, -1, -1):\n",
        "        # Print spaces\n",
        "        print(\" \" * (length - i - 1), end=\"\")\n",
        "\n",
        "        # Print characters\n",
        "        for j in range(i + 1):\n",
        "            print(input_string[j], end=\"\")\n",
        "\n",
        "        # Print characters in reverse order except for the last one\n",
        "        for k in range(i - 1, -1, -1):\n",
        "            print(input_string[k], end=\"\")\n",
        "\n",
        "        # Move to the next line\n",
        "        print()\n",
        "\n",
        "# Test the function with 'testing' as input\n",
        "input_string = \"testing\"\n",
        "print_diamond_pattern(input_string)"
      ],
      "metadata": {
        "id": "D9OuMuDitHTL",
        "outputId": "7177e0ea-e415-47ea-8cb6-ff8d8b0e2de6",
        "colab": {
          "base_uri": "https://localhost:8080/"
        }
      },
      "execution_count": null,
      "outputs": [
        {
          "output_type": "stream",
          "name": "stdout",
          "text": [
            "      t\n",
            "     tet\n",
            "    teset\n",
            "   testset\n",
            "  testitset\n",
            " testinitset\n",
            "testingnitset\n",
            " testinitset\n",
            "  testitset\n",
            "   testset\n",
            "    teset\n",
            "     tet\n",
            "      t\n"
          ]
        }
      ]
    },
    {
      "cell_type": "code",
      "source": [
        "def is_armstrong(number):\n",
        "  test_num = len(str(number))\n",
        "  sum = 0\n",
        "  temp = number\n",
        "\n",
        "  while temp>0:\n",
        "    digit = temp%10\n",
        "    sum+=digit**test_num\n",
        "    temp//=10\n",
        "\n",
        "  if number == sum:\n",
        "    return True\n",
        "  else:\n",
        "    return False\n",
        "\n",
        "T = int(input())\n",
        "\n",
        "for t in range(T):\n",
        "  test_case = int(input())\n",
        "  if is_armstrong(test_case):\n",
        "    print(f\"Armstrong\")\n",
        "  else:\n",
        "    print(f\"Not Armstrong\")\n",
        "\n"
      ],
      "metadata": {
        "colab": {
          "base_uri": "https://localhost:8080/"
        },
        "id": "tHbnVS6l40DB",
        "outputId": "dbd07c02-e3ee-4a0f-d362-c1c6c9baaabc"
      },
      "execution_count": null,
      "outputs": [
        {
          "output_type": "stream",
          "name": "stdout",
          "text": [
            "3\n",
            "153\n",
            "Armstrong\n",
            "761\n",
            "Not Armstrong\n",
            "112\n",
            "Not Armstrong\n"
          ]
        }
      ]
    },
    {
      "cell_type": "code",
      "source": [
        "def bubble_Sort(arr):\n",
        "  n = len(arr)\n",
        "\n",
        "  for i in range(n):\n",
        "    for j in range(0,n-i-1):\n",
        "      if arr[j]>arr[j+1]:\n",
        "        arr[j],arr[j+1]=arr[j+1],arr[j]\n",
        "\n",
        "arr = list(eval(input()))\n",
        "bubble_Sort(arr)\n",
        "\n",
        "for i in range(len(arr)):\n",
        "  print(\"sorted array is :\",arr[i])"
      ],
      "metadata": {
        "colab": {
          "base_uri": "https://localhost:8080/"
        },
        "id": "h02EgZZl6SPh",
        "outputId": "6d11c8ec-f755-49a7-8ddd-98e83890ef52"
      },
      "execution_count": null,
      "outputs": [
        {
          "output_type": "stream",
          "name": "stdout",
          "text": [
            "[85,25,65,8,94,4,7]\n",
            "sorted array is : 4\n",
            "sorted array is : 7\n",
            "sorted array is : 8\n",
            "sorted array is : 25\n",
            "sorted array is : 65\n",
            "sorted array is : 85\n",
            "sorted array is : 94\n"
          ]
        }
      ]
    },
    {
      "cell_type": "markdown",
      "source": [
        "MEAN open rate and email_rate"
      ],
      "metadata": {
        "id": "2_ZxRkOu1NV5"
      }
    },
    {
      "cell_type": "code",
      "source": [
        "import pandas as pd\n",
        "\n",
        "data = {\n",
        "\n",
        "\n",
        "        'name': ['Microsoft','Apple','SoftBank','Amazon'],\n",
        "        'open_rate': [2025,2035,2045,5689],\n",
        "        'mean_open_rate':[2106,2361,1265,2145]\n",
        "}\n",
        "\n",
        "index = [1,2,3,4]\n",
        "df = pd.DataFrame(data,index = index)\n",
        "df\n",
        "\n",
        "print(df['open_rate']<df['mean_open_rate'])\n"
      ],
      "metadata": {
        "colab": {
          "base_uri": "https://localhost:8080/"
        },
        "id": "3gl2l0BvzWsb",
        "outputId": "ae1ff6ac-ec38-4b99-eece-07c8bc5b28fe"
      },
      "execution_count": null,
      "outputs": [
        {
          "output_type": "stream",
          "name": "stdout",
          "text": [
            "1     True\n",
            "2     True\n",
            "3    False\n",
            "4    False\n",
            "dtype: bool\n"
          ]
        }
      ]
    },
    {
      "cell_type": "code",
      "source": [
        "import pandas as pd\n",
        "import numpy as np\n",
        "data = {\n",
        "\n",
        "      'age':[3,4,5,5,np.nan,4.5,np.nan,5,6,7],\n",
        "      'visits':[1,2,1,2,1,3,1,1,2,2],\n",
        "      'name':['pintu','pluto','whisky','oscar','chiru','chintu','maggie','mike','kariya','chimtu']\n",
        "}\n",
        "labels = ['a','b','c','d','e','f','g','h','i','j']\n",
        "df = pd.DataFrame(data = data, index=labels)\n",
        "df\n",
        "\n",
        "print(df.describe())"
      ],
      "metadata": {
        "colab": {
          "base_uri": "https://localhost:8080/"
        },
        "id": "neP3zKFD1kBi",
        "outputId": "4bf93184-8bae-4f8a-f40d-1b6727001e1a"
      },
      "execution_count": null,
      "outputs": [
        {
          "output_type": "stream",
          "name": "stdout",
          "text": [
            "            age     visits\n",
            "count  8.000000  10.000000\n",
            "mean   4.937500   1.600000\n",
            "std    1.208231   0.699206\n",
            "min    3.000000   1.000000\n",
            "25%    4.375000   1.000000\n",
            "50%    5.000000   1.500000\n",
            "75%    5.250000   2.000000\n",
            "max    7.000000   3.000000\n"
          ]
        }
      ]
    },
    {
      "cell_type": "code",
      "source": [
        "data = {\n",
        "    'age': [25,35,45],\n",
        "    'name':['arun','bhava','mava'],\n",
        "    'salary':[25000,24500,45000]\n",
        "}\n",
        "\n",
        "df = pd.DataFrame(data)\n",
        "df.describe()"
      ],
      "metadata": {
        "colab": {
          "base_uri": "https://localhost:8080/",
          "height": 300
        },
        "id": "hoAxptbjZ6Jl",
        "outputId": "a1197e9a-4827-46e9-cbb1-539b812abe10"
      },
      "execution_count": null,
      "outputs": [
        {
          "output_type": "execute_result",
          "data": {
            "text/plain": [
              "        age        salary\n",
              "count   3.0      3.000000\n",
              "mean   35.0  31500.000000\n",
              "std    10.0  11694.015564\n",
              "min    25.0  24500.000000\n",
              "25%    30.0  24750.000000\n",
              "50%    35.0  25000.000000\n",
              "75%    40.0  35000.000000\n",
              "max    45.0  45000.000000"
            ],
            "text/html": [
              "\n",
              "  <div id=\"df-306f9f1f-d664-4f9c-8ba2-e9ebbea2781e\" class=\"colab-df-container\">\n",
              "    <div>\n",
              "<style scoped>\n",
              "    .dataframe tbody tr th:only-of-type {\n",
              "        vertical-align: middle;\n",
              "    }\n",
              "\n",
              "    .dataframe tbody tr th {\n",
              "        vertical-align: top;\n",
              "    }\n",
              "\n",
              "    .dataframe thead th {\n",
              "        text-align: right;\n",
              "    }\n",
              "</style>\n",
              "<table border=\"1\" class=\"dataframe\">\n",
              "  <thead>\n",
              "    <tr style=\"text-align: right;\">\n",
              "      <th></th>\n",
              "      <th>age</th>\n",
              "      <th>salary</th>\n",
              "    </tr>\n",
              "  </thead>\n",
              "  <tbody>\n",
              "    <tr>\n",
              "      <th>count</th>\n",
              "      <td>3.0</td>\n",
              "      <td>3.000000</td>\n",
              "    </tr>\n",
              "    <tr>\n",
              "      <th>mean</th>\n",
              "      <td>35.0</td>\n",
              "      <td>31500.000000</td>\n",
              "    </tr>\n",
              "    <tr>\n",
              "      <th>std</th>\n",
              "      <td>10.0</td>\n",
              "      <td>11694.015564</td>\n",
              "    </tr>\n",
              "    <tr>\n",
              "      <th>min</th>\n",
              "      <td>25.0</td>\n",
              "      <td>24500.000000</td>\n",
              "    </tr>\n",
              "    <tr>\n",
              "      <th>25%</th>\n",
              "      <td>30.0</td>\n",
              "      <td>24750.000000</td>\n",
              "    </tr>\n",
              "    <tr>\n",
              "      <th>50%</th>\n",
              "      <td>35.0</td>\n",
              "      <td>25000.000000</td>\n",
              "    </tr>\n",
              "    <tr>\n",
              "      <th>75%</th>\n",
              "      <td>40.0</td>\n",
              "      <td>35000.000000</td>\n",
              "    </tr>\n",
              "    <tr>\n",
              "      <th>max</th>\n",
              "      <td>45.0</td>\n",
              "      <td>45000.000000</td>\n",
              "    </tr>\n",
              "  </tbody>\n",
              "</table>\n",
              "</div>\n",
              "    <div class=\"colab-df-buttons\">\n",
              "\n",
              "  <div class=\"colab-df-container\">\n",
              "    <button class=\"colab-df-convert\" onclick=\"convertToInteractive('df-306f9f1f-d664-4f9c-8ba2-e9ebbea2781e')\"\n",
              "            title=\"Convert this dataframe to an interactive table.\"\n",
              "            style=\"display:none;\">\n",
              "\n",
              "  <svg xmlns=\"http://www.w3.org/2000/svg\" height=\"24px\" viewBox=\"0 -960 960 960\">\n",
              "    <path d=\"M120-120v-720h720v720H120Zm60-500h600v-160H180v160Zm220 220h160v-160H400v160Zm0 220h160v-160H400v160ZM180-400h160v-160H180v160Zm440 0h160v-160H620v160ZM180-180h160v-160H180v160Zm440 0h160v-160H620v160Z\"/>\n",
              "  </svg>\n",
              "    </button>\n",
              "\n",
              "  <style>\n",
              "    .colab-df-container {\n",
              "      display:flex;\n",
              "      gap: 12px;\n",
              "    }\n",
              "\n",
              "    .colab-df-convert {\n",
              "      background-color: #E8F0FE;\n",
              "      border: none;\n",
              "      border-radius: 50%;\n",
              "      cursor: pointer;\n",
              "      display: none;\n",
              "      fill: #1967D2;\n",
              "      height: 32px;\n",
              "      padding: 0 0 0 0;\n",
              "      width: 32px;\n",
              "    }\n",
              "\n",
              "    .colab-df-convert:hover {\n",
              "      background-color: #E2EBFA;\n",
              "      box-shadow: 0px 1px 2px rgba(60, 64, 67, 0.3), 0px 1px 3px 1px rgba(60, 64, 67, 0.15);\n",
              "      fill: #174EA6;\n",
              "    }\n",
              "\n",
              "    .colab-df-buttons div {\n",
              "      margin-bottom: 4px;\n",
              "    }\n",
              "\n",
              "    [theme=dark] .colab-df-convert {\n",
              "      background-color: #3B4455;\n",
              "      fill: #D2E3FC;\n",
              "    }\n",
              "\n",
              "    [theme=dark] .colab-df-convert:hover {\n",
              "      background-color: #434B5C;\n",
              "      box-shadow: 0px 1px 3px 1px rgba(0, 0, 0, 0.15);\n",
              "      filter: drop-shadow(0px 1px 2px rgba(0, 0, 0, 0.3));\n",
              "      fill: #FFFFFF;\n",
              "    }\n",
              "  </style>\n",
              "\n",
              "    <script>\n",
              "      const buttonEl =\n",
              "        document.querySelector('#df-306f9f1f-d664-4f9c-8ba2-e9ebbea2781e button.colab-df-convert');\n",
              "      buttonEl.style.display =\n",
              "        google.colab.kernel.accessAllowed ? 'block' : 'none';\n",
              "\n",
              "      async function convertToInteractive(key) {\n",
              "        const element = document.querySelector('#df-306f9f1f-d664-4f9c-8ba2-e9ebbea2781e');\n",
              "        const dataTable =\n",
              "          await google.colab.kernel.invokeFunction('convertToInteractive',\n",
              "                                                    [key], {});\n",
              "        if (!dataTable) return;\n",
              "\n",
              "        const docLinkHtml = 'Like what you see? Visit the ' +\n",
              "          '<a target=\"_blank\" href=https://colab.research.google.com/notebooks/data_table.ipynb>data table notebook</a>'\n",
              "          + ' to learn more about interactive tables.';\n",
              "        element.innerHTML = '';\n",
              "        dataTable['output_type'] = 'display_data';\n",
              "        await google.colab.output.renderOutput(dataTable, element);\n",
              "        const docLink = document.createElement('div');\n",
              "        docLink.innerHTML = docLinkHtml;\n",
              "        element.appendChild(docLink);\n",
              "      }\n",
              "    </script>\n",
              "  </div>\n",
              "\n",
              "\n",
              "<div id=\"df-e0febbc2-59c2-4679-8c29-224c53a86714\">\n",
              "  <button class=\"colab-df-quickchart\" onclick=\"quickchart('df-e0febbc2-59c2-4679-8c29-224c53a86714')\"\n",
              "            title=\"Suggest charts\"\n",
              "            style=\"display:none;\">\n",
              "\n",
              "<svg xmlns=\"http://www.w3.org/2000/svg\" height=\"24px\"viewBox=\"0 0 24 24\"\n",
              "     width=\"24px\">\n",
              "    <g>\n",
              "        <path d=\"M19 3H5c-1.1 0-2 .9-2 2v14c0 1.1.9 2 2 2h14c1.1 0 2-.9 2-2V5c0-1.1-.9-2-2-2zM9 17H7v-7h2v7zm4 0h-2V7h2v10zm4 0h-2v-4h2v4z\"/>\n",
              "    </g>\n",
              "</svg>\n",
              "  </button>\n",
              "\n",
              "<style>\n",
              "  .colab-df-quickchart {\n",
              "      --bg-color: #E8F0FE;\n",
              "      --fill-color: #1967D2;\n",
              "      --hover-bg-color: #E2EBFA;\n",
              "      --hover-fill-color: #174EA6;\n",
              "      --disabled-fill-color: #AAA;\n",
              "      --disabled-bg-color: #DDD;\n",
              "  }\n",
              "\n",
              "  [theme=dark] .colab-df-quickchart {\n",
              "      --bg-color: #3B4455;\n",
              "      --fill-color: #D2E3FC;\n",
              "      --hover-bg-color: #434B5C;\n",
              "      --hover-fill-color: #FFFFFF;\n",
              "      --disabled-bg-color: #3B4455;\n",
              "      --disabled-fill-color: #666;\n",
              "  }\n",
              "\n",
              "  .colab-df-quickchart {\n",
              "    background-color: var(--bg-color);\n",
              "    border: none;\n",
              "    border-radius: 50%;\n",
              "    cursor: pointer;\n",
              "    display: none;\n",
              "    fill: var(--fill-color);\n",
              "    height: 32px;\n",
              "    padding: 0;\n",
              "    width: 32px;\n",
              "  }\n",
              "\n",
              "  .colab-df-quickchart:hover {\n",
              "    background-color: var(--hover-bg-color);\n",
              "    box-shadow: 0 1px 2px rgba(60, 64, 67, 0.3), 0 1px 3px 1px rgba(60, 64, 67, 0.15);\n",
              "    fill: var(--button-hover-fill-color);\n",
              "  }\n",
              "\n",
              "  .colab-df-quickchart-complete:disabled,\n",
              "  .colab-df-quickchart-complete:disabled:hover {\n",
              "    background-color: var(--disabled-bg-color);\n",
              "    fill: var(--disabled-fill-color);\n",
              "    box-shadow: none;\n",
              "  }\n",
              "\n",
              "  .colab-df-spinner {\n",
              "    border: 2px solid var(--fill-color);\n",
              "    border-color: transparent;\n",
              "    border-bottom-color: var(--fill-color);\n",
              "    animation:\n",
              "      spin 1s steps(1) infinite;\n",
              "  }\n",
              "\n",
              "  @keyframes spin {\n",
              "    0% {\n",
              "      border-color: transparent;\n",
              "      border-bottom-color: var(--fill-color);\n",
              "      border-left-color: var(--fill-color);\n",
              "    }\n",
              "    20% {\n",
              "      border-color: transparent;\n",
              "      border-left-color: var(--fill-color);\n",
              "      border-top-color: var(--fill-color);\n",
              "    }\n",
              "    30% {\n",
              "      border-color: transparent;\n",
              "      border-left-color: var(--fill-color);\n",
              "      border-top-color: var(--fill-color);\n",
              "      border-right-color: var(--fill-color);\n",
              "    }\n",
              "    40% {\n",
              "      border-color: transparent;\n",
              "      border-right-color: var(--fill-color);\n",
              "      border-top-color: var(--fill-color);\n",
              "    }\n",
              "    60% {\n",
              "      border-color: transparent;\n",
              "      border-right-color: var(--fill-color);\n",
              "    }\n",
              "    80% {\n",
              "      border-color: transparent;\n",
              "      border-right-color: var(--fill-color);\n",
              "      border-bottom-color: var(--fill-color);\n",
              "    }\n",
              "    90% {\n",
              "      border-color: transparent;\n",
              "      border-bottom-color: var(--fill-color);\n",
              "    }\n",
              "  }\n",
              "</style>\n",
              "\n",
              "  <script>\n",
              "    async function quickchart(key) {\n",
              "      const quickchartButtonEl =\n",
              "        document.querySelector('#' + key + ' button');\n",
              "      quickchartButtonEl.disabled = true;  // To prevent multiple clicks.\n",
              "      quickchartButtonEl.classList.add('colab-df-spinner');\n",
              "      try {\n",
              "        const charts = await google.colab.kernel.invokeFunction(\n",
              "            'suggestCharts', [key], {});\n",
              "      } catch (error) {\n",
              "        console.error('Error during call to suggestCharts:', error);\n",
              "      }\n",
              "      quickchartButtonEl.classList.remove('colab-df-spinner');\n",
              "      quickchartButtonEl.classList.add('colab-df-quickchart-complete');\n",
              "    }\n",
              "    (() => {\n",
              "      let quickchartButtonEl =\n",
              "        document.querySelector('#df-e0febbc2-59c2-4679-8c29-224c53a86714 button');\n",
              "      quickchartButtonEl.style.display =\n",
              "        google.colab.kernel.accessAllowed ? 'block' : 'none';\n",
              "    })();\n",
              "  </script>\n",
              "</div>\n",
              "\n",
              "    </div>\n",
              "  </div>\n"
            ],
            "application/vnd.google.colaboratory.intrinsic+json": {
              "type": "dataframe",
              "summary": "{\n  \"name\": \"df\",\n  \"rows\": 8,\n  \"fields\": [\n    {\n      \"column\": \"age\",\n      \"properties\": {\n        \"dtype\": \"number\",\n        \"std\": 14.603693270637299,\n        \"min\": 3.0,\n        \"max\": 45.0,\n        \"num_unique_values\": 7,\n        \"samples\": [\n          3.0,\n          35.0,\n          40.0\n        ],\n        \"semantic_type\": \"\",\n        \"description\": \"\"\n      }\n    },\n    {\n      \"column\": \"salary\",\n      \"properties\": {\n        \"dtype\": \"number\",\n        \"std\": 13854.586732157206,\n        \"min\": 3.0,\n        \"max\": 45000.0,\n        \"num_unique_values\": 8,\n        \"samples\": [\n          31500.0,\n          25000.0,\n          3.0\n        ],\n        \"semantic_type\": \"\",\n        \"description\": \"\"\n      }\n    }\n  ]\n}"
            }
          },
          "metadata": {},
          "execution_count": 3
        }
      ]
    },
    {
      "cell_type": "code",
      "source": [
        "data = {\n",
        "    'age': [25,35,45],\n",
        "    'name':['arun','bhava','mava'],\n",
        "    'salary':[25000,24500,45000]\n",
        "}\n",
        "\n",
        "import pandas as pd\n",
        "\n",
        "df = pd.DataFrame(data)\n",
        "df.describe()"
      ],
      "metadata": {
        "colab": {
          "base_uri": "https://localhost:8080/",
          "height": 300
        },
        "id": "q6se494ycEIX",
        "outputId": "975b421c-6244-4062-d165-a7f8bf0e2e77"
      },
      "execution_count": null,
      "outputs": [
        {
          "output_type": "execute_result",
          "data": {
            "text/plain": [
              "        age        salary\n",
              "count   3.0      3.000000\n",
              "mean   35.0  31500.000000\n",
              "std    10.0  11694.015564\n",
              "min    25.0  24500.000000\n",
              "25%    30.0  24750.000000\n",
              "50%    35.0  25000.000000\n",
              "75%    40.0  35000.000000\n",
              "max    45.0  45000.000000"
            ],
            "text/html": [
              "\n",
              "  <div id=\"df-9a48d265-6076-4398-ab46-43a1e9b663b6\" class=\"colab-df-container\">\n",
              "    <div>\n",
              "<style scoped>\n",
              "    .dataframe tbody tr th:only-of-type {\n",
              "        vertical-align: middle;\n",
              "    }\n",
              "\n",
              "    .dataframe tbody tr th {\n",
              "        vertical-align: top;\n",
              "    }\n",
              "\n",
              "    .dataframe thead th {\n",
              "        text-align: right;\n",
              "    }\n",
              "</style>\n",
              "<table border=\"1\" class=\"dataframe\">\n",
              "  <thead>\n",
              "    <tr style=\"text-align: right;\">\n",
              "      <th></th>\n",
              "      <th>age</th>\n",
              "      <th>salary</th>\n",
              "    </tr>\n",
              "  </thead>\n",
              "  <tbody>\n",
              "    <tr>\n",
              "      <th>count</th>\n",
              "      <td>3.0</td>\n",
              "      <td>3.000000</td>\n",
              "    </tr>\n",
              "    <tr>\n",
              "      <th>mean</th>\n",
              "      <td>35.0</td>\n",
              "      <td>31500.000000</td>\n",
              "    </tr>\n",
              "    <tr>\n",
              "      <th>std</th>\n",
              "      <td>10.0</td>\n",
              "      <td>11694.015564</td>\n",
              "    </tr>\n",
              "    <tr>\n",
              "      <th>min</th>\n",
              "      <td>25.0</td>\n",
              "      <td>24500.000000</td>\n",
              "    </tr>\n",
              "    <tr>\n",
              "      <th>25%</th>\n",
              "      <td>30.0</td>\n",
              "      <td>24750.000000</td>\n",
              "    </tr>\n",
              "    <tr>\n",
              "      <th>50%</th>\n",
              "      <td>35.0</td>\n",
              "      <td>25000.000000</td>\n",
              "    </tr>\n",
              "    <tr>\n",
              "      <th>75%</th>\n",
              "      <td>40.0</td>\n",
              "      <td>35000.000000</td>\n",
              "    </tr>\n",
              "    <tr>\n",
              "      <th>max</th>\n",
              "      <td>45.0</td>\n",
              "      <td>45000.000000</td>\n",
              "    </tr>\n",
              "  </tbody>\n",
              "</table>\n",
              "</div>\n",
              "    <div class=\"colab-df-buttons\">\n",
              "\n",
              "  <div class=\"colab-df-container\">\n",
              "    <button class=\"colab-df-convert\" onclick=\"convertToInteractive('df-9a48d265-6076-4398-ab46-43a1e9b663b6')\"\n",
              "            title=\"Convert this dataframe to an interactive table.\"\n",
              "            style=\"display:none;\">\n",
              "\n",
              "  <svg xmlns=\"http://www.w3.org/2000/svg\" height=\"24px\" viewBox=\"0 -960 960 960\">\n",
              "    <path d=\"M120-120v-720h720v720H120Zm60-500h600v-160H180v160Zm220 220h160v-160H400v160Zm0 220h160v-160H400v160ZM180-400h160v-160H180v160Zm440 0h160v-160H620v160ZM180-180h160v-160H180v160Zm440 0h160v-160H620v160Z\"/>\n",
              "  </svg>\n",
              "    </button>\n",
              "\n",
              "  <style>\n",
              "    .colab-df-container {\n",
              "      display:flex;\n",
              "      gap: 12px;\n",
              "    }\n",
              "\n",
              "    .colab-df-convert {\n",
              "      background-color: #E8F0FE;\n",
              "      border: none;\n",
              "      border-radius: 50%;\n",
              "      cursor: pointer;\n",
              "      display: none;\n",
              "      fill: #1967D2;\n",
              "      height: 32px;\n",
              "      padding: 0 0 0 0;\n",
              "      width: 32px;\n",
              "    }\n",
              "\n",
              "    .colab-df-convert:hover {\n",
              "      background-color: #E2EBFA;\n",
              "      box-shadow: 0px 1px 2px rgba(60, 64, 67, 0.3), 0px 1px 3px 1px rgba(60, 64, 67, 0.15);\n",
              "      fill: #174EA6;\n",
              "    }\n",
              "\n",
              "    .colab-df-buttons div {\n",
              "      margin-bottom: 4px;\n",
              "    }\n",
              "\n",
              "    [theme=dark] .colab-df-convert {\n",
              "      background-color: #3B4455;\n",
              "      fill: #D2E3FC;\n",
              "    }\n",
              "\n",
              "    [theme=dark] .colab-df-convert:hover {\n",
              "      background-color: #434B5C;\n",
              "      box-shadow: 0px 1px 3px 1px rgba(0, 0, 0, 0.15);\n",
              "      filter: drop-shadow(0px 1px 2px rgba(0, 0, 0, 0.3));\n",
              "      fill: #FFFFFF;\n",
              "    }\n",
              "  </style>\n",
              "\n",
              "    <script>\n",
              "      const buttonEl =\n",
              "        document.querySelector('#df-9a48d265-6076-4398-ab46-43a1e9b663b6 button.colab-df-convert');\n",
              "      buttonEl.style.display =\n",
              "        google.colab.kernel.accessAllowed ? 'block' : 'none';\n",
              "\n",
              "      async function convertToInteractive(key) {\n",
              "        const element = document.querySelector('#df-9a48d265-6076-4398-ab46-43a1e9b663b6');\n",
              "        const dataTable =\n",
              "          await google.colab.kernel.invokeFunction('convertToInteractive',\n",
              "                                                    [key], {});\n",
              "        if (!dataTable) return;\n",
              "\n",
              "        const docLinkHtml = 'Like what you see? Visit the ' +\n",
              "          '<a target=\"_blank\" href=https://colab.research.google.com/notebooks/data_table.ipynb>data table notebook</a>'\n",
              "          + ' to learn more about interactive tables.';\n",
              "        element.innerHTML = '';\n",
              "        dataTable['output_type'] = 'display_data';\n",
              "        await google.colab.output.renderOutput(dataTable, element);\n",
              "        const docLink = document.createElement('div');\n",
              "        docLink.innerHTML = docLinkHtml;\n",
              "        element.appendChild(docLink);\n",
              "      }\n",
              "    </script>\n",
              "  </div>\n",
              "\n",
              "\n",
              "<div id=\"df-e6bed7cb-b9cd-43d3-bbb5-620b0999d3da\">\n",
              "  <button class=\"colab-df-quickchart\" onclick=\"quickchart('df-e6bed7cb-b9cd-43d3-bbb5-620b0999d3da')\"\n",
              "            title=\"Suggest charts\"\n",
              "            style=\"display:none;\">\n",
              "\n",
              "<svg xmlns=\"http://www.w3.org/2000/svg\" height=\"24px\"viewBox=\"0 0 24 24\"\n",
              "     width=\"24px\">\n",
              "    <g>\n",
              "        <path d=\"M19 3H5c-1.1 0-2 .9-2 2v14c0 1.1.9 2 2 2h14c1.1 0 2-.9 2-2V5c0-1.1-.9-2-2-2zM9 17H7v-7h2v7zm4 0h-2V7h2v10zm4 0h-2v-4h2v4z\"/>\n",
              "    </g>\n",
              "</svg>\n",
              "  </button>\n",
              "\n",
              "<style>\n",
              "  .colab-df-quickchart {\n",
              "      --bg-color: #E8F0FE;\n",
              "      --fill-color: #1967D2;\n",
              "      --hover-bg-color: #E2EBFA;\n",
              "      --hover-fill-color: #174EA6;\n",
              "      --disabled-fill-color: #AAA;\n",
              "      --disabled-bg-color: #DDD;\n",
              "  }\n",
              "\n",
              "  [theme=dark] .colab-df-quickchart {\n",
              "      --bg-color: #3B4455;\n",
              "      --fill-color: #D2E3FC;\n",
              "      --hover-bg-color: #434B5C;\n",
              "      --hover-fill-color: #FFFFFF;\n",
              "      --disabled-bg-color: #3B4455;\n",
              "      --disabled-fill-color: #666;\n",
              "  }\n",
              "\n",
              "  .colab-df-quickchart {\n",
              "    background-color: var(--bg-color);\n",
              "    border: none;\n",
              "    border-radius: 50%;\n",
              "    cursor: pointer;\n",
              "    display: none;\n",
              "    fill: var(--fill-color);\n",
              "    height: 32px;\n",
              "    padding: 0;\n",
              "    width: 32px;\n",
              "  }\n",
              "\n",
              "  .colab-df-quickchart:hover {\n",
              "    background-color: var(--hover-bg-color);\n",
              "    box-shadow: 0 1px 2px rgba(60, 64, 67, 0.3), 0 1px 3px 1px rgba(60, 64, 67, 0.15);\n",
              "    fill: var(--button-hover-fill-color);\n",
              "  }\n",
              "\n",
              "  .colab-df-quickchart-complete:disabled,\n",
              "  .colab-df-quickchart-complete:disabled:hover {\n",
              "    background-color: var(--disabled-bg-color);\n",
              "    fill: var(--disabled-fill-color);\n",
              "    box-shadow: none;\n",
              "  }\n",
              "\n",
              "  .colab-df-spinner {\n",
              "    border: 2px solid var(--fill-color);\n",
              "    border-color: transparent;\n",
              "    border-bottom-color: var(--fill-color);\n",
              "    animation:\n",
              "      spin 1s steps(1) infinite;\n",
              "  }\n",
              "\n",
              "  @keyframes spin {\n",
              "    0% {\n",
              "      border-color: transparent;\n",
              "      border-bottom-color: var(--fill-color);\n",
              "      border-left-color: var(--fill-color);\n",
              "    }\n",
              "    20% {\n",
              "      border-color: transparent;\n",
              "      border-left-color: var(--fill-color);\n",
              "      border-top-color: var(--fill-color);\n",
              "    }\n",
              "    30% {\n",
              "      border-color: transparent;\n",
              "      border-left-color: var(--fill-color);\n",
              "      border-top-color: var(--fill-color);\n",
              "      border-right-color: var(--fill-color);\n",
              "    }\n",
              "    40% {\n",
              "      border-color: transparent;\n",
              "      border-right-color: var(--fill-color);\n",
              "      border-top-color: var(--fill-color);\n",
              "    }\n",
              "    60% {\n",
              "      border-color: transparent;\n",
              "      border-right-color: var(--fill-color);\n",
              "    }\n",
              "    80% {\n",
              "      border-color: transparent;\n",
              "      border-right-color: var(--fill-color);\n",
              "      border-bottom-color: var(--fill-color);\n",
              "    }\n",
              "    90% {\n",
              "      border-color: transparent;\n",
              "      border-bottom-color: var(--fill-color);\n",
              "    }\n",
              "  }\n",
              "</style>\n",
              "\n",
              "  <script>\n",
              "    async function quickchart(key) {\n",
              "      const quickchartButtonEl =\n",
              "        document.querySelector('#' + key + ' button');\n",
              "      quickchartButtonEl.disabled = true;  // To prevent multiple clicks.\n",
              "      quickchartButtonEl.classList.add('colab-df-spinner');\n",
              "      try {\n",
              "        const charts = await google.colab.kernel.invokeFunction(\n",
              "            'suggestCharts', [key], {});\n",
              "      } catch (error) {\n",
              "        console.error('Error during call to suggestCharts:', error);\n",
              "      }\n",
              "      quickchartButtonEl.classList.remove('colab-df-spinner');\n",
              "      quickchartButtonEl.classList.add('colab-df-quickchart-complete');\n",
              "    }\n",
              "    (() => {\n",
              "      let quickchartButtonEl =\n",
              "        document.querySelector('#df-e6bed7cb-b9cd-43d3-bbb5-620b0999d3da button');\n",
              "      quickchartButtonEl.style.display =\n",
              "        google.colab.kernel.accessAllowed ? 'block' : 'none';\n",
              "    })();\n",
              "  </script>\n",
              "</div>\n",
              "\n",
              "    </div>\n",
              "  </div>\n"
            ],
            "application/vnd.google.colaboratory.intrinsic+json": {
              "type": "dataframe",
              "summary": "{\n  \"name\": \"df\",\n  \"rows\": 8,\n  \"fields\": [\n    {\n      \"column\": \"age\",\n      \"properties\": {\n        \"dtype\": \"number\",\n        \"std\": 14.603693270637299,\n        \"min\": 3.0,\n        \"max\": 45.0,\n        \"num_unique_values\": 7,\n        \"samples\": [\n          3.0,\n          35.0,\n          40.0\n        ],\n        \"semantic_type\": \"\",\n        \"description\": \"\"\n      }\n    },\n    {\n      \"column\": \"salary\",\n      \"properties\": {\n        \"dtype\": \"number\",\n        \"std\": 13854.586732157206,\n        \"min\": 3.0,\n        \"max\": 45000.0,\n        \"num_unique_values\": 8,\n        \"samples\": [\n          31500.0,\n          25000.0,\n          3.0\n        ],\n        \"semantic_type\": \"\",\n        \"description\": \"\"\n      }\n    }\n  ]\n}"
            }
          },
          "metadata": {},
          "execution_count": 32
        }
      ]
    },
    {
      "cell_type": "code",
      "source": [
        "data = {\n",
        "    'age': [25,35,45],\n",
        "    'name':['arun','bhava','mava'],\n",
        "    'salary':[25000,24500,45000],\n",
        "    'mean_salary':[22000,21500,35000]\n",
        "}\n",
        "\n",
        "df = pd.DataFrame(data)\n",
        "print(df['salary']<df['mean_salary'])"
      ],
      "metadata": {
        "colab": {
          "base_uri": "https://localhost:8080/"
        },
        "id": "78OBhaNcck_-",
        "outputId": "81f0ad23-a483-46bc-8adf-df3d675f13f8"
      },
      "execution_count": null,
      "outputs": [
        {
          "output_type": "stream",
          "name": "stdout",
          "text": [
            "0    False\n",
            "1    False\n",
            "2    False\n",
            "dtype: bool\n"
          ]
        }
      ]
    },
    {
      "cell_type": "code",
      "source": [
        "def string_motor(A,K):\n",
        "  return A[K:] + A[:K]\n",
        "\n",
        "A = input()\n",
        "K = int(input())\n",
        "print(string_motor(A,K))"
      ],
      "metadata": {
        "colab": {
          "base_uri": "https://localhost:8080/"
        },
        "id": "6zdn4DlJ3Nml",
        "outputId": "7540176d-db80-4f46-a551-846a6e9e4154"
      },
      "execution_count": null,
      "outputs": [
        {
          "output_type": "stream",
          "name": "stdout",
          "text": [
            "doselect\n",
            "2\n",
            "selectdo\n"
          ]
        }
      ]
    },
    {
      "cell_type": "code",
      "source": [
        "def string(A,PATTERN,K):\n",
        "  return A[:K] + PATTERN + A[K+1:]\n",
        "\n",
        "A = input()\n",
        "K = int(input())\n",
        "PATTERN = input()\n",
        "print(string(A,PATTERN,K))"
      ],
      "metadata": {
        "colab": {
          "base_uri": "https://localhost:8080/"
        },
        "id": "ZzWUw0KuabEC",
        "outputId": "dbffd8f6-da0d-4c23-feeb-a20533aac2c6"
      },
      "execution_count": null,
      "outputs": [
        {
          "output_type": "stream",
          "name": "stdout",
          "text": [
            "ABRACADARBA\n",
            "5\n",
            "K\n",
            "ABRACKDARBA\n"
          ]
        }
      ]
    },
    {
      "cell_type": "code",
      "source": [
        "def string_multiply(a,b):\n",
        "  return int(a)*int(b)\n",
        "\n",
        "a = input()\n",
        "b = input()\n",
        "print(string_multiply(a,b))"
      ],
      "metadata": {
        "colab": {
          "base_uri": "https://localhost:8080/"
        },
        "id": "rmGQ_C1ybMig",
        "outputId": "86b7a778-495a-4c1c-ac8f-c409fd042d1a"
      },
      "execution_count": null,
      "outputs": [
        {
          "output_type": "stream",
          "name": "stdout",
          "text": [
            "5\n",
            "5\n",
            "25\n"
          ]
        }
      ]
    },
    {
      "cell_type": "code",
      "source": [
        "def extracted_vowels(input_str):\n",
        "  extracted = ''\n",
        "\n",
        "  for ch in input_str:\n",
        "    if ch in 'aeiouAEIOU':\n",
        "      extracted+=ch\n",
        "  return extracted\n",
        "\n",
        "T = int(input())\n",
        "\n",
        "for t in range(T):\n",
        "  test_words = input()\n",
        "  result = extracted_vowels(test_words)\n",
        "  print(result)"
      ],
      "metadata": {
        "colab": {
          "base_uri": "https://localhost:8080/"
        },
        "id": "wTcKcaDsbOsl",
        "outputId": "afe3c59c-205b-4a4a-991c-46eae69147fa"
      },
      "execution_count": null,
      "outputs": [
        {
          "output_type": "stream",
          "name": "stdout",
          "text": [
            "3\n",
            "Almabetter\n",
            "Aaee\n",
            "james\n",
            "ae\n",
            "mike\n",
            "ie\n"
          ]
        }
      ]
    },
    {
      "cell_type": "code",
      "source": [
        "def Extracted_vowels(input_str):\n",
        "  extracted = ''\n",
        "\n",
        "  for ch in input_str:\n",
        "    if ch in 'aeiouAEIOU':\n",
        "      extracted+=ch\n",
        "  return extracted\n",
        "\n",
        "T = int(input())\n",
        "\n",
        "for t in range(T):\n",
        "  test_words = input()\n",
        "  result =  Extracted_vowels(test_words)\n",
        "  print(result)\n"
      ],
      "metadata": {
        "colab": {
          "base_uri": "https://localhost:8080/"
        },
        "id": "FxlIKpRJYz6h",
        "outputId": "b8c864ba-b373-4c59-d1c7-190fe2d6edd2"
      },
      "execution_count": null,
      "outputs": [
        {
          "output_type": "stream",
          "name": "stdout",
          "text": [
            "5\n",
            "AlmaBetter\n",
            "Aaee\n",
            "Scaler\n",
            "ae\n",
            "Interlipaat\n",
            "Ieiaa\n",
            "Udemy\n",
            "Ue\n",
            "Coursera\n",
            "ouea\n"
          ]
        }
      ]
    },
    {
      "cell_type": "code",
      "source": [
        "def multiply(A,B):\n",
        "  return int(A)*int(B)\n",
        "\n",
        "A = input()\n",
        "B = input()\n",
        "multiply(A,B)"
      ],
      "metadata": {
        "colab": {
          "base_uri": "https://localhost:8080/"
        },
        "id": "FqX2K4tzb2XP",
        "outputId": "1f5311f5-9cdb-42a1-bb3c-01b65ca25b07"
      },
      "execution_count": null,
      "outputs": [
        {
          "name": "stdout",
          "output_type": "stream",
          "text": [
            "5\n",
            "5\n"
          ]
        },
        {
          "output_type": "execute_result",
          "data": {
            "text/plain": [
              "25"
            ]
          },
          "metadata": {},
          "execution_count": 31
        }
      ]
    },
    {
      "cell_type": "code",
      "source": [],
      "metadata": {
        "id": "dJZklnbeb2VW"
      },
      "execution_count": null,
      "outputs": []
    },
    {
      "cell_type": "code",
      "source": [
        "def Extracted_vowels(T,input_str):\n",
        "  extracted = ''\n",
        "\n",
        "  for ch in input_str:\n",
        "    if ch in 'aeiouAEIOU':\n",
        "      extracted+=ch\n",
        "  return Extracted_vowels\n",
        "  for t in range(T):\n",
        "    result =  Extracted_vowels(input_str)\n",
        "  return result\n",
        "\n",
        "\n",
        "T = int(input())\n",
        "input_str = input()\n",
        "Extracted_vowels(T,input_str)"
      ],
      "metadata": {
        "colab": {
          "base_uri": "https://localhost:8080/",
          "height": 211
        },
        "id": "wFC-5ilnZnfW",
        "outputId": "206ddaab-ba30-4f1a-a81e-5d4b9b751bb5"
      },
      "execution_count": null,
      "outputs": [
        {
          "output_type": "error",
          "ename": "TypeError",
          "evalue": "'str' object is not callable",
          "traceback": [
            "\u001b[0;31m---------------------------------------------------------------------------\u001b[0m",
            "\u001b[0;31mTypeError\u001b[0m                                 Traceback (most recent call last)",
            "\u001b[0;32m<ipython-input-19-b689c3ff5da0>\u001b[0m in \u001b[0;36m<cell line: 13>\u001b[0;34m()\u001b[0m\n\u001b[1;32m     11\u001b[0m \u001b[0;34m\u001b[0m\u001b[0m\n\u001b[1;32m     12\u001b[0m \u001b[0;34m\u001b[0m\u001b[0m\n\u001b[0;32m---> 13\u001b[0;31m \u001b[0mT\u001b[0m \u001b[0;34m=\u001b[0m \u001b[0mint\u001b[0m\u001b[0;34m(\u001b[0m\u001b[0minput\u001b[0m\u001b[0;34m(\u001b[0m\u001b[0;34m)\u001b[0m\u001b[0;34m)\u001b[0m\u001b[0;34m\u001b[0m\u001b[0;34m\u001b[0m\u001b[0m\n\u001b[0m\u001b[1;32m     14\u001b[0m \u001b[0minput_str\u001b[0m \u001b[0;34m=\u001b[0m \u001b[0minput\u001b[0m\u001b[0;34m(\u001b[0m\u001b[0;34m)\u001b[0m\u001b[0;34m\u001b[0m\u001b[0;34m\u001b[0m\u001b[0m\n\u001b[1;32m     15\u001b[0m \u001b[0mExtracted_vowels\u001b[0m\u001b[0;34m(\u001b[0m\u001b[0mT\u001b[0m\u001b[0;34m,\u001b[0m\u001b[0minput_str\u001b[0m\u001b[0;34m)\u001b[0m\u001b[0;34m\u001b[0m\u001b[0;34m\u001b[0m\u001b[0m\n",
            "\u001b[0;31mTypeError\u001b[0m: 'str' object is not callable"
          ]
        }
      ]
    },
    {
      "cell_type": "code",
      "source": [
        "size = 5\n",
        "\n",
        "for i in range(size):\n",
        "  for j in range(size-i):\n",
        "    print(\" \",end=\"\")\n",
        "  for k in range(0,i+1):\n",
        "    print(\"*\",end=\"\")\n",
        "  print()\n",
        "\n",
        "for i in range(size):\n",
        "  for j in range(size-i):\n",
        "    print(\"*\",end=\"\")\n",
        "  print()\n"
      ],
      "metadata": {
        "colab": {
          "base_uri": "https://localhost:8080/"
        },
        "id": "qui9KGUVbYfB",
        "outputId": "1036f67c-c3af-4ebc-90a5-35c35990c2a3"
      },
      "execution_count": null,
      "outputs": [
        {
          "output_type": "stream",
          "name": "stdout",
          "text": [
            "     *\n",
            "    **\n",
            "   ***\n",
            "  ****\n",
            " *****\n",
            "*****\n",
            "****\n",
            "***\n",
            "**\n",
            "*\n"
          ]
        }
      ]
    },
    {
      "cell_type": "code",
      "source": [],
      "metadata": {
        "id": "DLLTIuqicnHg"
      },
      "execution_count": null,
      "outputs": []
    },
    {
      "cell_type": "code",
      "source": [
        "input_string = 'testing'\n",
        "size = len(input_string)\n",
        "\n",
        "for i in range(size):\n",
        "    for j in range(size - i):\n",
        "        print(\" \", end=\"\")\n",
        "    for k in range(0, i + 1):\n",
        "        print(\"*\", end=\"\")\n",
        "    print()\n",
        "\n",
        "for i in range(size):\n",
        "    for j in range(size - i):\n",
        "        print(\"*\", end=\"\")\n",
        "    print()\n"
      ],
      "metadata": {
        "colab": {
          "base_uri": "https://localhost:8080/"
        },
        "id": "5h9J-FDbcPKj",
        "outputId": "182c9ed5-c577-494d-92e7-e46ca1731615"
      },
      "execution_count": null,
      "outputs": [
        {
          "output_type": "stream",
          "name": "stdout",
          "text": [
            "       *\n",
            "      **\n",
            "     ***\n",
            "    ****\n",
            "   *****\n",
            "  ******\n",
            " *******\n",
            "*******\n",
            "******\n",
            "*****\n",
            "****\n",
            "***\n",
            "**\n",
            "*\n"
          ]
        }
      ]
    },
    {
      "cell_type": "code",
      "source": [
        "input_string = 'testing'\n",
        "size = len(input_string)\n",
        "\n",
        "# Upper half of the diamond\n",
        "for i in range(size):\n",
        "    print(\" \" * (size - i - 1) + input_string[:i + 1])\n",
        "\n",
        "# Lower half of the diamond\n",
        "for i in range(size - 2, -1, -1):\n",
        "    print(\" \" * (size - i - 1) + input_string[:i + 1])\n"
      ],
      "metadata": {
        "colab": {
          "base_uri": "https://localhost:8080/"
        },
        "id": "F9HZsJBUdAib",
        "outputId": "c253e77f-a249-4cb7-b7a7-955459b39ad0"
      },
      "execution_count": null,
      "outputs": [
        {
          "output_type": "stream",
          "name": "stdout",
          "text": [
            "      t\n",
            "     te\n",
            "    tes\n",
            "   test\n",
            "  testi\n",
            " testin\n",
            "testing\n",
            " testin\n",
            "  testi\n",
            "   test\n",
            "    tes\n",
            "     te\n",
            "      t\n"
          ]
        }
      ]
    },
    {
      "cell_type": "code",
      "source": [
        "def extract_vowels(input_string):\n",
        "    vowels = 'aeiouAEIOU'\n",
        "    result = ''\n",
        "    for char in input_string:\n",
        "        if char in vowels:\n",
        "            result += char\n",
        "    return result\n",
        "\n",
        "input_string = 'aeiou'\n",
        "for i in range(len(input_string)):\n",
        "    print(extract_vowels(input_string[:i + 1]), end=\",\")\n"
      ],
      "metadata": {
        "colab": {
          "base_uri": "https://localhost:8080/"
        },
        "id": "1ljNTwNJdkHL",
        "outputId": "69df5b56-2e13-4102-a424-9ebbdf8d7372"
      },
      "execution_count": null,
      "outputs": [
        {
          "output_type": "stream",
          "name": "stdout",
          "text": [
            "a,ae,aei,aeio,aeiou,"
          ]
        }
      ]
    },
    {
      "cell_type": "code",
      "source": [
        "def extract_vowels(input_string):\n",
        "    vowels = 'aeiouAEIOU'\n",
        "    result = ''\n",
        "    for char in input_string:\n",
        "        if char in vowels:\n",
        "            result += char\n",
        "    return result\n",
        "\n",
        "input_string = int(input())\n",
        "for i in range(len(input_string)):\n",
        "    res = extract_vowels(input_string)\n",
        "    print(res)\n",
        "\n"
      ],
      "metadata": {
        "colab": {
          "base_uri": "https://localhost:8080/",
          "height": 211
        },
        "id": "jFZwnrfmd2yT",
        "outputId": "6de7c4a6-8b36-4d74-f7df-f4b15d419152"
      },
      "execution_count": null,
      "outputs": [
        {
          "output_type": "error",
          "ename": "TypeError",
          "evalue": "'str' object is not callable",
          "traceback": [
            "\u001b[0;31m---------------------------------------------------------------------------\u001b[0m",
            "\u001b[0;31mTypeError\u001b[0m                                 Traceback (most recent call last)",
            "\u001b[0;32m<ipython-input-27-f11370745d15>\u001b[0m in \u001b[0;36m<cell line: 9>\u001b[0;34m()\u001b[0m\n\u001b[1;32m      7\u001b[0m     \u001b[0;32mreturn\u001b[0m \u001b[0mresult\u001b[0m\u001b[0;34m\u001b[0m\u001b[0;34m\u001b[0m\u001b[0m\n\u001b[1;32m      8\u001b[0m \u001b[0;34m\u001b[0m\u001b[0m\n\u001b[0;32m----> 9\u001b[0;31m \u001b[0minput_string\u001b[0m \u001b[0;34m=\u001b[0m \u001b[0mint\u001b[0m\u001b[0;34m(\u001b[0m\u001b[0minput\u001b[0m\u001b[0;34m(\u001b[0m\u001b[0;34m)\u001b[0m\u001b[0;34m)\u001b[0m\u001b[0;34m\u001b[0m\u001b[0;34m\u001b[0m\u001b[0m\n\u001b[0m\u001b[1;32m     10\u001b[0m \u001b[0;32mfor\u001b[0m \u001b[0mi\u001b[0m \u001b[0;32min\u001b[0m \u001b[0mrange\u001b[0m\u001b[0;34m(\u001b[0m\u001b[0mlen\u001b[0m\u001b[0;34m(\u001b[0m\u001b[0minput_string\u001b[0m\u001b[0;34m)\u001b[0m\u001b[0;34m)\u001b[0m\u001b[0;34m:\u001b[0m\u001b[0;34m\u001b[0m\u001b[0;34m\u001b[0m\u001b[0m\n\u001b[1;32m     11\u001b[0m     \u001b[0mres\u001b[0m \u001b[0;34m=\u001b[0m \u001b[0mextract_vowels\u001b[0m\u001b[0;34m(\u001b[0m\u001b[0minput_string\u001b[0m\u001b[0;34m)\u001b[0m\u001b[0;34m\u001b[0m\u001b[0;34m\u001b[0m\u001b[0m\n",
            "\u001b[0;31mTypeError\u001b[0m: 'str' object is not callable"
          ]
        }
      ]
    },
    {
      "cell_type": "code",
      "source": [
        "def extract_vowels(input_string):\n",
        "    vowels = 'aeiouAEIOU'\n",
        "    result = ''\n",
        "    for char in input_string:\n",
        "        if char in vowels:\n",
        "            result += char\n",
        "    return result\n",
        "T = int(input())\n",
        "# Taking 5 test cases as input\n",
        "for t in range(T):\n",
        "    input_string = input(\"Enter a string: \")\n",
        "    print(extract_vowels(input_string))"
      ],
      "metadata": {
        "colab": {
          "base_uri": "https://localhost:8080/"
        },
        "id": "jpU7IPB-eO7j",
        "outputId": "cdf627f6-93d1-4f60-cf35-09d429760ecb"
      },
      "execution_count": null,
      "outputs": [
        {
          "output_type": "stream",
          "name": "stdout",
          "text": [
            "5\n",
            "Enter a string: almabetter\n",
            "aaee\n",
            "Enter a string: james\n",
            "ae\n",
            "Enter a string: mike\n",
            "ie\n",
            "Enter a string: sam\n",
            "a\n",
            "Enter a string: stuart\n",
            "ua\n"
          ]
        }
      ]
    },
    {
      "cell_type": "code",
      "source": [
        "data = {\n",
        "    'a':1,\n",
        "    'b':2,\n",
        "    'c':3,\n",
        "    'd':4,\n",
        "    'e':5,\n",
        "    'f':6,\n",
        "    'g':7,\n",
        "    'h':8,\n",
        "    'i':9,\n",
        "    'j':10,\n",
        "    'k':11,\n",
        "    'l':12,\n",
        "    'm':13,\n",
        "    'n':14,\n",
        "    'o':15,\n",
        "    'p':16,\n",
        "    'q':17,\n",
        "    'r':18,\n",
        "    's':19,\n",
        "    't':20,\n",
        "    'u':21,\n",
        "    'v':22,\n",
        "    'w':23,\n",
        "    'x':24,\n",
        "    'y':25,\n",
        "    'z':26\n",
        "\n",
        "}\n",
        "\n"
      ],
      "metadata": {
        "id": "-DRdpe7Ye1M9"
      },
      "execution_count": null,
      "outputs": []
    },
    {
      "cell_type": "code",
      "source": [
        "def encode_string(input_str):\n",
        "    encoded_result = \"\"\n",
        "    for char in input_str:\n",
        "        if char.isalpha():\n",
        "            char = char.lower()\n",
        "            encoded_result += str(ord(char) - ord('a') + 1) + \" \"\n",
        "        else:\n",
        "            encoded_result += char\n",
        "    return encoded_result.strip()\n",
        "\n",
        "input_string = \"apple\"\n",
        "encoded_output = encode_string(input_string)\n",
        "print(\"Encoded result for input '{}' is: {}\".format(input_string, encoded_output))\n"
      ],
      "metadata": {
        "colab": {
          "base_uri": "https://localhost:8080/"
        },
        "id": "a2yTV7tp9voY",
        "outputId": "d391bbe5-c52a-4d17-ff1c-f309eba12792"
      },
      "execution_count": null,
      "outputs": [
        {
          "output_type": "stream",
          "name": "stdout",
          "text": [
            "Encoded result for input 'apple' is: 1 16 16 12 5\n"
          ]
        }
      ]
    },
    {
      "cell_type": "code",
      "source": [
        "def encode_string(input_str):\n",
        "  encoded_result = \"\"\n",
        "\n",
        "  for char in input_str:\n",
        "    if char.isalpha():\n",
        "      char = char.lower()\n",
        "      encoded_result+= str(ord(char)-ord('a')+1) + \" \"\n",
        "    else:\n",
        "      encoded_result+=char\n",
        "  return encoded_result.strip()\n",
        "\n",
        "T = int(input())\n",
        "\n",
        "for t in range(T):\n",
        "  new = input()\n",
        "  encoded_out = encode_string(new)\n",
        "  print(encoded_out)"
      ],
      "metadata": {
        "colab": {
          "base_uri": "https://localhost:8080/"
        },
        "id": "YM7FPnWz-3XX",
        "outputId": "c291dcac-d8f5-46e9-e12a-18f0cffd15a2"
      },
      "execution_count": null,
      "outputs": [
        {
          "output_type": "stream",
          "name": "stdout",
          "text": [
            "2\n",
            "apple\n",
            "1 16 16 12 5\n",
            "mango\n",
            "13 1 14 7 15\n"
          ]
        }
      ]
    },
    {
      "cell_type": "code",
      "source": [
        "n = eval(input)\n",
        "result = [num for num in n if num >0  num = num**2]"
      ],
      "metadata": {
        "id": "2u0YZbSVA2Uw",
        "colab": {
          "base_uri": "https://localhost:8080/",
          "height": 106
        },
        "outputId": "2c9c3bed-58b0-47b1-d6f5-9ecf62f156f4"
      },
      "execution_count": null,
      "outputs": [
        {
          "output_type": "error",
          "ename": "SyntaxError",
          "evalue": "invalid syntax (<ipython-input-4-d5a2b16e0e06>, line 2)",
          "traceback": [
            "\u001b[0;36m  File \u001b[0;32m\"<ipython-input-4-d5a2b16e0e06>\"\u001b[0;36m, line \u001b[0;32m2\u001b[0m\n\u001b[0;31m    result = [num for num in n if num >0  num = num**2]\u001b[0m\n\u001b[0m                                          ^\u001b[0m\n\u001b[0;31mSyntaxError\u001b[0m\u001b[0;31m:\u001b[0m invalid syntax\n"
          ]
        }
      ]
    },
    {
      "cell_type": "code",
      "source": [
        "number = eval(input())\n",
        "\n",
        "result = [lambda x: x**2,number]\n",
        "print(result)"
      ],
      "metadata": {
        "colab": {
          "base_uri": "https://localhost:8080/"
        },
        "id": "Ruoj486Duggq",
        "outputId": "451c9f09-817b-402c-8a55-58f65f747c23"
      },
      "execution_count": null,
      "outputs": [
        {
          "output_type": "stream",
          "name": "stdout",
          "text": [
            "[0,1,2]\n",
            "[<function <lambda> at 0x7d09908e3be0>, [0, 1, 2]]\n"
          ]
        }
      ]
    },
    {
      "cell_type": "code",
      "source": [
        "n = int(input())\n",
        "\n",
        "for i in range(5):\n",
        "  n = ' '.join(i)\n",
        "  print(n)"
      ],
      "metadata": {
        "colab": {
          "base_uri": "https://localhost:8080/",
          "height": 211
        },
        "id": "e_nlDzq9u5to",
        "outputId": "2be8173a-cf97-4bad-db1c-4d027c3b452f"
      },
      "execution_count": null,
      "outputs": [
        {
          "name": "stdout",
          "output_type": "stream",
          "text": [
            "5\n"
          ]
        },
        {
          "output_type": "error",
          "ename": "TypeError",
          "evalue": "can only join an iterable",
          "traceback": [
            "\u001b[0;31m---------------------------------------------------------------------------\u001b[0m",
            "\u001b[0;31mTypeError\u001b[0m                                 Traceback (most recent call last)",
            "\u001b[0;32m<ipython-input-9-a87a16bbd107>\u001b[0m in \u001b[0;36m<cell line: 3>\u001b[0;34m()\u001b[0m\n\u001b[1;32m      2\u001b[0m \u001b[0;34m\u001b[0m\u001b[0m\n\u001b[1;32m      3\u001b[0m \u001b[0;32mfor\u001b[0m \u001b[0mi\u001b[0m \u001b[0;32min\u001b[0m \u001b[0mrange\u001b[0m\u001b[0;34m(\u001b[0m\u001b[0;36m5\u001b[0m\u001b[0;34m)\u001b[0m\u001b[0;34m:\u001b[0m\u001b[0;34m\u001b[0m\u001b[0;34m\u001b[0m\u001b[0m\n\u001b[0;32m----> 4\u001b[0;31m   \u001b[0mn\u001b[0m \u001b[0;34m=\u001b[0m \u001b[0;34m' '\u001b[0m\u001b[0;34m.\u001b[0m\u001b[0mjoin\u001b[0m\u001b[0;34m(\u001b[0m\u001b[0mi\u001b[0m\u001b[0;34m)\u001b[0m\u001b[0;34m\u001b[0m\u001b[0;34m\u001b[0m\u001b[0m\n\u001b[0m\u001b[1;32m      5\u001b[0m   \u001b[0mprint\u001b[0m\u001b[0;34m(\u001b[0m\u001b[0mn\u001b[0m\u001b[0;34m)\u001b[0m\u001b[0;34m\u001b[0m\u001b[0;34m\u001b[0m\u001b[0m\n",
            "\u001b[0;31mTypeError\u001b[0m: can only join an iterable"
          ]
        }
      ]
    },
    {
      "cell_type": "code",
      "source": [
        "if __name__ == '__main__':\n",
        "    n = int(input())\n",
        "    for i in range(n):\n",
        "        print(i)"
      ],
      "metadata": {
        "colab": {
          "base_uri": "https://localhost:8080/"
        },
        "id": "CBvt4xNYzsjp",
        "outputId": "3aec5b1c-5629-4370-dfb5-ab5b1314674a"
      },
      "execution_count": null,
      "outputs": [
        {
          "output_type": "stream",
          "name": "stdout",
          "text": [
            "3\n",
            "0\n",
            "1\n",
            "2\n"
          ]
        }
      ]
    },
    {
      "cell_type": "code",
      "source": [
        "arr = [21,45,2,96,56]\n",
        "smallest = arr[0]\n",
        "largest = arr[0]\n",
        "\n",
        "for num in arr:\n",
        "  if num>largest:\n",
        "    largest=num\n",
        "  if num<smallest:\n",
        "    smallest=num\n",
        "print(largest-1)\n",
        "print(smallest)"
      ],
      "metadata": {
        "colab": {
          "base_uri": "https://localhost:8080/"
        },
        "id": "DY2ehZxIcpFX",
        "outputId": "82b0ea50-6e54-4910-c3c6-d375dbb9c30b"
      },
      "execution_count": null,
      "outputs": [
        {
          "output_type": "stream",
          "name": "stdout",
          "text": [
            "95\n",
            "2\n"
          ]
        }
      ]
    },
    {
      "cell_type": "code",
      "source": [
        "n = int(input())\n",
        "arr = map(int, input().split())\n",
        "smallest = arr[0]\n",
        "largest = arr[0]\n",
        "\n",
        "for num in arr:\n",
        "  if num>largest:\n",
        "    largest=num\n",
        "  if num<smallest:\n",
        "    smallest=num\n",
        "print(largest-1)\n",
        "print(smallest)\n"
      ],
      "metadata": {
        "colab": {
          "base_uri": "https://localhost:8080/",
          "height": 245
        },
        "id": "M_cWvk3OdhKL",
        "outputId": "81ef707d-6c31-4020-c175-b15ba2e462dd"
      },
      "execution_count": null,
      "outputs": [
        {
          "name": "stdout",
          "output_type": "stream",
          "text": [
            "5\n",
            "[21,45,2,96,56]\n"
          ]
        },
        {
          "output_type": "error",
          "ename": "TypeError",
          "evalue": "'map' object is not subscriptable",
          "traceback": [
            "\u001b[0;31m---------------------------------------------------------------------------\u001b[0m",
            "\u001b[0;31mTypeError\u001b[0m                                 Traceback (most recent call last)",
            "\u001b[0;32m<ipython-input-32-d566c7b263a2>\u001b[0m in \u001b[0;36m<cell line: 3>\u001b[0;34m()\u001b[0m\n\u001b[1;32m      1\u001b[0m \u001b[0mn\u001b[0m \u001b[0;34m=\u001b[0m \u001b[0mint\u001b[0m\u001b[0;34m(\u001b[0m\u001b[0minput\u001b[0m\u001b[0;34m(\u001b[0m\u001b[0;34m)\u001b[0m\u001b[0;34m)\u001b[0m\u001b[0;34m\u001b[0m\u001b[0;34m\u001b[0m\u001b[0m\n\u001b[1;32m      2\u001b[0m \u001b[0marr\u001b[0m \u001b[0;34m=\u001b[0m \u001b[0mmap\u001b[0m\u001b[0;34m(\u001b[0m\u001b[0mint\u001b[0m\u001b[0;34m,\u001b[0m \u001b[0minput\u001b[0m\u001b[0;34m(\u001b[0m\u001b[0;34m)\u001b[0m\u001b[0;34m.\u001b[0m\u001b[0msplit\u001b[0m\u001b[0;34m(\u001b[0m\u001b[0;34m)\u001b[0m\u001b[0;34m)\u001b[0m\u001b[0;34m\u001b[0m\u001b[0;34m\u001b[0m\u001b[0m\n\u001b[0;32m----> 3\u001b[0;31m \u001b[0msmallest\u001b[0m \u001b[0;34m=\u001b[0m \u001b[0marr\u001b[0m\u001b[0;34m[\u001b[0m\u001b[0;36m0\u001b[0m\u001b[0;34m]\u001b[0m\u001b[0;34m\u001b[0m\u001b[0;34m\u001b[0m\u001b[0m\n\u001b[0m\u001b[1;32m      4\u001b[0m \u001b[0mlargest\u001b[0m \u001b[0;34m=\u001b[0m \u001b[0marr\u001b[0m\u001b[0;34m[\u001b[0m\u001b[0;36m0\u001b[0m\u001b[0;34m]\u001b[0m\u001b[0;34m\u001b[0m\u001b[0;34m\u001b[0m\u001b[0m\n\u001b[1;32m      5\u001b[0m \u001b[0;34m\u001b[0m\u001b[0m\n",
            "\u001b[0;31mTypeError\u001b[0m: 'map' object is not subscriptable"
          ]
        }
      ]
    },
    {
      "cell_type": "code",
      "source": [
        "if __name__ == '__main__':\n",
        "    n = int(input())\n",
        "    student_marks = {}\n",
        "    for _ in range(n):\n",
        "        name, *line = input().split()\n",
        "        scores = list(map(float, line))\n",
        "        student_marks[name] = scores\n",
        "    query_name = input()\n",
        "print(round((sum(student_marks[query_name]))/(len(student_marks[query_name])),2))"
      ],
      "metadata": {
        "colab": {
          "base_uri": "https://localhost:8080/"
        },
        "id": "349_n_TGpT4a",
        "outputId": "e8e89831-5784-43f8-d3cc-b09e8ffa849b"
      },
      "execution_count": null,
      "outputs": [
        {
          "output_type": "stream",
          "name": "stdout",
          "text": [
            "2\n",
            "harsh 25 25.6 27\n",
            "venki 56 58 57.5\n",
            "harsh\n",
            "25.87\n"
          ]
        }
      ]
    },
    {
      "cell_type": "code",
      "source": [
        "if __name__ == '__main__':\n",
        "    n = int(input())\n",
        "    student_marks = {}\n",
        "    for _ in range(n):\n",
        "        name, *line = input().split()\n",
        "        scores = list(map(float, line))\n",
        "        student_marks[name] = scores\n",
        "    query_name = input()\n",
        "print('{:.2f}'.format((sum(student_marks[query_name])/len(student_marks[query_name]))))"
      ],
      "metadata": {
        "colab": {
          "base_uri": "https://localhost:8080/"
        },
        "id": "t90CDMfvyJz5",
        "outputId": "25789d36-47f7-43ed-9f68-47b5d52edc1a"
      },
      "execution_count": null,
      "outputs": [
        {
          "output_type": "stream",
          "name": "stdout",
          "text": [
            "2\n",
            "harsh 25 25.6 27\n",
            "venki 56 58 57.5\n",
            "harsh\n",
            "25.87\n"
          ]
        }
      ]
    },
    {
      "cell_type": "code",
      "source": [
        "2\n",
        "harsh 25 25.6 27\n",
        "venki 56 58 57.5\n",
        "harsh"
      ],
      "metadata": {
        "id": "dEo4Zu-WqXoT"
      },
      "execution_count": null,
      "outputs": []
    },
    {
      "cell_type": "code",
      "source": [
        "if __name__ == '__main__':\n",
        "    x = int(input())\n",
        "    y = int(input())\n",
        "    z = int(input())\n",
        "    n = int(input())\n",
        "print([[i,j,k] for i in range(x+1) for j in range(y+1) for k in range(z+1) if (i+j+k)!=n])"
      ],
      "metadata": {
        "colab": {
          "base_uri": "https://localhost:8080/"
        },
        "id": "lOVFjHi5iSLx",
        "outputId": "3688cfda-8fc6-4e17-f745-62871fcdae49"
      },
      "execution_count": null,
      "outputs": [
        {
          "output_type": "stream",
          "name": "stdout",
          "text": [
            "1\n",
            "1\n",
            "1\n",
            "2\n",
            "[[0, 0, 0], [0, 0, 1], [0, 1, 0], [1, 0, 0], [1, 1, 1]]\n"
          ]
        }
      ]
    },
    {
      "cell_type": "code",
      "source": [
        "import pandas as pd\n",
        "import numpy as np"
      ],
      "metadata": {
        "id": "5acZl0XB1GMJ"
      },
      "execution_count": null,
      "outputs": []
    },
    {
      "cell_type": "code",
      "source": [
        "df = pd.read_csv('/content/Amazon Sale Report.csv')"
      ],
      "metadata": {
        "id": "mO6nz5dQ06h8"
      },
      "execution_count": null,
      "outputs": []
    },
    {
      "cell_type": "code",
      "source": [
        "df.dw"
      ],
      "metadata": {
        "id": "x3oZEt3Z1Wrx"
      },
      "execution_count": null,
      "outputs": []
    },
    {
      "cell_type": "code",
      "source": [
        "import numpy as np\n",
        "\n",
        "my_array =list(map(int,input().split()))\n",
        "new = np.array(my_array)\n",
        "print(np.reshape(new,(3,3)))"
      ],
      "metadata": {
        "colab": {
          "base_uri": "https://localhost:8080/"
        },
        "id": "ZdFzwDDe2v8T",
        "outputId": "e3b8ee6d-7577-42a9-afe5-bc302326f814"
      },
      "execution_count": null,
      "outputs": [
        {
          "output_type": "stream",
          "name": "stdout",
          "text": [
            "1 2 3 4 5 6 7 8 9\n",
            "[[1 2 3]\n",
            " [4 5 6]\n",
            " [7 8 9]]\n"
          ]
        }
      ]
    },
    {
      "cell_type": "code",
      "source": [
        "import numpy as np\n",
        "new_array = list(map(int,input().split()))\n",
        "new = np.array(new_array)\n",
        "print(np.reshape(new,(3,3)))"
      ],
      "metadata": {
        "colab": {
          "base_uri": "https://localhost:8080/"
        },
        "id": "hHttdmH-88G0",
        "outputId": "25db39bc-4599-4c6f-f8d4-da95d0a84564"
      },
      "execution_count": null,
      "outputs": [
        {
          "output_type": "stream",
          "name": "stdout",
          "text": [
            "1 2 3 4 5 6 7 8 9\n",
            "[[1 2 3]\n",
            " [4 5 6]\n",
            " [7 8 9]]\n"
          ]
        }
      ]
    },
    {
      "cell_type": "code",
      "source": [
        "import numpy\n",
        "n,m =map(int,input().split())\n",
        "ar = []\n",
        "for i in range(n):\n",
        "    arr = list(map(int,input().split()))\n",
        "    ar.append(arr)\n",
        "new = numpy.array(ar)\n",
        "print(numpy.transpose(new))\n",
        "print(new.flatten())"
      ],
      "metadata": {
        "colab": {
          "base_uri": "https://localhost:8080/"
        },
        "id": "Mq5c5m492v60",
        "outputId": "590d3869-2654-4ef0-ec44-767ba3f4f895"
      },
      "execution_count": null,
      "outputs": [
        {
          "output_type": "stream",
          "name": "stdout",
          "text": [
            "2 2\n",
            "1 3\n",
            "2 4\n",
            "[[1 2]\n",
            " [3 4]]\n",
            "[1 3 2 4]\n"
          ]
        }
      ]
    },
    {
      "cell_type": "code",
      "source": [
        "import numpy as np\n",
        "n,p = map(int,input().split())\n",
        "ar = []\n",
        "for i in range(n):\n",
        "  arr = list(map(int,input().split()))\n",
        "  ar.append(arr)\n",
        "new = np.array(ar)\n",
        "print(np.transpose(ar))\n",
        "print(new.flatten())"
      ],
      "metadata": {
        "colab": {
          "base_uri": "https://localhost:8080/"
        },
        "id": "1Jnc2YBA9gm0",
        "outputId": "539b8fed-69b9-4d52-eb03-fa54f465e79c"
      },
      "execution_count": null,
      "outputs": [
        {
          "output_type": "stream",
          "name": "stdout",
          "text": [
            "2 2\n",
            "1 5\n",
            "2 6\n",
            "[[1 2]\n",
            " [5 6]]\n",
            "[1 5 2 6]\n"
          ]
        }
      ]
    },
    {
      "cell_type": "code",
      "source": [
        "import numpy\n",
        "n,m =map(int,input().split())\n",
        "\n",
        "ar = []\n",
        "for i in range(n):\n",
        "  arr = list(map(int,input().split()))\n",
        "  ar.append(arr)\n",
        "new = numpy.array(ar)\n",
        "print(numpy.transpose(new))\n",
        "print(new.flatten())"
      ],
      "metadata": {
        "colab": {
          "base_uri": "https://localhost:8080/"
        },
        "id": "bk6zCYCA5a0U",
        "outputId": "835dc82b-a257-4b5f-9539-cbe295ba2237"
      },
      "execution_count": null,
      "outputs": [
        {
          "output_type": "stream",
          "name": "stdout",
          "text": [
            "2 2\n",
            "3 4\n",
            "4 5\n",
            "[[3 4]\n",
            " [4 5]]\n",
            "[3 4 4 5]\n"
          ]
        }
      ]
    },
    {
      "cell_type": "code",
      "source": [
        "import numpy as np\n",
        "N,M,P = map(int,input().split())\n",
        "arr1 = np.array([input().split() for i in range(N)],int)\n",
        "arr2 = np.array([input().split() for i in range(M)],int)\n",
        "print(np.concatenate((arr1,arr2),axis=0))"
      ],
      "metadata": {
        "colab": {
          "base_uri": "https://localhost:8080/"
        },
        "id": "xNFRoDk68Zx1",
        "outputId": "703d0cd8-290b-43e2-d5d7-57681f6aff08"
      },
      "execution_count": null,
      "outputs": [
        {
          "output_type": "stream",
          "name": "stdout",
          "text": [
            "4 3 2\n",
            "1 2\n",
            "3 4\n",
            "4 5\n",
            "5 4\n",
            "6 5\n",
            "5 6\n",
            "7 8\n",
            "[[1 2]\n",
            " [3 4]\n",
            " [4 5]\n",
            " [5 4]\n",
            " [6 5]\n",
            " [5 6]\n",
            " [7 8]]\n"
          ]
        }
      ]
    },
    {
      "cell_type": "code",
      "source": [
        "def swap_case(s):\n",
        "\n",
        "    string = ''\n",
        "    for char in s:\n",
        "        if char.isupper() == True:\n",
        "            string += char.lower()\n",
        "        else:\n",
        "            string += char.upper()\n",
        "    return string"
      ],
      "metadata": {
        "id": "IAtD43l--KjA"
      },
      "execution_count": null,
      "outputs": []
    },
    {
      "cell_type": "code",
      "source": [
        "s = 'hackerrank is an online coding practice platfotm'\n",
        "swap_case(s)"
      ],
      "metadata": {
        "colab": {
          "base_uri": "https://localhost:8080/",
          "height": 35
        },
        "id": "9pgtTJK5-Kgq",
        "outputId": "99d4ebe6-21e1-4aaf-8e18-277a65e57014"
      },
      "execution_count": null,
      "outputs": [
        {
          "output_type": "execute_result",
          "data": {
            "text/plain": [
              "'HACKERRANK IS AN ONLINE CODING PRACTICE PLATFOTM'"
            ],
            "application/vnd.google.colaboratory.intrinsic+json": {
              "type": "string"
            }
          },
          "metadata": {},
          "execution_count": 2
        }
      ]
    },
    {
      "cell_type": "code",
      "source": [
        "def swap_case(s):\n",
        "  string = ''\n",
        "\n",
        "  for char in s:\n",
        "    if char.isupper()==True:\n",
        "      string += char.lower()\n",
        "    else:\n",
        "      string+=char.upper()\n",
        "  return string\n",
        "\n",
        "s = input()\n",
        "print(swap_case(s))"
      ],
      "metadata": {
        "id": "WQsfIMa0hXde"
      },
      "execution_count": null,
      "outputs": []
    },
    {
      "cell_type": "markdown",
      "source": [
        "remove odd index character\n"
      ],
      "metadata": {
        "id": "KN2OiGVbgzmZ"
      }
    },
    {
      "cell_type": "code",
      "source": [
        "#using slicing\n",
        "string = input()\n",
        "odd = string[0::2]\n",
        "print(odd)"
      ],
      "metadata": {
        "id": "wIr78k2S-Xte",
        "colab": {
          "base_uri": "https://localhost:8080/"
        },
        "outputId": "a1835f3c-ff43-454b-861a-9c8644eb1c35"
      },
      "execution_count": null,
      "outputs": [
        {
          "output_type": "stream",
          "name": "stdout",
          "text": [
            "data science\n",
            "dt cec\n"
          ]
        }
      ]
    },
    {
      "cell_type": "code",
      "source": [
        "#using custom functions\n",
        "\n",
        "def odd_values_string(str1):\n",
        "  result = ''\n",
        "  for i in range(len(str1)):\n",
        "    if i % 2 == 0:\n",
        "      result = result + str1[i]\n",
        "  return result\n",
        "\n",
        "str1 = input()\n",
        "print(odd_values_string(str1))"
      ],
      "metadata": {
        "colab": {
          "base_uri": "https://localhost:8080/"
        },
        "id": "9x90n9-Tg4Bv",
        "outputId": "43a4e957-5b37-4b0c-8134-ed377d898d12"
      },
      "execution_count": null,
      "outputs": [
        {
          "output_type": "stream",
          "name": "stdout",
          "text": [
            "data science\n",
            "dt cec\n"
          ]
        }
      ]
    },
    {
      "cell_type": "code",
      "source": [
        "def tribonacci(n):\n",
        "    if n==0 or n==1:\n",
        "        return 0\n",
        "    elif n==2:\n",
        "        return 1\n",
        "    else:\n",
        "        return (tribonacci(n-1) + tribonacci(n-2) + tribonacci(n-3))\n",
        "\n",
        "n = int(input())\n",
        "if n<0:\n",
        "  print('invalid')\n",
        "else:\n",
        "  print(tribonacci(n))"
      ],
      "metadata": {
        "id": "-wWRoi9Lg333",
        "colab": {
          "base_uri": "https://localhost:8080/"
        },
        "outputId": "871c6050-d26e-481a-8b3d-a9783b784050"
      },
      "execution_count": null,
      "outputs": [
        {
          "output_type": "stream",
          "name": "stdout",
          "text": [
            "0\n",
            "0\n"
          ]
        }
      ]
    },
    {
      "cell_type": "code",
      "source": [
        "def numbered_list(items):\n",
        "  numbered_list = ''\n",
        "\n",
        "  for i,item in enumerate(items,start=1):\n",
        "    numbered_list += str(i) + '. ' + item + '\\n'\n",
        "  return numbered_list\n",
        "\n",
        "items = input().split('\\n')\n",
        "print(numbered_list(items))"
      ],
      "metadata": {
        "colab": {
          "base_uri": "https://localhost:8080/"
        },
        "id": "-Wu5ubxOuirZ",
        "outputId": "3c573afe-fe44-400b-b819-ec69f0ace7bb"
      },
      "execution_count": null,
      "outputs": [
        {
          "output_type": "stream",
          "name": "stdout",
          "text": [
            "['apple','banana','orange','grapes']\n",
            "1. ['apple','banana','orange','grapes']\n",
            "\n"
          ]
        }
      ]
    },
    {
      "cell_type": "markdown",
      "source": [
        "Numbered lists"
      ],
      "metadata": {
        "id": "WpBizJsxwUuo"
      }
    },
    {
      "cell_type": "code",
      "source": [
        "def numbered_list(items):\n",
        "  numbered_list = ''\n",
        "\n",
        "  for i,item in enumerate(items,start=1):\n",
        "    numbered_list += f\"{i}.{item}\\n\"\n",
        "  return numbered_list\n",
        "\n",
        "items = input().split('\\n')\n",
        "print(numbered_list(items))"
      ],
      "metadata": {
        "colab": {
          "base_uri": "https://localhost:8080/"
        },
        "id": "1UNwIR0qv651",
        "outputId": "8fa6ab35-c003-442d-820d-17bab7f4f17b"
      },
      "execution_count": null,
      "outputs": [
        {
          "output_type": "stream",
          "name": "stdout",
          "text": [
            "['apple','banana','orange','grapes']\n",
            "1.['apple','banana','orange','grapes']\n",
            "\n"
          ]
        }
      ]
    },
    {
      "cell_type": "code",
      "source": [
        "import pandas as pd\n",
        "\n",
        "\n",
        "car_price = {'Company': ['Toyota','Maruthi','Tata','TVS'], 'Price':[24562,24589,36523,25812]}\n",
        "car_pricedf = pd.DataFrame(car_price)\n",
        "\n",
        "car_horsepower = {'Company': ['Toyota','Maruthi','Tata','TVS'], 'Horsepower':[562,589,523,812]}\n",
        "car_horsepowerdf = pd.DataFrame(car_horsepower)\n",
        "\n",
        "carsdf = pd.merge(car_pricedf,car_horsepowerdf, on = 'Company')\n",
        "carsdf"
      ],
      "metadata": {
        "colab": {
          "base_uri": "https://localhost:8080/",
          "height": 174
        },
        "id": "vA3uu867eIHb",
        "outputId": "e8c86764-aafd-499e-920e-7e7ab038abfc"
      },
      "execution_count": null,
      "outputs": [
        {
          "output_type": "execute_result",
          "data": {
            "text/plain": [
              "   Company  Price  Horsepower\n",
              "0   Toyota  24562         562\n",
              "1  Maruthi  24589         589\n",
              "2     Tata  36523         523\n",
              "3      TVS  25812         812"
            ],
            "text/html": [
              "\n",
              "  <div id=\"df-f55a847f-b9ea-47bb-9588-615c94ef6961\" class=\"colab-df-container\">\n",
              "    <div>\n",
              "<style scoped>\n",
              "    .dataframe tbody tr th:only-of-type {\n",
              "        vertical-align: middle;\n",
              "    }\n",
              "\n",
              "    .dataframe tbody tr th {\n",
              "        vertical-align: top;\n",
              "    }\n",
              "\n",
              "    .dataframe thead th {\n",
              "        text-align: right;\n",
              "    }\n",
              "</style>\n",
              "<table border=\"1\" class=\"dataframe\">\n",
              "  <thead>\n",
              "    <tr style=\"text-align: right;\">\n",
              "      <th></th>\n",
              "      <th>Company</th>\n",
              "      <th>Price</th>\n",
              "      <th>Horsepower</th>\n",
              "    </tr>\n",
              "  </thead>\n",
              "  <tbody>\n",
              "    <tr>\n",
              "      <th>0</th>\n",
              "      <td>Toyota</td>\n",
              "      <td>24562</td>\n",
              "      <td>562</td>\n",
              "    </tr>\n",
              "    <tr>\n",
              "      <th>1</th>\n",
              "      <td>Maruthi</td>\n",
              "      <td>24589</td>\n",
              "      <td>589</td>\n",
              "    </tr>\n",
              "    <tr>\n",
              "      <th>2</th>\n",
              "      <td>Tata</td>\n",
              "      <td>36523</td>\n",
              "      <td>523</td>\n",
              "    </tr>\n",
              "    <tr>\n",
              "      <th>3</th>\n",
              "      <td>TVS</td>\n",
              "      <td>25812</td>\n",
              "      <td>812</td>\n",
              "    </tr>\n",
              "  </tbody>\n",
              "</table>\n",
              "</div>\n",
              "    <div class=\"colab-df-buttons\">\n",
              "\n",
              "  <div class=\"colab-df-container\">\n",
              "    <button class=\"colab-df-convert\" onclick=\"convertToInteractive('df-f55a847f-b9ea-47bb-9588-615c94ef6961')\"\n",
              "            title=\"Convert this dataframe to an interactive table.\"\n",
              "            style=\"display:none;\">\n",
              "\n",
              "  <svg xmlns=\"http://www.w3.org/2000/svg\" height=\"24px\" viewBox=\"0 -960 960 960\">\n",
              "    <path d=\"M120-120v-720h720v720H120Zm60-500h600v-160H180v160Zm220 220h160v-160H400v160Zm0 220h160v-160H400v160ZM180-400h160v-160H180v160Zm440 0h160v-160H620v160ZM180-180h160v-160H180v160Zm440 0h160v-160H620v160Z\"/>\n",
              "  </svg>\n",
              "    </button>\n",
              "\n",
              "  <style>\n",
              "    .colab-df-container {\n",
              "      display:flex;\n",
              "      gap: 12px;\n",
              "    }\n",
              "\n",
              "    .colab-df-convert {\n",
              "      background-color: #E8F0FE;\n",
              "      border: none;\n",
              "      border-radius: 50%;\n",
              "      cursor: pointer;\n",
              "      display: none;\n",
              "      fill: #1967D2;\n",
              "      height: 32px;\n",
              "      padding: 0 0 0 0;\n",
              "      width: 32px;\n",
              "    }\n",
              "\n",
              "    .colab-df-convert:hover {\n",
              "      background-color: #E2EBFA;\n",
              "      box-shadow: 0px 1px 2px rgba(60, 64, 67, 0.3), 0px 1px 3px 1px rgba(60, 64, 67, 0.15);\n",
              "      fill: #174EA6;\n",
              "    }\n",
              "\n",
              "    .colab-df-buttons div {\n",
              "      margin-bottom: 4px;\n",
              "    }\n",
              "\n",
              "    [theme=dark] .colab-df-convert {\n",
              "      background-color: #3B4455;\n",
              "      fill: #D2E3FC;\n",
              "    }\n",
              "\n",
              "    [theme=dark] .colab-df-convert:hover {\n",
              "      background-color: #434B5C;\n",
              "      box-shadow: 0px 1px 3px 1px rgba(0, 0, 0, 0.15);\n",
              "      filter: drop-shadow(0px 1px 2px rgba(0, 0, 0, 0.3));\n",
              "      fill: #FFFFFF;\n",
              "    }\n",
              "  </style>\n",
              "\n",
              "    <script>\n",
              "      const buttonEl =\n",
              "        document.querySelector('#df-f55a847f-b9ea-47bb-9588-615c94ef6961 button.colab-df-convert');\n",
              "      buttonEl.style.display =\n",
              "        google.colab.kernel.accessAllowed ? 'block' : 'none';\n",
              "\n",
              "      async function convertToInteractive(key) {\n",
              "        const element = document.querySelector('#df-f55a847f-b9ea-47bb-9588-615c94ef6961');\n",
              "        const dataTable =\n",
              "          await google.colab.kernel.invokeFunction('convertToInteractive',\n",
              "                                                    [key], {});\n",
              "        if (!dataTable) return;\n",
              "\n",
              "        const docLinkHtml = 'Like what you see? Visit the ' +\n",
              "          '<a target=\"_blank\" href=https://colab.research.google.com/notebooks/data_table.ipynb>data table notebook</a>'\n",
              "          + ' to learn more about interactive tables.';\n",
              "        element.innerHTML = '';\n",
              "        dataTable['output_type'] = 'display_data';\n",
              "        await google.colab.output.renderOutput(dataTable, element);\n",
              "        const docLink = document.createElement('div');\n",
              "        docLink.innerHTML = docLinkHtml;\n",
              "        element.appendChild(docLink);\n",
              "      }\n",
              "    </script>\n",
              "  </div>\n",
              "\n",
              "\n",
              "<div id=\"df-78926950-8693-4a46-a912-34a9bee5241a\">\n",
              "  <button class=\"colab-df-quickchart\" onclick=\"quickchart('df-78926950-8693-4a46-a912-34a9bee5241a')\"\n",
              "            title=\"Suggest charts\"\n",
              "            style=\"display:none;\">\n",
              "\n",
              "<svg xmlns=\"http://www.w3.org/2000/svg\" height=\"24px\"viewBox=\"0 0 24 24\"\n",
              "     width=\"24px\">\n",
              "    <g>\n",
              "        <path d=\"M19 3H5c-1.1 0-2 .9-2 2v14c0 1.1.9 2 2 2h14c1.1 0 2-.9 2-2V5c0-1.1-.9-2-2-2zM9 17H7v-7h2v7zm4 0h-2V7h2v10zm4 0h-2v-4h2v4z\"/>\n",
              "    </g>\n",
              "</svg>\n",
              "  </button>\n",
              "\n",
              "<style>\n",
              "  .colab-df-quickchart {\n",
              "      --bg-color: #E8F0FE;\n",
              "      --fill-color: #1967D2;\n",
              "      --hover-bg-color: #E2EBFA;\n",
              "      --hover-fill-color: #174EA6;\n",
              "      --disabled-fill-color: #AAA;\n",
              "      --disabled-bg-color: #DDD;\n",
              "  }\n",
              "\n",
              "  [theme=dark] .colab-df-quickchart {\n",
              "      --bg-color: #3B4455;\n",
              "      --fill-color: #D2E3FC;\n",
              "      --hover-bg-color: #434B5C;\n",
              "      --hover-fill-color: #FFFFFF;\n",
              "      --disabled-bg-color: #3B4455;\n",
              "      --disabled-fill-color: #666;\n",
              "  }\n",
              "\n",
              "  .colab-df-quickchart {\n",
              "    background-color: var(--bg-color);\n",
              "    border: none;\n",
              "    border-radius: 50%;\n",
              "    cursor: pointer;\n",
              "    display: none;\n",
              "    fill: var(--fill-color);\n",
              "    height: 32px;\n",
              "    padding: 0;\n",
              "    width: 32px;\n",
              "  }\n",
              "\n",
              "  .colab-df-quickchart:hover {\n",
              "    background-color: var(--hover-bg-color);\n",
              "    box-shadow: 0 1px 2px rgba(60, 64, 67, 0.3), 0 1px 3px 1px rgba(60, 64, 67, 0.15);\n",
              "    fill: var(--button-hover-fill-color);\n",
              "  }\n",
              "\n",
              "  .colab-df-quickchart-complete:disabled,\n",
              "  .colab-df-quickchart-complete:disabled:hover {\n",
              "    background-color: var(--disabled-bg-color);\n",
              "    fill: var(--disabled-fill-color);\n",
              "    box-shadow: none;\n",
              "  }\n",
              "\n",
              "  .colab-df-spinner {\n",
              "    border: 2px solid var(--fill-color);\n",
              "    border-color: transparent;\n",
              "    border-bottom-color: var(--fill-color);\n",
              "    animation:\n",
              "      spin 1s steps(1) infinite;\n",
              "  }\n",
              "\n",
              "  @keyframes spin {\n",
              "    0% {\n",
              "      border-color: transparent;\n",
              "      border-bottom-color: var(--fill-color);\n",
              "      border-left-color: var(--fill-color);\n",
              "    }\n",
              "    20% {\n",
              "      border-color: transparent;\n",
              "      border-left-color: var(--fill-color);\n",
              "      border-top-color: var(--fill-color);\n",
              "    }\n",
              "    30% {\n",
              "      border-color: transparent;\n",
              "      border-left-color: var(--fill-color);\n",
              "      border-top-color: var(--fill-color);\n",
              "      border-right-color: var(--fill-color);\n",
              "    }\n",
              "    40% {\n",
              "      border-color: transparent;\n",
              "      border-right-color: var(--fill-color);\n",
              "      border-top-color: var(--fill-color);\n",
              "    }\n",
              "    60% {\n",
              "      border-color: transparent;\n",
              "      border-right-color: var(--fill-color);\n",
              "    }\n",
              "    80% {\n",
              "      border-color: transparent;\n",
              "      border-right-color: var(--fill-color);\n",
              "      border-bottom-color: var(--fill-color);\n",
              "    }\n",
              "    90% {\n",
              "      border-color: transparent;\n",
              "      border-bottom-color: var(--fill-color);\n",
              "    }\n",
              "  }\n",
              "</style>\n",
              "\n",
              "  <script>\n",
              "    async function quickchart(key) {\n",
              "      const quickchartButtonEl =\n",
              "        document.querySelector('#' + key + ' button');\n",
              "      quickchartButtonEl.disabled = true;  // To prevent multiple clicks.\n",
              "      quickchartButtonEl.classList.add('colab-df-spinner');\n",
              "      try {\n",
              "        const charts = await google.colab.kernel.invokeFunction(\n",
              "            'suggestCharts', [key], {});\n",
              "      } catch (error) {\n",
              "        console.error('Error during call to suggestCharts:', error);\n",
              "      }\n",
              "      quickchartButtonEl.classList.remove('colab-df-spinner');\n",
              "      quickchartButtonEl.classList.add('colab-df-quickchart-complete');\n",
              "    }\n",
              "    (() => {\n",
              "      let quickchartButtonEl =\n",
              "        document.querySelector('#df-78926950-8693-4a46-a912-34a9bee5241a button');\n",
              "      quickchartButtonEl.style.display =\n",
              "        google.colab.kernel.accessAllowed ? 'block' : 'none';\n",
              "    })();\n",
              "  </script>\n",
              "</div>\n",
              "\n",
              "  <div id=\"id_2157cf2a-fba7-4289-9ec5-3f1eba4779e4\">\n",
              "    <style>\n",
              "      .colab-df-generate {\n",
              "        background-color: #E8F0FE;\n",
              "        border: none;\n",
              "        border-radius: 50%;\n",
              "        cursor: pointer;\n",
              "        display: none;\n",
              "        fill: #1967D2;\n",
              "        height: 32px;\n",
              "        padding: 0 0 0 0;\n",
              "        width: 32px;\n",
              "      }\n",
              "\n",
              "      .colab-df-generate:hover {\n",
              "        background-color: #E2EBFA;\n",
              "        box-shadow: 0px 1px 2px rgba(60, 64, 67, 0.3), 0px 1px 3px 1px rgba(60, 64, 67, 0.15);\n",
              "        fill: #174EA6;\n",
              "      }\n",
              "\n",
              "      [theme=dark] .colab-df-generate {\n",
              "        background-color: #3B4455;\n",
              "        fill: #D2E3FC;\n",
              "      }\n",
              "\n",
              "      [theme=dark] .colab-df-generate:hover {\n",
              "        background-color: #434B5C;\n",
              "        box-shadow: 0px 1px 3px 1px rgba(0, 0, 0, 0.15);\n",
              "        filter: drop-shadow(0px 1px 2px rgba(0, 0, 0, 0.3));\n",
              "        fill: #FFFFFF;\n",
              "      }\n",
              "    </style>\n",
              "    <button class=\"colab-df-generate\" onclick=\"generateWithVariable('carsdf')\"\n",
              "            title=\"Generate code using this dataframe.\"\n",
              "            style=\"display:none;\">\n",
              "\n",
              "  <svg xmlns=\"http://www.w3.org/2000/svg\" height=\"24px\"viewBox=\"0 0 24 24\"\n",
              "       width=\"24px\">\n",
              "    <path d=\"M7,19H8.4L18.45,9,17,7.55,7,17.6ZM5,21V16.75L18.45,3.32a2,2,0,0,1,2.83,0l1.4,1.43a1.91,1.91,0,0,1,.58,1.4,1.91,1.91,0,0,1-.58,1.4L9.25,21ZM18.45,9,17,7.55Zm-12,3A5.31,5.31,0,0,0,4.9,8.1,5.31,5.31,0,0,0,1,6.5,5.31,5.31,0,0,0,4.9,4.9,5.31,5.31,0,0,0,6.5,1,5.31,5.31,0,0,0,8.1,4.9,5.31,5.31,0,0,0,12,6.5,5.46,5.46,0,0,0,6.5,12Z\"/>\n",
              "  </svg>\n",
              "    </button>\n",
              "    <script>\n",
              "      (() => {\n",
              "      const buttonEl =\n",
              "        document.querySelector('#id_2157cf2a-fba7-4289-9ec5-3f1eba4779e4 button.colab-df-generate');\n",
              "      buttonEl.style.display =\n",
              "        google.colab.kernel.accessAllowed ? 'block' : 'none';\n",
              "\n",
              "      buttonEl.onclick = () => {\n",
              "        google.colab.notebook.generateWithVariable('carsdf');\n",
              "      }\n",
              "      })();\n",
              "    </script>\n",
              "  </div>\n",
              "\n",
              "    </div>\n",
              "  </div>\n"
            ],
            "application/vnd.google.colaboratory.intrinsic+json": {
              "type": "dataframe",
              "variable_name": "carsdf",
              "summary": "{\n  \"name\": \"carsdf\",\n  \"rows\": 4,\n  \"fields\": [\n    {\n      \"column\": \"Company\",\n      \"properties\": {\n        \"dtype\": \"string\",\n        \"num_unique_values\": 4,\n        \"samples\": [\n          \"Maruthi\",\n          \"TVS\",\n          \"Toyota\"\n        ],\n        \"semantic_type\": \"\",\n        \"description\": \"\"\n      }\n    },\n    {\n      \"column\": \"Price\",\n      \"properties\": {\n        \"dtype\": \"number\",\n        \"std\": 5797,\n        \"min\": 24562,\n        \"max\": 36523,\n        \"num_unique_values\": 4,\n        \"samples\": [\n          24589,\n          25812,\n          24562\n        ],\n        \"semantic_type\": \"\",\n        \"description\": \"\"\n      }\n    },\n    {\n      \"column\": \"Horsepower\",\n      \"properties\": {\n        \"dtype\": \"number\",\n        \"std\": 129,\n        \"min\": 523,\n        \"max\": 812,\n        \"num_unique_values\": 4,\n        \"samples\": [\n          589,\n          812,\n          562\n        ],\n        \"semantic_type\": \"\",\n        \"description\": \"\"\n      }\n    }\n  ]\n}"
            }
          },
          "metadata": {},
          "execution_count": 3
        }
      ]
    },
    {
      "cell_type": "code",
      "source": [
        "import pandas as pd\n",
        "\n",
        "Car_Price = {'Company': ['Toyota', 'Honda', 'BMV', 'Audi'], 'Price': [23845, 17995, 135925 , 71400]}\n",
        "carPriceDf = pd.DataFrame.from_dict(Car_Price)\n",
        "\n",
        "car_Horsepower = {'Company': ['Toyota', 'Honda', 'BMV', 'Audi'], 'horsepower': [141, 80, 182 , 160]}\n",
        "carsHorsepowerDf = pd.DataFrame.from_dict(car_Horsepower)\n",
        "\n",
        "carsDf = pd.merge(carPriceDf, carsHorsepowerDf, on=\"Company\")\n",
        "carsDf"
      ],
      "metadata": {
        "colab": {
          "base_uri": "https://localhost:8080/",
          "height": 174
        },
        "id": "EOGt_iyfrMXh",
        "outputId": "62031355-06ce-4544-d642-61a6ba86a119"
      },
      "execution_count": null,
      "outputs": [
        {
          "output_type": "execute_result",
          "data": {
            "text/plain": [
              "  Company   Price  horsepower\n",
              "0  Toyota   23845         141\n",
              "1   Honda   17995          80\n",
              "2     BMV  135925         182\n",
              "3    Audi   71400         160"
            ],
            "text/html": [
              "\n",
              "  <div id=\"df-7662cb1a-4b48-4ba4-b1a5-dd4b9c20bd34\" class=\"colab-df-container\">\n",
              "    <div>\n",
              "<style scoped>\n",
              "    .dataframe tbody tr th:only-of-type {\n",
              "        vertical-align: middle;\n",
              "    }\n",
              "\n",
              "    .dataframe tbody tr th {\n",
              "        vertical-align: top;\n",
              "    }\n",
              "\n",
              "    .dataframe thead th {\n",
              "        text-align: right;\n",
              "    }\n",
              "</style>\n",
              "<table border=\"1\" class=\"dataframe\">\n",
              "  <thead>\n",
              "    <tr style=\"text-align: right;\">\n",
              "      <th></th>\n",
              "      <th>Company</th>\n",
              "      <th>Price</th>\n",
              "      <th>horsepower</th>\n",
              "    </tr>\n",
              "  </thead>\n",
              "  <tbody>\n",
              "    <tr>\n",
              "      <th>0</th>\n",
              "      <td>Toyota</td>\n",
              "      <td>23845</td>\n",
              "      <td>141</td>\n",
              "    </tr>\n",
              "    <tr>\n",
              "      <th>1</th>\n",
              "      <td>Honda</td>\n",
              "      <td>17995</td>\n",
              "      <td>80</td>\n",
              "    </tr>\n",
              "    <tr>\n",
              "      <th>2</th>\n",
              "      <td>BMV</td>\n",
              "      <td>135925</td>\n",
              "      <td>182</td>\n",
              "    </tr>\n",
              "    <tr>\n",
              "      <th>3</th>\n",
              "      <td>Audi</td>\n",
              "      <td>71400</td>\n",
              "      <td>160</td>\n",
              "    </tr>\n",
              "  </tbody>\n",
              "</table>\n",
              "</div>\n",
              "    <div class=\"colab-df-buttons\">\n",
              "\n",
              "  <div class=\"colab-df-container\">\n",
              "    <button class=\"colab-df-convert\" onclick=\"convertToInteractive('df-7662cb1a-4b48-4ba4-b1a5-dd4b9c20bd34')\"\n",
              "            title=\"Convert this dataframe to an interactive table.\"\n",
              "            style=\"display:none;\">\n",
              "\n",
              "  <svg xmlns=\"http://www.w3.org/2000/svg\" height=\"24px\" viewBox=\"0 -960 960 960\">\n",
              "    <path d=\"M120-120v-720h720v720H120Zm60-500h600v-160H180v160Zm220 220h160v-160H400v160Zm0 220h160v-160H400v160ZM180-400h160v-160H180v160Zm440 0h160v-160H620v160ZM180-180h160v-160H180v160Zm440 0h160v-160H620v160Z\"/>\n",
              "  </svg>\n",
              "    </button>\n",
              "\n",
              "  <style>\n",
              "    .colab-df-container {\n",
              "      display:flex;\n",
              "      gap: 12px;\n",
              "    }\n",
              "\n",
              "    .colab-df-convert {\n",
              "      background-color: #E8F0FE;\n",
              "      border: none;\n",
              "      border-radius: 50%;\n",
              "      cursor: pointer;\n",
              "      display: none;\n",
              "      fill: #1967D2;\n",
              "      height: 32px;\n",
              "      padding: 0 0 0 0;\n",
              "      width: 32px;\n",
              "    }\n",
              "\n",
              "    .colab-df-convert:hover {\n",
              "      background-color: #E2EBFA;\n",
              "      box-shadow: 0px 1px 2px rgba(60, 64, 67, 0.3), 0px 1px 3px 1px rgba(60, 64, 67, 0.15);\n",
              "      fill: #174EA6;\n",
              "    }\n",
              "\n",
              "    .colab-df-buttons div {\n",
              "      margin-bottom: 4px;\n",
              "    }\n",
              "\n",
              "    [theme=dark] .colab-df-convert {\n",
              "      background-color: #3B4455;\n",
              "      fill: #D2E3FC;\n",
              "    }\n",
              "\n",
              "    [theme=dark] .colab-df-convert:hover {\n",
              "      background-color: #434B5C;\n",
              "      box-shadow: 0px 1px 3px 1px rgba(0, 0, 0, 0.15);\n",
              "      filter: drop-shadow(0px 1px 2px rgba(0, 0, 0, 0.3));\n",
              "      fill: #FFFFFF;\n",
              "    }\n",
              "  </style>\n",
              "\n",
              "    <script>\n",
              "      const buttonEl =\n",
              "        document.querySelector('#df-7662cb1a-4b48-4ba4-b1a5-dd4b9c20bd34 button.colab-df-convert');\n",
              "      buttonEl.style.display =\n",
              "        google.colab.kernel.accessAllowed ? 'block' : 'none';\n",
              "\n",
              "      async function convertToInteractive(key) {\n",
              "        const element = document.querySelector('#df-7662cb1a-4b48-4ba4-b1a5-dd4b9c20bd34');\n",
              "        const dataTable =\n",
              "          await google.colab.kernel.invokeFunction('convertToInteractive',\n",
              "                                                    [key], {});\n",
              "        if (!dataTable) return;\n",
              "\n",
              "        const docLinkHtml = 'Like what you see? Visit the ' +\n",
              "          '<a target=\"_blank\" href=https://colab.research.google.com/notebooks/data_table.ipynb>data table notebook</a>'\n",
              "          + ' to learn more about interactive tables.';\n",
              "        element.innerHTML = '';\n",
              "        dataTable['output_type'] = 'display_data';\n",
              "        await google.colab.output.renderOutput(dataTable, element);\n",
              "        const docLink = document.createElement('div');\n",
              "        docLink.innerHTML = docLinkHtml;\n",
              "        element.appendChild(docLink);\n",
              "      }\n",
              "    </script>\n",
              "  </div>\n",
              "\n",
              "\n",
              "<div id=\"df-cfa7133d-7618-4e57-a16b-dc391a71bd39\">\n",
              "  <button class=\"colab-df-quickchart\" onclick=\"quickchart('df-cfa7133d-7618-4e57-a16b-dc391a71bd39')\"\n",
              "            title=\"Suggest charts\"\n",
              "            style=\"display:none;\">\n",
              "\n",
              "<svg xmlns=\"http://www.w3.org/2000/svg\" height=\"24px\"viewBox=\"0 0 24 24\"\n",
              "     width=\"24px\">\n",
              "    <g>\n",
              "        <path d=\"M19 3H5c-1.1 0-2 .9-2 2v14c0 1.1.9 2 2 2h14c1.1 0 2-.9 2-2V5c0-1.1-.9-2-2-2zM9 17H7v-7h2v7zm4 0h-2V7h2v10zm4 0h-2v-4h2v4z\"/>\n",
              "    </g>\n",
              "</svg>\n",
              "  </button>\n",
              "\n",
              "<style>\n",
              "  .colab-df-quickchart {\n",
              "      --bg-color: #E8F0FE;\n",
              "      --fill-color: #1967D2;\n",
              "      --hover-bg-color: #E2EBFA;\n",
              "      --hover-fill-color: #174EA6;\n",
              "      --disabled-fill-color: #AAA;\n",
              "      --disabled-bg-color: #DDD;\n",
              "  }\n",
              "\n",
              "  [theme=dark] .colab-df-quickchart {\n",
              "      --bg-color: #3B4455;\n",
              "      --fill-color: #D2E3FC;\n",
              "      --hover-bg-color: #434B5C;\n",
              "      --hover-fill-color: #FFFFFF;\n",
              "      --disabled-bg-color: #3B4455;\n",
              "      --disabled-fill-color: #666;\n",
              "  }\n",
              "\n",
              "  .colab-df-quickchart {\n",
              "    background-color: var(--bg-color);\n",
              "    border: none;\n",
              "    border-radius: 50%;\n",
              "    cursor: pointer;\n",
              "    display: none;\n",
              "    fill: var(--fill-color);\n",
              "    height: 32px;\n",
              "    padding: 0;\n",
              "    width: 32px;\n",
              "  }\n",
              "\n",
              "  .colab-df-quickchart:hover {\n",
              "    background-color: var(--hover-bg-color);\n",
              "    box-shadow: 0 1px 2px rgba(60, 64, 67, 0.3), 0 1px 3px 1px rgba(60, 64, 67, 0.15);\n",
              "    fill: var(--button-hover-fill-color);\n",
              "  }\n",
              "\n",
              "  .colab-df-quickchart-complete:disabled,\n",
              "  .colab-df-quickchart-complete:disabled:hover {\n",
              "    background-color: var(--disabled-bg-color);\n",
              "    fill: var(--disabled-fill-color);\n",
              "    box-shadow: none;\n",
              "  }\n",
              "\n",
              "  .colab-df-spinner {\n",
              "    border: 2px solid var(--fill-color);\n",
              "    border-color: transparent;\n",
              "    border-bottom-color: var(--fill-color);\n",
              "    animation:\n",
              "      spin 1s steps(1) infinite;\n",
              "  }\n",
              "\n",
              "  @keyframes spin {\n",
              "    0% {\n",
              "      border-color: transparent;\n",
              "      border-bottom-color: var(--fill-color);\n",
              "      border-left-color: var(--fill-color);\n",
              "    }\n",
              "    20% {\n",
              "      border-color: transparent;\n",
              "      border-left-color: var(--fill-color);\n",
              "      border-top-color: var(--fill-color);\n",
              "    }\n",
              "    30% {\n",
              "      border-color: transparent;\n",
              "      border-left-color: var(--fill-color);\n",
              "      border-top-color: var(--fill-color);\n",
              "      border-right-color: var(--fill-color);\n",
              "    }\n",
              "    40% {\n",
              "      border-color: transparent;\n",
              "      border-right-color: var(--fill-color);\n",
              "      border-top-color: var(--fill-color);\n",
              "    }\n",
              "    60% {\n",
              "      border-color: transparent;\n",
              "      border-right-color: var(--fill-color);\n",
              "    }\n",
              "    80% {\n",
              "      border-color: transparent;\n",
              "      border-right-color: var(--fill-color);\n",
              "      border-bottom-color: var(--fill-color);\n",
              "    }\n",
              "    90% {\n",
              "      border-color: transparent;\n",
              "      border-bottom-color: var(--fill-color);\n",
              "    }\n",
              "  }\n",
              "</style>\n",
              "\n",
              "  <script>\n",
              "    async function quickchart(key) {\n",
              "      const quickchartButtonEl =\n",
              "        document.querySelector('#' + key + ' button');\n",
              "      quickchartButtonEl.disabled = true;  // To prevent multiple clicks.\n",
              "      quickchartButtonEl.classList.add('colab-df-spinner');\n",
              "      try {\n",
              "        const charts = await google.colab.kernel.invokeFunction(\n",
              "            'suggestCharts', [key], {});\n",
              "      } catch (error) {\n",
              "        console.error('Error during call to suggestCharts:', error);\n",
              "      }\n",
              "      quickchartButtonEl.classList.remove('colab-df-spinner');\n",
              "      quickchartButtonEl.classList.add('colab-df-quickchart-complete');\n",
              "    }\n",
              "    (() => {\n",
              "      let quickchartButtonEl =\n",
              "        document.querySelector('#df-cfa7133d-7618-4e57-a16b-dc391a71bd39 button');\n",
              "      quickchartButtonEl.style.display =\n",
              "        google.colab.kernel.accessAllowed ? 'block' : 'none';\n",
              "    })();\n",
              "  </script>\n",
              "</div>\n",
              "\n",
              "  <div id=\"id_89f67532-e5a9-47b5-82e9-98adba638b48\">\n",
              "    <style>\n",
              "      .colab-df-generate {\n",
              "        background-color: #E8F0FE;\n",
              "        border: none;\n",
              "        border-radius: 50%;\n",
              "        cursor: pointer;\n",
              "        display: none;\n",
              "        fill: #1967D2;\n",
              "        height: 32px;\n",
              "        padding: 0 0 0 0;\n",
              "        width: 32px;\n",
              "      }\n",
              "\n",
              "      .colab-df-generate:hover {\n",
              "        background-color: #E2EBFA;\n",
              "        box-shadow: 0px 1px 2px rgba(60, 64, 67, 0.3), 0px 1px 3px 1px rgba(60, 64, 67, 0.15);\n",
              "        fill: #174EA6;\n",
              "      }\n",
              "\n",
              "      [theme=dark] .colab-df-generate {\n",
              "        background-color: #3B4455;\n",
              "        fill: #D2E3FC;\n",
              "      }\n",
              "\n",
              "      [theme=dark] .colab-df-generate:hover {\n",
              "        background-color: #434B5C;\n",
              "        box-shadow: 0px 1px 3px 1px rgba(0, 0, 0, 0.15);\n",
              "        filter: drop-shadow(0px 1px 2px rgba(0, 0, 0, 0.3));\n",
              "        fill: #FFFFFF;\n",
              "      }\n",
              "    </style>\n",
              "    <button class=\"colab-df-generate\" onclick=\"generateWithVariable('carsDf')\"\n",
              "            title=\"Generate code using this dataframe.\"\n",
              "            style=\"display:none;\">\n",
              "\n",
              "  <svg xmlns=\"http://www.w3.org/2000/svg\" height=\"24px\"viewBox=\"0 0 24 24\"\n",
              "       width=\"24px\">\n",
              "    <path d=\"M7,19H8.4L18.45,9,17,7.55,7,17.6ZM5,21V16.75L18.45,3.32a2,2,0,0,1,2.83,0l1.4,1.43a1.91,1.91,0,0,1,.58,1.4,1.91,1.91,0,0,1-.58,1.4L9.25,21ZM18.45,9,17,7.55Zm-12,3A5.31,5.31,0,0,0,4.9,8.1,5.31,5.31,0,0,0,1,6.5,5.31,5.31,0,0,0,4.9,4.9,5.31,5.31,0,0,0,6.5,1,5.31,5.31,0,0,0,8.1,4.9,5.31,5.31,0,0,0,12,6.5,5.46,5.46,0,0,0,6.5,12Z\"/>\n",
              "  </svg>\n",
              "    </button>\n",
              "    <script>\n",
              "      (() => {\n",
              "      const buttonEl =\n",
              "        document.querySelector('#id_89f67532-e5a9-47b5-82e9-98adba638b48 button.colab-df-generate');\n",
              "      buttonEl.style.display =\n",
              "        google.colab.kernel.accessAllowed ? 'block' : 'none';\n",
              "\n",
              "      buttonEl.onclick = () => {\n",
              "        google.colab.notebook.generateWithVariable('carsDf');\n",
              "      }\n",
              "      })();\n",
              "    </script>\n",
              "  </div>\n",
              "\n",
              "    </div>\n",
              "  </div>\n"
            ],
            "application/vnd.google.colaboratory.intrinsic+json": {
              "type": "dataframe",
              "variable_name": "carsDf",
              "summary": "{\n  \"name\": \"carsDf\",\n  \"rows\": 4,\n  \"fields\": [\n    {\n      \"column\": \"Company\",\n      \"properties\": {\n        \"dtype\": \"string\",\n        \"num_unique_values\": 4,\n        \"samples\": [\n          \"Honda\",\n          \"Audi\",\n          \"Toyota\"\n        ],\n        \"semantic_type\": \"\",\n        \"description\": \"\"\n      }\n    },\n    {\n      \"column\": \"Price\",\n      \"properties\": {\n        \"dtype\": \"number\",\n        \"std\": 54605,\n        \"min\": 17995,\n        \"max\": 135925,\n        \"num_unique_values\": 4,\n        \"samples\": [\n          17995,\n          71400,\n          23845\n        ],\n        \"semantic_type\": \"\",\n        \"description\": \"\"\n      }\n    },\n    {\n      \"column\": \"horsepower\",\n      \"properties\": {\n        \"dtype\": \"number\",\n        \"std\": 43,\n        \"min\": 80,\n        \"max\": 182,\n        \"num_unique_values\": 4,\n        \"samples\": [\n          80,\n          160,\n          141\n        ],\n        \"semantic_type\": \"\",\n        \"description\": \"\"\n      }\n    }\n  ]\n}"
            }
          },
          "metadata": {},
          "execution_count": 4
        }
      ]
    },
    {
      "cell_type": "code",
      "source": [
        "import pandas as pd\n",
        "import numpy as np\n",
        "GermanCars = {'Company': ['Ford', 'Mercedes', 'BMV', 'Audi'], 'Price': [23845, 171995, 135925 , 71400]}\n",
        "carsDf1 = pd.DataFrame.from_dict(GermanCars)\n",
        "\n",
        "japaneseCars = {'Company': ['Toyota', 'Honda', 'Nissan', 'Mitsubishi '], 'Price': [29995, 23600, 61500 , 58900]}\n",
        "carsDf2 = pd.DataFrame.from_dict(japaneseCars)\n",
        "\n",
        "carsDf = pd.concat([carsDf1, carsDf2], keys=[\"Germany\", \"Japan\"])\n",
        "carsDf"
      ],
      "metadata": {
        "id": "0J5JNxYUrnTS",
        "outputId": "589eeb25-988f-4a30-9e35-d43f054a5640",
        "colab": {
          "base_uri": "https://localhost:8080/",
          "height": 300
        }
      },
      "execution_count": null,
      "outputs": [
        {
          "output_type": "execute_result",
          "data": {
            "text/plain": [
              "               Company   Price\n",
              "Germany 0         Ford   23845\n",
              "        1     Mercedes  171995\n",
              "        2          BMV  135925\n",
              "        3         Audi   71400\n",
              "Japan   0       Toyota   29995\n",
              "        1        Honda   23600\n",
              "        2       Nissan   61500\n",
              "        3  Mitsubishi    58900"
            ],
            "text/html": [
              "\n",
              "  <div id=\"df-7b636152-ae77-4580-9fc3-96c2e0b764a5\" class=\"colab-df-container\">\n",
              "    <div>\n",
              "<style scoped>\n",
              "    .dataframe tbody tr th:only-of-type {\n",
              "        vertical-align: middle;\n",
              "    }\n",
              "\n",
              "    .dataframe tbody tr th {\n",
              "        vertical-align: top;\n",
              "    }\n",
              "\n",
              "    .dataframe thead th {\n",
              "        text-align: right;\n",
              "    }\n",
              "</style>\n",
              "<table border=\"1\" class=\"dataframe\">\n",
              "  <thead>\n",
              "    <tr style=\"text-align: right;\">\n",
              "      <th></th>\n",
              "      <th></th>\n",
              "      <th>Company</th>\n",
              "      <th>Price</th>\n",
              "    </tr>\n",
              "  </thead>\n",
              "  <tbody>\n",
              "    <tr>\n",
              "      <th rowspan=\"4\" valign=\"top\">Germany</th>\n",
              "      <th>0</th>\n",
              "      <td>Ford</td>\n",
              "      <td>23845</td>\n",
              "    </tr>\n",
              "    <tr>\n",
              "      <th>1</th>\n",
              "      <td>Mercedes</td>\n",
              "      <td>171995</td>\n",
              "    </tr>\n",
              "    <tr>\n",
              "      <th>2</th>\n",
              "      <td>BMV</td>\n",
              "      <td>135925</td>\n",
              "    </tr>\n",
              "    <tr>\n",
              "      <th>3</th>\n",
              "      <td>Audi</td>\n",
              "      <td>71400</td>\n",
              "    </tr>\n",
              "    <tr>\n",
              "      <th rowspan=\"4\" valign=\"top\">Japan</th>\n",
              "      <th>0</th>\n",
              "      <td>Toyota</td>\n",
              "      <td>29995</td>\n",
              "    </tr>\n",
              "    <tr>\n",
              "      <th>1</th>\n",
              "      <td>Honda</td>\n",
              "      <td>23600</td>\n",
              "    </tr>\n",
              "    <tr>\n",
              "      <th>2</th>\n",
              "      <td>Nissan</td>\n",
              "      <td>61500</td>\n",
              "    </tr>\n",
              "    <tr>\n",
              "      <th>3</th>\n",
              "      <td>Mitsubishi</td>\n",
              "      <td>58900</td>\n",
              "    </tr>\n",
              "  </tbody>\n",
              "</table>\n",
              "</div>\n",
              "    <div class=\"colab-df-buttons\">\n",
              "\n",
              "  <div class=\"colab-df-container\">\n",
              "    <button class=\"colab-df-convert\" onclick=\"convertToInteractive('df-7b636152-ae77-4580-9fc3-96c2e0b764a5')\"\n",
              "            title=\"Convert this dataframe to an interactive table.\"\n",
              "            style=\"display:none;\">\n",
              "\n",
              "  <svg xmlns=\"http://www.w3.org/2000/svg\" height=\"24px\" viewBox=\"0 -960 960 960\">\n",
              "    <path d=\"M120-120v-720h720v720H120Zm60-500h600v-160H180v160Zm220 220h160v-160H400v160Zm0 220h160v-160H400v160ZM180-400h160v-160H180v160Zm440 0h160v-160H620v160ZM180-180h160v-160H180v160Zm440 0h160v-160H620v160Z\"/>\n",
              "  </svg>\n",
              "    </button>\n",
              "\n",
              "  <style>\n",
              "    .colab-df-container {\n",
              "      display:flex;\n",
              "      gap: 12px;\n",
              "    }\n",
              "\n",
              "    .colab-df-convert {\n",
              "      background-color: #E8F0FE;\n",
              "      border: none;\n",
              "      border-radius: 50%;\n",
              "      cursor: pointer;\n",
              "      display: none;\n",
              "      fill: #1967D2;\n",
              "      height: 32px;\n",
              "      padding: 0 0 0 0;\n",
              "      width: 32px;\n",
              "    }\n",
              "\n",
              "    .colab-df-convert:hover {\n",
              "      background-color: #E2EBFA;\n",
              "      box-shadow: 0px 1px 2px rgba(60, 64, 67, 0.3), 0px 1px 3px 1px rgba(60, 64, 67, 0.15);\n",
              "      fill: #174EA6;\n",
              "    }\n",
              "\n",
              "    .colab-df-buttons div {\n",
              "      margin-bottom: 4px;\n",
              "    }\n",
              "\n",
              "    [theme=dark] .colab-df-convert {\n",
              "      background-color: #3B4455;\n",
              "      fill: #D2E3FC;\n",
              "    }\n",
              "\n",
              "    [theme=dark] .colab-df-convert:hover {\n",
              "      background-color: #434B5C;\n",
              "      box-shadow: 0px 1px 3px 1px rgba(0, 0, 0, 0.15);\n",
              "      filter: drop-shadow(0px 1px 2px rgba(0, 0, 0, 0.3));\n",
              "      fill: #FFFFFF;\n",
              "    }\n",
              "  </style>\n",
              "\n",
              "    <script>\n",
              "      const buttonEl =\n",
              "        document.querySelector('#df-7b636152-ae77-4580-9fc3-96c2e0b764a5 button.colab-df-convert');\n",
              "      buttonEl.style.display =\n",
              "        google.colab.kernel.accessAllowed ? 'block' : 'none';\n",
              "\n",
              "      async function convertToInteractive(key) {\n",
              "        const element = document.querySelector('#df-7b636152-ae77-4580-9fc3-96c2e0b764a5');\n",
              "        const dataTable =\n",
              "          await google.colab.kernel.invokeFunction('convertToInteractive',\n",
              "                                                    [key], {});\n",
              "        if (!dataTable) return;\n",
              "\n",
              "        const docLinkHtml = 'Like what you see? Visit the ' +\n",
              "          '<a target=\"_blank\" href=https://colab.research.google.com/notebooks/data_table.ipynb>data table notebook</a>'\n",
              "          + ' to learn more about interactive tables.';\n",
              "        element.innerHTML = '';\n",
              "        dataTable['output_type'] = 'display_data';\n",
              "        await google.colab.output.renderOutput(dataTable, element);\n",
              "        const docLink = document.createElement('div');\n",
              "        docLink.innerHTML = docLinkHtml;\n",
              "        element.appendChild(docLink);\n",
              "      }\n",
              "    </script>\n",
              "  </div>\n",
              "\n",
              "\n",
              "<div id=\"df-6f8eff53-bc04-4966-95c9-3dafbf848bb8\">\n",
              "  <button class=\"colab-df-quickchart\" onclick=\"quickchart('df-6f8eff53-bc04-4966-95c9-3dafbf848bb8')\"\n",
              "            title=\"Suggest charts\"\n",
              "            style=\"display:none;\">\n",
              "\n",
              "<svg xmlns=\"http://www.w3.org/2000/svg\" height=\"24px\"viewBox=\"0 0 24 24\"\n",
              "     width=\"24px\">\n",
              "    <g>\n",
              "        <path d=\"M19 3H5c-1.1 0-2 .9-2 2v14c0 1.1.9 2 2 2h14c1.1 0 2-.9 2-2V5c0-1.1-.9-2-2-2zM9 17H7v-7h2v7zm4 0h-2V7h2v10zm4 0h-2v-4h2v4z\"/>\n",
              "    </g>\n",
              "</svg>\n",
              "  </button>\n",
              "\n",
              "<style>\n",
              "  .colab-df-quickchart {\n",
              "      --bg-color: #E8F0FE;\n",
              "      --fill-color: #1967D2;\n",
              "      --hover-bg-color: #E2EBFA;\n",
              "      --hover-fill-color: #174EA6;\n",
              "      --disabled-fill-color: #AAA;\n",
              "      --disabled-bg-color: #DDD;\n",
              "  }\n",
              "\n",
              "  [theme=dark] .colab-df-quickchart {\n",
              "      --bg-color: #3B4455;\n",
              "      --fill-color: #D2E3FC;\n",
              "      --hover-bg-color: #434B5C;\n",
              "      --hover-fill-color: #FFFFFF;\n",
              "      --disabled-bg-color: #3B4455;\n",
              "      --disabled-fill-color: #666;\n",
              "  }\n",
              "\n",
              "  .colab-df-quickchart {\n",
              "    background-color: var(--bg-color);\n",
              "    border: none;\n",
              "    border-radius: 50%;\n",
              "    cursor: pointer;\n",
              "    display: none;\n",
              "    fill: var(--fill-color);\n",
              "    height: 32px;\n",
              "    padding: 0;\n",
              "    width: 32px;\n",
              "  }\n",
              "\n",
              "  .colab-df-quickchart:hover {\n",
              "    background-color: var(--hover-bg-color);\n",
              "    box-shadow: 0 1px 2px rgba(60, 64, 67, 0.3), 0 1px 3px 1px rgba(60, 64, 67, 0.15);\n",
              "    fill: var(--button-hover-fill-color);\n",
              "  }\n",
              "\n",
              "  .colab-df-quickchart-complete:disabled,\n",
              "  .colab-df-quickchart-complete:disabled:hover {\n",
              "    background-color: var(--disabled-bg-color);\n",
              "    fill: var(--disabled-fill-color);\n",
              "    box-shadow: none;\n",
              "  }\n",
              "\n",
              "  .colab-df-spinner {\n",
              "    border: 2px solid var(--fill-color);\n",
              "    border-color: transparent;\n",
              "    border-bottom-color: var(--fill-color);\n",
              "    animation:\n",
              "      spin 1s steps(1) infinite;\n",
              "  }\n",
              "\n",
              "  @keyframes spin {\n",
              "    0% {\n",
              "      border-color: transparent;\n",
              "      border-bottom-color: var(--fill-color);\n",
              "      border-left-color: var(--fill-color);\n",
              "    }\n",
              "    20% {\n",
              "      border-color: transparent;\n",
              "      border-left-color: var(--fill-color);\n",
              "      border-top-color: var(--fill-color);\n",
              "    }\n",
              "    30% {\n",
              "      border-color: transparent;\n",
              "      border-left-color: var(--fill-color);\n",
              "      border-top-color: var(--fill-color);\n",
              "      border-right-color: var(--fill-color);\n",
              "    }\n",
              "    40% {\n",
              "      border-color: transparent;\n",
              "      border-right-color: var(--fill-color);\n",
              "      border-top-color: var(--fill-color);\n",
              "    }\n",
              "    60% {\n",
              "      border-color: transparent;\n",
              "      border-right-color: var(--fill-color);\n",
              "    }\n",
              "    80% {\n",
              "      border-color: transparent;\n",
              "      border-right-color: var(--fill-color);\n",
              "      border-bottom-color: var(--fill-color);\n",
              "    }\n",
              "    90% {\n",
              "      border-color: transparent;\n",
              "      border-bottom-color: var(--fill-color);\n",
              "    }\n",
              "  }\n",
              "</style>\n",
              "\n",
              "  <script>\n",
              "    async function quickchart(key) {\n",
              "      const quickchartButtonEl =\n",
              "        document.querySelector('#' + key + ' button');\n",
              "      quickchartButtonEl.disabled = true;  // To prevent multiple clicks.\n",
              "      quickchartButtonEl.classList.add('colab-df-spinner');\n",
              "      try {\n",
              "        const charts = await google.colab.kernel.invokeFunction(\n",
              "            'suggestCharts', [key], {});\n",
              "      } catch (error) {\n",
              "        console.error('Error during call to suggestCharts:', error);\n",
              "      }\n",
              "      quickchartButtonEl.classList.remove('colab-df-spinner');\n",
              "      quickchartButtonEl.classList.add('colab-df-quickchart-complete');\n",
              "    }\n",
              "    (() => {\n",
              "      let quickchartButtonEl =\n",
              "        document.querySelector('#df-6f8eff53-bc04-4966-95c9-3dafbf848bb8 button');\n",
              "      quickchartButtonEl.style.display =\n",
              "        google.colab.kernel.accessAllowed ? 'block' : 'none';\n",
              "    })();\n",
              "  </script>\n",
              "</div>\n",
              "\n",
              "  <div id=\"id_c34a64ee-0fbb-4f54-8ef9-e56ac5d0e2ee\">\n",
              "    <style>\n",
              "      .colab-df-generate {\n",
              "        background-color: #E8F0FE;\n",
              "        border: none;\n",
              "        border-radius: 50%;\n",
              "        cursor: pointer;\n",
              "        display: none;\n",
              "        fill: #1967D2;\n",
              "        height: 32px;\n",
              "        padding: 0 0 0 0;\n",
              "        width: 32px;\n",
              "      }\n",
              "\n",
              "      .colab-df-generate:hover {\n",
              "        background-color: #E2EBFA;\n",
              "        box-shadow: 0px 1px 2px rgba(60, 64, 67, 0.3), 0px 1px 3px 1px rgba(60, 64, 67, 0.15);\n",
              "        fill: #174EA6;\n",
              "      }\n",
              "\n",
              "      [theme=dark] .colab-df-generate {\n",
              "        background-color: #3B4455;\n",
              "        fill: #D2E3FC;\n",
              "      }\n",
              "\n",
              "      [theme=dark] .colab-df-generate:hover {\n",
              "        background-color: #434B5C;\n",
              "        box-shadow: 0px 1px 3px 1px rgba(0, 0, 0, 0.15);\n",
              "        filter: drop-shadow(0px 1px 2px rgba(0, 0, 0, 0.3));\n",
              "        fill: #FFFFFF;\n",
              "      }\n",
              "    </style>\n",
              "    <button class=\"colab-df-generate\" onclick=\"generateWithVariable('carsDf')\"\n",
              "            title=\"Generate code using this dataframe.\"\n",
              "            style=\"display:none;\">\n",
              "\n",
              "  <svg xmlns=\"http://www.w3.org/2000/svg\" height=\"24px\"viewBox=\"0 0 24 24\"\n",
              "       width=\"24px\">\n",
              "    <path d=\"M7,19H8.4L18.45,9,17,7.55,7,17.6ZM5,21V16.75L18.45,3.32a2,2,0,0,1,2.83,0l1.4,1.43a1.91,1.91,0,0,1,.58,1.4,1.91,1.91,0,0,1-.58,1.4L9.25,21ZM18.45,9,17,7.55Zm-12,3A5.31,5.31,0,0,0,4.9,8.1,5.31,5.31,0,0,0,1,6.5,5.31,5.31,0,0,0,4.9,4.9,5.31,5.31,0,0,0,6.5,1,5.31,5.31,0,0,0,8.1,4.9,5.31,5.31,0,0,0,12,6.5,5.46,5.46,0,0,0,6.5,12Z\"/>\n",
              "  </svg>\n",
              "    </button>\n",
              "    <script>\n",
              "      (() => {\n",
              "      const buttonEl =\n",
              "        document.querySelector('#id_c34a64ee-0fbb-4f54-8ef9-e56ac5d0e2ee button.colab-df-generate');\n",
              "      buttonEl.style.display =\n",
              "        google.colab.kernel.accessAllowed ? 'block' : 'none';\n",
              "\n",
              "      buttonEl.onclick = () => {\n",
              "        google.colab.notebook.generateWithVariable('carsDf');\n",
              "      }\n",
              "      })();\n",
              "    </script>\n",
              "  </div>\n",
              "\n",
              "    </div>\n",
              "  </div>\n"
            ],
            "application/vnd.google.colaboratory.intrinsic+json": {
              "type": "dataframe",
              "variable_name": "carsDf",
              "summary": "{\n  \"name\": \"carsDf\",\n  \"rows\": 8,\n  \"fields\": [\n    {\n      \"column\": \"Company\",\n      \"properties\": {\n        \"dtype\": \"string\",\n        \"num_unique_values\": 8,\n        \"samples\": [\n          \"Mercedes\",\n          \"Honda\",\n          \"Ford\"\n        ],\n        \"semantic_type\": \"\",\n        \"description\": \"\"\n      }\n    },\n    {\n      \"column\": \"Price\",\n      \"properties\": {\n        \"dtype\": \"number\",\n        \"std\": 54502,\n        \"min\": 23600,\n        \"max\": 171995,\n        \"num_unique_values\": 8,\n        \"samples\": [\n          171995,\n          23600,\n          23845\n        ],\n        \"semantic_type\": \"\",\n        \"description\": \"\"\n      }\n    }\n  ]\n}"
            }
          },
          "metadata": {},
          "execution_count": 4
        }
      ]
    },
    {
      "cell_type": "code",
      "source": [
        "df = pd.read_csv('/content/sample_data/california_housing_test.csv')"
      ],
      "metadata": {
        "id": "JdLzhTcgn_j6"
      },
      "execution_count": null,
      "outputs": []
    },
    {
      "cell_type": "code",
      "source": [
        "df.head()"
      ],
      "metadata": {
        "colab": {
          "base_uri": "https://localhost:8080/",
          "height": 226
        },
        "id": "gPoK2VvVoJ6Q",
        "outputId": "675148d0-81c9-4c6f-e594-ed0304de1295"
      },
      "execution_count": null,
      "outputs": [
        {
          "output_type": "execute_result",
          "data": {
            "text/plain": [
              "   longitude  latitude  housing_median_age  total_rooms  total_bedrooms  \\\n",
              "0    -122.05     37.37                27.0       3885.0           661.0   \n",
              "1    -118.30     34.26                43.0       1510.0           310.0   \n",
              "2    -117.81     33.78                27.0       3589.0           507.0   \n",
              "3    -118.36     33.82                28.0         67.0            15.0   \n",
              "4    -119.67     36.33                19.0       1241.0           244.0   \n",
              "\n",
              "   population  households  median_income  median_house_value  \n",
              "0      1537.0       606.0         6.6085            344700.0  \n",
              "1       809.0       277.0         3.5990            176500.0  \n",
              "2      1484.0       495.0         5.7934            270500.0  \n",
              "3        49.0        11.0         6.1359            330000.0  \n",
              "4       850.0       237.0         2.9375             81700.0  "
            ],
            "text/html": [
              "\n",
              "  <div id=\"df-601a3f48-3326-4a7a-bbbf-fdf53a90b405\" class=\"colab-df-container\">\n",
              "    <div>\n",
              "<style scoped>\n",
              "    .dataframe tbody tr th:only-of-type {\n",
              "        vertical-align: middle;\n",
              "    }\n",
              "\n",
              "    .dataframe tbody tr th {\n",
              "        vertical-align: top;\n",
              "    }\n",
              "\n",
              "    .dataframe thead th {\n",
              "        text-align: right;\n",
              "    }\n",
              "</style>\n",
              "<table border=\"1\" class=\"dataframe\">\n",
              "  <thead>\n",
              "    <tr style=\"text-align: right;\">\n",
              "      <th></th>\n",
              "      <th>longitude</th>\n",
              "      <th>latitude</th>\n",
              "      <th>housing_median_age</th>\n",
              "      <th>total_rooms</th>\n",
              "      <th>total_bedrooms</th>\n",
              "      <th>population</th>\n",
              "      <th>households</th>\n",
              "      <th>median_income</th>\n",
              "      <th>median_house_value</th>\n",
              "    </tr>\n",
              "  </thead>\n",
              "  <tbody>\n",
              "    <tr>\n",
              "      <th>0</th>\n",
              "      <td>-122.05</td>\n",
              "      <td>37.37</td>\n",
              "      <td>27.0</td>\n",
              "      <td>3885.0</td>\n",
              "      <td>661.0</td>\n",
              "      <td>1537.0</td>\n",
              "      <td>606.0</td>\n",
              "      <td>6.6085</td>\n",
              "      <td>344700.0</td>\n",
              "    </tr>\n",
              "    <tr>\n",
              "      <th>1</th>\n",
              "      <td>-118.30</td>\n",
              "      <td>34.26</td>\n",
              "      <td>43.0</td>\n",
              "      <td>1510.0</td>\n",
              "      <td>310.0</td>\n",
              "      <td>809.0</td>\n",
              "      <td>277.0</td>\n",
              "      <td>3.5990</td>\n",
              "      <td>176500.0</td>\n",
              "    </tr>\n",
              "    <tr>\n",
              "      <th>2</th>\n",
              "      <td>-117.81</td>\n",
              "      <td>33.78</td>\n",
              "      <td>27.0</td>\n",
              "      <td>3589.0</td>\n",
              "      <td>507.0</td>\n",
              "      <td>1484.0</td>\n",
              "      <td>495.0</td>\n",
              "      <td>5.7934</td>\n",
              "      <td>270500.0</td>\n",
              "    </tr>\n",
              "    <tr>\n",
              "      <th>3</th>\n",
              "      <td>-118.36</td>\n",
              "      <td>33.82</td>\n",
              "      <td>28.0</td>\n",
              "      <td>67.0</td>\n",
              "      <td>15.0</td>\n",
              "      <td>49.0</td>\n",
              "      <td>11.0</td>\n",
              "      <td>6.1359</td>\n",
              "      <td>330000.0</td>\n",
              "    </tr>\n",
              "    <tr>\n",
              "      <th>4</th>\n",
              "      <td>-119.67</td>\n",
              "      <td>36.33</td>\n",
              "      <td>19.0</td>\n",
              "      <td>1241.0</td>\n",
              "      <td>244.0</td>\n",
              "      <td>850.0</td>\n",
              "      <td>237.0</td>\n",
              "      <td>2.9375</td>\n",
              "      <td>81700.0</td>\n",
              "    </tr>\n",
              "  </tbody>\n",
              "</table>\n",
              "</div>\n",
              "    <div class=\"colab-df-buttons\">\n",
              "\n",
              "  <div class=\"colab-df-container\">\n",
              "    <button class=\"colab-df-convert\" onclick=\"convertToInteractive('df-601a3f48-3326-4a7a-bbbf-fdf53a90b405')\"\n",
              "            title=\"Convert this dataframe to an interactive table.\"\n",
              "            style=\"display:none;\">\n",
              "\n",
              "  <svg xmlns=\"http://www.w3.org/2000/svg\" height=\"24px\" viewBox=\"0 -960 960 960\">\n",
              "    <path d=\"M120-120v-720h720v720H120Zm60-500h600v-160H180v160Zm220 220h160v-160H400v160Zm0 220h160v-160H400v160ZM180-400h160v-160H180v160Zm440 0h160v-160H620v160ZM180-180h160v-160H180v160Zm440 0h160v-160H620v160Z\"/>\n",
              "  </svg>\n",
              "    </button>\n",
              "\n",
              "  <style>\n",
              "    .colab-df-container {\n",
              "      display:flex;\n",
              "      gap: 12px;\n",
              "    }\n",
              "\n",
              "    .colab-df-convert {\n",
              "      background-color: #E8F0FE;\n",
              "      border: none;\n",
              "      border-radius: 50%;\n",
              "      cursor: pointer;\n",
              "      display: none;\n",
              "      fill: #1967D2;\n",
              "      height: 32px;\n",
              "      padding: 0 0 0 0;\n",
              "      width: 32px;\n",
              "    }\n",
              "\n",
              "    .colab-df-convert:hover {\n",
              "      background-color: #E2EBFA;\n",
              "      box-shadow: 0px 1px 2px rgba(60, 64, 67, 0.3), 0px 1px 3px 1px rgba(60, 64, 67, 0.15);\n",
              "      fill: #174EA6;\n",
              "    }\n",
              "\n",
              "    .colab-df-buttons div {\n",
              "      margin-bottom: 4px;\n",
              "    }\n",
              "\n",
              "    [theme=dark] .colab-df-convert {\n",
              "      background-color: #3B4455;\n",
              "      fill: #D2E3FC;\n",
              "    }\n",
              "\n",
              "    [theme=dark] .colab-df-convert:hover {\n",
              "      background-color: #434B5C;\n",
              "      box-shadow: 0px 1px 3px 1px rgba(0, 0, 0, 0.15);\n",
              "      filter: drop-shadow(0px 1px 2px rgba(0, 0, 0, 0.3));\n",
              "      fill: #FFFFFF;\n",
              "    }\n",
              "  </style>\n",
              "\n",
              "    <script>\n",
              "      const buttonEl =\n",
              "        document.querySelector('#df-601a3f48-3326-4a7a-bbbf-fdf53a90b405 button.colab-df-convert');\n",
              "      buttonEl.style.display =\n",
              "        google.colab.kernel.accessAllowed ? 'block' : 'none';\n",
              "\n",
              "      async function convertToInteractive(key) {\n",
              "        const element = document.querySelector('#df-601a3f48-3326-4a7a-bbbf-fdf53a90b405');\n",
              "        const dataTable =\n",
              "          await google.colab.kernel.invokeFunction('convertToInteractive',\n",
              "                                                    [key], {});\n",
              "        if (!dataTable) return;\n",
              "\n",
              "        const docLinkHtml = 'Like what you see? Visit the ' +\n",
              "          '<a target=\"_blank\" href=https://colab.research.google.com/notebooks/data_table.ipynb>data table notebook</a>'\n",
              "          + ' to learn more about interactive tables.';\n",
              "        element.innerHTML = '';\n",
              "        dataTable['output_type'] = 'display_data';\n",
              "        await google.colab.output.renderOutput(dataTable, element);\n",
              "        const docLink = document.createElement('div');\n",
              "        docLink.innerHTML = docLinkHtml;\n",
              "        element.appendChild(docLink);\n",
              "      }\n",
              "    </script>\n",
              "  </div>\n",
              "\n",
              "\n",
              "<div id=\"df-9e3b3e33-3680-4a75-b80e-785cf82d8cd3\">\n",
              "  <button class=\"colab-df-quickchart\" onclick=\"quickchart('df-9e3b3e33-3680-4a75-b80e-785cf82d8cd3')\"\n",
              "            title=\"Suggest charts\"\n",
              "            style=\"display:none;\">\n",
              "\n",
              "<svg xmlns=\"http://www.w3.org/2000/svg\" height=\"24px\"viewBox=\"0 0 24 24\"\n",
              "     width=\"24px\">\n",
              "    <g>\n",
              "        <path d=\"M19 3H5c-1.1 0-2 .9-2 2v14c0 1.1.9 2 2 2h14c1.1 0 2-.9 2-2V5c0-1.1-.9-2-2-2zM9 17H7v-7h2v7zm4 0h-2V7h2v10zm4 0h-2v-4h2v4z\"/>\n",
              "    </g>\n",
              "</svg>\n",
              "  </button>\n",
              "\n",
              "<style>\n",
              "  .colab-df-quickchart {\n",
              "      --bg-color: #E8F0FE;\n",
              "      --fill-color: #1967D2;\n",
              "      --hover-bg-color: #E2EBFA;\n",
              "      --hover-fill-color: #174EA6;\n",
              "      --disabled-fill-color: #AAA;\n",
              "      --disabled-bg-color: #DDD;\n",
              "  }\n",
              "\n",
              "  [theme=dark] .colab-df-quickchart {\n",
              "      --bg-color: #3B4455;\n",
              "      --fill-color: #D2E3FC;\n",
              "      --hover-bg-color: #434B5C;\n",
              "      --hover-fill-color: #FFFFFF;\n",
              "      --disabled-bg-color: #3B4455;\n",
              "      --disabled-fill-color: #666;\n",
              "  }\n",
              "\n",
              "  .colab-df-quickchart {\n",
              "    background-color: var(--bg-color);\n",
              "    border: none;\n",
              "    border-radius: 50%;\n",
              "    cursor: pointer;\n",
              "    display: none;\n",
              "    fill: var(--fill-color);\n",
              "    height: 32px;\n",
              "    padding: 0;\n",
              "    width: 32px;\n",
              "  }\n",
              "\n",
              "  .colab-df-quickchart:hover {\n",
              "    background-color: var(--hover-bg-color);\n",
              "    box-shadow: 0 1px 2px rgba(60, 64, 67, 0.3), 0 1px 3px 1px rgba(60, 64, 67, 0.15);\n",
              "    fill: var(--button-hover-fill-color);\n",
              "  }\n",
              "\n",
              "  .colab-df-quickchart-complete:disabled,\n",
              "  .colab-df-quickchart-complete:disabled:hover {\n",
              "    background-color: var(--disabled-bg-color);\n",
              "    fill: var(--disabled-fill-color);\n",
              "    box-shadow: none;\n",
              "  }\n",
              "\n",
              "  .colab-df-spinner {\n",
              "    border: 2px solid var(--fill-color);\n",
              "    border-color: transparent;\n",
              "    border-bottom-color: var(--fill-color);\n",
              "    animation:\n",
              "      spin 1s steps(1) infinite;\n",
              "  }\n",
              "\n",
              "  @keyframes spin {\n",
              "    0% {\n",
              "      border-color: transparent;\n",
              "      border-bottom-color: var(--fill-color);\n",
              "      border-left-color: var(--fill-color);\n",
              "    }\n",
              "    20% {\n",
              "      border-color: transparent;\n",
              "      border-left-color: var(--fill-color);\n",
              "      border-top-color: var(--fill-color);\n",
              "    }\n",
              "    30% {\n",
              "      border-color: transparent;\n",
              "      border-left-color: var(--fill-color);\n",
              "      border-top-color: var(--fill-color);\n",
              "      border-right-color: var(--fill-color);\n",
              "    }\n",
              "    40% {\n",
              "      border-color: transparent;\n",
              "      border-right-color: var(--fill-color);\n",
              "      border-top-color: var(--fill-color);\n",
              "    }\n",
              "    60% {\n",
              "      border-color: transparent;\n",
              "      border-right-color: var(--fill-color);\n",
              "    }\n",
              "    80% {\n",
              "      border-color: transparent;\n",
              "      border-right-color: var(--fill-color);\n",
              "      border-bottom-color: var(--fill-color);\n",
              "    }\n",
              "    90% {\n",
              "      border-color: transparent;\n",
              "      border-bottom-color: var(--fill-color);\n",
              "    }\n",
              "  }\n",
              "</style>\n",
              "\n",
              "  <script>\n",
              "    async function quickchart(key) {\n",
              "      const quickchartButtonEl =\n",
              "        document.querySelector('#' + key + ' button');\n",
              "      quickchartButtonEl.disabled = true;  // To prevent multiple clicks.\n",
              "      quickchartButtonEl.classList.add('colab-df-spinner');\n",
              "      try {\n",
              "        const charts = await google.colab.kernel.invokeFunction(\n",
              "            'suggestCharts', [key], {});\n",
              "      } catch (error) {\n",
              "        console.error('Error during call to suggestCharts:', error);\n",
              "      }\n",
              "      quickchartButtonEl.classList.remove('colab-df-spinner');\n",
              "      quickchartButtonEl.classList.add('colab-df-quickchart-complete');\n",
              "    }\n",
              "    (() => {\n",
              "      let quickchartButtonEl =\n",
              "        document.querySelector('#df-9e3b3e33-3680-4a75-b80e-785cf82d8cd3 button');\n",
              "      quickchartButtonEl.style.display =\n",
              "        google.colab.kernel.accessAllowed ? 'block' : 'none';\n",
              "    })();\n",
              "  </script>\n",
              "</div>\n",
              "\n",
              "    </div>\n",
              "  </div>\n"
            ],
            "application/vnd.google.colaboratory.intrinsic+json": {
              "type": "dataframe",
              "variable_name": "df",
              "summary": "{\n  \"name\": \"df\",\n  \"rows\": 3000,\n  \"fields\": [\n    {\n      \"column\": \"longitude\",\n      \"properties\": {\n        \"dtype\": \"number\",\n        \"std\": 1.9949362939550175,\n        \"min\": -124.18,\n        \"max\": -114.49,\n        \"num_unique_values\": 607,\n        \"samples\": [\n          -121.15,\n          -121.46,\n          -121.02\n        ],\n        \"semantic_type\": \"\",\n        \"description\": \"\"\n      }\n    },\n    {\n      \"column\": \"latitude\",\n      \"properties\": {\n        \"dtype\": \"number\",\n        \"std\": 2.129669523343834,\n        \"min\": 32.56,\n        \"max\": 41.92,\n        \"num_unique_values\": 587,\n        \"samples\": [\n          40.17,\n          33.69,\n          39.61\n        ],\n        \"semantic_type\": \"\",\n        \"description\": \"\"\n      }\n    },\n    {\n      \"column\": \"housing_median_age\",\n      \"properties\": {\n        \"dtype\": \"number\",\n        \"std\": 12.555395554955753,\n        \"min\": 1.0,\n        \"max\": 52.0,\n        \"num_unique_values\": 52,\n        \"samples\": [\n          14.0,\n          49.0,\n          7.0\n        ],\n        \"semantic_type\": \"\",\n        \"description\": \"\"\n      }\n    },\n    {\n      \"column\": \"total_rooms\",\n      \"properties\": {\n        \"dtype\": \"number\",\n        \"std\": 2155.593331625581,\n        \"min\": 6.0,\n        \"max\": 30450.0,\n        \"num_unique_values\": 2215,\n        \"samples\": [\n          1961.0,\n          1807.0,\n          680.0\n        ],\n        \"semantic_type\": \"\",\n        \"description\": \"\"\n      }\n    },\n    {\n      \"column\": \"total_bedrooms\",\n      \"properties\": {\n        \"dtype\": \"number\",\n        \"std\": 415.6543681363229,\n        \"min\": 2.0,\n        \"max\": 5419.0,\n        \"num_unique_values\": 1055,\n        \"samples\": [\n          532.0,\n          764.0,\n          2162.0\n        ],\n        \"semantic_type\": \"\",\n        \"description\": \"\"\n      }\n    },\n    {\n      \"column\": \"population\",\n      \"properties\": {\n        \"dtype\": \"number\",\n        \"std\": 1030.5430124122424,\n        \"min\": 5.0,\n        \"max\": 11935.0,\n        \"num_unique_values\": 1802,\n        \"samples\": [\n          947.0,\n          1140.0,\n          2019.0\n        ],\n        \"semantic_type\": \"\",\n        \"description\": \"\"\n      }\n    },\n    {\n      \"column\": \"households\",\n      \"properties\": {\n        \"dtype\": \"number\",\n        \"std\": 365.42270980552627,\n        \"min\": 2.0,\n        \"max\": 4930.0,\n        \"num_unique_values\": 1026,\n        \"samples\": [\n          646.0,\n          629.0,\n          504.0\n        ],\n        \"semantic_type\": \"\",\n        \"description\": \"\"\n      }\n    },\n    {\n      \"column\": \"median_income\",\n      \"properties\": {\n        \"dtype\": \"number\",\n        \"std\": 1.854511729691479,\n        \"min\": 0.4999,\n        \"max\": 15.0001,\n        \"num_unique_values\": 2578,\n        \"samples\": [\n          1.725,\n          0.7403,\n          2.6964\n        ],\n        \"semantic_type\": \"\",\n        \"description\": \"\"\n      }\n    },\n    {\n      \"column\": \"median_house_value\",\n      \"properties\": {\n        \"dtype\": \"number\",\n        \"std\": 113119.68746964628,\n        \"min\": 22500.0,\n        \"max\": 500001.0,\n        \"num_unique_values\": 1784,\n        \"samples\": [\n          71900.0,\n          63000.0,\n          115800.0\n        ],\n        \"semantic_type\": \"\",\n        \"description\": \"\"\n      }\n    }\n  ]\n}"
            }
          },
          "metadata": {},
          "execution_count": 6
        }
      ]
    },
    {
      "cell_type": "code",
      "source": [
        "df.tail()"
      ],
      "metadata": {
        "colab": {
          "base_uri": "https://localhost:8080/",
          "height": 226
        },
        "id": "0seL2MqOoK9h",
        "outputId": "faa49620-88b2-4520-e3b2-63b14d587be2"
      },
      "execution_count": null,
      "outputs": [
        {
          "output_type": "execute_result",
          "data": {
            "text/plain": [
              "      longitude  latitude  housing_median_age  total_rooms  total_bedrooms  \\\n",
              "2995    -119.86     34.42                23.0       1450.0           642.0   \n",
              "2996    -118.14     34.06                27.0       5257.0          1082.0   \n",
              "2997    -119.70     36.30                10.0        956.0           201.0   \n",
              "2998    -117.12     34.10                40.0         96.0            14.0   \n",
              "2999    -119.63     34.42                42.0       1765.0           263.0   \n",
              "\n",
              "      population  households  median_income  median_house_value  \n",
              "2995      1258.0       607.0         1.1790            225000.0  \n",
              "2996      3496.0      1036.0         3.3906            237200.0  \n",
              "2997       693.0       220.0         2.2895             62000.0  \n",
              "2998        46.0        14.0         3.2708            162500.0  \n",
              "2999       753.0       260.0         8.5608            500001.0  "
            ],
            "text/html": [
              "\n",
              "  <div id=\"df-a6d229ed-3442-4b81-8467-04adc57b669b\" class=\"colab-df-container\">\n",
              "    <div>\n",
              "<style scoped>\n",
              "    .dataframe tbody tr th:only-of-type {\n",
              "        vertical-align: middle;\n",
              "    }\n",
              "\n",
              "    .dataframe tbody tr th {\n",
              "        vertical-align: top;\n",
              "    }\n",
              "\n",
              "    .dataframe thead th {\n",
              "        text-align: right;\n",
              "    }\n",
              "</style>\n",
              "<table border=\"1\" class=\"dataframe\">\n",
              "  <thead>\n",
              "    <tr style=\"text-align: right;\">\n",
              "      <th></th>\n",
              "      <th>longitude</th>\n",
              "      <th>latitude</th>\n",
              "      <th>housing_median_age</th>\n",
              "      <th>total_rooms</th>\n",
              "      <th>total_bedrooms</th>\n",
              "      <th>population</th>\n",
              "      <th>households</th>\n",
              "      <th>median_income</th>\n",
              "      <th>median_house_value</th>\n",
              "    </tr>\n",
              "  </thead>\n",
              "  <tbody>\n",
              "    <tr>\n",
              "      <th>2995</th>\n",
              "      <td>-119.86</td>\n",
              "      <td>34.42</td>\n",
              "      <td>23.0</td>\n",
              "      <td>1450.0</td>\n",
              "      <td>642.0</td>\n",
              "      <td>1258.0</td>\n",
              "      <td>607.0</td>\n",
              "      <td>1.1790</td>\n",
              "      <td>225000.0</td>\n",
              "    </tr>\n",
              "    <tr>\n",
              "      <th>2996</th>\n",
              "      <td>-118.14</td>\n",
              "      <td>34.06</td>\n",
              "      <td>27.0</td>\n",
              "      <td>5257.0</td>\n",
              "      <td>1082.0</td>\n",
              "      <td>3496.0</td>\n",
              "      <td>1036.0</td>\n",
              "      <td>3.3906</td>\n",
              "      <td>237200.0</td>\n",
              "    </tr>\n",
              "    <tr>\n",
              "      <th>2997</th>\n",
              "      <td>-119.70</td>\n",
              "      <td>36.30</td>\n",
              "      <td>10.0</td>\n",
              "      <td>956.0</td>\n",
              "      <td>201.0</td>\n",
              "      <td>693.0</td>\n",
              "      <td>220.0</td>\n",
              "      <td>2.2895</td>\n",
              "      <td>62000.0</td>\n",
              "    </tr>\n",
              "    <tr>\n",
              "      <th>2998</th>\n",
              "      <td>-117.12</td>\n",
              "      <td>34.10</td>\n",
              "      <td>40.0</td>\n",
              "      <td>96.0</td>\n",
              "      <td>14.0</td>\n",
              "      <td>46.0</td>\n",
              "      <td>14.0</td>\n",
              "      <td>3.2708</td>\n",
              "      <td>162500.0</td>\n",
              "    </tr>\n",
              "    <tr>\n",
              "      <th>2999</th>\n",
              "      <td>-119.63</td>\n",
              "      <td>34.42</td>\n",
              "      <td>42.0</td>\n",
              "      <td>1765.0</td>\n",
              "      <td>263.0</td>\n",
              "      <td>753.0</td>\n",
              "      <td>260.0</td>\n",
              "      <td>8.5608</td>\n",
              "      <td>500001.0</td>\n",
              "    </tr>\n",
              "  </tbody>\n",
              "</table>\n",
              "</div>\n",
              "    <div class=\"colab-df-buttons\">\n",
              "\n",
              "  <div class=\"colab-df-container\">\n",
              "    <button class=\"colab-df-convert\" onclick=\"convertToInteractive('df-a6d229ed-3442-4b81-8467-04adc57b669b')\"\n",
              "            title=\"Convert this dataframe to an interactive table.\"\n",
              "            style=\"display:none;\">\n",
              "\n",
              "  <svg xmlns=\"http://www.w3.org/2000/svg\" height=\"24px\" viewBox=\"0 -960 960 960\">\n",
              "    <path d=\"M120-120v-720h720v720H120Zm60-500h600v-160H180v160Zm220 220h160v-160H400v160Zm0 220h160v-160H400v160ZM180-400h160v-160H180v160Zm440 0h160v-160H620v160ZM180-180h160v-160H180v160Zm440 0h160v-160H620v160Z\"/>\n",
              "  </svg>\n",
              "    </button>\n",
              "\n",
              "  <style>\n",
              "    .colab-df-container {\n",
              "      display:flex;\n",
              "      gap: 12px;\n",
              "    }\n",
              "\n",
              "    .colab-df-convert {\n",
              "      background-color: #E8F0FE;\n",
              "      border: none;\n",
              "      border-radius: 50%;\n",
              "      cursor: pointer;\n",
              "      display: none;\n",
              "      fill: #1967D2;\n",
              "      height: 32px;\n",
              "      padding: 0 0 0 0;\n",
              "      width: 32px;\n",
              "    }\n",
              "\n",
              "    .colab-df-convert:hover {\n",
              "      background-color: #E2EBFA;\n",
              "      box-shadow: 0px 1px 2px rgba(60, 64, 67, 0.3), 0px 1px 3px 1px rgba(60, 64, 67, 0.15);\n",
              "      fill: #174EA6;\n",
              "    }\n",
              "\n",
              "    .colab-df-buttons div {\n",
              "      margin-bottom: 4px;\n",
              "    }\n",
              "\n",
              "    [theme=dark] .colab-df-convert {\n",
              "      background-color: #3B4455;\n",
              "      fill: #D2E3FC;\n",
              "    }\n",
              "\n",
              "    [theme=dark] .colab-df-convert:hover {\n",
              "      background-color: #434B5C;\n",
              "      box-shadow: 0px 1px 3px 1px rgba(0, 0, 0, 0.15);\n",
              "      filter: drop-shadow(0px 1px 2px rgba(0, 0, 0, 0.3));\n",
              "      fill: #FFFFFF;\n",
              "    }\n",
              "  </style>\n",
              "\n",
              "    <script>\n",
              "      const buttonEl =\n",
              "        document.querySelector('#df-a6d229ed-3442-4b81-8467-04adc57b669b button.colab-df-convert');\n",
              "      buttonEl.style.display =\n",
              "        google.colab.kernel.accessAllowed ? 'block' : 'none';\n",
              "\n",
              "      async function convertToInteractive(key) {\n",
              "        const element = document.querySelector('#df-a6d229ed-3442-4b81-8467-04adc57b669b');\n",
              "        const dataTable =\n",
              "          await google.colab.kernel.invokeFunction('convertToInteractive',\n",
              "                                                    [key], {});\n",
              "        if (!dataTable) return;\n",
              "\n",
              "        const docLinkHtml = 'Like what you see? Visit the ' +\n",
              "          '<a target=\"_blank\" href=https://colab.research.google.com/notebooks/data_table.ipynb>data table notebook</a>'\n",
              "          + ' to learn more about interactive tables.';\n",
              "        element.innerHTML = '';\n",
              "        dataTable['output_type'] = 'display_data';\n",
              "        await google.colab.output.renderOutput(dataTable, element);\n",
              "        const docLink = document.createElement('div');\n",
              "        docLink.innerHTML = docLinkHtml;\n",
              "        element.appendChild(docLink);\n",
              "      }\n",
              "    </script>\n",
              "  </div>\n",
              "\n",
              "\n",
              "<div id=\"df-b9031428-693b-4ef9-aad0-a2361b93e4aa\">\n",
              "  <button class=\"colab-df-quickchart\" onclick=\"quickchart('df-b9031428-693b-4ef9-aad0-a2361b93e4aa')\"\n",
              "            title=\"Suggest charts\"\n",
              "            style=\"display:none;\">\n",
              "\n",
              "<svg xmlns=\"http://www.w3.org/2000/svg\" height=\"24px\"viewBox=\"0 0 24 24\"\n",
              "     width=\"24px\">\n",
              "    <g>\n",
              "        <path d=\"M19 3H5c-1.1 0-2 .9-2 2v14c0 1.1.9 2 2 2h14c1.1 0 2-.9 2-2V5c0-1.1-.9-2-2-2zM9 17H7v-7h2v7zm4 0h-2V7h2v10zm4 0h-2v-4h2v4z\"/>\n",
              "    </g>\n",
              "</svg>\n",
              "  </button>\n",
              "\n",
              "<style>\n",
              "  .colab-df-quickchart {\n",
              "      --bg-color: #E8F0FE;\n",
              "      --fill-color: #1967D2;\n",
              "      --hover-bg-color: #E2EBFA;\n",
              "      --hover-fill-color: #174EA6;\n",
              "      --disabled-fill-color: #AAA;\n",
              "      --disabled-bg-color: #DDD;\n",
              "  }\n",
              "\n",
              "  [theme=dark] .colab-df-quickchart {\n",
              "      --bg-color: #3B4455;\n",
              "      --fill-color: #D2E3FC;\n",
              "      --hover-bg-color: #434B5C;\n",
              "      --hover-fill-color: #FFFFFF;\n",
              "      --disabled-bg-color: #3B4455;\n",
              "      --disabled-fill-color: #666;\n",
              "  }\n",
              "\n",
              "  .colab-df-quickchart {\n",
              "    background-color: var(--bg-color);\n",
              "    border: none;\n",
              "    border-radius: 50%;\n",
              "    cursor: pointer;\n",
              "    display: none;\n",
              "    fill: var(--fill-color);\n",
              "    height: 32px;\n",
              "    padding: 0;\n",
              "    width: 32px;\n",
              "  }\n",
              "\n",
              "  .colab-df-quickchart:hover {\n",
              "    background-color: var(--hover-bg-color);\n",
              "    box-shadow: 0 1px 2px rgba(60, 64, 67, 0.3), 0 1px 3px 1px rgba(60, 64, 67, 0.15);\n",
              "    fill: var(--button-hover-fill-color);\n",
              "  }\n",
              "\n",
              "  .colab-df-quickchart-complete:disabled,\n",
              "  .colab-df-quickchart-complete:disabled:hover {\n",
              "    background-color: var(--disabled-bg-color);\n",
              "    fill: var(--disabled-fill-color);\n",
              "    box-shadow: none;\n",
              "  }\n",
              "\n",
              "  .colab-df-spinner {\n",
              "    border: 2px solid var(--fill-color);\n",
              "    border-color: transparent;\n",
              "    border-bottom-color: var(--fill-color);\n",
              "    animation:\n",
              "      spin 1s steps(1) infinite;\n",
              "  }\n",
              "\n",
              "  @keyframes spin {\n",
              "    0% {\n",
              "      border-color: transparent;\n",
              "      border-bottom-color: var(--fill-color);\n",
              "      border-left-color: var(--fill-color);\n",
              "    }\n",
              "    20% {\n",
              "      border-color: transparent;\n",
              "      border-left-color: var(--fill-color);\n",
              "      border-top-color: var(--fill-color);\n",
              "    }\n",
              "    30% {\n",
              "      border-color: transparent;\n",
              "      border-left-color: var(--fill-color);\n",
              "      border-top-color: var(--fill-color);\n",
              "      border-right-color: var(--fill-color);\n",
              "    }\n",
              "    40% {\n",
              "      border-color: transparent;\n",
              "      border-right-color: var(--fill-color);\n",
              "      border-top-color: var(--fill-color);\n",
              "    }\n",
              "    60% {\n",
              "      border-color: transparent;\n",
              "      border-right-color: var(--fill-color);\n",
              "    }\n",
              "    80% {\n",
              "      border-color: transparent;\n",
              "      border-right-color: var(--fill-color);\n",
              "      border-bottom-color: var(--fill-color);\n",
              "    }\n",
              "    90% {\n",
              "      border-color: transparent;\n",
              "      border-bottom-color: var(--fill-color);\n",
              "    }\n",
              "  }\n",
              "</style>\n",
              "\n",
              "  <script>\n",
              "    async function quickchart(key) {\n",
              "      const quickchartButtonEl =\n",
              "        document.querySelector('#' + key + ' button');\n",
              "      quickchartButtonEl.disabled = true;  // To prevent multiple clicks.\n",
              "      quickchartButtonEl.classList.add('colab-df-spinner');\n",
              "      try {\n",
              "        const charts = await google.colab.kernel.invokeFunction(\n",
              "            'suggestCharts', [key], {});\n",
              "      } catch (error) {\n",
              "        console.error('Error during call to suggestCharts:', error);\n",
              "      }\n",
              "      quickchartButtonEl.classList.remove('colab-df-spinner');\n",
              "      quickchartButtonEl.classList.add('colab-df-quickchart-complete');\n",
              "    }\n",
              "    (() => {\n",
              "      let quickchartButtonEl =\n",
              "        document.querySelector('#df-b9031428-693b-4ef9-aad0-a2361b93e4aa button');\n",
              "      quickchartButtonEl.style.display =\n",
              "        google.colab.kernel.accessAllowed ? 'block' : 'none';\n",
              "    })();\n",
              "  </script>\n",
              "</div>\n",
              "\n",
              "    </div>\n",
              "  </div>\n"
            ],
            "application/vnd.google.colaboratory.intrinsic+json": {
              "type": "dataframe",
              "summary": "{\n  \"name\": \"df\",\n  \"rows\": 5,\n  \"fields\": [\n    {\n      \"column\": \"longitude\",\n      \"properties\": {\n        \"dtype\": \"number\",\n        \"std\": 1.2083045973594553,\n        \"min\": -119.86,\n        \"max\": -117.12,\n        \"num_unique_values\": 5,\n        \"samples\": [\n          -118.14,\n          -119.63,\n          -119.7\n        ],\n        \"semantic_type\": \"\",\n        \"description\": \"\"\n      }\n    },\n    {\n      \"column\": \"latitude\",\n      \"properties\": {\n        \"dtype\": \"number\",\n        \"std\": 0.9325234581499793,\n        \"min\": 34.06,\n        \"max\": 36.3,\n        \"num_unique_values\": 4,\n        \"samples\": [\n          34.06,\n          34.1,\n          34.42\n        ],\n        \"semantic_type\": \"\",\n        \"description\": \"\"\n      }\n    },\n    {\n      \"column\": \"housing_median_age\",\n      \"properties\": {\n        \"dtype\": \"number\",\n        \"std\": 13.126309458488324,\n        \"min\": 10.0,\n        \"max\": 42.0,\n        \"num_unique_values\": 5,\n        \"samples\": [\n          27.0,\n          42.0,\n          10.0\n        ],\n        \"semantic_type\": \"\",\n        \"description\": \"\"\n      }\n    },\n    {\n      \"column\": \"total_rooms\",\n      \"properties\": {\n        \"dtype\": \"number\",\n        \"std\": 1977.0945096277007,\n        \"min\": 96.0,\n        \"max\": 5257.0,\n        \"num_unique_values\": 5,\n        \"samples\": [\n          5257.0,\n          1765.0,\n          956.0\n        ],\n        \"semantic_type\": \"\",\n        \"description\": \"\"\n      }\n    },\n    {\n      \"column\": \"total_bedrooms\",\n      \"properties\": {\n        \"dtype\": \"number\",\n        \"std\": 425.115631328701,\n        \"min\": 14.0,\n        \"max\": 1082.0,\n        \"num_unique_values\": 5,\n        \"samples\": [\n          1082.0,\n          263.0,\n          201.0\n        ],\n        \"semantic_type\": \"\",\n        \"description\": \"\"\n      }\n    },\n    {\n      \"column\": \"population\",\n      \"properties\": {\n        \"dtype\": \"number\",\n        \"std\": 1327.7283984309445,\n        \"min\": 46.0,\n        \"max\": 3496.0,\n        \"num_unique_values\": 5,\n        \"samples\": [\n          3496.0,\n          753.0,\n          693.0\n        ],\n        \"semantic_type\": \"\",\n        \"description\": \"\"\n      }\n    },\n    {\n      \"column\": \"households\",\n      \"properties\": {\n        \"dtype\": \"number\",\n        \"std\": 401.4309405115655,\n        \"min\": 14.0,\n        \"max\": 1036.0,\n        \"num_unique_values\": 5,\n        \"samples\": [\n          1036.0,\n          260.0,\n          220.0\n        ],\n        \"semantic_type\": \"\",\n        \"description\": \"\"\n      }\n    },\n    {\n      \"column\": \"median_income\",\n      \"properties\": {\n        \"dtype\": \"number\",\n        \"std\": 2.8392338575749623,\n        \"min\": 1.179,\n        \"max\": 8.5608,\n        \"num_unique_values\": 5,\n        \"samples\": [\n          3.3906,\n          8.5608,\n          2.2895\n        ],\n        \"semantic_type\": \"\",\n        \"description\": \"\"\n      }\n    },\n    {\n      \"column\": \"median_house_value\",\n      \"properties\": {\n        \"dtype\": \"number\",\n        \"std\": 162394.76386324776,\n        \"min\": 62000.0,\n        \"max\": 500001.0,\n        \"num_unique_values\": 5,\n        \"samples\": [\n          237200.0,\n          500001.0,\n          62000.0\n        ],\n        \"semantic_type\": \"\",\n        \"description\": \"\"\n      }\n    }\n  ]\n}"
            }
          },
          "metadata": {},
          "execution_count": 6
        }
      ]
    },
    {
      "cell_type": "code",
      "source": [
        "df.describe()"
      ],
      "metadata": {
        "colab": {
          "base_uri": "https://localhost:8080/",
          "height": 320
        },
        "id": "tT68JWzioNiQ",
        "outputId": "8a1624c3-2c4a-4097-823e-9facff47e257"
      },
      "execution_count": null,
      "outputs": [
        {
          "output_type": "execute_result",
          "data": {
            "text/plain": [
              "         longitude    latitude  housing_median_age   total_rooms  \\\n",
              "count  3000.000000  3000.00000         3000.000000   3000.000000   \n",
              "mean   -119.589200    35.63539           28.845333   2599.578667   \n",
              "std       1.994936     2.12967           12.555396   2155.593332   \n",
              "min    -124.180000    32.56000            1.000000      6.000000   \n",
              "25%    -121.810000    33.93000           18.000000   1401.000000   \n",
              "50%    -118.485000    34.27000           29.000000   2106.000000   \n",
              "75%    -118.020000    37.69000           37.000000   3129.000000   \n",
              "max    -114.490000    41.92000           52.000000  30450.000000   \n",
              "\n",
              "       total_bedrooms    population  households  median_income  \\\n",
              "count     3000.000000   3000.000000  3000.00000    3000.000000   \n",
              "mean       529.950667   1402.798667   489.91200       3.807272   \n",
              "std        415.654368   1030.543012   365.42271       1.854512   \n",
              "min          2.000000      5.000000     2.00000       0.499900   \n",
              "25%        291.000000    780.000000   273.00000       2.544000   \n",
              "50%        437.000000   1155.000000   409.50000       3.487150   \n",
              "75%        636.000000   1742.750000   597.25000       4.656475   \n",
              "max       5419.000000  11935.000000  4930.00000      15.000100   \n",
              "\n",
              "       median_house_value  \n",
              "count          3000.00000  \n",
              "mean         205846.27500  \n",
              "std          113119.68747  \n",
              "min           22500.00000  \n",
              "25%          121200.00000  \n",
              "50%          177650.00000  \n",
              "75%          263975.00000  \n",
              "max          500001.00000  "
            ],
            "text/html": [
              "\n",
              "  <div id=\"df-1821f027-cb1c-421e-999d-27a8e535481a\" class=\"colab-df-container\">\n",
              "    <div>\n",
              "<style scoped>\n",
              "    .dataframe tbody tr th:only-of-type {\n",
              "        vertical-align: middle;\n",
              "    }\n",
              "\n",
              "    .dataframe tbody tr th {\n",
              "        vertical-align: top;\n",
              "    }\n",
              "\n",
              "    .dataframe thead th {\n",
              "        text-align: right;\n",
              "    }\n",
              "</style>\n",
              "<table border=\"1\" class=\"dataframe\">\n",
              "  <thead>\n",
              "    <tr style=\"text-align: right;\">\n",
              "      <th></th>\n",
              "      <th>longitude</th>\n",
              "      <th>latitude</th>\n",
              "      <th>housing_median_age</th>\n",
              "      <th>total_rooms</th>\n",
              "      <th>total_bedrooms</th>\n",
              "      <th>population</th>\n",
              "      <th>households</th>\n",
              "      <th>median_income</th>\n",
              "      <th>median_house_value</th>\n",
              "    </tr>\n",
              "  </thead>\n",
              "  <tbody>\n",
              "    <tr>\n",
              "      <th>count</th>\n",
              "      <td>3000.000000</td>\n",
              "      <td>3000.00000</td>\n",
              "      <td>3000.000000</td>\n",
              "      <td>3000.000000</td>\n",
              "      <td>3000.000000</td>\n",
              "      <td>3000.000000</td>\n",
              "      <td>3000.00000</td>\n",
              "      <td>3000.000000</td>\n",
              "      <td>3000.00000</td>\n",
              "    </tr>\n",
              "    <tr>\n",
              "      <th>mean</th>\n",
              "      <td>-119.589200</td>\n",
              "      <td>35.63539</td>\n",
              "      <td>28.845333</td>\n",
              "      <td>2599.578667</td>\n",
              "      <td>529.950667</td>\n",
              "      <td>1402.798667</td>\n",
              "      <td>489.91200</td>\n",
              "      <td>3.807272</td>\n",
              "      <td>205846.27500</td>\n",
              "    </tr>\n",
              "    <tr>\n",
              "      <th>std</th>\n",
              "      <td>1.994936</td>\n",
              "      <td>2.12967</td>\n",
              "      <td>12.555396</td>\n",
              "      <td>2155.593332</td>\n",
              "      <td>415.654368</td>\n",
              "      <td>1030.543012</td>\n",
              "      <td>365.42271</td>\n",
              "      <td>1.854512</td>\n",
              "      <td>113119.68747</td>\n",
              "    </tr>\n",
              "    <tr>\n",
              "      <th>min</th>\n",
              "      <td>-124.180000</td>\n",
              "      <td>32.56000</td>\n",
              "      <td>1.000000</td>\n",
              "      <td>6.000000</td>\n",
              "      <td>2.000000</td>\n",
              "      <td>5.000000</td>\n",
              "      <td>2.00000</td>\n",
              "      <td>0.499900</td>\n",
              "      <td>22500.00000</td>\n",
              "    </tr>\n",
              "    <tr>\n",
              "      <th>25%</th>\n",
              "      <td>-121.810000</td>\n",
              "      <td>33.93000</td>\n",
              "      <td>18.000000</td>\n",
              "      <td>1401.000000</td>\n",
              "      <td>291.000000</td>\n",
              "      <td>780.000000</td>\n",
              "      <td>273.00000</td>\n",
              "      <td>2.544000</td>\n",
              "      <td>121200.00000</td>\n",
              "    </tr>\n",
              "    <tr>\n",
              "      <th>50%</th>\n",
              "      <td>-118.485000</td>\n",
              "      <td>34.27000</td>\n",
              "      <td>29.000000</td>\n",
              "      <td>2106.000000</td>\n",
              "      <td>437.000000</td>\n",
              "      <td>1155.000000</td>\n",
              "      <td>409.50000</td>\n",
              "      <td>3.487150</td>\n",
              "      <td>177650.00000</td>\n",
              "    </tr>\n",
              "    <tr>\n",
              "      <th>75%</th>\n",
              "      <td>-118.020000</td>\n",
              "      <td>37.69000</td>\n",
              "      <td>37.000000</td>\n",
              "      <td>3129.000000</td>\n",
              "      <td>636.000000</td>\n",
              "      <td>1742.750000</td>\n",
              "      <td>597.25000</td>\n",
              "      <td>4.656475</td>\n",
              "      <td>263975.00000</td>\n",
              "    </tr>\n",
              "    <tr>\n",
              "      <th>max</th>\n",
              "      <td>-114.490000</td>\n",
              "      <td>41.92000</td>\n",
              "      <td>52.000000</td>\n",
              "      <td>30450.000000</td>\n",
              "      <td>5419.000000</td>\n",
              "      <td>11935.000000</td>\n",
              "      <td>4930.00000</td>\n",
              "      <td>15.000100</td>\n",
              "      <td>500001.00000</td>\n",
              "    </tr>\n",
              "  </tbody>\n",
              "</table>\n",
              "</div>\n",
              "    <div class=\"colab-df-buttons\">\n",
              "\n",
              "  <div class=\"colab-df-container\">\n",
              "    <button class=\"colab-df-convert\" onclick=\"convertToInteractive('df-1821f027-cb1c-421e-999d-27a8e535481a')\"\n",
              "            title=\"Convert this dataframe to an interactive table.\"\n",
              "            style=\"display:none;\">\n",
              "\n",
              "  <svg xmlns=\"http://www.w3.org/2000/svg\" height=\"24px\" viewBox=\"0 -960 960 960\">\n",
              "    <path d=\"M120-120v-720h720v720H120Zm60-500h600v-160H180v160Zm220 220h160v-160H400v160Zm0 220h160v-160H400v160ZM180-400h160v-160H180v160Zm440 0h160v-160H620v160ZM180-180h160v-160H180v160Zm440 0h160v-160H620v160Z\"/>\n",
              "  </svg>\n",
              "    </button>\n",
              "\n",
              "  <style>\n",
              "    .colab-df-container {\n",
              "      display:flex;\n",
              "      gap: 12px;\n",
              "    }\n",
              "\n",
              "    .colab-df-convert {\n",
              "      background-color: #E8F0FE;\n",
              "      border: none;\n",
              "      border-radius: 50%;\n",
              "      cursor: pointer;\n",
              "      display: none;\n",
              "      fill: #1967D2;\n",
              "      height: 32px;\n",
              "      padding: 0 0 0 0;\n",
              "      width: 32px;\n",
              "    }\n",
              "\n",
              "    .colab-df-convert:hover {\n",
              "      background-color: #E2EBFA;\n",
              "      box-shadow: 0px 1px 2px rgba(60, 64, 67, 0.3), 0px 1px 3px 1px rgba(60, 64, 67, 0.15);\n",
              "      fill: #174EA6;\n",
              "    }\n",
              "\n",
              "    .colab-df-buttons div {\n",
              "      margin-bottom: 4px;\n",
              "    }\n",
              "\n",
              "    [theme=dark] .colab-df-convert {\n",
              "      background-color: #3B4455;\n",
              "      fill: #D2E3FC;\n",
              "    }\n",
              "\n",
              "    [theme=dark] .colab-df-convert:hover {\n",
              "      background-color: #434B5C;\n",
              "      box-shadow: 0px 1px 3px 1px rgba(0, 0, 0, 0.15);\n",
              "      filter: drop-shadow(0px 1px 2px rgba(0, 0, 0, 0.3));\n",
              "      fill: #FFFFFF;\n",
              "    }\n",
              "  </style>\n",
              "\n",
              "    <script>\n",
              "      const buttonEl =\n",
              "        document.querySelector('#df-1821f027-cb1c-421e-999d-27a8e535481a button.colab-df-convert');\n",
              "      buttonEl.style.display =\n",
              "        google.colab.kernel.accessAllowed ? 'block' : 'none';\n",
              "\n",
              "      async function convertToInteractive(key) {\n",
              "        const element = document.querySelector('#df-1821f027-cb1c-421e-999d-27a8e535481a');\n",
              "        const dataTable =\n",
              "          await google.colab.kernel.invokeFunction('convertToInteractive',\n",
              "                                                    [key], {});\n",
              "        if (!dataTable) return;\n",
              "\n",
              "        const docLinkHtml = 'Like what you see? Visit the ' +\n",
              "          '<a target=\"_blank\" href=https://colab.research.google.com/notebooks/data_table.ipynb>data table notebook</a>'\n",
              "          + ' to learn more about interactive tables.';\n",
              "        element.innerHTML = '';\n",
              "        dataTable['output_type'] = 'display_data';\n",
              "        await google.colab.output.renderOutput(dataTable, element);\n",
              "        const docLink = document.createElement('div');\n",
              "        docLink.innerHTML = docLinkHtml;\n",
              "        element.appendChild(docLink);\n",
              "      }\n",
              "    </script>\n",
              "  </div>\n",
              "\n",
              "\n",
              "<div id=\"df-3d6e9a60-cf23-4943-9f49-b3e9ab3bc692\">\n",
              "  <button class=\"colab-df-quickchart\" onclick=\"quickchart('df-3d6e9a60-cf23-4943-9f49-b3e9ab3bc692')\"\n",
              "            title=\"Suggest charts\"\n",
              "            style=\"display:none;\">\n",
              "\n",
              "<svg xmlns=\"http://www.w3.org/2000/svg\" height=\"24px\"viewBox=\"0 0 24 24\"\n",
              "     width=\"24px\">\n",
              "    <g>\n",
              "        <path d=\"M19 3H5c-1.1 0-2 .9-2 2v14c0 1.1.9 2 2 2h14c1.1 0 2-.9 2-2V5c0-1.1-.9-2-2-2zM9 17H7v-7h2v7zm4 0h-2V7h2v10zm4 0h-2v-4h2v4z\"/>\n",
              "    </g>\n",
              "</svg>\n",
              "  </button>\n",
              "\n",
              "<style>\n",
              "  .colab-df-quickchart {\n",
              "      --bg-color: #E8F0FE;\n",
              "      --fill-color: #1967D2;\n",
              "      --hover-bg-color: #E2EBFA;\n",
              "      --hover-fill-color: #174EA6;\n",
              "      --disabled-fill-color: #AAA;\n",
              "      --disabled-bg-color: #DDD;\n",
              "  }\n",
              "\n",
              "  [theme=dark] .colab-df-quickchart {\n",
              "      --bg-color: #3B4455;\n",
              "      --fill-color: #D2E3FC;\n",
              "      --hover-bg-color: #434B5C;\n",
              "      --hover-fill-color: #FFFFFF;\n",
              "      --disabled-bg-color: #3B4455;\n",
              "      --disabled-fill-color: #666;\n",
              "  }\n",
              "\n",
              "  .colab-df-quickchart {\n",
              "    background-color: var(--bg-color);\n",
              "    border: none;\n",
              "    border-radius: 50%;\n",
              "    cursor: pointer;\n",
              "    display: none;\n",
              "    fill: var(--fill-color);\n",
              "    height: 32px;\n",
              "    padding: 0;\n",
              "    width: 32px;\n",
              "  }\n",
              "\n",
              "  .colab-df-quickchart:hover {\n",
              "    background-color: var(--hover-bg-color);\n",
              "    box-shadow: 0 1px 2px rgba(60, 64, 67, 0.3), 0 1px 3px 1px rgba(60, 64, 67, 0.15);\n",
              "    fill: var(--button-hover-fill-color);\n",
              "  }\n",
              "\n",
              "  .colab-df-quickchart-complete:disabled,\n",
              "  .colab-df-quickchart-complete:disabled:hover {\n",
              "    background-color: var(--disabled-bg-color);\n",
              "    fill: var(--disabled-fill-color);\n",
              "    box-shadow: none;\n",
              "  }\n",
              "\n",
              "  .colab-df-spinner {\n",
              "    border: 2px solid var(--fill-color);\n",
              "    border-color: transparent;\n",
              "    border-bottom-color: var(--fill-color);\n",
              "    animation:\n",
              "      spin 1s steps(1) infinite;\n",
              "  }\n",
              "\n",
              "  @keyframes spin {\n",
              "    0% {\n",
              "      border-color: transparent;\n",
              "      border-bottom-color: var(--fill-color);\n",
              "      border-left-color: var(--fill-color);\n",
              "    }\n",
              "    20% {\n",
              "      border-color: transparent;\n",
              "      border-left-color: var(--fill-color);\n",
              "      border-top-color: var(--fill-color);\n",
              "    }\n",
              "    30% {\n",
              "      border-color: transparent;\n",
              "      border-left-color: var(--fill-color);\n",
              "      border-top-color: var(--fill-color);\n",
              "      border-right-color: var(--fill-color);\n",
              "    }\n",
              "    40% {\n",
              "      border-color: transparent;\n",
              "      border-right-color: var(--fill-color);\n",
              "      border-top-color: var(--fill-color);\n",
              "    }\n",
              "    60% {\n",
              "      border-color: transparent;\n",
              "      border-right-color: var(--fill-color);\n",
              "    }\n",
              "    80% {\n",
              "      border-color: transparent;\n",
              "      border-right-color: var(--fill-color);\n",
              "      border-bottom-color: var(--fill-color);\n",
              "    }\n",
              "    90% {\n",
              "      border-color: transparent;\n",
              "      border-bottom-color: var(--fill-color);\n",
              "    }\n",
              "  }\n",
              "</style>\n",
              "\n",
              "  <script>\n",
              "    async function quickchart(key) {\n",
              "      const quickchartButtonEl =\n",
              "        document.querySelector('#' + key + ' button');\n",
              "      quickchartButtonEl.disabled = true;  // To prevent multiple clicks.\n",
              "      quickchartButtonEl.classList.add('colab-df-spinner');\n",
              "      try {\n",
              "        const charts = await google.colab.kernel.invokeFunction(\n",
              "            'suggestCharts', [key], {});\n",
              "      } catch (error) {\n",
              "        console.error('Error during call to suggestCharts:', error);\n",
              "      }\n",
              "      quickchartButtonEl.classList.remove('colab-df-spinner');\n",
              "      quickchartButtonEl.classList.add('colab-df-quickchart-complete');\n",
              "    }\n",
              "    (() => {\n",
              "      let quickchartButtonEl =\n",
              "        document.querySelector('#df-3d6e9a60-cf23-4943-9f49-b3e9ab3bc692 button');\n",
              "      quickchartButtonEl.style.display =\n",
              "        google.colab.kernel.accessAllowed ? 'block' : 'none';\n",
              "    })();\n",
              "  </script>\n",
              "</div>\n",
              "\n",
              "    </div>\n",
              "  </div>\n"
            ],
            "application/vnd.google.colaboratory.intrinsic+json": {
              "type": "dataframe",
              "summary": "{\n  \"name\": \"df\",\n  \"rows\": 8,\n  \"fields\": [\n    {\n      \"column\": \"longitude\",\n      \"properties\": {\n        \"dtype\": \"number\",\n        \"std\": 1097.5782294291084,\n        \"min\": -124.18,\n        \"max\": 3000.0,\n        \"num_unique_values\": 8,\n        \"samples\": [\n          -119.58919999999999,\n          -118.485,\n          3000.0\n        ],\n        \"semantic_type\": \"\",\n        \"description\": \"\"\n      }\n    },\n    {\n      \"column\": \"latitude\",\n      \"properties\": {\n        \"dtype\": \"number\",\n        \"std\": 1049.7134923904623,\n        \"min\": 2.129669523343834,\n        \"max\": 3000.0,\n        \"num_unique_values\": 8,\n        \"samples\": [\n          35.635389999999994,\n          34.27,\n          3000.0\n        ],\n        \"semantic_type\": \"\",\n        \"description\": \"\"\n      }\n    },\n    {\n      \"column\": \"housing_median_age\",\n      \"properties\": {\n        \"dtype\": \"number\",\n        \"std\": 1051.7638105336573,\n        \"min\": 1.0,\n        \"max\": 3000.0,\n        \"num_unique_values\": 8,\n        \"samples\": [\n          28.845333333333333,\n          29.0,\n          3000.0\n        ],\n        \"semantic_type\": \"\",\n        \"description\": \"\"\n      }\n    },\n    {\n      \"column\": \"total_rooms\",\n      \"properties\": {\n        \"dtype\": \"number\",\n        \"std\": 10088.09058334902,\n        \"min\": 6.0,\n        \"max\": 30450.0,\n        \"num_unique_values\": 8,\n        \"samples\": [\n          2599.578666666667,\n          2106.0,\n          3000.0\n        ],\n        \"semantic_type\": \"\",\n        \"description\": \"\"\n      }\n    },\n    {\n      \"column\": \"total_bedrooms\",\n      \"properties\": {\n        \"dtype\": \"number\",\n        \"std\": 1893.8280096609258,\n        \"min\": 2.0,\n        \"max\": 5419.0,\n        \"num_unique_values\": 8,\n        \"samples\": [\n          529.9506666666666,\n          437.0,\n          3000.0\n        ],\n        \"semantic_type\": \"\",\n        \"description\": \"\"\n      }\n    },\n    {\n      \"column\": \"population\",\n      \"properties\": {\n        \"dtype\": \"number\",\n        \"std\": 3855.6110864929296,\n        \"min\": 5.0,\n        \"max\": 11935.0,\n        \"num_unique_values\": 8,\n        \"samples\": [\n          1402.7986666666666,\n          1155.0,\n          3000.0\n        ],\n        \"semantic_type\": \"\",\n        \"description\": \"\"\n      }\n    },\n    {\n      \"column\": \"households\",\n      \"properties\": {\n        \"dtype\": \"number\",\n        \"std\": 1756.990284459096,\n        \"min\": 2.0,\n        \"max\": 4930.0,\n        \"num_unique_values\": 8,\n        \"samples\": [\n          489.912,\n          409.5,\n          3000.0\n        ],\n        \"semantic_type\": \"\",\n        \"description\": \"\"\n      }\n    },\n    {\n      \"column\": \"median_income\",\n      \"properties\": {\n        \"dtype\": \"number\",\n        \"std\": 1059.0608810128942,\n        \"min\": 0.4999,\n        \"max\": 3000.0,\n        \"num_unique_values\": 8,\n        \"samples\": [\n          3.8072717999999997,\n          3.4871499999999997,\n          3000.0\n        ],\n        \"semantic_type\": \"\",\n        \"description\": \"\"\n      }\n    },\n    {\n      \"column\": \"median_house_value\",\n      \"properties\": {\n        \"dtype\": \"number\",\n        \"std\": 157687.7259000239,\n        \"min\": 3000.0,\n        \"max\": 500001.0,\n        \"num_unique_values\": 8,\n        \"samples\": [\n          205846.275,\n          177650.0,\n          3000.0\n        ],\n        \"semantic_type\": \"\",\n        \"description\": \"\"\n      }\n    }\n  ]\n}"
            }
          },
          "metadata": {},
          "execution_count": 7
        }
      ]
    },
    {
      "cell_type": "code",
      "source": [
        "mean = np.mean(df['total_rooms'])\n",
        "mean"
      ],
      "metadata": {
        "colab": {
          "base_uri": "https://localhost:8080/"
        },
        "id": "jcKMkDvxevWH",
        "outputId": "6161d3ca-6a1c-4675-ec02-9be802defa6b"
      },
      "execution_count": null,
      "outputs": [
        {
          "output_type": "execute_result",
          "data": {
            "text/plain": [
              "2599.578666666667"
            ]
          },
          "metadata": {},
          "execution_count": 8
        }
      ]
    },
    {
      "cell_type": "code",
      "source": [
        "df.info()"
      ],
      "metadata": {
        "colab": {
          "base_uri": "https://localhost:8080/"
        },
        "id": "kogKqadsoPnM",
        "outputId": "b70929be-5432-4bae-b31a-df473bdbb546"
      },
      "execution_count": null,
      "outputs": [
        {
          "output_type": "stream",
          "name": "stdout",
          "text": [
            "<class 'pandas.core.frame.DataFrame'>\n",
            "RangeIndex: 3000 entries, 0 to 2999\n",
            "Data columns (total 9 columns):\n",
            " #   Column              Non-Null Count  Dtype  \n",
            "---  ------              --------------  -----  \n",
            " 0   longitude           3000 non-null   float64\n",
            " 1   latitude            3000 non-null   float64\n",
            " 2   housing_median_age  3000 non-null   float64\n",
            " 3   total_rooms         3000 non-null   float64\n",
            " 4   total_bedrooms      3000 non-null   float64\n",
            " 5   population          3000 non-null   float64\n",
            " 6   households          3000 non-null   float64\n",
            " 7   median_income       3000 non-null   float64\n",
            " 8   median_house_value  3000 non-null   float64\n",
            "dtypes: float64(9)\n",
            "memory usage: 211.1 KB\n"
          ]
        }
      ]
    },
    {
      "cell_type": "code",
      "source": [
        "df.shape"
      ],
      "metadata": {
        "colab": {
          "base_uri": "https://localhost:8080/"
        },
        "id": "sMW6jfi_oRsg",
        "outputId": "9264fef6-b0d3-4d1c-ebd1-91aa079c0d48"
      },
      "execution_count": null,
      "outputs": [
        {
          "output_type": "execute_result",
          "data": {
            "text/plain": [
              "(3000, 9)"
            ]
          },
          "metadata": {},
          "execution_count": 9
        }
      ]
    },
    {
      "cell_type": "code",
      "source": [
        "df.isnull().sum()"
      ],
      "metadata": {
        "colab": {
          "base_uri": "https://localhost:8080/"
        },
        "id": "zUAnZmU4oTB5",
        "outputId": "ed141543-882a-496c-8c26-52fa1160475a"
      },
      "execution_count": null,
      "outputs": [
        {
          "output_type": "execute_result",
          "data": {
            "text/plain": [
              "longitude             0\n",
              "latitude              0\n",
              "housing_median_age    0\n",
              "total_rooms           0\n",
              "total_bedrooms        0\n",
              "population            0\n",
              "households            0\n",
              "median_income         0\n",
              "median_house_value    0\n",
              "dtype: int64"
            ]
          },
          "metadata": {},
          "execution_count": 11
        }
      ]
    },
    {
      "cell_type": "code",
      "source": [
        "rooms = df.groupby('total_rooms').agg({'population': 'sum', 'total_rooms': 'count'})"
      ],
      "metadata": {
        "id": "AsBJ1VBopI-j"
      },
      "execution_count": null,
      "outputs": []
    },
    {
      "cell_type": "code",
      "source": [
        "rooms"
      ],
      "metadata": {
        "id": "X8mt5A_PpLqU",
        "outputId": "5df3c0e9-388b-4f5b-bc5d-eceefa716c92",
        "colab": {
          "base_uri": "https://localhost:8080/",
          "height": 455
        }
      },
      "execution_count": null,
      "outputs": [
        {
          "output_type": "execute_result",
          "data": {
            "text/plain": [
              "             population  total_rooms\n",
              "total_rooms                         \n",
              "6.0                 8.0            1\n",
              "16.0                8.0            1\n",
              "18.0                5.0            1\n",
              "19.0              166.0            1\n",
              "21.0               21.0            1\n",
              "...                 ...          ...\n",
              "21988.0          8824.0            1\n",
              "23915.0         10877.0            1\n",
              "24121.0          4176.0            1\n",
              "27870.0         11935.0            1\n",
              "30450.0          9419.0            1\n",
              "\n",
              "[2215 rows x 2 columns]"
            ],
            "text/html": [
              "\n",
              "  <div id=\"df-b3d485ec-835f-41eb-9691-8394fbee2d44\" class=\"colab-df-container\">\n",
              "    <div>\n",
              "<style scoped>\n",
              "    .dataframe tbody tr th:only-of-type {\n",
              "        vertical-align: middle;\n",
              "    }\n",
              "\n",
              "    .dataframe tbody tr th {\n",
              "        vertical-align: top;\n",
              "    }\n",
              "\n",
              "    .dataframe thead th {\n",
              "        text-align: right;\n",
              "    }\n",
              "</style>\n",
              "<table border=\"1\" class=\"dataframe\">\n",
              "  <thead>\n",
              "    <tr style=\"text-align: right;\">\n",
              "      <th></th>\n",
              "      <th>population</th>\n",
              "      <th>total_rooms</th>\n",
              "    </tr>\n",
              "    <tr>\n",
              "      <th>total_rooms</th>\n",
              "      <th></th>\n",
              "      <th></th>\n",
              "    </tr>\n",
              "  </thead>\n",
              "  <tbody>\n",
              "    <tr>\n",
              "      <th>6.0</th>\n",
              "      <td>8.0</td>\n",
              "      <td>1</td>\n",
              "    </tr>\n",
              "    <tr>\n",
              "      <th>16.0</th>\n",
              "      <td>8.0</td>\n",
              "      <td>1</td>\n",
              "    </tr>\n",
              "    <tr>\n",
              "      <th>18.0</th>\n",
              "      <td>5.0</td>\n",
              "      <td>1</td>\n",
              "    </tr>\n",
              "    <tr>\n",
              "      <th>19.0</th>\n",
              "      <td>166.0</td>\n",
              "      <td>1</td>\n",
              "    </tr>\n",
              "    <tr>\n",
              "      <th>21.0</th>\n",
              "      <td>21.0</td>\n",
              "      <td>1</td>\n",
              "    </tr>\n",
              "    <tr>\n",
              "      <th>...</th>\n",
              "      <td>...</td>\n",
              "      <td>...</td>\n",
              "    </tr>\n",
              "    <tr>\n",
              "      <th>21988.0</th>\n",
              "      <td>8824.0</td>\n",
              "      <td>1</td>\n",
              "    </tr>\n",
              "    <tr>\n",
              "      <th>23915.0</th>\n",
              "      <td>10877.0</td>\n",
              "      <td>1</td>\n",
              "    </tr>\n",
              "    <tr>\n",
              "      <th>24121.0</th>\n",
              "      <td>4176.0</td>\n",
              "      <td>1</td>\n",
              "    </tr>\n",
              "    <tr>\n",
              "      <th>27870.0</th>\n",
              "      <td>11935.0</td>\n",
              "      <td>1</td>\n",
              "    </tr>\n",
              "    <tr>\n",
              "      <th>30450.0</th>\n",
              "      <td>9419.0</td>\n",
              "      <td>1</td>\n",
              "    </tr>\n",
              "  </tbody>\n",
              "</table>\n",
              "<p>2215 rows × 2 columns</p>\n",
              "</div>\n",
              "    <div class=\"colab-df-buttons\">\n",
              "\n",
              "  <div class=\"colab-df-container\">\n",
              "    <button class=\"colab-df-convert\" onclick=\"convertToInteractive('df-b3d485ec-835f-41eb-9691-8394fbee2d44')\"\n",
              "            title=\"Convert this dataframe to an interactive table.\"\n",
              "            style=\"display:none;\">\n",
              "\n",
              "  <svg xmlns=\"http://www.w3.org/2000/svg\" height=\"24px\" viewBox=\"0 -960 960 960\">\n",
              "    <path d=\"M120-120v-720h720v720H120Zm60-500h600v-160H180v160Zm220 220h160v-160H400v160Zm0 220h160v-160H400v160ZM180-400h160v-160H180v160Zm440 0h160v-160H620v160ZM180-180h160v-160H180v160Zm440 0h160v-160H620v160Z\"/>\n",
              "  </svg>\n",
              "    </button>\n",
              "\n",
              "  <style>\n",
              "    .colab-df-container {\n",
              "      display:flex;\n",
              "      gap: 12px;\n",
              "    }\n",
              "\n",
              "    .colab-df-convert {\n",
              "      background-color: #E8F0FE;\n",
              "      border: none;\n",
              "      border-radius: 50%;\n",
              "      cursor: pointer;\n",
              "      display: none;\n",
              "      fill: #1967D2;\n",
              "      height: 32px;\n",
              "      padding: 0 0 0 0;\n",
              "      width: 32px;\n",
              "    }\n",
              "\n",
              "    .colab-df-convert:hover {\n",
              "      background-color: #E2EBFA;\n",
              "      box-shadow: 0px 1px 2px rgba(60, 64, 67, 0.3), 0px 1px 3px 1px rgba(60, 64, 67, 0.15);\n",
              "      fill: #174EA6;\n",
              "    }\n",
              "\n",
              "    .colab-df-buttons div {\n",
              "      margin-bottom: 4px;\n",
              "    }\n",
              "\n",
              "    [theme=dark] .colab-df-convert {\n",
              "      background-color: #3B4455;\n",
              "      fill: #D2E3FC;\n",
              "    }\n",
              "\n",
              "    [theme=dark] .colab-df-convert:hover {\n",
              "      background-color: #434B5C;\n",
              "      box-shadow: 0px 1px 3px 1px rgba(0, 0, 0, 0.15);\n",
              "      filter: drop-shadow(0px 1px 2px rgba(0, 0, 0, 0.3));\n",
              "      fill: #FFFFFF;\n",
              "    }\n",
              "  </style>\n",
              "\n",
              "    <script>\n",
              "      const buttonEl =\n",
              "        document.querySelector('#df-b3d485ec-835f-41eb-9691-8394fbee2d44 button.colab-df-convert');\n",
              "      buttonEl.style.display =\n",
              "        google.colab.kernel.accessAllowed ? 'block' : 'none';\n",
              "\n",
              "      async function convertToInteractive(key) {\n",
              "        const element = document.querySelector('#df-b3d485ec-835f-41eb-9691-8394fbee2d44');\n",
              "        const dataTable =\n",
              "          await google.colab.kernel.invokeFunction('convertToInteractive',\n",
              "                                                    [key], {});\n",
              "        if (!dataTable) return;\n",
              "\n",
              "        const docLinkHtml = 'Like what you see? Visit the ' +\n",
              "          '<a target=\"_blank\" href=https://colab.research.google.com/notebooks/data_table.ipynb>data table notebook</a>'\n",
              "          + ' to learn more about interactive tables.';\n",
              "        element.innerHTML = '';\n",
              "        dataTable['output_type'] = 'display_data';\n",
              "        await google.colab.output.renderOutput(dataTable, element);\n",
              "        const docLink = document.createElement('div');\n",
              "        docLink.innerHTML = docLinkHtml;\n",
              "        element.appendChild(docLink);\n",
              "      }\n",
              "    </script>\n",
              "  </div>\n",
              "\n",
              "\n",
              "<div id=\"df-51ca954f-fb34-496f-9778-0e6b5bc9ee7e\">\n",
              "  <button class=\"colab-df-quickchart\" onclick=\"quickchart('df-51ca954f-fb34-496f-9778-0e6b5bc9ee7e')\"\n",
              "            title=\"Suggest charts\"\n",
              "            style=\"display:none;\">\n",
              "\n",
              "<svg xmlns=\"http://www.w3.org/2000/svg\" height=\"24px\"viewBox=\"0 0 24 24\"\n",
              "     width=\"24px\">\n",
              "    <g>\n",
              "        <path d=\"M19 3H5c-1.1 0-2 .9-2 2v14c0 1.1.9 2 2 2h14c1.1 0 2-.9 2-2V5c0-1.1-.9-2-2-2zM9 17H7v-7h2v7zm4 0h-2V7h2v10zm4 0h-2v-4h2v4z\"/>\n",
              "    </g>\n",
              "</svg>\n",
              "  </button>\n",
              "\n",
              "<style>\n",
              "  .colab-df-quickchart {\n",
              "      --bg-color: #E8F0FE;\n",
              "      --fill-color: #1967D2;\n",
              "      --hover-bg-color: #E2EBFA;\n",
              "      --hover-fill-color: #174EA6;\n",
              "      --disabled-fill-color: #AAA;\n",
              "      --disabled-bg-color: #DDD;\n",
              "  }\n",
              "\n",
              "  [theme=dark] .colab-df-quickchart {\n",
              "      --bg-color: #3B4455;\n",
              "      --fill-color: #D2E3FC;\n",
              "      --hover-bg-color: #434B5C;\n",
              "      --hover-fill-color: #FFFFFF;\n",
              "      --disabled-bg-color: #3B4455;\n",
              "      --disabled-fill-color: #666;\n",
              "  }\n",
              "\n",
              "  .colab-df-quickchart {\n",
              "    background-color: var(--bg-color);\n",
              "    border: none;\n",
              "    border-radius: 50%;\n",
              "    cursor: pointer;\n",
              "    display: none;\n",
              "    fill: var(--fill-color);\n",
              "    height: 32px;\n",
              "    padding: 0;\n",
              "    width: 32px;\n",
              "  }\n",
              "\n",
              "  .colab-df-quickchart:hover {\n",
              "    background-color: var(--hover-bg-color);\n",
              "    box-shadow: 0 1px 2px rgba(60, 64, 67, 0.3), 0 1px 3px 1px rgba(60, 64, 67, 0.15);\n",
              "    fill: var(--button-hover-fill-color);\n",
              "  }\n",
              "\n",
              "  .colab-df-quickchart-complete:disabled,\n",
              "  .colab-df-quickchart-complete:disabled:hover {\n",
              "    background-color: var(--disabled-bg-color);\n",
              "    fill: var(--disabled-fill-color);\n",
              "    box-shadow: none;\n",
              "  }\n",
              "\n",
              "  .colab-df-spinner {\n",
              "    border: 2px solid var(--fill-color);\n",
              "    border-color: transparent;\n",
              "    border-bottom-color: var(--fill-color);\n",
              "    animation:\n",
              "      spin 1s steps(1) infinite;\n",
              "  }\n",
              "\n",
              "  @keyframes spin {\n",
              "    0% {\n",
              "      border-color: transparent;\n",
              "      border-bottom-color: var(--fill-color);\n",
              "      border-left-color: var(--fill-color);\n",
              "    }\n",
              "    20% {\n",
              "      border-color: transparent;\n",
              "      border-left-color: var(--fill-color);\n",
              "      border-top-color: var(--fill-color);\n",
              "    }\n",
              "    30% {\n",
              "      border-color: transparent;\n",
              "      border-left-color: var(--fill-color);\n",
              "      border-top-color: var(--fill-color);\n",
              "      border-right-color: var(--fill-color);\n",
              "    }\n",
              "    40% {\n",
              "      border-color: transparent;\n",
              "      border-right-color: var(--fill-color);\n",
              "      border-top-color: var(--fill-color);\n",
              "    }\n",
              "    60% {\n",
              "      border-color: transparent;\n",
              "      border-right-color: var(--fill-color);\n",
              "    }\n",
              "    80% {\n",
              "      border-color: transparent;\n",
              "      border-right-color: var(--fill-color);\n",
              "      border-bottom-color: var(--fill-color);\n",
              "    }\n",
              "    90% {\n",
              "      border-color: transparent;\n",
              "      border-bottom-color: var(--fill-color);\n",
              "    }\n",
              "  }\n",
              "</style>\n",
              "\n",
              "  <script>\n",
              "    async function quickchart(key) {\n",
              "      const quickchartButtonEl =\n",
              "        document.querySelector('#' + key + ' button');\n",
              "      quickchartButtonEl.disabled = true;  // To prevent multiple clicks.\n",
              "      quickchartButtonEl.classList.add('colab-df-spinner');\n",
              "      try {\n",
              "        const charts = await google.colab.kernel.invokeFunction(\n",
              "            'suggestCharts', [key], {});\n",
              "      } catch (error) {\n",
              "        console.error('Error during call to suggestCharts:', error);\n",
              "      }\n",
              "      quickchartButtonEl.classList.remove('colab-df-spinner');\n",
              "      quickchartButtonEl.classList.add('colab-df-quickchart-complete');\n",
              "    }\n",
              "    (() => {\n",
              "      let quickchartButtonEl =\n",
              "        document.querySelector('#df-51ca954f-fb34-496f-9778-0e6b5bc9ee7e button');\n",
              "      quickchartButtonEl.style.display =\n",
              "        google.colab.kernel.accessAllowed ? 'block' : 'none';\n",
              "    })();\n",
              "  </script>\n",
              "</div>\n",
              "\n",
              "  <div id=\"id_051eec1f-51d3-40f9-976f-9619dd6604d4\">\n",
              "    <style>\n",
              "      .colab-df-generate {\n",
              "        background-color: #E8F0FE;\n",
              "        border: none;\n",
              "        border-radius: 50%;\n",
              "        cursor: pointer;\n",
              "        display: none;\n",
              "        fill: #1967D2;\n",
              "        height: 32px;\n",
              "        padding: 0 0 0 0;\n",
              "        width: 32px;\n",
              "      }\n",
              "\n",
              "      .colab-df-generate:hover {\n",
              "        background-color: #E2EBFA;\n",
              "        box-shadow: 0px 1px 2px rgba(60, 64, 67, 0.3), 0px 1px 3px 1px rgba(60, 64, 67, 0.15);\n",
              "        fill: #174EA6;\n",
              "      }\n",
              "\n",
              "      [theme=dark] .colab-df-generate {\n",
              "        background-color: #3B4455;\n",
              "        fill: #D2E3FC;\n",
              "      }\n",
              "\n",
              "      [theme=dark] .colab-df-generate:hover {\n",
              "        background-color: #434B5C;\n",
              "        box-shadow: 0px 1px 3px 1px rgba(0, 0, 0, 0.15);\n",
              "        filter: drop-shadow(0px 1px 2px rgba(0, 0, 0, 0.3));\n",
              "        fill: #FFFFFF;\n",
              "      }\n",
              "    </style>\n",
              "    <button class=\"colab-df-generate\" onclick=\"generateWithVariable('rooms')\"\n",
              "            title=\"Generate code using this dataframe.\"\n",
              "            style=\"display:none;\">\n",
              "\n",
              "  <svg xmlns=\"http://www.w3.org/2000/svg\" height=\"24px\"viewBox=\"0 0 24 24\"\n",
              "       width=\"24px\">\n",
              "    <path d=\"M7,19H8.4L18.45,9,17,7.55,7,17.6ZM5,21V16.75L18.45,3.32a2,2,0,0,1,2.83,0l1.4,1.43a1.91,1.91,0,0,1,.58,1.4,1.91,1.91,0,0,1-.58,1.4L9.25,21ZM18.45,9,17,7.55Zm-12,3A5.31,5.31,0,0,0,4.9,8.1,5.31,5.31,0,0,0,1,6.5,5.31,5.31,0,0,0,4.9,4.9,5.31,5.31,0,0,0,6.5,1,5.31,5.31,0,0,0,8.1,4.9,5.31,5.31,0,0,0,12,6.5,5.46,5.46,0,0,0,6.5,12Z\"/>\n",
              "  </svg>\n",
              "    </button>\n",
              "    <script>\n",
              "      (() => {\n",
              "      const buttonEl =\n",
              "        document.querySelector('#id_051eec1f-51d3-40f9-976f-9619dd6604d4 button.colab-df-generate');\n",
              "      buttonEl.style.display =\n",
              "        google.colab.kernel.accessAllowed ? 'block' : 'none';\n",
              "\n",
              "      buttonEl.onclick = () => {\n",
              "        google.colab.notebook.generateWithVariable('rooms');\n",
              "      }\n",
              "      })();\n",
              "    </script>\n",
              "  </div>\n",
              "\n",
              "    </div>\n",
              "  </div>\n"
            ],
            "application/vnd.google.colaboratory.intrinsic+json": {
              "type": "dataframe",
              "variable_name": "rooms",
              "repr_error": "cannot insert total_rooms, already exists"
            }
          },
          "metadata": {},
          "execution_count": 15
        }
      ]
    },
    {
      "cell_type": "code",
      "source": [
        "string_input = input()\n",
        "binary_num = string_input.split(',')\n",
        "\n",
        "def div_by_3(numbers):\n",
        "  divisible = []\n",
        "  for num in numbers:\n",
        "    decimal = int(num, 2)\n",
        "    if decimal % 3 == 0:\n",
        "      divisible.append(num)\n",
        "  return divisible\n",
        "\n",
        "result = div_by_3(binary_num)\n",
        "print(\",\".join(result))\n"
      ],
      "metadata": {
        "colab": {
          "base_uri": "https://localhost:8080/"
        },
        "id": "dymH4w0TNU-G",
        "outputId": "5c299dec-ea8b-4184-c020-da0ae6100b56"
      },
      "execution_count": null,
      "outputs": [
        {
          "output_type": "stream",
          "name": "stdout",
          "text": [
            "0011,0100,0101,1001\n",
            "0011,1001\n"
          ]
        }
      ]
    },
    {
      "cell_type": "code",
      "source": [
        "string_input = input()\n",
        "binary_num = string_input.split(',')\n",
        "\n",
        "def div_by_3(numbers):\n",
        "  divisible = []\n",
        "  for num in numbers:\n",
        "    decimal = int(num,2)\n",
        "    if decimal %3==0:\n",
        "      divisible.append(num)\n",
        "  return divisible\n",
        "\n",
        "result = div_by_3(binary_num)\n",
        "print(','.join(result))\n"
      ],
      "metadata": {
        "colab": {
          "base_uri": "https://localhost:8080/"
        },
        "id": "X7islCjTd6Ji",
        "outputId": "24d7247e-b20d-4fb4-9ab6-24d23bb72083"
      },
      "execution_count": null,
      "outputs": [
        {
          "output_type": "stream",
          "name": "stdout",
          "text": [
            "0011,0100,0101,1001\n",
            "0011,1001\n"
          ]
        }
      ]
    },
    {
      "cell_type": "code",
      "source": [
        "print(sorted(list(set(arr)))[-2])"
      ],
      "metadata": {
        "id": "RPWu1lFV7qKv"
      },
      "execution_count": null,
      "outputs": []
    },
    {
      "cell_type": "code",
      "source": [
        "n = int(input())\n",
        "arr = map(int, input().split())\n",
        "\n",
        "new_arr = list(arr)\n",
        "print(sorted(list(set(arr)))[-2])\n"
      ],
      "metadata": {
        "colab": {
          "base_uri": "https://localhost:8080/",
          "height": 234
        },
        "id": "xTCsc9C_7fJE",
        "outputId": "fc404fab-1614-467d-a8c9-c9e7f0d09c7e"
      },
      "execution_count": null,
      "outputs": [
        {
          "name": "stdout",
          "output_type": "stream",
          "text": [
            "[2, 3, 6, 6, 5]\n"
          ]
        },
        {
          "output_type": "error",
          "ename": "ValueError",
          "evalue": "invalid literal for int() with base 10: '[2, 3, 6, 6, 5]'",
          "traceback": [
            "\u001b[0;31m---------------------------------------------------------------------------\u001b[0m",
            "\u001b[0;31mValueError\u001b[0m                                Traceback (most recent call last)",
            "\u001b[0;32m<ipython-input-2-12be1a23c99a>\u001b[0m in \u001b[0;36m<cell line: 1>\u001b[0;34m()\u001b[0m\n\u001b[0;32m----> 1\u001b[0;31m \u001b[0mn\u001b[0m \u001b[0;34m=\u001b[0m \u001b[0mint\u001b[0m\u001b[0;34m(\u001b[0m\u001b[0minput\u001b[0m\u001b[0;34m(\u001b[0m\u001b[0;34m)\u001b[0m\u001b[0;34m)\u001b[0m\u001b[0;34m\u001b[0m\u001b[0;34m\u001b[0m\u001b[0m\n\u001b[0m\u001b[1;32m      2\u001b[0m \u001b[0marr\u001b[0m \u001b[0;34m=\u001b[0m \u001b[0mmap\u001b[0m\u001b[0;34m(\u001b[0m\u001b[0mint\u001b[0m\u001b[0;34m,\u001b[0m \u001b[0minput\u001b[0m\u001b[0;34m(\u001b[0m\u001b[0;34m)\u001b[0m\u001b[0;34m.\u001b[0m\u001b[0msplit\u001b[0m\u001b[0;34m(\u001b[0m\u001b[0;34m)\u001b[0m\u001b[0;34m)\u001b[0m\u001b[0;34m\u001b[0m\u001b[0;34m\u001b[0m\u001b[0m\n\u001b[1;32m      3\u001b[0m \u001b[0;34m\u001b[0m\u001b[0m\n\u001b[1;32m      4\u001b[0m \u001b[0mnew_arr\u001b[0m \u001b[0;34m=\u001b[0m \u001b[0mlist\u001b[0m\u001b[0;34m(\u001b[0m\u001b[0marr\u001b[0m\u001b[0;34m)\u001b[0m\u001b[0;34m\u001b[0m\u001b[0;34m\u001b[0m\u001b[0m\n\u001b[1;32m      5\u001b[0m \u001b[0mprint\u001b[0m\u001b[0;34m(\u001b[0m\u001b[0msorted\u001b[0m\u001b[0;34m(\u001b[0m\u001b[0mlist\u001b[0m\u001b[0;34m(\u001b[0m\u001b[0mset\u001b[0m\u001b[0;34m(\u001b[0m\u001b[0marr\u001b[0m\u001b[0;34m)\u001b[0m\u001b[0;34m)\u001b[0m\u001b[0;34m)\u001b[0m\u001b[0;34m[\u001b[0m\u001b[0;34m-\u001b[0m\u001b[0;36m2\u001b[0m\u001b[0;34m]\u001b[0m\u001b[0;34m)\u001b[0m\u001b[0;34m\u001b[0m\u001b[0;34m\u001b[0m\u001b[0m\n",
            "\u001b[0;31mValueError\u001b[0m: invalid literal for int() with base 10: '[2, 3, 6, 6, 5]'"
          ]
        }
      ]
    },
    {
      "cell_type": "code",
      "source": [
        "import pandas as pd\n",
        "\n",
        "student_data = [[1,15],[2,11],[3,11],[4,20]]\n",
        "\n",
        "def createDataframe(student_data):\n",
        "    return pd.DataFrame(student_data, columns = ['student_id','age'])"
      ],
      "metadata": {
        "id": "4zfsN98vcoJ_"
      },
      "execution_count": null,
      "outputs": []
    },
    {
      "cell_type": "code",
      "source": [
        "createDataframe(student_data)"
      ],
      "metadata": {
        "colab": {
          "base_uri": "https://localhost:8080/",
          "height": 174
        },
        "id": "rHfQiP0odBx_",
        "outputId": "75391a3a-0225-4f79-8ec5-723c47b59a38"
      },
      "execution_count": null,
      "outputs": [
        {
          "output_type": "execute_result",
          "data": {
            "text/plain": [
              "   student_id  age\n",
              "0           1   15\n",
              "1           2   11\n",
              "2           3   11\n",
              "3           4   20"
            ],
            "text/html": [
              "\n",
              "  <div id=\"df-128df870-81b3-4a2a-af46-9f54d5d7fc31\" class=\"colab-df-container\">\n",
              "    <div>\n",
              "<style scoped>\n",
              "    .dataframe tbody tr th:only-of-type {\n",
              "        vertical-align: middle;\n",
              "    }\n",
              "\n",
              "    .dataframe tbody tr th {\n",
              "        vertical-align: top;\n",
              "    }\n",
              "\n",
              "    .dataframe thead th {\n",
              "        text-align: right;\n",
              "    }\n",
              "</style>\n",
              "<table border=\"1\" class=\"dataframe\">\n",
              "  <thead>\n",
              "    <tr style=\"text-align: right;\">\n",
              "      <th></th>\n",
              "      <th>student_id</th>\n",
              "      <th>age</th>\n",
              "    </tr>\n",
              "  </thead>\n",
              "  <tbody>\n",
              "    <tr>\n",
              "      <th>0</th>\n",
              "      <td>1</td>\n",
              "      <td>15</td>\n",
              "    </tr>\n",
              "    <tr>\n",
              "      <th>1</th>\n",
              "      <td>2</td>\n",
              "      <td>11</td>\n",
              "    </tr>\n",
              "    <tr>\n",
              "      <th>2</th>\n",
              "      <td>3</td>\n",
              "      <td>11</td>\n",
              "    </tr>\n",
              "    <tr>\n",
              "      <th>3</th>\n",
              "      <td>4</td>\n",
              "      <td>20</td>\n",
              "    </tr>\n",
              "  </tbody>\n",
              "</table>\n",
              "</div>\n",
              "    <div class=\"colab-df-buttons\">\n",
              "\n",
              "  <div class=\"colab-df-container\">\n",
              "    <button class=\"colab-df-convert\" onclick=\"convertToInteractive('df-128df870-81b3-4a2a-af46-9f54d5d7fc31')\"\n",
              "            title=\"Convert this dataframe to an interactive table.\"\n",
              "            style=\"display:none;\">\n",
              "\n",
              "  <svg xmlns=\"http://www.w3.org/2000/svg\" height=\"24px\" viewBox=\"0 -960 960 960\">\n",
              "    <path d=\"M120-120v-720h720v720H120Zm60-500h600v-160H180v160Zm220 220h160v-160H400v160Zm0 220h160v-160H400v160ZM180-400h160v-160H180v160Zm440 0h160v-160H620v160ZM180-180h160v-160H180v160Zm440 0h160v-160H620v160Z\"/>\n",
              "  </svg>\n",
              "    </button>\n",
              "\n",
              "  <style>\n",
              "    .colab-df-container {\n",
              "      display:flex;\n",
              "      gap: 12px;\n",
              "    }\n",
              "\n",
              "    .colab-df-convert {\n",
              "      background-color: #E8F0FE;\n",
              "      border: none;\n",
              "      border-radius: 50%;\n",
              "      cursor: pointer;\n",
              "      display: none;\n",
              "      fill: #1967D2;\n",
              "      height: 32px;\n",
              "      padding: 0 0 0 0;\n",
              "      width: 32px;\n",
              "    }\n",
              "\n",
              "    .colab-df-convert:hover {\n",
              "      background-color: #E2EBFA;\n",
              "      box-shadow: 0px 1px 2px rgba(60, 64, 67, 0.3), 0px 1px 3px 1px rgba(60, 64, 67, 0.15);\n",
              "      fill: #174EA6;\n",
              "    }\n",
              "\n",
              "    .colab-df-buttons div {\n",
              "      margin-bottom: 4px;\n",
              "    }\n",
              "\n",
              "    [theme=dark] .colab-df-convert {\n",
              "      background-color: #3B4455;\n",
              "      fill: #D2E3FC;\n",
              "    }\n",
              "\n",
              "    [theme=dark] .colab-df-convert:hover {\n",
              "      background-color: #434B5C;\n",
              "      box-shadow: 0px 1px 3px 1px rgba(0, 0, 0, 0.15);\n",
              "      filter: drop-shadow(0px 1px 2px rgba(0, 0, 0, 0.3));\n",
              "      fill: #FFFFFF;\n",
              "    }\n",
              "  </style>\n",
              "\n",
              "    <script>\n",
              "      const buttonEl =\n",
              "        document.querySelector('#df-128df870-81b3-4a2a-af46-9f54d5d7fc31 button.colab-df-convert');\n",
              "      buttonEl.style.display =\n",
              "        google.colab.kernel.accessAllowed ? 'block' : 'none';\n",
              "\n",
              "      async function convertToInteractive(key) {\n",
              "        const element = document.querySelector('#df-128df870-81b3-4a2a-af46-9f54d5d7fc31');\n",
              "        const dataTable =\n",
              "          await google.colab.kernel.invokeFunction('convertToInteractive',\n",
              "                                                    [key], {});\n",
              "        if (!dataTable) return;\n",
              "\n",
              "        const docLinkHtml = 'Like what you see? Visit the ' +\n",
              "          '<a target=\"_blank\" href=https://colab.research.google.com/notebooks/data_table.ipynb>data table notebook</a>'\n",
              "          + ' to learn more about interactive tables.';\n",
              "        element.innerHTML = '';\n",
              "        dataTable['output_type'] = 'display_data';\n",
              "        await google.colab.output.renderOutput(dataTable, element);\n",
              "        const docLink = document.createElement('div');\n",
              "        docLink.innerHTML = docLinkHtml;\n",
              "        element.appendChild(docLink);\n",
              "      }\n",
              "    </script>\n",
              "  </div>\n",
              "\n",
              "\n",
              "<div id=\"df-560e2d27-3c7f-4b96-b747-5d367b856c3f\">\n",
              "  <button class=\"colab-df-quickchart\" onclick=\"quickchart('df-560e2d27-3c7f-4b96-b747-5d367b856c3f')\"\n",
              "            title=\"Suggest charts\"\n",
              "            style=\"display:none;\">\n",
              "\n",
              "<svg xmlns=\"http://www.w3.org/2000/svg\" height=\"24px\"viewBox=\"0 0 24 24\"\n",
              "     width=\"24px\">\n",
              "    <g>\n",
              "        <path d=\"M19 3H5c-1.1 0-2 .9-2 2v14c0 1.1.9 2 2 2h14c1.1 0 2-.9 2-2V5c0-1.1-.9-2-2-2zM9 17H7v-7h2v7zm4 0h-2V7h2v10zm4 0h-2v-4h2v4z\"/>\n",
              "    </g>\n",
              "</svg>\n",
              "  </button>\n",
              "\n",
              "<style>\n",
              "  .colab-df-quickchart {\n",
              "      --bg-color: #E8F0FE;\n",
              "      --fill-color: #1967D2;\n",
              "      --hover-bg-color: #E2EBFA;\n",
              "      --hover-fill-color: #174EA6;\n",
              "      --disabled-fill-color: #AAA;\n",
              "      --disabled-bg-color: #DDD;\n",
              "  }\n",
              "\n",
              "  [theme=dark] .colab-df-quickchart {\n",
              "      --bg-color: #3B4455;\n",
              "      --fill-color: #D2E3FC;\n",
              "      --hover-bg-color: #434B5C;\n",
              "      --hover-fill-color: #FFFFFF;\n",
              "      --disabled-bg-color: #3B4455;\n",
              "      --disabled-fill-color: #666;\n",
              "  }\n",
              "\n",
              "  .colab-df-quickchart {\n",
              "    background-color: var(--bg-color);\n",
              "    border: none;\n",
              "    border-radius: 50%;\n",
              "    cursor: pointer;\n",
              "    display: none;\n",
              "    fill: var(--fill-color);\n",
              "    height: 32px;\n",
              "    padding: 0;\n",
              "    width: 32px;\n",
              "  }\n",
              "\n",
              "  .colab-df-quickchart:hover {\n",
              "    background-color: var(--hover-bg-color);\n",
              "    box-shadow: 0 1px 2px rgba(60, 64, 67, 0.3), 0 1px 3px 1px rgba(60, 64, 67, 0.15);\n",
              "    fill: var(--button-hover-fill-color);\n",
              "  }\n",
              "\n",
              "  .colab-df-quickchart-complete:disabled,\n",
              "  .colab-df-quickchart-complete:disabled:hover {\n",
              "    background-color: var(--disabled-bg-color);\n",
              "    fill: var(--disabled-fill-color);\n",
              "    box-shadow: none;\n",
              "  }\n",
              "\n",
              "  .colab-df-spinner {\n",
              "    border: 2px solid var(--fill-color);\n",
              "    border-color: transparent;\n",
              "    border-bottom-color: var(--fill-color);\n",
              "    animation:\n",
              "      spin 1s steps(1) infinite;\n",
              "  }\n",
              "\n",
              "  @keyframes spin {\n",
              "    0% {\n",
              "      border-color: transparent;\n",
              "      border-bottom-color: var(--fill-color);\n",
              "      border-left-color: var(--fill-color);\n",
              "    }\n",
              "    20% {\n",
              "      border-color: transparent;\n",
              "      border-left-color: var(--fill-color);\n",
              "      border-top-color: var(--fill-color);\n",
              "    }\n",
              "    30% {\n",
              "      border-color: transparent;\n",
              "      border-left-color: var(--fill-color);\n",
              "      border-top-color: var(--fill-color);\n",
              "      border-right-color: var(--fill-color);\n",
              "    }\n",
              "    40% {\n",
              "      border-color: transparent;\n",
              "      border-right-color: var(--fill-color);\n",
              "      border-top-color: var(--fill-color);\n",
              "    }\n",
              "    60% {\n",
              "      border-color: transparent;\n",
              "      border-right-color: var(--fill-color);\n",
              "    }\n",
              "    80% {\n",
              "      border-color: transparent;\n",
              "      border-right-color: var(--fill-color);\n",
              "      border-bottom-color: var(--fill-color);\n",
              "    }\n",
              "    90% {\n",
              "      border-color: transparent;\n",
              "      border-bottom-color: var(--fill-color);\n",
              "    }\n",
              "  }\n",
              "</style>\n",
              "\n",
              "  <script>\n",
              "    async function quickchart(key) {\n",
              "      const quickchartButtonEl =\n",
              "        document.querySelector('#' + key + ' button');\n",
              "      quickchartButtonEl.disabled = true;  // To prevent multiple clicks.\n",
              "      quickchartButtonEl.classList.add('colab-df-spinner');\n",
              "      try {\n",
              "        const charts = await google.colab.kernel.invokeFunction(\n",
              "            'suggestCharts', [key], {});\n",
              "      } catch (error) {\n",
              "        console.error('Error during call to suggestCharts:', error);\n",
              "      }\n",
              "      quickchartButtonEl.classList.remove('colab-df-spinner');\n",
              "      quickchartButtonEl.classList.add('colab-df-quickchart-complete');\n",
              "    }\n",
              "    (() => {\n",
              "      let quickchartButtonEl =\n",
              "        document.querySelector('#df-560e2d27-3c7f-4b96-b747-5d367b856c3f button');\n",
              "      quickchartButtonEl.style.display =\n",
              "        google.colab.kernel.accessAllowed ? 'block' : 'none';\n",
              "    })();\n",
              "  </script>\n",
              "</div>\n",
              "\n",
              "    </div>\n",
              "  </div>\n"
            ],
            "application/vnd.google.colaboratory.intrinsic+json": {
              "type": "dataframe",
              "summary": "{\n  \"name\": \"createDataframe(student_data)\",\n  \"rows\": 4,\n  \"fields\": [\n    {\n      \"column\": \"student_id\",\n      \"properties\": {\n        \"dtype\": \"number\",\n        \"std\": 1,\n        \"min\": 1,\n        \"max\": 4,\n        \"num_unique_values\": 4,\n        \"samples\": [\n          2,\n          4,\n          1\n        ],\n        \"semantic_type\": \"\",\n        \"description\": \"\"\n      }\n    },\n    {\n      \"column\": \"age\",\n      \"properties\": {\n        \"dtype\": \"number\",\n        \"std\": 4,\n        \"min\": 11,\n        \"max\": 20,\n        \"num_unique_values\": 3,\n        \"samples\": [\n          15,\n          11,\n          20\n        ],\n        \"semantic_type\": \"\",\n        \"description\": \"\"\n      }\n    }\n  ]\n}"
            }
          },
          "metadata": {},
          "execution_count": 11
        }
      ]
    }
  ],
  "metadata": {
    "colab": {
      "provenance": [],
      "authorship_tag": "ABX9TyO+0WsIExaPGDMLQyz99ri7",
      "include_colab_link": true
    },
    "kernelspec": {
      "display_name": "Python 3",
      "name": "python3"
    },
    "language_info": {
      "name": "python"
    }
  },
  "nbformat": 4,
  "nbformat_minor": 0
}