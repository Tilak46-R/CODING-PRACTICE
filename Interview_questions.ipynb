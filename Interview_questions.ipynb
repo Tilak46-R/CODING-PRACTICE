{
  "cells": [
    {
      "cell_type": "markdown",
      "metadata": {
        "id": "view-in-github",
        "colab_type": "text"
      },
      "source": [
        "<a href=\"https://colab.research.google.com/github/Tilak46-R/CODING-PRACTICE/blob/main/Interview_questions.ipynb\" target=\"_parent\"><img src=\"https://colab.research.google.com/assets/colab-badge.svg\" alt=\"Open In Colab\"/></a>"
      ]
    },
    {
      "cell_type": "markdown",
      "metadata": {
        "id": "O2GIGl4Ke0f9"
      },
      "source": [
        "# **ARMSTRONG NUMBER**\n",
        "\n",
        "\n",
        "\n"
      ]
    },
    {
      "cell_type": "code",
      "execution_count": null,
      "metadata": {
        "colab": {
          "base_uri": "https://localhost:8080/"
        },
        "id": "Y-UO_fXTBq-P",
        "outputId": "9b9c08c9-e1c8-4dec-98ea-b9355d9f4f45"
      },
      "outputs": [
        {
          "name": "stdout",
          "output_type": "stream",
          "text": [
            "153\n",
            "Armstrong\n"
          ]
        }
      ],
      "source": [
        "i=0\n",
        "result=0\n",
        "n=int(input())\n",
        "number1=n\n",
        "temp=n\n",
        "while n!=0:\n",
        "  n = (n//10)\n",
        "  i = i+1\n",
        "while number1!=0:\n",
        "  n = (number1%10)\n",
        "  result = result + pow(n,i)\n",
        "  number1 = (number1//10)\n",
        "if temp == result:\n",
        "  print(\"Armstrong\")\n",
        "else:\n",
        "  print(\"Not an Armstrong\")"
      ]
    },
    {
      "cell_type": "code",
      "source": [
        "def is_armstrong(number):\n",
        "  num_digits = len(str(number))\n",
        "  armstrong_sum=0\n",
        "  temp=number\n",
        "\n",
        "  while temp>0:\n",
        "    digit = temp%10\n",
        "    armstrong_sum+=digit**num_digits\n",
        "    temp//=10\n",
        "\n",
        "  if armstrong_sum == number:\n",
        "    return True\n",
        "  else:\n",
        "    return False\n",
        "\n",
        "T = int(input(\"enter the test cases\"))\n",
        "\n",
        "for t in range(T):\n",
        "  test_number =int(input())\n",
        "  if is_armstrong(test_number):\n",
        "    print(\"It is an Armstrong number\")\n",
        "  else:\n",
        "    print(\"It is not an Armstong number\")"
      ],
      "metadata": {
        "colab": {
          "base_uri": "https://localhost:8080/"
        },
        "id": "sVxqG7TpCjLy",
        "outputId": "1e0ee413-15f2-459d-a7fd-5656344543f0"
      },
      "execution_count": null,
      "outputs": [
        {
          "output_type": "stream",
          "name": "stdout",
          "text": [
            "enter the test cases3\n",
            "153\n",
            "It is an Armstrong number\n",
            "345\n",
            "It is not an Armstong number\n",
            "761\n",
            "It is not an Armstong number\n"
          ]
        }
      ]
    },
    {
      "cell_type": "code",
      "source": [
        "def is_armstrong(number):\n",
        "  num = len(str(number))\n",
        "  sum = 0\n",
        "  temp = number\n",
        "  while temp>0:\n",
        "    digit = temp%10\n",
        "    sum += digit ** num\n",
        "    temp//=10\n",
        "\n",
        "  if sum==number:\n",
        "    return True\n",
        "  else:\n",
        "    return False\n",
        "\n",
        "T = int(input(\"enter the test cases\"))\n",
        "\n",
        "for t in range(T):\n",
        "  test_num = int(input())\n",
        "  if is_armstrong(test_num):\n",
        "    print(\"It is a Armstrong Number\")\n",
        "  else:\n",
        "    print(\"it is not an armstrong number\")"
      ],
      "metadata": {
        "colab": {
          "base_uri": "https://localhost:8080/"
        },
        "id": "QdI2Dz-yJCi2",
        "outputId": "67ee42e4-949d-4da9-a8b6-13e5e2491de6"
      },
      "execution_count": 4,
      "outputs": [
        {
          "output_type": "stream",
          "name": "stdout",
          "text": [
            "enter the test cases3\n",
            "153\n",
            "It is a Armstrong Number\n",
            "756\n",
            "it is not an armstrong number\n",
            "225\n",
            "it is not an armstrong number\n"
          ]
        }
      ]
    },
    {
      "cell_type": "code",
      "source": [
        "i = 0\n",
        "result = 0\n",
        "n = int(input())\n",
        "number1 = n\n",
        "temp = n\n",
        "\n",
        "while n!=0:\n",
        "  n = (n//10)\n",
        "  i=i+1\n",
        "while number1!=0:\n",
        "  n = (number1%10)\n",
        "  result = result + pow(n,i)\n",
        "  number1 = (number1//10)\n",
        "\n",
        "if result==temp:\n",
        "  print(\"armstrong\")\n",
        "else:\n",
        "  print(\"not an armstrong\")\n"
      ],
      "metadata": {
        "colab": {
          "base_uri": "https://localhost:8080/"
        },
        "id": "U9jnPPO5PLO1",
        "outputId": "b7218787-b415-48c2-90c6-8d74dfd51489"
      },
      "execution_count": null,
      "outputs": [
        {
          "output_type": "stream",
          "name": "stdout",
          "text": [
            "153\n",
            "armstrong\n"
          ]
        }
      ]
    },
    {
      "cell_type": "code",
      "execution_count": null,
      "metadata": {
        "colab": {
          "base_uri": "https://localhost:8080/"
        },
        "id": "q8t0i9qONqvQ",
        "outputId": "dc4c0afd-8d93-43fb-d718-2a67b1132ded"
      },
      "outputs": [
        {
          "name": "stdout",
          "output_type": "stream",
          "text": [
            "153\n",
            "Arm\n"
          ]
        }
      ],
      "source": [
        "i = 0\n",
        "result=0\n",
        "n=int(input())\n",
        "number1 = n\n",
        "temp = n\n",
        "\n",
        "while n !=0:\n",
        "  n = (n//10)\n",
        "  i = i+1\n",
        "while number1!=0:\n",
        "  n = (number1%10)\n",
        "  result = result + pow(n,i)\n",
        "  number1 = number1//10\n",
        "\n",
        "if temp==result:\n",
        "  print(\"Arm\")\n",
        "else:\n",
        "  print(\"Not\")"
      ]
    },
    {
      "cell_type": "code",
      "execution_count": null,
      "metadata": {
        "colab": {
          "base_uri": "https://localhost:8080/"
        },
        "id": "BNY2jVGtjBdS",
        "outputId": "4025fc9c-3f1b-46b6-d1fd-baaf4f1c4a4f"
      },
      "outputs": [
        {
          "name": "stdout",
          "output_type": "stream",
          "text": [
            "156\n",
            "B\n"
          ]
        }
      ],
      "source": [
        "i = 0\n",
        "result = 0\n",
        "n = int(input())\n",
        "number1 = n\n",
        "temp = n\n",
        "while n!=0:\n",
        "  n = n//10\n",
        "  i=i+1\n",
        "while number1!=0:\n",
        "  n=number1%10\n",
        "  result = result + pow(n,i)\n",
        "  number1 = number1//10\n",
        "if result==temp:\n",
        "  print(\"A\")\n",
        "else:\n",
        "  print(\"B\")"
      ]
    },
    {
      "cell_type": "code",
      "execution_count": null,
      "metadata": {
        "colab": {
          "base_uri": "https://localhost:8080/"
        },
        "id": "7OgX6cI5isbC",
        "outputId": "659fa777-f335-4a0e-85da-ecff46c977f2"
      },
      "outputs": [
        {
          "data": {
            "text/plain": [
              "1"
            ]
          },
          "execution_count": 19,
          "metadata": {},
          "output_type": "execute_result"
        }
      ],
      "source": [
        "a = (1%10)\n",
        "a\n"
      ]
    },
    {
      "cell_type": "code",
      "execution_count": null,
      "metadata": {
        "colab": {
          "base_uri": "https://localhost:8080/"
        },
        "id": "fX6ITwT_huVg",
        "outputId": "64f74a92-e6b4-4a48-ff18-035c424644af"
      },
      "outputs": [
        {
          "name": "stdout",
          "output_type": "stream",
          "text": [
            "Enter a number: 153\n",
            "153 is an Armstrong number\n"
          ]
        }
      ],
      "source": [
        "\n",
        "\n",
        "# Python program to check if the number is an Armstrong number or not\n",
        "num = int(input(\"Enter a number: \"))  # Take input from the user\n",
        "\n",
        "# Initialize the sum\n",
        "sum = 0\n",
        "\n",
        "# Find the sum of the cube of each digit\n",
        "temp = num\n",
        "while temp > 0:\n",
        "    digit = temp % 10\n",
        "    sum += digit ** 3\n",
        "    temp //= 10\n",
        "\n",
        "# Display the result\n",
        "if num == sum:\n",
        "    print(f\"{num} is an Armstrong number\")\n",
        "else:\n",
        "    print(f\"{num} is not an Armstrong number\")\n"
      ]
    },
    {
      "cell_type": "code",
      "source": [
        "def count_letters(word):\n",
        "\n",
        "    letter_count = {}\n",
        "    for letter in word:\n",
        "        if letter.isalpha():\n",
        "            letter = letter.lower()\n",
        "            letter_count[letter] = letter_count.get(letter, 0) + 1\n",
        "    return letter_count\n",
        "\n",
        "# Try out here\n",
        "word = \"Custom Function\"\n",
        "result = count_letters(word)\n",
        "print(result)"
      ],
      "metadata": {
        "colab": {
          "base_uri": "https://localhost:8080/"
        },
        "id": "mIE80iBz1E38",
        "outputId": "9c653bc1-5020-4452-cb4f-e49a25fae534"
      },
      "execution_count": null,
      "outputs": [
        {
          "output_type": "stream",
          "name": "stdout",
          "text": [
            "{'c': 2, 'u': 2, 's': 1, 't': 2, 'o': 2, 'm': 1, 'f': 1, 'n': 2, 'i': 1}\n"
          ]
        }
      ]
    },
    {
      "cell_type": "code",
      "source": [
        "def count_letters(word):\n",
        "  letter_count = {}\n",
        "  for letter in word:\n",
        "    if letter.isalpha():\n",
        "      letter = letter.lower()\n",
        "      letter_count[letter]=letter_count(letter,0)+1\n",
        "  return letter_count"
      ],
      "metadata": {
        "id": "6XofiJuwM39s"
      },
      "execution_count": 5,
      "outputs": []
    },
    {
      "cell_type": "code",
      "source": [
        "word = input()\n",
        "letter_count = {}\n",
        "\n",
        "for letter in word:\n",
        "  if letter in letter_count:\n",
        "    letter_count[letter]+=1\n",
        "  else:\n",
        "    letter_count[letter]==1\n",
        "print(letter_count)\n",
        "\n",
        "\n",
        ""
      ],
      "metadata": {
        "colab": {
          "base_uri": "https://localhost:8080/",
          "height": 228
        },
        "id": "kbyKNKz7RUXK",
        "outputId": "7ada7d84-00ec-415e-ee65-c4efafb27d12"
      },
      "execution_count": 9,
      "outputs": [
        {
          "name": "stdout",
          "output_type": "stream",
          "text": [
            "custom function\n"
          ]
        },
        {
          "output_type": "error",
          "ename": "KeyError",
          "evalue": "'c'",
          "traceback": [
            "\u001b[0;31m---------------------------------------------------------------------------\u001b[0m",
            "\u001b[0;31mKeyError\u001b[0m                                  Traceback (most recent call last)",
            "\u001b[0;32m<ipython-input-9-d287b6dbcb6a>\u001b[0m in \u001b[0;36m<cell line: 4>\u001b[0;34m()\u001b[0m\n\u001b[1;32m      6\u001b[0m     \u001b[0mletter_count\u001b[0m\u001b[0;34m[\u001b[0m\u001b[0mletter\u001b[0m\u001b[0;34m]\u001b[0m\u001b[0;34m+=\u001b[0m\u001b[0;36m1\u001b[0m\u001b[0;34m\u001b[0m\u001b[0;34m\u001b[0m\u001b[0m\n\u001b[1;32m      7\u001b[0m   \u001b[0;32melse\u001b[0m\u001b[0;34m:\u001b[0m\u001b[0;34m\u001b[0m\u001b[0;34m\u001b[0m\u001b[0m\n\u001b[0;32m----> 8\u001b[0;31m     \u001b[0mletter_count\u001b[0m\u001b[0;34m[\u001b[0m\u001b[0mletter\u001b[0m\u001b[0;34m]\u001b[0m\u001b[0;34m==\u001b[0m\u001b[0;36m1\u001b[0m\u001b[0;34m\u001b[0m\u001b[0;34m\u001b[0m\u001b[0m\n\u001b[0m\u001b[1;32m      9\u001b[0m \u001b[0mprint\u001b[0m\u001b[0;34m(\u001b[0m\u001b[0mletter_count\u001b[0m\u001b[0;34m)\u001b[0m\u001b[0;34m\u001b[0m\u001b[0;34m\u001b[0m\u001b[0m\n\u001b[1;32m     10\u001b[0m \u001b[0;34m\u001b[0m\u001b[0m\n",
            "\u001b[0;31mKeyError\u001b[0m: 'c'"
          ]
        }
      ]
    },
    {
      "cell_type": "code",
      "source": [
        "string = input()\n",
        "\n",
        "char_count = {}\n",
        "\n",
        "for char in string:\n",
        "  if char in char_count:\n",
        "    char_count[char]+=1\n",
        "  else:\n",
        "    char_count[char]=1\n",
        "print(char_count)"
      ],
      "metadata": {
        "colab": {
          "base_uri": "https://localhost:8080/"
        },
        "id": "CyTpNrioSiDb",
        "outputId": "371808c1-419b-4466-94d0-359b4af3d28a"
      },
      "execution_count": 11,
      "outputs": [
        {
          "output_type": "stream",
          "name": "stdout",
          "text": [
            "custom functions\n",
            "{'c': 2, 'u': 2, 's': 2, 't': 2, 'o': 2, 'm': 1, ' ': 1, 'f': 1, 'n': 2, 'i': 1}\n"
          ]
        }
      ]
    },
    {
      "cell_type": "code",
      "source": [
        "names = ['Alice', 'Bob', 'Charlie']\n",
        "scores = [85, 92, 78]\n",
        "for name, score in zip(names, scores):\n",
        "    print(f\"{name}: {score}\")"
      ],
      "metadata": {
        "colab": {
          "base_uri": "https://localhost:8080/"
        },
        "id": "qzG7-8uv1E2H",
        "outputId": "00e72b78-6a33-42f8-e700-ae505e85d2ea"
      },
      "execution_count": null,
      "outputs": [
        {
          "output_type": "stream",
          "name": "stdout",
          "text": [
            "Alice: 85\n",
            "Bob: 92\n",
            "Charlie: 78\n"
          ]
        }
      ]
    },
    {
      "cell_type": "code",
      "execution_count": null,
      "metadata": {
        "colab": {
          "base_uri": "https://localhost:8080/"
        },
        "id": "0wvsNZP-fejd",
        "outputId": "1267ad97-791c-43af-8330-23e7360e2e58"
      },
      "outputs": [
        {
          "data": {
            "text/plain": [
              "0"
            ]
          },
          "execution_count": 5,
          "metadata": {},
          "output_type": "execute_result"
        }
      ],
      "source": [
        "A= pow(0,1)\n",
        "A"
      ]
    },
    {
      "cell_type": "code",
      "execution_count": null,
      "metadata": {
        "colab": {
          "base_uri": "https://localhost:8080/"
        },
        "id": "gH4X4yWRKeJ1",
        "outputId": "8ce32ca9-45a1-47de-8acb-28c7d772a713"
      },
      "outputs": [
        {
          "name": "stdout",
          "output_type": "stream",
          "text": [
            "153\n",
            "Num is Armstrong\n"
          ]
        }
      ],
      "source": [
        "i=0\n",
        "result=0\n",
        "n =int(input())\n",
        "number1=n\n",
        "temp=n\n",
        "while n!=0:\n",
        "  n = (n//10)\n",
        "  i = i + 1\n",
        "while number1 !=0:\n",
        "  n=(number1%10)\n",
        "  result = result + pow(n,i)\n",
        "  number1 = number1//10\n",
        "if temp == result:\n",
        "  print(\"Num is Armstrong\")\n",
        "else:\n",
        "  print(\"Num is not Armstrong\")"
      ]
    },
    {
      "cell_type": "markdown",
      "metadata": {
        "id": "d0MNMoBEjCvD"
      },
      "source": [
        "Pattern"
      ]
    },
    {
      "cell_type": "code",
      "execution_count": null,
      "metadata": {
        "colab": {
          "base_uri": "https://localhost:8080/"
        },
        "id": "y23vm82wjCVL",
        "outputId": "c1d6b3a4-feff-4b35-eec0-6d85cd8eada4"
      },
      "outputs": [
        {
          "name": "stdout",
          "output_type": "stream",
          "text": [
            "5\n",
            "*\n",
            "**\n",
            "***\n",
            "****\n",
            "*****\n"
          ]
        }
      ],
      "source": [
        "n = int(input())\n",
        "\n",
        "for i in range(1,n+1):\n",
        "  for j in range(1,i+1):\n",
        "    print(\"*\", end = \"\")\n",
        "  print()"
      ]
    },
    {
      "cell_type": "code",
      "source": [
        "n  = int(input())\n",
        "\n",
        "for i in range(1,n+1):\n",
        "  for j in range(1,i+1):\n",
        "    print(\"*\",end=\"\")\n",
        "  print()"
      ],
      "metadata": {
        "colab": {
          "base_uri": "https://localhost:8080/"
        },
        "id": "528YMQXdP2RP",
        "outputId": "28262885-10fd-4de6-d0da-17a81cfbb139"
      },
      "execution_count": null,
      "outputs": [
        {
          "output_type": "stream",
          "name": "stdout",
          "text": [
            "5\n",
            "*\n",
            "**\n",
            "***\n",
            "****\n",
            "*****\n"
          ]
        }
      ]
    },
    {
      "cell_type": "code",
      "execution_count": null,
      "metadata": {
        "colab": {
          "base_uri": "https://localhost:8080/"
        },
        "id": "mRWudCpLY8d0",
        "outputId": "4cede024-eeec-4885-f7ef-9ba720957ab7"
      },
      "outputs": [
        {
          "output_type": "stream",
          "name": "stdout",
          "text": [
            "5\n",
            "*\n",
            "**\n",
            "***\n",
            "****\n",
            "*****\n",
            "    *\n",
            "   **\n",
            "  ***\n",
            " ****\n",
            "*****\n"
          ]
        }
      ],
      "source": [
        "n = int(input())\n",
        "\n",
        "for i in range(1,n+1):\n",
        "  for j in range(1,i+1):\n",
        "    print(\"*\",end=\"\")\n",
        "  print()\n",
        "\n",
        "size = 5\n",
        "for i in range(size):\n",
        "  for j in range(1,size-i):\n",
        "    print(\" \",end=\"\")\n",
        "  for k in range(0,i+1):\n",
        "    print(\"*\",end=\"\")\n",
        "  print()"
      ]
    },
    {
      "cell_type": "code",
      "source": [
        "def pattern(n):\n",
        "  for i in range(1,n+1):\n",
        "    for j in range(1,i+1):\n",
        "      print(str(i)*2,end=\"\")\n",
        "    print()\n",
        "\n",
        "\n",
        "n = int(input())\n",
        "pattern(n)"
      ],
      "metadata": {
        "colab": {
          "base_uri": "https://localhost:8080/"
        },
        "id": "PTPnghiTQoAF",
        "outputId": "68b080b5-90af-4d37-999f-3ce1ddf25dcd"
      },
      "execution_count": 16,
      "outputs": [
        {
          "output_type": "stream",
          "name": "stdout",
          "text": [
            "5\n",
            "11\n",
            "2222\n",
            "333333\n",
            "44444444\n",
            "5555555555\n"
          ]
        }
      ]
    },
    {
      "cell_type": "code",
      "execution_count": null,
      "metadata": {
        "colab": {
          "base_uri": "https://localhost:8080/"
        },
        "id": "eCZAGEAoZKbL",
        "outputId": "22bad9a8-5e92-476f-8d6c-8b68cdd2ba71"
      },
      "outputs": [
        {
          "name": "stdout",
          "output_type": "stream",
          "text": [
            "    *\n",
            "   **\n",
            "  ***\n",
            " ****\n",
            "*****\n"
          ]
        }
      ],
      "source": [
        "size = 5\n",
        "\n",
        "for i in range(size):\n",
        "  for j in range(1,size-i):\n",
        "    print(\" \",end=\"\")\n",
        "  for k in range(0,i+1):\n",
        "    print(\"*\",end=\"\")\n",
        "  print()"
      ]
    },
    {
      "cell_type": "code",
      "source": [
        "size = 5\n",
        "\n",
        "for i in range(size):\n",
        "  for j in range(1,size-i):\n",
        "    print(\" \",end=\"\")\n",
        "  for k in range(0,i+1):\n",
        "    print(\"*\",end=\"\")\n",
        "  print()"
      ],
      "metadata": {
        "colab": {
          "base_uri": "https://localhost:8080/"
        },
        "id": "Poz1dBtNQFoG",
        "outputId": "9318ed6f-f7a0-4825-91c7-ed86324b0696"
      },
      "execution_count": null,
      "outputs": [
        {
          "output_type": "stream",
          "name": "stdout",
          "text": [
            "    *\n",
            "   **\n",
            "  ***\n",
            " ****\n",
            "*****\n"
          ]
        }
      ]
    },
    {
      "cell_type": "code",
      "execution_count": null,
      "metadata": {
        "colab": {
          "base_uri": "https://localhost:8080/"
        },
        "id": "Usls00UrQoPc",
        "outputId": "a11d74e2-a155-45a1-a79e-d2fbef0cfe56"
      },
      "outputs": [
        {
          "name": "stdout",
          "output_type": "stream",
          "text": [
            "5\n",
            "*\n",
            "**\n",
            "***\n",
            "****\n",
            "*****\n"
          ]
        }
      ],
      "source": [
        "n = int(input())\n",
        "\n",
        "for i in range(1,n+1):\n",
        "  for j in range(1,i+1):\n",
        "    print(\"*\", end=\"\")\n",
        "  print()"
      ]
    },
    {
      "cell_type": "code",
      "execution_count": null,
      "metadata": {
        "colab": {
          "base_uri": "https://localhost:8080/"
        },
        "id": "AjQshw0-jeQJ",
        "outputId": "810a08bb-5a66-44ed-9723-db6423ea8b0f"
      },
      "outputs": [
        {
          "name": "stdout",
          "output_type": "stream",
          "text": [
            "    *\n",
            "   **\n",
            "  ***\n",
            " ****\n",
            "*****\n"
          ]
        }
      ],
      "source": [
        "size = 5\n",
        "for i in range(size):\n",
        "  for j in range(1,size-i):\n",
        "    print(\" \", end = \"\")\n",
        "  for k in range(0, i+1):\n",
        "    print(\"*\", end = \"\")\n",
        "  print()"
      ]
    },
    {
      "cell_type": "code",
      "execution_count": null,
      "metadata": {
        "colab": {
          "base_uri": "https://localhost:8080/"
        },
        "id": "nJ39YcAMClVw",
        "outputId": "09b43a87-8d2b-4d65-a73a-9efe2da05c29"
      },
      "outputs": [
        {
          "name": "stdout",
          "output_type": "stream",
          "text": [
            "    *\n",
            "   **\n",
            "  ***\n",
            " ****\n",
            "*****\n"
          ]
        }
      ],
      "source": [
        "size = int(input())\n",
        "\n",
        "for i in range(size):\n",
        "  for j in range(1,size-i):\n",
        "    print(\" \",end=\"\")\n",
        "  for k in range(0,i+1):\n",
        "    print(\"*\",end=\"\")\n",
        "  print()"
      ]
    },
    {
      "cell_type": "code",
      "execution_count": null,
      "metadata": {
        "colab": {
          "base_uri": "https://localhost:8080/"
        },
        "id": "s7D6ou_hC9KH",
        "outputId": "ea2c3c5f-4042-4b1f-bea8-2fe20e2fd0dd"
      },
      "outputs": [
        {
          "name": "stdout",
          "output_type": "stream",
          "text": [
            "5\n",
            "*\n",
            "**\n",
            "***\n",
            "****\n",
            "*****\n"
          ]
        }
      ],
      "source": [
        "n = int(input())\n",
        "for i in range(1,n+1):\n",
        "  for k in range(1,i+1):\n",
        "    print(\"*\",end=\"\")\n",
        "  print()"
      ]
    },
    {
      "cell_type": "code",
      "execution_count": null,
      "metadata": {
        "colab": {
          "base_uri": "https://localhost:8080/"
        },
        "id": "V9mZ14gvRMUY",
        "outputId": "73301a71-da14-4db5-eeb0-08a24cc5539b"
      },
      "outputs": [
        {
          "name": "stdout",
          "output_type": "stream",
          "text": [
            "    *\n",
            "   **\n",
            "  ***\n",
            " ****\n",
            "*****\n"
          ]
        }
      ],
      "source": [
        "size=5\n",
        "for i in range(size):\n",
        "  for j in range(1,size-i):\n",
        "    print(\" \",end=\"\")\n",
        "  for k in range(0,i+1):\n",
        "    print(\"*\",end=\"\")\n",
        "  print()\n"
      ]
    },
    {
      "cell_type": "code",
      "execution_count": null,
      "metadata": {
        "colab": {
          "base_uri": "https://localhost:8080/"
        },
        "id": "fEk0DHy4mCbr",
        "outputId": "b8289709-9005-4ebb-b7bd-85619d312c51"
      },
      "outputs": [
        {
          "name": "stdout",
          "output_type": "stream",
          "text": [
            "*   *\n",
            " * * \n",
            "  *  \n",
            " * * \n",
            "*   *\n"
          ]
        }
      ],
      "source": [
        "size = 5\n",
        "for i in range(size):\n",
        "  for j in range(size):\n",
        "    if i==j or i+j==size-1:\n",
        "      print(\"*\", end = \"\")\n",
        "    else:\n",
        "      print(\" \", end = \"\")\n",
        "  print()"
      ]
    },
    {
      "cell_type": "code",
      "execution_count": null,
      "metadata": {
        "colab": {
          "base_uri": "https://localhost:8080/"
        },
        "id": "4wMTRsw-cV-o",
        "outputId": "58cd3a74-8819-497b-95b8-0225468193c6"
      },
      "outputs": [
        {
          "name": "stdout",
          "output_type": "stream",
          "text": [
            "*   *\n",
            " * * \n",
            "  *  \n",
            " * * \n",
            "*   *\n"
          ]
        }
      ],
      "source": [
        "size = 5\n",
        "for i in range(size):\n",
        "  for j in range(size):\n",
        "    if i==j or i+j == size-1:\n",
        "      print(\"*\",end=\"\")\n",
        "    else:\n",
        "      print(\" \",end=\"\")\n",
        "  print()"
      ]
    },
    {
      "cell_type": "code",
      "execution_count": null,
      "metadata": {
        "colab": {
          "base_uri": "https://localhost:8080/"
        },
        "id": "mb6lUQSPR1uB",
        "outputId": "8381b6a0-a1be-4e94-ba53-4e23f91a917b"
      },
      "outputs": [
        {
          "name": "stdout",
          "output_type": "stream",
          "text": [
            "*   *\n",
            " * * \n",
            "  *  \n",
            " * * \n",
            "*   *\n"
          ]
        }
      ],
      "source": [
        "size = 5\n",
        "for i in range(size):\n",
        "  for j in range(size):\n",
        "    if i==j or i+j==size-1:\n",
        "      print(\"*\",end=\"\")\n",
        "    else:\n",
        "      print(\" \",end=\"\")\n",
        "  print()"
      ]
    },
    {
      "cell_type": "code",
      "execution_count": null,
      "metadata": {
        "colab": {
          "base_uri": "https://localhost:8080/"
        },
        "id": "Y2egs4FHmCan",
        "outputId": "8d91ecd9-b2ed-43ef-8953-331946ed1d2d"
      },
      "outputs": [
        {
          "name": "stdout",
          "output_type": "stream",
          "text": [
            "*****\n",
            "****\n",
            "***\n",
            "**\n",
            "*\n"
          ]
        }
      ],
      "source": [
        "size = 5\n",
        "for i in range(size):\n",
        "  for j in range(size-i):\n",
        "    print(\"*\", end = \"\")\n",
        "  print()"
      ]
    },
    {
      "cell_type": "code",
      "execution_count": null,
      "metadata": {
        "colab": {
          "base_uri": "https://localhost:8080/"
        },
        "id": "0YE3JK5Tml7L",
        "outputId": "49b05a43-e1ba-498c-9205-8fe94850dae6"
      },
      "outputs": [
        {
          "name": "stdout",
          "output_type": "stream",
          "text": [
            "*****\n",
            " ****\n",
            "  ***\n",
            "   **\n",
            "    *\n"
          ]
        }
      ],
      "source": [
        "size = 5\n",
        "for i in range(size):\n",
        "  for j in range(i):\n",
        "    print(\" \", end = \"\")\n",
        "  for j in range(size,i,-1):\n",
        "    print(\"*\", end = \"\")\n",
        "  print()"
      ]
    },
    {
      "cell_type": "markdown",
      "metadata": {
        "id": "GyCmoksGkyvd"
      },
      "source": [
        "# **BUBBLE SORT**"
      ]
    },
    {
      "cell_type": "code",
      "execution_count": null,
      "metadata": {
        "colab": {
          "base_uri": "https://localhost:8080/"
        },
        "id": "53oVb3z-k2HN",
        "outputId": "538b35a5-0ca0-44f2-8fd3-2b25c3bf8c27"
      },
      "outputs": [
        {
          "name": "stdout",
          "output_type": "stream",
          "text": [
            "Sorted array is:\n",
            "1\n",
            "2\n",
            "3\n",
            "4\n",
            "5\n",
            "6\n",
            "7\n",
            "8\n"
          ]
        }
      ],
      "source": [
        "def bubble_sort(arr):\n",
        "  n=len(arr)\n",
        "\n",
        "  for i in range(n):\n",
        "    for j in range(0,n-i-1):\n",
        "      if arr[j]>arr[j+1]:\n",
        "        arr[j],arr[j+1]=arr[j+1],arr[j]\n",
        "\n",
        "arr = [5,2,7,3,1,8,6,4]\n",
        "bubble_sort(arr)\n",
        "print(\"Sorted array is:\")\n",
        "for i in range(len(arr)):\n",
        "  print(\"%d\" %arr[i])"
      ]
    },
    {
      "cell_type": "code",
      "source": [
        "def bubble_sort(arr):\n",
        "  n = len(arr)\n",
        "\n",
        "  for i in range(n):\n",
        "    for j in range(0,n-i-1):\n",
        "      if arr[j]>arr[j+1]:\n",
        "        arr[j],arr[j+1]=arr[j+1],arr[j]\n",
        "\n",
        "\n",
        "arr = [80,15,20,30,60,78,12]\n",
        "bubble_sort(arr)\n",
        "for i in range(len(arr)):\n",
        "  print(arr[i])"
      ],
      "metadata": {
        "colab": {
          "base_uri": "https://localhost:8080/"
        },
        "id": "WpiYOARz5lss",
        "outputId": "9bf03dad-fbcb-48a1-b65f-af372eacb3fc"
      },
      "execution_count": null,
      "outputs": [
        {
          "output_type": "stream",
          "name": "stdout",
          "text": [
            "12\n",
            "15\n",
            "20\n",
            "30\n",
            "60\n",
            "78\n",
            "80\n"
          ]
        }
      ]
    },
    {
      "cell_type": "code",
      "execution_count": null,
      "metadata": {
        "colab": {
          "base_uri": "https://localhost:8080/"
        },
        "id": "fl15jK9oIbLo",
        "outputId": "48d9ff2b-e897-4562-f95f-43247c96e9c7"
      },
      "outputs": [
        {
          "name": "stdout",
          "output_type": "stream",
          "text": [
            "sorted array 12\n",
            "sorted array 15\n",
            "sorted array 20\n",
            "sorted array 30\n",
            "sorted array 60\n",
            "sorted array 78\n",
            "sorted array 80\n"
          ]
        }
      ],
      "source": [
        "def bubble_sort(arr):\n",
        "  n = len(arr)\n",
        "\n",
        "  for i in range(n):\n",
        "    for j in range(0,n-i-1):\n",
        "      if arr[j]>arr[j+1]:\n",
        "        arr[j],arr[j+1]=arr[j+1],arr[j]\n",
        "\n",
        "arr = [80,15,20,30,60,78,12]\n",
        "bubble_sort(arr)\n",
        "for i in range(len(arr)):\n",
        "  print(\"sorted array\",arr[i])"
      ]
    },
    {
      "cell_type": "markdown",
      "metadata": {
        "id": "63NPlzkQNWMC"
      },
      "source": [
        "# **MERGE SORT**"
      ]
    },
    {
      "cell_type": "code",
      "execution_count": null,
      "metadata": {
        "colab": {
          "base_uri": "https://localhost:8080/"
        },
        "id": "lg62gHcFNSA5",
        "outputId": "12fbcd8a-acc0-4428-a1dc-e401586ff863"
      },
      "outputs": [
        {
          "output_type": "stream",
          "name": "stdout",
          "text": [
            "Sorted array is: [11, 12, 22, 25, 64]\n"
          ]
        }
      ],
      "source": [
        "def merge_sort(arr):\n",
        "    # Check if the input array is only one element or empty, if so, return it\n",
        "    if len(arr) <= 1:\n",
        "        return arr\n",
        "\n",
        "    # Divide the array into two halves\n",
        "    mid = len(arr) // 2\n",
        "    left_half = arr[:mid]\n",
        "    right_half = arr[mid:]\n",
        "\n",
        "    # Recursively call merge_sort on each half\n",
        "    left_half = merge_sort(left_half)\n",
        "    right_half = merge_sort(right_half)\n",
        "\n",
        "    # Merge the two sorted halves\n",
        "    i = j = 0  # Initialize two counters for the left and right halves\n",
        "    merged_arr = []  # Create an empty list to store the merged array\n",
        "    while i < len(left_half) and j < len(right_half):\n",
        "        # Compare the first element of each half and add the smaller one to the merged array\n",
        "        if left_half[i] < right_half[j]:\n",
        "            merged_arr.append(left_half[i])\n",
        "            i += 1\n",
        "        else:\n",
        "            merged_arr.append(right_half[j])\n",
        "            j += 1\n",
        "\n",
        "    # Append any remaining elements from the left or right halves to the merged array\n",
        "    merged_arr += left_half[i:]\n",
        "    merged_arr += right_half[j:]\n",
        "\n",
        "    return merged_arr\n",
        "\n",
        "arr = [64, 25, 12, 22, 11]\n",
        "sorted_arr = merge_sort(arr)\n",
        "print(\"Sorted array is:\", sorted_arr)"
      ]
    },
    {
      "cell_type": "code",
      "source": [
        "def harmonic_sum(n):\n",
        "  if n<=2:\n",
        "    return 1\n",
        "  else:\n",
        "    return 1/n + harmonic_sum(n-1)\n",
        "\n",
        "n = int(input())\n",
        "harmonic_sum(n)"
      ],
      "metadata": {
        "colab": {
          "base_uri": "https://localhost:8080/"
        },
        "id": "uP3YN90wl547",
        "outputId": "7acac195-1a25-4c54-a25a-6eec8c938e2a"
      },
      "execution_count": null,
      "outputs": [
        {
          "name": "stdout",
          "output_type": "stream",
          "text": [
            "5\n"
          ]
        },
        {
          "output_type": "execute_result",
          "data": {
            "text/plain": [
              "1.7833333333333332"
            ]
          },
          "metadata": {},
          "execution_count": 7
        }
      ]
    },
    {
      "cell_type": "markdown",
      "source": [],
      "metadata": {
        "id": "EFiJnosul5nM"
      }
    },
    {
      "cell_type": "code",
      "source": [
        "def merge_sort(arr):\n",
        "      if len(arr)<=1:\n",
        "        return arr\n",
        "\n",
        "      mid = len(arr)//2\n",
        "      left_half = arr[:mid]\n",
        "      right_half = arr[mid:]\n",
        "\n",
        "      left_half = merge_sort(left_half)\n",
        "      right_half = merge_sort(right_half)\n",
        "\n",
        "      i = j = 0\n",
        "      merged_arr = []\n",
        "\n",
        "      while i <len(left_half) and  j < len(right_half):\n",
        "        if left_half[i]<right_half[j]:\n",
        "          merged_arr.append(left_half[i])\n",
        "          i+=1\n",
        "        else:\n",
        "          merged_arr.append(right_half[j])\n",
        "          j+=1\n",
        "\n",
        "      merged_arr+=left_half[i:]\n",
        "      merged_arr+=right_half[j:]\n",
        "      return merged_arr\n",
        "\n",
        "arr = [64, 25, 12, 22, 11]\n",
        "sorted_arr = merge_sort(arr)\n",
        "print(\"sorted array is\", sorted_arr)"
      ],
      "metadata": {
        "colab": {
          "base_uri": "https://localhost:8080/"
        },
        "id": "KlwWdQZ46h_4",
        "outputId": "893bebcb-6720-4f2f-da0a-6fb6873cfb5f"
      },
      "execution_count": null,
      "outputs": [
        {
          "output_type": "stream",
          "name": "stdout",
          "text": [
            "sorted array is [11, 12, 22, 25, 64]\n"
          ]
        }
      ]
    },
    {
      "cell_type": "code",
      "execution_count": null,
      "metadata": {
        "colab": {
          "base_uri": "https://localhost:8080/"
        },
        "id": "EogkMa-7ihNs",
        "outputId": "2484df65-74c2-4c2a-b99f-150d081f5ad4"
      },
      "outputs": [
        {
          "name": "stdout",
          "output_type": "stream",
          "text": [
            "sorted array [11, 12, 22, 25, 64]\n"
          ]
        }
      ],
      "source": [
        "def merged_sort(arr):\n",
        "    if len(arr)<=1:\n",
        "      return arr\n",
        "\n",
        "    mid = len(arr)//2\n",
        "    left_half = arr[:mid]\n",
        "    right_half = arr[mid:]\n",
        "\n",
        "    left_half = merged_sort(left_half)\n",
        "    right_half = merged_sort(right_half)\n",
        "\n",
        "    i = j = 0\n",
        "    merged_arr = []\n",
        "\n",
        "    while i < len(left_half) and j < len(right_half):\n",
        "      if left_half[i]< right_half[j]:\n",
        "        merged_arr.append(left_half[i])\n",
        "        i+=1\n",
        "      else:\n",
        "        merged_arr.append(right_half[j])\n",
        "        j+=1\n",
        "\n",
        "    merged_arr+=left_half[i:]\n",
        "    merged_arr+=right_half[j:]\n",
        "    return merged_arr\n",
        "\n",
        "arr = [64, 25, 12, 22, 11]\n",
        "sorted_array = merged_sort(arr)\n",
        "print(\"sorted array\",sorted_array)"
      ]
    },
    {
      "cell_type": "markdown",
      "metadata": {
        "id": "QiZOO27liggH"
      },
      "source": []
    },
    {
      "cell_type": "code",
      "execution_count": null,
      "metadata": {
        "colab": {
          "base_uri": "https://localhost:8080/"
        },
        "id": "LJBnZiEmJ3r-",
        "outputId": "50793d32-b60e-4f24-f951-cbf37859ee9b"
      },
      "outputs": [
        {
          "name": "stdout",
          "output_type": "stream",
          "text": [
            "Sorted array is: [11, 12, 22, 25, 64]\n"
          ]
        }
      ],
      "source": [
        "def merged_sort(arr):\n",
        "  if len(arr)<=1:\n",
        "    return arr\n",
        "\n",
        "#divide the array into two parts\n",
        "  mid = len(arr)//2\n",
        "  left_half=arr[:mid]\n",
        "  right_half = arr[mid:]\n",
        "#recursively call them\n",
        "  left_half=merged_sort(left_half)\n",
        "  right_half = merged_sort(right_half)\n",
        "\n",
        "#initialise i and j as 0\n",
        "  i = j = 0\n",
        "#create a emplty list called merged_list\n",
        "  merged_arr = []\n",
        "#apply while condition\n",
        "  while i < len(left_half) and j<len(right_half):\n",
        "\n",
        "      if left_half[i]<right_half[j]:\n",
        "\n",
        "        merged_arr.append(left_half[i])\n",
        "        i+=1\n",
        "\n",
        "      else:\n",
        "\n",
        "        merged_arr.append(right_half[j])\n",
        "\n",
        "        j+=1\n",
        "\n",
        "#now append the remaining elements of i and j to merged_arr\n",
        "  merged_arr += left_half[i:]\n",
        "  merged_arr+=right_half[j:]\n",
        "\n",
        "  return merged_arr\n",
        "\n",
        "#call the function and check for its functionality\n",
        "arr = [64, 25, 12, 22, 11]\n",
        "sorted_arr = merged_sort(arr)\n",
        "print(\"Sorted array is:\", sorted_arr)"
      ]
    },
    {
      "cell_type": "code",
      "source": [
        "def merge_sort(arr):\n",
        "  if len(arr)<=1:\n",
        "    return arr\n",
        "\n",
        "  mid = len(arr)//2\n",
        "  left_half = arr[:mid]\n",
        "  right_half = arr[mid:]\n",
        "\n",
        "  left_half = merge_sort(left_half)\n",
        "  right_half = merge_sort(right_half)\n",
        "\n",
        "  i = j = 0\n",
        "  merged_arr = []\n",
        "\n",
        "  while i <len(left_half) and j<len(right_half):\n",
        "    if left_half[i]<right_half[j]:\n",
        "      merged_arr.append(left_half[i])\n",
        "      i+=1\n",
        "    else:\n",
        "      merged_arr.append(right_half[j])\n",
        "      j+=1\n",
        "\n",
        "  merged_arr += left_half[i:]\n",
        "  merged_arr += right_half[j:]\n",
        "  return merged_arr\n",
        "\n",
        "arr = [64, 25, 12, 22, 11]\n",
        "sorted_arr = merge_sort(arr)\n",
        "sorted_arr"
      ],
      "metadata": {
        "colab": {
          "base_uri": "https://localhost:8080/"
        },
        "id": "DKQ0l7SZVuio",
        "outputId": "4d76811d-6226-46ad-88cb-51d47b7998b7"
      },
      "execution_count": 21,
      "outputs": [
        {
          "output_type": "execute_result",
          "data": {
            "text/plain": [
              "[11, 12, 22, 25, 64]"
            ]
          },
          "metadata": {},
          "execution_count": 21
        }
      ]
    },
    {
      "cell_type": "markdown",
      "metadata": {
        "id": "D-1GjoO87zLQ"
      },
      "source": [
        "# **LINEAR SEARCH**"
      ]
    },
    {
      "cell_type": "code",
      "execution_count": null,
      "metadata": {
        "colab": {
          "base_uri": "https://localhost:8080/"
        },
        "id": "K55PwUXd68iC",
        "outputId": "f77ebbaa-36dc-49c8-da5e-2742359fcb97"
      },
      "outputs": [
        {
          "name": "stdout",
          "output_type": "stream",
          "text": [
            "enter the values separated by space[1,2,3,4,5]\n",
            "enter the target value2\n",
            "Target 2 found at index 1\n"
          ]
        }
      ],
      "source": [
        "def linear_search(data,target):\n",
        "  for i in range(len(data)):\n",
        "    if data[i]==target:\n",
        "      return i\n",
        "  return -1\n",
        "\n",
        "\n",
        "data = eval(input(\"enter the values separated by space\"))\n",
        "target = int(input((\"enter the target value\")))\n",
        "\n",
        "index = linear_search(data,target)\n",
        "\n",
        "if index!=-1:\n",
        "  print(f\"Target {target} found at index {index}\")\n",
        "else:\n",
        "  print(f\"Target {target} not found\")"
      ]
    },
    {
      "cell_type": "code",
      "source": [
        "def linear_search(data,target):\n",
        "  for i in range(len(data)):\n",
        "    if data[i]==target:\n",
        "      return i\n",
        "  return -1\n",
        "\n",
        "data = eval(input())\n",
        "target = int(input())\n",
        "index = linear_search(data,target)\n",
        "\n",
        "if index!=-1:\n",
        "  print(f\"Target {target} found at index {index}\")\n",
        "else:\n",
        "  print(f\"Target not found at index\")"
      ],
      "metadata": {
        "colab": {
          "base_uri": "https://localhost:8080/"
        },
        "id": "BKB-mXRCVDr4",
        "outputId": "5b7d36b6-594c-489a-d5cf-7470a93e9d92"
      },
      "execution_count": 17,
      "outputs": [
        {
          "output_type": "stream",
          "name": "stdout",
          "text": [
            "[1,2,3,4,5]\n",
            "5\n",
            "Target 5 found at index 4\n"
          ]
        }
      ]
    },
    {
      "cell_type": "code",
      "source": [
        "def linear_search(data,target):\n",
        "  for i in range(len(data)):\n",
        "    if data[i]==target:\n",
        "      return i\n",
        "  return -1\n",
        "\n",
        "data = eval(input(\"enter the values separated by space\"))\n",
        "target = int(input((\"enter the target value\")))\n",
        "\n",
        "index = linear_search(data,target)\n",
        "\n",
        "if index!=-1:\n",
        "  print(f\"Target {target} found at index {index}\")\n",
        "else:\n",
        "  print(f\"Target not found\")"
      ],
      "metadata": {
        "colab": {
          "base_uri": "https://localhost:8080/"
        },
        "id": "tL3Hk_jHBjZ1",
        "outputId": "00a8ad96-e68e-4a15-db33-be2a7b56bc3e"
      },
      "execution_count": null,
      "outputs": [
        {
          "output_type": "stream",
          "name": "stdout",
          "text": [
            "enter the values separated by space[1,2,3,4,5]\n",
            "enter the target value2\n",
            "Target 2 found at index 1\n"
          ]
        }
      ]
    },
    {
      "cell_type": "code",
      "execution_count": null,
      "metadata": {
        "colab": {
          "base_uri": "https://localhost:8080/"
        },
        "id": "zUq4xBFukMzo",
        "outputId": "847488d3-7ad7-46ad-aa7b-152bf2feca9b"
      },
      "outputs": [
        {
          "name": "stdout",
          "output_type": "stream",
          "text": [
            "[1,2,3,4,5]\n",
            "2\n",
            "Target 2 found at index 1\n"
          ]
        }
      ],
      "source": [
        "def linear_search(data,target):\n",
        "  for i in range(len(data)):\n",
        "    if data[i]==target:\n",
        "      return i\n",
        "  return -1\n",
        "\n",
        "data = eval(input())\n",
        "target = int(input())\n",
        "index = linear_search(data,target)\n",
        "\n",
        "if index != -1:\n",
        "  print(f\"Target {target} found at index {index}\")\n",
        "else:\n",
        "  print(\"no target found\")\n"
      ]
    },
    {
      "cell_type": "code",
      "execution_count": null,
      "metadata": {
        "colab": {
          "base_uri": "https://localhost:8080/"
        },
        "id": "uFlkLMU8-Vq5",
        "outputId": "31e16b3d-f625-4134-b445-bb97cb3e1eed"
      },
      "outputs": [
        {
          "name": "stdout",
          "output_type": "stream",
          "text": [
            "enter the elements[1,2,3,4,5]\n",
            "enter the elements2\n",
            "Target element 2 found at index 1\n"
          ]
        }
      ],
      "source": [
        "def recursion_linear_search(arr,target,start_idx=0):\n",
        "  if start_idx>len(arr):\n",
        "    return -1\n",
        "  if arr[start_idx] == target:\n",
        "    return start_idx\n",
        "  return recursion_linear_search(arr,target,start_idx+1)\n",
        "\n",
        "arr = eval(input(\"enter the elements\"))\n",
        "target = int(input(\"enter the elements\"))\n",
        "result = recursion_linear_search(arr,target)\n",
        "\n",
        "if result != -1:\n",
        "  print(f\"Target element {target} found at index {result}\")\n",
        "else:\n",
        "  print(\"not found\")"
      ]
    },
    {
      "cell_type": "code",
      "execution_count": null,
      "metadata": {
        "colab": {
          "base_uri": "https://localhost:8080/"
        },
        "id": "vZtwOQMxlOfx",
        "outputId": "7098efca-25bf-4f32-8429-d95f0d602993"
      },
      "outputs": [
        {
          "name": "stdout",
          "output_type": "stream",
          "text": [
            "[1,2,3,4,5]\n",
            "5\n",
            "target 5 found at index 4\n"
          ]
        }
      ],
      "source": [
        "def recursion(data,target,start_idx=0):\n",
        "  if start_idx>len(data):\n",
        "    return -1\n",
        "  if data[start_idx] == target:\n",
        "    return start_idx\n",
        "  return recursion(data,target,start_idx+1)\n",
        "\n",
        "data = eval(input())\n",
        "target = int(input())\n",
        "index = recursion(data,target)\n",
        "\n",
        "if index!=-1:\n",
        "  print(f\"target {target} found at index {index}\")\n",
        "else:\n",
        "  print(f\"target not found\")"
      ]
    },
    {
      "cell_type": "markdown",
      "metadata": {
        "id": "A3Wvz-_Fewq2"
      },
      "source": [
        "## **Binary search**"
      ]
    },
    {
      "cell_type": "code",
      "execution_count": null,
      "metadata": {
        "colab": {
          "base_uri": "https://localhost:8080/"
        },
        "id": "Ps9rj6n9dl9G",
        "outputId": "8116ef7d-11f1-44cf-e581-b79c179ee1fd"
      },
      "outputs": [
        {
          "name": "stdout",
          "output_type": "stream",
          "text": [
            "enter the values[1,2,3,4,5]\n",
            "enter the value5\n",
            "Target element 5 found at index no 4\n"
          ]
        }
      ],
      "source": [
        "def binary_search(data,target):\n",
        "  left = 0\n",
        "  right = len(data)-1\n",
        "  while left<=right:\n",
        "    mid = (left+right)//2\n",
        "    if data[mid]==target:\n",
        "      return mid\n",
        "    elif data[mid]<target:\n",
        "      left = mid + 1\n",
        "    else:\n",
        "      right = mid - 1\n",
        "  return -1\n",
        "\n",
        "data = eval(input(\"enter the values\"))\n",
        "target = int(input(\"enter the value\"))\n",
        "result = binary_search(data,target)\n",
        "\n",
        "if result!=-1:\n",
        "  print(f\"Target element {target} found at index no {result}\")\n",
        "else:\n",
        "  print(f\"Target value not found\")"
      ]
    },
    {
      "cell_type": "code",
      "source": [
        "def binary(data,target):\n",
        "  left =0\n",
        "  right=len(data)-1\n",
        "\n",
        "  while left<=right:\n",
        "    mid = (left+right)//2\n",
        "    if data[mid]==target:\n",
        "      return mid\n",
        "    elif data[mid]<target:\n",
        "      left = mid+1\n",
        "    else:\n",
        "      right = mid-1\n",
        "  return -1\n",
        "\n",
        "\n",
        "data = eval(input(\"enter the values\"))\n",
        "target = int(input(\"enter the value\"))\n",
        "result = binary(data,target)\n",
        "\n",
        "if result!=-1:\n",
        "  print(f\"target value {target} found at index {result}\")\n",
        "else:\n",
        "  print(f\"target value not found\")\n"
      ],
      "metadata": {
        "colab": {
          "base_uri": "https://localhost:8080/"
        },
        "id": "faccvNaUCqpz",
        "outputId": "fa169969-1e44-4306-988b-09e92a86455b"
      },
      "execution_count": null,
      "outputs": [
        {
          "output_type": "stream",
          "name": "stdout",
          "text": [
            "enter the values[1,2,3,4,5]\n",
            "enter the value2\n",
            "target value 2 found at index 1\n"
          ]
        }
      ]
    },
    {
      "cell_type": "markdown",
      "metadata": {
        "id": "upj61K9Kno_9"
      },
      "source": [
        "Leap year"
      ]
    },
    {
      "cell_type": "code",
      "execution_count": null,
      "metadata": {
        "colab": {
          "base_uri": "https://localhost:8080/"
        },
        "id": "28M4KSmtnqjV",
        "outputId": "b12c3510-90e6-4839-cf45-14f45872d5fe"
      },
      "outputs": [
        {
          "name": "stdout",
          "output_type": "stream",
          "text": [
            "2024\n",
            "The year 2024 is a leap year : True\n"
          ]
        }
      ],
      "source": [
        "def is_leap_year(year):\n",
        "  return (year%4==0 and year %100 !=0) or (year % 400 ==0)\n",
        "\n",
        "year_to_check = int(input())\n",
        "result= is_leap_year(year_to_check)\n",
        "print(f\"The year {year_to_check} is a leap year : {result}\")"
      ]
    },
    {
      "cell_type": "code",
      "source": [
        "def is_leap_year(year):\n",
        "  return (year%4==0 and year%100 !=0) or (year%400==0)\n",
        "\n",
        "year = int(input())\n",
        "is_leap_year(year)"
      ],
      "metadata": {
        "colab": {
          "base_uri": "https://localhost:8080/"
        },
        "id": "ue51amIeDwzo",
        "outputId": "57f18609-0dd0-4e05-fe7d-f821b3972538"
      },
      "execution_count": null,
      "outputs": [
        {
          "name": "stdout",
          "output_type": "stream",
          "text": [
            "2024\n"
          ]
        },
        {
          "output_type": "execute_result",
          "data": {
            "text/plain": [
              "True"
            ]
          },
          "metadata": {},
          "execution_count": 21
        }
      ]
    },
    {
      "cell_type": "markdown",
      "metadata": {
        "id": "jUwJbtzPp45F"
      },
      "source": [
        "# **Reverse a number**"
      ]
    },
    {
      "cell_type": "code",
      "execution_count": null,
      "metadata": {
        "colab": {
          "base_uri": "https://localhost:8080/"
        },
        "id": "WsvQ7DiWp4dr",
        "outputId": "871fe4ff-4318-4374-b38a-5ba146ff07c1"
      },
      "outputs": [
        {
          "name": "stdout",
          "output_type": "stream",
          "text": [
            "Original number: 7894\n",
            "Reverse: 4987\n"
          ]
        }
      ],
      "source": [
        "def reverse_number(number):\n",
        "  original_number = number\n",
        "  reverse = 0\n",
        "\n",
        "  for num in str(number):\n",
        "    digit = number%10\n",
        "    reverse = reverse*10 + digit\n",
        "    number//=10\n",
        "  print(f\"Original number: {original_number}\")\n",
        "  print(f\"Reverse: {reverse}\")\n",
        "\n",
        "reverse = 7894\n",
        "reverse_number(reverse)"
      ]
    },
    {
      "cell_type": "code",
      "source": [
        "def reverse_number(number):\n",
        "  original_number = number\n",
        "  reverse = 0\n",
        "\n",
        "  for num in str(number):\n",
        "    digit = number%10\n",
        "    reverse = reverse * 10 + digit\n",
        "    number //=10\n",
        "  print(f\"Original number\",original_number)\n",
        "  print(f\"reverse number\",reverse)\n",
        "\n",
        "reverse = 7891\n",
        "reverse_number(reverse)"
      ],
      "metadata": {
        "colab": {
          "base_uri": "https://localhost:8080/"
        },
        "id": "kq2J49jbLTBm",
        "outputId": "53f9920a-e283-4f7d-d31a-acd4f2387f2f"
      },
      "execution_count": null,
      "outputs": [
        {
          "output_type": "stream",
          "name": "stdout",
          "text": [
            "Original number 7891\n",
            "reverse number 1987\n"
          ]
        }
      ]
    },
    {
      "cell_type": "code",
      "source": [],
      "metadata": {
        "id": "w_fy_qPNLS-z"
      },
      "execution_count": null,
      "outputs": []
    },
    {
      "cell_type": "code",
      "execution_count": null,
      "metadata": {
        "colab": {
          "base_uri": "https://localhost:8080/"
        },
        "id": "YUkC0fQ6P5yr",
        "outputId": "8a2aea73-1e2d-49a8-ad7b-e35809c1de70"
      },
      "outputs": [
        {
          "name": "stdout",
          "output_type": "stream",
          "text": [
            "original 1234\n",
            "reverse is 4321\n"
          ]
        }
      ],
      "source": [
        "def rverse_number(number):\n",
        "  original_number = number\n",
        "  reverse = 0\n",
        "\n",
        "  for num in str(number):\n",
        "    digit = number%10\n",
        "    reverse = reverse*10 + digit\n",
        "    number//=10\n",
        "  print(f\"original {original_number}\")\n",
        "  print(f\"reverse is {reverse}\")\n",
        "\n",
        "reverse = 1234\n",
        "rverse_number(reverse)"
      ]
    },
    {
      "cell_type": "markdown",
      "metadata": {
        "id": "Y_cRRzpprr9Z"
      },
      "source": [
        "## **USING SLICING**"
      ]
    },
    {
      "cell_type": "code",
      "execution_count": null,
      "metadata": {
        "colab": {
          "base_uri": "https://localhost:8080/"
        },
        "id": "F5AHeVn3p4cm",
        "outputId": "52065b81-9b73-4c66-8219-a785b0bf1ddd"
      },
      "outputs": [
        {
          "data": {
            "text/plain": [
              "4321"
            ]
          },
          "execution_count": 35,
          "metadata": {},
          "output_type": "execute_result"
        }
      ],
      "source": [
        "def reverse_number(number):\n",
        "  num_list = list(str(number))\n",
        "  reversed_num = int(''.join(num_list[::-1]))\n",
        "  return reversed_num\n",
        "\n",
        "original_num = 1234\n",
        "reverse_number(original_num)"
      ]
    },
    {
      "cell_type": "code",
      "execution_count": null,
      "metadata": {
        "colab": {
          "base_uri": "https://localhost:8080/"
        },
        "id": "qCkOZr8YRa-7",
        "outputId": "dac37523-5bb7-438b-c953-272610ceb26d"
      },
      "outputs": [
        {
          "data": {
            "text/plain": [
              "4321"
            ]
          },
          "execution_count": 21,
          "metadata": {},
          "output_type": "execute_result"
        }
      ],
      "source": [
        "def reverse_number(number):\n",
        "  num_list = list(str(number))\n",
        "  rev_num = int(''.join(num_list[::-1]))\n",
        "  return rev_num\n",
        "\n",
        "original_number = 1234\n",
        "reverse_number(original_number)"
      ]
    },
    {
      "cell_type": "code",
      "execution_count": null,
      "metadata": {
        "colab": {
          "base_uri": "https://localhost:8080/"
        },
        "id": "Gk1SyBISR-Na",
        "outputId": "4baa8e59-20c3-4f42-a367-f0eb7b22f2f1"
      },
      "outputs": [
        {
          "data": {
            "text/plain": [
              "4321"
            ]
          },
          "execution_count": 24,
          "metadata": {},
          "output_type": "execute_result"
        }
      ],
      "source": [
        "num = 1234\n",
        "num_list = list(str(num))\n",
        "rev_num = int(''.join(num_list[::-1]))\n",
        "rev_num"
      ]
    },
    {
      "cell_type": "markdown",
      "metadata": {
        "id": "iEIB0u9ktWLE"
      },
      "source": [
        "## **GCD**"
      ]
    },
    {
      "cell_type": "code",
      "execution_count": null,
      "metadata": {
        "id": "rbctRkGUtXJ8"
      },
      "outputs": [],
      "source": [
        "def computeGcd(x,y):\n",
        "  if x>y:\n",
        "    small = y\n",
        "  else:\n",
        "    small = x\n",
        "  for i in range(1,small+1):\n",
        "    if ((x%i==0)and(y%i==0)):\n",
        "      gcd= i\n",
        "  return gcd\n"
      ]
    },
    {
      "cell_type": "code",
      "execution_count": null,
      "metadata": {
        "colab": {
          "base_uri": "https://localhost:8080/"
        },
        "id": "Rp_TSvYit0qV",
        "outputId": "93525074-48a1-4e49-880b-20bb32924ff3"
      },
      "outputs": [
        {
          "data": {
            "text/plain": [
              "12"
            ]
          },
          "execution_count": 37,
          "metadata": {},
          "output_type": "execute_result"
        }
      ],
      "source": [
        "x=60\n",
        "y=48\n",
        "computeGcd(x,y)"
      ]
    },
    {
      "cell_type": "code",
      "execution_count": null,
      "metadata": {
        "id": "5YIGfEjit7LB"
      },
      "outputs": [],
      "source": [
        "def hcfnaive(a,b):\n",
        "  if (b==0):\n",
        "    return abs(a)\n",
        "  else:\n",
        "    return hcfnaive(b,a%b)"
      ]
    },
    {
      "cell_type": "code",
      "execution_count": null,
      "metadata": {
        "colab": {
          "base_uri": "https://localhost:8080/"
        },
        "id": "uK2Z4zn7uMS2",
        "outputId": "d4ab23e1-030f-4ed2-b797-840a24e138c9"
      },
      "outputs": [
        {
          "data": {
            "text/plain": [
              "60"
            ]
          },
          "execution_count": 39,
          "metadata": {},
          "output_type": "execute_result"
        }
      ],
      "source": [
        "hcfnaive(60,120)"
      ]
    },
    {
      "cell_type": "markdown",
      "metadata": {
        "id": "oNQf1o3p3CSv"
      },
      "source": [
        "## **NON REPEATING CHARCTERS**"
      ]
    },
    {
      "cell_type": "code",
      "execution_count": null,
      "metadata": {
        "colab": {
          "base_uri": "https://localhost:8080/"
        },
        "id": "zdCVjtUSuPU7",
        "outputId": "31be2535-1951-4083-d2c6-240c20c6416b"
      },
      "outputs": [
        {
          "name": "stdout",
          "output_type": "stream",
          "text": [
            "enter the strigprogramming\n",
            "Non repeating characters poain\n"
          ]
        }
      ],
      "source": [
        "string = input(\"enter the strig\")\n",
        "char_count = {}\n",
        "\n",
        "for char in string:\n",
        "  if char in char_count:\n",
        "    char_count[char]+=1\n",
        "  else:\n",
        "    char_count[char]=1\n",
        "\n",
        "non_repeating = \"\"\n",
        "for char in string:\n",
        "  if char_count[char]==1:\n",
        "    non_repeating+=char\n",
        "print(\"Non repeating characters\",non_repeating)"
      ]
    },
    {
      "cell_type": "markdown",
      "metadata": {
        "id": "4x6UFhd33Brw"
      },
      "source": [
        "# **HARMONIC SUM**"
      ]
    },
    {
      "cell_type": "code",
      "execution_count": null,
      "metadata": {
        "id": "AWNzl1MU3LS3"
      },
      "outputs": [],
      "source": [
        "def harmonic_sum(n):\n",
        "  if n<2:\n",
        "    return 1\n",
        "  else:\n",
        "    return 1 / n + harmonic_sum(n-1)"
      ]
    },
    {
      "cell_type": "code",
      "execution_count": null,
      "metadata": {
        "colab": {
          "base_uri": "https://localhost:8080/"
        },
        "id": "iny9tiCJ3Xc-",
        "outputId": "3daee308-2159-436c-af1c-269f11bd718b"
      },
      "outputs": [
        {
          "data": {
            "text/plain": [
              "2.5928571428571425"
            ]
          },
          "execution_count": 3,
          "metadata": {},
          "output_type": "execute_result"
        }
      ],
      "source": [
        "harmonic_sum(7)"
      ]
    },
    {
      "cell_type": "code",
      "execution_count": null,
      "metadata": {
        "colab": {
          "base_uri": "https://localhost:8080/",
          "height": 228
        },
        "id": "E3oqEWho3Zq-",
        "outputId": "73b9490b-aa77-49ec-e189-978a5ca697c2"
      },
      "outputs": [
        {
          "name": "stdout",
          "output_type": "stream",
          "text": [
            "[0, 12, 45, 3, 4923, 322, 105, 29, 15, 39, 55]\n",
            "100\n"
          ]
        },
        {
          "ename": "AttributeError",
          "evalue": "'str' object has no attribute 'append'",
          "output_type": "error",
          "traceback": [
            "\u001b[0;31m---------------------------------------------------------------------------\u001b[0m",
            "\u001b[0;31mAttributeError\u001b[0m                            Traceback (most recent call last)",
            "\u001b[0;32m<ipython-input-6-2a310413dd4d>\u001b[0m in \u001b[0;36m<cell line: 4>\u001b[0;34m()\u001b[0m\n\u001b[1;32m      4\u001b[0m \u001b[0;32mfor\u001b[0m \u001b[0mi\u001b[0m \u001b[0;32min\u001b[0m \u001b[0mrange\u001b[0m\u001b[0;34m(\u001b[0m\u001b[0mlen\u001b[0m\u001b[0;34m(\u001b[0m\u001b[0mnum\u001b[0m\u001b[0;34m)\u001b[0m\u001b[0;34m)\u001b[0m\u001b[0;34m:\u001b[0m\u001b[0;34m\u001b[0m\u001b[0;34m\u001b[0m\u001b[0m\n\u001b[1;32m      5\u001b[0m   \u001b[0;32mif\u001b[0m \u001b[0mnum\u001b[0m\u001b[0;34m[\u001b[0m\u001b[0mi\u001b[0m\u001b[0;34m]\u001b[0m\u001b[0;34m<=\u001b[0m\u001b[0mtar\u001b[0m\u001b[0;34m:\u001b[0m\u001b[0;34m\u001b[0m\u001b[0;34m\u001b[0m\u001b[0m\n\u001b[0;32m----> 6\u001b[0;31m     \u001b[0mnew\u001b[0m\u001b[0;34m.\u001b[0m\u001b[0mappend\u001b[0m\u001b[0;34m(\u001b[0m\u001b[0mi\u001b[0m\u001b[0;34m)\u001b[0m\u001b[0;34m\u001b[0m\u001b[0;34m\u001b[0m\u001b[0m\n\u001b[0m\u001b[1;32m      7\u001b[0m     \u001b[0mprint\u001b[0m\u001b[0;34m(\u001b[0m\u001b[0mi\u001b[0m\u001b[0;34m)\u001b[0m\u001b[0;34m\u001b[0m\u001b[0;34m\u001b[0m\u001b[0m\n",
            "\u001b[0;31mAttributeError\u001b[0m: 'str' object has no attribute 'append'"
          ]
        }
      ],
      "source": [
        "num = eval(input())\n",
        "tar=int(input())\n",
        "new=''\n",
        "for i in range(len(num)):\n",
        "  if num[i]<=tar:\n",
        "    new.append(i)\n",
        "    print(new)"
      ]
    },
    {
      "cell_type": "markdown",
      "metadata": {
        "id": "29xnmPSytu6_"
      },
      "source": [
        "Write a Python program to get the smallest number from a list."
      ]
    },
    {
      "cell_type": "code",
      "execution_count": null,
      "metadata": {
        "colab": {
          "base_uri": "https://localhost:8080/"
        },
        "id": "Wke60k9zttCh",
        "outputId": "3c63cb58-55fe-4448-da6d-25fbbd9c3f58"
      },
      "outputs": [
        {
          "name": "stdout",
          "output_type": "stream",
          "text": [
            "[1,2,0,-8]\n",
            "-8\n"
          ]
        }
      ],
      "source": [
        "lst = eval(input())\n",
        "print(min(lst))"
      ]
    },
    {
      "cell_type": "code",
      "execution_count": null,
      "metadata": {
        "colab": {
          "base_uri": "https://localhost:8080/"
        },
        "id": "MuY7m5uItzlA",
        "outputId": "d77db060-df21-4c9c-f536-5969b2b660f0"
      },
      "outputs": [
        {
          "name": "stdout",
          "output_type": "stream",
          "text": [
            "['Red', 'Green', 'White', 'Black', 'Pink', 'Yellow']\n",
            "['Green', 'White', 'Black']\n"
          ]
        }
      ],
      "source": [
        "#Write a Python program to print a specified list after removing the 0th, 4th and 5th elements\n",
        "\n",
        "lst = eval(input())\n",
        "new_list = lst[1:4]\n",
        "print(new_list)"
      ]
    },
    {
      "cell_type": "code",
      "execution_count": null,
      "metadata": {
        "colab": {
          "base_uri": "https://localhost:8080/"
        },
        "id": "xO-bh7W9uJ3E",
        "outputId": "51530057-9358-4ee2-aa9e-bc8cc10f2c6d"
      },
      "outputs": [
        {
          "name": "stdout",
          "output_type": "stream",
          "text": [
            "['Red', 'Green', 'White', 'Black', 'Pink', 'Yellow']\n",
            "['Green', 'White', 'Black']\n"
          ]
        }
      ],
      "source": [
        "lst = eval(input())\n",
        "lst = [x for (i,x) in enumerate(lst) if i  not in (0,4,5)]\n",
        "print(lst)"
      ]
    },
    {
      "cell_type": "markdown",
      "metadata": {
        "id": "tmDKES7svBGG"
      },
      "source": [
        "Write a Python program to append a list to the second list."
      ]
    },
    {
      "cell_type": "code",
      "execution_count": null,
      "metadata": {
        "colab": {
          "base_uri": "https://localhost:8080/"
        },
        "id": "j1QThTTCu8xy",
        "outputId": "5667f040-c1b8-47e2-e95d-157e68133190"
      },
      "outputs": [
        {
          "name": "stdout",
          "output_type": "stream",
          "text": [
            "[1, 2, 3, 0]\n",
            "['Red', 'Green', 'Black']\n",
            "[1, 2, 3, 0, 'Red', 'Green', 'Black']\n"
          ]
        }
      ],
      "source": [
        "lst1 = eval(input())\n",
        "lst2 = eval(input())\n",
        "lst3 = lst1+lst2\n",
        "print(lst3)"
      ]
    },
    {
      "cell_type": "markdown",
      "metadata": {
        "id": "rxTJ05zhvSkv"
      },
      "source": [
        "Write a Python program to test whether all numbers of a list is greater than a certain number."
      ]
    },
    {
      "cell_type": "code",
      "execution_count": null,
      "metadata": {
        "colab": {
          "base_uri": "https://localhost:8080/"
        },
        "id": "wQZcVtDNvKXP",
        "outputId": "f30274e1-1cb0-4d6e-af81-773450de9252"
      },
      "outputs": [
        {
          "name": "stdout",
          "output_type": "stream",
          "text": [
            "[2, 3, 4, 5]\n",
            "1\n",
            "[2, 3, 4, 5]\n"
          ]
        }
      ],
      "source": [
        "lst = eval(input())\n",
        "target = int(input())\n",
        "new_lst = []\n",
        "\n",
        "for num in lst:\n",
        "  if num>target:\n",
        "    new_lst.append(num)\n",
        "print(new_lst)\n"
      ]
    },
    {
      "cell_type": "code",
      "execution_count": null,
      "metadata": {
        "colab": {
          "base_uri": "https://localhost:8080/"
        },
        "id": "XFmWib7Avl7Y",
        "outputId": "be3973c8-6631-476c-b583-f5d6ea05f1fc"
      },
      "outputs": [
        {
          "name": "stdout",
          "output_type": "stream",
          "text": [
            "[2, 3, 4, 5]\n",
            "1\n",
            "True\n"
          ]
        }
      ],
      "source": [
        "lst = eval(input())\n",
        "target = int(input())\n",
        "print(all(num>target for num in lst))"
      ]
    },
    {
      "cell_type": "markdown",
      "metadata": {
        "id": "fwQKHLDbxxG_"
      },
      "source": [
        "Type of triangle"
      ]
    },
    {
      "cell_type": "code",
      "execution_count": null,
      "metadata": {
        "colab": {
          "base_uri": "https://localhost:8080/"
        },
        "id": "kxCLoX2-xrmp",
        "outputId": "8ac80287-d7c8-4e2a-c50d-ac09fadca6de"
      },
      "outputs": [
        {
          "name": "stdout",
          "output_type": "stream",
          "text": [
            "5\n",
            "5\n",
            "4\n",
            "Isoceles triangle\n"
          ]
        }
      ],
      "source": [
        "side_a = int(input())\n",
        "side_b = int(input())\n",
        "side_c = int(input())\n",
        "\n",
        "if side_a == side_b == side_c:\n",
        "  print(\"equilateral triangle\")\n",
        "elif side_a == side_b or side_b == side_c or side_c == side_a:\n",
        "  print(\"Isoceles triangle\")\n",
        "else:\n",
        "  print(\"Scalene triangle\")"
      ]
    },
    {
      "cell_type": "markdown",
      "metadata": {
        "id": "uauslIFwyWog"
      },
      "source": [
        "Write a Python program to convert month name to a number of days. Print 'Wrong month name' for incorrect input. Note: February has 28/29 days."
      ]
    },
    {
      "cell_type": "code",
      "execution_count": null,
      "metadata": {
        "colab": {
          "base_uri": "https://localhost:8080/"
        },
        "id": "E9LTjQZaxrli",
        "outputId": "5cf2cf6e-dd9f-4bdb-e96f-b763729d3e07"
      },
      "outputs": [
        {
          "name": "stdout",
          "output_type": "stream",
          "text": [
            "sunday\n",
            "Invalid month\n"
          ]
        }
      ],
      "source": [
        "month_name = input()\n",
        "\n",
        "if month_name in ('january','march','may','july','august','october','december'):\n",
        "  print(\"31 days\")\n",
        "elif month_name in ('april','june','september','november'):\n",
        "  print(\"30 days\")\n",
        "elif month_name in ('februrary'):\n",
        "  print(\"28/29 days\")\n",
        "else:\n",
        "  print(\"Invalid month\")\n"
      ]
    },
    {
      "cell_type": "markdown",
      "metadata": {
        "id": "jmO8T-k8zvsi"
      },
      "source": [
        "Write a Python program to add two objects if both objects are an integer type."
      ]
    },
    {
      "cell_type": "code",
      "execution_count": null,
      "metadata": {
        "colab": {
          "base_uri": "https://localhost:8080/"
        },
        "id": "7dS_N9e3znUY",
        "outputId": "f960de59-85ad-497c-c013-c69c9ae450be"
      },
      "outputs": [
        {
          "name": "stdout",
          "output_type": "stream",
          "text": [
            "10\n",
            "12.5\n",
            "Input must be integers\n"
          ]
        }
      ],
      "source": [
        "a = input()\n",
        "b = input()\n",
        "\n",
        "if type(a) and type(b) == int:\n",
        "  c= a + b\n",
        "  print(c)\n",
        "else:\n",
        "  print(\"Input must be integers\")"
      ]
    },
    {
      "cell_type": "code",
      "execution_count": null,
      "metadata": {
        "colab": {
          "base_uri": "https://localhost:8080/"
        },
        "id": "dUq6Z8TLz8ss",
        "outputId": "c726ff95-5bec-4595-8713-434dab151b12"
      },
      "outputs": [
        {
          "name": "stdout",
          "output_type": "stream",
          "text": [
            "10\n",
            "12.5\n",
            "Inputs must be integers!\n"
          ]
        }
      ],
      "source": [
        "# your code goes here\n",
        "def add_numbers(a, b):\n",
        "   if not (isinstance(a, int) and isinstance(b, int)):\n",
        "       return \"Inputs must be integers!\"\n",
        "   return a + b\n",
        "\n",
        "n1 = eval(input())\n",
        "n2 = eval(input())\n",
        "print(add_numbers(n1, n2))"
      ]
    },
    {
      "cell_type": "markdown",
      "metadata": {
        "id": "glBzMUi00yLz"
      },
      "source": [
        "Write a Python program to calculate the length of a string."
      ]
    },
    {
      "cell_type": "code",
      "execution_count": null,
      "metadata": {
        "colab": {
          "base_uri": "https://localhost:8080/"
        },
        "id": "X9IaN9AY0zFz",
        "outputId": "ff79559e-8d76-418e-b8fd-e83228d91165"
      },
      "outputs": [
        {
          "name": "stdout",
          "output_type": "stream",
          "text": [
            "datascience\n",
            "11\n"
          ]
        }
      ],
      "source": [
        "string = input()\n",
        "print(len(string))"
      ]
    },
    {
      "cell_type": "code",
      "execution_count": null,
      "metadata": {
        "colab": {
          "base_uri": "https://localhost:8080/"
        },
        "id": "0_6_tOCV026L",
        "outputId": "025a9527-bb7a-4dce-c869-b1d7fd555cf1"
      },
      "outputs": [
        {
          "name": "stdout",
          "output_type": "stream",
          "text": [
            "2\n",
            "[2, 4, 6, 8, 10]\n"
          ]
        }
      ],
      "source": [
        "def n_number(lst,n):\n",
        "  return lst[n-1::n]\n",
        "\n",
        "lst = [1, 2, 3, 4, 5, 6, 7, 8, 9, 10]\n",
        "n = int(input())\n",
        "\n",
        "print(n_number(lst,n))"
      ]
    },
    {
      "cell_type": "markdown",
      "metadata": {
        "id": "S4exEBxj1hSx"
      },
      "source": [
        "Write a Python program to check whether an alphabet is a vowel or consonant."
      ]
    },
    {
      "cell_type": "code",
      "execution_count": null,
      "metadata": {
        "colab": {
          "base_uri": "https://localhost:8080/"
        },
        "id": "2YeZCNXc1hsp",
        "outputId": "518050d3-2df8-4ef6-cac3-a4e3e1bae254"
      },
      "outputs": [
        {
          "name": "stdout",
          "output_type": "stream",
          "text": [
            "a\n",
            "Vowel\n"
          ]
        }
      ],
      "source": [
        "word = input()\n",
        "\n",
        "for word in word:\n",
        "  if word in 'aeiouAEIOU':\n",
        "    print(\"Vowel\")\n",
        "  else:\n",
        "    print(\"Consonant\")"
      ]
    },
    {
      "cell_type": "markdown",
      "metadata": {
        "id": "XDndgPOW11Br"
      },
      "source": [
        "Write a Python program to calculate a dog's age in dog's years. Note: For the first two years, a dog year is equal to 10.5 human years. After that, each dog year equals 4 human years."
      ]
    },
    {
      "cell_type": "code",
      "execution_count": null,
      "metadata": {
        "colab": {
          "base_uri": "https://localhost:8080/"
        },
        "id": "JubxhcUc11hz",
        "outputId": "f8a1b6d8-c64c-46f4-e563-a11fb2b4d306"
      },
      "outputs": [
        {
          "name": "stdout",
          "output_type": "stream",
          "text": [
            "12\n",
            "61\n"
          ]
        }
      ],
      "source": [
        "age = int(input())\n",
        "\n",
        "if age<= 2:\n",
        "  dog_age = age*10.5\n",
        "elif age>2:\n",
        "  dog_age = ((age-2)*4 +21)\n",
        "print(dog_age)"
      ]
    },
    {
      "cell_type": "markdown",
      "metadata": {
        "id": "AnoFC7_94cAy"
      },
      "source": [
        "Write a Python program to find the biggest even number between two numbers inclusive."
      ]
    },
    {
      "cell_type": "code",
      "execution_count": null,
      "metadata": {
        "colab": {
          "base_uri": "https://localhost:8080/"
        },
        "id": "SuAe06Av2hFu",
        "outputId": "cdc17d2f-2fbb-4af9-ea98-fd65fc992d0d"
      },
      "outputs": [
        {
          "name": "stdout",
          "output_type": "stream",
          "text": [
            "12\n",
            "51\n",
            "50\n"
          ]
        }
      ],
      "source": [
        "m = int(input())\n",
        "n = int(input())\n",
        "\n",
        "if m > n or (m==n and m %2==1):\n",
        "  print(\"-1\")\n",
        "elif n %2 == 0:\n",
        "  print(n)\n",
        "else:\n",
        "  print(n-1)"
      ]
    },
    {
      "cell_type": "markdown",
      "metadata": {
        "id": "p9GhrTdr4fyk"
      },
      "source": [
        "Write a Python program to remove None value from a given list. (Using list comprehension)"
      ]
    },
    {
      "cell_type": "code",
      "execution_count": null,
      "metadata": {
        "colab": {
          "base_uri": "https://localhost:8080/"
        },
        "id": "XAtKhpMb3jck",
        "outputId": "a03c3bbb-6c65-47c2-9761-e68b9dcbd2d2"
      },
      "outputs": [
        {
          "name": "stdout",
          "output_type": "stream",
          "text": [
            "[12, 0, None, 23, None, -55, 234, 89, None, 0, 6, -12]\n",
            "[12, 0, 23, -55, 234, 89, 0, 6, -12]\n"
          ]
        }
      ],
      "source": [
        "number = eval(input())\n",
        "number = [x for x in number if x is not None]\n",
        "print(number)"
      ]
    },
    {
      "cell_type": "markdown",
      "metadata": {
        "id": "PcfRvVz-6W4V"
      },
      "source": [
        "Write a Python program to find the indexes of all None items in a given list."
      ]
    },
    {
      "cell_type": "code",
      "execution_count": null,
      "metadata": {
        "colab": {
          "base_uri": "https://localhost:8080/"
        },
        "id": "px3WVSML4qKJ",
        "outputId": "edb344e9-6558-483b-8d53-f033a04f293b"
      },
      "outputs": [
        {
          "name": "stdout",
          "output_type": "stream",
          "text": [
            "[1, None, 5, 4,None, 0, None, None]\n",
            "[1, 4, 6, 7]\n"
          ]
        }
      ],
      "source": [
        "number = eval(input())\n",
        "result = [i for i in range(len(number)) if number[i] == None]\n",
        "print(result)"
      ]
    },
    {
      "cell_type": "code",
      "execution_count": null,
      "metadata": {
        "colab": {
          "base_uri": "https://localhost:8080/"
        },
        "id": "p9LKOxFb5iTQ",
        "outputId": "aab807d9-4b70-4329-e905-96206f20929e"
      },
      "outputs": [
        {
          "name": "stdout",
          "output_type": "stream",
          "text": [
            "[1, None, 5, 4,None, 0, None, None]\n",
            "1\n",
            "4\n",
            "6\n",
            "7\n"
          ]
        }
      ],
      "source": [
        "num = eval(input())\n",
        "\n",
        "for i  in range(len(num)):\n",
        "  if num[i]==None:\n",
        "    print(i)"
      ]
    },
    {
      "cell_type": "markdown",
      "metadata": {
        "id": "DLYH9I_Q6grp"
      },
      "source": [
        "Write a Python program to remove specific words from a given list. (Using List comprehension)"
      ]
    },
    {
      "cell_type": "code",
      "execution_count": null,
      "metadata": {
        "colab": {
          "base_uri": "https://localhost:8080/"
        },
        "id": "itcLhjTg6hPJ",
        "outputId": "c7dbc5f2-7d7d-42e3-a225-694b05917ca5"
      },
      "outputs": [
        {
          "name": "stdout",
          "output_type": "stream",
          "text": [
            "['red', 'green', 'blue', 'white', 'black', 'orange']\n",
            "['white', 'orange']\n",
            "red\n",
            "green\n",
            "blue\n",
            "black\n"
          ]
        }
      ],
      "source": [
        "obj = eval(input())\n",
        "removal = eval(input())\n",
        "\n",
        "for ob in obj:\n",
        "  if ob not in removal:\n",
        "    print(ob)"
      ]
    },
    {
      "cell_type": "code",
      "execution_count": null,
      "metadata": {
        "colab": {
          "base_uri": "https://localhost:8080/"
        },
        "id": "wuCY9IkT64gf",
        "outputId": "0f720027-3afd-4f0c-e332-5bff1bf3a190"
      },
      "outputs": [
        {
          "name": "stdout",
          "output_type": "stream",
          "text": [
            "['red', 'green', 'blue', 'white', 'black', 'orange']\n",
            "['white', 'orange']\n",
            "['red', 'green', 'blue', 'black']\n"
          ]
        }
      ],
      "source": [
        "obj = eval(input())\n",
        "removal = eval(input())\n",
        "removed_lst = [word for word in obj if word not in removal]\n",
        "print(removed_lst)"
      ]
    },
    {
      "cell_type": "markdown",
      "metadata": {
        "id": "QNBsHOnw8sv-"
      },
      "source": [
        "Write a Python program to create a list taking alternate elements from a given list. (Using list comprehension)"
      ]
    },
    {
      "cell_type": "code",
      "execution_count": null,
      "metadata": {
        "colab": {
          "base_uri": "https://localhost:8080/"
        },
        "id": "qas7POjk7b5N",
        "outputId": "41c22e78-2559-4f39-adb5-b61962fdc832"
      },
      "outputs": [
        {
          "name": "stdout",
          "output_type": "stream",
          "text": [
            "[\"red\", \"black\", \"white\", \"green\", \"orange\"]\n",
            "['red', 'white', 'orange']\n"
          ]
        }
      ],
      "source": [
        "lst = eval(input())\n",
        "new_lst = lst[0::2]\n",
        "print(new_lst)"
      ]
    },
    {
      "cell_type": "code",
      "execution_count": null,
      "metadata": {
        "colab": {
          "base_uri": "https://localhost:8080/"
        },
        "id": "JGlWG7GN8QJT",
        "outputId": "7de2738a-0644-45dd-b1ac-068ea68f53d9"
      },
      "outputs": [
        {
          "name": "stdout",
          "output_type": "stream",
          "text": [
            "[\"red\", \"black\", \"white\", \"green\", \"orange\"]\n",
            "['red', 'white', 'orange']\n"
          ]
        }
      ],
      "source": [
        "lst = eval(input())\n",
        "new_lst = [item for item in lst[0::2]]\n",
        "print(new_lst)"
      ]
    },
    {
      "cell_type": "markdown",
      "metadata": {
        "id": "lyfRzAW_HdE3"
      },
      "source": [
        "Write a Python program to remove all elements from a given list present in another list. (Using list comprehension)"
      ]
    },
    {
      "cell_type": "code",
      "execution_count": null,
      "metadata": {
        "colab": {
          "base_uri": "https://localhost:8080/"
        },
        "id": "h_g51d3Z8YjO",
        "outputId": "9ba0579e-c6bf-4bc9-d1c5-faed1907b91f"
      },
      "outputs": [
        {
          "name": "stdout",
          "output_type": "stream",
          "text": [
            "[1,2,3,4,5,6,7,8,9,10]\n",
            "[2,4,6,8]\n"
          ]
        },
        {
          "data": {
            "text/plain": [
              "[1, 3, 5, 7, 9, 10]"
            ]
          },
          "execution_count": 60,
          "metadata": {},
          "output_type": "execute_result"
        }
      ],
      "source": [
        "lst1 = eval(input())\n",
        "lst2 = eval(input())\n",
        "\n",
        "result = [num for num in lst1 if num not in lst2]\n",
        "result"
      ]
    },
    {
      "cell_type": "markdown",
      "metadata": {
        "id": "jYlpCZvdHzo5"
      },
      "source": [
        "Write a Python program to calculate the length of a string."
      ]
    },
    {
      "cell_type": "code",
      "execution_count": null,
      "metadata": {
        "colab": {
          "base_uri": "https://localhost:8080/"
        },
        "id": "wGEKIx7hH0Ao",
        "outputId": "17505046-f278-4cac-bb2b-2132bcf4e4e6"
      },
      "outputs": [
        {
          "name": "stdout",
          "output_type": "stream",
          "text": [
            "data science\n",
            "12\n"
          ]
        }
      ],
      "source": [
        "string = input()\n",
        "print(len(string))"
      ]
    },
    {
      "cell_type": "markdown",
      "metadata": {
        "id": "RL9i0r7iICBg"
      },
      "source": [
        "Write a Python function that takes a list of words and return the longest word and the length of the longest one."
      ]
    },
    {
      "cell_type": "markdown",
      "metadata": {
        "id": "PYD76PY3ICAZ"
      },
      "source": []
    },
    {
      "cell_type": "code",
      "execution_count": null,
      "metadata": {
        "colab": {
          "base_uri": "https://localhost:8080/",
          "height": 211
        },
        "id": "LrhMB5YmH3sh",
        "outputId": "686fcffb-d276-405d-aa99-c57f4cab2f55"
      },
      "outputs": [
        {
          "name": "stdout",
          "output_type": "stream",
          "text": [
            "king queen knight\n"
          ]
        },
        {
          "ename": "ValueError",
          "evalue": "empty separator",
          "output_type": "error",
          "traceback": [
            "\u001b[0;31m---------------------------------------------------------------------------\u001b[0m",
            "\u001b[0;31mValueError\u001b[0m                                Traceback (most recent call last)",
            "\u001b[0;32m<ipython-input-64-9842ce4aefa4>\u001b[0m in \u001b[0;36m<cell line: 8>\u001b[0;34m()\u001b[0m\n\u001b[1;32m      6\u001b[0m   \u001b[0;32mreturn\u001b[0m \u001b[0mword_len\u001b[0m\u001b[0;34m[\u001b[0m\u001b[0;34m-\u001b[0m\u001b[0;36m1\u001b[0m\u001b[0;34m]\u001b[0m\u001b[0;34m[\u001b[0m\u001b[0;36m0\u001b[0m\u001b[0;34m]\u001b[0m\u001b[0;34m,\u001b[0m\u001b[0mword_len\u001b[0m\u001b[0;34m[\u001b[0m\u001b[0;34m-\u001b[0m\u001b[0;36m1\u001b[0m\u001b[0;34m]\u001b[0m\u001b[0;34m[\u001b[0m\u001b[0;36m1\u001b[0m\u001b[0;34m]\u001b[0m\u001b[0;34m\u001b[0m\u001b[0;34m\u001b[0m\u001b[0m\n\u001b[1;32m      7\u001b[0m \u001b[0;34m\u001b[0m\u001b[0m\n\u001b[0;32m----> 8\u001b[0;31m \u001b[0mlst\u001b[0m \u001b[0;34m=\u001b[0m \u001b[0mlist\u001b[0m\u001b[0;34m(\u001b[0m\u001b[0minput\u001b[0m\u001b[0;34m(\u001b[0m\u001b[0;34m)\u001b[0m\u001b[0;34m.\u001b[0m\u001b[0msplit\u001b[0m\u001b[0;34m(\u001b[0m\u001b[0;34m''\u001b[0m\u001b[0;34m)\u001b[0m\u001b[0;34m)\u001b[0m\u001b[0;34m\u001b[0m\u001b[0;34m\u001b[0m\u001b[0m\n\u001b[0m\u001b[1;32m      9\u001b[0m \u001b[0mprint\u001b[0m\u001b[0;34m(\u001b[0m\u001b[0mlongest_word\u001b[0m\u001b[0;34m(\u001b[0m\u001b[0mlst\u001b[0m\u001b[0;34m)\u001b[0m\u001b[0;34m)\u001b[0m\u001b[0;34m\u001b[0m\u001b[0;34m\u001b[0m\u001b[0m\n",
            "\u001b[0;31mValueError\u001b[0m: empty separator"
          ]
        }
      ],
      "source": [
        "def longest_word(lst):\n",
        "  word_len = []\n",
        "  for n in lst:\n",
        "    word_len.append((len(n),n))\n",
        "    word_len.sort()\n",
        "  return word_len[-1][0],word_len[-1][1]\n",
        "\n",
        "lst = list(input().split(''))\n",
        "print(longest_word(lst))"
      ]
    },
    {
      "cell_type": "code",
      "execution_count": null,
      "metadata": {
        "id": "NoAlcPmKIwDL"
      },
      "outputs": [],
      "source": [
        "#Write a Python program to remove the nth index character from a nonempty string."
      ]
    },
    {
      "cell_type": "code",
      "execution_count": null,
      "metadata": {
        "colab": {
          "base_uri": "https://localhost:8080/"
        },
        "id": "6MnrvC-dJ-Xx",
        "outputId": "29574b57-95de-49b6-eb34-66d468d0d614"
      },
      "outputs": [
        {
          "name": "stdout",
          "output_type": "stream",
          "text": [
            "python\n",
            "0\n",
            "ython\n"
          ]
        }
      ],
      "source": [
        "def char_removal(strn,n):\n",
        "  part_1 = strn[:n]\n",
        "  part_2 = strn[n+1::]\n",
        "  return part_1 + part_2\n",
        "\n",
        "strn =input()\n",
        "n=int(input())\n",
        "print(char_removal(strn,n))\n"
      ]
    },
    {
      "cell_type": "markdown",
      "metadata": {
        "id": "tzqouDamLPcp"
      },
      "source": [
        "Write a Python program to change a given string to a new string where the first and last chars have been exchanged."
      ]
    },
    {
      "cell_type": "code",
      "execution_count": null,
      "metadata": {
        "colab": {
          "base_uri": "https://localhost:8080/"
        },
        "id": "GpZTXcaRKzVG",
        "outputId": "22872901-c1f5-4f8e-a9d0-637e5ed8d585"
      },
      "outputs": [
        {
          "name": "stdout",
          "output_type": "stream",
          "text": [
            "python\n",
            "nythop\n"
          ]
        }
      ],
      "source": [
        "strn = input()\n",
        "result = strn[-1:] + strn[1:-1] + strn[:1]\n",
        "print(result)"
      ]
    },
    {
      "cell_type": "markdown",
      "metadata": {
        "id": "NClkpVQ2MPOh"
      },
      "source": [
        "Write a Python program to add 'ing' at the end of a given string (length should be at least 3). If the given string already ends with 'ing' then add 'ly' instead. If the string length of the given string is less than 3, leave it unchanged."
      ]
    },
    {
      "cell_type": "code",
      "execution_count": null,
      "metadata": {
        "colab": {
          "base_uri": "https://localhost:8080/"
        },
        "id": "s9j7WDzPLeaw",
        "outputId": "65a7a493-4564-4233-9cd5-1c5e72b81873"
      },
      "outputs": [
        {
          "name": "stdout",
          "output_type": "stream",
          "text": [
            "lying\n",
            "lyingly\n"
          ]
        }
      ],
      "source": [
        "def add_string(str1):\n",
        "  length = len(str1)\n",
        "  if length > 2:\n",
        "    if str1[-3:] == 'ing':\n",
        "      str1 += 'ly'\n",
        "    else: str1 += 'ing'\n",
        "\n",
        "  return str1\n",
        "\n",
        "str1 = input()\n",
        "print(add_string(str1))"
      ]
    },
    {
      "cell_type": "markdown",
      "metadata": {
        "id": "7EowkYzpM0Fs"
      },
      "source": [
        "Write a Python program to count the number of characters (character frequency) in a string.\n",
        "\n",
        "Example 1:"
      ]
    },
    {
      "cell_type": "code",
      "execution_count": null,
      "metadata": {
        "colab": {
          "base_uri": "https://localhost:8080/"
        },
        "id": "qLTYepZZM0kl",
        "outputId": "4eaca4b1-1769-4265-de5b-75784bcc0e76"
      },
      "outputs": [
        {
          "name": "stdout",
          "output_type": "stream",
          "text": [
            "enter the stringprogramming\n",
            "{'p': 1, 'r': 2, 'o': 1, 'g': 2, 'a': 1, 'm': 2, 'i': 1, 'n': 1}\n"
          ]
        }
      ],
      "source": [
        "string = input(\"enter the string\")\n",
        "char_count = {}\n",
        "\n",
        "for char in string:\n",
        "  if char in char_count:\n",
        "    char_count[char]+= 1\n",
        "  else:\n",
        "    char_count[char] = 1\n",
        "print(char_count)"
      ]
    },
    {
      "cell_type": "markdown",
      "metadata": {
        "id": "zsu4Ra2jM-3k"
      },
      "source": [
        "swap and merge two string"
      ]
    },
    {
      "cell_type": "code",
      "execution_count": null,
      "metadata": {
        "colab": {
          "base_uri": "https://localhost:8080/"
        },
        "id": "_Th_OGqHM0lz",
        "outputId": "db3d185f-2cbe-4ffc-c3f3-2ee14d9bcc95"
      },
      "outputs": [
        {
          "name": "stdout",
          "output_type": "stream",
          "text": [
            "code\n",
            "debug\n",
            "dede cobug\n"
          ]
        }
      ],
      "source": [
        "def chars_mix_up(a, b):\n",
        "  new_a = b[:2] + a[2:]\n",
        "  new_b = a[:2] + b[2:]\n",
        "\n",
        "  return new_a + ' ' + new_b\n",
        "\n",
        "a = input()\n",
        "b = input()\n",
        "print(chars_mix_up(a,b))"
      ]
    },
    {
      "cell_type": "markdown",
      "metadata": {
        "id": "RTMJf4MMNF7g"
      },
      "source": [
        "Write a Python program to get a string which is n (non-negative integer) copies of a given string."
      ]
    },
    {
      "cell_type": "code",
      "execution_count": null,
      "metadata": {
        "colab": {
          "base_uri": "https://localhost:8080/"
        },
        "id": "adhGg0brNEBB",
        "outputId": "e5154f2f-1674-41fb-fc0e-d01e51041341"
      },
      "outputs": [
        {
          "name": "stdout",
          "output_type": "stream",
          "text": [
            "abc\n",
            "2\n",
            "abcabc\n"
          ]
        }
      ],
      "source": [
        "word = input()\n",
        "n = int(input())\n",
        "new_word =  n * word\n",
        "print(new_word)"
      ]
    },
    {
      "cell_type": "markdown",
      "metadata": {
        "id": "RZCBXRyVme2o"
      },
      "source": [
        "Write a Python function to get a string made of 4 copies of the last two characters of a specified string (length must be at least 2)."
      ]
    },
    {
      "cell_type": "code",
      "execution_count": null,
      "metadata": {
        "colab": {
          "base_uri": "https://localhost:8080/"
        },
        "id": "nT3S-vRemZOx",
        "outputId": "afe0a233-6368-448e-eaae-66acc3c03fb7"
      },
      "outputs": [
        {
          "name": "stdout",
          "output_type": "stream",
          "text": [
            "code\n",
            "dededede\n"
          ]
        }
      ],
      "source": [
        "string = input()\n",
        "new_string = string[-2:]\n",
        "print(new_string*4)"
      ]
    },
    {
      "cell_type": "markdown",
      "metadata": {
        "id": "cMNsNpkMmzty"
      },
      "source": [
        "Write a Python program to count and display the vowels of a given text."
      ]
    },
    {
      "cell_type": "code",
      "execution_count": null,
      "metadata": {
        "colab": {
          "base_uri": "https://localhost:8080/"
        },
        "id": "EWjeiVCgnILI",
        "outputId": "35f9629b-34de-496d-9931-b674d7da7333"
      },
      "outputs": [
        {
          "name": "stdout",
          "output_type": "stream",
          "text": [
            "buzz words\n",
            "2\n",
            "['u', 'o']\n"
          ]
        }
      ],
      "source": [
        "def vowel(word):\n",
        "  vowels = 'aeiouAEIOU'\n",
        "\n",
        "  print(len([letter for letter in word if letter in vowels]))\n",
        "  print([letter for letter in word if letter in vowels])\n",
        "\n",
        "word = input()\n",
        "vowel(word)"
      ]
    },
    {
      "cell_type": "markdown",
      "metadata": {
        "id": "i98fuZneqsVn"
      },
      "source": [
        "Write a Python code to remove all characters except a specified character in a given string."
      ]
    },
    {
      "cell_type": "code",
      "execution_count": null,
      "metadata": {
        "colab": {
          "base_uri": "https://localhost:8080/"
        },
        "id": "VvQTMSUKnd-B",
        "outputId": "7e71f380-091e-4b7e-8c8d-6a8682d227c9"
      },
      "outputs": [
        {
          "name": "stdout",
          "output_type": "stream",
          "text": [
            "american express\n",
            "e\n",
            "eee\n"
          ]
        }
      ],
      "source": [
        "def main(str1,str2):\n",
        "  return ''.join([el for el in str1 if el==str2])\n",
        "\n",
        "str1 = input()\n",
        "str2 = input()\n",
        "print(main(str1,str2))"
      ]
    },
    {
      "cell_type": "markdown",
      "metadata": {
        "id": "qUS_Ut8ytQdN"
      },
      "source": [
        "\n",
        "Write a Python program to count Uppercase, Lowercase, special character and numeric values in a given string."
      ]
    },
    {
      "cell_type": "code",
      "execution_count": null,
      "metadata": {
        "colab": {
          "base_uri": "https://localhost:8080/"
        },
        "id": "OQuCyaBXtRDN",
        "outputId": "71a83f43-7b1e-451f-c42f-e4fab7c39065"
      },
      "outputs": [
        {
          "name": "stdout",
          "output_type": "stream",
          "text": [
            "AlmaBetter@datascience\n",
            "(2, 19, 0, 1)\n"
          ]
        }
      ],
      "source": [
        "def  count_chars(str1):\n",
        "  upper,lower,number,special=0,0,0,0\n",
        "  for i in range(len(str1)):\n",
        "    if str1[i]>='A' and str1[i]<='Z':\n",
        "      upper +=1\n",
        "    elif str1[i]>='a' and str1[i]<='z':\n",
        "      lower+=1\n",
        "    elif str1[i]>='0' and str1[i]<='9':\n",
        "      number+=1\n",
        "    else:\n",
        "      special+=1\n",
        "  return upper,lower,number,special\n",
        "\n",
        "str1 = input()\n",
        "print(count_chars(str1))"
      ]
    },
    {
      "cell_type": "markdown",
      "metadata": {
        "id": "F8-eFle1tQcH"
      },
      "source": [
        "Print unique words in sorted form"
      ]
    },
    {
      "cell_type": "code",
      "execution_count": null,
      "metadata": {
        "colab": {
          "base_uri": "https://localhost:8080/"
        },
        "id": "yheM9fYfvGVD",
        "outputId": "916fe56f-04dc-4ca8-f2cd-208de0d10590"
      },
      "outputs": [
        {
          "name": "stdout",
          "output_type": "stream",
          "text": [
            "data,analysis,model,decission\n",
            "analysis,data,decission,model\n"
          ]
        }
      ],
      "source": [
        "def unique_words(items):\n",
        "  words = [word for word in items.split(',')]\n",
        "  return ','.join(sorted(list(set(words))))\n",
        "\n",
        "words = input()\n",
        "print(unique_words(words))"
      ]
    },
    {
      "cell_type": "markdown",
      "metadata": {
        "id": "OMJll4k3gKjE"
      },
      "source": [
        "String swap cases\n",
        "\n",
        "Write a Python program to swap cases of a given string."
      ]
    },
    {
      "cell_type": "code",
      "execution_count": null,
      "metadata": {
        "colab": {
          "base_uri": "https://localhost:8080/"
        },
        "id": "Cn5zg04fvgxR",
        "outputId": "887510b6-4c10-4150-a2d0-e6ff89d1515e"
      },
      "outputs": [
        {
          "name": "stdout",
          "output_type": "stream",
          "text": [
            "Python Excercise\n",
            "pYTHON eXCERCISE\n"
          ]
        }
      ],
      "source": [
        "def swap_Case_string(str1):\n",
        "  result_str = \"\"\n",
        "  for item in str1:\n",
        "    if item.isupper():\n",
        "      result_str += item.lower()\n",
        "    else:\n",
        "      result_str +=item.upper()\n",
        "  return result_str\n",
        "\n",
        "str1 = input()\n",
        "print(swap_Case_string(str1))"
      ]
    },
    {
      "cell_type": "markdown",
      "metadata": {
        "id": "4zR9y5QZoC3N"
      },
      "source": [
        "Write a Python program to remove item(s) from a given set."
      ]
    },
    {
      "cell_type": "code",
      "execution_count": null,
      "metadata": {
        "colab": {
          "base_uri": "https://localhost:8080/"
        },
        "id": "PfC4RvFfhfHh",
        "outputId": "d86a3399-edd3-4eef-94cc-1383bed48821"
      },
      "outputs": [
        {
          "data": {
            "text/plain": [
              "{20, 44, 83}"
            ]
          },
          "execution_count": 5,
          "metadata": {},
          "output_type": "execute_result"
        }
      ],
      "source": [
        "num = [44,83,20,72]\n",
        "num.pop(3)\n",
        "set(num)"
      ]
    },
    {
      "cell_type": "code",
      "execution_count": null,
      "metadata": {
        "colab": {
          "base_uri": "https://localhost:8080/"
        },
        "id": "FMlj9u_6hohm",
        "outputId": "89837b63-1535-4d09-879b-2f68edc96c2d"
      },
      "outputs": [
        {
          "name": "stdout",
          "output_type": "stream",
          "text": [
            "44,83,20,72\n",
            "{83, 44, 20}\n"
          ]
        }
      ],
      "source": [
        "num = set(eval(input()))\n",
        "num.pop()\n",
        "print(num)"
      ]
    },
    {
      "cell_type": "code",
      "execution_count": null,
      "metadata": {
        "colab": {
          "base_uri": "https://localhost:8080/"
        },
        "id": "hb4qbIwIh67T",
        "outputId": "efbaa738-188e-4e11-f64b-641a48560c8a"
      },
      "outputs": [
        {
          "name": "stdout",
          "output_type": "stream",
          "text": [
            "[44,83,20,72]\n"
          ]
        },
        {
          "data": {
            "text/plain": [
              "{20, 44, 83}"
            ]
          },
          "execution_count": 15,
          "metadata": {},
          "output_type": "execute_result"
        }
      ],
      "source": [
        "num = eval(input())\n",
        "num.remove(72)\n",
        "set(num)"
      ]
    },
    {
      "cell_type": "markdown",
      "metadata": {
        "id": "IFYvNZFSn_1g"
      },
      "source": [
        "Write a Python program to create an intersection of sets."
      ]
    },
    {
      "cell_type": "code",
      "execution_count": null,
      "metadata": {
        "colab": {
          "base_uri": "https://localhost:8080/"
        },
        "id": "cIAIynmOi5cq",
        "outputId": "8d802c45-270d-4fce-8fa2-cb978bd85c26"
      },
      "outputs": [
        {
          "name": "stdout",
          "output_type": "stream",
          "text": [
            "book paper draw dance\n",
            "hike tour dance work\n",
            "dance\n"
          ]
        }
      ],
      "source": [
        "str1 = set( input().split(' '))\n",
        "str2= set( input().split(' '))\n",
        "for word in str1:\n",
        "  if word in str2:\n",
        "    print(''.join(word))"
      ]
    },
    {
      "cell_type": "code",
      "execution_count": null,
      "metadata": {
        "colab": {
          "base_uri": "https://localhost:8080/"
        },
        "id": "wiGl6PCxkXZH",
        "outputId": "16e1763b-4e9b-4377-828d-b2f81c60f33a"
      },
      "outputs": [
        {
          "name": "stdout",
          "output_type": "stream",
          "text": [
            "book paper draw dance\n",
            "hike tour dance work\n",
            "{'dance'}\n"
          ]
        }
      ],
      "source": [
        "str1 = set( input().split(' '))\n",
        "str2= set( input().split(' '))\n",
        "\n",
        "set3 = str1 & str2\n",
        "print(set3)"
      ]
    },
    {
      "cell_type": "markdown",
      "metadata": {
        "id": "Sm4RcNEloP1f"
      },
      "source": [
        "Write a Python program to create a union of sets."
      ]
    },
    {
      "cell_type": "code",
      "execution_count": null,
      "metadata": {
        "colab": {
          "base_uri": "https://localhost:8080/"
        },
        "id": "Z3gPV5-Ikgug",
        "outputId": "6f483825-824d-4a56-8736-44798914a9cc"
      },
      "outputs": [
        {
          "name": "stdout",
          "output_type": "stream",
          "text": [
            "21 34 68\n",
            "83 21 90\n",
            "{'83', '34', '21', '68', '90'}\n"
          ]
        }
      ],
      "source": [
        "str1 = set( input().split(' '))\n",
        "str2= set( input().split(' '))\n",
        "\n",
        "set3 = str1  | str2\n",
        "print(set3)"
      ]
    },
    {
      "cell_type": "markdown",
      "metadata": {
        "id": "D2kqFIq-oVef"
      },
      "source": [
        "Find max and min number of a set"
      ]
    },
    {
      "cell_type": "code",
      "execution_count": null,
      "metadata": {
        "colab": {
          "base_uri": "https://localhost:8080/"
        },
        "id": "96DBdBdPoQjG",
        "outputId": "b332c32e-ee71-4a54-d054-e12887f8d578"
      },
      "outputs": [
        {
          "name": "stdout",
          "output_type": "stream",
          "text": [
            "41 74 89 90 53 66 73\n",
            "('90', '41')\n"
          ]
        }
      ],
      "source": [
        "def min_max(set1):\n",
        "  return max(set1),min(set1)\n",
        "\n",
        "set1 = set(input().split(' '))\n",
        "print(min_max(set1))"
      ]
    },
    {
      "cell_type": "markdown",
      "metadata": {
        "id": "lwFp3e4_pKN4"
      },
      "source": [
        "Write a Python program to find the length of a set."
      ]
    },
    {
      "cell_type": "code",
      "execution_count": null,
      "metadata": {
        "colab": {
          "base_uri": "https://localhost:8080/"
        },
        "id": "xPg8wjUvopoj",
        "outputId": "f39714d9-8857-471b-93d9-780a0a3f6c93"
      },
      "outputs": [
        {
          "name": "stdout",
          "output_type": "stream",
          "text": [
            "1 2 find look seek\n",
            "5\n"
          ]
        }
      ],
      "source": [
        "def find_length(set1):\n",
        "  return len(set1)\n",
        "\n",
        "set1 = set(input().split(' '))\n",
        "print(find_length(set1))"
      ]
    },
    {
      "cell_type": "code",
      "execution_count": null,
      "metadata": {
        "colab": {
          "base_uri": "https://localhost:8080/"
        },
        "id": "VnRtb3B3pGj7",
        "outputId": "35df7fca-cf57-4d70-c31e-575101945d0b"
      },
      "outputs": [
        {
          "name": "stdout",
          "output_type": "stream",
          "text": [
            "{'name': 'xyz', 'age': 27, 'salary': 50000}\n",
            "{'manager': 'abc'}\n",
            "{'name': 'xyz', 'age': 27, 'salary': 50000, 'manager': 'abc'}\n"
          ]
        }
      ],
      "source": [
        "def add_val(dct,val):\n",
        "  dct.update(val)\n",
        "  print(dct)\n",
        "\n",
        "dct =dict(eval(input()))\n",
        "val =dict(eval(input()))\n",
        "add_val(dct,val)"
      ]
    },
    {
      "cell_type": "markdown",
      "metadata": {
        "id": "3Fvr7LYB6qTW"
      },
      "source": [
        "Write a Python program to check whether a given key already exists in a dictionary."
      ]
    },
    {
      "cell_type": "code",
      "execution_count": null,
      "metadata": {
        "colab": {
          "base_uri": "https://localhost:8080/"
        },
        "id": "gpy0fr7Q6rtF",
        "outputId": "f354bfbc-3950-44a3-a5a1-6e316b0d81c5"
      },
      "outputs": [
        {
          "name": "stdout",
          "output_type": "stream",
          "text": [
            "{1: 10, 2: 20, 3: 30, 4: 40, 5: 50, 6: 60}\n",
            "9\n",
            "key absent\n"
          ]
        }
      ],
      "source": [
        "def is_key_present(dct,val):\n",
        "    if val in dct:\n",
        "      print(\"key present\")\n",
        "    else:\n",
        "      print(\"key absent\")\n",
        "\n",
        "dct = eval(input())\n",
        "val = int(input())\n",
        "is_key_present(dct,val)"
      ]
    },
    {
      "cell_type": "markdown",
      "metadata": {
        "id": "TXzuYiYQ7p6N"
      },
      "source": [
        "Write a Python program to iterate over dictionaries using for loops."
      ]
    },
    {
      "cell_type": "code",
      "execution_count": null,
      "metadata": {
        "colab": {
          "base_uri": "https://localhost:8080/"
        },
        "id": "_TtZIbnk7LKb",
        "outputId": "599804f9-1c88-4582-e90c-eea185ce9e53"
      },
      "outputs": [
        {
          "name": "stdout",
          "output_type": "stream",
          "text": [
            "{'john': 170, 'kem':172, 'sam': 168, 'milli': 158}\n",
            "john => 170\n",
            "kem => 172\n",
            "sam => 168\n",
            "milli => 158\n"
          ]
        }
      ],
      "source": [
        "def iterate_over(dictn):\n",
        "  for dict_key,dict_values in dictn.items():\n",
        "    print(dict_key,'=>',dict_values)\n",
        "\n",
        "dct = dict(eval(input()))\n",
        "iterate_over(dct)\n"
      ]
    },
    {
      "cell_type": "markdown",
      "metadata": {
        "id": "Fgu48piPBFzd"
      },
      "source": [
        "Write a Python script to generate and print a dictionary that contains a number (between 1 and n) in the form {x: x*x}"
      ]
    },
    {
      "cell_type": "code",
      "execution_count": null,
      "metadata": {
        "colab": {
          "base_uri": "https://localhost:8080/"
        },
        "id": "2eJch8TCBGOU",
        "outputId": "2041a3f4-6e51-4e13-a3f2-5f355ae1f435"
      },
      "outputs": [
        {
          "name": "stdout",
          "output_type": "stream",
          "text": [
            "4\n",
            "{1: 1, 2: 4, 3: 9, 4: 16}\n"
          ]
        }
      ],
      "source": [
        "def gen_num(num):\n",
        "  d = dict()\n",
        "\n",
        "  for i in range(1,n+1):\n",
        "    d[i] = i*i\n",
        "  print(d)\n",
        "\n",
        "n = int(input())\n",
        "gen_num(n)"
      ]
    },
    {
      "cell_type": "code",
      "execution_count": null,
      "metadata": {
        "colab": {
          "base_uri": "https://localhost:8080/"
        },
        "id": "qYiWbmHMe10Z",
        "outputId": "3253ce86-0623-46d0-b48d-f251186a10db"
      },
      "outputs": [
        {
          "name": "stdout",
          "output_type": "stream",
          "text": [
            "4\n",
            "{1: 1, 2: 4, 3: 9, 4: 16}\n"
          ]
        }
      ],
      "source": [
        "def gen_num(num):\n",
        "  d=dict()\n",
        "\n",
        "  for i in range(1,n+1):\n",
        "    d[i]=i*i\n",
        "  print(d)\n",
        "\n",
        "n = int(input())\n",
        "gen_num(n)"
      ]
    },
    {
      "cell_type": "markdown",
      "metadata": {
        "id": "sPeANWpWW7DN"
      },
      "source": [
        "Write a Python script to merge two Python dictionaries."
      ]
    },
    {
      "cell_type": "code",
      "execution_count": null,
      "metadata": {
        "colab": {
          "base_uri": "https://localhost:8080/"
        },
        "id": "mgW6-E27BSt1",
        "outputId": "e256277f-f094-4e6d-d9dc-83d021b211a5"
      },
      "outputs": [
        {
          "name": "stdout",
          "output_type": "stream",
          "text": [
            "{'a': 100, 'b': 200}\n",
            "{'x': 300, 'y': 200}\n",
            "{'a': 100, 'b': 200, 'x': 300, 'y': 200}\n"
          ]
        }
      ],
      "source": [
        "def merge_dict(d1,d2):\n",
        "  d = d1.copy()\n",
        "  d.update(d2)\n",
        "  print(d)\n",
        "\n",
        "d1 = dict(eval(input()))\n",
        "d2 = dict(eval(input()))\n",
        "merge_dict(d1,d2)\n"
      ]
    },
    {
      "cell_type": "code",
      "execution_count": null,
      "metadata": {
        "colab": {
          "base_uri": "https://localhost:8080/"
        },
        "id": "dZob60i7fWWU",
        "outputId": "55ec05a6-94df-4162-b25c-dbd06453c470"
      },
      "outputs": [
        {
          "name": "stdout",
          "output_type": "stream",
          "text": [
            "{'a': 100, 'b': 200}\n",
            "{'x': 300, 'y': 200}\n",
            "{'a': 100, 'b': 200, 'x': 300, 'y': 200}\n"
          ]
        }
      ],
      "source": [
        "def merge_dict(d1,d2):\n",
        "  d=d1.copy()\n",
        "  d.update(d2)\n",
        "  print(d)\n",
        "\n",
        "d1 = dict(eval(input()))\n",
        "d2 = dict(eval(input()))\n",
        "merge_dict(d1,d2)"
      ]
    },
    {
      "cell_type": "markdown",
      "metadata": {
        "id": "cZndPfJ_gemf"
      },
      "source": [
        "Write a Python program to sum all the items in a dictionary."
      ]
    },
    {
      "cell_type": "code",
      "execution_count": null,
      "metadata": {
        "colab": {
          "base_uri": "https://localhost:8080/"
        },
        "id": "eCoHrgk-f737",
        "outputId": "7252cdf8-1a70-407e-a336-5415e67a8736"
      },
      "outputs": [
        {
          "name": "stdout",
          "output_type": "stream",
          "text": [
            "{'data1':100,'data2':-54,'data3':247}\n"
          ]
        },
        {
          "data": {
            "text/plain": [
              "293"
            ]
          },
          "execution_count": 7,
          "metadata": {},
          "output_type": "execute_result"
        }
      ],
      "source": [
        "def sum_dict(d1):\n",
        "  return sum(d1.values())\n",
        "\n",
        "d1 = dict(eval(input()))\n",
        "sum_dict(d1)"
      ]
    },
    {
      "cell_type": "code",
      "execution_count": null,
      "metadata": {
        "colab": {
          "base_uri": "https://localhost:8080/"
        },
        "id": "tx8pI8qThdHe",
        "outputId": "13e206d4-95e7-46e5-9f8c-f5b69d457d47"
      },
      "outputs": [
        {
          "name": "stdout",
          "output_type": "stream",
          "text": [
            "1 2 3 4\n",
            "1 4 9 16\n"
          ]
        },
        {
          "data": {
            "text/plain": [
              "{'1': '1', '2': '4', '3': '9', '4': '16'}"
            ]
          },
          "execution_count": 11,
          "metadata": {},
          "output_type": "execute_result"
        }
      ],
      "source": [
        "def map_list(l1,l2):\n",
        "  dic = dict(zip(l1,l2))\n",
        "  return dic\n",
        "\n",
        "\n",
        "l1 = list(input().split(' '))\n",
        "l2 = list(input().split(' '))\n",
        "map_list(l1,l2)\n"
      ]
    },
    {
      "cell_type": "markdown",
      "metadata": {
        "id": "MnSaCb27kDEq"
      },
      "source": [
        "Write a Python program to remove duplicates from Dictionary"
      ]
    },
    {
      "cell_type": "code",
      "execution_count": null,
      "metadata": {
        "colab": {
          "base_uri": "https://localhost:8080/"
        },
        "id": "7lo26SF4h1B1",
        "outputId": "afa5a784-ef59-4df5-b98a-3af0abc92a75"
      },
      "outputs": [
        {
          "name": "stdout",
          "output_type": "stream",
          "text": [
            "{'name': 'xyz', 'age': 27, 'salary': 50000, 'manager': 'xyz'}\n"
          ]
        },
        {
          "data": {
            "text/plain": [
              "{'name': 'xyz', 'age': 27, 'salary': 50000}"
            ]
          },
          "execution_count": 12,
          "metadata": {},
          "output_type": "execute_result"
        }
      ],
      "source": [
        "def  duplicte_removal(dct1):\n",
        "  result = {}\n",
        "\n",
        "  for key,value in dct1.items():\n",
        "    if value not  in result.values():\n",
        "      result[key]=value\n",
        "  return result\n",
        "\n",
        "\n",
        "dct1 = dict(eval(input()))\n",
        "duplicte_removal(dct1)"
      ]
    },
    {
      "cell_type": "markdown",
      "metadata": {
        "id": "VM9eSOQnkz6w"
      },
      "source": [
        "Write a Python program to convert a tuple to a string."
      ]
    },
    {
      "cell_type": "code",
      "execution_count": null,
      "metadata": {
        "colab": {
          "base_uri": "https://localhost:8080/",
          "height": 52
        },
        "id": "EZhXtGMikYL2",
        "outputId": "af09652d-c52f-4396-9637-a7a003515ade"
      },
      "outputs": [
        {
          "name": "stdout",
          "output_type": "stream",
          "text": [
            "e,x,e,r,c,i,s,e\n"
          ]
        },
        {
          "data": {
            "application/vnd.google.colaboratory.intrinsic+json": {
              "type": "string"
            },
            "text/plain": [
              "'exercise'"
            ]
          },
          "execution_count": 14,
          "metadata": {},
          "output_type": "execute_result"
        }
      ],
      "source": [
        "def tup_to_string(tup):\n",
        "  string = ''.join(tup)\n",
        "  return string\n",
        "\n",
        "tup = tuple(input().split(','))\n",
        "tup_to_string(tup)"
      ]
    },
    {
      "cell_type": "markdown",
      "metadata": {
        "id": "rBvGDhBI3tZm"
      },
      "source": [
        "Write a Python program to find the frequency of a given item(string or int) in a tuple."
      ]
    },
    {
      "cell_type": "code",
      "execution_count": null,
      "metadata": {
        "colab": {
          "base_uri": "https://localhost:8080/"
        },
        "id": "6fpwybZrkrFp",
        "outputId": "b27a1f0e-73e6-4d28-b9fd-3686d7ed400d"
      },
      "outputs": [
        {
          "name": "stdout",
          "output_type": "stream",
          "text": [
            "(2, 4, 5, 6, 2, 3, 4, 4, 7)\n",
            "4\n",
            "0\n"
          ]
        }
      ],
      "source": [
        "def frequency(tup,n):\n",
        "  result =  tup.count(n)\n",
        "  return result\n",
        "\n",
        "tup = tuple(input().split(\",\"))\n",
        "n = input()\n",
        "print(frequency(tup,n))"
      ]
    },
    {
      "cell_type": "code",
      "execution_count": null,
      "metadata": {
        "id": "Ig6lPyoo5C3A"
      },
      "outputs": [],
      "source": [
        "def  frequency(tup,n):\n",
        "  count = tup.count(n)\n",
        "  return count\n",
        "\n",
        "tup = tuple(input().split(','))\n",
        "n = input()\n",
        "print(frequency(tup,n))\n"
      ]
    },
    {
      "cell_type": "markdown",
      "metadata": {
        "id": "4lVHTZzo66go"
      },
      "source": [
        "Write a Python program to check whether an element exists within a tuple."
      ]
    },
    {
      "cell_type": "code",
      "execution_count": null,
      "metadata": {
        "colab": {
          "base_uri": "https://localhost:8080/"
        },
        "id": "0ttQ4ZGC66VJ",
        "outputId": "1ae23de6-03c0-43c8-a63c-9bdd1957b3e2"
      },
      "outputs": [
        {
          "name": "stdout",
          "output_type": "stream",
          "text": [
            "w,3,r,e,c,o,u,r,c,e,s\n",
            "c\n",
            "True\n"
          ]
        }
      ],
      "source": [
        "def is_exist(tup,item):\n",
        "  print(item in tup)\n",
        "\n",
        "tup = tuple(input().split(','))\n",
        "item = input()\n",
        "is_exist(tup,item)\n"
      ]
    },
    {
      "cell_type": "code",
      "execution_count": null,
      "metadata": {
        "colab": {
          "base_uri": "https://localhost:8080/"
        },
        "id": "P6Ir6XLDCn-J",
        "outputId": "bf0f5b63-fa09-4e0d-a9fc-1b4b2cfef84e"
      },
      "outputs": [
        {
          "name": "stdout",
          "output_type": "stream",
          "text": [
            "a,b,c,d,e,f,g \n",
            "f\n"
          ]
        },
        {
          "data": {
            "text/plain": [
              "('a', 'b', 'c', 'd', 'e', 'g ')"
            ]
          },
          "execution_count": 4,
          "metadata": {},
          "output_type": "execute_result"
        }
      ],
      "source": [
        "def remove(tup,val):\n",
        "  listx = list(tup)\n",
        "  listx.remove(val)\n",
        "  tup = tuple(listx)\n",
        "  return tup\n",
        "\n",
        "tup = tuple(input().split(','))\n",
        "val = input()\n",
        "remove(tup,val)"
      ]
    },
    {
      "cell_type": "code",
      "execution_count": null,
      "metadata": {
        "colab": {
          "base_uri": "https://localhost:8080/"
        },
        "id": "knxjfALHDK22",
        "outputId": "79131f0c-4376-4158-a89a-5c117b3e6c4c"
      },
      "outputs": [
        {
          "name": "stdout",
          "output_type": "stream",
          "text": [
            "(1, 2), (2, 3), (3, 4)\n",
            "[1, 2]\n",
            "[2, 3]\n",
            "[3, 4]\n"
          ]
        }
      ],
      "source": [
        "tup = eval(input())\n",
        "\n",
        "for el in tup:\n",
        "  result = list(el)\n",
        "  print(result)\n"
      ]
    },
    {
      "cell_type": "code",
      "execution_count": null,
      "metadata": {
        "colab": {
          "base_uri": "https://localhost:8080/"
        },
        "id": "vwg_h97jEa2w",
        "outputId": "a129826f-2b89-4449-ae53-9e6b672a454e"
      },
      "outputs": [
        {
          "name": "stdout",
          "output_type": "stream",
          "text": [
            "(1, 2), (2, 3), (3, 4)\n",
            "[[1, 2], [2, 3], [3, 4]]\n"
          ]
        }
      ],
      "source": [
        "def convert(tup):\n",
        "  result = [list(el) for el in tup]\n",
        "  return result\n",
        "\n",
        "tup = eval(input())\n",
        "print(convert(tup))"
      ]
    },
    {
      "cell_type": "code",
      "execution_count": null,
      "metadata": {
        "id": "XY1ubeSrYMbv"
      },
      "outputs": [],
      "source": [
        "#Write a Python program to create the multiplication table (from 1 to 10) of a number."
      ]
    },
    {
      "cell_type": "code",
      "execution_count": null,
      "metadata": {
        "colab": {
          "base_uri": "https://localhost:8080/"
        },
        "id": "BMpBMA2VYNQ5",
        "outputId": "115c1a37-3e80-4dac-8e90-021b1236d8e1"
      },
      "outputs": [
        {
          "name": "stdout",
          "output_type": "stream",
          "text": [
            "7\n",
            "7 x 1 = 7\n",
            "7 x 2 = 14\n",
            "7 x 3 = 21\n",
            "7 x 4 = 28\n",
            "7 x 5 = 35\n",
            "7 x 6 = 42\n",
            "7 x 7 = 49\n",
            "7 x 8 = 56\n",
            "7 x 9 = 63\n",
            "7 x 10 = 70\n"
          ]
        }
      ],
      "source": [
        "def multiple(num):\n",
        "  for i in range(1,11):\n",
        "    print(num ,'x' ,i, '=', num*i)\n",
        "\n",
        "num = int(input())\n",
        "multiple(num)"
      ]
    },
    {
      "cell_type": "markdown",
      "metadata": {
        "id": "j6G0OP8Ig05c"
      },
      "source": [
        "Write a Python program to calculate the sum and average of n integer numbers (input from the user). Input 0 to finish."
      ]
    },
    {
      "cell_type": "code",
      "execution_count": null,
      "metadata": {
        "colab": {
          "base_uri": "https://localhost:8080/"
        },
        "id": "JFQqCNnHg1d7",
        "outputId": "84513edc-35fd-4167-916b-3c94e3723b65"
      },
      "outputs": [
        {
          "name": "stdout",
          "output_type": "stream",
          "text": [
            "15\n",
            "16\n",
            "12\n",
            "0\n",
            "Average and Sum of the above numbers are: 14.333333333333334 43.0\n"
          ]
        }
      ],
      "source": [
        "count = 0\n",
        "sum = 0.0\n",
        "number = 1\n",
        "\n",
        "while number != 0:\n",
        "        number = int(input(\"\"))\n",
        "        sum = sum + number\n",
        "        count += 1\n",
        "\n",
        "if count == 0:\n",
        "        print(\"Input some numbers\")\n",
        "else:\n",
        "        print(\"Average and Sum of the above numbers are:\", sum / (count-1), sum)"
      ]
    },
    {
      "cell_type": "code",
      "execution_count": null,
      "metadata": {
        "colab": {
          "base_uri": "https://localhost:8080/"
        },
        "id": "7GzagMHrhXS7",
        "outputId": "907495d3-f606-431d-c39c-cbd9956d12fd"
      },
      "outputs": [
        {
          "name": "stdout",
          "output_type": "stream",
          "text": [
            "15\n",
            "16\n",
            "12\n",
            "0\n",
            "Average and sum of numbers are 14.333333333333334 43.0\n"
          ]
        }
      ],
      "source": [
        "count = 0.0\n",
        "sum=0.0\n",
        "number=1.0\n",
        "\n",
        "while number!=0:\n",
        "  number = int(input())\n",
        "  sum = sum + number\n",
        "  count+=1\n",
        "\n",
        "if count==0:\n",
        "  print(\"Invalid numbers\")\n",
        "else:\n",
        "  print(\"Average and sum of numbers are\", sum/(count-1),sum)"
      ]
    },
    {
      "cell_type": "code",
      "execution_count": null,
      "metadata": {
        "id": "gaPPiwBliAnU"
      },
      "outputs": [],
      "source": []
    }
  ],
  "metadata": {
    "colab": {
      "provenance": [],
      "authorship_tag": "ABX9TyMAMDKqlDyvaheB/+CMCnfn",
      "include_colab_link": true
    },
    "kernelspec": {
      "display_name": "Python 3",
      "name": "python3"
    },
    "language_info": {
      "name": "python"
    }
  },
  "nbformat": 4,
  "nbformat_minor": 0
}