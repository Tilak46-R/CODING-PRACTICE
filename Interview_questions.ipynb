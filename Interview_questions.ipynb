{
  "nbformat": 4,
  "nbformat_minor": 0,
  "metadata": {
    "colab": {
      "provenance": [],
      "authorship_tag": "ABX9TyN0uMPuLrU+LnvDw28IHSq2",
      "include_colab_link": true
    },
    "kernelspec": {
      "name": "python3",
      "display_name": "Python 3"
    },
    "language_info": {
      "name": "python"
    }
  },
  "cells": [
    {
      "cell_type": "markdown",
      "metadata": {
        "id": "view-in-github",
        "colab_type": "text"
      },
      "source": [
        "<a href=\"https://colab.research.google.com/github/Tilak46-R/CODING-PRACTICE/blob/main/Interview_questions.ipynb\" target=\"_parent\"><img src=\"https://colab.research.google.com/assets/colab-badge.svg\" alt=\"Open In Colab\"/></a>"
      ]
    },
    {
      "cell_type": "code",
      "execution_count": null,
      "metadata": {
        "colab": {
          "base_uri": "https://localhost:8080/"
        },
        "id": "Y-UO_fXTBq-P",
        "outputId": "9b9c08c9-e1c8-4dec-98ea-b9355d9f4f45"
      },
      "outputs": [
        {
          "output_type": "stream",
          "name": "stdout",
          "text": [
            "153\n",
            "Armstrong\n"
          ]
        }
      ],
      "source": [
        "i=0\n",
        "result=0\n",
        "n=int(input())\n",
        "number1=n\n",
        "temp=n\n",
        "while n!=0:\n",
        "  n = (n//10)\n",
        "  i = i+1\n",
        "while number1!=0:\n",
        "  n = (number1%10)\n",
        "  result = result + pow(n,i)\n",
        "  number1 = (number1//10)\n",
        "if temp == result:\n",
        "  print(\"Armstrong\")\n",
        "else:\n",
        "  print(\"Not an Armstrong\")"
      ]
    },
    {
      "cell_type": "code",
      "source": [
        "i=0\n",
        "result=0\n",
        "n =int(input())\n",
        "number1=n\n",
        "temp=n\n",
        "while n!=0:\n",
        "  n = (n//10)\n",
        "  i = i + 1\n",
        "while number1 !=0:\n",
        "  n=(number1%10)\n",
        "  result = result + pow(n,i)\n",
        "  number1 = number1//10\n",
        "if temp == result:\n",
        "  print(\"Num is Armstrong\")\n",
        "else:\n",
        "  print(\"Num is not Armstrong\")"
      ],
      "metadata": {
        "id": "gH4X4yWRKeJ1",
        "colab": {
          "base_uri": "https://localhost:8080/"
        },
        "outputId": "8ce32ca9-45a1-47de-8acb-28c7d772a713"
      },
      "execution_count": 2,
      "outputs": [
        {
          "output_type": "stream",
          "name": "stdout",
          "text": [
            "153\n",
            "Num is Armstrong\n"
          ]
        }
      ]
    },
    {
      "cell_type": "markdown",
      "source": [
        "Pattern"
      ],
      "metadata": {
        "id": "d0MNMoBEjCvD"
      }
    },
    {
      "cell_type": "code",
      "source": [
        "n = int(input())\n",
        "\n",
        "for i in range(1,n+1):\n",
        "  for j in range(1,i+1):\n",
        "    print(\"*\", end = \"\")\n",
        "  print()"
      ],
      "metadata": {
        "colab": {
          "base_uri": "https://localhost:8080/"
        },
        "id": "y23vm82wjCVL",
        "outputId": "c1d6b3a4-feff-4b35-eec0-6d85cd8eada4"
      },
      "execution_count": 3,
      "outputs": [
        {
          "output_type": "stream",
          "name": "stdout",
          "text": [
            "5\n",
            "*\n",
            "**\n",
            "***\n",
            "****\n",
            "*****\n"
          ]
        }
      ]
    },
    {
      "cell_type": "code",
      "source": [
        "size = 5\n",
        "for i in range(size):\n",
        "  for j in range(1,size-i):\n",
        "    print(\" \", end = \"\")\n",
        "  for k in range(0, i+1):\n",
        "    print(\"*\", end = \"\")\n",
        "  print()"
      ],
      "metadata": {
        "colab": {
          "base_uri": "https://localhost:8080/"
        },
        "id": "AjQshw0-jeQJ",
        "outputId": "a19c05cc-9f6a-446b-ac90-f9725bda517f"
      },
      "execution_count": 6,
      "outputs": [
        {
          "output_type": "stream",
          "name": "stdout",
          "text": [
            "    *\n",
            "   **\n",
            "  ***\n",
            " ****\n",
            "*****\n"
          ]
        }
      ]
    },
    {
      "cell_type": "code",
      "source": [
        "size = 5\n",
        "for i in range(size):\n",
        "  for j in range(size):\n",
        "    if i==j or i+j==size-1:\n",
        "      print(\"*\", end = \"\")\n",
        "    else:\n",
        "      print(\" \", end = \"\")\n",
        "  print()"
      ],
      "metadata": {
        "colab": {
          "base_uri": "https://localhost:8080/"
        },
        "id": "fEk0DHy4mCbr",
        "outputId": "b8289709-9005-4ebb-b7bd-85619d312c51"
      },
      "execution_count": 7,
      "outputs": [
        {
          "output_type": "stream",
          "name": "stdout",
          "text": [
            "*   *\n",
            " * * \n",
            "  *  \n",
            " * * \n",
            "*   *\n"
          ]
        }
      ]
    },
    {
      "cell_type": "code",
      "source": [
        "size = 5\n",
        "for i in range(size):\n",
        "  for j in range(size-i):\n",
        "    print(\"*\", end = \"\")\n",
        "  print()"
      ],
      "metadata": {
        "colab": {
          "base_uri": "https://localhost:8080/"
        },
        "id": "Y2egs4FHmCan",
        "outputId": "8d91ecd9-b2ed-43ef-8953-331946ed1d2d"
      },
      "execution_count": 17,
      "outputs": [
        {
          "output_type": "stream",
          "name": "stdout",
          "text": [
            "*****\n",
            "****\n",
            "***\n",
            "**\n",
            "*\n"
          ]
        }
      ]
    },
    {
      "cell_type": "code",
      "source": [
        "size = 5\n",
        "for i in range(size):\n",
        "  for j in range(i):\n",
        "    print(\" \", end = \"\")\n",
        "  for j in range(size,i,-1):\n",
        "    print(\"*\", end = \"\")\n",
        "  print()"
      ],
      "metadata": {
        "colab": {
          "base_uri": "https://localhost:8080/"
        },
        "id": "0YE3JK5Tml7L",
        "outputId": "49b05a43-e1ba-498c-9205-8fe94850dae6"
      },
      "execution_count": 25,
      "outputs": [
        {
          "output_type": "stream",
          "name": "stdout",
          "text": [
            "*****\n",
            " ****\n",
            "  ***\n",
            "   **\n",
            "    *\n"
          ]
        }
      ]
    }
  ]
}