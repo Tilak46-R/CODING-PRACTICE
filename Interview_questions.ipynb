{
  "nbformat": 4,
  "nbformat_minor": 0,
  "metadata": {
    "colab": {
      "provenance": [],
      "authorship_tag": "ABX9TyM4HcgtOLMTe1YgaM73BNH4",
      "include_colab_link": true
    },
    "kernelspec": {
      "name": "python3",
      "display_name": "Python 3"
    },
    "language_info": {
      "name": "python"
    }
  },
  "cells": [
    {
      "cell_type": "markdown",
      "metadata": {
        "id": "view-in-github",
        "colab_type": "text"
      },
      "source": [
        "<a href=\"https://colab.research.google.com/github/Tilak46-R/CODING-PRACTICE/blob/main/Interview_questions.ipynb\" target=\"_parent\"><img src=\"https://colab.research.google.com/assets/colab-badge.svg\" alt=\"Open In Colab\"/></a>"
      ]
    },
    {
      "cell_type": "markdown",
      "source": [
        "# **ARMSTRONG NUMBER**\n",
        "\n",
        "\n",
        "\n"
      ],
      "metadata": {
        "id": "O2GIGl4Ke0f9"
      }
    },
    {
      "cell_type": "code",
      "execution_count": null,
      "metadata": {
        "colab": {
          "base_uri": "https://localhost:8080/"
        },
        "id": "Y-UO_fXTBq-P",
        "outputId": "9b9c08c9-e1c8-4dec-98ea-b9355d9f4f45"
      },
      "outputs": [
        {
          "output_type": "stream",
          "name": "stdout",
          "text": [
            "153\n",
            "Armstrong\n"
          ]
        }
      ],
      "source": [
        "i=0\n",
        "result=0\n",
        "n=int(input())\n",
        "number1=n\n",
        "temp=n\n",
        "while n!=0:\n",
        "  n = (n//10)\n",
        "  i = i+1\n",
        "while number1!=0:\n",
        "  n = (number1%10)\n",
        "  result = result + pow(n,i)\n",
        "  number1 = (number1//10)\n",
        "if temp == result:\n",
        "  print(\"Armstrong\")\n",
        "else:\n",
        "  print(\"Not an Armstrong\")"
      ]
    },
    {
      "cell_type": "code",
      "source": [
        "i = 0\n",
        "result = 0\n",
        "n = int(input())\n",
        "number1 = n\n",
        "temp = n\n",
        "while n!=0:\n",
        "  n = n//10\n",
        "  i=i+1\n",
        "while number1!=0:\n",
        "  n=number1%10\n",
        "  result = result + pow(n,i)\n",
        "  number1 = number1//10\n",
        "if result==temp:\n",
        "  print(\"A\")\n",
        "else:\n",
        "  print(\"B\")"
      ],
      "metadata": {
        "colab": {
          "base_uri": "https://localhost:8080/"
        },
        "id": "BNY2jVGtjBdS",
        "outputId": "4025fc9c-3f1b-46b6-d1fd-baaf4f1c4a4f"
      },
      "execution_count": 18,
      "outputs": [
        {
          "output_type": "stream",
          "name": "stdout",
          "text": [
            "156\n",
            "B\n"
          ]
        }
      ]
    },
    {
      "cell_type": "code",
      "source": [
        "a = (1%10)\n",
        "a\n"
      ],
      "metadata": {
        "colab": {
          "base_uri": "https://localhost:8080/"
        },
        "id": "7OgX6cI5isbC",
        "outputId": "659fa777-f335-4a0e-85da-ecff46c977f2"
      },
      "execution_count": 19,
      "outputs": [
        {
          "output_type": "execute_result",
          "data": {
            "text/plain": [
              "1"
            ]
          },
          "metadata": {},
          "execution_count": 19
        }
      ]
    },
    {
      "cell_type": "code",
      "source": [
        "\n",
        "\n",
        "# Python program to check if the number is an Armstrong number or not\n",
        "num = int(input(\"Enter a number: \"))  # Take input from the user\n",
        "\n",
        "# Initialize the sum\n",
        "sum = 0\n",
        "\n",
        "# Find the sum of the cube of each digit\n",
        "temp = num\n",
        "while temp > 0:\n",
        "    digit = temp % 10\n",
        "    sum += digit ** 3\n",
        "    temp //= 10\n",
        "\n",
        "# Display the result\n",
        "if num == sum:\n",
        "    print(f\"{num} is an Armstrong number\")\n",
        "else:\n",
        "    print(f\"{num} is not an Armstrong number\")\n"
      ],
      "metadata": {
        "colab": {
          "base_uri": "https://localhost:8080/"
        },
        "id": "fX6ITwT_huVg",
        "outputId": "64f74a92-e6b4-4a48-ff18-035c424644af"
      },
      "execution_count": 21,
      "outputs": [
        {
          "output_type": "stream",
          "name": "stdout",
          "text": [
            "Enter a number: 153\n",
            "153 is an Armstrong number\n"
          ]
        }
      ]
    },
    {
      "cell_type": "code",
      "source": [
        "A= pow(0,1)\n",
        "A"
      ],
      "metadata": {
        "colab": {
          "base_uri": "https://localhost:8080/"
        },
        "id": "0wvsNZP-fejd",
        "outputId": "1267ad97-791c-43af-8330-23e7360e2e58"
      },
      "execution_count": 5,
      "outputs": [
        {
          "output_type": "execute_result",
          "data": {
            "text/plain": [
              "0"
            ]
          },
          "metadata": {},
          "execution_count": 5
        }
      ]
    },
    {
      "cell_type": "code",
      "source": [
        "i=0\n",
        "result=0\n",
        "n =int(input())\n",
        "number1=n\n",
        "temp=n\n",
        "while n!=0:\n",
        "  n = (n//10)\n",
        "  i = i + 1\n",
        "while number1 !=0:\n",
        "  n=(number1%10)\n",
        "  result = result + pow(n,i)\n",
        "  number1 = number1//10\n",
        "if temp == result:\n",
        "  print(\"Num is Armstrong\")\n",
        "else:\n",
        "  print(\"Num is not Armstrong\")"
      ],
      "metadata": {
        "id": "gH4X4yWRKeJ1",
        "colab": {
          "base_uri": "https://localhost:8080/"
        },
        "outputId": "8ce32ca9-45a1-47de-8acb-28c7d772a713"
      },
      "execution_count": null,
      "outputs": [
        {
          "output_type": "stream",
          "name": "stdout",
          "text": [
            "153\n",
            "Num is Armstrong\n"
          ]
        }
      ]
    },
    {
      "cell_type": "markdown",
      "source": [
        "Pattern"
      ],
      "metadata": {
        "id": "d0MNMoBEjCvD"
      }
    },
    {
      "cell_type": "code",
      "source": [
        "n = int(input())\n",
        "\n",
        "for i in range(1,n+1):\n",
        "  for j in range(1,i+1):\n",
        "    print(\"*\", end = \"\")\n",
        "  print()"
      ],
      "metadata": {
        "colab": {
          "base_uri": "https://localhost:8080/"
        },
        "id": "y23vm82wjCVL",
        "outputId": "c1d6b3a4-feff-4b35-eec0-6d85cd8eada4"
      },
      "execution_count": null,
      "outputs": [
        {
          "output_type": "stream",
          "name": "stdout",
          "text": [
            "5\n",
            "*\n",
            "**\n",
            "***\n",
            "****\n",
            "*****\n"
          ]
        }
      ]
    },
    {
      "cell_type": "code",
      "source": [
        "size = 5\n",
        "for i in range(size):\n",
        "  for j in range(1,size-i):\n",
        "    print(\" \", end = \"\")\n",
        "  for k in range(0, i+1):\n",
        "    print(\"*\", end = \"\")\n",
        "  print()"
      ],
      "metadata": {
        "colab": {
          "base_uri": "https://localhost:8080/"
        },
        "id": "AjQshw0-jeQJ",
        "outputId": "810a08bb-5a66-44ed-9723-db6423ea8b0f"
      },
      "execution_count": 28,
      "outputs": [
        {
          "output_type": "stream",
          "name": "stdout",
          "text": [
            "    *\n",
            "   **\n",
            "  ***\n",
            " ****\n",
            "*****\n"
          ]
        }
      ]
    },
    {
      "cell_type": "code",
      "source": [
        "size = 5\n",
        "for i in range(size):\n",
        "  for j in range(size):\n",
        "    if i==j or i+j==size-1:\n",
        "      print(\"*\", end = \"\")\n",
        "    else:\n",
        "      print(\" \", end = \"\")\n",
        "  print()"
      ],
      "metadata": {
        "colab": {
          "base_uri": "https://localhost:8080/"
        },
        "id": "fEk0DHy4mCbr",
        "outputId": "b8289709-9005-4ebb-b7bd-85619d312c51"
      },
      "execution_count": null,
      "outputs": [
        {
          "output_type": "stream",
          "name": "stdout",
          "text": [
            "*   *\n",
            " * * \n",
            "  *  \n",
            " * * \n",
            "*   *\n"
          ]
        }
      ]
    },
    {
      "cell_type": "code",
      "source": [
        "size = 5\n",
        "for i in range(size):\n",
        "  for j in range(size):\n",
        "    if i==j or i+j==size-1:\n",
        "      print(\"*\",end=\"\")\n",
        "    else:\n",
        "      print(\" \",end=\"\")\n",
        "  print()"
      ],
      "metadata": {
        "colab": {
          "base_uri": "https://localhost:8080/"
        },
        "id": "v15WIksdmU_U",
        "outputId": "78b0fd6c-b1cd-4dce-ee01-189fc5c1146e"
      },
      "execution_count": 29,
      "outputs": [
        {
          "output_type": "stream",
          "name": "stdout",
          "text": [
            "*   *\n",
            " * * \n",
            "  *  \n",
            " * * \n",
            "*   *\n"
          ]
        }
      ]
    },
    {
      "cell_type": "code",
      "source": [
        "size = 5\n",
        "for i in range(size):\n",
        "  for j in range(size-i):\n",
        "    print(\"*\", end = \"\")\n",
        "  print()"
      ],
      "metadata": {
        "colab": {
          "base_uri": "https://localhost:8080/"
        },
        "id": "Y2egs4FHmCan",
        "outputId": "8d91ecd9-b2ed-43ef-8953-331946ed1d2d"
      },
      "execution_count": null,
      "outputs": [
        {
          "output_type": "stream",
          "name": "stdout",
          "text": [
            "*****\n",
            "****\n",
            "***\n",
            "**\n",
            "*\n"
          ]
        }
      ]
    },
    {
      "cell_type": "code",
      "source": [
        "size = 5\n",
        "for i in range(size):\n",
        "  for j in range(i):\n",
        "    print(\" \", end = \"\")\n",
        "  for j in range(size,i,-1):\n",
        "    print(\"*\", end = \"\")\n",
        "  print()"
      ],
      "metadata": {
        "colab": {
          "base_uri": "https://localhost:8080/"
        },
        "id": "0YE3JK5Tml7L",
        "outputId": "49b05a43-e1ba-498c-9205-8fe94850dae6"
      },
      "execution_count": null,
      "outputs": [
        {
          "output_type": "stream",
          "name": "stdout",
          "text": [
            "*****\n",
            " ****\n",
            "  ***\n",
            "   **\n",
            "    *\n"
          ]
        }
      ]
    },
    {
      "cell_type": "markdown",
      "source": [
        "# **BUBBLE SORT**"
      ],
      "metadata": {
        "id": "GyCmoksGkyvd"
      }
    },
    {
      "cell_type": "code",
      "source": [
        "def bubble_sort(arr):\n",
        "  n=len(arr)\n",
        "\n",
        "  for i in range(n):\n",
        "    for j in range(0,n-i-1):\n",
        "      if arr[j]>arr[j+1]:\n",
        "        arr[j],arr[j+1]=arr[j+1],arr[j]\n",
        "\n",
        "arr = [5,2,7,3,1,8,6,4]\n",
        "bubble_sort(arr)\n",
        "print(\"Sorted array is:\")\n",
        "for i in range(len(arr)):\n",
        "  print(\"%d\" %arr[i])"
      ],
      "metadata": {
        "colab": {
          "base_uri": "https://localhost:8080/"
        },
        "id": "53oVb3z-k2HN",
        "outputId": "538b35a5-0ca0-44f2-8fd3-2b25c3bf8c27"
      },
      "execution_count": 3,
      "outputs": [
        {
          "output_type": "stream",
          "name": "stdout",
          "text": [
            "Sorted array is:\n",
            "1\n",
            "2\n",
            "3\n",
            "4\n",
            "5\n",
            "6\n",
            "7\n",
            "8\n"
          ]
        }
      ]
    },
    {
      "cell_type": "markdown",
      "source": [
        "# **LINEAR SEARCH**"
      ],
      "metadata": {
        "id": "D-1GjoO87zLQ"
      }
    },
    {
      "cell_type": "code",
      "source": [
        "def linear_search(data,target):\n",
        "  for i in range(len(data)):\n",
        "    if data[i]==target:\n",
        "      return i\n",
        "  return -1\n",
        "\n",
        "\n",
        "data = eval(input(\"enter the values separated by space\"))\n",
        "target = int(input((\"enter the target value\")))\n",
        "\n",
        "index = linear_search(data,target)\n",
        "\n",
        "if index!=-1:\n",
        "  print(f\"Target {target} found at index {index}\")\n",
        "else:\n",
        "  print(f\"Target {target} not found\")"
      ],
      "metadata": {
        "colab": {
          "base_uri": "https://localhost:8080/"
        },
        "id": "K55PwUXd68iC",
        "outputId": "f77ebbaa-36dc-49c8-da5e-2742359fcb97"
      },
      "execution_count": 7,
      "outputs": [
        {
          "output_type": "stream",
          "name": "stdout",
          "text": [
            "enter the values separated by space[1,2,3,4,5]\n",
            "enter the target value2\n",
            "Target 2 found at index 1\n"
          ]
        }
      ]
    },
    {
      "cell_type": "code",
      "source": [
        "def recursion_linear_search(arr,target,start_idx=0):\n",
        "  if start_idx>len(arr):\n",
        "    return -1\n",
        "  if arr[start_idx] == target:\n",
        "    return start_idx\n",
        "  return recursion_linear_search(arr,target,start_idx+1)\n",
        "\n",
        "arr = eval(input(\"enter the elements\"))\n",
        "target = int(input(\"enter the elements\"))\n",
        "result = recursion_linear_search(arr,target)\n",
        "\n",
        "if result != -1:\n",
        "  print(f\"Target element {target} found at index {result}\")\n",
        "else:\n",
        "  print(\"not found\")"
      ],
      "metadata": {
        "colab": {
          "base_uri": "https://localhost:8080/"
        },
        "id": "uFlkLMU8-Vq5",
        "outputId": "31e16b3d-f625-4134-b445-bb97cb3e1eed"
      },
      "execution_count": 8,
      "outputs": [
        {
          "output_type": "stream",
          "name": "stdout",
          "text": [
            "enter the elements[1,2,3,4,5]\n",
            "enter the elements2\n",
            "Target element 2 found at index 1\n"
          ]
        }
      ]
    },
    {
      "cell_type": "markdown",
      "source": [
        "## **Binary search**"
      ],
      "metadata": {
        "id": "A3Wvz-_Fewq2"
      }
    },
    {
      "cell_type": "code",
      "source": [
        "def binary_search(data,target):\n",
        "  left = 0\n",
        "  right = len(data)-1\n",
        "  while left<=right:\n",
        "    mid = (left+right)//2\n",
        "    if data[mid]==target:\n",
        "      return mid\n",
        "    elif data[mid]<target:\n",
        "      left = mid + 1\n",
        "    else:\n",
        "      right = mid - 1\n",
        "  return -1\n",
        "\n",
        "data = eval(input(\"enter the values\"))\n",
        "target = int(input(\"enter the value\"))\n",
        "result = binary_search(data,target)\n",
        "\n",
        "if result!=-1:\n",
        "  print(f\"Target element {target} found at index no {result}\")\n",
        "else:\n",
        "  print(f\"Target value not found\")"
      ],
      "metadata": {
        "colab": {
          "base_uri": "https://localhost:8080/"
        },
        "id": "Ps9rj6n9dl9G",
        "outputId": "8116ef7d-11f1-44cf-e581-b79c179ee1fd"
      },
      "execution_count": 1,
      "outputs": [
        {
          "output_type": "stream",
          "name": "stdout",
          "text": [
            "enter the values[1,2,3,4,5]\n",
            "enter the value5\n",
            "Target element 5 found at index no 4\n"
          ]
        }
      ]
    },
    {
      "cell_type": "markdown",
      "source": [
        "Leap year"
      ],
      "metadata": {
        "id": "upj61K9Kno_9"
      }
    },
    {
      "cell_type": "code",
      "source": [
        "def is_leap_year(year):\n",
        "  return (year%4==0 and year %100 !=0) or (year % 400 ==0)\n",
        "\n",
        "year_to_check = int(input())\n",
        "result= is_leap_year(year_to_check)\n",
        "print(f\"The year {year_to_check} is a leap year : {result}\")"
      ],
      "metadata": {
        "colab": {
          "base_uri": "https://localhost:8080/"
        },
        "id": "28M4KSmtnqjV",
        "outputId": "b12c3510-90e6-4839-cf45-14f45872d5fe"
      },
      "execution_count": 32,
      "outputs": [
        {
          "output_type": "stream",
          "name": "stdout",
          "text": [
            "2024\n",
            "The year 2024 is a leap year : True\n"
          ]
        }
      ]
    },
    {
      "cell_type": "markdown",
      "source": [
        "# **Reverse a number**"
      ],
      "metadata": {
        "id": "jUwJbtzPp45F"
      }
    },
    {
      "cell_type": "code",
      "source": [
        "def reverse_number(number):\n",
        "  original_number = number\n",
        "  reverse = 0\n",
        "\n",
        "  for num in str(number):\n",
        "    digit = number%10\n",
        "    reverse = reverse*10 + digit\n",
        "    number//=10\n",
        "  print(f\"Original number: {original_number}\")\n",
        "  print(f\"Reverse: {reverse}\")\n",
        "\n",
        "reverse = 7894\n",
        "reverse_number(reverse)"
      ],
      "metadata": {
        "colab": {
          "base_uri": "https://localhost:8080/"
        },
        "id": "WsvQ7DiWp4dr",
        "outputId": "871fe4ff-4318-4374-b38a-5ba146ff07c1"
      },
      "execution_count": 34,
      "outputs": [
        {
          "output_type": "stream",
          "name": "stdout",
          "text": [
            "Original number: 7894\n",
            "Reverse: 4987\n"
          ]
        }
      ]
    },
    {
      "cell_type": "markdown",
      "source": [
        "## **USING SLICING**"
      ],
      "metadata": {
        "id": "Y_cRRzpprr9Z"
      }
    },
    {
      "cell_type": "code",
      "source": [
        "def reverse_number(number):\n",
        "  num_list = list(str(number))\n",
        "  reversed_num = int(''.join(num_list[::-1]))\n",
        "  return reversed_num\n",
        "\n",
        "original_num = 1234\n",
        "reverse_number(original_num)"
      ],
      "metadata": {
        "colab": {
          "base_uri": "https://localhost:8080/"
        },
        "id": "F5AHeVn3p4cm",
        "outputId": "52065b81-9b73-4c66-8219-a785b0bf1ddd"
      },
      "execution_count": 35,
      "outputs": [
        {
          "output_type": "execute_result",
          "data": {
            "text/plain": [
              "4321"
            ]
          },
          "metadata": {},
          "execution_count": 35
        }
      ]
    },
    {
      "cell_type": "markdown",
      "source": [
        "## **GCD**"
      ],
      "metadata": {
        "id": "iEIB0u9ktWLE"
      }
    },
    {
      "cell_type": "code",
      "source": [
        "def computeGcd(x,y):\n",
        "  if x>y:\n",
        "    small = y\n",
        "  else:\n",
        "    small = x\n",
        "  for i in range(1,small+1):\n",
        "    if ((x%i==0)and(y%i==0)):\n",
        "      gcd= i\n",
        "  return gcd\n"
      ],
      "metadata": {
        "id": "rbctRkGUtXJ8"
      },
      "execution_count": 36,
      "outputs": []
    },
    {
      "cell_type": "code",
      "source": [
        "x=60\n",
        "y=48\n",
        "computeGcd(x,y)"
      ],
      "metadata": {
        "colab": {
          "base_uri": "https://localhost:8080/"
        },
        "id": "Rp_TSvYit0qV",
        "outputId": "93525074-48a1-4e49-880b-20bb32924ff3"
      },
      "execution_count": 37,
      "outputs": [
        {
          "output_type": "execute_result",
          "data": {
            "text/plain": [
              "12"
            ]
          },
          "metadata": {},
          "execution_count": 37
        }
      ]
    },
    {
      "cell_type": "code",
      "source": [
        "def hcfnaive(a,b):\n",
        "  if (b==0):\n",
        "    return abs(a)\n",
        "  else:\n",
        "    return hcfnaive(b,a%b)"
      ],
      "metadata": {
        "id": "5YIGfEjit7LB"
      },
      "execution_count": 38,
      "outputs": []
    },
    {
      "cell_type": "code",
      "source": [
        "hcfnaive(60,120)"
      ],
      "metadata": {
        "colab": {
          "base_uri": "https://localhost:8080/"
        },
        "id": "uK2Z4zn7uMS2",
        "outputId": "d4ab23e1-030f-4ed2-b797-840a24e138c9"
      },
      "execution_count": 39,
      "outputs": [
        {
          "output_type": "execute_result",
          "data": {
            "text/plain": [
              "60"
            ]
          },
          "metadata": {},
          "execution_count": 39
        }
      ]
    },
    {
      "cell_type": "code",
      "source": [],
      "metadata": {
        "id": "zdCVjtUSuPU7"
      },
      "execution_count": null,
      "outputs": []
    }
  ]
}