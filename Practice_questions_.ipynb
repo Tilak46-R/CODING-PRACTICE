{
  "nbformat": 4,
  "nbformat_minor": 0,
  "metadata": {
    "colab": {
      "provenance": [],
      "authorship_tag": "ABX9TyMxN8V0BsdMCubCZxVdBOmQ",
      "include_colab_link": true
    },
    "kernelspec": {
      "name": "python3",
      "display_name": "Python 3"
    },
    "language_info": {
      "name": "python"
    }
  },
  "cells": [
    {
      "cell_type": "markdown",
      "metadata": {
        "id": "view-in-github",
        "colab_type": "text"
      },
      "source": [
        "<a href=\"https://colab.research.google.com/github/Tilak46-R/CODING-PRACTICE/blob/main/Practice_questions_.ipynb\" target=\"_parent\"><img src=\"https://colab.research.google.com/assets/colab-badge.svg\" alt=\"Open In Colab\"/></a>"
      ]
    },
    {
      "cell_type": "code",
      "execution_count": null,
      "metadata": {
        "colab": {
          "base_uri": "https://localhost:8080/"
        },
        "id": "uP8RjeAAeJJL",
        "outputId": "b9d12cc7-bb83-40f4-e77b-756556172338"
      },
      "outputs": [
        {
          "output_type": "stream",
          "name": "stdout",
          "text": [
            "#####\n",
            "#   #\n",
            "#   #\n",
            "#   #\n",
            "#####\n"
          ]
        }
      ],
      "source": [
        "s = 5\n",
        "\n",
        "for i in range(s):\n",
        "  for j in range(s):\n",
        "    if i == 0 or i == s - 1 or j == 0 or j == s-1:\n",
        "      print(\"#\",end = \"\")\n",
        "    else:\n",
        "      print(\" \",end=\"\")\n",
        "  print()"
      ]
    },
    {
      "cell_type": "code",
      "source": [
        "s = 5\n",
        "\n",
        "for i in range(s):\n",
        "  for j in range(s):\n",
        "    if i ==0 or i == s- 1 or j == 0 or j == s-1:\n",
        "      print(\"#\",end=\"\")\n",
        "    else:\n",
        "      print(\" \",end=\"\")\n",
        "  print()\n",
        "\n"
      ],
      "metadata": {
        "colab": {
          "base_uri": "https://localhost:8080/"
        },
        "id": "7HQkYEKiGijf",
        "outputId": "17fab8d7-5380-4094-d91b-024c4aff156e"
      },
      "execution_count": 2,
      "outputs": [
        {
          "output_type": "stream",
          "name": "stdout",
          "text": [
            "#####\n",
            "#   #\n",
            "#   #\n",
            "#   #\n",
            "#####\n"
          ]
        }
      ]
    },
    {
      "cell_type": "code",
      "source": [
        "s = 10\n",
        "\n",
        "for i in range(s):\n",
        "  for j in range(s):\n",
        "    if i == 0 or i == s-1 or j == 0 or j == s- 1 or  i == j  or i + j == s-1:\n",
        "      print(\"#\",end=\"\")\n",
        "    else:\n",
        "      print(\" \",end=\"\")\n",
        "  print()\n",
        "\n"
      ],
      "metadata": {
        "colab": {
          "base_uri": "https://localhost:8080/"
        },
        "id": "f7vF12MOHGnN",
        "outputId": "9a7e714f-1bf0-4e07-88ee-cda22a4cf5d6"
      },
      "execution_count": 8,
      "outputs": [
        {
          "output_type": "stream",
          "name": "stdout",
          "text": [
            "##########\n",
            "##      ##\n",
            "# #    # #\n",
            "#  #  #  #\n",
            "#   ##   #\n",
            "#   ##   #\n",
            "#  #  #  #\n",
            "# #    # #\n",
            "##      ##\n",
            "##########\n"
          ]
        }
      ]
    },
    {
      "cell_type": "code",
      "source": [
        "s = 5\n",
        "\n",
        "for i in range(1,s+1):\n",
        "  for j in range(1,i+1):\n",
        "    print(\"2\",end=\"\")\n",
        "  print()"
      ],
      "metadata": {
        "colab": {
          "base_uri": "https://localhost:8080/"
        },
        "id": "r8B2FVqbJ0Zj",
        "outputId": "542e9980-205c-480e-defa-c028d26995e9"
      },
      "execution_count": 9,
      "outputs": [
        {
          "output_type": "stream",
          "name": "stdout",
          "text": [
            "2\n",
            "22\n",
            "222\n",
            "2222\n",
            "22222\n"
          ]
        }
      ]
    },
    {
      "cell_type": "code",
      "source": [
        "s = 5\n",
        "\n",
        "for i in range(s):\n",
        "  for j in range(s-i):\n",
        "    print(\"2\",end=\"\")\n",
        "  print()"
      ],
      "metadata": {
        "colab": {
          "base_uri": "https://localhost:8080/"
        },
        "id": "I3p4JVyHKHAD",
        "outputId": "0d4e87af-0a9b-483b-eb19-cb6f9b4d6596"
      },
      "execution_count": 11,
      "outputs": [
        {
          "output_type": "stream",
          "name": "stdout",
          "text": [
            "22222\n",
            "2222\n",
            "222\n",
            "22\n",
            "2\n"
          ]
        }
      ]
    },
    {
      "cell_type": "code",
      "source": [
        "s = 6\n",
        "\n",
        "for i in range(1,s+1):\n",
        "  print(\" \" * (s-i) + \"*\" * i)"
      ],
      "metadata": {
        "colab": {
          "base_uri": "https://localhost:8080/"
        },
        "id": "raA7Kmb3KoRq",
        "outputId": "92f1dc72-3057-407f-cb96-8f4fe7b0b655"
      },
      "execution_count": 14,
      "outputs": [
        {
          "output_type": "stream",
          "name": "stdout",
          "text": [
            "     *\n",
            "    **\n",
            "   ***\n",
            "  ****\n",
            " *****\n",
            "******\n"
          ]
        }
      ]
    },
    {
      "cell_type": "code",
      "source": [
        "s = 6\n",
        "\n",
        "for i in range(s):\n",
        "  for j in range(i+1):\n",
        "    print(chr(j + 65),end=\"\")\n",
        "  print()"
      ],
      "metadata": {
        "colab": {
          "base_uri": "https://localhost:8080/"
        },
        "id": "vzCktp0vK-TG",
        "outputId": "b65b7bfa-9787-4088-b9ba-fd2a1fe4c9c9"
      },
      "execution_count": 15,
      "outputs": [
        {
          "output_type": "stream",
          "name": "stdout",
          "text": [
            "A\n",
            "AB\n",
            "ABC\n",
            "ABCD\n",
            "ABCDE\n",
            "ABCDEF\n"
          ]
        }
      ]
    },
    {
      "cell_type": "code",
      "source": [
        "s = 6\n",
        "\n",
        "for i in range(s):\n",
        "  for j in range(s-i):\n",
        "    print(chr(j + 65),end=\"\")\n",
        "  print()"
      ],
      "metadata": {
        "colab": {
          "base_uri": "https://localhost:8080/"
        },
        "id": "XRF2VQayMTf1",
        "outputId": "9c03c90c-a81e-418d-b23b-ead0ad381d39"
      },
      "execution_count": 17,
      "outputs": [
        {
          "output_type": "stream",
          "name": "stdout",
          "text": [
            "ABCDEF\n",
            "ABCDE\n",
            "ABCD\n",
            "ABC\n",
            "AB\n",
            "A\n"
          ]
        }
      ]
    },
    {
      "cell_type": "code",
      "source": [
        "s = 6\n",
        "\n",
        "for i in range(s):\n",
        "  for j in range(s-i):\n",
        "    if i %2 == 0 or j % 2 == 0:\n",
        "      print(\"2\",end=\"\")\n",
        "    else:\n",
        "      print(chr(j + 65),end=\"\")\n",
        "  print()"
      ],
      "metadata": {
        "colab": {
          "base_uri": "https://localhost:8080/"
        },
        "id": "9mbPgZP6Mgl8",
        "outputId": "5df81f11-f622-4487-9127-26d0ebb5bad3"
      },
      "execution_count": 22,
      "outputs": [
        {
          "output_type": "stream",
          "name": "stdout",
          "text": [
            "222222\n",
            "2B2D2\n",
            "2222\n",
            "2B2\n",
            "22\n",
            "2\n"
          ]
        }
      ]
    },
    {
      "cell_type": "code",
      "source": [],
      "metadata": {
        "id": "f_jqilhWNSw7"
      },
      "execution_count": null,
      "outputs": []
    },
    {
      "cell_type": "code",
      "source": [
        "s = 5\n",
        "\n",
        "for i in range(s):\n",
        "  for j in range(s-i):\n",
        "    print(\"*\",end=\"\")\n",
        "  print()"
      ],
      "metadata": {
        "colab": {
          "base_uri": "https://localhost:8080/"
        },
        "id": "iYOGPF52z4IR",
        "outputId": "2fdb68c3-0204-45d7-d481-11dc702c7d13"
      },
      "execution_count": null,
      "outputs": [
        {
          "output_type": "stream",
          "name": "stdout",
          "text": [
            "*****\n",
            "****\n",
            "***\n",
            "**\n",
            "*\n"
          ]
        }
      ]
    },
    {
      "cell_type": "code",
      "source": [
        "s = 5\n",
        "\n",
        "for i in range(s):\n",
        "  print(\" \"*(s-i) + \"*\" * (2*i+1))\n",
        "\n",
        "for i in range(s-2,-1,-1):\n",
        "   print(\" \"*(s-i) + \"*\" * (2*i+1))\n"
      ],
      "metadata": {
        "colab": {
          "base_uri": "https://localhost:8080/"
        },
        "id": "3T4FTLiGNZIG",
        "outputId": "ea2762aa-7de9-45ca-e16e-6f8efadc7001"
      },
      "execution_count": 31,
      "outputs": [
        {
          "output_type": "stream",
          "name": "stdout",
          "text": [
            "     *\n",
            "    ***\n",
            "   *****\n",
            "  *******\n",
            " *********\n",
            "  *******\n",
            "   *****\n",
            "    ***\n",
            "     *\n"
          ]
        }
      ]
    },
    {
      "cell_type": "code",
      "source": [
        "s = 5\n",
        "\n",
        "for i in range(1,s+1):\n",
        "  print(\" \"*(s-i) + \"*\"*i)\n",
        "for i in range(s):\n",
        "  for j in range(s-i):\n",
        "    print(\"*\",end=\"\")\n",
        "  print()"
      ],
      "metadata": {
        "colab": {
          "base_uri": "https://localhost:8080/"
        },
        "id": "AfzOqQek0M4N",
        "outputId": "e051b983-177d-4f9f-86cb-2bca160e684b"
      },
      "execution_count": null,
      "outputs": [
        {
          "output_type": "stream",
          "name": "stdout",
          "text": [
            "    *\n",
            "   **\n",
            "  ***\n",
            " ****\n",
            "*****\n",
            "*****\n",
            "****\n",
            "***\n",
            "**\n",
            "*\n"
          ]
        }
      ]
    },
    {
      "cell_type": "markdown",
      "source": [
        "where i and j are rows and columns\n",
        "i == 0 means first row and j == 0 means first column\n",
        "i == s-1 means last row and j == s-1 means last column\n",
        "hence it prints the hollow square"
      ],
      "metadata": {
        "id": "jmQ5dJyzf5AF"
      }
    },
    {
      "cell_type": "code",
      "source": [
        "s = 5\n",
        "\n",
        "for i in range(s):\n",
        "  for j in range(s):\n",
        "    print(\"*\",end=\"\")\n",
        "  print()"
      ],
      "metadata": {
        "colab": {
          "base_uri": "https://localhost:8080/"
        },
        "id": "u7Xy_zogGqxl",
        "outputId": "26aba6c4-7d75-47c4-e8d8-7da78cf4d66b"
      },
      "execution_count": null,
      "outputs": [
        {
          "output_type": "stream",
          "name": "stdout",
          "text": [
            "*****\n",
            "*****\n",
            "*****\n",
            "*****\n",
            "*****\n"
          ]
        }
      ]
    },
    {
      "cell_type": "code",
      "source": [
        "s = 5\n",
        "\n",
        "for i in range(s):\n",
        "  for j in range(s):\n",
        "    if i == 0 or i == s-1 or j == 0 or j== s-1:\n",
        "      print(\"*\",end=\"\")\n",
        "    else:\n",
        "      print(\" \",end=\"\")\n",
        "  print()"
      ],
      "metadata": {
        "colab": {
          "base_uri": "https://localhost:8080/"
        },
        "id": "KEzlXAyaG0z7",
        "outputId": "2e10069d-e173-441d-955f-0d64513537c5"
      },
      "execution_count": null,
      "outputs": [
        {
          "output_type": "stream",
          "name": "stdout",
          "text": [
            "*****\n",
            "*   *\n",
            "*   *\n",
            "*   *\n",
            "*****\n"
          ]
        }
      ]
    },
    {
      "cell_type": "code",
      "source": [
        "s = 5\n",
        "\n",
        "for i in range(s):\n",
        "  for j in range(s):\n",
        "    if i == 0 or i == s-1 or j == 0 or j == s-1 or i == j or i + j == s-1:\n",
        "      print(\"*\",end=\"\")\n",
        "    else:\n",
        "      print(\" \",end=\"\")\n",
        "  print()\n",
        "\n"
      ],
      "metadata": {
        "colab": {
          "base_uri": "https://localhost:8080/"
        },
        "id": "Sf1z8XknHOz2",
        "outputId": "8a5d4610-8776-452e-d47f-0ad20a96ca9d"
      },
      "execution_count": null,
      "outputs": [
        {
          "output_type": "stream",
          "name": "stdout",
          "text": [
            "*****\n",
            "** **\n",
            "* * *\n",
            "** **\n",
            "*****\n"
          ]
        }
      ]
    },
    {
      "cell_type": "code",
      "source": [
        "s = 10\n",
        "\n",
        "for i in range(s):\n",
        "  for j in range(s):\n",
        "    if i == 0 or i == s-1 or j == 0 or j == s-1 or i==j or i+j==s-1:\n",
        "      print('*',end=\"\")\n",
        "    else:\n",
        "      print(\" \",end=\"\")\n",
        "  print()\n"
      ],
      "metadata": {
        "colab": {
          "base_uri": "https://localhost:8080/"
        },
        "id": "PBgv43ederu2",
        "outputId": "6a9c0846-fcc0-47f7-b205-4f17ed87993b"
      },
      "execution_count": null,
      "outputs": [
        {
          "output_type": "stream",
          "name": "stdout",
          "text": [
            "**********\n",
            "**      **\n",
            "* *    * *\n",
            "*  *  *  *\n",
            "*   **   *\n",
            "*   **   *\n",
            "*  *  *  *\n",
            "* *    * *\n",
            "**      **\n",
            "**********\n"
          ]
        }
      ]
    },
    {
      "cell_type": "code",
      "source": [
        "s = 6\n",
        "\n",
        "for i in range(s):\n",
        "  for j in range(s):\n",
        "    if i == j or i + j == s-1:\n",
        "      print(\"*\",end=\"\")\n",
        "    else:\n",
        "      print(\" \",end=\"\")\n",
        "  print()"
      ],
      "metadata": {
        "colab": {
          "base_uri": "https://localhost:8080/"
        },
        "id": "_EfFh6WYhgHC",
        "outputId": "354ddc31-e02a-4ffc-fddc-e087c6d63837"
      },
      "execution_count": null,
      "outputs": [
        {
          "output_type": "stream",
          "name": "stdout",
          "text": [
            "*    *\n",
            " *  * \n",
            "  **  \n",
            "  **  \n",
            " *  * \n",
            "*    *\n"
          ]
        }
      ]
    },
    {
      "cell_type": "code",
      "source": [
        "s = 11\n",
        "\n",
        "for i in range(s):\n",
        "  for j in range(s):\n",
        "    if i == 0 or i == s-1 or j == 0 or j == s-1 or i==s//2 or j==s//2:\n",
        "      print('*',end=\"\")\n",
        "    else:\n",
        "      print(\" \",end=\"\")\n",
        "  print()"
      ],
      "metadata": {
        "colab": {
          "base_uri": "https://localhost:8080/"
        },
        "id": "saZIqPRtgoWY",
        "outputId": "aa03fc5e-4d90-4c94-9af0-43c917c7c0b3"
      },
      "execution_count": null,
      "outputs": [
        {
          "output_type": "stream",
          "name": "stdout",
          "text": [
            "***********\n",
            "*    *    *\n",
            "*    *    *\n",
            "*    *    *\n",
            "*    *    *\n",
            "***********\n",
            "*    *    *\n",
            "*    *    *\n",
            "*    *    *\n",
            "*    *    *\n",
            "***********\n"
          ]
        }
      ]
    },
    {
      "cell_type": "code",
      "source": [
        "s = 11\n",
        "for i in range(s):\n",
        "  for j in range(s):\n",
        "    if i == s//2 or j == s//2:\n",
        "      print(\"*\",end=\"\")\n",
        "    else:\n",
        "      print(\" \",end=\"\")\n",
        "  print()"
      ],
      "metadata": {
        "colab": {
          "base_uri": "https://localhost:8080/"
        },
        "id": "-OjHoBwph4ja",
        "outputId": "dc9c4d56-fad9-4317-d7c2-5d14c9f9b95d"
      },
      "execution_count": null,
      "outputs": [
        {
          "output_type": "stream",
          "name": "stdout",
          "text": [
            "     *     \n",
            "     *     \n",
            "     *     \n",
            "     *     \n",
            "     *     \n",
            "***********\n",
            "     *     \n",
            "     *     \n",
            "     *     \n",
            "     *     \n",
            "     *     \n"
          ]
        }
      ]
    },
    {
      "cell_type": "markdown",
      "source": [
        "for i == 5 and 11//2  is  5 , we get the same answer hence it matches so it prints a pattern"
      ],
      "metadata": {
        "id": "x7sLojIii2mH"
      }
    },
    {
      "cell_type": "code",
      "source": [
        "def ones(nums):\n",
        "  count = 0\n",
        "  max_count = 0\n",
        "\n",
        "  for num in nums:\n",
        "    if num == 1:\n",
        "      count+=1\n",
        "    else:\n",
        "      count=0\n",
        "    max_count = max(count,max_count)\n",
        "  return max_count\n",
        "\n",
        "nums = [1,1,1,5,5,5]\n",
        "ones(nums)"
      ],
      "metadata": {
        "colab": {
          "base_uri": "https://localhost:8080/"
        },
        "id": "qNYd41Z1iGmN",
        "outputId": "0fdce86d-511d-4e0b-87c6-23fff466c1bf"
      },
      "execution_count": null,
      "outputs": [
        {
          "output_type": "execute_result",
          "data": {
            "text/plain": [
              "3"
            ]
          },
          "metadata": {},
          "execution_count": 17
        }
      ]
    },
    {
      "cell_type": "code",
      "source": [
        "def attendance(s):\n",
        "\n",
        "  if s.count('A')>2:\n",
        "    return False\n",
        "  elif 'LLL' in s:\n",
        "    return False\n",
        "  return True\n",
        "\n",
        "s = 'PPPAALLL'\n",
        "attendance(s)"
      ],
      "metadata": {
        "colab": {
          "base_uri": "https://localhost:8080/"
        },
        "id": "guBo-P0yjo3C",
        "outputId": "f3cab7a8-412b-41c8-d4f4-9f9e3e14de01"
      },
      "execution_count": null,
      "outputs": [
        {
          "output_type": "execute_result",
          "data": {
            "text/plain": [
              "False"
            ]
          },
          "metadata": {},
          "execution_count": 18
        }
      ]
    },
    {
      "cell_type": "code",
      "source": [
        "def reverse(s,k):\n",
        "  s = list(s)\n",
        "\n",
        "  for i in range(0,len(s),k):\n",
        "    s[i:i+k] = reversed(s[i:i+k])\n",
        "  return ''.join(s)\n",
        "\n",
        "s =  \"abababababababababababab\"\n",
        "k = 5\n",
        "reverse(s,k)"
      ],
      "metadata": {
        "colab": {
          "base_uri": "https://localhost:8080/",
          "height": 36
        },
        "id": "CxYErky2keG2",
        "outputId": "40a919f2-5883-4262-ac4d-94a98fb02ca9"
      },
      "execution_count": null,
      "outputs": [
        {
          "output_type": "execute_result",
          "data": {
            "text/plain": [
              "'ababababababababababbaba'"
            ],
            "application/vnd.google.colaboratory.intrinsic+json": {
              "type": "string"
            }
          },
          "metadata": {},
          "execution_count": 19
        }
      ]
    },
    {
      "cell_type": "code",
      "source": [
        "def rev(s,k):\n",
        "  s = list(s)\n",
        "\n",
        "  for i in range(0,len(s),2*k):\n",
        "    s[i:i+k]= reversed(s[i:i+k])\n",
        "  return ''.join(s)\n",
        "\n",
        "s =  \"abababababababababababab\"\n",
        "k = 5\n",
        "reverse(s,k)"
      ],
      "metadata": {
        "colab": {
          "base_uri": "https://localhost:8080/",
          "height": 36
        },
        "id": "IKuLA1GUx1A6",
        "outputId": "f8ef7a51-da1d-4433-b249-f2e7575c2aef"
      },
      "execution_count": null,
      "outputs": [
        {
          "output_type": "execute_result",
          "data": {
            "text/plain": [
              "'ababababababababababbaba'"
            ],
            "application/vnd.google.colaboratory.intrinsic+json": {
              "type": "string"
            }
          },
          "metadata": {},
          "execution_count": 20
        }
      ]
    },
    {
      "cell_type": "code",
      "source": [
        "ss = \"abababababababababababab\"\n",
        "k = 5\n",
        "print(reverse(ss,k))"
      ],
      "metadata": {
        "colab": {
          "base_uri": "https://localhost:8080/"
        },
        "id": "VCifC18ku0bu",
        "outputId": "055e46d4-d0b1-425e-ec0e-c98adf2612ac"
      },
      "execution_count": null,
      "outputs": [
        {
          "output_type": "stream",
          "name": "stdout",
          "text": [
            "ababababababababababbaba\n"
          ]
        }
      ]
    },
    {
      "cell_type": "code",
      "source": [
        "#00,5,10,15,20\n",
        "\n",
        "#a,b,b,a,b\n",
        "\n",
        "m = \"baabaabbabbaabaabbabbabab\"\n",
        "len(m)"
      ],
      "metadata": {
        "colab": {
          "base_uri": "https://localhost:8080/"
        },
        "id": "YvXs-cU0wcR1",
        "outputId": "9767f6d0-0f07-42c0-cf54-e4d91a9f6244"
      },
      "execution_count": null,
      "outputs": [
        {
          "output_type": "execute_result",
          "data": {
            "text/plain": [
              "25"
            ]
          },
          "metadata": {},
          "execution_count": 15
        }
      ]
    },
    {
      "cell_type": "code",
      "source": [
        "len(ss)"
      ],
      "metadata": {
        "colab": {
          "base_uri": "https://localhost:8080/"
        },
        "id": "xHyTrNrtwKuB",
        "outputId": "f2e4c6b2-f8ce-4bd1-ada8-ce21b191636c"
      },
      "execution_count": null,
      "outputs": [
        {
          "output_type": "execute_result",
          "data": {
            "text/plain": [
              "24"
            ]
          },
          "metadata": {},
          "execution_count": 13
        }
      ]
    },
    {
      "cell_type": "markdown",
      "source": [
        "Given a string s,\n",
        "return true if the s can be palindrome after deleting at most one character from it.\n",
        "\n",
        "\n",
        "Example 1:\n",
        "Input: s = \"aba\"\n",
        "Output: true\n",
        "\n",
        "Example 2:\n",
        "Input: s = \"abca\"\n",
        "Output: true\n",
        "Explanation: You could delete the character 'c'.\n",
        "\n",
        "Example 3:\n",
        "Input: s = \"abc\"\n",
        "Output: false\n",
        "\n",
        "\n",
        "Constraints:\n",
        "1 <= s.length <= 1000\n",
        "s consists of lowercase English letters."
      ],
      "metadata": {
        "id": "UlbNKmNZll3T"
      }
    },
    {
      "cell_type": "code",
      "source": [
        "def palindrome(s):\n",
        "  left,right = 0 , len(s)-1\n",
        "\n",
        "  while left<right:\n",
        "    if s[left] != s[right]:\n",
        "      return s[left:right] == s[left:right][::-1] or s[left+1:right+1] == s[left+1 : right+1][::-1]\n",
        "    left += 1\n",
        "    right -=1\n",
        "  return True\n",
        "\n",
        "s = 'aba'\n",
        "print(palindrome(s))"
      ],
      "metadata": {
        "colab": {
          "base_uri": "https://localhost:8080/"
        },
        "id": "ZK-hGdUWk9dY",
        "outputId": "7014cc6a-2dc4-483c-ffc4-c70dba70ad02"
      },
      "execution_count": null,
      "outputs": [
        {
          "output_type": "stream",
          "name": "stdout",
          "text": [
            "True\n"
          ]
        }
      ]
    },
    {
      "cell_type": "markdown",
      "source": [
        "Write a function that reverses a string. The input string is given as an array of characters s.\n",
        "\n",
        "You must do this by modifying the input array in-place with O(1) extra memory.\n",
        "\n",
        "Example 1:\n",
        "\n",
        "Input: s = [\"h\",\"e\",\"l\",\"l\",\"o\"]\n",
        "\n",
        "Output: [\"o\",\"l\",\"l\",\"e\",\"h\"]\n",
        "\n",
        "Example 2:\n",
        "\n",
        "Input: s = [\"H\",\"a\",\"n\",\"n\",\"a\",\"h\"]\n",
        "\n",
        "Output: [\"h\",\"a\",\"n\",\"n\",\"a\",\"H\"]"
      ],
      "metadata": {
        "id": "36KmAf13n3Wz"
      }
    },
    {
      "cell_type": "code",
      "source": [
        "def rev(s):\n",
        "  left,right = 0,len(s)-1\n",
        "\n",
        "  while left<right:\n",
        "    s[left],s[right] = s[right],s[left]\n",
        "    left +=1\n",
        "    right -=1\n",
        "  return s\n",
        "\n",
        "s = [\"H\",\"a\",\"n\",\"n\",\"a\",\"h\"]\n",
        "rev(s)"
      ],
      "metadata": {
        "colab": {
          "base_uri": "https://localhost:8080/"
        },
        "id": "Ktoy7LoPn_2t",
        "outputId": "45c228c2-4b13-4463-ef28-fd3bf5371d2a"
      },
      "execution_count": null,
      "outputs": [
        {
          "output_type": "execute_result",
          "data": {
            "text/plain": [
              "['h', 'a', 'n', 'n', 'a', 'H']"
            ]
          },
          "metadata": {},
          "execution_count": 23
        }
      ]
    },
    {
      "cell_type": "markdown",
      "source": [
        "\n",
        "You are given two strings word1 and word2. Merge the strings by adding letters in alternating order, starting with word1. If a string is longer than the other, append the additional letters onto the end of the merged string."
      ],
      "metadata": {
        "id": "_KLqrRebojZM"
      }
    },
    {
      "cell_type": "code",
      "source": [
        "def merge_string(word1,word2):\n",
        "  merged = []\n",
        "\n",
        "  i,j =0,0\n",
        "\n",
        "  while i < len(word1) or j < len(word2):\n",
        "    if i <len(word1):\n",
        "      merged.append(word1[i])\n",
        "      i+=1\n",
        "    if j < len(word2):\n",
        "      merged.append(word2[j])\n",
        "      j+=1\n",
        "\n",
        "  return ''.join(merged)\n",
        "\n",
        "\n",
        "word1 = 'abc'\n",
        "word2 = 'pqr'\n",
        "merge_string(word1,word2)"
      ],
      "metadata": {
        "id": "jjymUhe3oitB"
      },
      "execution_count": null,
      "outputs": []
    },
    {
      "cell_type": "markdown",
      "source": [
        "Input: s = \"2-5g-3-J\", k = 2\n",
        "Output: \"2-5G-3J\"\n",
        "Explanation: The string s has been split into three parts, each part has 2 characters except the first part as it could be shorter as mentioned above."
      ],
      "metadata": {
        "id": "BkaR96fio9eL"
      }
    },
    {
      "cell_type": "code",
      "source": [
        "def licenseKeyFormatting(s: str, k: int) -> str:\n",
        "    # Remove all dashes and convert to uppercase\n",
        "    s = s.replace('-', '').upper()\n",
        "\n",
        "    # Create the result starting from the end and group every k characters\n",
        "    result = []\n",
        "    for i in range(len(s)):\n",
        "        if i > 0 and (len(s) - i) % k == 0:\n",
        "            result.append('-')\n",
        "        result.append(s[i])\n",
        "\n",
        "    # Join the result list into a string and return\n",
        "    return ''.join(result)\n",
        "\n",
        "# Example usage\n",
        "s = \"2-5g-3-J\"\n",
        "k = 2\n",
        "print(licenseKeyFormatting(s, k))  # Output: \"2-5G-3J\""
      ],
      "metadata": {
        "id": "vMv_LLhIo1nS"
      },
      "execution_count": null,
      "outputs": []
    },
    {
      "cell_type": "code",
      "source": [
        "def remove(s,k):\n",
        "  s = s.replace('-','').upper()\n",
        "\n",
        "  result = []\n",
        "\n",
        "  for i in range(len(s)):\n",
        "    if i > 0 and (len(s)-i) % k == 0:\n",
        "      result.append('-')\n",
        "    result.append(s[i])\n",
        "  return ''.join(result)"
      ],
      "metadata": {
        "id": "Ai20yQtLydrY"
      },
      "execution_count": null,
      "outputs": []
    }
  ]
}