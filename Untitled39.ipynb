{
  "nbformat": 4,
  "nbformat_minor": 0,
  "metadata": {
    "colab": {
      "provenance": [],
      "authorship_tag": "ABX9TyP5CqM/heqZWsSFkOUirdjd",
      "include_colab_link": true
    },
    "kernelspec": {
      "name": "python3",
      "display_name": "Python 3"
    },
    "language_info": {
      "name": "python"
    }
  },
  "cells": [
    {
      "cell_type": "markdown",
      "metadata": {
        "id": "view-in-github",
        "colab_type": "text"
      },
      "source": [
        "<a href=\"https://colab.research.google.com/github/Tilak46-R/CODING-PRACTICE/blob/main/Untitled39.ipynb\" target=\"_parent\"><img src=\"https://colab.research.google.com/assets/colab-badge.svg\" alt=\"Open In Colab\"/></a>"
      ]
    },
    {
      "cell_type": "code",
      "source": [
        "n = int(input())\n",
        "\n",
        "for i in range(n):\n",
        "  for j in range(n):\n",
        "    if i == 0 or i == n-1 or j ==0 or   j == n-1:\n",
        "      print(\"#\",end=\"\")\n",
        "    else:\n",
        "      print(\" \",end=\"\")\n",
        "  print()"
      ],
      "metadata": {
        "colab": {
          "base_uri": "https://localhost:8080/"
        },
        "id": "TYfwV0zPQFhG",
        "outputId": "fe8451a6-fd9a-4048-a589-fa16ba9a5b27"
      },
      "execution_count": 5,
      "outputs": [
        {
          "output_type": "stream",
          "name": "stdout",
          "text": [
            "5\n",
            "#####\n",
            "#   #\n",
            "#   #\n",
            "#   #\n",
            "#####\n"
          ]
        }
      ]
    },
    {
      "cell_type": "markdown",
      "source": [
        "Given a binary array nums, return the maximum number of consecutive 1's in the array.\n",
        "\n",
        "Example 1:\n",
        "Input: nums = [1,1,0,1,1,1]\n",
        "Output: 3\n",
        "Explanation: The first two digits or the last three digits are consecutive 1s. The maximum number of consecutive 1s is 3.\n",
        "\n",
        "Example 2:\n",
        "Input: nums = [1,0,1,1,0,1]\n",
        "Output: 2\n",
        "\n",
        "Constraints:\n",
        "1 <= nums.length <= 10000\n",
        "nums[i] is either 0 or 1."
      ],
      "metadata": {
        "id": "IU9V62QIBYec"
      }
    },
    {
      "cell_type": "code",
      "source": [
        "nums = eval(input())\n",
        "count = 0\n",
        "for num in nums:\n",
        "  if nums[num]==nums[num+1]:\n",
        "    count+=1\n",
        "  else:\n",
        "    count+=0\n",
        "print(count)\n",
        "\n",
        "\n"
      ],
      "metadata": {
        "colab": {
          "base_uri": "https://localhost:8080/"
        },
        "id": "Okbkob0zBS5R",
        "outputId": "e4ef500f-6176-4599-afab-0e9b10e63297"
      },
      "execution_count": null,
      "outputs": [
        {
          "output_type": "stream",
          "name": "stdout",
          "text": [
            " [1,1,0,1,1,1] \n",
            "1\n"
          ]
        }
      ]
    },
    {
      "cell_type": "code",
      "source": [
        "nums = eval(input())\n",
        "count = 0\n",
        "for num in nums:\n",
        "  if num ==1:\n",
        "    count+=1\n",
        "  else:\n",
        "    count=0\n",
        "print(count)"
      ],
      "metadata": {
        "colab": {
          "base_uri": "https://localhost:8080/"
        },
        "id": "a7wlQfiKRv4m",
        "outputId": "a4b8c172-f1ae-46a2-fe02-873beee1c7b2"
      },
      "execution_count": 6,
      "outputs": [
        {
          "output_type": "stream",
          "name": "stdout",
          "text": [
            "[1,1,0,1,1,1]\n",
            "3\n"
          ]
        }
      ]
    },
    {
      "cell_type": "code",
      "source": [
        "def count_ones(ls):\n",
        "\n",
        "  counter=0\n",
        "  max_count=0\n",
        "\n",
        "  for i in ls:\n",
        "    if i==1:\n",
        "      counter+=1\n",
        "    else:\n",
        "      counter=0\n",
        "\n",
        "    max_count = max(counter,max_count)\n",
        "\n",
        "  return max_count"
      ],
      "metadata": {
        "id": "1vjva-GqD9xm"
      },
      "execution_count": null,
      "outputs": []
    },
    {
      "cell_type": "markdown",
      "source": [
        "You are given a string s representing an attendance record for a student where each character signifies whether\n",
        "the student was absent, late, or present on that day. The record only contains the following three characters:\n",
        "\n",
        "'A': Absent.\n",
        "'L': Late.\n",
        "'P': Present.\n",
        "The student is eligible for an attendance award if they meet both of the following criteria:\n",
        "\n",
        "The student was absent ('A') for strictly fewer than 2 days total.\n",
        "The student was never late ('L') for 3 or more consecutive days.\n",
        "Return true if the student is eligible for an attendance award, or false otherwise.\n",
        "\n",
        "\n",
        "\n",
        "Example 1:\n",
        "Input: s = \"PPALLP\"\n",
        "Output: true\n",
        "Explanation: The student has fewer than 2 absences and was never late 3 or more consecutive days.\n",
        "\n",
        "Example 2:\n",
        "Input: s = \"PPALLL\"\n",
        "Output: false\n",
        "Explanation: The student was late 3 consecutive days in the last 3 days, so is not eligible for the award.\n",
        "\n",
        "\n",
        "Constraints:\n",
        "\n",
        "1 <= s.length <= 1000\n",
        "s[i] is either 'A', 'L', or 'P'."
      ],
      "metadata": {
        "id": "pfNtNHZpD9lW"
      }
    },
    {
      "cell_type": "code",
      "source": [
        "def check_attendance(s):\n",
        "\n",
        "  if s.count('A')>=2:\n",
        "    return False\n",
        "  elif 'LLL' in s:\n",
        "    return False\n",
        "  return True\n",
        "\n",
        "s = \"PPALLL\"\n",
        "check_attendance(s)\n"
      ],
      "metadata": {
        "colab": {
          "base_uri": "https://localhost:8080/"
        },
        "id": "myY1ZEF4SVhW",
        "outputId": "956b622f-cecb-4a5b-83c1-311147bc38a0"
      },
      "execution_count": 9,
      "outputs": [
        {
          "output_type": "execute_result",
          "data": {
            "text/plain": [
              "False"
            ]
          },
          "metadata": {},
          "execution_count": 9
        }
      ]
    },
    {
      "cell_type": "code",
      "source": [],
      "metadata": {
        "id": "cgnd4q-8SyTe"
      },
      "execution_count": null,
      "outputs": []
    }
  ]
}