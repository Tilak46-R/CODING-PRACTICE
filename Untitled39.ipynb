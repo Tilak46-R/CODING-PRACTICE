{
  "nbformat": 4,
  "nbformat_minor": 0,
  "metadata": {
    "colab": {
      "provenance": [],
      "authorship_tag": "ABX9TyPxyUQe4TmUWkRO/sHNkqpH",
      "include_colab_link": true
    },
    "kernelspec": {
      "name": "python3",
      "display_name": "Python 3"
    },
    "language_info": {
      "name": "python"
    }
  },
  "cells": [
    {
      "cell_type": "markdown",
      "metadata": {
        "id": "view-in-github",
        "colab_type": "text"
      },
      "source": [
        "<a href=\"https://colab.research.google.com/github/Tilak46-R/CODING-PRACTICE/blob/main/Untitled39.ipynb\" target=\"_parent\"><img src=\"https://colab.research.google.com/assets/colab-badge.svg\" alt=\"Open In Colab\"/></a>"
      ]
    },
    {
      "cell_type": "markdown",
      "source": [
        "Hollow Square"
      ],
      "metadata": {
        "id": "Vln5h2pT9lnY"
      }
    },
    {
      "cell_type": "code",
      "source": [
        "n = int(input())\n",
        "\n",
        "for i in range(n):\n",
        "  for j in range(n):\n",
        "    if i == 0 or i == n-1 or j ==0 or   j == n-1:\n",
        "      print(\"#\",end=\"\")\n",
        "    else:\n",
        "      print(\" \",end=\"\")\n",
        "  print()"
      ],
      "metadata": {
        "colab": {
          "base_uri": "https://localhost:8080/"
        },
        "id": "TYfwV0zPQFhG",
        "outputId": "fe8451a6-fd9a-4048-a589-fa16ba9a5b27"
      },
      "execution_count": null,
      "outputs": [
        {
          "output_type": "stream",
          "name": "stdout",
          "text": [
            "5\n",
            "#####\n",
            "#   #\n",
            "#   #\n",
            "#   #\n",
            "#####\n"
          ]
        }
      ]
    },
    {
      "cell_type": "markdown",
      "source": [
        "Triangle"
      ],
      "metadata": {
        "id": "Tt0T10Hk9oeA"
      }
    },
    {
      "cell_type": "code",
      "source": [
        "n = int(input())\n",
        "\n",
        "for i in range(n):\n",
        "  for j in range(n):\n",
        "    if i == 0 or i == n-1 or j ==0 or j == n-1:\n",
        "      print(\"#\",end=\"\")\n",
        "    else:\n",
        "      print(\" \",end=\"\")\n",
        "  print()"
      ],
      "metadata": {
        "colab": {
          "base_uri": "https://localhost:8080/"
        },
        "id": "lN9dgWxA6jOl",
        "outputId": "3302eaf1-d3b8-4e61-d324-c126494ed3e5"
      },
      "execution_count": 1,
      "outputs": [
        {
          "output_type": "stream",
          "name": "stdout",
          "text": [
            "5\n",
            "#####\n",
            "#   #\n",
            "#   #\n",
            "#   #\n",
            "#####\n"
          ]
        }
      ]
    },
    {
      "cell_type": "markdown",
      "source": [
        "X shape"
      ],
      "metadata": {
        "id": "b44HL1729yx8"
      }
    },
    {
      "cell_type": "code",
      "source": [
        "n = int(input())\n",
        "\n",
        "for i in range(n):\n",
        "  for j in range(n):\n",
        "    if i == j  or  i + j == n-1:\n",
        "      print(\"*\",end=\"\")\n",
        "    else:\n",
        "      print(\" \",end=\"\")\n",
        "  print()"
      ],
      "metadata": {
        "colab": {
          "base_uri": "https://localhost:8080/"
        },
        "id": "P6RVzWEX648l",
        "outputId": "020425b3-bd3b-4bf3-9efc-49187ffd2480"
      },
      "execution_count": 9,
      "outputs": [
        {
          "output_type": "stream",
          "name": "stdout",
          "text": [
            "5\n",
            "*   *\n",
            " * * \n",
            "  *  \n",
            " * * \n",
            "*   *\n"
          ]
        }
      ]
    },
    {
      "cell_type": "markdown",
      "source": [
        "Triangle"
      ],
      "metadata": {
        "id": "1t80Mv9k9wwo"
      }
    },
    {
      "cell_type": "code",
      "source": [
        "n = int(input())\n",
        "\n",
        "for i in range(1,n+1):\n",
        "  for j in range(1,i+1):\n",
        "    print(\"*\",end=\"\")\n",
        "  print()\n",
        "\n"
      ],
      "metadata": {
        "colab": {
          "base_uri": "https://localhost:8080/"
        },
        "id": "9hHuT6VHl6xv",
        "outputId": "0ff9b058-4c57-413d-9b30-c6e2ec6eaa03"
      },
      "execution_count": null,
      "outputs": [
        {
          "output_type": "stream",
          "name": "stdout",
          "text": [
            "5\n",
            "*\n",
            "**\n",
            "***\n",
            "****\n",
            "*****\n"
          ]
        }
      ]
    },
    {
      "cell_type": "code",
      "source": [
        "n = int(input())\n",
        "\n",
        "for i in range(1,n+1):\n",
        "  for j in range(1,i+1):\n",
        "    print(\"*\",end=\"\")\n",
        "  print()"
      ],
      "metadata": {
        "colab": {
          "base_uri": "https://localhost:8080/"
        },
        "id": "2o5Og2hp7-5Q",
        "outputId": "b58dac3f-856f-410a-9c66-3f82065808c1"
      },
      "execution_count": 10,
      "outputs": [
        {
          "output_type": "stream",
          "name": "stdout",
          "text": [
            "5\n",
            "*\n",
            "**\n",
            "***\n",
            "****\n",
            "*****\n"
          ]
        }
      ]
    },
    {
      "cell_type": "code",
      "source": [
        "n - int(input())\n",
        "\n",
        "for i in range(n):\n",
        "  for j in range(n-i):\n",
        "    print(\"*\",end=\"\")\n",
        "  print()"
      ],
      "metadata": {
        "colab": {
          "base_uri": "https://localhost:8080/"
        },
        "id": "CeyPGZD08Jsf",
        "outputId": "6ade41e8-2660-434c-a570-48ab0c192bb7"
      },
      "execution_count": 11,
      "outputs": [
        {
          "output_type": "stream",
          "name": "stdout",
          "text": [
            "5\n",
            "*****\n",
            "****\n",
            "***\n",
            "**\n",
            "*\n"
          ]
        }
      ]
    },
    {
      "cell_type": "code",
      "source": [
        "n = int(input())\n",
        "\n",
        "for i in range(n):\n",
        "  for j in range(1,n-i):\n",
        "    print(\" \",end=\"\")\n",
        "  for k in range(0,i+1):\n",
        "    print(\"*\",end=\"\")\n",
        "  print()"
      ],
      "metadata": {
        "colab": {
          "base_uri": "https://localhost:8080/"
        },
        "id": "12nPtl-BmPOS",
        "outputId": "b5510588-bd71-4137-908d-100ad6666ad8"
      },
      "execution_count": null,
      "outputs": [
        {
          "output_type": "stream",
          "name": "stdout",
          "text": [
            "5\n",
            "    *\n",
            "   **\n",
            "  ***\n",
            " ****\n",
            "*****\n"
          ]
        }
      ]
    },
    {
      "cell_type": "code",
      "source": [
        "for i in range(n):  # Rows\n",
        "    for j in range(i + 1):  # Columns\n",
        "        print(\"*\", end=\" \")\n",
        "    print()"
      ],
      "metadata": {
        "colab": {
          "base_uri": "https://localhost:8080/"
        },
        "id": "EYC3CM6MnKBQ",
        "outputId": "2153ec0d-5337-4bef-89b2-60ed9ee56c56"
      },
      "execution_count": null,
      "outputs": [
        {
          "output_type": "stream",
          "name": "stdout",
          "text": [
            "* \n",
            "* * \n",
            "* * * \n",
            "* * * * \n",
            "* * * * * \n"
          ]
        }
      ]
    },
    {
      "cell_type": "code",
      "source": [
        "for i in range(n):  # Rows\n",
        "    for j in range(n - i):  # Columns\n",
        "        print(\"*\", end=\" \")\n",
        "    print()"
      ],
      "metadata": {
        "id": "KmpU-yPAnp2e",
        "outputId": "37264ab8-7c39-499e-af92-984a6ded6e59",
        "colab": {
          "base_uri": "https://localhost:8080/"
        }
      },
      "execution_count": null,
      "outputs": [
        {
          "output_type": "stream",
          "name": "stdout",
          "text": [
            "* * * * * \n",
            "* * * * \n",
            "* * * \n",
            "* * \n",
            "* \n"
          ]
        }
      ]
    },
    {
      "cell_type": "markdown",
      "source": [
        "Given a binary array nums, return the maximum number of consecutive 1's in the array.\n",
        "\n",
        "Example 1:\n",
        "Input: nums = [1,1,0,1,1,1]\n",
        "Output: 3\n",
        "Explanation: The first two digits or the last three digits are consecutive 1s. The maximum number of consecutive 1s is 3.\n",
        "\n",
        "Example 2:\n",
        "Input: nums = [1,0,1,1,0,1]\n",
        "Output: 2\n",
        "\n",
        "Constraints:\n",
        "1 <= nums.length <= 10000\n",
        "nums[i] is either 0 or 1."
      ],
      "metadata": {
        "id": "IU9V62QIBYec"
      }
    },
    {
      "cell_type": "code",
      "source": [
        "def count_ones(nums):\n",
        "\n",
        "  count= 0\n",
        "  max_count = 0\n",
        "\n",
        "  for num in nums:\n",
        "    if num == 1:\n",
        "      count+=1\n",
        "    else:\n",
        "      count = 0\n",
        "\n",
        "    max_count = max(count,max_count)\n",
        "  return max_count\n",
        "\n",
        "nums = eval(input())\n",
        "count_ones(nums)\n"
      ],
      "metadata": {
        "colab": {
          "base_uri": "https://localhost:8080/"
        },
        "id": "Pq1IPBDy--B2",
        "outputId": "1467e441-f0e3-4529-fe8d-e0abacb42db8"
      },
      "execution_count": 21,
      "outputs": [
        {
          "name": "stdout",
          "output_type": "stream",
          "text": [
            "1,1,1,0,0,1,1,1,1,0\n"
          ]
        },
        {
          "output_type": "execute_result",
          "data": {
            "text/plain": [
              "4"
            ]
          },
          "metadata": {},
          "execution_count": 21
        }
      ]
    },
    {
      "cell_type": "code",
      "source": [
        "def odd_even(lst):\n",
        "  even = []\n",
        "  odd=[]\n",
        "\n",
        "  for num in lst:\n",
        "    if num%2==0:\n",
        "      even.append(num)\n",
        "    else:\n",
        "      odd.append(num)\n",
        "\n",
        "  return even,odd\n",
        "\n",
        "lst = [21,56,57,85,14]\n",
        "odd_even(lst)"
      ],
      "metadata": {
        "colab": {
          "base_uri": "https://localhost:8080/"
        },
        "id": "Ub2HSgAg_ukJ",
        "outputId": "7b48daa3-5e47-4880-e525-6127f3a3530f"
      },
      "execution_count": 22,
      "outputs": [
        {
          "output_type": "execute_result",
          "data": {
            "text/plain": [
              "([56, 14], [21, 57, 85])"
            ]
          },
          "metadata": {},
          "execution_count": 22
        }
      ]
    },
    {
      "cell_type": "code",
      "source": [
        "def biggest_smallest(lst):\n",
        "  biggest = lst[0]\n",
        "  smallest = lst[0]\n",
        "\n",
        "  for num in lst:\n",
        "    if num >biggest:\n",
        "      biggest = num\n",
        "    elif num < smallest:\n",
        "      smallest = num\n",
        "  return biggest,smallest\n",
        "\n",
        "\n",
        "lst = [21,56,57,85,14]\n",
        "biggest_smallest(lst)\n",
        "\n"
      ],
      "metadata": {
        "colab": {
          "base_uri": "https://localhost:8080/"
        },
        "id": "me2ADXN9AE_z",
        "outputId": "f75c6fe3-a76b-4301-e2ab-c53956040aac"
      },
      "execution_count": 23,
      "outputs": [
        {
          "output_type": "execute_result",
          "data": {
            "text/plain": [
              "(85, 14)"
            ]
          },
          "metadata": {},
          "execution_count": 23
        }
      ]
    },
    {
      "cell_type": "code",
      "source": [
        "nums = eval(input())\n",
        "count = 0\n",
        "for num in nums:\n",
        "  if nums[num]==nums[num+1]:\n",
        "    count+=1\n",
        "  else:\n",
        "    count+=0\n",
        "print(count)\n",
        "\n",
        "\n"
      ],
      "metadata": {
        "colab": {
          "base_uri": "https://localhost:8080/"
        },
        "id": "Okbkob0zBS5R",
        "outputId": "e4ef500f-6176-4599-afab-0e9b10e63297"
      },
      "execution_count": null,
      "outputs": [
        {
          "output_type": "stream",
          "name": "stdout",
          "text": [
            " [1,1,0,1,1,1] \n",
            "1\n"
          ]
        }
      ]
    },
    {
      "cell_type": "code",
      "source": [
        "nums = eval(input())\n",
        "count = 0\n",
        "for num in nums:\n",
        "  if num ==1:\n",
        "    count+=1\n",
        "  else:\n",
        "    count=0\n",
        "print(count)"
      ],
      "metadata": {
        "colab": {
          "base_uri": "https://localhost:8080/"
        },
        "id": "a7wlQfiKRv4m",
        "outputId": "a4b8c172-f1ae-46a2-fe02-873beee1c7b2"
      },
      "execution_count": null,
      "outputs": [
        {
          "output_type": "stream",
          "name": "stdout",
          "text": [
            "[1,1,0,1,1,1]\n",
            "3\n"
          ]
        }
      ]
    },
    {
      "cell_type": "code",
      "source": [
        "def count_ones(ls):\n",
        "\n",
        "  counter=0\n",
        "  max_count=0\n",
        "\n",
        "  for i in ls:\n",
        "    if i==1:\n",
        "      counter+=1\n",
        "    else:\n",
        "      counter=0\n",
        "\n",
        "    max_count = max(counter,max_count)\n",
        "\n",
        "  return max_count"
      ],
      "metadata": {
        "id": "1vjva-GqD9xm"
      },
      "execution_count": null,
      "outputs": []
    },
    {
      "cell_type": "markdown",
      "source": [
        "You are given a string s representing an attendance record for a student where each character signifies whether\n",
        "the student was absent, late, or present on that day. The record only contains the following three characters:\n",
        "\n",
        "'A': Absent.\n",
        "'L': Late.\n",
        "'P': Present.\n",
        "The student is eligible for an attendance award if they meet both of the following criteria:\n",
        "\n",
        "The student was absent ('A') for strictly fewer than 2 days total.\n",
        "The student was never late ('L') for 3 or more consecutive days.\n",
        "Return true if the student is eligible for an attendance award, or false otherwise.\n",
        "\n",
        "\n",
        "\n",
        "Example 1:\n",
        "Input: s = \"PPALLP\"\n",
        "Output: true\n",
        "Explanation: The student has fewer than 2 absences and was never late 3 or more consecutive days.\n",
        "\n",
        "Example 2:\n",
        "Input: s = \"PPALLL\"\n",
        "Output: false\n",
        "Explanation: The student was late 3 consecutive days in the last 3 days, so is not eligible for the award.\n",
        "\n",
        "\n",
        "Constraints:\n",
        "\n",
        "1 <= s.length <= 1000\n",
        "s[i] is either 'A', 'L', or 'P'."
      ],
      "metadata": {
        "id": "pfNtNHZpD9lW"
      }
    },
    {
      "cell_type": "code",
      "source": [
        "def check_attendance(s):\n",
        "\n",
        "  if s.count(\"A\")>5:\n",
        "    return False\n",
        "  elif 'LALA' in s:\n",
        "    return False\n",
        "  return True\n",
        "\n",
        "s = input()\n",
        "check_attendance(s)"
      ],
      "metadata": {
        "colab": {
          "base_uri": "https://localhost:8080/"
        },
        "id": "d28sAUAGBTBM",
        "outputId": "ede843c0-4afe-4ccb-b93d-c3fa664ed38b"
      },
      "execution_count": 28,
      "outputs": [
        {
          "name": "stdout",
          "output_type": "stream",
          "text": [
            "PAPALALA\n"
          ]
        },
        {
          "output_type": "execute_result",
          "data": {
            "text/plain": [
              "False"
            ]
          },
          "metadata": {},
          "execution_count": 28
        }
      ]
    },
    {
      "cell_type": "code",
      "source": [
        "def chec_occurence(s):\n",
        "  count = 0\n",
        "  if  'string' in s:\n",
        "      count+=1\n",
        "  return count\n",
        "\n",
        "s = s = input()\n",
        "chec_occurence(s)"
      ],
      "metadata": {
        "colab": {
          "base_uri": "https://localhost:8080/"
        },
        "id": "YSBlf_9jCFED",
        "outputId": "002faef4-cc13-407f-8b2b-62da601b7a19"
      },
      "execution_count": 35,
      "outputs": [
        {
          "name": "stdout",
          "output_type": "stream",
          "text": [
            "stirng has string has string\n"
          ]
        },
        {
          "output_type": "execute_result",
          "data": {
            "text/plain": [
              "1"
            ]
          },
          "metadata": {},
          "execution_count": 35
        }
      ]
    },
    {
      "cell_type": "code",
      "source": [],
      "metadata": {
        "id": "ww62DCHdDUwe"
      },
      "execution_count": null,
      "outputs": []
    },
    {
      "cell_type": "code",
      "source": [
        "def check_attendance(s):\n",
        "\n",
        "  if s.count('A')>2:\n",
        "    return False\n",
        "  elif 'LLL' in s:\n",
        "    return False\n",
        "  return True\n",
        "\n",
        "s = input()\n",
        "check_attendance(s)\n"
      ],
      "metadata": {
        "colab": {
          "base_uri": "https://localhost:8080/"
        },
        "id": "aI0K0pjzA7RC",
        "outputId": "8489390b-bbcd-408f-8939-1904b6783290"
      },
      "execution_count": 24,
      "outputs": [
        {
          "name": "stdout",
          "output_type": "stream",
          "text": [
            "PPALLL\n"
          ]
        },
        {
          "output_type": "execute_result",
          "data": {
            "text/plain": [
              "False"
            ]
          },
          "metadata": {},
          "execution_count": 24
        }
      ]
    },
    {
      "cell_type": "code",
      "source": [
        "def check_attendance(s):\n",
        "\n",
        "  if s.count('A')>=2:\n",
        "    return False\n",
        "  elif 'LLL' in s:\n",
        "    return False\n",
        "  return True\n",
        "\n",
        "s = \"PPALLL\"\n",
        "check_attendance(s)\n"
      ],
      "metadata": {
        "colab": {
          "base_uri": "https://localhost:8080/"
        },
        "id": "myY1ZEF4SVhW",
        "outputId": "956b622f-cecb-4a5b-83c1-311147bc38a0"
      },
      "execution_count": null,
      "outputs": [
        {
          "output_type": "execute_result",
          "data": {
            "text/plain": [
              "False"
            ]
          },
          "metadata": {},
          "execution_count": 9
        }
      ]
    },
    {
      "cell_type": "code",
      "source": [],
      "metadata": {
        "id": "cgnd4q-8SyTe"
      },
      "execution_count": null,
      "outputs": []
    },
    {
      "cell_type": "markdown",
      "source": [
        "496. Next Greater Element I\n",
        "Solved\n",
        "Easy\n",
        "Topics\n",
        "Companies\n",
        "The next greater element of some element x in an array is the first greater element that is to the right of x in the same array.\n",
        "\n",
        "You are given two distinct 0-indexed integer arrays nums1 and nums2, where nums1 is a subset of nums2.\n",
        "\n",
        "For each 0 <= i < nums1.length, find the index j such that nums1[i] == nums2[j] and determine the next greater element of nums2[j] in nums2. If there is no next greater element, then the answer for this query is -1.\n",
        "\n",
        "Return an array ans of length nums1.length such that ans[i] is the next greater element as described above.\n",
        "\n",
        "\n",
        "\n",
        "Example 1:\n",
        "\n",
        "Input: nums1 = [4,1,2], nums2 = [1,3,4,2]\n",
        "Output: [-1,3,-1]\n",
        "Explanation: The next greater element for each value of nums1 is as follows:\n",
        "- 4 is underlined in nums2 = [1,3,4,2]. There is no next greater element, so the answer is -1.\n",
        "- 1 is underlined in nums2 = [1,3,4,2]. The next greater element is 3.\n",
        "- 2 is underlined in nums2 = [1,3,4,2]. There is no next greater element, so the answer is -1.\n",
        "Example 2:\n",
        "\n",
        "Input: nums1 = [2,4], nums2 = [1,2,3,4]\n",
        "Output: [3,-1]\n",
        "Explanation: The next greater element for each value of nums1 is as follows:\n",
        "- 2 is underlined in nums2 = [1,2,3,4]. The next greater element is 3.\n",
        "- 4 is underlined in nums2 = [1,2,3,4]. There is no next greater element, so the answer is -1.\n",
        "\n",
        "\n",
        "Constraints:\n",
        "\n",
        "1 <= nums1.length <= nums2.length <= 1000\n",
        "0 <= nums1[i], nums2[i] <= 104\n",
        "All integers in nums1 and nums2 are unique.\n",
        "All the integers of nums1 also appear in nums2."
      ],
      "metadata": {
        "id": "LPV0g6iGZ1hv"
      }
    },
    {
      "cell_type": "code",
      "source": [
        "\n",
        "def nextGreaterElement(nums1,nums2):\n",
        "        result = []\n",
        "        for num in nums1:\n",
        "            # Find the index of num in nums2\n",
        "            index = nums2.index(num)\n",
        "            # Initialize next greater element as -1\n",
        "            next_greater = -1\n",
        "            # Search for the next greater element to the right in nums2\n",
        "            for j in range(index + 1, len(nums2)):\n",
        "                if nums2[j] > num:\n",
        "                    next_greater = nums2[j]\n",
        "                    break\n",
        "            # Append the next greater element to the result list\n",
        "            result.append(next_greater)\n",
        "        return result\n"
      ],
      "metadata": {
        "id": "K2nM82vlZ3nY"
      },
      "execution_count": null,
      "outputs": []
    },
    {
      "cell_type": "code",
      "source": [
        "nums1 = eval(input())\n",
        "nums2 = eval(input())\n",
        "nextGreaterElement(nums1,nums2)"
      ],
      "metadata": {
        "colab": {
          "base_uri": "https://localhost:8080/"
        },
        "id": "cDoNt2m3aFpC",
        "outputId": "b65341ab-4f2f-4d4a-aab9-91d3744c1825"
      },
      "execution_count": null,
      "outputs": [
        {
          "name": "stdout",
          "output_type": "stream",
          "text": [
            "4,1,2\n",
            "1,4,3,2\n"
          ]
        },
        {
          "output_type": "execute_result",
          "data": {
            "text/plain": [
              "[-1, 4, -1]"
            ]
          },
          "metadata": {},
          "execution_count": 11
        }
      ]
    }
  ]
}