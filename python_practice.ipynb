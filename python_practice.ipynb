{
  "nbformat": 4,
  "nbformat_minor": 0,
  "metadata": {
    "colab": {
      "provenance": [],
      "authorship_tag": "ABX9TyNiFDCeCXJDW/KKubX8dzx9",
      "include_colab_link": true
    },
    "kernelspec": {
      "name": "python3",
      "display_name": "Python 3"
    },
    "language_info": {
      "name": "python"
    }
  },
  "cells": [
    {
      "cell_type": "markdown",
      "metadata": {
        "id": "view-in-github",
        "colab_type": "text"
      },
      "source": [
        "<a href=\"https://colab.research.google.com/github/Tilak46-R/CODING-PRACTICE/blob/main/python_practice.ipynb\" target=\"_parent\"><img src=\"https://colab.research.google.com/assets/colab-badge.svg\" alt=\"Open In Colab\"/></a>"
      ]
    },
    {
      "cell_type": "code",
      "execution_count": 1,
      "metadata": {
        "id": "EEI8iTla28ja"
      },
      "outputs": [],
      "source": [
        "toppings = [\"pepperoni\", \"mushrooms\", \"olives\", \"sausage\"]"
      ]
    },
    {
      "cell_type": "code",
      "source": [
        "for topping in toppings:\n",
        "  print(topping)"
      ],
      "metadata": {
        "colab": {
          "base_uri": "https://localhost:8080/"
        },
        "id": "NrYsWVUq3Ygw",
        "outputId": "fd152181-d2db-41fc-bfa7-f0bdeffaa026"
      },
      "execution_count": 3,
      "outputs": [
        {
          "output_type": "stream",
          "name": "stdout",
          "text": [
            "pepperoni\n",
            "mushrooms\n",
            "olives\n",
            "sausage\n"
          ]
        }
      ]
    },
    {
      "cell_type": "code",
      "source": [
        "new_toppings = [\"bacon\", \"peppers\", \"pineapple\"]\n",
        "\n",
        "for topping in new_toppings:\n",
        "   toppings.append(topping)\n",
        "print(toppings)"
      ],
      "metadata": {
        "colab": {
          "base_uri": "https://localhost:8080/"
        },
        "id": "heyDgg6e3eZ1",
        "outputId": "6d3d33f1-edce-4996-877f-e251d62f1644"
      },
      "execution_count": 8,
      "outputs": [
        {
          "output_type": "stream",
          "name": "stdout",
          "text": [
            "['pepperoni', 'mushrooms', 'olives', 'sausage', 'bacon', 'peppers', 'pineapple', 'bacon', 'peppers', 'pineapple', 'bacon', 'peppers', 'pineapple', 'bacon', 'peppers', 'pineapple']\n"
          ]
        }
      ]
    },
    {
      "cell_type": "code",
      "source": [
        "string = input(\"enter the string\")\n",
        "\n",
        "count = 0\n",
        "\n",
        "for char in string:\n",
        "  if char in \"aeiouAEIOU\":\n",
        "      count+=1\n",
        "print(\"the number of vowels in the string is\", count)"
      ],
      "metadata": {
        "colab": {
          "base_uri": "https://localhost:8080/"
        },
        "id": "34-C6-M54RfI",
        "outputId": "d1d4df4d-3389-4dd8-c675-0b193c8034dd"
      },
      "execution_count": 14,
      "outputs": [
        {
          "output_type": "stream",
          "name": "stdout",
          "text": [
            "enter the stringarun\n",
            "the number of vowels in the string is 2\n"
          ]
        }
      ]
    },
    {
      "cell_type": "code",
      "source": [
        "for i in range(5):\n",
        " print(i)"
      ],
      "metadata": {
        "colab": {
          "base_uri": "https://localhost:8080/"
        },
        "id": "50w527ZA5SCo",
        "outputId": "5e959f69-49c8-4d41-8741-d5eb170b432c"
      },
      "execution_count": 17,
      "outputs": [
        {
          "output_type": "stream",
          "name": "stdout",
          "text": [
            "0\n",
            "1\n",
            "2\n",
            "3\n",
            "4\n"
          ]
        }
      ]
    },
    {
      "cell_type": "code",
      "source": [
        "for i in range(10):\n",
        "  if i == 8:\n",
        "    break\n",
        "  print(i)"
      ],
      "metadata": {
        "colab": {
          "base_uri": "https://localhost:8080/"
        },
        "id": "0xzyjp_P5qdg",
        "outputId": "f141c6e0-9e7f-4c91-fa73-7a56e6de4816"
      },
      "execution_count": 20,
      "outputs": [
        {
          "output_type": "stream",
          "name": "stdout",
          "text": [
            "0\n",
            "1\n",
            "2\n",
            "3\n",
            "4\n",
            "5\n",
            "6\n",
            "7\n"
          ]
        }
      ]
    },
    {
      "cell_type": "code",
      "source": [
        "for i in range(10):\n",
        "  if i % 2==0:\n",
        "    continue\n",
        "  print(i)"
      ],
      "metadata": {
        "colab": {
          "base_uri": "https://localhost:8080/"
        },
        "id": "XK7JmY3B52QQ",
        "outputId": "b4b85b8e-5bd6-41f1-a01d-495eebd273ef"
      },
      "execution_count": 22,
      "outputs": [
        {
          "output_type": "stream",
          "name": "stdout",
          "text": [
            "1\n",
            "3\n",
            "5\n",
            "7\n",
            "9\n"
          ]
        }
      ]
    },
    {
      "cell_type": "code",
      "source": [
        "tournament = [['Alice', 'Charlie'], ['Bob', 'Diana']]\n",
        "team1 = []\n",
        "team2 = []\n",
        "\n",
        "for group in tournament:\n",
        "  for player in group:\n",
        "    if player[0] == 'A' or player[0] == 'B':\n",
        "     team1.append(player)\n",
        "    else:\n",
        "      team2.append(player)\n",
        "print(f\"the players from team1 are {team1} \\n the players from team2 are {team2}\" )"
      ],
      "metadata": {
        "colab": {
          "base_uri": "https://localhost:8080/"
        },
        "id": "e0kSQc_E6BhA",
        "outputId": "a912be37-9f58-4a36-b9c7-1c9d4b55124d"
      },
      "execution_count": 34,
      "outputs": [
        {
          "output_type": "stream",
          "name": "stdout",
          "text": [
            "the players from team1 are ['Alice', 'Bob'] \n",
            " the players from team2 are ['Charlie', 'Diana']\n"
          ]
        }
      ]
    },
    {
      "cell_type": "code",
      "source": [
        "numbers = [\n",
        "    [2, 5, 11, 20, 8],\n",
        "    [9, 4, 15, 28, 17],\n",
        "    [1, 6, 21, 18, 3],\n",
        "    [10, 13, 25, 33, 30],\n",
        "    [14, 7, 16, 19, 22]\n",
        "]\n",
        "\n",
        "even_count = 0\n",
        "odd_count = 0\n",
        "\n",
        "for sublist in numbers:\n",
        "  for number in sublist:\n",
        "    if number %2 == 0:\n",
        "      even_count +=1\n",
        "    else:\n",
        "      odd_count +=1\n",
        "print(f\"The number of even_numbers {even_count} \\n The number of odd_numbers {odd_count} \")\n"
      ],
      "metadata": {
        "colab": {
          "base_uri": "https://localhost:8080/"
        },
        "id": "n0g-CbSQ7zxv",
        "outputId": "e0b7300f-50d4-45cc-b35c-0d5d955b7752"
      },
      "execution_count": 35,
      "outputs": [
        {
          "output_type": "stream",
          "name": "stdout",
          "text": [
            "The number of even_numbers 12 \n",
            " The number of odd_numbers 13 \n"
          ]
        }
      ]
    },
    {
      "cell_type": "code",
      "source": [
        "grades = [90, 85, 95, 80, 75, 85, 90, 85, 70, 80,\n",
        "          90, 75, 80, 85, 90, 95, 80, 75, 85, 90,\n",
        "          85, 90, 75, 80, 85]\n",
        "\n",
        "total_grade = 0\n",
        "for grade in grades:\n",
        "  total_grade += grade\n",
        "\n",
        "average_grade = total_grade/len(grades)\n",
        "\n",
        "print(f\"the average grades of students are: {average_grade}\")"
      ],
      "metadata": {
        "colab": {
          "base_uri": "https://localhost:8080/"
        },
        "id": "y71PW7a888B3",
        "outputId": "3b3292b9-84d0-4da3-9a44-ae8ce6d05de4"
      },
      "execution_count": 36,
      "outputs": [
        {
          "output_type": "stream",
          "name": "stdout",
          "text": [
            "the average grades of students are: 83.8\n"
          ]
        }
      ]
    }
  ]
}