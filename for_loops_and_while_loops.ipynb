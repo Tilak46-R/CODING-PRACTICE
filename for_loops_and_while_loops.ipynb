{
  "nbformat": 4,
  "nbformat_minor": 0,
  "metadata": {
    "colab": {
      "provenance": [],
      "authorship_tag": "ABX9TyPFA7tkSAKrH6v2Nmvmerpm",
      "include_colab_link": true
    },
    "kernelspec": {
      "name": "python3",
      "display_name": "Python 3"
    },
    "language_info": {
      "name": "python"
    }
  },
  "cells": [
    {
      "cell_type": "markdown",
      "metadata": {
        "id": "view-in-github",
        "colab_type": "text"
      },
      "source": [
        "<a href=\"https://colab.research.google.com/github/Tilak46-R/CODING-PRACTICE/blob/main/for_loops_and_while_loops.ipynb\" target=\"_parent\"><img src=\"https://colab.research.google.com/assets/colab-badge.svg\" alt=\"Open In Colab\"/></a>"
      ]
    },
    {
      "cell_type": "markdown",
      "source": [
        "# **CODE - 1**"
      ],
      "metadata": {
        "id": "-sRX8BKKfUs3"
      }
    },
    {
      "cell_type": "code",
      "execution_count": null,
      "metadata": {
        "colab": {
          "base_uri": "https://localhost:8080/"
        },
        "id": "56Gg7RGdfJXI",
        "outputId": "3717d2c0-3487-4c90-983a-226a13a9440a"
      },
      "outputs": [
        {
          "output_type": "stream",
          "name": "stdout",
          "text": [
            "pepperoni\n",
            "mushrooms\n",
            "olives\n",
            "sausage\n"
          ]
        }
      ],
      "source": [
        "toppings = [\"pepperoni\", \"mushrooms\", \"olives\", \"sausage\"]\n",
        "for topping in toppings:\n",
        "  print(topping)"
      ]
    },
    {
      "cell_type": "code",
      "source": [
        "new_toppings = [\"bacon\", \"peppers\", \"pineapple\"]\n",
        "\n",
        "for topping in new_toppings:\n",
        "  toppings.append(topping)\n",
        "\n",
        "print(toppings)\n",
        "\n"
      ],
      "metadata": {
        "colab": {
          "base_uri": "https://localhost:8080/"
        },
        "id": "Fo0gqGZvfqc9",
        "outputId": "6f8e39e6-0801-4310-f524-c250ebb82614"
      },
      "execution_count": null,
      "outputs": [
        {
          "output_type": "stream",
          "name": "stdout",
          "text": [
            "['pepperoni', 'mushrooms', 'olives', 'sausage', 'bacon', 'peppers', 'pineapple']\n"
          ]
        }
      ]
    },
    {
      "cell_type": "markdown",
      "source": [
        "# **CODE** - **2**"
      ],
      "metadata": {
        "id": "eQ5pedVxgq5f"
      }
    },
    {
      "cell_type": "markdown",
      "source": [
        "Write a program that takes a string as input and counts the number of vowels (a, e, i, o, u) in the string using a for loop."
      ],
      "metadata": {
        "id": "HbY4I1HthHDO"
      }
    },
    {
      "cell_type": "code",
      "source": [
        "word = input(\"enter the word\")\n",
        "count = 0\n",
        "\n",
        "for char in word:\n",
        "  if char in 'aeiouAEIOU':\n",
        "    count+=1\n",
        "    print(\"The number of vowels are\", count)\n",
        "  else:\n",
        "    count+=1\n",
        "    print(\"The number of consonants are\", count)"
      ],
      "metadata": {
        "colab": {
          "base_uri": "https://localhost:8080/"
        },
        "id": "6IAT-IZWhGwh",
        "outputId": "1ca0c1a7-b35c-4ca3-ab3a-b747ad8000e2"
      },
      "execution_count": null,
      "outputs": [
        {
          "output_type": "stream",
          "name": "stdout",
          "text": [
            "enter the wordJai shree ram\n",
            "The number of consonants are 1\n",
            "The number of vowels are 2\n",
            "The number of vowels are 3\n",
            "The number of consonants are 4\n",
            "The number of consonants are 5\n",
            "The number of consonants are 6\n",
            "The number of consonants are 7\n",
            "The number of vowels are 8\n",
            "The number of vowels are 9\n",
            "The number of consonants are 10\n",
            "The number of consonants are 11\n",
            "The number of vowels are 12\n",
            "The number of consonants are 13\n"
          ]
        }
      ]
    },
    {
      "cell_type": "markdown",
      "source": [
        "# **CODE** - **3**"
      ],
      "metadata": {
        "id": "Ras56JTCiRDW"
      }
    },
    {
      "cell_type": "markdown",
      "source": [
        "Imagine you're organizing a chess tournament 🏆. Your task is to bring together the players whose name start with 'A' or 'B' in one team, and 'C' or 'D' in another team.\n",
        "\n",
        "In Python, you can nest 'for' loops to do this. Let's take a closer look at how nested loops work using our chess tournament scenario:"
      ],
      "metadata": {
        "id": "8pyakwJWev-X"
      }
    },
    {
      "cell_type": "code",
      "source": [
        "tournament = [['Alice', 'Charlie'], ['Bob', 'Diana']]\n",
        "team1 = []\n",
        "team2 = []\n",
        "for group in tournament:\n",
        "  for player in group:\n",
        "    if player[0] == \"A\" or player[0] == \"B\":\n",
        "      team1.append(player)\n",
        "    else:\n",
        "      team2.append(player)\n",
        "print(f\"Team1 palyers are {team1}\\nTeam2 players are {team2}:\")"
      ],
      "metadata": {
        "colab": {
          "base_uri": "https://localhost:8080/"
        },
        "id": "o7MobYPjhDT3",
        "outputId": "acf77665-950d-44a2-fa2b-25b59722c701"
      },
      "execution_count": null,
      "outputs": [
        {
          "output_type": "stream",
          "name": "stdout",
          "text": [
            "Team1 palyers are ['Alice', 'Bob']\n",
            "Team2 players are ['Charlie', 'Diana']:\n"
          ]
        }
      ]
    },
    {
      "cell_type": "markdown",
      "source": [
        "# **CODE** - **4**"
      ],
      "metadata": {
        "id": "O5YXtgWXjPnX"
      }
    },
    {
      "cell_type": "markdown",
      "source": [
        "You're given a nested list of numbers, and your task is to count the number of odd and even numbers in the list. To achieve this, you'll use a nested loop and some basic conditional statements.\n",
        "\n",
        "List- numbers = [\n",
        "    [2, 5, 11, 20, 8],\n",
        "    [9, 4, 15, 28, 17],\n",
        "    [1, 6, 21, 18, 3],\n",
        "    [10, 13, 25, 33, 30],\n",
        "    [14, 7, 16, 19, 22]\n",
        "]"
      ],
      "metadata": {
        "id": "lwR4MHyrUMOM"
      }
    },
    {
      "cell_type": "code",
      "source": [
        "numbers = [\n",
        "    [2, 5, 11, 20, 8],\n",
        "    [9, 4, 15, 28, 17],\n",
        "    [1, 6, 21, 18, 3],\n",
        "    [10, 13, 25, 33, 30],\n",
        "    [14, 7, 16, 19, 22]\n",
        "]\n",
        "\n",
        "even_count = 0\n",
        "odd_count = 0\n",
        "\n",
        "for sublist in numbers:\n",
        "  for number in sublist:\n",
        "    if number % 2 == 0:\n",
        "      even_count+=1\n",
        "    else:\n",
        "      odd_count+=1\n",
        "print(f\"The number of even numbers are {even_count}\\nThe number of odd numbers are {odd_count}\")"
      ],
      "metadata": {
        "colab": {
          "base_uri": "https://localhost:8080/"
        },
        "id": "8UW01fawjPWf",
        "outputId": "5f59a6b2-bc42-419b-ca6c-b7103a171f53"
      },
      "execution_count": null,
      "outputs": [
        {
          "output_type": "stream",
          "name": "stdout",
          "text": [
            "The number of even numbers are 12\n",
            "The number of odd numbers are 13\n"
          ]
        }
      ]
    },
    {
      "cell_type": "markdown",
      "source": [
        "# **CODE** - **5**"
      ],
      "metadata": {
        "id": "ADlpL708lIoD"
      }
    },
    {
      "cell_type": "markdown",
      "source": [
        "Imagine you are a teacher and you need to calculate the average grade for a class of 25 students. You have a list of grades for each student and you need to loop through the list to calculate the average grade for the class.\n",
        "\n",
        "Here's an example of how to use a for loop with a list to calculate the average grade for the class:"
      ],
      "metadata": {
        "id": "gu55qCdopLL7"
      }
    },
    {
      "cell_type": "code",
      "source": [
        "grades = [90, 85, 95, 80, 75, 85, 90, 85, 70, 80,\n",
        "          90, 75, 80, 85, 90, 95, 80, 75, 85, 90,\n",
        "          85, 90, 75, 80, 85]\n",
        "\n",
        "total_grade = 0\n",
        "\n",
        "for grade in grades:\n",
        "  total_grade += grade\n",
        "\n",
        "average_grade = (total_grade) / len(grades)\n",
        "print(f\"The average grade of the class is {average_grade}\")"
      ],
      "metadata": {
        "colab": {
          "base_uri": "https://localhost:8080/"
        },
        "id": "zce4ziqUlPaW",
        "outputId": "9f156170-2e5a-4c6c-bc3a-914d8596b62f"
      },
      "execution_count": null,
      "outputs": [
        {
          "output_type": "stream",
          "name": "stdout",
          "text": [
            "The average grade of the class is 83.8\n"
          ]
        }
      ]
    },
    {
      "cell_type": "markdown",
      "source": [
        "# **CODE** - **6**"
      ],
      "metadata": {
        "id": "lGDujlANnvty"
      }
    },
    {
      "cell_type": "code",
      "source": [
        "library = {\n",
        "    'To Kill a Mockingbird': 'Harper Lee',\n",
        "    '1984': 'George Orwell',\n",
        "    'The Catcher in the Rye': 'J.D. Salinger',\n",
        "    'The Great Gatsby': 'F. Scott Fitzgerald'\n",
        "}\n",
        "\n",
        "for book in library:\n",
        "  print(book)\n",
        "\n",
        "\n",
        "for author in library.values():\n",
        "  print(author)\n",
        "\n"
      ],
      "metadata": {
        "colab": {
          "base_uri": "https://localhost:8080/"
        },
        "id": "GfTw_nLQnvbR",
        "outputId": "fb52d195-4021-4c4c-829e-6b967498c081"
      },
      "execution_count": null,
      "outputs": [
        {
          "output_type": "stream",
          "name": "stdout",
          "text": [
            "To Kill a Mockingbird\n",
            "1984\n",
            "The Catcher in the Rye\n",
            "The Great Gatsby\n",
            "Harper Lee\n",
            "George Orwell\n",
            "J.D. Salinger\n",
            "F. Scott Fitzgerald\n"
          ]
        }
      ]
    },
    {
      "cell_type": "markdown",
      "source": [
        "# **CODE - 7**"
      ],
      "metadata": {
        "id": "joEJrxYaqCbo"
      }
    },
    {
      "cell_type": "markdown",
      "source": [
        "Write a program that calculates the total revenue for each day of the week using a loop and prints the results."
      ],
      "metadata": {
        "id": "sN9XAUHmqC9H"
      }
    }
  ]
}