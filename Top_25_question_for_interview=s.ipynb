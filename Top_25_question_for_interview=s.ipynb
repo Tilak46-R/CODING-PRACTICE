{
  "nbformat": 4,
  "nbformat_minor": 0,
  "metadata": {
    "colab": {
      "provenance": [],
      "authorship_tag": "ABX9TyPE1k5+Tilq/FJphbrextCL",
      "include_colab_link": true
    },
    "kernelspec": {
      "name": "python3",
      "display_name": "Python 3"
    },
    "language_info": {
      "name": "python"
    }
  },
  "cells": [
    {
      "cell_type": "markdown",
      "metadata": {
        "id": "view-in-github",
        "colab_type": "text"
      },
      "source": [
        "<a href=\"https://colab.research.google.com/github/Tilak46-R/CODING-PRACTICE/blob/main/Top_25_question_for_interview%3Ds.ipynb\" target=\"_parent\"><img src=\"https://colab.research.google.com/assets/colab-badge.svg\" alt=\"Open In Colab\"/></a>"
      ]
    },
    {
      "cell_type": "markdown",
      "source": [
        "Reverse A Number"
      ],
      "metadata": {
        "id": "P_9v102WtQyp"
      }
    },
    {
      "cell_type": "code",
      "execution_count": null,
      "metadata": {
        "colab": {
          "base_uri": "https://localhost:8080/"
        },
        "id": "5aoNaLzttJdY",
        "outputId": "312a3b75-11c8-4986-b8cc-0e4b74b9987a"
      },
      "outputs": [
        {
          "output_type": "stream",
          "name": "stdout",
          "text": [
            "1234\n",
            "4321\n"
          ]
        }
      ],
      "source": [
        "num = input()\n",
        "num_list = list(str(num))\n",
        "reverse = ''.join(num_list[::-1])\n",
        "print(reverse)"
      ]
    },
    {
      "cell_type": "code",
      "source": [
        "def reverse(number):\n",
        "  original_number = number\n",
        "  reverse = 0\n",
        "\n",
        "  for num in str(number):\n",
        "    digit = number%10\n",
        "    reverse = reverse*10 + digit\n",
        "    number//=10\n",
        "  print(f\"Original number {original_number}\")\n",
        "  print(f\"reverse number {reverse}\")\n",
        "\n",
        "reverse(1234)"
      ],
      "metadata": {
        "colab": {
          "base_uri": "https://localhost:8080/"
        },
        "id": "yklsIS6utlTA",
        "outputId": "1a50cfb7-cfd0-4880-e929-70a7aed766e5"
      },
      "execution_count": null,
      "outputs": [
        {
          "output_type": "stream",
          "name": "stdout",
          "text": [
            "Original number 1234\n",
            "reverse number 4321\n"
          ]
        }
      ]
    },
    {
      "cell_type": "markdown",
      "source": [
        "Fibonacci series"
      ],
      "metadata": {
        "id": "UXU8YE0lu2jZ"
      }
    },
    {
      "cell_type": "code",
      "source": [
        "def fibonacci(n):\n",
        "  if n<=1:\n",
        "    return n\n",
        "  else:\n",
        "    return fibonacci(n-1) + fibonacci(n-2)"
      ],
      "metadata": {
        "id": "yJd-lVOWuKP8"
      },
      "execution_count": null,
      "outputs": []
    },
    {
      "cell_type": "code",
      "source": [
        "fibonacci(7)"
      ],
      "metadata": {
        "colab": {
          "base_uri": "https://localhost:8080/"
        },
        "id": "mRo18EQAvJS4",
        "outputId": "c2e3118a-149e-4f92-ad65-f8973a7c8475"
      },
      "execution_count": null,
      "outputs": [
        {
          "output_type": "execute_result",
          "data": {
            "text/plain": [
              "13"
            ]
          },
          "metadata": {},
          "execution_count": 12
        }
      ]
    },
    {
      "cell_type": "markdown",
      "source": [
        "Tribonacci series"
      ],
      "metadata": {
        "id": "FmSUenEI1eN-"
      }
    },
    {
      "cell_type": "code",
      "source": [
        "def tribonacci(n):\n",
        "  if n==0 or n==1:\n",
        "    return 0\n",
        "  elif n ==2:\n",
        "    return 1\n",
        "  else:\n",
        "    return tribonacci(n-1) + tribonacci(n-2) + tribonacci(n-3)\n",
        "\n",
        "tribonacci(6)"
      ],
      "metadata": {
        "colab": {
          "base_uri": "https://localhost:8080/"
        },
        "id": "AcqZ0nn51d_m",
        "outputId": "b0395399-ca95-4dbf-fe56-f60c38f1ee02"
      },
      "execution_count": null,
      "outputs": [
        {
          "output_type": "execute_result",
          "data": {
            "text/plain": [
              "7"
            ]
          },
          "metadata": {},
          "execution_count": 32
        }
      ]
    },
    {
      "cell_type": "markdown",
      "source": [
        "sum of n natural numbers"
      ],
      "metadata": {
        "id": "RtJ6hdf6voSo"
      }
    },
    {
      "cell_type": "code",
      "source": [
        "def sum_of_n(n):\n",
        "  if n == 1:\n",
        "    return 1\n",
        "  else:\n",
        "    return n + sum_of_n(n-1)"
      ],
      "metadata": {
        "id": "ToK9XlVKvLYu"
      },
      "execution_count": null,
      "outputs": []
    },
    {
      "cell_type": "code",
      "source": [
        "sum_of_n(33)"
      ],
      "metadata": {
        "colab": {
          "base_uri": "https://localhost:8080/"
        },
        "id": "vXmjUJnuv1M3",
        "outputId": "dffa5f4d-b0a5-448a-8a69-38711d2ce821"
      },
      "execution_count": null,
      "outputs": [
        {
          "output_type": "execute_result",
          "data": {
            "text/plain": [
              "561"
            ]
          },
          "metadata": {},
          "execution_count": 14
        }
      ]
    },
    {
      "cell_type": "markdown",
      "source": [
        "Factorial"
      ],
      "metadata": {
        "id": "EzMmjbb_2ByX"
      }
    },
    {
      "cell_type": "code",
      "source": [
        "def factorial(n):\n",
        "  if n<=1:\n",
        "    return n\n",
        "  else:\n",
        "    return n * factorial(n-1)\n",
        "\n",
        "factorial(5)"
      ],
      "metadata": {
        "colab": {
          "base_uri": "https://localhost:8080/"
        },
        "id": "u-7a2NHp2DM4",
        "outputId": "f74f01d8-be49-4336-f5eb-d264a97d9ac1"
      },
      "execution_count": null,
      "outputs": [
        {
          "output_type": "execute_result",
          "data": {
            "text/plain": [
              "120"
            ]
          },
          "metadata": {},
          "execution_count": 34
        }
      ]
    },
    {
      "cell_type": "markdown",
      "source": [
        "Armstrong number"
      ],
      "metadata": {
        "id": "Kmm2q7bBv-Qx"
      }
    },
    {
      "cell_type": "code",
      "source": [
        "def is_armstrong(number):\n",
        "  num_list = len(str(number))\n",
        "  sum = 0\n",
        "  temp=number\n",
        "\n",
        "  while temp>0:\n",
        "    digit = temp%10\n",
        "    sum += digit**num_list\n",
        "    temp//=10\n",
        "\n",
        "  if sum==number:\n",
        "    return True\n",
        "  else:\n",
        "    return False\n",
        "\n",
        "T = int(input())\n",
        "\n",
        "for t in range(T):\n",
        "  test_num = int(input())\n",
        "  if is_armstrong(test_num):\n",
        "    print(\"Yes\")\n",
        "  else:\n",
        "    print(\"No\")"
      ],
      "metadata": {
        "colab": {
          "base_uri": "https://localhost:8080/"
        },
        "id": "QQvzb0nPv8qS",
        "outputId": "23eb1447-8d0a-4785-9c33-dcba41c2c258"
      },
      "execution_count": null,
      "outputs": [
        {
          "output_type": "stream",
          "name": "stdout",
          "text": [
            "3\n",
            "153\n",
            "Yes\n",
            "256\n",
            "No\n",
            "123\n",
            "No\n"
          ]
        }
      ]
    },
    {
      "cell_type": "markdown",
      "source": [
        "patterns"
      ],
      "metadata": {
        "id": "KOcy0jKsxWzU"
      }
    },
    {
      "cell_type": "code",
      "source": [
        "n = int(input())\n",
        "\n",
        "for i in range(0,n+1):\n",
        "  for j in range(1,i+1):\n",
        "    print(\"*\",end=\"\")\n",
        "  print()"
      ],
      "metadata": {
        "colab": {
          "base_uri": "https://localhost:8080/"
        },
        "id": "u10FW1PXv3nV",
        "outputId": "83ceda09-95d2-4f00-b309-113d5bf4e153"
      },
      "execution_count": null,
      "outputs": [
        {
          "output_type": "stream",
          "name": "stdout",
          "text": [
            "5\n",
            "\n",
            "*\n",
            "**\n",
            "***\n",
            "****\n",
            "*****\n"
          ]
        }
      ]
    },
    {
      "cell_type": "code",
      "source": [
        "def pattern(size):\n",
        "\n",
        "  for i in range(size):\n",
        "    for j in range(1,size-i):\n",
        "      print(\" \",end=\"\")\n",
        "    for k in range(0,i+1):\n",
        "      print(\"*\",end=\"\")\n",
        "    print()\n",
        "  return pattern\n",
        "pattern(5)\n",
        "\n",
        "T= int(input())\n",
        "\n",
        "for t in range(T):\n",
        "  test_pattern = int(input())\n",
        "  pattern(test_pattern)\n",
        "  print(pattern)"
      ],
      "metadata": {
        "colab": {
          "base_uri": "https://localhost:8080/"
        },
        "id": "BD9V3CMkxk9h",
        "outputId": "f9806e9a-bb5e-413f-bf48-8fd145955aa2"
      },
      "execution_count": null,
      "outputs": [
        {
          "output_type": "stream",
          "name": "stdout",
          "text": [
            "    *\n",
            "   **\n",
            "  ***\n",
            " ****\n",
            "*****\n",
            "3\n",
            "6\n",
            "     *\n",
            "    **\n",
            "   ***\n",
            "  ****\n",
            " *****\n",
            "******\n",
            "<function pattern at 0x7e40ac424ee0>\n",
            "8\n",
            "       *\n",
            "      **\n",
            "     ***\n",
            "    ****\n",
            "   *****\n",
            "  ******\n",
            " *******\n",
            "********\n",
            "<function pattern at 0x7e40ac424ee0>\n",
            "15\n",
            "              *\n",
            "             **\n",
            "            ***\n",
            "           ****\n",
            "          *****\n",
            "         ******\n",
            "        *******\n",
            "       ********\n",
            "      *********\n",
            "     **********\n",
            "    ***********\n",
            "   ************\n",
            "  *************\n",
            " **************\n",
            "***************\n",
            "<function pattern at 0x7e40ac424ee0>\n"
          ]
        }
      ]
    },
    {
      "cell_type": "code",
      "source": [
        "def pattern(size):\n",
        "\n",
        "  for i in range(size):\n",
        "    for j in range(size):\n",
        "      if i==j or i+j == size-1:\n",
        "        print(\"*\",end=\"\")\n",
        "      else:\n",
        "        print(\" \",end=\"\")\n",
        "    print()\n",
        "  return pattern\n",
        "\n",
        "T = int(input())\n",
        "\n",
        "for t in range(T):\n",
        "  test_pattern = int(input())\n",
        "  pattern(test_pattern)\n",
        "  print(pattern)"
      ],
      "metadata": {
        "colab": {
          "base_uri": "https://localhost:8080/"
        },
        "id": "TOGp8Jwvx2mc",
        "outputId": "083a011c-7613-4d0d-ac47-a929f9b9e091"
      },
      "execution_count": null,
      "outputs": [
        {
          "output_type": "stream",
          "name": "stdout",
          "text": [
            "3\n",
            "5\n",
            "*   *\n",
            " * * \n",
            "  *  \n",
            " * * \n",
            "*   *\n",
            "<function pattern at 0x7e40ac425e10>\n",
            "10\n",
            "*        *\n",
            " *      * \n",
            "  *    *  \n",
            "   *  *   \n",
            "    **    \n",
            "    **    \n",
            "   *  *   \n",
            "  *    *  \n",
            " *      * \n",
            "*        *\n",
            "<function pattern at 0x7e40ac425e10>\n",
            "15\n",
            "*             *\n",
            " *           * \n",
            "  *         *  \n",
            "   *       *   \n",
            "    *     *    \n",
            "     *   *     \n",
            "      * *      \n",
            "       *       \n",
            "      * *      \n",
            "     *   *     \n",
            "    *     *    \n",
            "   *       *   \n",
            "  *         *  \n",
            " *           * \n",
            "*             *\n",
            "<function pattern at 0x7e40ac425e10>\n"
          ]
        }
      ]
    },
    {
      "cell_type": "markdown",
      "source": [
        "GCD"
      ],
      "metadata": {
        "id": "sC8mIPVp0mCA"
      }
    },
    {
      "cell_type": "code",
      "source": [
        "def compute_gcd(x,y):\n",
        "  if x>y:\n",
        "    small = y\n",
        "  else:\n",
        "    small = x\n",
        "  for i in range(1,small+1):\n",
        "    if ((x%i==0) and (y%i==0)):\n",
        "      gcd = i\n",
        "  return gcd\n",
        "\n",
        "compute_gcd(60,36)\n"
      ],
      "metadata": {
        "colab": {
          "base_uri": "https://localhost:8080/"
        },
        "id": "TGy6zZSRzRzD",
        "outputId": "0028085d-9786-437b-ef7e-38c6c9c93b70"
      },
      "execution_count": null,
      "outputs": [
        {
          "output_type": "execute_result",
          "data": {
            "text/plain": [
              "12"
            ]
          },
          "metadata": {},
          "execution_count": 28
        }
      ]
    },
    {
      "cell_type": "markdown",
      "source": [
        "HARMONIC SUM"
      ],
      "metadata": {
        "id": "eEdEqxYu0ni-"
      }
    },
    {
      "cell_type": "code",
      "source": [
        "def harmonic_sum(n):\n",
        "  if n<=2:\n",
        "    return 1\n",
        "  else:\n",
        "    return 1 / n + harmonic_sum(n-1)\n",
        "\n",
        "harmonic_sum(7)"
      ],
      "metadata": {
        "colab": {
          "base_uri": "https://localhost:8080/"
        },
        "id": "xF80xYBK0prA",
        "outputId": "52b83fa9-4d93-4ecb-a653-4d1afb993f69"
      },
      "execution_count": null,
      "outputs": [
        {
          "output_type": "execute_result",
          "data": {
            "text/plain": [
              "2.092857142857143"
            ]
          },
          "metadata": {},
          "execution_count": 29
        }
      ]
    },
    {
      "cell_type": "markdown",
      "source": [
        "Anagrams"
      ],
      "metadata": {
        "id": "hdVbCV4b1BOV"
      }
    },
    {
      "cell_type": "code",
      "source": [
        "str1 = input()\n",
        "str2 = input()\n",
        "\n",
        "if sorted(str1)==sorted(str2):\n",
        "  print(\"It is an Anagram\")\n",
        "else:\n",
        "  print(\"It is not an Anagram\")"
      ],
      "metadata": {
        "colab": {
          "base_uri": "https://localhost:8080/"
        },
        "id": "gBG7GaFS1A_9",
        "outputId": "8b2eb38c-1ed1-428b-ff24-c10505b5b4d8"
      },
      "execution_count": null,
      "outputs": [
        {
          "output_type": "stream",
          "name": "stdout",
          "text": [
            "expect\n",
            "pectex\n",
            "It is an Anagram\n"
          ]
        }
      ]
    },
    {
      "cell_type": "markdown",
      "source": [
        "All possible permuatations"
      ],
      "metadata": {
        "id": "otJoLDZk2WHP"
      }
    },
    {
      "cell_type": "code",
      "source": [
        "def permuatations(string,left,right):\n",
        "  if left==right:\n",
        "    print(''.join(string))\n",
        "  else:\n",
        "    for i in range(left,right+1):\n",
        "      string[left],string[i]=string[i],string[left]\n",
        "      permuatations(string,left+1,right)\n",
        "      string[left],string[i]=string[i],string[left]\n",
        "\n",
        "string = input()\n",
        "permuatations(list(string),0,len(string)-1)"
      ],
      "metadata": {
        "colab": {
          "base_uri": "https://localhost:8080/"
        },
        "id": "s2fimvgi05Vu",
        "outputId": "a0b2b69c-4ad4-4743-f217-e017361b275d"
      },
      "execution_count": null,
      "outputs": [
        {
          "output_type": "stream",
          "name": "stdout",
          "text": [
            "aba\n",
            "aba\n",
            "aab\n",
            "baa\n",
            "baa\n",
            "aba\n",
            "aab\n"
          ]
        }
      ]
    },
    {
      "cell_type": "markdown",
      "source": [
        "leap year\n"
      ],
      "metadata": {
        "id": "gm97sSe-3cLO"
      }
    },
    {
      "cell_type": "code",
      "source": [
        "def leap(year):\n",
        "  return (year&4==0 and year%100!=0) or (year%400==0)\n",
        "\n",
        "T = int(input())\n",
        "for t in range(T):\n",
        "  leap_year=int(input())\n",
        "  if leap(leap_year):\n",
        "    print(f\"{leap_year} is a leap year \")\n",
        "  else:\n",
        "    print(f\"{leap_year} is not a leap year\")\n"
      ],
      "metadata": {
        "colab": {
          "base_uri": "https://localhost:8080/"
        },
        "id": "lJfLakTr3ePw",
        "outputId": "cfdb72e3-2132-4fe7-ab21-eccc2b1b16ee"
      },
      "execution_count": null,
      "outputs": [
        {
          "output_type": "stream",
          "name": "stdout",
          "text": [
            "3\n",
            "154\n",
            "154 is a leap year \n",
            "2024\n",
            "2024 is a leap year \n",
            "2022\n",
            "2022 is not a leap year\n"
          ]
        }
      ]
    },
    {
      "cell_type": "markdown",
      "source": [
        "Palindrome"
      ],
      "metadata": {
        "id": "9Q1N5a005yzy"
      }
    },
    {
      "cell_type": "code",
      "source": [
        "string = input()\n",
        "\n",
        "for word in string:\n",
        "  if string==string[::-1]:\n",
        "    print(\"Palindrome\")\n",
        "  else:\n",
        "    print(\"Not a palindrome\")"
      ],
      "metadata": {
        "colab": {
          "base_uri": "https://localhost:8080/"
        },
        "id": "p7lELEVa3ua6",
        "outputId": "9008e854-6d53-4bf0-d97a-b2ea7890cc47"
      },
      "execution_count": null,
      "outputs": [
        {
          "output_type": "stream",
          "name": "stdout",
          "text": [
            "civic\n",
            "Palindrome\n",
            "Palindrome\n",
            "Palindrome\n",
            "Palindrome\n",
            "Palindrome\n"
          ]
        }
      ]
    },
    {
      "cell_type": "markdown",
      "source": [
        "Rverse of a string"
      ],
      "metadata": {
        "id": "vs4AheKh6qeK"
      }
    },
    {
      "cell_type": "code",
      "source": [
        "string = input()\n",
        "reverse = ''\n",
        "\n",
        "for i in range(len(string)-1,-1,-1):\n",
        "  reverse +=string[i]\n",
        "print(\"Reverse string\",reverse)"
      ],
      "metadata": {
        "colab": {
          "base_uri": "https://localhost:8080/"
        },
        "id": "haxgrOjH6J5J",
        "outputId": "0d1e294e-2366-497d-a6ff-c7e994ffa25b"
      },
      "execution_count": null,
      "outputs": [
        {
          "output_type": "stream",
          "name": "stdout",
          "text": [
            "word\n",
            "Reverse string drow\n"
          ]
        }
      ]
    },
    {
      "cell_type": "markdown",
      "source": [
        "Largest and smallest num"
      ],
      "metadata": {
        "id": "9Oe3bIfI7QQG"
      }
    },
    {
      "cell_type": "code",
      "source": [
        "array = [3,8,1,6,2,10,4,7,5,9]\n",
        "largest = array[0]\n",
        "smallest = array[0]\n",
        "\n",
        "for num in array:\n",
        "  if num>largest:\n",
        "    largest=num\n",
        "  elif num < smallest:\n",
        "    smallest=num\n",
        "print(\"largest num\",largest)\n",
        "print(\"smallest num\",smallest)"
      ],
      "metadata": {
        "colab": {
          "base_uri": "https://localhost:8080/"
        },
        "id": "ugMxqxCf6v9h",
        "outputId": "61a3c231-857f-4135-f33a-37816ed324eb"
      },
      "execution_count": null,
      "outputs": [
        {
          "output_type": "stream",
          "name": "stdout",
          "text": [
            "largest num 10\n",
            "smallest num 1\n"
          ]
        }
      ]
    },
    {
      "cell_type": "markdown",
      "source": [
        "Substring of each other"
      ],
      "metadata": {
        "id": "YTl16CgX7eVy"
      }
    },
    {
      "cell_type": "code",
      "source": [
        "str1 = input()\n",
        "str2 = input()\n",
        "\n",
        "if str1 in str2 or str2 in str1:\n",
        "  print(\"string in a substring\")\n",
        "else:\n",
        "  print(\"string not in a substring\")"
      ],
      "metadata": {
        "colab": {
          "base_uri": "https://localhost:8080/"
        },
        "id": "hkvv6EAb7agL",
        "outputId": "fbc25446-c838-4500-cf00-bd96632a4a90"
      },
      "execution_count": null,
      "outputs": [
        {
          "output_type": "stream",
          "name": "stdout",
          "text": [
            "micro processor\n",
            "micro \n",
            "string in a substring\n"
          ]
        }
      ]
    },
    {
      "cell_type": "markdown",
      "source": [
        "Frequency of characters"
      ],
      "metadata": {
        "id": "jt4_O9TS78pV"
      }
    },
    {
      "cell_type": "code",
      "source": [
        "string = input()\n",
        "char_count = {}\n",
        "\n",
        "for char in string:\n",
        "  if char in char_count:\n",
        "    char_count[char]+=1\n",
        "  else:\n",
        "    char_count[char]=1\n",
        "print(char_count)\n",
        "\n"
      ],
      "metadata": {
        "colab": {
          "base_uri": "https://localhost:8080/"
        },
        "id": "nMbgLQuf78Rt",
        "outputId": "dcb2d120-18ba-4037-bd5e-b779daa8f972"
      },
      "execution_count": null,
      "outputs": [
        {
          "output_type": "stream",
          "name": "stdout",
          "text": [
            "elsa\n",
            "{'e': 1, 'l': 1, 's': 1, 'a': 1}\n"
          ]
        }
      ]
    },
    {
      "cell_type": "markdown",
      "source": [
        "non repeating characters"
      ],
      "metadata": {
        "id": "G_l60ZHD8d4u"
      }
    },
    {
      "cell_type": "code",
      "source": [
        "string = input()\n",
        "char_count = {}\n",
        "\n",
        "for char in string:\n",
        "  if char in char_count:\n",
        "    char_count[char]+=1\n",
        "  else:\n",
        "    char_count[char]=1\n",
        "print(char_count)\n",
        "\n",
        "non_repeating = ''\n",
        "\n",
        "for char in string:\n",
        "  if char_count[char]==1:\n",
        "    non_repeating+=char\n",
        "print(non_repeating)"
      ],
      "metadata": {
        "colab": {
          "base_uri": "https://localhost:8080/"
        },
        "id": "8MMWzPfk8dUN",
        "outputId": "a517f5bd-d839-43ae-e0a9-39ef09701799"
      },
      "execution_count": null,
      "outputs": [
        {
          "output_type": "stream",
          "name": "stdout",
          "text": [
            "programming\n",
            "{'p': 1, 'r': 2, 'o': 1, 'g': 2, 'a': 1, 'm': 2, 'i': 1, 'n': 1}\n",
            "poain\n"
          ]
        }
      ]
    },
    {
      "cell_type": "markdown",
      "source": [
        "Naive string Matching"
      ],
      "metadata": {
        "id": "LVw4eBsecA7B"
      }
    },
    {
      "cell_type": "code",
      "source": [
        "def naive_string(text,pattern):\n",
        "  n = len(text)\n",
        "  m=len(pattern)\n",
        "\n",
        "  matches = []\n",
        "\n",
        "  for i in range(n-m+1):\n",
        "    j = 0\n",
        "    while j<m and pattern[j]==text[i+j]:\n",
        "      j+=1\n",
        "    if j==m:\n",
        "      matches.append(i)\n",
        "  return matches\n",
        "\n",
        "text = 'abcdefabcdefabcdef'\n",
        "pattern = 'abc'\n",
        "naive_string(text,pattern)"
      ],
      "metadata": {
        "colab": {
          "base_uri": "https://localhost:8080/"
        },
        "id": "qx9Fd8sCcAbK",
        "outputId": "c02b3c7b-90a2-420a-a058-3439bb7b11e8"
      },
      "execution_count": 3,
      "outputs": [
        {
          "output_type": "execute_result",
          "data": {
            "text/plain": [
              "[0, 6, 12]"
            ]
          },
          "metadata": {},
          "execution_count": 3
        }
      ]
    },
    {
      "cell_type": "markdown",
      "source": [
        "Merge sort"
      ],
      "metadata": {
        "id": "cMxeJpwhF9Ry"
      }
    },
    {
      "cell_type": "code",
      "source": [
        "def bubble_sort(arr):\n",
        "  n = len(arr)\n",
        "\n",
        "  for i in range(n):\n",
        "    for j in range(0,n-i-1):\n",
        "      if arr[j]>arr[j+1]:\n",
        "        arr[j],arr[j+1]=arr[j+1],arr[j]\n",
        "\n",
        "arr = [12,96,2,56,78]\n",
        "bubble_sort(arr)\n",
        "\n",
        "for i in range(len(arr)):\n",
        "  print(\"sorted_array\",arr[i])\n",
        ""
      ],
      "metadata": {
        "colab": {
          "base_uri": "https://localhost:8080/"
        },
        "id": "i3AX1U4Dcq1z",
        "outputId": "778ffd8c-6f89-4824-c7b2-d7d3edb94450"
      },
      "execution_count": 1,
      "outputs": [
        {
          "output_type": "stream",
          "name": "stdout",
          "text": [
            "sorted_array 2\n",
            "sorted_array 12\n",
            "sorted_array 56\n",
            "sorted_array 78\n",
            "sorted_array 96\n"
          ]
        }
      ]
    },
    {
      "cell_type": "markdown",
      "source": [
        "Linear search"
      ],
      "metadata": {
        "id": "FcMcogwwIDmq"
      }
    },
    {
      "cell_type": "code",
      "source": [
        "def linear_search(data,target):\n",
        "\n",
        "  for i in range(len(data)):\n",
        "    if data[i]<=1:\n",
        "      return arr\n",
        "    if data[i]==target:\n",
        "      return i\n",
        "  return -1\n",
        "\n",
        "arr = [12,96,2,56,78]\n",
        "target = 2\n",
        "index = linear_search(arr,target)\n",
        "\n",
        "if index!=-1:\n",
        "  print(f\"Target {target} is found at index {index}\")\n",
        "else:\n",
        "  print(f\"Target is not found\")"
      ],
      "metadata": {
        "colab": {
          "base_uri": "https://localhost:8080/"
        },
        "id": "E8losMRSGqlZ",
        "outputId": "7c51419d-f519-4e95-f592-e40205acd3b6"
      },
      "execution_count": 6,
      "outputs": [
        {
          "output_type": "stream",
          "name": "stdout",
          "text": [
            "Target 2 is found at index 2\n"
          ]
        }
      ]
    },
    {
      "cell_type": "markdown",
      "source": [
        "Using recursion"
      ],
      "metadata": {
        "id": "oAVFPtnbIGaC"
      }
    },
    {
      "cell_type": "code",
      "source": [
        "def recursive_linear(data,target,start=0):\n",
        "  if start>len(data):\n",
        "    return -1\n",
        "  if data[start]==target:\n",
        "    return start\n",
        "  else:\n",
        "    return recursive_linear(data,target,start+1)\n",
        "\n",
        "data = [12,96,2,56,78]\n",
        "target = 2\n",
        "index = recursive_linear(data,target)\n",
        "\n",
        "if index!=-1:\n",
        "  print(f\"Target {target} is found at index {index}\")\n",
        "else:\n",
        "  print(f\"Target is not found\")"
      ],
      "metadata": {
        "colab": {
          "base_uri": "https://localhost:8080/"
        },
        "id": "64GqFW0TIF0C",
        "outputId": "d9abfa83-3c46-4cb2-95a4-91e8cb34933d"
      },
      "execution_count": 8,
      "outputs": [
        {
          "output_type": "stream",
          "name": "stdout",
          "text": [
            "Target 2 is found at index 2\n"
          ]
        }
      ]
    },
    {
      "cell_type": "code",
      "source": [],
      "metadata": {
        "id": "bbq-oFa8HUNQ"
      },
      "execution_count": null,
      "outputs": []
    }
  ]
}