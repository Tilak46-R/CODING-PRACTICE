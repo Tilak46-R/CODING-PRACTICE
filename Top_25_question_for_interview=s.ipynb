{
  "nbformat": 4,
  "nbformat_minor": 0,
  "metadata": {
    "colab": {
      "provenance": [],
      "authorship_tag": "ABX9TyPxL0ms4JORBXwE/LHmRaIW",
      "include_colab_link": true
    },
    "kernelspec": {
      "name": "python3",
      "display_name": "Python 3"
    },
    "language_info": {
      "name": "python"
    }
  },
  "cells": [
    {
      "cell_type": "markdown",
      "metadata": {
        "id": "view-in-github",
        "colab_type": "text"
      },
      "source": [
        "<a href=\"https://colab.research.google.com/github/Tilak46-R/CODING-PRACTICE/blob/main/Top_25_question_for_interview%3Ds.ipynb\" target=\"_parent\"><img src=\"https://colab.research.google.com/assets/colab-badge.svg\" alt=\"Open In Colab\"/></a>"
      ]
    },
    {
      "cell_type": "markdown",
      "source": [
        "Reverse A Number"
      ],
      "metadata": {
        "id": "P_9v102WtQyp"
      }
    },
    {
      "cell_type": "code",
      "execution_count": 1,
      "metadata": {
        "colab": {
          "base_uri": "https://localhost:8080/"
        },
        "id": "5aoNaLzttJdY",
        "outputId": "312a3b75-11c8-4986-b8cc-0e4b74b9987a"
      },
      "outputs": [
        {
          "output_type": "stream",
          "name": "stdout",
          "text": [
            "1234\n",
            "4321\n"
          ]
        }
      ],
      "source": [
        "num = input()\n",
        "num_list = list(str(num))\n",
        "reverse = ''.join(num_list[::-1])\n",
        "print(reverse)"
      ]
    },
    {
      "cell_type": "code",
      "source": [
        "def reverse(number):\n",
        "  original_number = number\n",
        "  reverse = 0\n",
        "\n",
        "  for num in str(number):\n",
        "    digit = number%10\n",
        "    reverse = reverse*10 + digit\n",
        "    number//=10\n",
        "  print(f\"Original number {original_number}\")\n",
        "  print(f\"reverse number {reverse}\")\n",
        "\n",
        "reverse(1234)"
      ],
      "metadata": {
        "colab": {
          "base_uri": "https://localhost:8080/"
        },
        "id": "yklsIS6utlTA",
        "outputId": "1a50cfb7-cfd0-4880-e929-70a7aed766e5"
      },
      "execution_count": 7,
      "outputs": [
        {
          "output_type": "stream",
          "name": "stdout",
          "text": [
            "Original number 1234\n",
            "reverse number 4321\n"
          ]
        }
      ]
    },
    {
      "cell_type": "markdown",
      "source": [
        "Fibonacci series"
      ],
      "metadata": {
        "id": "UXU8YE0lu2jZ"
      }
    },
    {
      "cell_type": "code",
      "source": [
        "def fibonacci(n):\n",
        "  if n<=1:\n",
        "    return n\n",
        "  else:\n",
        "    return fibonacci(n-1) + fibonacci(n-2)"
      ],
      "metadata": {
        "id": "yJd-lVOWuKP8"
      },
      "execution_count": 10,
      "outputs": []
    },
    {
      "cell_type": "code",
      "source": [
        "fibonacci(7)"
      ],
      "metadata": {
        "colab": {
          "base_uri": "https://localhost:8080/"
        },
        "id": "mRo18EQAvJS4",
        "outputId": "c2e3118a-149e-4f92-ad65-f8973a7c8475"
      },
      "execution_count": 12,
      "outputs": [
        {
          "output_type": "execute_result",
          "data": {
            "text/plain": [
              "13"
            ]
          },
          "metadata": {},
          "execution_count": 12
        }
      ]
    },
    {
      "cell_type": "markdown",
      "source": [
        "sum of n natural numbers"
      ],
      "metadata": {
        "id": "RtJ6hdf6voSo"
      }
    },
    {
      "cell_type": "code",
      "source": [
        "def sum_of_n(n):\n",
        "  if n == 1:\n",
        "    return 1\n",
        "  else:\n",
        "    return n + sum_of_n(n-1)"
      ],
      "metadata": {
        "id": "ToK9XlVKvLYu"
      },
      "execution_count": 13,
      "outputs": []
    },
    {
      "cell_type": "code",
      "source": [
        "sum_of_n(33)"
      ],
      "metadata": {
        "colab": {
          "base_uri": "https://localhost:8080/"
        },
        "id": "vXmjUJnuv1M3",
        "outputId": "dffa5f4d-b0a5-448a-8a69-38711d2ce821"
      },
      "execution_count": 14,
      "outputs": [
        {
          "output_type": "execute_result",
          "data": {
            "text/plain": [
              "561"
            ]
          },
          "metadata": {},
          "execution_count": 14
        }
      ]
    },
    {
      "cell_type": "markdown",
      "source": [
        "Armstrong number"
      ],
      "metadata": {
        "id": "Kmm2q7bBv-Qx"
      }
    },
    {
      "cell_type": "code",
      "source": [
        "def is_armstrong(number):\n",
        "  num_list = len(str(number))\n",
        "  sum = 0\n",
        "  temp=number\n",
        "\n",
        "  while temp>0:\n",
        "    digit = temp%10\n",
        "    sum += digit**num_list\n",
        "    temp//=10\n",
        "\n",
        "  if sum==number:\n",
        "    return True\n",
        "  else:\n",
        "    return False\n",
        "\n",
        "T = int(input())\n",
        "\n",
        "for t in range(T):\n",
        "  test_num = int(input())\n",
        "  if is_armstrong(test_num):\n",
        "    print(\"Yes\")\n",
        "  else:\n",
        "    print(\"No\")"
      ],
      "metadata": {
        "colab": {
          "base_uri": "https://localhost:8080/"
        },
        "id": "QQvzb0nPv8qS",
        "outputId": "23eb1447-8d0a-4785-9c33-dcba41c2c258"
      },
      "execution_count": 18,
      "outputs": [
        {
          "output_type": "stream",
          "name": "stdout",
          "text": [
            "3\n",
            "153\n",
            "Yes\n",
            "256\n",
            "No\n",
            "123\n",
            "No\n"
          ]
        }
      ]
    },
    {
      "cell_type": "markdown",
      "source": [
        "patterns"
      ],
      "metadata": {
        "id": "KOcy0jKsxWzU"
      }
    },
    {
      "cell_type": "code",
      "source": [
        "n = int(input())\n",
        "\n",
        "for i in range(0,n+1):\n",
        "  for j in range(1,i+1):\n",
        "    print(\"*\",end=\"\")\n",
        "  print()"
      ],
      "metadata": {
        "colab": {
          "base_uri": "https://localhost:8080/"
        },
        "id": "u10FW1PXv3nV",
        "outputId": "83ceda09-95d2-4f00-b309-113d5bf4e153"
      },
      "execution_count": 19,
      "outputs": [
        {
          "output_type": "stream",
          "name": "stdout",
          "text": [
            "5\n",
            "\n",
            "*\n",
            "**\n",
            "***\n",
            "****\n",
            "*****\n"
          ]
        }
      ]
    },
    {
      "cell_type": "code",
      "source": [
        "def pattern(size):\n",
        "\n",
        "  for i in range(size):\n",
        "    for j in range(1,size-i):\n",
        "      print(\" \",end=\"\")\n",
        "    for k in range(0,i+1):\n",
        "      print(\"*\",end=\"\")\n",
        "    print()\n",
        "  return pattern\n",
        "pattern(5)\n",
        "\n",
        "T= int(input())\n",
        "\n",
        "for t in range(T):\n",
        "  test_pattern = int(input())\n",
        "  pattern(test_pattern)\n",
        "  print(pattern)"
      ],
      "metadata": {
        "colab": {
          "base_uri": "https://localhost:8080/"
        },
        "id": "BD9V3CMkxk9h",
        "outputId": "f9806e9a-bb5e-413f-bf48-8fd145955aa2"
      },
      "execution_count": 24,
      "outputs": [
        {
          "output_type": "stream",
          "name": "stdout",
          "text": [
            "    *\n",
            "   **\n",
            "  ***\n",
            " ****\n",
            "*****\n",
            "3\n",
            "6\n",
            "     *\n",
            "    **\n",
            "   ***\n",
            "  ****\n",
            " *****\n",
            "******\n",
            "<function pattern at 0x7e40ac424ee0>\n",
            "8\n",
            "       *\n",
            "      **\n",
            "     ***\n",
            "    ****\n",
            "   *****\n",
            "  ******\n",
            " *******\n",
            "********\n",
            "<function pattern at 0x7e40ac424ee0>\n",
            "15\n",
            "              *\n",
            "             **\n",
            "            ***\n",
            "           ****\n",
            "          *****\n",
            "         ******\n",
            "        *******\n",
            "       ********\n",
            "      *********\n",
            "     **********\n",
            "    ***********\n",
            "   ************\n",
            "  *************\n",
            " **************\n",
            "***************\n",
            "<function pattern at 0x7e40ac424ee0>\n"
          ]
        }
      ]
    },
    {
      "cell_type": "code",
      "source": [
        "def pattern(size):\n",
        "\n",
        "  for i in range(size):\n",
        "    for j in range(size):\n",
        "      if i==j or i+j == size-1:\n",
        "        print(\"*\",end=\"\")\n",
        "      else:\n",
        "        print(\" \",end=\"\")\n",
        "    print()\n",
        "  return pattern\n",
        "\n",
        "T = int(input())\n",
        "\n",
        "for t in range(T):\n",
        "  test_pattern = int(input())\n",
        "  pattern(test_pattern)\n",
        "  print(pattern)"
      ],
      "metadata": {
        "colab": {
          "base_uri": "https://localhost:8080/"
        },
        "id": "TOGp8Jwvx2mc",
        "outputId": "083a011c-7613-4d0d-ac47-a929f9b9e091"
      },
      "execution_count": 25,
      "outputs": [
        {
          "output_type": "stream",
          "name": "stdout",
          "text": [
            "3\n",
            "5\n",
            "*   *\n",
            " * * \n",
            "  *  \n",
            " * * \n",
            "*   *\n",
            "<function pattern at 0x7e40ac425e10>\n",
            "10\n",
            "*        *\n",
            " *      * \n",
            "  *    *  \n",
            "   *  *   \n",
            "    **    \n",
            "    **    \n",
            "   *  *   \n",
            "  *    *  \n",
            " *      * \n",
            "*        *\n",
            "<function pattern at 0x7e40ac425e10>\n",
            "15\n",
            "*             *\n",
            " *           * \n",
            "  *         *  \n",
            "   *       *   \n",
            "    *     *    \n",
            "     *   *     \n",
            "      * *      \n",
            "       *       \n",
            "      * *      \n",
            "     *   *     \n",
            "    *     *    \n",
            "   *       *   \n",
            "  *         *  \n",
            " *           * \n",
            "*             *\n",
            "<function pattern at 0x7e40ac425e10>\n"
          ]
        }
      ]
    },
    {
      "cell_type": "code",
      "source": [],
      "metadata": {
        "id": "TGy6zZSRzRzD"
      },
      "execution_count": null,
      "outputs": []
    }
  ]
}