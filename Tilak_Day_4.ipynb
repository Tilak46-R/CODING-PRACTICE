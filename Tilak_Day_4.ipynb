{
  "nbformat": 4,
  "nbformat_minor": 0,
  "metadata": {
    "colab": {
      "provenance": [],
      "include_colab_link": true
    },
    "kernelspec": {
      "name": "python3",
      "display_name": "Python 3"
    },
    "language_info": {
      "name": "python"
    }
  },
  "cells": [
    {
      "cell_type": "markdown",
      "metadata": {
        "id": "view-in-github",
        "colab_type": "text"
      },
      "source": [
        "<a href=\"https://colab.research.google.com/github/Tilak46-R/CODING-PRACTICE/blob/main/Tilak_Day_4.ipynb\" target=\"_parent\"><img src=\"https://colab.research.google.com/assets/colab-badge.svg\" alt=\"Open In Colab\"/></a>"
      ]
    },
    {
      "cell_type": "markdown",
      "source": [
        "## **Guidelines for assignment**:\n",
        "1. Create a copy of this notebook in your drive and write down the answers to each question in your own words. Avoid plagiarism.\n",
        "2. Record a video of yourself answering the Maths and ML questions in a manner, (with your camera on) you would in an interview. The intention is not to read out the answer you have written. Understand the concept and explain it in your words as you would to an interviewer. You can use Zoom or similar applications to record your video.\n",
        "\n",
        "3. Upload the recorded video to your YouTube account as an unlisted video and share its link in the notebook along with solutions. You can refer to [this video](https://youtu.be/JOr7JluzEOM) for steps to unlist your video."
      ],
      "metadata": {
        "id": "cE2ZjG-tezxW"
      }
    },
    {
      "cell_type": "markdown",
      "source": [
        "#**MATH**"
      ],
      "metadata": {
        "id": "Nc0FVBPEpyqY"
      }
    },
    {
      "cell_type": "markdown",
      "source": [
        "## 1. What is the value of the function (x − 1) (x − 2)^2 at its maxima?\n",
        "\n",
        "**Solve this on a piece of paper and submit the image.**"
      ],
      "metadata": {
        "id": "WDA7fzF7F9uB"
      }
    },
    {
      "cell_type": "markdown",
      "source": [
        "Upload your answer here."
      ],
      "metadata": {
        "id": "icce6YueX8uU"
      }
    },
    {
      "cell_type": "markdown",
      "source": [
        "## 2. In a bolt factory, three machines M1, M2, and M3 manufacture respectively 2000, 2500, and 4000 bolts every day. Of their output 3%, 4%, and 2.5% are defective bolts. One of the bolt is drawn very randomly from a day’s production and is found to be defective. What is the probability that it was produced by machine M2?\n",
        "\n",
        "\n",
        "**Solve this on a piece of paper and submit the image.**"
      ],
      "metadata": {
        "id": "uQfOqJmSeOad"
      }
    },
    {
      "cell_type": "markdown",
      "source": [
        "Upload your answer here."
      ],
      "metadata": {
        "id": "HifIcs-mAkZO"
      }
    },
    {
      "cell_type": "markdown",
      "source": [
        "# **MACHINE LEARNING**\n"
      ],
      "metadata": {
        "id": "-RxcCDLjq3rV"
      }
    },
    {
      "cell_type": "markdown",
      "source": [
        "## 1. What is tradeoff between bias and variances, and the relationship between them?"
      ],
      "metadata": {
        "id": "uALxO_nuexaV"
      }
    },
    {
      "cell_type": "markdown",
      "source": [
        "**Bias:**\n",
        "\n",
        "Bias refers to the error introduced by approximating a real-world problem with a simplified model.\n",
        "A model with high bias tends to oversimplify the data, making strong assumptions about its structure.\n",
        "\n",
        "**Characteristics of a high-bias model:**\n",
        "\n",
        "It underfits the training data.\n",
        "It has low complexity (e.g., linear regression with few features).\n",
        "It consistently makes systematic errors.\n",
        "Bias can lead to poor predictions because the model fails to capture the underlying patterns.\n",
        "\n",
        "**Variance:**\n",
        "\n",
        "Variance represents the model’s sensitivity to fluctuations in the training data.\n",
        "A model with high variance fits the training data closely, even capturing noise.\n",
        "\n",
        "**Characteristics of a high-variance model:**\n",
        "\n",
        "It overfits the training data.\n",
        "It has high complexity (e.g., deep neural networks).\n",
        "It performs well on training data but poorly on unseen data.\n",
        "Variance can lead to poor generalization because the model is too flexible.\n",
        "\n",
        "**Bias-Variance Tradeoff:**\n",
        "\n",
        "The goal is to strike a balance between bias and variance.\n",
        "As you reduce bias (e.g., by increasing model complexity), variance tends to increase.\n",
        "Conversely, reducing variance (e.g., simplifying the model) often increases bias.\n",
        "The sweet spot lies where both bias and variance are minimized, leading to good generalization.\n",
        "\n",
        "**Relationship:**\n",
        "\n",
        "Bias and variance are inversely related. When one increases, the other decreases.\n",
        "Imagine a target:\n",
        "Bias aims to hit the center of the target.\n",
        "Variance determines how spread out the shots are."
      ],
      "metadata": {
        "id": "KlfxZ6NiHLJY"
      }
    },
    {
      "cell_type": "markdown",
      "source": [
        "## 2. How overfitting and underfitting can affect model generalization?\n",
        "\n"
      ],
      "metadata": {
        "id": "ijacO7Tle38O"
      }
    },
    {
      "cell_type": "markdown",
      "source": [
        "**Overfitting:**\n",
        "\n",
        "Imagine you’re trying to fit a model to a dataset. Overfitting occurs when your model becomes too complex, capturing not only the underlying patterns but also the noise or random fluctuations in the data.\n",
        "\n",
        "Signs of overfitting:\n",
        "\n",
        "The model performs exceptionally well on the training data but poorly on unseen (validation or test) data.\n",
        "The model fits the training data too closely, resulting in a high variance.\n",
        "\n",
        "Why is it bad?\n",
        "\n",
        "Overfit models generalize poorly because they’ve essentially “memorized” the training data, making them sensitive to noise.\n",
        "When applied to new data, an overfit model might make incorrect predictions.\n",
        "How to mitigate overfitting:\n",
        "Use regularization techniques (like L1 or L2 regularization) to penalize large model weights.\n",
        "Increase the amount of training data.\n",
        "Simplify the model architecture (e.g., reduce the number of layers or neurons).\n",
        "\n",
        "**Underfitting:**\n",
        "\n",
        "On the other hand, underfitting occurs when your model is too simple to capture the underlying patterns in the data.\n",
        "Signs of underfitting:\n",
        "The model performs poorly on both the training data and unseen data.\n",
        "It exhibits high bias and low variance.\n",
        "\n",
        "Why is it bad?\n",
        "\n",
        "An underfit model fails to learn the essential features of the data, leading to suboptimal predictions.\n",
        "It lacks the capacity to generalize well.\n",
        "\n",
        "How to address underfitting:\n",
        "\n",
        "Increase model complexity (more layers, more neurons, etc.).\n",
        "Choose a more expressive model architecture.\n",
        "Ensure sufficient training time."
      ],
      "metadata": {
        "id": "Hc6aJ0AQHY70"
      }
    },
    {
      "cell_type": "markdown",
      "source": [
        "## 3. How do you treat heteroscedasticity in regression? What causes Heteroscedasticity and how to fix it?"
      ],
      "metadata": {
        "id": "pmJNxRaRQbbv"
      }
    },
    {
      "cell_type": "markdown",
      "source": [
        "**What is Heteroscedasticity?**\n",
        "\n",
        "Heteroscedasticity refers to the unequal scatter of residuals (or error terms) in a regression model.\n",
        "Specifically, it occurs when the spread of residuals varies systematically across different levels of the predictor variables.\n",
        "Ordinary least squares (OLS) regression assumes constant variance (homoscedasticity), but heteroscedasticity violates this assumption.\n",
        "\n",
        "**Causes of Heteroscedasticity:**\n",
        "\n",
        "Large Data Range: Natural variation in data values can lead to heteroscedasticity. For instance, income and expenses data may exhibit higher variability for higher-income individuals.\n",
        "\n",
        "Different Scales: Variables measured on different scales can contribute to varying residuals.\n",
        "\n",
        "Outliers: Outliers can distort the spread of residuals.\n",
        "\n",
        "Omitted Variables: Missing relevant predictors can cause heteroscedasticity.\n",
        "\n",
        "Measurement Errors: Inaccurate measurements introduce variability.\n",
        "\n",
        "Sample Selection Bias: Non-random sampling can affect residuals.\n",
        "\n",
        "**Detecting Heteroscedasticity:**\n",
        "\n",
        "Create a fitted value vs. residual plot.\n",
        "Look for a “cone” shape—spread of residuals increasing with fitted values.\n",
        "\n",
        "**Fixing Heteroscedasticity:**\n",
        "\n",
        "Transformations: Apply transformations (e.g., natural logarithm) to numeric variables to stabilize variance.\n",
        "\n",
        "Separate Models: Build separate models for different subgroups (if applicable).\n",
        "\n",
        "Weighted Least Squares (WLS): Adjust weights based on variance to account for heteroscedasticity.\n",
        "\n",
        "Robust Regression: Use robust regression methods that are less sensitive to outliers."
      ],
      "metadata": {
        "id": "NrqWn_IDHZIl"
      }
    },
    {
      "cell_type": "markdown",
      "source": [
        "# **Video Recording**"
      ],
      "metadata": {
        "id": "oycAL4xzcOkX"
      }
    },
    {
      "cell_type": "markdown",
      "source": [
        "Paste your link here."
      ],
      "metadata": {
        "id": "J9dhh6Qze6Z8"
      }
    }
  ]
}