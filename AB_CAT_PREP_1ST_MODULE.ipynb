{
  "nbformat": 4,
  "nbformat_minor": 0,
  "metadata": {
    "colab": {
      "provenance": [],
      "authorship_tag": "ABX9TyPTriC9VkWQShChQrBqppmN",
      "include_colab_link": true
    },
    "kernelspec": {
      "name": "python3",
      "display_name": "Python 3"
    },
    "language_info": {
      "name": "python"
    }
  },
  "cells": [
    {
      "cell_type": "markdown",
      "metadata": {
        "id": "view-in-github",
        "colab_type": "text"
      },
      "source": [
        "<a href=\"https://colab.research.google.com/github/Tilak46-R/CODING-PRACTICE/blob/main/AB_CAT_PREP_1ST_MODULE.ipynb\" target=\"_parent\"><img src=\"https://colab.research.google.com/assets/colab-badge.svg\" alt=\"Open In Colab\"/></a>"
      ]
    },
    {
      "cell_type": "markdown",
      "source": [
        "### **DATA TYPES PRACTICE**"
      ],
      "metadata": {
        "id": "XtRyQJAItkCf"
      }
    },
    {
      "cell_type": "markdown",
      "source": [
        "Kids on a picnic decided to play fun game and find the area of circle they are sitting on. Assume the radius of circle to be some floating numbers."
      ],
      "metadata": {
        "id": "2HbO6o7ErfGE"
      }
    },
    {
      "cell_type": "code",
      "execution_count": 5,
      "metadata": {
        "colab": {
          "base_uri": "https://localhost:8080/"
        },
        "id": "hhY0-QxvrShl",
        "outputId": "d3ee5a9e-4c67-41ae-9201-74e5af34285b"
      },
      "outputs": [
        {
          "output_type": "stream",
          "name": "stdout",
          "text": [
            "1.1\n",
            "3.8\n"
          ]
        }
      ],
      "source": [
        "pi = 3.14159\n",
        "radius =float(input())\n",
        "Area = (pi * radius**2)\n",
        "print(round(Area,2))"
      ]
    },
    {
      "cell_type": "markdown",
      "source": [
        "Isha is assigned a task to calculate the total amount at the end of the day. Provided with a list, write a Python program for Isha to sum all the elements in the list."
      ],
      "metadata": {
        "id": "9bdsgFrosSt6"
      }
    },
    {
      "cell_type": "code",
      "source": [
        "lst = [1,2,-8]\n",
        "summation = sum(lst)\n",
        "print(summation)"
      ],
      "metadata": {
        "colab": {
          "base_uri": "https://localhost:8080/"
        },
        "id": "Pg-wJKkHr4dh",
        "outputId": "0064608a-77d5-42ce-9eca-d1b212d341fc"
      },
      "execution_count": 8,
      "outputs": [
        {
          "output_type": "stream",
          "name": "stdout",
          "text": [
            "-5\n"
          ]
        }
      ]
    },
    {
      "cell_type": "markdown",
      "source": [
        "Write a Python program to count the repeated word given by user in that string."
      ],
      "metadata": {
        "id": "3n4JAxGktCZU"
      }
    },
    {
      "cell_type": "code",
      "source": [
        "sentence = input()\n",
        "word = input()\n",
        "\n",
        "rep = sentence.lower()\n",
        "\n",
        "dup = rep.count(word)\n",
        "print(dup)"
      ],
      "metadata": {
        "colab": {
          "base_uri": "https://localhost:8080/"
        },
        "id": "rIhLmightEE0",
        "outputId": "4d355d8e-1de8-47d4-936e-553196cf5c49"
      },
      "execution_count": 10,
      "outputs": [
        {
          "output_type": "stream",
          "name": "stdout",
          "text": [
            "Book Dance Draw Dance is dance for dance paper dance\n",
            "dance\n",
            "5\n"
          ]
        }
      ]
    },
    {
      "cell_type": "code",
      "source": [
        "sentence = \"Book Dance Draw Dance is dance for dance paper dance\"\n",
        "len(sentence)"
      ],
      "metadata": {
        "colab": {
          "base_uri": "https://localhost:8080/"
        },
        "id": "xoewkQRCte3w",
        "outputId": "22e1b16e-fce2-4589-b62a-c2bd5d26326d"
      },
      "execution_count": 11,
      "outputs": [
        {
          "output_type": "execute_result",
          "data": {
            "text/plain": [
              "52"
            ]
          },
          "metadata": {},
          "execution_count": 11
        }
      ]
    },
    {
      "cell_type": "code",
      "source": [
        "sentence.count('e')"
      ],
      "metadata": {
        "colab": {
          "base_uri": "https://localhost:8080/"
        },
        "id": "hiOgEDm-t8gV",
        "outputId": "fc489da2-ecfd-43b6-e48e-496c3c3cf556"
      },
      "execution_count": 12,
      "outputs": [
        {
          "output_type": "execute_result",
          "data": {
            "text/plain": [
              "6"
            ]
          },
          "metadata": {},
          "execution_count": 12
        }
      ]
    },
    {
      "cell_type": "markdown",
      "metadata": {
        "id": "vfojlY6z18Ev"
      },
      "source": [
        "#### **Finding 'e's in the Bookshelves**\n",
        "\n",
        "\n",
        "\n",
        "In your pursuit of expanding your knowledge of Python, you come across a bookstore in search of books on the subject.\n",
        "\n",
        "There, you meet a salesperson who is also a Python enthusiast!!\n",
        "\n",
        "The salesperson presents you with a challenge - they have a list of five books related to Python and if you can write a program that finds the number of occurance of letter 'e' , the store will give you a free book of your choice. 😀\n",
        "\n",
        "Are you ready to accept the challenge? 💪"
      ]
    },
    {
      "cell_type": "code",
      "source": [
        "books = \"Python for Everyone, Learn Python the Hard Way, Python Crash Course , Starting Out with Python, Automate the Boring Stuff with Python\""
      ],
      "metadata": {
        "id": "Gb9jtcwzupso"
      },
      "execution_count": 13,
      "outputs": []
    },
    {
      "cell_type": "code",
      "source": [
        "books.count('e')"
      ],
      "metadata": {
        "colab": {
          "base_uri": "https://localhost:8080/"
        },
        "id": "pes9Xys4u7jJ",
        "outputId": "b7f7cab8-813b-4b23-9194-ff937520274b"
      },
      "execution_count": 16,
      "outputs": [
        {
          "output_type": "execute_result",
          "data": {
            "text/plain": [
              "7"
            ]
          },
          "metadata": {},
          "execution_count": 16
        }
      ]
    },
    {
      "cell_type": "code",
      "source": [
        "rep_books = books.lower()\n",
        "rep_books"
      ],
      "metadata": {
        "colab": {
          "base_uri": "https://localhost:8080/",
          "height": 35
        },
        "id": "q_LfeRp7utsA",
        "outputId": "83f4b2ee-0ab3-43f2-9ea9-71fb65ce892c"
      },
      "execution_count": 14,
      "outputs": [
        {
          "output_type": "execute_result",
          "data": {
            "text/plain": [
              "'python for everyone, learn python the hard way, python crash course , starting out with python, automate the boring stuff with python'"
            ],
            "application/vnd.google.colaboratory.intrinsic+json": {
              "type": "string"
            }
          },
          "metadata": {},
          "execution_count": 14
        }
      ]
    },
    {
      "cell_type": "code",
      "source": [
        "rep_books.count('e')"
      ],
      "metadata": {
        "colab": {
          "base_uri": "https://localhost:8080/"
        },
        "id": "z43FjpkSu1CA",
        "outputId": "207ca2ad-7fde-4f6c-ffc9-924f1b647d48"
      },
      "execution_count": 15,
      "outputs": [
        {
          "output_type": "execute_result",
          "data": {
            "text/plain": [
              "8"
            ]
          },
          "metadata": {},
          "execution_count": 15
        }
      ]
    },
    {
      "cell_type": "code",
      "source": [
        "books_counts = books.lower().count('a')\n",
        "print(\"The total num of a's in the given sentence is \" + str(books_counts))\n",
        "print(f\"The total num of a's in the given sentence is {books_counts}\")"
      ],
      "metadata": {
        "colab": {
          "base_uri": "https://localhost:8080/"
        },
        "id": "vt4grRuhvAB4",
        "outputId": "d619d20b-9847-471d-8c1c-adfa877d1739"
      },
      "execution_count": 24,
      "outputs": [
        {
          "output_type": "stream",
          "name": "stdout",
          "text": [
            "The total num of a's in the given sentence is 7\n",
            "The total num of a's in the given sentence is 7\n"
          ]
        }
      ]
    },
    {
      "cell_type": "markdown",
      "metadata": {
        "id": "w_7O10QKmr0o"
      },
      "source": [
        "###  Creating a String\n",
        "* To create a string in Python you need to use either single quotes or double quotes. For example:"
      ]
    },
    {
      "cell_type": "code",
      "source": [
        "name = 'Hi my name is Tilak'"
      ],
      "metadata": {
        "id": "BpEg9ZpzwUqU"
      },
      "execution_count": 27,
      "outputs": []
    },
    {
      "cell_type": "code",
      "source": [
        "print('I'm fine. How are you?')"
      ],
      "metadata": {
        "colab": {
          "base_uri": "https://localhost:8080/",
          "height": 106
        },
        "id": "knQUVnSkv9Z0",
        "outputId": "865c1130-8ba2-4b03-cd97-f880360a920f"
      },
      "execution_count": 25,
      "outputs": [
        {
          "output_type": "error",
          "ename": "SyntaxError",
          "evalue": "unterminated string literal (detected at line 1) (<ipython-input-25-f13a909ef891>, line 1)",
          "traceback": [
            "\u001b[0;36m  File \u001b[0;32m\"<ipython-input-25-f13a909ef891>\"\u001b[0;36m, line \u001b[0;32m1\u001b[0m\n\u001b[0;31m    print('I'm fine. How are you?')\u001b[0m\n\u001b[0m                                 ^\u001b[0m\n\u001b[0;31mSyntaxError\u001b[0m\u001b[0;31m:\u001b[0m unterminated string literal (detected at line 1)\n"
          ]
        }
      ]
    },
    {
      "cell_type": "code",
      "source": [
        "print('I\\'m fine. How are you?')"
      ],
      "metadata": {
        "colab": {
          "base_uri": "https://localhost:8080/"
        },
        "id": "Gh-E8ygiwGV7",
        "outputId": "e4ca42f0-6c1f-4b44-88d6-cb34b13d8584"
      },
      "execution_count": 26,
      "outputs": [
        {
          "output_type": "stream",
          "name": "stdout",
          "text": [
            "I'm fine. How are you?\n"
          ]
        }
      ]
    },
    {
      "cell_type": "markdown",
      "source": [
        "###Immutability:\n"
      ],
      "metadata": {
        "id": "caTkjT-QIuc1"
      }
    },
    {
      "cell_type": "markdown",
      "source": [
        "Strings are Immutable\n",
        "\n",
        "Lists are Mutable\n",
        "\n",
        "Tuples are immutable\n",
        "\n",
        "Dictionaries are mutable"
      ],
      "metadata": {
        "id": "gwBt6Au5xp3z"
      }
    },
    {
      "cell_type": "code",
      "source": [
        "MY_LIST = [1,2,3,4,5]\n",
        "print(MY_LIST)"
      ],
      "metadata": {
        "colab": {
          "base_uri": "https://localhost:8080/"
        },
        "id": "mKj6J-ZEwx9j",
        "outputId": "25d813cc-c258-4a45-c2fa-c2ba2a795c95"
      },
      "execution_count": 29,
      "outputs": [
        {
          "output_type": "stream",
          "name": "stdout",
          "text": [
            "[1, 2, 3, 4, 5]\n"
          ]
        }
      ]
    },
    {
      "cell_type": "code",
      "source": [
        "MY_LIST.append(6)"
      ],
      "metadata": {
        "id": "iuHOUdEPx-zu"
      },
      "execution_count": 30,
      "outputs": []
    },
    {
      "cell_type": "code",
      "source": [
        "MY_LIST"
      ],
      "metadata": {
        "colab": {
          "base_uri": "https://localhost:8080/"
        },
        "id": "nKElaO7-yEEu",
        "outputId": "2faad2d8-2102-42c8-abb6-a53492647bf2"
      },
      "execution_count": 31,
      "outputs": [
        {
          "output_type": "execute_result",
          "data": {
            "text/plain": [
              "[1, 2, 3, 4, 5, 6]"
            ]
          },
          "metadata": {},
          "execution_count": 31
        }
      ]
    },
    {
      "cell_type": "code",
      "source": [
        "lst = ['Tilak',True,25,3.14159]"
      ],
      "metadata": {
        "id": "S8YeX7Q3yIcm"
      },
      "execution_count": 32,
      "outputs": []
    },
    {
      "cell_type": "code",
      "source": [
        "lst"
      ],
      "metadata": {
        "colab": {
          "base_uri": "https://localhost:8080/"
        },
        "id": "lTRNzleFySV_",
        "outputId": "a4b66a51-ebe6-4362-b21e-5c7423918816"
      },
      "execution_count": 33,
      "outputs": [
        {
          "output_type": "execute_result",
          "data": {
            "text/plain": [
              "['Tilak', True, 25, 3.14159]"
            ]
          },
          "metadata": {},
          "execution_count": 33
        }
      ]
    },
    {
      "cell_type": "markdown",
      "source": [
        "MUTABILITY OF LISTS"
      ],
      "metadata": {
        "id": "ta1DTuh6yfrM"
      }
    },
    {
      "cell_type": "code",
      "source": [
        "lst[0]= 'Tilak R'\n",
        "lst"
      ],
      "metadata": {
        "colab": {
          "base_uri": "https://localhost:8080/"
        },
        "id": "cVK3lxkfyXow",
        "outputId": "4eb07036-81db-4613-c3a0-88fe1b979bc6"
      },
      "execution_count": 35,
      "outputs": [
        {
          "output_type": "execute_result",
          "data": {
            "text/plain": [
              "['Tilak R', True, 25, 3.14159]"
            ]
          },
          "metadata": {},
          "execution_count": 35
        }
      ]
    },
    {
      "cell_type": "markdown",
      "source": [
        "📊👨‍🎓👩‍🎓🔢📝👩‍🏫\n",
        "We have the marks scored by different students in a class stored in a list.\n",
        "The teacher wants to calculate the mean score to assess the overall performance of the class.\n",
        "Do you think you'll be able to help her out?\n",
        "\n",
        "Functions you just learned like sum() and length() are just the tools you need right now.💡💡💡"
      ],
      "metadata": {
        "id": "SFVMyq_NBP-M"
      }
    },
    {
      "cell_type": "code",
      "source": [
        "marks = [87, 76, 95, 68, 80, 83, 92, 74, 79, 89]\n",
        "\n",
        "mean_marks = sum(marks)/len(marks)\n",
        "\n",
        "print(mean_marks)"
      ],
      "metadata": {
        "colab": {
          "base_uri": "https://localhost:8080/"
        },
        "id": "xvXbBDvCy0M7",
        "outputId": "8e8cb57c-a4ec-4b4a-c562-4a6107a9007e"
      },
      "execution_count": 36,
      "outputs": [
        {
          "output_type": "stream",
          "name": "stdout",
          "text": [
            "82.3\n"
          ]
        }
      ]
    },
    {
      "cell_type": "markdown",
      "source": [
        "## Tuples and Dictionaries"
      ],
      "metadata": {
        "id": "FeQi2JArzQfD"
      }
    },
    {
      "cell_type": "code",
      "source": [
        "tup = (1,2,3,4)\n"
      ],
      "metadata": {
        "id": "xV0NuNQezQMD"
      },
      "execution_count": 37,
      "outputs": []
    },
    {
      "cell_type": "code",
      "source": [
        "tupp = (\"Tilak\",True,25,3.14159)\n",
        "tupp"
      ],
      "metadata": {
        "colab": {
          "base_uri": "https://localhost:8080/"
        },
        "id": "lDQuE_HuzYXr",
        "outputId": "edb63c66-2b1f-4697-d36c-9e3fe227abff"
      },
      "execution_count": 38,
      "outputs": [
        {
          "output_type": "execute_result",
          "data": {
            "text/plain": [
              "('Tilak', True, 25, 3.14159)"
            ]
          },
          "metadata": {},
          "execution_count": 38
        }
      ]
    },
    {
      "cell_type": "code",
      "source": [
        "tupp[0] = 'Tilak R'"
      ],
      "metadata": {
        "colab": {
          "base_uri": "https://localhost:8080/",
          "height": 141
        },
        "id": "K-ohdmmRzd3s",
        "outputId": "c1cbbb4e-c610-4c6e-ecc8-8086447b78e9"
      },
      "execution_count": 39,
      "outputs": [
        {
          "output_type": "error",
          "ename": "TypeError",
          "evalue": "'tuple' object does not support item assignment",
          "traceback": [
            "\u001b[0;31m---------------------------------------------------------------------------\u001b[0m",
            "\u001b[0;31mTypeError\u001b[0m                                 Traceback (most recent call last)",
            "\u001b[0;32m<ipython-input-39-24b96a0d068d>\u001b[0m in \u001b[0;36m<cell line: 1>\u001b[0;34m()\u001b[0m\n\u001b[0;32m----> 1\u001b[0;31m \u001b[0mtupp\u001b[0m\u001b[0;34m[\u001b[0m\u001b[0;36m0\u001b[0m\u001b[0;34m]\u001b[0m \u001b[0;34m=\u001b[0m \u001b[0;34m'Tilak R'\u001b[0m\u001b[0;34m\u001b[0m\u001b[0;34m\u001b[0m\u001b[0m\n\u001b[0m",
            "\u001b[0;31mTypeError\u001b[0m: 'tuple' object does not support item assignment"
          ]
        }
      ]
    },
    {
      "cell_type": "markdown",
      "source": [
        "Tuples are immutables"
      ],
      "metadata": {
        "id": "7geMh1DgziXu"
      }
    },
    {
      "cell_type": "code",
      "source": [
        "len(tupp)"
      ],
      "metadata": {
        "colab": {
          "base_uri": "https://localhost:8080/"
        },
        "id": "SNsx6JcpzlCZ",
        "outputId": "d9343f53-6412-4b2e-f073-38e93f24d760"
      },
      "execution_count": 40,
      "outputs": [
        {
          "output_type": "execute_result",
          "data": {
            "text/plain": [
              "4"
            ]
          },
          "metadata": {},
          "execution_count": 40
        }
      ]
    },
    {
      "cell_type": "code",
      "source": [
        "sum(tup)"
      ],
      "metadata": {
        "colab": {
          "base_uri": "https://localhost:8080/"
        },
        "id": "aNuZztO4znx6",
        "outputId": "ec1416c7-97a0-4e34-e729-a6781cd7b88d"
      },
      "execution_count": 41,
      "outputs": [
        {
          "output_type": "execute_result",
          "data": {
            "text/plain": [
              "10"
            ]
          },
          "metadata": {},
          "execution_count": 41
        }
      ]
    },
    {
      "cell_type": "code",
      "source": [
        "# Make a dictionary with {} and : to signify a key and a value\n",
        "marvel_dict = {'Name':'Thor','Place':'Asgard','Weapon' : 'Hammer', 1:2, 3 : 'power', 'alibies' : ['Ironman','Captain America'], 'abc' : {1:2, 4:5}}\n",
        "\n",
        "marvel_dict['abc']\n",
        "\n",
        "\n",
        "\n"
      ],
      "metadata": {
        "id": "nnxRbkd7OxT9",
        "colab": {
          "base_uri": "https://localhost:8080/"
        },
        "outputId": "cf835546-b910-460a-9cf2-3f0c8be9aa4b"
      },
      "execution_count": 50,
      "outputs": [
        {
          "output_type": "execute_result",
          "data": {
            "text/plain": [
              "{1: 2, 4: 5}"
            ]
          },
          "metadata": {},
          "execution_count": 50
        }
      ]
    },
    {
      "cell_type": "markdown",
      "source": [
        "Mutability of Dictionaries"
      ],
      "metadata": {
        "id": "ZErLLfPT0kSC"
      }
    },
    {
      "cell_type": "code",
      "source": [
        "customer = {\n",
        "    \"id\": 1234,\n",
        "    \"name\": \"John Smith\",\n",
        "    \"email\": \"john@example.com\"\n",
        "}\n",
        "\n",
        "\n",
        "customer[\"email\"] = 'Johnsmith@gmail.com'\n",
        "\n",
        "print(customer)"
      ],
      "metadata": {
        "colab": {
          "base_uri": "https://localhost:8080/"
        },
        "id": "tIFCYYHGzv5j",
        "outputId": "780e876b-ef2d-4f11-fa09-e3486af642f7"
      },
      "execution_count": 51,
      "outputs": [
        {
          "output_type": "stream",
          "name": "stdout",
          "text": [
            "{'id': 1234, 'name': 'John Smith', 'email': 'Johnsmith@gmail.com'}\n"
          ]
        }
      ]
    },
    {
      "cell_type": "code",
      "source": [
        "customer.keys()"
      ],
      "metadata": {
        "colab": {
          "base_uri": "https://localhost:8080/"
        },
        "id": "PRcAHB7B0iwh",
        "outputId": "11965edd-ac8f-4f1e-abdc-0df2c71a0393"
      },
      "execution_count": 52,
      "outputs": [
        {
          "output_type": "execute_result",
          "data": {
            "text/plain": [
              "dict_keys(['id', 'name', 'email'])"
            ]
          },
          "metadata": {},
          "execution_count": 52
        }
      ]
    },
    {
      "cell_type": "code",
      "source": [
        "customer.values()"
      ],
      "metadata": {
        "colab": {
          "base_uri": "https://localhost:8080/"
        },
        "id": "Ii4mi15z0pMH",
        "outputId": "d9973621-63d7-4fdb-ae25-b7e40f12ce92"
      },
      "execution_count": 53,
      "outputs": [
        {
          "output_type": "execute_result",
          "data": {
            "text/plain": [
              "dict_values([1234, 'John Smith', 'Johnsmith@gmail.com'])"
            ]
          },
          "metadata": {},
          "execution_count": 53
        }
      ]
    },
    {
      "cell_type": "code",
      "source": [
        "customer.items()"
      ],
      "metadata": {
        "colab": {
          "base_uri": "https://localhost:8080/"
        },
        "id": "N4aEk3EF0tay",
        "outputId": "a864307a-d2da-4a6d-eeed-955162588a42"
      },
      "execution_count": 54,
      "outputs": [
        {
          "output_type": "execute_result",
          "data": {
            "text/plain": [
              "dict_items([('id', 1234), ('name', 'John Smith'), ('email', 'Johnsmith@gmail.com')])"
            ]
          },
          "metadata": {},
          "execution_count": 54
        }
      ]
    },
    {
      "cell_type": "markdown",
      "source": [
        "This is how John has been storing the data at his fruit shop. He adds the name of the fruit each time it's sold, as follows:\n",
        "\n",
        "['Mango','Mango','Pineapple','Pineapple','Apple','Mango','Banana','Banana', 'Pineapple','Apple','Pineapple'] 🤦\n",
        "\n",
        "But, this method is not very efficient or easy to read.\n",
        "\n",
        "Forunately you were there at the shop to grab some apples yourselves, and you saw what John was doing.\n",
        "\n",
        "You can help him out to structure the data by using dictionaries. How?"
      ],
      "metadata": {
        "id": "DINJMrqPHD5r"
      }
    },
    {
      "cell_type": "code",
      "execution_count": 56,
      "metadata": {
        "id": "lqRlffflqcUg"
      },
      "outputs": [],
      "source": [
        "#Here's John's list:\n",
        "fruits=['Mango','Mango','Pineapple','Pineapple','Apple','Mango','Banana','Banana','Pineapple','Apple','Pineapple']"
      ]
    },
    {
      "cell_type": "code",
      "source": [
        "fruit_dict = {}\n",
        "\n",
        "fruit_dict['Mango'] = fruits.count('Mango')\n",
        "fruit_dict['Pineapple'] = fruits.count('Pineapple')\n",
        "fruit_dict['Banana'] = fruits.count('Banana')\n",
        "\n",
        "fruit_dict"
      ],
      "metadata": {
        "colab": {
          "base_uri": "https://localhost:8080/"
        },
        "id": "sswc_cb01GBs",
        "outputId": "000e2a3b-9672-4a9f-c54e-054c143188e4"
      },
      "execution_count": 57,
      "outputs": [
        {
          "output_type": "execute_result",
          "data": {
            "text/plain": [
              "{'Mango': 3, 'Pineapple': 4, 'Banana': 2}"
            ]
          },
          "metadata": {},
          "execution_count": 57
        }
      ]
    },
    {
      "cell_type": "markdown",
      "source": [
        "Write a Python program to check whether the given strings are palindromes or not. Return True otherwise False."
      ],
      "metadata": {
        "id": "53BfUGiI2BRY"
      }
    },
    {
      "cell_type": "code",
      "source": [
        "word = input()\n",
        "\n",
        "word = word[::-1]\n",
        "\n",
        "print(word == word[::-1])"
      ],
      "metadata": {
        "colab": {
          "base_uri": "https://localhost:8080/"
        },
        "id": "IhwtRdsk2Cr4",
        "outputId": "6a9f2dfa-c97b-42d8-c0a6-7b09bf5a8d3c"
      },
      "execution_count": 60,
      "outputs": [
        {
          "output_type": "stream",
          "name": "stdout",
          "text": [
            "malayalam\n",
            "True\n"
          ]
        }
      ]
    },
    {
      "cell_type": "code",
      "source": [
        "#Write a Python program to accept a string from the user and display n characters from right of string.\n",
        "\n",
        "string = String Slicing in Python\n",
        "new_str = string[-1:-6]"
      ],
      "metadata": {
        "colab": {
          "base_uri": "https://localhost:8080/",
          "height": 106
        },
        "id": "G9YzKjJ92yxu",
        "outputId": "7e44aac7-1e59-4bc5-ec7a-fc90ff0a268f"
      },
      "execution_count": 62,
      "outputs": [
        {
          "output_type": "error",
          "ename": "SyntaxError",
          "evalue": "invalid syntax (<ipython-input-62-4391f3aff63b>, line 3)",
          "traceback": [
            "\u001b[0;36m  File \u001b[0;32m\"<ipython-input-62-4391f3aff63b>\"\u001b[0;36m, line \u001b[0;32m3\u001b[0m\n\u001b[0;31m    string = String Slicing in Python\u001b[0m\n\u001b[0m                    ^\u001b[0m\n\u001b[0;31mSyntaxError\u001b[0m\u001b[0;31m:\u001b[0m invalid syntax\n"
          ]
        }
      ]
    },
    {
      "cell_type": "code",
      "source": [
        "string = input(\"enter the string\")\n",
        "n = int(input(\"enter the number of characters from right:\"))\n",
        "new_str = string[-n:]\n",
        "print(\"The last\", n, \"characters of the sting are:\", new_str)"
      ],
      "metadata": {
        "colab": {
          "base_uri": "https://localhost:8080/"
        },
        "id": "bAxCpigg3YZa",
        "outputId": "446e0c3d-a8aa-4639-c5af-c80b35858c7e"
      },
      "execution_count": 64,
      "outputs": [
        {
          "output_type": "stream",
          "name": "stdout",
          "text": [
            "enter the stringString Slicing in Python\n",
            "enter the number of characters from right:5\n",
            "The last 5 characters of the sting are: ython\n"
          ]
        }
      ]
    },
    {
      "cell_type": "markdown",
      "source": [
        "Just to sum up two list"
      ],
      "metadata": {
        "id": "hLONHuXO4kEH"
      }
    },
    {
      "cell_type": "code",
      "source": [
        "lst_orig = [1, 2, 3, 4, 5, 6, 7, 8, 9]\n",
        "lst_modify=[10, 20, 30]\n",
        "\n",
        "merged_lsit = lst_orig + lst_modify\n",
        "\n",
        "print(merged_lsit)"
      ],
      "metadata": {
        "colab": {
          "base_uri": "https://localhost:8080/"
        },
        "id": "5F9_sAHd4MJE",
        "outputId": "b68acfa9-183d-433e-edc1-c4945fc1d9b1"
      },
      "execution_count": 65,
      "outputs": [
        {
          "output_type": "stream",
          "name": "stdout",
          "text": [
            "[1, 2, 3, 4, 5, 6, 7, 8, 9, 10, 20, 30]\n"
          ]
        }
      ]
    },
    {
      "cell_type": "markdown",
      "source": [
        "Given two lists as inputs, write a python program to add the elements of the second list on to the first list at the index location 1."
      ],
      "metadata": {
        "id": "cETWPZCi4pJb"
      }
    },
    {
      "cell_type": "code",
      "source": [
        "lst_orig = [1, 2, 3, 4, 5, 6, 7, 8, 9]\n",
        "lst_modify=[10, 20, 30]\n",
        "length = len(lst_modify) + 1\n",
        "\n",
        "lst_orig[1:length] = lst_modify\n",
        "\n",
        "print(lst_orig)\n",
        "\n"
      ],
      "metadata": {
        "colab": {
          "base_uri": "https://localhost:8080/"
        },
        "id": "Pu35duug4qMj",
        "outputId": "e93aae7f-fe9d-4ab2-e8cc-0c2a7ea86bc6"
      },
      "execution_count": 68,
      "outputs": [
        {
          "output_type": "stream",
          "name": "stdout",
          "text": [
            "[1, 10, 20, 30, 5, 6, 7, 8, 9]\n"
          ]
        }
      ]
    },
    {
      "cell_type": "code",
      "source": [],
      "metadata": {
        "id": "k6k3Y7dr5Bch"
      },
      "execution_count": null,
      "outputs": []
    }
  ]
}