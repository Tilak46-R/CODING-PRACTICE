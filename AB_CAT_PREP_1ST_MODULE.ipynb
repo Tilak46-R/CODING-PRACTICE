{
  "nbformat": 4,
  "nbformat_minor": 0,
  "metadata": {
    "colab": {
      "provenance": [],
      "authorship_tag": "ABX9TyM1sXze8nuMD01+JdzMkEUv",
      "include_colab_link": true
    },
    "kernelspec": {
      "name": "python3",
      "display_name": "Python 3"
    },
    "language_info": {
      "name": "python"
    }
  },
  "cells": [
    {
      "cell_type": "markdown",
      "metadata": {
        "id": "view-in-github",
        "colab_type": "text"
      },
      "source": [
        "<a href=\"https://colab.research.google.com/github/Tilak46-R/CODING-PRACTICE/blob/main/AB_CAT_PREP_1ST_MODULE.ipynb\" target=\"_parent\"><img src=\"https://colab.research.google.com/assets/colab-badge.svg\" alt=\"Open In Colab\"/></a>"
      ]
    },
    {
      "cell_type": "markdown",
      "source": [
        "### **DATA TYPES PRACTICE**"
      ],
      "metadata": {
        "id": "XtRyQJAItkCf"
      }
    },
    {
      "cell_type": "markdown",
      "source": [
        "Kids on a picnic decided to play fun game and find the area of circle they are sitting on. Assume the radius of circle to be some floating numbers."
      ],
      "metadata": {
        "id": "2HbO6o7ErfGE"
      }
    },
    {
      "cell_type": "code",
      "execution_count": null,
      "metadata": {
        "colab": {
          "base_uri": "https://localhost:8080/"
        },
        "id": "hhY0-QxvrShl",
        "outputId": "d3ee5a9e-4c67-41ae-9201-74e5af34285b"
      },
      "outputs": [
        {
          "output_type": "stream",
          "name": "stdout",
          "text": [
            "1.1\n",
            "3.8\n"
          ]
        }
      ],
      "source": [
        "pi = 3.14159\n",
        "radius =float(input())\n",
        "Area = (pi * radius**2)\n",
        "print(round(Area,2))"
      ]
    },
    {
      "cell_type": "markdown",
      "source": [
        "Isha is assigned a task to calculate the total amount at the end of the day. Provided with a list, write a Python program for Isha to sum all the elements in the list."
      ],
      "metadata": {
        "id": "9bdsgFrosSt6"
      }
    },
    {
      "cell_type": "code",
      "source": [
        "lst = [1,2,-8]\n",
        "summation = sum(lst)\n",
        "print(summation)"
      ],
      "metadata": {
        "colab": {
          "base_uri": "https://localhost:8080/"
        },
        "id": "Pg-wJKkHr4dh",
        "outputId": "0064608a-77d5-42ce-9eca-d1b212d341fc"
      },
      "execution_count": null,
      "outputs": [
        {
          "output_type": "stream",
          "name": "stdout",
          "text": [
            "-5\n"
          ]
        }
      ]
    },
    {
      "cell_type": "markdown",
      "source": [
        "Write a Python program to count the repeated word given by user in that string."
      ],
      "metadata": {
        "id": "3n4JAxGktCZU"
      }
    },
    {
      "cell_type": "code",
      "source": [
        "sentence = input()\n",
        "word = input()\n",
        "\n",
        "rep = sentence.lower()\n",
        "\n",
        "dup = rep.count(word)\n",
        "print(dup)"
      ],
      "metadata": {
        "colab": {
          "base_uri": "https://localhost:8080/"
        },
        "id": "rIhLmightEE0",
        "outputId": "4d355d8e-1de8-47d4-936e-553196cf5c49"
      },
      "execution_count": null,
      "outputs": [
        {
          "output_type": "stream",
          "name": "stdout",
          "text": [
            "Book Dance Draw Dance is dance for dance paper dance\n",
            "dance\n",
            "5\n"
          ]
        }
      ]
    },
    {
      "cell_type": "code",
      "source": [
        "sentence = \"Book Dance Draw Dance is dance for dance paper dance\"\n",
        "len(sentence)"
      ],
      "metadata": {
        "colab": {
          "base_uri": "https://localhost:8080/"
        },
        "id": "xoewkQRCte3w",
        "outputId": "22e1b16e-fce2-4589-b62a-c2bd5d26326d"
      },
      "execution_count": null,
      "outputs": [
        {
          "output_type": "execute_result",
          "data": {
            "text/plain": [
              "52"
            ]
          },
          "metadata": {},
          "execution_count": 11
        }
      ]
    },
    {
      "cell_type": "code",
      "source": [
        "sentence.count('e')"
      ],
      "metadata": {
        "colab": {
          "base_uri": "https://localhost:8080/"
        },
        "id": "hiOgEDm-t8gV",
        "outputId": "fc489da2-ecfd-43b6-e48e-496c3c3cf556"
      },
      "execution_count": null,
      "outputs": [
        {
          "output_type": "execute_result",
          "data": {
            "text/plain": [
              "6"
            ]
          },
          "metadata": {},
          "execution_count": 12
        }
      ]
    },
    {
      "cell_type": "markdown",
      "metadata": {
        "id": "vfojlY6z18Ev"
      },
      "source": [
        "#### **Finding 'e's in the Bookshelves**\n",
        "\n",
        "\n",
        "\n",
        "In your pursuit of expanding your knowledge of Python, you come across a bookstore in search of books on the subject.\n",
        "\n",
        "There, you meet a salesperson who is also a Python enthusiast!!\n",
        "\n",
        "The salesperson presents you with a challenge - they have a list of five books related to Python and if you can write a program that finds the number of occurance of letter 'e' , the store will give you a free book of your choice. 😀\n",
        "\n",
        "Are you ready to accept the challenge? 💪"
      ]
    },
    {
      "cell_type": "code",
      "source": [
        "books = \"Python for Everyone, Learn Python the Hard Way, Python Crash Course , Starting Out with Python, Automate the Boring Stuff with Python\""
      ],
      "metadata": {
        "id": "Gb9jtcwzupso"
      },
      "execution_count": null,
      "outputs": []
    },
    {
      "cell_type": "code",
      "source": [
        "books.count('e')"
      ],
      "metadata": {
        "colab": {
          "base_uri": "https://localhost:8080/"
        },
        "id": "pes9Xys4u7jJ",
        "outputId": "b7f7cab8-813b-4b23-9194-ff937520274b"
      },
      "execution_count": null,
      "outputs": [
        {
          "output_type": "execute_result",
          "data": {
            "text/plain": [
              "7"
            ]
          },
          "metadata": {},
          "execution_count": 16
        }
      ]
    },
    {
      "cell_type": "code",
      "source": [
        "rep_books = books.lower()\n",
        "rep_books"
      ],
      "metadata": {
        "colab": {
          "base_uri": "https://localhost:8080/",
          "height": 35
        },
        "id": "q_LfeRp7utsA",
        "outputId": "83f4b2ee-0ab3-43f2-9ea9-71fb65ce892c"
      },
      "execution_count": null,
      "outputs": [
        {
          "output_type": "execute_result",
          "data": {
            "text/plain": [
              "'python for everyone, learn python the hard way, python crash course , starting out with python, automate the boring stuff with python'"
            ],
            "application/vnd.google.colaboratory.intrinsic+json": {
              "type": "string"
            }
          },
          "metadata": {},
          "execution_count": 14
        }
      ]
    },
    {
      "cell_type": "code",
      "source": [
        "rep_books.count('e')"
      ],
      "metadata": {
        "colab": {
          "base_uri": "https://localhost:8080/"
        },
        "id": "z43FjpkSu1CA",
        "outputId": "207ca2ad-7fde-4f6c-ffc9-924f1b647d48"
      },
      "execution_count": null,
      "outputs": [
        {
          "output_type": "execute_result",
          "data": {
            "text/plain": [
              "8"
            ]
          },
          "metadata": {},
          "execution_count": 15
        }
      ]
    },
    {
      "cell_type": "code",
      "source": [
        "books_counts = books.lower().count('a')\n",
        "print(\"The total num of a's in the given sentence is \" + str(books_counts))\n",
        "print(f\"The total num of a's in the given sentence is {books_counts}\")"
      ],
      "metadata": {
        "colab": {
          "base_uri": "https://localhost:8080/"
        },
        "id": "vt4grRuhvAB4",
        "outputId": "d619d20b-9847-471d-8c1c-adfa877d1739"
      },
      "execution_count": null,
      "outputs": [
        {
          "output_type": "stream",
          "name": "stdout",
          "text": [
            "The total num of a's in the given sentence is 7\n",
            "The total num of a's in the given sentence is 7\n"
          ]
        }
      ]
    },
    {
      "cell_type": "markdown",
      "metadata": {
        "id": "w_7O10QKmr0o"
      },
      "source": [
        "###  Creating a String\n",
        "* To create a string in Python you need to use either single quotes or double quotes. For example:"
      ]
    },
    {
      "cell_type": "code",
      "source": [
        "name = 'Hi my name is Tilak'"
      ],
      "metadata": {
        "id": "BpEg9ZpzwUqU"
      },
      "execution_count": null,
      "outputs": []
    },
    {
      "cell_type": "code",
      "source": [
        "print('I'm fine. How are you?')"
      ],
      "metadata": {
        "colab": {
          "base_uri": "https://localhost:8080/",
          "height": 106
        },
        "id": "knQUVnSkv9Z0",
        "outputId": "865c1130-8ba2-4b03-cd97-f880360a920f"
      },
      "execution_count": null,
      "outputs": [
        {
          "output_type": "error",
          "ename": "SyntaxError",
          "evalue": "unterminated string literal (detected at line 1) (<ipython-input-25-f13a909ef891>, line 1)",
          "traceback": [
            "\u001b[0;36m  File \u001b[0;32m\"<ipython-input-25-f13a909ef891>\"\u001b[0;36m, line \u001b[0;32m1\u001b[0m\n\u001b[0;31m    print('I'm fine. How are you?')\u001b[0m\n\u001b[0m                                 ^\u001b[0m\n\u001b[0;31mSyntaxError\u001b[0m\u001b[0;31m:\u001b[0m unterminated string literal (detected at line 1)\n"
          ]
        }
      ]
    },
    {
      "cell_type": "code",
      "source": [
        "print('I\\'m fine. How are you?')"
      ],
      "metadata": {
        "colab": {
          "base_uri": "https://localhost:8080/"
        },
        "id": "Gh-E8ygiwGV7",
        "outputId": "e4ca42f0-6c1f-4b44-88d6-cb34b13d8584"
      },
      "execution_count": null,
      "outputs": [
        {
          "output_type": "stream",
          "name": "stdout",
          "text": [
            "I'm fine. How are you?\n"
          ]
        }
      ]
    },
    {
      "cell_type": "markdown",
      "source": [
        "###Immutability:\n"
      ],
      "metadata": {
        "id": "caTkjT-QIuc1"
      }
    },
    {
      "cell_type": "markdown",
      "source": [
        "Strings are Immutable\n",
        "\n",
        "Lists are Mutable\n",
        "\n",
        "Tuples are immutable\n",
        "\n",
        "Dictionaries are mutable"
      ],
      "metadata": {
        "id": "gwBt6Au5xp3z"
      }
    },
    {
      "cell_type": "code",
      "source": [
        "MY_LIST = [1,2,3,4,5]\n",
        "print(MY_LIST)"
      ],
      "metadata": {
        "colab": {
          "base_uri": "https://localhost:8080/"
        },
        "id": "mKj6J-ZEwx9j",
        "outputId": "25d813cc-c258-4a45-c2fa-c2ba2a795c95"
      },
      "execution_count": null,
      "outputs": [
        {
          "output_type": "stream",
          "name": "stdout",
          "text": [
            "[1, 2, 3, 4, 5]\n"
          ]
        }
      ]
    },
    {
      "cell_type": "code",
      "source": [
        "MY_LIST.append(6)"
      ],
      "metadata": {
        "id": "iuHOUdEPx-zu"
      },
      "execution_count": null,
      "outputs": []
    },
    {
      "cell_type": "code",
      "source": [
        "MY_LIST"
      ],
      "metadata": {
        "colab": {
          "base_uri": "https://localhost:8080/"
        },
        "id": "nKElaO7-yEEu",
        "outputId": "2faad2d8-2102-42c8-abb6-a53492647bf2"
      },
      "execution_count": null,
      "outputs": [
        {
          "output_type": "execute_result",
          "data": {
            "text/plain": [
              "[1, 2, 3, 4, 5, 6]"
            ]
          },
          "metadata": {},
          "execution_count": 31
        }
      ]
    },
    {
      "cell_type": "code",
      "source": [
        "lst = ['Tilak',True,25,3.14159]"
      ],
      "metadata": {
        "id": "S8YeX7Q3yIcm"
      },
      "execution_count": null,
      "outputs": []
    },
    {
      "cell_type": "code",
      "source": [
        "lst"
      ],
      "metadata": {
        "colab": {
          "base_uri": "https://localhost:8080/"
        },
        "id": "lTRNzleFySV_",
        "outputId": "a4b66a51-ebe6-4362-b21e-5c7423918816"
      },
      "execution_count": null,
      "outputs": [
        {
          "output_type": "execute_result",
          "data": {
            "text/plain": [
              "['Tilak', True, 25, 3.14159]"
            ]
          },
          "metadata": {},
          "execution_count": 33
        }
      ]
    },
    {
      "cell_type": "markdown",
      "source": [
        "MUTABILITY OF LISTS"
      ],
      "metadata": {
        "id": "ta1DTuh6yfrM"
      }
    },
    {
      "cell_type": "code",
      "source": [
        "lst[0]= 'Tilak R'\n",
        "lst"
      ],
      "metadata": {
        "colab": {
          "base_uri": "https://localhost:8080/"
        },
        "id": "cVK3lxkfyXow",
        "outputId": "4eb07036-81db-4613-c3a0-88fe1b979bc6"
      },
      "execution_count": null,
      "outputs": [
        {
          "output_type": "execute_result",
          "data": {
            "text/plain": [
              "['Tilak R', True, 25, 3.14159]"
            ]
          },
          "metadata": {},
          "execution_count": 35
        }
      ]
    },
    {
      "cell_type": "markdown",
      "source": [
        "📊👨‍🎓👩‍🎓🔢📝👩‍🏫\n",
        "We have the marks scored by different students in a class stored in a list.\n",
        "The teacher wants to calculate the mean score to assess the overall performance of the class.\n",
        "Do you think you'll be able to help her out?\n",
        "\n",
        "Functions you just learned like sum() and length() are just the tools you need right now.💡💡💡"
      ],
      "metadata": {
        "id": "SFVMyq_NBP-M"
      }
    },
    {
      "cell_type": "code",
      "source": [
        "marks = [87, 76, 95, 68, 80, 83, 92, 74, 79, 89]\n",
        "\n",
        "mean_marks = sum(marks)/len(marks)\n",
        "\n",
        "print(mean_marks)"
      ],
      "metadata": {
        "colab": {
          "base_uri": "https://localhost:8080/"
        },
        "id": "xvXbBDvCy0M7",
        "outputId": "8e8cb57c-a4ec-4b4a-c562-4a6107a9007e"
      },
      "execution_count": null,
      "outputs": [
        {
          "output_type": "stream",
          "name": "stdout",
          "text": [
            "82.3\n"
          ]
        }
      ]
    },
    {
      "cell_type": "markdown",
      "source": [
        "## Tuples and Dictionaries"
      ],
      "metadata": {
        "id": "FeQi2JArzQfD"
      }
    },
    {
      "cell_type": "code",
      "source": [
        "tup = (1,2,3,4)\n"
      ],
      "metadata": {
        "id": "xV0NuNQezQMD"
      },
      "execution_count": null,
      "outputs": []
    },
    {
      "cell_type": "code",
      "source": [
        "tupp = (\"Tilak\",True,25,3.14159)\n",
        "tupp"
      ],
      "metadata": {
        "colab": {
          "base_uri": "https://localhost:8080/"
        },
        "id": "lDQuE_HuzYXr",
        "outputId": "edb63c66-2b1f-4697-d36c-9e3fe227abff"
      },
      "execution_count": null,
      "outputs": [
        {
          "output_type": "execute_result",
          "data": {
            "text/plain": [
              "('Tilak', True, 25, 3.14159)"
            ]
          },
          "metadata": {},
          "execution_count": 38
        }
      ]
    },
    {
      "cell_type": "code",
      "source": [
        "tupp[0] = 'Tilak R'"
      ],
      "metadata": {
        "colab": {
          "base_uri": "https://localhost:8080/",
          "height": 141
        },
        "id": "K-ohdmmRzd3s",
        "outputId": "c1cbbb4e-c610-4c6e-ecc8-8086447b78e9"
      },
      "execution_count": null,
      "outputs": [
        {
          "output_type": "error",
          "ename": "TypeError",
          "evalue": "'tuple' object does not support item assignment",
          "traceback": [
            "\u001b[0;31m---------------------------------------------------------------------------\u001b[0m",
            "\u001b[0;31mTypeError\u001b[0m                                 Traceback (most recent call last)",
            "\u001b[0;32m<ipython-input-39-24b96a0d068d>\u001b[0m in \u001b[0;36m<cell line: 1>\u001b[0;34m()\u001b[0m\n\u001b[0;32m----> 1\u001b[0;31m \u001b[0mtupp\u001b[0m\u001b[0;34m[\u001b[0m\u001b[0;36m0\u001b[0m\u001b[0;34m]\u001b[0m \u001b[0;34m=\u001b[0m \u001b[0;34m'Tilak R'\u001b[0m\u001b[0;34m\u001b[0m\u001b[0;34m\u001b[0m\u001b[0m\n\u001b[0m",
            "\u001b[0;31mTypeError\u001b[0m: 'tuple' object does not support item assignment"
          ]
        }
      ]
    },
    {
      "cell_type": "markdown",
      "source": [
        "Tuples are immutables"
      ],
      "metadata": {
        "id": "7geMh1DgziXu"
      }
    },
    {
      "cell_type": "code",
      "source": [
        "len(tupp)"
      ],
      "metadata": {
        "colab": {
          "base_uri": "https://localhost:8080/"
        },
        "id": "SNsx6JcpzlCZ",
        "outputId": "d9343f53-6412-4b2e-f073-38e93f24d760"
      },
      "execution_count": null,
      "outputs": [
        {
          "output_type": "execute_result",
          "data": {
            "text/plain": [
              "4"
            ]
          },
          "metadata": {},
          "execution_count": 40
        }
      ]
    },
    {
      "cell_type": "code",
      "source": [
        "sum(tup)"
      ],
      "metadata": {
        "colab": {
          "base_uri": "https://localhost:8080/"
        },
        "id": "aNuZztO4znx6",
        "outputId": "ec1416c7-97a0-4e34-e729-a6781cd7b88d"
      },
      "execution_count": null,
      "outputs": [
        {
          "output_type": "execute_result",
          "data": {
            "text/plain": [
              "10"
            ]
          },
          "metadata": {},
          "execution_count": 41
        }
      ]
    },
    {
      "cell_type": "code",
      "source": [
        "# Make a dictionary with {} and : to signify a key and a value\n",
        "marvel_dict = {'Name':'Thor','Place':'Asgard','Weapon' : 'Hammer', 1:2, 3 : 'power', 'alibies' : ['Ironman','Captain America'], 'abc' : {1:2, 4:5}}\n",
        "\n",
        "marvel_dict['abc']\n",
        "\n",
        "\n",
        "\n"
      ],
      "metadata": {
        "id": "nnxRbkd7OxT9",
        "colab": {
          "base_uri": "https://localhost:8080/"
        },
        "outputId": "cf835546-b910-460a-9cf2-3f0c8be9aa4b"
      },
      "execution_count": null,
      "outputs": [
        {
          "output_type": "execute_result",
          "data": {
            "text/plain": [
              "{1: 2, 4: 5}"
            ]
          },
          "metadata": {},
          "execution_count": 50
        }
      ]
    },
    {
      "cell_type": "markdown",
      "source": [
        "Mutability of Dictionaries"
      ],
      "metadata": {
        "id": "ZErLLfPT0kSC"
      }
    },
    {
      "cell_type": "code",
      "source": [
        "customer = {\n",
        "    \"id\": 1234,\n",
        "    \"name\": \"John Smith\",\n",
        "    \"email\": \"john@example.com\"\n",
        "}\n",
        "\n",
        "\n",
        "customer[\"email\"] = 'Johnsmith@gmail.com'\n",
        "\n",
        "print(customer)"
      ],
      "metadata": {
        "colab": {
          "base_uri": "https://localhost:8080/"
        },
        "id": "tIFCYYHGzv5j",
        "outputId": "780e876b-ef2d-4f11-fa09-e3486af642f7"
      },
      "execution_count": null,
      "outputs": [
        {
          "output_type": "stream",
          "name": "stdout",
          "text": [
            "{'id': 1234, 'name': 'John Smith', 'email': 'Johnsmith@gmail.com'}\n"
          ]
        }
      ]
    },
    {
      "cell_type": "code",
      "source": [
        "customer.keys()"
      ],
      "metadata": {
        "colab": {
          "base_uri": "https://localhost:8080/"
        },
        "id": "PRcAHB7B0iwh",
        "outputId": "11965edd-ac8f-4f1e-abdc-0df2c71a0393"
      },
      "execution_count": null,
      "outputs": [
        {
          "output_type": "execute_result",
          "data": {
            "text/plain": [
              "dict_keys(['id', 'name', 'email'])"
            ]
          },
          "metadata": {},
          "execution_count": 52
        }
      ]
    },
    {
      "cell_type": "code",
      "source": [
        "customer.values()"
      ],
      "metadata": {
        "colab": {
          "base_uri": "https://localhost:8080/"
        },
        "id": "Ii4mi15z0pMH",
        "outputId": "d9973621-63d7-4fdb-ae25-b7e40f12ce92"
      },
      "execution_count": null,
      "outputs": [
        {
          "output_type": "execute_result",
          "data": {
            "text/plain": [
              "dict_values([1234, 'John Smith', 'Johnsmith@gmail.com'])"
            ]
          },
          "metadata": {},
          "execution_count": 53
        }
      ]
    },
    {
      "cell_type": "code",
      "source": [
        "customer.items()"
      ],
      "metadata": {
        "colab": {
          "base_uri": "https://localhost:8080/"
        },
        "id": "N4aEk3EF0tay",
        "outputId": "a864307a-d2da-4a6d-eeed-955162588a42"
      },
      "execution_count": null,
      "outputs": [
        {
          "output_type": "execute_result",
          "data": {
            "text/plain": [
              "dict_items([('id', 1234), ('name', 'John Smith'), ('email', 'Johnsmith@gmail.com')])"
            ]
          },
          "metadata": {},
          "execution_count": 54
        }
      ]
    },
    {
      "cell_type": "markdown",
      "source": [
        "This is how John has been storing the data at his fruit shop. He adds the name of the fruit each time it's sold, as follows:\n",
        "\n",
        "['Mango','Mango','Pineapple','Pineapple','Apple','Mango','Banana','Banana', 'Pineapple','Apple','Pineapple'] 🤦\n",
        "\n",
        "But, this method is not very efficient or easy to read.\n",
        "\n",
        "Forunately you were there at the shop to grab some apples yourselves, and you saw what John was doing.\n",
        "\n",
        "You can help him out to structure the data by using dictionaries. How?"
      ],
      "metadata": {
        "id": "DINJMrqPHD5r"
      }
    },
    {
      "cell_type": "code",
      "execution_count": null,
      "metadata": {
        "id": "lqRlffflqcUg"
      },
      "outputs": [],
      "source": [
        "#Here's John's list:\n",
        "fruits=['Mango','Mango','Pineapple','Pineapple','Apple','Mango','Banana','Banana','Pineapple','Apple','Pineapple']"
      ]
    },
    {
      "cell_type": "code",
      "source": [
        "fruit_dict = {}\n",
        "\n",
        "fruit_dict['Mango'] = fruits.count('Mango')\n",
        "fruit_dict['Pineapple'] = fruits.count('Pineapple')\n",
        "fruit_dict['Banana'] = fruits.count('Banana')\n",
        "\n",
        "fruit_dict"
      ],
      "metadata": {
        "colab": {
          "base_uri": "https://localhost:8080/"
        },
        "id": "sswc_cb01GBs",
        "outputId": "000e2a3b-9672-4a9f-c54e-054c143188e4"
      },
      "execution_count": null,
      "outputs": [
        {
          "output_type": "execute_result",
          "data": {
            "text/plain": [
              "{'Mango': 3, 'Pineapple': 4, 'Banana': 2}"
            ]
          },
          "metadata": {},
          "execution_count": 57
        }
      ]
    },
    {
      "cell_type": "markdown",
      "source": [
        "Write a Python program to check whether the given strings are palindromes or not. Return True otherwise False."
      ],
      "metadata": {
        "id": "53BfUGiI2BRY"
      }
    },
    {
      "cell_type": "code",
      "source": [
        "word = input()\n",
        "\n",
        "word = word[::-1]\n",
        "\n",
        "print(word == word[::-1])"
      ],
      "metadata": {
        "colab": {
          "base_uri": "https://localhost:8080/"
        },
        "id": "IhwtRdsk2Cr4",
        "outputId": "6a9f2dfa-c97b-42d8-c0a6-7b09bf5a8d3c"
      },
      "execution_count": null,
      "outputs": [
        {
          "output_type": "stream",
          "name": "stdout",
          "text": [
            "malayalam\n",
            "True\n"
          ]
        }
      ]
    },
    {
      "cell_type": "code",
      "source": [
        "#Write a Python program to accept a string from the user and display n characters from right of string.\n",
        "\n",
        "string = String Slicing in Python\n",
        "new_str = string[-1:-6]"
      ],
      "metadata": {
        "colab": {
          "base_uri": "https://localhost:8080/",
          "height": 106
        },
        "id": "G9YzKjJ92yxu",
        "outputId": "7e44aac7-1e59-4bc5-ec7a-fc90ff0a268f"
      },
      "execution_count": null,
      "outputs": [
        {
          "output_type": "error",
          "ename": "SyntaxError",
          "evalue": "invalid syntax (<ipython-input-62-4391f3aff63b>, line 3)",
          "traceback": [
            "\u001b[0;36m  File \u001b[0;32m\"<ipython-input-62-4391f3aff63b>\"\u001b[0;36m, line \u001b[0;32m3\u001b[0m\n\u001b[0;31m    string = String Slicing in Python\u001b[0m\n\u001b[0m                    ^\u001b[0m\n\u001b[0;31mSyntaxError\u001b[0m\u001b[0;31m:\u001b[0m invalid syntax\n"
          ]
        }
      ]
    },
    {
      "cell_type": "code",
      "source": [
        "string = input(\"enter the string\")\n",
        "n = int(input(\"enter the number of characters from right:\"))\n",
        "new_str = string[-n:]\n",
        "print(\"The last\", n, \"characters of the sting are:\", new_str)"
      ],
      "metadata": {
        "colab": {
          "base_uri": "https://localhost:8080/"
        },
        "id": "bAxCpigg3YZa",
        "outputId": "446e0c3d-a8aa-4639-c5af-c80b35858c7e"
      },
      "execution_count": null,
      "outputs": [
        {
          "output_type": "stream",
          "name": "stdout",
          "text": [
            "enter the stringString Slicing in Python\n",
            "enter the number of characters from right:5\n",
            "The last 5 characters of the sting are: ython\n"
          ]
        }
      ]
    },
    {
      "cell_type": "markdown",
      "source": [
        "Just to sum up two list"
      ],
      "metadata": {
        "id": "hLONHuXO4kEH"
      }
    },
    {
      "cell_type": "code",
      "source": [
        "lst_orig = [1, 2, 3, 4, 5, 6, 7, 8, 9]\n",
        "lst_modify=[10, 20, 30]\n",
        "\n",
        "merged_lsit = lst_orig + lst_modify\n",
        "\n",
        "print(merged_lsit)"
      ],
      "metadata": {
        "colab": {
          "base_uri": "https://localhost:8080/"
        },
        "id": "5F9_sAHd4MJE",
        "outputId": "b68acfa9-183d-433e-edc1-c4945fc1d9b1"
      },
      "execution_count": null,
      "outputs": [
        {
          "output_type": "stream",
          "name": "stdout",
          "text": [
            "[1, 2, 3, 4, 5, 6, 7, 8, 9, 10, 20, 30]\n"
          ]
        }
      ]
    },
    {
      "cell_type": "markdown",
      "source": [
        "Given two lists as inputs, write a python program to add the elements of the second list on to the first list at the index location 1."
      ],
      "metadata": {
        "id": "cETWPZCi4pJb"
      }
    },
    {
      "cell_type": "code",
      "source": [
        "lst_orig = [1, 2, 3, 4, 5, 6, 7, 8, 9]\n",
        "lst_modify=[10, 20, 30]\n",
        "length = len(lst_modify) + 1\n",
        "\n",
        "lst_orig[1:length] = lst_modify\n",
        "\n",
        "print(lst_orig)\n",
        "\n"
      ],
      "metadata": {
        "colab": {
          "base_uri": "https://localhost:8080/"
        },
        "id": "Pu35duug4qMj",
        "outputId": "e93aae7f-fe9d-4ab2-e8cc-0c2a7ea86bc6"
      },
      "execution_count": null,
      "outputs": [
        {
          "output_type": "stream",
          "name": "stdout",
          "text": [
            "[1, 10, 20, 30, 5, 6, 7, 8, 9]\n"
          ]
        }
      ]
    },
    {
      "cell_type": "markdown",
      "source": [
        "## **INDEXING AND SLICING**"
      ],
      "metadata": {
        "id": "mV2ULNUQaoEz"
      }
    },
    {
      "cell_type": "markdown",
      "source": [
        "Strings can be indexed\n",
        "\n",
        "Lists can be indexed\n",
        "\n",
        "Tuples can be indexed\n",
        "\n",
        "Dictionaries can be indexed through keys\n",
        "\n",
        "Sets cannot be indexed since they are unordered collection of unique items"
      ],
      "metadata": {
        "id": "6fYzXCsEcZ96"
      }
    },
    {
      "cell_type": "code",
      "source": [
        "lst = [1,2,3,4,5,6,7,8,9]\n",
        "lst[1]\n"
      ],
      "metadata": {
        "id": "k6k3Y7dr5Bch",
        "colab": {
          "base_uri": "https://localhost:8080/"
        },
        "outputId": "cd6088c0-46a2-43a6-cc57-773098d8ae7d"
      },
      "execution_count": 1,
      "outputs": [
        {
          "output_type": "execute_result",
          "data": {
            "text/plain": [
              "2"
            ]
          },
          "metadata": {},
          "execution_count": 1
        }
      ]
    },
    {
      "cell_type": "code",
      "source": [
        "lst[2]"
      ],
      "metadata": {
        "colab": {
          "base_uri": "https://localhost:8080/"
        },
        "id": "wM4fjGEJavQr",
        "outputId": "c6aedb4a-289c-4c71-e891-c133247a0acb"
      },
      "execution_count": 2,
      "outputs": [
        {
          "output_type": "execute_result",
          "data": {
            "text/plain": [
              "3"
            ]
          },
          "metadata": {},
          "execution_count": 2
        }
      ]
    },
    {
      "cell_type": "code",
      "source": [
        "lst = ['Arun','Tilak','Pavan','Teju','Nisha','Mamatha']\n",
        "lst[4]"
      ],
      "metadata": {
        "colab": {
          "base_uri": "https://localhost:8080/",
          "height": 35
        },
        "id": "ox4M0Yo1azqj",
        "outputId": "0822652e-9a3e-40cc-f96e-652e62a2e86e"
      },
      "execution_count": 3,
      "outputs": [
        {
          "output_type": "execute_result",
          "data": {
            "text/plain": [
              "'Nisha'"
            ],
            "application/vnd.google.colaboratory.intrinsic+json": {
              "type": "string"
            }
          },
          "metadata": {},
          "execution_count": 3
        }
      ]
    },
    {
      "cell_type": "code",
      "source": [
        "tup = ('Arun','Tilak','Pavan','Teju','Nisha','Mamatha')\n",
        "tup[3]"
      ],
      "metadata": {
        "colab": {
          "base_uri": "https://localhost:8080/",
          "height": 35
        },
        "id": "wY_XmhxnbASw",
        "outputId": "9c18eb77-f3f9-4ad7-a19d-7a5868c29936"
      },
      "execution_count": 5,
      "outputs": [
        {
          "output_type": "execute_result",
          "data": {
            "text/plain": [
              "'Teju'"
            ],
            "application/vnd.google.colaboratory.intrinsic+json": {
              "type": "string"
            }
          },
          "metadata": {},
          "execution_count": 5
        }
      ]
    },
    {
      "cell_type": "code",
      "source": [
        "stri = \"My name is Tilak\"\n",
        "stri[0]"
      ],
      "metadata": {
        "colab": {
          "base_uri": "https://localhost:8080/",
          "height": 35
        },
        "id": "mOYuF7mobHZm",
        "outputId": "5d0c80ca-5534-4d46-b24a-b234296a2568"
      },
      "execution_count": 6,
      "outputs": [
        {
          "output_type": "execute_result",
          "data": {
            "text/plain": [
              "'M'"
            ],
            "application/vnd.google.colaboratory.intrinsic+json": {
              "type": "string"
            }
          },
          "metadata": {},
          "execution_count": 6
        }
      ]
    },
    {
      "cell_type": "code",
      "source": [
        "stri[5]"
      ],
      "metadata": {
        "colab": {
          "base_uri": "https://localhost:8080/",
          "height": 35
        },
        "id": "1y_QVi1CbUBF",
        "outputId": "fd9e22e5-dd51-4037-93f8-ae34322c0bcd"
      },
      "execution_count": 7,
      "outputs": [
        {
          "output_type": "execute_result",
          "data": {
            "text/plain": [
              "'m'"
            ],
            "application/vnd.google.colaboratory.intrinsic+json": {
              "type": "string"
            }
          },
          "metadata": {},
          "execution_count": 7
        }
      ]
    },
    {
      "cell_type": "code",
      "source": [
        "dict = {\n",
        "      \"Name\" : \"Tilak\",\n",
        "      \"Age\" : \"25\",\n",
        "      \"email\":\"arunnayak221@gmail.com\"\n",
        "    }"
      ],
      "metadata": {
        "id": "qmGKtKBIbW7Y"
      },
      "execution_count": 13,
      "outputs": []
    },
    {
      "cell_type": "code",
      "source": [
        "dict['Name']"
      ],
      "metadata": {
        "colab": {
          "base_uri": "https://localhost:8080/",
          "height": 35
        },
        "id": "ecCiP9IycE_0",
        "outputId": "c87d516a-a4d4-46d4-f247-e2f3c0ea0d33"
      },
      "execution_count": 14,
      "outputs": [
        {
          "output_type": "execute_result",
          "data": {
            "text/plain": [
              "'Tilak'"
            ],
            "application/vnd.google.colaboratory.intrinsic+json": {
              "type": "string"
            }
          },
          "metadata": {},
          "execution_count": 14
        }
      ]
    },
    {
      "cell_type": "code",
      "source": [
        "dict[\"Age\"]"
      ],
      "metadata": {
        "colab": {
          "base_uri": "https://localhost:8080/",
          "height": 35
        },
        "id": "wmBmdBlWcHcw",
        "outputId": "439c892a-84f6-4120-a332-926d10731b65"
      },
      "execution_count": 17,
      "outputs": [
        {
          "output_type": "execute_result",
          "data": {
            "text/plain": [
              "'25'"
            ],
            "application/vnd.google.colaboratory.intrinsic+json": {
              "type": "string"
            }
          },
          "metadata": {},
          "execution_count": 17
        }
      ]
    },
    {
      "cell_type": "code",
      "source": [
        "my_set = {1, 2, 3, 4, 5}\n",
        "print(my_set[2])\n"
      ],
      "metadata": {
        "colab": {
          "base_uri": "https://localhost:8080/",
          "height": 158
        },
        "id": "nyv95MhTcJCN",
        "outputId": "aecc9c03-4f85-49a3-8036-d341fd34d222"
      },
      "execution_count": 18,
      "outputs": [
        {
          "output_type": "error",
          "ename": "TypeError",
          "evalue": "'set' object is not subscriptable",
          "traceback": [
            "\u001b[0;31m---------------------------------------------------------------------------\u001b[0m",
            "\u001b[0;31mTypeError\u001b[0m                                 Traceback (most recent call last)",
            "\u001b[0;32m<ipython-input-18-9e7ef3bd999b>\u001b[0m in \u001b[0;36m<cell line: 2>\u001b[0;34m()\u001b[0m\n\u001b[1;32m      1\u001b[0m \u001b[0mmy_set\u001b[0m \u001b[0;34m=\u001b[0m \u001b[0;34m{\u001b[0m\u001b[0;36m1\u001b[0m\u001b[0;34m,\u001b[0m \u001b[0;36m2\u001b[0m\u001b[0;34m,\u001b[0m \u001b[0;36m3\u001b[0m\u001b[0;34m,\u001b[0m \u001b[0;36m4\u001b[0m\u001b[0;34m,\u001b[0m \u001b[0;36m5\u001b[0m\u001b[0;34m}\u001b[0m\u001b[0;34m\u001b[0m\u001b[0;34m\u001b[0m\u001b[0m\n\u001b[0;32m----> 2\u001b[0;31m \u001b[0mprint\u001b[0m\u001b[0;34m(\u001b[0m\u001b[0mmy_set\u001b[0m\u001b[0;34m[\u001b[0m\u001b[0;36m2\u001b[0m\u001b[0;34m]\u001b[0m\u001b[0;34m)\u001b[0m\u001b[0;34m\u001b[0m\u001b[0;34m\u001b[0m\u001b[0m\n\u001b[0m",
            "\u001b[0;31mTypeError\u001b[0m: 'set' object is not subscriptable"
          ]
        }
      ]
    },
    {
      "cell_type": "markdown",
      "source": [
        "#### Consider the following list of iconic marvel movie characters. Create two teams of superheroes based on their index position: one team should consist of all the characters located at even index positions, while the other team should consist of all the characters located at odd index positions.\n",
        "\n",
        "marvel_words = ['Avengers', 'X-Men', 'Spider-Man', 'Iron Man', 'Hulk', 'Thor', 'Black Widow', 'Captain America', 'Wolverine', 'Doctor Strange', 'Namor']"
      ],
      "metadata": {
        "id": "ExOuQaMiYSs7"
      }
    },
    {
      "cell_type": "code",
      "source": [
        "#Here's the list\n",
        "marvel_words = ['Avengers', 'X-Men', 'Spider-Man', 'Iron Man', 'Hulk', 'Thor', 'Black Widow', 'Captain America', 'Wolverine', 'Doctor Strange','Namor']"
      ],
      "metadata": {
        "id": "g2m_I-RxRQb5"
      },
      "execution_count": 34,
      "outputs": []
    },
    {
      "cell_type": "code",
      "source": [
        "team_even = [marvel_words[0],marvel_words[2],marvel_words[4],marvel_words[6],marvel_words[8],marvel_words[10]]\n",
        "team_odd = [marvel_words[1],marvel_words[3],marvel_words[5],marvel_words[7],marvel_words[9]]"
      ],
      "metadata": {
        "id": "xdUyQRfac94i"
      },
      "execution_count": 21,
      "outputs": []
    },
    {
      "cell_type": "code",
      "source": [
        "print(team_even)"
      ],
      "metadata": {
        "colab": {
          "base_uri": "https://localhost:8080/"
        },
        "id": "6bufF2nvdaWz",
        "outputId": "ce7629a8-7b44-4d58-95ad-750052173f56"
      },
      "execution_count": 22,
      "outputs": [
        {
          "output_type": "stream",
          "name": "stdout",
          "text": [
            "['Avengers', 'Spider-Man', 'Hulk', 'Black Widow', 'Wolverine', 'Namor']\n"
          ]
        }
      ]
    },
    {
      "cell_type": "code",
      "source": [
        "print(team_odd)"
      ],
      "metadata": {
        "colab": {
          "base_uri": "https://localhost:8080/"
        },
        "id": "Qbve2ap-dcbB",
        "outputId": "1f82be33-1989-464a-c638-74e91b5576f2"
      },
      "execution_count": 23,
      "outputs": [
        {
          "output_type": "stream",
          "name": "stdout",
          "text": [
            "['X-Men', 'Iron Man', 'Thor', 'Captain America', 'Doctor Strange']\n"
          ]
        }
      ]
    },
    {
      "cell_type": "markdown",
      "source": [
        "#### Consider the following list of iconic marvel movie characters. Store the word 'Namor' in a variable and use reverse indexing to reverse it.\n",
        "\n",
        "marvel_words = ['Avengers', 'X-Men', 'Spider-Man', 'Iron Man', 'Hulk', 'Thor', 'Black Widow', 'Captain America', 'Wolverine', 'Doctor Strange', 'Namor']"
      ],
      "metadata": {
        "id": "K_QHunxknscj"
      }
    },
    {
      "cell_type": "code",
      "source": [
        "new_word = marvel_words[-1]\n",
        "new_word\n"
      ],
      "metadata": {
        "colab": {
          "base_uri": "https://localhost:8080/",
          "height": 35
        },
        "id": "XerBvS__du7T",
        "outputId": "ab907a10-e85b-434a-8c47-7f282259430e"
      },
      "execution_count": 35,
      "outputs": [
        {
          "output_type": "execute_result",
          "data": {
            "text/plain": [
              "'Namor'"
            ],
            "application/vnd.google.colaboratory.intrinsic+json": {
              "type": "string"
            }
          },
          "metadata": {},
          "execution_count": 35
        }
      ]
    },
    {
      "cell_type": "code",
      "source": [
        "reverse_words = new_word[::-1]\n",
        "\n",
        "reverse_words"
      ],
      "metadata": {
        "colab": {
          "base_uri": "https://localhost:8080/",
          "height": 35
        },
        "id": "sBVe0IUCeU8L",
        "outputId": "bcb7a3c8-bace-44f2-cf0c-6e152083fd96"
      },
      "execution_count": 36,
      "outputs": [
        {
          "output_type": "execute_result",
          "data": {
            "text/plain": [
              "'romaN'"
            ],
            "application/vnd.google.colaboratory.intrinsic+json": {
              "type": "string"
            }
          },
          "metadata": {},
          "execution_count": 36
        }
      ]
    },
    {
      "cell_type": "markdown",
      "source": [
        "## **SLICING**"
      ],
      "metadata": {
        "id": "X_oL_CoKf7jd"
      }
    },
    {
      "cell_type": "code",
      "source": [
        "sent = \"Hi my name is tilak\"\n",
        "sent[0:5]"
      ],
      "metadata": {
        "colab": {
          "base_uri": "https://localhost:8080/",
          "height": 35
        },
        "id": "BlbqNeXEf-wq",
        "outputId": "e95234fc-542d-4e06-aaac-a289f2ecbcbb"
      },
      "execution_count": 42,
      "outputs": [
        {
          "output_type": "execute_result",
          "data": {
            "text/plain": [
              "'Hi my'"
            ],
            "application/vnd.google.colaboratory.intrinsic+json": {
              "type": "string"
            }
          },
          "metadata": {},
          "execution_count": 42
        }
      ]
    },
    {
      "cell_type": "code",
      "source": [
        "sent[7:]"
      ],
      "metadata": {
        "colab": {
          "base_uri": "https://localhost:8080/",
          "height": 35
        },
        "id": "mk0CpH2GgoWj",
        "outputId": "480a9cf8-f365-44b5-a6cc-bf14320f70c8"
      },
      "execution_count": 43,
      "outputs": [
        {
          "output_type": "execute_result",
          "data": {
            "text/plain": [
              "'ame is tilak'"
            ],
            "application/vnd.google.colaboratory.intrinsic+json": {
              "type": "string"
            }
          },
          "metadata": {},
          "execution_count": 43
        }
      ]
    },
    {
      "cell_type": "markdown",
      "source": [
        "## How do we use the **step size**?\n",
        "Here we have sliced the whole string but with a step size of 2. So the program would output every second element starting from the first"
      ],
      "metadata": {
        "id": "PwtQH1-iSIzN"
      }
    },
    {
      "cell_type": "code",
      "source": [
        "sent[::2]"
      ],
      "metadata": {
        "colab": {
          "base_uri": "https://localhost:8080/",
          "height": 35
        },
        "id": "3_Ly2b4cg_EK",
        "outputId": "fdae5040-451d-4b84-d784-14090b4c3ddd"
      },
      "execution_count": 44,
      "outputs": [
        {
          "output_type": "execute_result",
          "data": {
            "text/plain": [
              "'H ynm stlk'"
            ],
            "application/vnd.google.colaboratory.intrinsic+json": {
              "type": "string"
            }
          },
          "metadata": {},
          "execution_count": 44
        }
      ]
    },
    {
      "cell_type": "code",
      "source": [
        "sent[::-1]"
      ],
      "metadata": {
        "colab": {
          "base_uri": "https://localhost:8080/",
          "height": 35
        },
        "id": "G4gIM78ehEps",
        "outputId": "82ba8beb-42ea-4d76-aa42-0ca9676651e8"
      },
      "execution_count": 45,
      "outputs": [
        {
          "output_type": "execute_result",
          "data": {
            "text/plain": [
              "'kalit si eman ym iH'"
            ],
            "application/vnd.google.colaboratory.intrinsic+json": {
              "type": "string"
            }
          },
          "metadata": {},
          "execution_count": 45
        }
      ]
    },
    {
      "cell_type": "code",
      "source": [
        "sent[::-2]"
      ],
      "metadata": {
        "colab": {
          "base_uri": "https://localhost:8080/",
          "height": 35
        },
        "id": "T1hOu19XhHnj",
        "outputId": "4db99926-caa7-46c5-914f-7c0a4d938c31"
      },
      "execution_count": 46,
      "outputs": [
        {
          "output_type": "execute_result",
          "data": {
            "text/plain": [
              "'klts mny H'"
            ],
            "application/vnd.google.colaboratory.intrinsic+json": {
              "type": "string"
            }
          },
          "metadata": {},
          "execution_count": 46
        }
      ]
    },
    {
      "cell_type": "markdown",
      "source": [
        "####🧠 **Brain Teaser** 🧠\n",
        "* How can you extract \"**yget**\" from the string \"**strategy**\"?\n"
      ],
      "metadata": {
        "id": "dj0fQNW2MD7P"
      }
    },
    {
      "cell_type": "code",
      "source": [
        "word = \"strategy\"\n",
        "new = word[-4::]\n",
        "new[::-1]"
      ],
      "metadata": {
        "colab": {
          "base_uri": "https://localhost:8080/",
          "height": 35
        },
        "id": "7eNgGSVLhXM2",
        "outputId": "0e4d7481-c845-4b19-b024-f2edf5d2ee0a"
      },
      "execution_count": 55,
      "outputs": [
        {
          "output_type": "execute_result",
          "data": {
            "text/plain": [
              "'yget'"
            ],
            "application/vnd.google.colaboratory.intrinsic+json": {
              "type": "string"
            }
          },
          "metadata": {},
          "execution_count": 55
        }
      ]
    },
    {
      "cell_type": "markdown",
      "source": [
        "or"
      ],
      "metadata": {
        "id": "ZAdHKduziGb2"
      }
    },
    {
      "cell_type": "code",
      "source": [
        "word[-1:-5:-1]"
      ],
      "metadata": {
        "colab": {
          "base_uri": "https://localhost:8080/",
          "height": 35
        },
        "id": "4gCOrpcIhvSG",
        "outputId": "420ff102-66c6-459d-f27a-3567d17e49a3"
      },
      "execution_count": 56,
      "outputs": [
        {
          "output_type": "execute_result",
          "data": {
            "text/plain": [
              "'yget'"
            ],
            "application/vnd.google.colaboratory.intrinsic+json": {
              "type": "string"
            }
          },
          "metadata": {},
          "execution_count": 56
        }
      ]
    },
    {
      "cell_type": "code",
      "source": [
        "my_tuple = (1, 2, 3, 4, 5)\n",
        "print(my_tuple[1:3])   # Output: (2, 3)\n",
        "print(my_tuple[:2])   # Output: (1, 2)"
      ],
      "metadata": {
        "colab": {
          "base_uri": "https://localhost:8080/"
        },
        "id": "Krj0aQ6Vihr5",
        "outputId": "28c2ca63-d2b9-4633-bd5c-21cf664654e5"
      },
      "execution_count": 57,
      "outputs": [
        {
          "output_type": "stream",
          "name": "stdout",
          "text": [
            "(2, 3)\n",
            "(1, 2)\n"
          ]
        }
      ]
    },
    {
      "cell_type": "code",
      "source": [
        "my_list = [1, 2, 3, 4, 5]\n",
        "\n",
        "print(my_list[1:]) #prints from first index element to last\n",
        "\n",
        "print(my_list[:1]) #prints upto first index element\n",
        "\n",
        "print(my_list[::1]) #prints upto the last element\n",
        "\n",
        "print(my_list[-1:]) #prints the last letter\n",
        "\n",
        "print(my_list[:-1]) # prints upto last element i.e the first element fom last\n",
        "\n",
        "print(my_list[::-1]) #reverses the list"
      ],
      "metadata": {
        "colab": {
          "base_uri": "https://localhost:8080/"
        },
        "id": "MfADDU8Hipf7",
        "outputId": "4c5bab8c-fd42-4fd5-f0d6-306b7b2afd2b"
      },
      "execution_count": 64,
      "outputs": [
        {
          "output_type": "stream",
          "name": "stdout",
          "text": [
            "[2, 3, 4, 5]\n",
            "[1]\n",
            "[1, 2, 3, 4, 5]\n",
            "[5]\n",
            "[1, 2, 3, 4]\n",
            "[5, 4, 3, 2, 1]\n"
          ]
        }
      ]
    },
    {
      "cell_type": "markdown",
      "source": [
        "#### Here's a list of iconic marvel movie characters:\n",
        "\n",
        "marvel_words = ['Avengers', 'X-Men', 'Spider-Man', 'Iron Man', 'Hulk', 'Thor', 'Black Widow', 'Captain America', 'Wolverine', 'Doctor Strange', 'Namor']\n",
        "\n",
        "Write a code to print these characters:\n",
        "\n",
        "'Spider-Man', 'Iron Man', 'Hulk', 'Thor', 'Black Widow', 'Captain America'\n"
      ],
      "metadata": {
        "id": "4xWhhMD7lFiO"
      }
    },
    {
      "cell_type": "code",
      "source": [
        "#Here's the list\n",
        "marvel_words = ['Avengers', 'X-Men', 'Spider-Man', 'Iron Man', 'Hulk', 'Thor', 'Black Widow', 'Captain America', 'Wolverine', 'Doctor Strange','Namor']"
      ],
      "metadata": {
        "id": "wecbawDhmHhv"
      },
      "execution_count": 67,
      "outputs": []
    },
    {
      "cell_type": "code",
      "source": [
        "new_words = marvel_words[2:8]"
      ],
      "metadata": {
        "id": "N234PsoWkDeb"
      },
      "execution_count": 70,
      "outputs": []
    },
    {
      "cell_type": "code",
      "source": [
        "new_words"
      ],
      "metadata": {
        "colab": {
          "base_uri": "https://localhost:8080/"
        },
        "id": "7ONKiqsUkJap",
        "outputId": "3b877311-a53b-4f96-b1ec-9753b13b68c3"
      },
      "execution_count": 71,
      "outputs": [
        {
          "output_type": "execute_result",
          "data": {
            "text/plain": [
              "['Spider-Man', 'Iron Man', 'Hulk', 'Thor', 'Black Widow', 'Captain America']"
            ]
          },
          "metadata": {},
          "execution_count": 71
        }
      ]
    },
    {
      "cell_type": "code",
      "source": [
        "spider = new_words[0]\n",
        "spider_extract = spider[0:6]\n",
        "spider_extract"
      ],
      "metadata": {
        "colab": {
          "base_uri": "https://localhost:8080/",
          "height": 35
        },
        "id": "RVkiVe5gkhbC",
        "outputId": "27dbb4d4-2d0d-4ff1-e866-0c634a0768b6"
      },
      "execution_count": 72,
      "outputs": [
        {
          "output_type": "execute_result",
          "data": {
            "text/plain": [
              "'Spider'"
            ],
            "application/vnd.google.colaboratory.intrinsic+json": {
              "type": "string"
            }
          },
          "metadata": {},
          "execution_count": 72
        }
      ]
    },
    {
      "cell_type": "markdown",
      "source": [
        "Print data types of all variables in desired format.."
      ],
      "metadata": {
        "id": "Y3GMfJ3_k5mb"
      }
    },
    {
      "cell_type": "code",
      "source": [
        "a = type(input())\n",
        "b = type(float(input()))\n",
        "c= type(complex(input()))\n",
        "d = type(bool(input()))\n",
        "e = type(str(input()))\n",
        "f = type(tuple(input()))\n",
        "g = type(list(input()))\n",
        "\n",
        "\n",
        "print(f\"Type of a is {a}:\")\n",
        "print(f\"Type of a is {b}:\")\n",
        "print(f\"Type of a is {c}:\")\n",
        "print(f\"Type of a is {d}:\")\n",
        "print(f\"Type of a is {e}:\")\n",
        "print(f\"Type of a is {f}:\")\n",
        "print(f\"Type of a is {g}:\")\n",
        "1"
      ],
      "metadata": {
        "colab": {
          "base_uri": "https://localhost:8080/"
        },
        "id": "hpLxB5Kxk6Pr",
        "outputId": "f1258a35-f220-4cea-f3b9-006cd513e9fb"
      },
      "execution_count": 75,
      "outputs": [
        {
          "output_type": "stream",
          "name": "stdout",
          "text": [
            "14\n",
            "4.1\n",
            "(1+2j)\n",
            "True\n",
            "tilak\n",
            "(12,5)\n",
            "[12,24,36,48]\n",
            "Type of a is <class 'str'>:\n",
            "Type of a is <class 'float'>:\n",
            "Type of a is <class 'complex'>:\n",
            "Type of a is <class 'bool'>:\n",
            "Type of a is <class 'str'>:\n",
            "Type of a is <class 'tuple'>:\n",
            "Type of a is <class 'list'>:\n"
          ]
        }
      ]
    },
    {
      "cell_type": "code",
      "source": [
        "#Write a Python program to test whether a number is within 100 of 1000 or 2000."
      ],
      "metadata": {
        "id": "b2zon3O9nDua"
      },
      "execution_count": 77,
      "outputs": []
    },
    {
      "cell_type": "code",
      "source": [
        "num = int(input())\n",
        "\n",
        "if num > 1000 or num <= 2000:\n",
        "  print(True)\n",
        "else:\n",
        "  print(False)\n",
        ""
      ],
      "metadata": {
        "colab": {
          "base_uri": "https://localhost:8080/"
        },
        "id": "MiITqqkwnG9r",
        "outputId": "99276143-c681-4d87-bf93-c5d9790f9399"
      },
      "execution_count": 82,
      "outputs": [
        {
          "output_type": "stream",
          "name": "stdout",
          "text": [
            "1000\n",
            "True\n"
          ]
        }
      ]
    },
    {
      "cell_type": "code",
      "source": [
        "num = int(input())\n",
        "\n",
        "check = ((abs(1000-num)<=100) or (abs(2000-num)<=100))\n",
        "\n",
        "print(check)"
      ],
      "metadata": {
        "colab": {
          "base_uri": "https://localhost:8080/"
        },
        "id": "o-NBZgDroGDU",
        "outputId": "fafa1773-6a7c-4e4f-c5c2-1312472231f1"
      },
      "execution_count": 83,
      "outputs": [
        {
          "output_type": "stream",
          "name": "stdout",
          "text": [
            "1000\n",
            "True\n"
          ]
        }
      ]
    },
    {
      "cell_type": "markdown",
      "source": [
        "Write a Python program to compute the future value of a specified principal amount, rate of interest, and a number of years.\n",
        "\n",
        "The formula for future value with compound interest is FV = P(1 + r/n)^nt. FV = the future value; P = the principal; r = the annual interest rate expressed as a decimal; n = the number of times interest is paid each year; t = time in years.\n",
        "\n",
        "Test Data : amt = 10000, int = 3.5, years = 7 Expected Output : 12722.792627665729"
      ],
      "metadata": {
        "id": "e68K6HUpoxZS"
      }
    },
    {
      "cell_type": "code",
      "source": [
        "amount = float(input())\n",
        "interest = float(input())\n",
        "years = float(input())\n",
        "\n",
        "fv = amount * ((1 + 0.01 * interest )) ** years\n",
        "print(round(fv,2))"
      ],
      "metadata": {
        "colab": {
          "base_uri": "https://localhost:8080/"
        },
        "id": "RK_1l6V0oyoS",
        "outputId": "5b709a8d-cc17-4cde-bbfb-51a1ac08c3e1"
      },
      "execution_count": 84,
      "outputs": [
        {
          "output_type": "stream",
          "name": "stdout",
          "text": [
            "10000\n",
            "3.5\n",
            "7\n",
            "12722.79\n"
          ]
        }
      ]
    },
    {
      "cell_type": "markdown",
      "source": [
        "## **Operators in data types**"
      ],
      "metadata": {
        "id": "nOhWbMkvqVH7"
      }
    },
    {
      "cell_type": "markdown",
      "source": [
        "We will now explore each of the following operators in detail.\n",
        "* Arithmetic operators: ➕➖✖️➗\n",
        "\n",
        "\n",
        "* Assignment operators **=**\n",
        "\n",
        "* Comparison operators: **==   !=   <   >   <=   >=**\n",
        "\n",
        "* Logical operators: **🔍and🔍or🔍not**\n",
        "\n",
        "* Identity operators: **✅ is  ❌is not**  \n",
        "\n",
        "* Membership operators: ✅in❌not in\n",
        "\n",
        "* Bitwise operators: **&|⊕~<< >>**"
      ],
      "metadata": {
        "id": "9RCS2J_gvncq"
      }
    },
    {
      "cell_type": "code",
      "source": [
        "x = 3\n",
        "y = 4\n",
        "\n",
        "print(x+y)\n",
        "\n",
        "print(x-y)\n",
        "\n",
        "print(x*y)\n",
        "\n",
        "print(x/y)\n",
        "\n",
        "print(x//y)\n",
        "\n",
        "print(x%y)\n",
        "\n",
        "print(x**y)"
      ],
      "metadata": {
        "colab": {
          "base_uri": "https://localhost:8080/"
        },
        "id": "I4TmESTkqfzS",
        "outputId": "016f4835-794f-4e1a-acda-00b6a31b1999"
      },
      "execution_count": 86,
      "outputs": [
        {
          "output_type": "stream",
          "name": "stdout",
          "text": [
            "7\n",
            "-1\n",
            "12\n",
            "0.75\n",
            "0\n",
            "3\n",
            "81\n"
          ]
        }
      ]
    },
    {
      "cell_type": "markdown",
      "source": [
        "\n",
        "🎉 Let's do some math!\n",
        "\n",
        "* 📐 First up, let's calculate the area of a square with sides that measure 5 cm. 🤔 How much space does this shape occupy?\n",
        "\n",
        "* 🔍 Next, let's find the volume of a cube with sides that measure 12 cm. 📏 How much room does this shape take up?\n",
        "\n",
        "* 🔢 Lastly, we'll find the quotient and remainder when we divide 10 by 4. 🧐 How many times does 4 fit into 10? What's left over?"
      ],
      "metadata": {
        "id": "HNOkGnOhYRdb"
      }
    },
    {
      "cell_type": "code",
      "source": [
        "area = 5**2\n",
        "print(area)\n",
        "\n",
        "volume = 12**3\n",
        "print(volume)\n",
        "\n",
        "quotient = 10//4\n",
        "print(quotient)\n",
        "\n",
        "remainder = 10%4\n",
        "print(remainder)"
      ],
      "metadata": {
        "colab": {
          "base_uri": "https://localhost:8080/"
        },
        "id": "lyPYDsQHrB38",
        "outputId": "06b0e341-8ce7-4284-bc38-c364c74a0858"
      },
      "execution_count": 88,
      "outputs": [
        {
          "output_type": "stream",
          "name": "stdout",
          "text": [
            "25\n",
            "1728\n",
            "2\n",
            "2\n"
          ]
        }
      ]
    },
    {
      "cell_type": "code",
      "source": [
        "x = 3\n",
        "y = 4\n",
        "\n",
        "\n",
        "print(x==y)\n",
        "\n",
        "print(x!=y)\n",
        "\n",
        "print(x<y)\n",
        "\n",
        "print(x>y)\n",
        "\n",
        "print(x<=y)\n",
        "\n",
        "print(x>=y)\n"
      ],
      "metadata": {
        "colab": {
          "base_uri": "https://localhost:8080/"
        },
        "id": "46PvOLTbrmp2",
        "outputId": "bd071830-c081-407e-ddfb-bb85a219a2e7"
      },
      "execution_count": 92,
      "outputs": [
        {
          "output_type": "stream",
          "name": "stdout",
          "text": [
            "False\n",
            "True\n",
            "True\n",
            "False\n",
            "True\n",
            "False\n"
          ]
        }
      ]
    },
    {
      "cell_type": "markdown",
      "source": [
        "📚 Let's practice some comparison operators! Here's a problem for you to solve:\n",
        "\n",
        "🍎 The first basket contains 12 apples, and the second basket contains 8 apples. Use comparison operators to answer the following questions:\n",
        "\n",
        "* Is the number of apples in the first basket greater than the number of apples in the second basket?\n",
        "\n",
        "* Is the number of apples in the second basket less than or equal to the number of apples in the first basket?\n",
        "* Is the number of apples in the first basket equal to the number of apples in the second basket?\n",
        "* Is the number of apples in the second basket not equal to the number of apples in the first basket?\n",
        "\n",
        "Use comparison operators (i.e. >, >=, <, <=, ==, !=) in your code to answer each question. Good luck! 🍎🍏"
      ],
      "metadata": {
        "id": "Ery9mZ2AXj0e"
      }
    },
    {
      "cell_type": "code",
      "source": [
        "basket1 = 12\n",
        "basket2 = 8\n",
        "\n",
        "print(basket1>basket2)\n",
        "\n",
        "print(basket2<=basket1)\n",
        "\n",
        "print(basket1==basket2)\n",
        "\n",
        "print(basket2!=basket1)"
      ],
      "metadata": {
        "colab": {
          "base_uri": "https://localhost:8080/"
        },
        "id": "IwaIhHAmsWo7",
        "outputId": "6d5654d7-b724-4d19-b129-8947610516eb"
      },
      "execution_count": 93,
      "outputs": [
        {
          "output_type": "stream",
          "name": "stdout",
          "text": [
            "True\n",
            "True\n",
            "False\n",
            "True\n"
          ]
        }
      ]
    },
    {
      "cell_type": "markdown",
      "source": [
        "🌴 Are you ready for your trip to Goa? 🌊 You've got two bags with you, and you need to make sure they're light enough to board the flight. Let's use some logical operators to find out if you can make it on time!\n",
        "\n",
        "🧳 One of your bags weighs 15 kg, while the other one weighs only 5 kg. 💪 You know you can pack a lot more in the heavier bag, but you have to be careful not to go over the weight limit.\n",
        "\n",
        "👮‍♀️ The airline has a strict policy that both of your bags must weigh less than 13 kg each. Can you make it on the flight? Let's use logical operators to find out!"
      ],
      "metadata": {
        "id": "7_yNqud-j1TS"
      }
    },
    {
      "cell_type": "code",
      "source": [
        "bag1 = 15\n",
        "bag2 = 5\n",
        "\n",
        "(bag1<=13) and (bag2<=13)"
      ],
      "metadata": {
        "colab": {
          "base_uri": "https://localhost:8080/"
        },
        "id": "m4rzn_sDtp7i",
        "outputId": "50adf66e-87e5-4e44-96b2-5c375a7db9af"
      },
      "execution_count": 94,
      "outputs": [
        {
          "output_type": "execute_result",
          "data": {
            "text/plain": [
              "False"
            ]
          },
          "metadata": {},
          "execution_count": 94
        }
      ]
    },
    {
      "cell_type": "code",
      "source": [
        "print(\"Sorry, You can not go through!\")"
      ],
      "metadata": {
        "id": "MVrOPAkTbRR0",
        "colab": {
          "base_uri": "https://localhost:8080/"
        },
        "outputId": "6e25ff2c-89e7-4146-8712-5b0e11960c61"
      },
      "execution_count": null,
      "outputs": [
        {
          "output_type": "stream",
          "name": "stdout",
          "text": [
            "Sorry, You can not go through!\n"
          ]
        }
      ]
    },
    {
      "cell_type": "markdown",
      "source": [
        "🧳 Uh oh, it looks like we have a problem with our bags! But don't worry, the crew has offered a solution. 😊\n",
        "\n",
        "👨‍✈️ They've said that if at least one of our bags weighs less than 6 kg, we can still board the flight this time. 🛫\n",
        "\n",
        "🤔 Are we ready for the trip or not? Let's use some logical operators to find out!"
      ],
      "metadata": {
        "id": "bF2FQenhZZPq"
      }
    },
    {
      "cell_type": "code",
      "source": [
        "(bag1<6) or (bag2<6)"
      ],
      "metadata": {
        "colab": {
          "base_uri": "https://localhost:8080/"
        },
        "id": "XJbICOVAuBhl",
        "outputId": "98ed67fd-4625-47fe-e318-eab2cf0fbc19"
      },
      "execution_count": 95,
      "outputs": [
        {
          "output_type": "execute_result",
          "data": {
            "text/plain": [
              "True"
            ]
          },
          "metadata": {},
          "execution_count": 95
        }
      ]
    },
    {
      "cell_type": "markdown",
      "source": [
        "## 4. Assignment Operators 📝\n",
        "These are used for assigning values to variables.\n",
        "\n",
        "📝 Assignment operators in Python are used to assign values to variables. They combine the assignment operator (=) with one of the arithmetic or bitwise operators to perform an operation and then assign the result to the variable on the left-hand side. Here are some examples:\n",
        "\n"
      ],
      "metadata": {
        "id": "su0ZhYseWJrL"
      }
    },
    {
      "cell_type": "code",
      "source": [
        "x=5\n",
        "print(x)\n",
        "\n",
        "x += 3\n",
        "print(x)\n",
        "\n",
        "x -= 3\n",
        "print(x)\n",
        "\n",
        "x *= 3\n",
        "print(x)\n",
        "\n",
        "x /= 3\n",
        "print(x)\n",
        "\n",
        "x %= 3\n",
        "print(x)\n",
        "\n",
        "x **= 3\n",
        "print(x)\n",
        "\n",
        "\n"
      ],
      "metadata": {
        "colab": {
          "base_uri": "https://localhost:8080/"
        },
        "id": "cHClZo6juQv7",
        "outputId": "c69d1af1-07d7-4759-e7d7-658093777b12"
      },
      "execution_count": 96,
      "outputs": [
        {
          "output_type": "stream",
          "name": "stdout",
          "text": [
            "5\n",
            "8\n",
            "5\n",
            "15\n",
            "5.0\n",
            "2.0\n",
            "8.0\n"
          ]
        }
      ]
    },
    {
      "cell_type": "markdown",
      "source": [
        "## 5.Membership operators:\n",
        "\n",
        "The membership operators in Python are \"in\" and \"not in\". These operators are used to test if a value is a member of a sequence, such as a string, list, or tuple.\n",
        "\n",
        "🔎 Here's an example: Imagine you have a string called \"sentence\" that contains a sentence. You can use the \"in\" operator to check if a particular word is present in the sentence."
      ],
      "metadata": {
        "id": "ARilOX9NWdZv"
      }
    },
    {
      "cell_type": "code",
      "source": [
        "sentence = \"The quick brown fox jumps over the lazy dog\"\n",
        "print(\"fox\" in sentence)   # True\n",
        "print(\"cat\" in sentence)   # False"
      ],
      "metadata": {
        "colab": {
          "base_uri": "https://localhost:8080/"
        },
        "id": "syy6t8mPu4bk",
        "outputId": "bd93632e-c712-4a36-fbca-9b2bafe86b6b"
      },
      "execution_count": 99,
      "outputs": [
        {
          "output_type": "stream",
          "name": "stdout",
          "text": [
            "True\n",
            "False\n"
          ]
        }
      ]
    },
    {
      "cell_type": "code",
      "source": [
        "print(\"fox\" not in sentence)   # True\n",
        "print(\"cat\" not in sentence)   # False"
      ],
      "metadata": {
        "colab": {
          "base_uri": "https://localhost:8080/"
        },
        "id": "1t2o73SmvDfM",
        "outputId": "123af2cd-4d5d-480d-b002-fd554b058b7b"
      },
      "execution_count": 100,
      "outputs": [
        {
          "output_type": "stream",
          "name": "stdout",
          "text": [
            "False\n",
            "True\n"
          ]
        }
      ]
    },
    {
      "cell_type": "markdown",
      "source": [
        "📚 Imagine that you're a book lover with a collection of lot of books. 🤓\n",
        "\n",
        "🔎 You need to find out how many of your books contain the word \"Python\" in them. 🐍"
      ],
      "metadata": {
        "id": "0yVUrg0NLnxz"
      }
    },
    {
      "cell_type": "code",
      "source": [
        "books = [\n",
        "    \"Python for Data Science Handbook by Jake VanderPlas\",\n",
        "    \"The Pragmatic Programmer by Andrew Hunt and David Thomas\",\n",
        "    \"Python Machine Learning by Sebastian Raschka\",\n",
        "    \"The Alchemist by Paulo Coelho\",\n",
        "]"
      ],
      "metadata": {
        "id": "HE7i9PDDjSLB"
      },
      "execution_count": 103,
      "outputs": []
    },
    {
      "cell_type": "code",
      "source": [
        "count = 0\n",
        "\n",
        "for book in books:\n",
        "  if \"Python\" in book:\n",
        "   count += 1\n",
        "print(count)"
      ],
      "metadata": {
        "colab": {
          "base_uri": "https://localhost:8080/"
        },
        "id": "iTpS1gX6vPuM",
        "outputId": "eccd9d71-32ca-48f7-8ae6-dd54da622eec"
      },
      "execution_count": 114,
      "outputs": [
        {
          "output_type": "stream",
          "name": "stdout",
          "text": [
            "2\n"
          ]
        }
      ]
    },
    {
      "cell_type": "code",
      "source": [
        "list1 = [1,2,3]\n",
        "list2 = [4,5,6]\n",
        "\n",
        "list3 = list1 + list2\n",
        "print(list3)"
      ],
      "metadata": {
        "colab": {
          "base_uri": "https://localhost:8080/"
        },
        "id": "PtpropqsxHtc",
        "outputId": "41f247db-d97d-4e1f-c85f-cbda5dc3d101"
      },
      "execution_count": 115,
      "outputs": [
        {
          "output_type": "stream",
          "name": "stdout",
          "text": [
            "[1, 2, 3, 4, 5, 6]\n"
          ]
        }
      ]
    },
    {
      "cell_type": "code",
      "source": [
        "list1 = [1,2,3]\n",
        "list2 = [4,5,6]\n",
        "\n",
        "list3 = list1 * list2\n",
        "print(list3)"
      ],
      "metadata": {
        "colab": {
          "base_uri": "https://localhost:8080/",
          "height": 193
        },
        "id": "ri6ENtqUxU_D",
        "outputId": "19b5de01-6af3-4746-a88f-233d2f473b54"
      },
      "execution_count": 116,
      "outputs": [
        {
          "output_type": "error",
          "ename": "TypeError",
          "evalue": "can't multiply sequence by non-int of type 'list'",
          "traceback": [
            "\u001b[0;31m---------------------------------------------------------------------------\u001b[0m",
            "\u001b[0;31mTypeError\u001b[0m                                 Traceback (most recent call last)",
            "\u001b[0;32m<ipython-input-116-7a3a9c0c8162>\u001b[0m in \u001b[0;36m<cell line: 4>\u001b[0;34m()\u001b[0m\n\u001b[1;32m      2\u001b[0m \u001b[0mlist2\u001b[0m \u001b[0;34m=\u001b[0m \u001b[0;34m[\u001b[0m\u001b[0;36m4\u001b[0m\u001b[0;34m,\u001b[0m\u001b[0;36m5\u001b[0m\u001b[0;34m,\u001b[0m\u001b[0;36m6\u001b[0m\u001b[0;34m]\u001b[0m\u001b[0;34m\u001b[0m\u001b[0;34m\u001b[0m\u001b[0m\n\u001b[1;32m      3\u001b[0m \u001b[0;34m\u001b[0m\u001b[0m\n\u001b[0;32m----> 4\u001b[0;31m \u001b[0mlist3\u001b[0m \u001b[0;34m=\u001b[0m \u001b[0mlist1\u001b[0m \u001b[0;34m*\u001b[0m \u001b[0mlist2\u001b[0m\u001b[0;34m\u001b[0m\u001b[0;34m\u001b[0m\u001b[0m\n\u001b[0m\u001b[1;32m      5\u001b[0m \u001b[0mprint\u001b[0m\u001b[0;34m(\u001b[0m\u001b[0mlist3\u001b[0m\u001b[0;34m)\u001b[0m\u001b[0;34m\u001b[0m\u001b[0;34m\u001b[0m\u001b[0m\n",
            "\u001b[0;31mTypeError\u001b[0m: can't multiply sequence by non-int of type 'list'"
          ]
        }
      ]
    },
    {
      "cell_type": "code",
      "source": [
        "list1 = [1,2,3]\n",
        "\n",
        "new_list = list1 * 3\n",
        "new_list"
      ],
      "metadata": {
        "colab": {
          "base_uri": "https://localhost:8080/"
        },
        "id": "RVLiux8lxaUO",
        "outputId": "52273c0e-3311-4640-ffee-61eae25e419f"
      },
      "execution_count": 118,
      "outputs": [
        {
          "output_type": "execute_result",
          "data": {
            "text/plain": [
              "[1, 2, 3, 1, 2, 3, 1, 2, 3]"
            ]
          },
          "metadata": {},
          "execution_count": 118
        }
      ]
    },
    {
      "cell_type": "code",
      "source": [
        "tup1 = (1,2,3)\n",
        "tup2 = (1,2,3)\n",
        "tup3 = (1,2,3)\n",
        "\n",
        "tup = tup1 + tup2 + tup3\n",
        "\n",
        "print(tup)"
      ],
      "metadata": {
        "colab": {
          "base_uri": "https://localhost:8080/"
        },
        "id": "-n1w65mbxduM",
        "outputId": "11adef27-a6d7-4028-d85a-c072b6b8d9ff"
      },
      "execution_count": 119,
      "outputs": [
        {
          "output_type": "stream",
          "name": "stdout",
          "text": [
            "(1, 2, 3, 1, 2, 3, 1, 2, 3)\n"
          ]
        }
      ]
    },
    {
      "cell_type": "code",
      "source": [
        "tup1 = (1,2,3)\n",
        "tup1*3"
      ],
      "metadata": {
        "colab": {
          "base_uri": "https://localhost:8080/"
        },
        "id": "UAGTTWfMxuaw",
        "outputId": "a2d2a64b-76df-4a33-8694-e39fe099f1f7"
      },
      "execution_count": 120,
      "outputs": [
        {
          "output_type": "execute_result",
          "data": {
            "text/plain": [
              "(1, 2, 3, 1, 2, 3, 1, 2, 3)"
            ]
          },
          "metadata": {},
          "execution_count": 120
        }
      ]
    },
    {
      "cell_type": "code",
      "source": [
        "string1 = \"Tilak\"\n",
        "string2 = \"R\"\n",
        "\n",
        "string3 = string1 + \" \" + string2\n",
        "print(string3)"
      ],
      "metadata": {
        "colab": {
          "base_uri": "https://localhost:8080/"
        },
        "id": "x8mjX_HmxxPq",
        "outputId": "3ed828c6-da54-4f90-ca9b-b4fc23c6985d"
      },
      "execution_count": 121,
      "outputs": [
        {
          "output_type": "stream",
          "name": "stdout",
          "text": [
            "Tilak R\n"
          ]
        }
      ]
    },
    {
      "cell_type": "markdown",
      "source": [
        "Dictionary\n",
        "🔍 To manipulate dictionaries in Python, there are various methods and operators available. Here are some commonly used ones:\n",
        "\n",
        "Removing elements: Use the del keyword with the key to remove an element from the dictionary."
      ],
      "metadata": {
        "id": "JQt2J7RByLvT"
      }
    },
    {
      "cell_type": "code",
      "source": [
        "my_dict = {\"apple\": 2, \"banana\": 3, \"cherry\": 4}\n",
        "del my_dict[\"banana\"]\n",
        "print(my_dict) # Output: {\"apple\": 2, \"cherry\": 4}\n"
      ],
      "metadata": {
        "id": "G2iqcEOu-lz3",
        "colab": {
          "base_uri": "https://localhost:8080/"
        },
        "outputId": "2f2e1415-683d-4b7c-c3b4-3571f18e8c2a"
      },
      "execution_count": 122,
      "outputs": [
        {
          "output_type": "stream",
          "name": "stdout",
          "text": [
            "{'apple': 2, 'cherry': 4}\n"
          ]
        }
      ]
    },
    {
      "cell_type": "code",
      "source": [
        "my_dict = {\"apple\": 2, \"banana\": 3, \"cherry\": 4}\n",
        "del my_dict[\"apple\"]\n",
        "print(my_dict)"
      ],
      "metadata": {
        "colab": {
          "base_uri": "https://localhost:8080/"
        },
        "id": "aY8pnNvByQZS",
        "outputId": "27dbec58-da56-458b-8fdd-54393520a7f0"
      },
      "execution_count": 126,
      "outputs": [
        {
          "output_type": "stream",
          "name": "stdout",
          "text": [
            "{'banana': 3, 'cherry': 4}\n"
          ]
        }
      ]
    },
    {
      "cell_type": "code",
      "source": [
        "my_dict = {\"apple\": 2, \"banana\": 3, \"cherry\": 4}\n",
        "my_dict.pop(\"apple\")\n",
        "print(my_dict)"
      ],
      "metadata": {
        "colab": {
          "base_uri": "https://localhost:8080/"
        },
        "id": "7j5jGBkwyXcT",
        "outputId": "1d4aed7f-6339-4df0-82a0-ee006c981171"
      },
      "execution_count": 127,
      "outputs": [
        {
          "output_type": "stream",
          "name": "stdout",
          "text": [
            "{'banana': 3, 'cherry': 4}\n"
          ]
        }
      ]
    },
    {
      "cell_type": "code",
      "source": [
        "my_dict = {\"apple\": 2, \"banana\": 3, \"cherry\": 4}\n",
        "new_dict = my_dict.copy()\n",
        "print(new_dict)"
      ],
      "metadata": {
        "colab": {
          "base_uri": "https://localhost:8080/"
        },
        "id": "0eBVGI7tyrSd",
        "outputId": "28f5fb25-d6d6-4093-af90-8123e13d4859"
      },
      "execution_count": 128,
      "outputs": [
        {
          "output_type": "stream",
          "name": "stdout",
          "text": [
            "{'apple': 2, 'banana': 3, 'cherry': 4}\n"
          ]
        }
      ]
    },
    {
      "cell_type": "code",
      "source": [
        "clear = new_dict.clear()\n",
        "print(clear)"
      ],
      "metadata": {
        "colab": {
          "base_uri": "https://localhost:8080/"
        },
        "id": "iQ4X0d1KyyHL",
        "outputId": "74fd6217-5e6f-4522-99fb-f3c2f47b1c5f"
      },
      "execution_count": 132,
      "outputs": [
        {
          "output_type": "stream",
          "name": "stdout",
          "text": [
            "None\n"
          ]
        }
      ]
    },
    {
      "cell_type": "markdown",
      "source": [
        "🔍 Sets in Python are unordered collection of unique elements.\n",
        "\n",
        "🧰 Sets have their own set of methods and operators. The most common operators used with sets include:\n",
        "\n",
        "* **Union operator (|)**, returns a new set with all the elements from both sets\n",
        "* **Intersection operator (&)**, returns a new set with only the common elements between both sets\n",
        "* **Difference operator (-)**, returns a new set with only the elements from the first set that are not in the second set\n",
        "\n",
        "and many more..."
      ],
      "metadata": {
        "id": "00GjlFTvU1Bu"
      }
    },
    {
      "cell_type": "code",
      "source": [
        "set_a = {1, 2, 3}\n",
        "set_b = {2, 3, 4}\n",
        "\n",
        "print(set_a | set_b) # union\n",
        "\n",
        "print(set_a & set_b) #intersection\n",
        "\n",
        "print(set_a - set_b) #difference\n",
        "\n",
        "print(set_b - set_a) #difference"
      ],
      "metadata": {
        "colab": {
          "base_uri": "https://localhost:8080/"
        },
        "id": "3BNNNXwazDaU",
        "outputId": "1e54743e-85a8-43ae-8093-f0dcfe48649c"
      },
      "execution_count": 134,
      "outputs": [
        {
          "output_type": "stream",
          "name": "stdout",
          "text": [
            "{1, 2, 3, 4}\n",
            "{2, 3}\n",
            "{1}\n",
            "{4}\n"
          ]
        }
      ]
    },
    {
      "cell_type": "markdown",
      "source": [
        "Write a Python program to find the length of a set."
      ],
      "metadata": {
        "id": "GtwvW0Twzytc"
      }
    },
    {
      "cell_type": "code",
      "source": [
        "sent = eval(input())\n",
        "\n",
        "length = len(sent)\n",
        "\n",
        "print(length)"
      ],
      "metadata": {
        "colab": {
          "base_uri": "https://localhost:8080/"
        },
        "id": "MccnY2Bfzzbr",
        "outputId": "4f031c06-1c7c-4a80-d519-35f6c8066a8f"
      },
      "execution_count": 138,
      "outputs": [
        {
          "output_type": "stream",
          "name": "stdout",
          "text": [
            "{1, 2, 'find', 'look', 'seek'}\n",
            "5\n"
          ]
        }
      ]
    },
    {
      "cell_type": "markdown",
      "source": [
        "Write a Python program to add a key to a dictionary."
      ],
      "metadata": {
        "id": "4hMsIdV10brx"
      }
    },
    {
      "cell_type": "code",
      "source": [
        "dictt = {'name': 'xyz', 'age': 27, 'salary': 50000}\n",
        "new_dict = dictt.update({'manager': 'abc'})\n",
        "print(dictt)"
      ],
      "metadata": {
        "colab": {
          "base_uri": "https://localhost:8080/"
        },
        "id": "st_t0P_B0cNN",
        "outputId": "85b1cfcc-264e-489b-898b-9cd1781bf0fc"
      },
      "execution_count": 141,
      "outputs": [
        {
          "output_type": "stream",
          "name": "stdout",
          "text": [
            "{'name': 'xyz', 'age': 27, 'salary': 50000, 'manager': 'abc'}\n"
          ]
        }
      ]
    },
    {
      "cell_type": "code",
      "source": [
        "dicts = eval(input())\n",
        "new_word = eval(input())\n",
        "\n",
        "new_dicts = dicts.update(new_word)\n",
        "print(dicts)"
      ],
      "metadata": {
        "colab": {
          "base_uri": "https://localhost:8080/"
        },
        "id": "XslgnQ-a0s0W",
        "outputId": "6e4d0536-ce74-49a2-c96d-0967b240c253"
      },
      "execution_count": 142,
      "outputs": [
        {
          "output_type": "stream",
          "name": "stdout",
          "text": [
            "{'name': 'xyz', 'age': 27, 'salary': 50000}\n",
            "{'manager': 'abc'}\n",
            "{'name': 'xyz', 'age': 27, 'salary': 50000, 'manager': 'abc'}\n"
          ]
        }
      ]
    },
    {
      "cell_type": "markdown",
      "source": [
        "Remove item from tuple\n",
        "\n",
        "Write a Python program to remove an item from a tuple."
      ],
      "metadata": {
        "id": "FycbtaRY1UVk"
      }
    },
    {
      "cell_type": "code",
      "source": [
        "tup = list(('a', 'b', 'c', 'd', 'e','f','g'))\n",
        "new_tup = tup.remove('f')\n",
        "print(tup)"
      ],
      "metadata": {
        "colab": {
          "base_uri": "https://localhost:8080/"
        },
        "id": "tOApChzc1Jse",
        "outputId": "ab3a75d6-b970-4f22-fd01-41deebbce078"
      },
      "execution_count": 146,
      "outputs": [
        {
          "output_type": "stream",
          "name": "stdout",
          "text": [
            "['a', 'b', 'c', 'd', 'e', 'g']\n"
          ]
        }
      ]
    },
    {
      "cell_type": "code",
      "source": [
        "new_tup = tup[:5] + tup[6:]\n",
        "new_tup"
      ],
      "metadata": {
        "colab": {
          "base_uri": "https://localhost:8080/"
        },
        "id": "rHeWnOB_1_M8",
        "outputId": "d022886a-6fda-4e50-f357-363ec4dee526"
      },
      "execution_count": 147,
      "outputs": [
        {
          "output_type": "execute_result",
          "data": {
            "text/plain": [
              "['a', 'b', 'c', 'd', 'e']"
            ]
          },
          "metadata": {},
          "execution_count": 147
        }
      ]
    }
  ]
}